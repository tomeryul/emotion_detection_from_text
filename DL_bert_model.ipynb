{
  "metadata": {
    "kernelspec": {
      "language": "python",
      "display_name": "Python 3",
      "name": "python3"
    },
    "language_info": {
      "name": "python",
      "version": "3.7.12",
      "mimetype": "text/x-python",
      "codemirror_mode": {
        "name": "ipython",
        "version": 3
      },
      "pygments_lexer": "ipython3",
      "nbconvert_exporter": "python",
      "file_extension": ".py"
    },
    "colab": {
      "provenance": []
    },
    "widgets": {
      "application/vnd.jupyter.widget-state+json": {
        "1f2c47dc853e4751a9130eff68641673": {
          "model_module": "@jupyter-widgets/controls",
          "model_name": "HBoxModel",
          "model_module_version": "1.5.0",
          "state": {
            "_dom_classes": [],
            "_model_module": "@jupyter-widgets/controls",
            "_model_module_version": "1.5.0",
            "_model_name": "HBoxModel",
            "_view_count": null,
            "_view_module": "@jupyter-widgets/controls",
            "_view_module_version": "1.5.0",
            "_view_name": "HBoxView",
            "box_style": "",
            "children": [
              "IPY_MODEL_9abeb6cb2cbe419fae370df4e4b39c24",
              "IPY_MODEL_c9fd6685e0ef4e32977e2a2941ef654b",
              "IPY_MODEL_046b30dcf74a4832882737344610c13a"
            ],
            "layout": "IPY_MODEL_b59cf3d5c6024aeaaa0edc92ad41ebdd"
          }
        },
        "9abeb6cb2cbe419fae370df4e4b39c24": {
          "model_module": "@jupyter-widgets/controls",
          "model_name": "HTMLModel",
          "model_module_version": "1.5.0",
          "state": {
            "_dom_classes": [],
            "_model_module": "@jupyter-widgets/controls",
            "_model_module_version": "1.5.0",
            "_model_name": "HTMLModel",
            "_view_count": null,
            "_view_module": "@jupyter-widgets/controls",
            "_view_module_version": "1.5.0",
            "_view_name": "HTMLView",
            "description": "",
            "description_tooltip": null,
            "layout": "IPY_MODEL_8a128a5226774052b265209038ac8716",
            "placeholder": "​",
            "style": "IPY_MODEL_afcab76e213745ceafd9126c6fb4fad0",
            "value": "100%"
          }
        },
        "c9fd6685e0ef4e32977e2a2941ef654b": {
          "model_module": "@jupyter-widgets/controls",
          "model_name": "FloatProgressModel",
          "model_module_version": "1.5.0",
          "state": {
            "_dom_classes": [],
            "_model_module": "@jupyter-widgets/controls",
            "_model_module_version": "1.5.0",
            "_model_name": "FloatProgressModel",
            "_view_count": null,
            "_view_module": "@jupyter-widgets/controls",
            "_view_module_version": "1.5.0",
            "_view_name": "ProgressView",
            "bar_style": "success",
            "description": "",
            "description_tooltip": null,
            "layout": "IPY_MODEL_55859226d7274243820e624881535401",
            "max": 7480,
            "min": 0,
            "orientation": "horizontal",
            "style": "IPY_MODEL_2643b64c393946feb465cad76e6d2533",
            "value": 7480
          }
        },
        "046b30dcf74a4832882737344610c13a": {
          "model_module": "@jupyter-widgets/controls",
          "model_name": "HTMLModel",
          "model_module_version": "1.5.0",
          "state": {
            "_dom_classes": [],
            "_model_module": "@jupyter-widgets/controls",
            "_model_module_version": "1.5.0",
            "_model_name": "HTMLModel",
            "_view_count": null,
            "_view_module": "@jupyter-widgets/controls",
            "_view_module_version": "1.5.0",
            "_view_name": "HTMLView",
            "description": "",
            "description_tooltip": null,
            "layout": "IPY_MODEL_6474d01aefcf46e2920efffda7fde609",
            "placeholder": "​",
            "style": "IPY_MODEL_31c79662acf045ed903637bdfb2fce78",
            "value": " 7480/7480 [00:00&lt;00:00, 161856.19it/s]"
          }
        },
        "b59cf3d5c6024aeaaa0edc92ad41ebdd": {
          "model_module": "@jupyter-widgets/base",
          "model_name": "LayoutModel",
          "model_module_version": "1.2.0",
          "state": {
            "_model_module": "@jupyter-widgets/base",
            "_model_module_version": "1.2.0",
            "_model_name": "LayoutModel",
            "_view_count": null,
            "_view_module": "@jupyter-widgets/base",
            "_view_module_version": "1.2.0",
            "_view_name": "LayoutView",
            "align_content": null,
            "align_items": null,
            "align_self": null,
            "border": null,
            "bottom": null,
            "display": null,
            "flex": null,
            "flex_flow": null,
            "grid_area": null,
            "grid_auto_columns": null,
            "grid_auto_flow": null,
            "grid_auto_rows": null,
            "grid_column": null,
            "grid_gap": null,
            "grid_row": null,
            "grid_template_areas": null,
            "grid_template_columns": null,
            "grid_template_rows": null,
            "height": null,
            "justify_content": null,
            "justify_items": null,
            "left": null,
            "margin": null,
            "max_height": null,
            "max_width": null,
            "min_height": null,
            "min_width": null,
            "object_fit": null,
            "object_position": null,
            "order": null,
            "overflow": null,
            "overflow_x": null,
            "overflow_y": null,
            "padding": null,
            "right": null,
            "top": null,
            "visibility": null,
            "width": null
          }
        },
        "8a128a5226774052b265209038ac8716": {
          "model_module": "@jupyter-widgets/base",
          "model_name": "LayoutModel",
          "model_module_version": "1.2.0",
          "state": {
            "_model_module": "@jupyter-widgets/base",
            "_model_module_version": "1.2.0",
            "_model_name": "LayoutModel",
            "_view_count": null,
            "_view_module": "@jupyter-widgets/base",
            "_view_module_version": "1.2.0",
            "_view_name": "LayoutView",
            "align_content": null,
            "align_items": null,
            "align_self": null,
            "border": null,
            "bottom": null,
            "display": null,
            "flex": null,
            "flex_flow": null,
            "grid_area": null,
            "grid_auto_columns": null,
            "grid_auto_flow": null,
            "grid_auto_rows": null,
            "grid_column": null,
            "grid_gap": null,
            "grid_row": null,
            "grid_template_areas": null,
            "grid_template_columns": null,
            "grid_template_rows": null,
            "height": null,
            "justify_content": null,
            "justify_items": null,
            "left": null,
            "margin": null,
            "max_height": null,
            "max_width": null,
            "min_height": null,
            "min_width": null,
            "object_fit": null,
            "object_position": null,
            "order": null,
            "overflow": null,
            "overflow_x": null,
            "overflow_y": null,
            "padding": null,
            "right": null,
            "top": null,
            "visibility": null,
            "width": null
          }
        },
        "afcab76e213745ceafd9126c6fb4fad0": {
          "model_module": "@jupyter-widgets/controls",
          "model_name": "DescriptionStyleModel",
          "model_module_version": "1.5.0",
          "state": {
            "_model_module": "@jupyter-widgets/controls",
            "_model_module_version": "1.5.0",
            "_model_name": "DescriptionStyleModel",
            "_view_count": null,
            "_view_module": "@jupyter-widgets/base",
            "_view_module_version": "1.2.0",
            "_view_name": "StyleView",
            "description_width": ""
          }
        },
        "55859226d7274243820e624881535401": {
          "model_module": "@jupyter-widgets/base",
          "model_name": "LayoutModel",
          "model_module_version": "1.2.0",
          "state": {
            "_model_module": "@jupyter-widgets/base",
            "_model_module_version": "1.2.0",
            "_model_name": "LayoutModel",
            "_view_count": null,
            "_view_module": "@jupyter-widgets/base",
            "_view_module_version": "1.2.0",
            "_view_name": "LayoutView",
            "align_content": null,
            "align_items": null,
            "align_self": null,
            "border": null,
            "bottom": null,
            "display": null,
            "flex": null,
            "flex_flow": null,
            "grid_area": null,
            "grid_auto_columns": null,
            "grid_auto_flow": null,
            "grid_auto_rows": null,
            "grid_column": null,
            "grid_gap": null,
            "grid_row": null,
            "grid_template_areas": null,
            "grid_template_columns": null,
            "grid_template_rows": null,
            "height": null,
            "justify_content": null,
            "justify_items": null,
            "left": null,
            "margin": null,
            "max_height": null,
            "max_width": null,
            "min_height": null,
            "min_width": null,
            "object_fit": null,
            "object_position": null,
            "order": null,
            "overflow": null,
            "overflow_x": null,
            "overflow_y": null,
            "padding": null,
            "right": null,
            "top": null,
            "visibility": null,
            "width": null
          }
        },
        "2643b64c393946feb465cad76e6d2533": {
          "model_module": "@jupyter-widgets/controls",
          "model_name": "ProgressStyleModel",
          "model_module_version": "1.5.0",
          "state": {
            "_model_module": "@jupyter-widgets/controls",
            "_model_module_version": "1.5.0",
            "_model_name": "ProgressStyleModel",
            "_view_count": null,
            "_view_module": "@jupyter-widgets/base",
            "_view_module_version": "1.2.0",
            "_view_name": "StyleView",
            "bar_color": null,
            "description_width": ""
          }
        },
        "6474d01aefcf46e2920efffda7fde609": {
          "model_module": "@jupyter-widgets/base",
          "model_name": "LayoutModel",
          "model_module_version": "1.2.0",
          "state": {
            "_model_module": "@jupyter-widgets/base",
            "_model_module_version": "1.2.0",
            "_model_name": "LayoutModel",
            "_view_count": null,
            "_view_module": "@jupyter-widgets/base",
            "_view_module_version": "1.2.0",
            "_view_name": "LayoutView",
            "align_content": null,
            "align_items": null,
            "align_self": null,
            "border": null,
            "bottom": null,
            "display": null,
            "flex": null,
            "flex_flow": null,
            "grid_area": null,
            "grid_auto_columns": null,
            "grid_auto_flow": null,
            "grid_auto_rows": null,
            "grid_column": null,
            "grid_gap": null,
            "grid_row": null,
            "grid_template_areas": null,
            "grid_template_columns": null,
            "grid_template_rows": null,
            "height": null,
            "justify_content": null,
            "justify_items": null,
            "left": null,
            "margin": null,
            "max_height": null,
            "max_width": null,
            "min_height": null,
            "min_width": null,
            "object_fit": null,
            "object_position": null,
            "order": null,
            "overflow": null,
            "overflow_x": null,
            "overflow_y": null,
            "padding": null,
            "right": null,
            "top": null,
            "visibility": null,
            "width": null
          }
        },
        "31c79662acf045ed903637bdfb2fce78": {
          "model_module": "@jupyter-widgets/controls",
          "model_name": "DescriptionStyleModel",
          "model_module_version": "1.5.0",
          "state": {
            "_model_module": "@jupyter-widgets/controls",
            "_model_module_version": "1.5.0",
            "_model_name": "DescriptionStyleModel",
            "_view_count": null,
            "_view_module": "@jupyter-widgets/base",
            "_view_module_version": "1.2.0",
            "_view_name": "StyleView",
            "description_width": ""
          }
        },
        "c2c915d176f64e83b5e8dc12dcd87b93": {
          "model_module": "@jupyter-widgets/controls",
          "model_name": "HBoxModel",
          "model_module_version": "1.5.0",
          "state": {
            "_dom_classes": [],
            "_model_module": "@jupyter-widgets/controls",
            "_model_module_version": "1.5.0",
            "_model_name": "HBoxModel",
            "_view_count": null,
            "_view_module": "@jupyter-widgets/controls",
            "_view_module_version": "1.5.0",
            "_view_name": "HBoxView",
            "box_style": "",
            "children": [
              "IPY_MODEL_ee445792930c41829496f9a6b61ed9ff",
              "IPY_MODEL_0399d4a944e048658de6257394a7cccd",
              "IPY_MODEL_37917260cbbb4636ac31cf4ec8231f72"
            ],
            "layout": "IPY_MODEL_b2217b0774404301b5431861dfebb9b0"
          }
        },
        "ee445792930c41829496f9a6b61ed9ff": {
          "model_module": "@jupyter-widgets/controls",
          "model_name": "HTMLModel",
          "model_module_version": "1.5.0",
          "state": {
            "_dom_classes": [],
            "_model_module": "@jupyter-widgets/controls",
            "_model_module_version": "1.5.0",
            "_model_name": "HTMLModel",
            "_view_count": null,
            "_view_module": "@jupyter-widgets/controls",
            "_view_module_version": "1.5.0",
            "_view_name": "HTMLView",
            "description": "",
            "description_tooltip": null,
            "layout": "IPY_MODEL_be9bbf142dea4802a5b8355c8bd8a366",
            "placeholder": "​",
            "style": "IPY_MODEL_17ad41370b244713b7baa2b76e0fd3fd",
            "value": "100%"
          }
        },
        "0399d4a944e048658de6257394a7cccd": {
          "model_module": "@jupyter-widgets/controls",
          "model_name": "FloatProgressModel",
          "model_module_version": "1.5.0",
          "state": {
            "_dom_classes": [],
            "_model_module": "@jupyter-widgets/controls",
            "_model_module_version": "1.5.0",
            "_model_name": "FloatProgressModel",
            "_view_count": null,
            "_view_module": "@jupyter-widgets/controls",
            "_view_module_version": "1.5.0",
            "_view_name": "ProgressView",
            "bar_style": "success",
            "description": "",
            "description_tooltip": null,
            "layout": "IPY_MODEL_a3af610506b848eb9f1658f8c96eb7c8",
            "max": 7480,
            "min": 0,
            "orientation": "horizontal",
            "style": "IPY_MODEL_3e2a21d863ca47d58a1e0616a6d15d36",
            "value": 7480
          }
        },
        "37917260cbbb4636ac31cf4ec8231f72": {
          "model_module": "@jupyter-widgets/controls",
          "model_name": "HTMLModel",
          "model_module_version": "1.5.0",
          "state": {
            "_dom_classes": [],
            "_model_module": "@jupyter-widgets/controls",
            "_model_module_version": "1.5.0",
            "_model_name": "HTMLModel",
            "_view_count": null,
            "_view_module": "@jupyter-widgets/controls",
            "_view_module_version": "1.5.0",
            "_view_name": "HTMLView",
            "description": "",
            "description_tooltip": null,
            "layout": "IPY_MODEL_c89b467f281c47febecc8dd6cb42f105",
            "placeholder": "​",
            "style": "IPY_MODEL_90fdd70b1b7f46219bf8f6635ddf84dc",
            "value": " 7480/7480 [00:25&lt;00:00, 135.82it/s]"
          }
        },
        "b2217b0774404301b5431861dfebb9b0": {
          "model_module": "@jupyter-widgets/base",
          "model_name": "LayoutModel",
          "model_module_version": "1.2.0",
          "state": {
            "_model_module": "@jupyter-widgets/base",
            "_model_module_version": "1.2.0",
            "_model_name": "LayoutModel",
            "_view_count": null,
            "_view_module": "@jupyter-widgets/base",
            "_view_module_version": "1.2.0",
            "_view_name": "LayoutView",
            "align_content": null,
            "align_items": null,
            "align_self": null,
            "border": null,
            "bottom": null,
            "display": null,
            "flex": null,
            "flex_flow": null,
            "grid_area": null,
            "grid_auto_columns": null,
            "grid_auto_flow": null,
            "grid_auto_rows": null,
            "grid_column": null,
            "grid_gap": null,
            "grid_row": null,
            "grid_template_areas": null,
            "grid_template_columns": null,
            "grid_template_rows": null,
            "height": null,
            "justify_content": null,
            "justify_items": null,
            "left": null,
            "margin": null,
            "max_height": null,
            "max_width": null,
            "min_height": null,
            "min_width": null,
            "object_fit": null,
            "object_position": null,
            "order": null,
            "overflow": null,
            "overflow_x": null,
            "overflow_y": null,
            "padding": null,
            "right": null,
            "top": null,
            "visibility": null,
            "width": null
          }
        },
        "be9bbf142dea4802a5b8355c8bd8a366": {
          "model_module": "@jupyter-widgets/base",
          "model_name": "LayoutModel",
          "model_module_version": "1.2.0",
          "state": {
            "_model_module": "@jupyter-widgets/base",
            "_model_module_version": "1.2.0",
            "_model_name": "LayoutModel",
            "_view_count": null,
            "_view_module": "@jupyter-widgets/base",
            "_view_module_version": "1.2.0",
            "_view_name": "LayoutView",
            "align_content": null,
            "align_items": null,
            "align_self": null,
            "border": null,
            "bottom": null,
            "display": null,
            "flex": null,
            "flex_flow": null,
            "grid_area": null,
            "grid_auto_columns": null,
            "grid_auto_flow": null,
            "grid_auto_rows": null,
            "grid_column": null,
            "grid_gap": null,
            "grid_row": null,
            "grid_template_areas": null,
            "grid_template_columns": null,
            "grid_template_rows": null,
            "height": null,
            "justify_content": null,
            "justify_items": null,
            "left": null,
            "margin": null,
            "max_height": null,
            "max_width": null,
            "min_height": null,
            "min_width": null,
            "object_fit": null,
            "object_position": null,
            "order": null,
            "overflow": null,
            "overflow_x": null,
            "overflow_y": null,
            "padding": null,
            "right": null,
            "top": null,
            "visibility": null,
            "width": null
          }
        },
        "17ad41370b244713b7baa2b76e0fd3fd": {
          "model_module": "@jupyter-widgets/controls",
          "model_name": "DescriptionStyleModel",
          "model_module_version": "1.5.0",
          "state": {
            "_model_module": "@jupyter-widgets/controls",
            "_model_module_version": "1.5.0",
            "_model_name": "DescriptionStyleModel",
            "_view_count": null,
            "_view_module": "@jupyter-widgets/base",
            "_view_module_version": "1.2.0",
            "_view_name": "StyleView",
            "description_width": ""
          }
        },
        "a3af610506b848eb9f1658f8c96eb7c8": {
          "model_module": "@jupyter-widgets/base",
          "model_name": "LayoutModel",
          "model_module_version": "1.2.0",
          "state": {
            "_model_module": "@jupyter-widgets/base",
            "_model_module_version": "1.2.0",
            "_model_name": "LayoutModel",
            "_view_count": null,
            "_view_module": "@jupyter-widgets/base",
            "_view_module_version": "1.2.0",
            "_view_name": "LayoutView",
            "align_content": null,
            "align_items": null,
            "align_self": null,
            "border": null,
            "bottom": null,
            "display": null,
            "flex": null,
            "flex_flow": null,
            "grid_area": null,
            "grid_auto_columns": null,
            "grid_auto_flow": null,
            "grid_auto_rows": null,
            "grid_column": null,
            "grid_gap": null,
            "grid_row": null,
            "grid_template_areas": null,
            "grid_template_columns": null,
            "grid_template_rows": null,
            "height": null,
            "justify_content": null,
            "justify_items": null,
            "left": null,
            "margin": null,
            "max_height": null,
            "max_width": null,
            "min_height": null,
            "min_width": null,
            "object_fit": null,
            "object_position": null,
            "order": null,
            "overflow": null,
            "overflow_x": null,
            "overflow_y": null,
            "padding": null,
            "right": null,
            "top": null,
            "visibility": null,
            "width": null
          }
        },
        "3e2a21d863ca47d58a1e0616a6d15d36": {
          "model_module": "@jupyter-widgets/controls",
          "model_name": "ProgressStyleModel",
          "model_module_version": "1.5.0",
          "state": {
            "_model_module": "@jupyter-widgets/controls",
            "_model_module_version": "1.5.0",
            "_model_name": "ProgressStyleModel",
            "_view_count": null,
            "_view_module": "@jupyter-widgets/base",
            "_view_module_version": "1.2.0",
            "_view_name": "StyleView",
            "bar_color": null,
            "description_width": ""
          }
        },
        "c89b467f281c47febecc8dd6cb42f105": {
          "model_module": "@jupyter-widgets/base",
          "model_name": "LayoutModel",
          "model_module_version": "1.2.0",
          "state": {
            "_model_module": "@jupyter-widgets/base",
            "_model_module_version": "1.2.0",
            "_model_name": "LayoutModel",
            "_view_count": null,
            "_view_module": "@jupyter-widgets/base",
            "_view_module_version": "1.2.0",
            "_view_name": "LayoutView",
            "align_content": null,
            "align_items": null,
            "align_self": null,
            "border": null,
            "bottom": null,
            "display": null,
            "flex": null,
            "flex_flow": null,
            "grid_area": null,
            "grid_auto_columns": null,
            "grid_auto_flow": null,
            "grid_auto_rows": null,
            "grid_column": null,
            "grid_gap": null,
            "grid_row": null,
            "grid_template_areas": null,
            "grid_template_columns": null,
            "grid_template_rows": null,
            "height": null,
            "justify_content": null,
            "justify_items": null,
            "left": null,
            "margin": null,
            "max_height": null,
            "max_width": null,
            "min_height": null,
            "min_width": null,
            "object_fit": null,
            "object_position": null,
            "order": null,
            "overflow": null,
            "overflow_x": null,
            "overflow_y": null,
            "padding": null,
            "right": null,
            "top": null,
            "visibility": null,
            "width": null
          }
        },
        "90fdd70b1b7f46219bf8f6635ddf84dc": {
          "model_module": "@jupyter-widgets/controls",
          "model_name": "DescriptionStyleModel",
          "model_module_version": "1.5.0",
          "state": {
            "_model_module": "@jupyter-widgets/controls",
            "_model_module_version": "1.5.0",
            "_model_name": "DescriptionStyleModel",
            "_view_count": null,
            "_view_module": "@jupyter-widgets/base",
            "_view_module_version": "1.2.0",
            "_view_name": "StyleView",
            "description_width": ""
          }
        },
        "09ed6db8b1984b2ead1051c8ded57cd0": {
          "model_module": "@jupyter-widgets/controls",
          "model_name": "HBoxModel",
          "model_module_version": "1.5.0",
          "state": {
            "_dom_classes": [],
            "_model_module": "@jupyter-widgets/controls",
            "_model_module_version": "1.5.0",
            "_model_name": "HBoxModel",
            "_view_count": null,
            "_view_module": "@jupyter-widgets/controls",
            "_view_module_version": "1.5.0",
            "_view_name": "HBoxView",
            "box_style": "",
            "children": [
              "IPY_MODEL_16b8eda7744d4d94ad3c1df1322e9411",
              "IPY_MODEL_a92c5d4d56c84bc998830305c6908946",
              "IPY_MODEL_4f1a7d4c673749ccade9cb36f4a23aa6"
            ],
            "layout": "IPY_MODEL_fadacfaedcf941d0968e3373ae32a6ef"
          }
        },
        "16b8eda7744d4d94ad3c1df1322e9411": {
          "model_module": "@jupyter-widgets/controls",
          "model_name": "HTMLModel",
          "model_module_version": "1.5.0",
          "state": {
            "_dom_classes": [],
            "_model_module": "@jupyter-widgets/controls",
            "_model_module_version": "1.5.0",
            "_model_name": "HTMLModel",
            "_view_count": null,
            "_view_module": "@jupyter-widgets/controls",
            "_view_module_version": "1.5.0",
            "_view_name": "HTMLView",
            "description": "",
            "description_tooltip": null,
            "layout": "IPY_MODEL_f19b8be93ab14c02bcc1d17aab58d112",
            "placeholder": "​",
            "style": "IPY_MODEL_f56aa333609f41be8a5ca54bd0ad39c3",
            "value": "100%"
          }
        },
        "a92c5d4d56c84bc998830305c6908946": {
          "model_module": "@jupyter-widgets/controls",
          "model_name": "FloatProgressModel",
          "model_module_version": "1.5.0",
          "state": {
            "_dom_classes": [],
            "_model_module": "@jupyter-widgets/controls",
            "_model_module_version": "1.5.0",
            "_model_name": "FloatProgressModel",
            "_view_count": null,
            "_view_module": "@jupyter-widgets/controls",
            "_view_module_version": "1.5.0",
            "_view_name": "ProgressView",
            "bar_style": "success",
            "description": "",
            "description_tooltip": null,
            "layout": "IPY_MODEL_dcd1e25e71aa4877b9e4eda5a4f32f62",
            "max": 7480,
            "min": 0,
            "orientation": "horizontal",
            "style": "IPY_MODEL_2ae3b78f7a5a486f80b492b6258d173a",
            "value": 7480
          }
        },
        "4f1a7d4c673749ccade9cb36f4a23aa6": {
          "model_module": "@jupyter-widgets/controls",
          "model_name": "HTMLModel",
          "model_module_version": "1.5.0",
          "state": {
            "_dom_classes": [],
            "_model_module": "@jupyter-widgets/controls",
            "_model_module_version": "1.5.0",
            "_model_name": "HTMLModel",
            "_view_count": null,
            "_view_module": "@jupyter-widgets/controls",
            "_view_module_version": "1.5.0",
            "_view_name": "HTMLView",
            "description": "",
            "description_tooltip": null,
            "layout": "IPY_MODEL_6a0d79d244c043db84db670134bff387",
            "placeholder": "​",
            "style": "IPY_MODEL_1eeeda345dc046c0a8d00e851f45f6b1",
            "value": " 7480/7480 [00:00&lt;00:00, 25804.25it/s]"
          }
        },
        "fadacfaedcf941d0968e3373ae32a6ef": {
          "model_module": "@jupyter-widgets/base",
          "model_name": "LayoutModel",
          "model_module_version": "1.2.0",
          "state": {
            "_model_module": "@jupyter-widgets/base",
            "_model_module_version": "1.2.0",
            "_model_name": "LayoutModel",
            "_view_count": null,
            "_view_module": "@jupyter-widgets/base",
            "_view_module_version": "1.2.0",
            "_view_name": "LayoutView",
            "align_content": null,
            "align_items": null,
            "align_self": null,
            "border": null,
            "bottom": null,
            "display": null,
            "flex": null,
            "flex_flow": null,
            "grid_area": null,
            "grid_auto_columns": null,
            "grid_auto_flow": null,
            "grid_auto_rows": null,
            "grid_column": null,
            "grid_gap": null,
            "grid_row": null,
            "grid_template_areas": null,
            "grid_template_columns": null,
            "grid_template_rows": null,
            "height": null,
            "justify_content": null,
            "justify_items": null,
            "left": null,
            "margin": null,
            "max_height": null,
            "max_width": null,
            "min_height": null,
            "min_width": null,
            "object_fit": null,
            "object_position": null,
            "order": null,
            "overflow": null,
            "overflow_x": null,
            "overflow_y": null,
            "padding": null,
            "right": null,
            "top": null,
            "visibility": null,
            "width": null
          }
        },
        "f19b8be93ab14c02bcc1d17aab58d112": {
          "model_module": "@jupyter-widgets/base",
          "model_name": "LayoutModel",
          "model_module_version": "1.2.0",
          "state": {
            "_model_module": "@jupyter-widgets/base",
            "_model_module_version": "1.2.0",
            "_model_name": "LayoutModel",
            "_view_count": null,
            "_view_module": "@jupyter-widgets/base",
            "_view_module_version": "1.2.0",
            "_view_name": "LayoutView",
            "align_content": null,
            "align_items": null,
            "align_self": null,
            "border": null,
            "bottom": null,
            "display": null,
            "flex": null,
            "flex_flow": null,
            "grid_area": null,
            "grid_auto_columns": null,
            "grid_auto_flow": null,
            "grid_auto_rows": null,
            "grid_column": null,
            "grid_gap": null,
            "grid_row": null,
            "grid_template_areas": null,
            "grid_template_columns": null,
            "grid_template_rows": null,
            "height": null,
            "justify_content": null,
            "justify_items": null,
            "left": null,
            "margin": null,
            "max_height": null,
            "max_width": null,
            "min_height": null,
            "min_width": null,
            "object_fit": null,
            "object_position": null,
            "order": null,
            "overflow": null,
            "overflow_x": null,
            "overflow_y": null,
            "padding": null,
            "right": null,
            "top": null,
            "visibility": null,
            "width": null
          }
        },
        "f56aa333609f41be8a5ca54bd0ad39c3": {
          "model_module": "@jupyter-widgets/controls",
          "model_name": "DescriptionStyleModel",
          "model_module_version": "1.5.0",
          "state": {
            "_model_module": "@jupyter-widgets/controls",
            "_model_module_version": "1.5.0",
            "_model_name": "DescriptionStyleModel",
            "_view_count": null,
            "_view_module": "@jupyter-widgets/base",
            "_view_module_version": "1.2.0",
            "_view_name": "StyleView",
            "description_width": ""
          }
        },
        "dcd1e25e71aa4877b9e4eda5a4f32f62": {
          "model_module": "@jupyter-widgets/base",
          "model_name": "LayoutModel",
          "model_module_version": "1.2.0",
          "state": {
            "_model_module": "@jupyter-widgets/base",
            "_model_module_version": "1.2.0",
            "_model_name": "LayoutModel",
            "_view_count": null,
            "_view_module": "@jupyter-widgets/base",
            "_view_module_version": "1.2.0",
            "_view_name": "LayoutView",
            "align_content": null,
            "align_items": null,
            "align_self": null,
            "border": null,
            "bottom": null,
            "display": null,
            "flex": null,
            "flex_flow": null,
            "grid_area": null,
            "grid_auto_columns": null,
            "grid_auto_flow": null,
            "grid_auto_rows": null,
            "grid_column": null,
            "grid_gap": null,
            "grid_row": null,
            "grid_template_areas": null,
            "grid_template_columns": null,
            "grid_template_rows": null,
            "height": null,
            "justify_content": null,
            "justify_items": null,
            "left": null,
            "margin": null,
            "max_height": null,
            "max_width": null,
            "min_height": null,
            "min_width": null,
            "object_fit": null,
            "object_position": null,
            "order": null,
            "overflow": null,
            "overflow_x": null,
            "overflow_y": null,
            "padding": null,
            "right": null,
            "top": null,
            "visibility": null,
            "width": null
          }
        },
        "2ae3b78f7a5a486f80b492b6258d173a": {
          "model_module": "@jupyter-widgets/controls",
          "model_name": "ProgressStyleModel",
          "model_module_version": "1.5.0",
          "state": {
            "_model_module": "@jupyter-widgets/controls",
            "_model_module_version": "1.5.0",
            "_model_name": "ProgressStyleModel",
            "_view_count": null,
            "_view_module": "@jupyter-widgets/base",
            "_view_module_version": "1.2.0",
            "_view_name": "StyleView",
            "bar_color": null,
            "description_width": ""
          }
        },
        "6a0d79d244c043db84db670134bff387": {
          "model_module": "@jupyter-widgets/base",
          "model_name": "LayoutModel",
          "model_module_version": "1.2.0",
          "state": {
            "_model_module": "@jupyter-widgets/base",
            "_model_module_version": "1.2.0",
            "_model_name": "LayoutModel",
            "_view_count": null,
            "_view_module": "@jupyter-widgets/base",
            "_view_module_version": "1.2.0",
            "_view_name": "LayoutView",
            "align_content": null,
            "align_items": null,
            "align_self": null,
            "border": null,
            "bottom": null,
            "display": null,
            "flex": null,
            "flex_flow": null,
            "grid_area": null,
            "grid_auto_columns": null,
            "grid_auto_flow": null,
            "grid_auto_rows": null,
            "grid_column": null,
            "grid_gap": null,
            "grid_row": null,
            "grid_template_areas": null,
            "grid_template_columns": null,
            "grid_template_rows": null,
            "height": null,
            "justify_content": null,
            "justify_items": null,
            "left": null,
            "margin": null,
            "max_height": null,
            "max_width": null,
            "min_height": null,
            "min_width": null,
            "object_fit": null,
            "object_position": null,
            "order": null,
            "overflow": null,
            "overflow_x": null,
            "overflow_y": null,
            "padding": null,
            "right": null,
            "top": null,
            "visibility": null,
            "width": null
          }
        },
        "1eeeda345dc046c0a8d00e851f45f6b1": {
          "model_module": "@jupyter-widgets/controls",
          "model_name": "DescriptionStyleModel",
          "model_module_version": "1.5.0",
          "state": {
            "_model_module": "@jupyter-widgets/controls",
            "_model_module_version": "1.5.0",
            "_model_name": "DescriptionStyleModel",
            "_view_count": null,
            "_view_module": "@jupyter-widgets/base",
            "_view_module_version": "1.2.0",
            "_view_name": "StyleView",
            "description_width": ""
          }
        },
        "7d9fd4aebeab4e75a71f78cdd40edc58": {
          "model_module": "@jupyter-widgets/controls",
          "model_name": "HBoxModel",
          "model_module_version": "1.5.0",
          "state": {
            "_dom_classes": [],
            "_model_module": "@jupyter-widgets/controls",
            "_model_module_version": "1.5.0",
            "_model_name": "HBoxModel",
            "_view_count": null,
            "_view_module": "@jupyter-widgets/controls",
            "_view_module_version": "1.5.0",
            "_view_name": "HBoxView",
            "box_style": "",
            "children": [
              "IPY_MODEL_5edcfe2ce1d54b689582c9b66f05cd44",
              "IPY_MODEL_cbd2e71aa6b4464c98252545da1b86da",
              "IPY_MODEL_61c356d29edd405da9973cac8b22045a"
            ],
            "layout": "IPY_MODEL_78bb7695b86a4edca83fbc064ef683a6"
          }
        },
        "5edcfe2ce1d54b689582c9b66f05cd44": {
          "model_module": "@jupyter-widgets/controls",
          "model_name": "HTMLModel",
          "model_module_version": "1.5.0",
          "state": {
            "_dom_classes": [],
            "_model_module": "@jupyter-widgets/controls",
            "_model_module_version": "1.5.0",
            "_model_name": "HTMLModel",
            "_view_count": null,
            "_view_module": "@jupyter-widgets/controls",
            "_view_module_version": "1.5.0",
            "_view_name": "HTMLView",
            "description": "",
            "description_tooltip": null,
            "layout": "IPY_MODEL_6a0577dde61c4b4a93f4a2947156855e",
            "placeholder": "​",
            "style": "IPY_MODEL_b36c8d8484b24a98a9b5db92cdc1deaf",
            "value": "100%"
          }
        },
        "cbd2e71aa6b4464c98252545da1b86da": {
          "model_module": "@jupyter-widgets/controls",
          "model_name": "FloatProgressModel",
          "model_module_version": "1.5.0",
          "state": {
            "_dom_classes": [],
            "_model_module": "@jupyter-widgets/controls",
            "_model_module_version": "1.5.0",
            "_model_name": "FloatProgressModel",
            "_view_count": null,
            "_view_module": "@jupyter-widgets/controls",
            "_view_module_version": "1.5.0",
            "_view_name": "ProgressView",
            "bar_style": "success",
            "description": "",
            "description_tooltip": null,
            "layout": "IPY_MODEL_d3f30be0525b4e82925f71dbef8151b3",
            "max": 7480,
            "min": 0,
            "orientation": "horizontal",
            "style": "IPY_MODEL_7670c5e4066f44c58c8d2436a4cf8a1e",
            "value": 7480
          }
        },
        "61c356d29edd405da9973cac8b22045a": {
          "model_module": "@jupyter-widgets/controls",
          "model_name": "HTMLModel",
          "model_module_version": "1.5.0",
          "state": {
            "_dom_classes": [],
            "_model_module": "@jupyter-widgets/controls",
            "_model_module_version": "1.5.0",
            "_model_name": "HTMLModel",
            "_view_count": null,
            "_view_module": "@jupyter-widgets/controls",
            "_view_module_version": "1.5.0",
            "_view_name": "HTMLView",
            "description": "",
            "description_tooltip": null,
            "layout": "IPY_MODEL_cb8b8df124d64935b7eaf95674e09c90",
            "placeholder": "​",
            "style": "IPY_MODEL_987a2a546b0b47b4b3a1e2df92b2048a",
            "value": " 7480/7480 [00:04&lt;00:00, 2399.49it/s]"
          }
        },
        "78bb7695b86a4edca83fbc064ef683a6": {
          "model_module": "@jupyter-widgets/base",
          "model_name": "LayoutModel",
          "model_module_version": "1.2.0",
          "state": {
            "_model_module": "@jupyter-widgets/base",
            "_model_module_version": "1.2.0",
            "_model_name": "LayoutModel",
            "_view_count": null,
            "_view_module": "@jupyter-widgets/base",
            "_view_module_version": "1.2.0",
            "_view_name": "LayoutView",
            "align_content": null,
            "align_items": null,
            "align_self": null,
            "border": null,
            "bottom": null,
            "display": null,
            "flex": null,
            "flex_flow": null,
            "grid_area": null,
            "grid_auto_columns": null,
            "grid_auto_flow": null,
            "grid_auto_rows": null,
            "grid_column": null,
            "grid_gap": null,
            "grid_row": null,
            "grid_template_areas": null,
            "grid_template_columns": null,
            "grid_template_rows": null,
            "height": null,
            "justify_content": null,
            "justify_items": null,
            "left": null,
            "margin": null,
            "max_height": null,
            "max_width": null,
            "min_height": null,
            "min_width": null,
            "object_fit": null,
            "object_position": null,
            "order": null,
            "overflow": null,
            "overflow_x": null,
            "overflow_y": null,
            "padding": null,
            "right": null,
            "top": null,
            "visibility": null,
            "width": null
          }
        },
        "6a0577dde61c4b4a93f4a2947156855e": {
          "model_module": "@jupyter-widgets/base",
          "model_name": "LayoutModel",
          "model_module_version": "1.2.0",
          "state": {
            "_model_module": "@jupyter-widgets/base",
            "_model_module_version": "1.2.0",
            "_model_name": "LayoutModel",
            "_view_count": null,
            "_view_module": "@jupyter-widgets/base",
            "_view_module_version": "1.2.0",
            "_view_name": "LayoutView",
            "align_content": null,
            "align_items": null,
            "align_self": null,
            "border": null,
            "bottom": null,
            "display": null,
            "flex": null,
            "flex_flow": null,
            "grid_area": null,
            "grid_auto_columns": null,
            "grid_auto_flow": null,
            "grid_auto_rows": null,
            "grid_column": null,
            "grid_gap": null,
            "grid_row": null,
            "grid_template_areas": null,
            "grid_template_columns": null,
            "grid_template_rows": null,
            "height": null,
            "justify_content": null,
            "justify_items": null,
            "left": null,
            "margin": null,
            "max_height": null,
            "max_width": null,
            "min_height": null,
            "min_width": null,
            "object_fit": null,
            "object_position": null,
            "order": null,
            "overflow": null,
            "overflow_x": null,
            "overflow_y": null,
            "padding": null,
            "right": null,
            "top": null,
            "visibility": null,
            "width": null
          }
        },
        "b36c8d8484b24a98a9b5db92cdc1deaf": {
          "model_module": "@jupyter-widgets/controls",
          "model_name": "DescriptionStyleModel",
          "model_module_version": "1.5.0",
          "state": {
            "_model_module": "@jupyter-widgets/controls",
            "_model_module_version": "1.5.0",
            "_model_name": "DescriptionStyleModel",
            "_view_count": null,
            "_view_module": "@jupyter-widgets/base",
            "_view_module_version": "1.2.0",
            "_view_name": "StyleView",
            "description_width": ""
          }
        },
        "d3f30be0525b4e82925f71dbef8151b3": {
          "model_module": "@jupyter-widgets/base",
          "model_name": "LayoutModel",
          "model_module_version": "1.2.0",
          "state": {
            "_model_module": "@jupyter-widgets/base",
            "_model_module_version": "1.2.0",
            "_model_name": "LayoutModel",
            "_view_count": null,
            "_view_module": "@jupyter-widgets/base",
            "_view_module_version": "1.2.0",
            "_view_name": "LayoutView",
            "align_content": null,
            "align_items": null,
            "align_self": null,
            "border": null,
            "bottom": null,
            "display": null,
            "flex": null,
            "flex_flow": null,
            "grid_area": null,
            "grid_auto_columns": null,
            "grid_auto_flow": null,
            "grid_auto_rows": null,
            "grid_column": null,
            "grid_gap": null,
            "grid_row": null,
            "grid_template_areas": null,
            "grid_template_columns": null,
            "grid_template_rows": null,
            "height": null,
            "justify_content": null,
            "justify_items": null,
            "left": null,
            "margin": null,
            "max_height": null,
            "max_width": null,
            "min_height": null,
            "min_width": null,
            "object_fit": null,
            "object_position": null,
            "order": null,
            "overflow": null,
            "overflow_x": null,
            "overflow_y": null,
            "padding": null,
            "right": null,
            "top": null,
            "visibility": null,
            "width": null
          }
        },
        "7670c5e4066f44c58c8d2436a4cf8a1e": {
          "model_module": "@jupyter-widgets/controls",
          "model_name": "ProgressStyleModel",
          "model_module_version": "1.5.0",
          "state": {
            "_model_module": "@jupyter-widgets/controls",
            "_model_module_version": "1.5.0",
            "_model_name": "ProgressStyleModel",
            "_view_count": null,
            "_view_module": "@jupyter-widgets/base",
            "_view_module_version": "1.2.0",
            "_view_name": "StyleView",
            "bar_color": null,
            "description_width": ""
          }
        },
        "cb8b8df124d64935b7eaf95674e09c90": {
          "model_module": "@jupyter-widgets/base",
          "model_name": "LayoutModel",
          "model_module_version": "1.2.0",
          "state": {
            "_model_module": "@jupyter-widgets/base",
            "_model_module_version": "1.2.0",
            "_model_name": "LayoutModel",
            "_view_count": null,
            "_view_module": "@jupyter-widgets/base",
            "_view_module_version": "1.2.0",
            "_view_name": "LayoutView",
            "align_content": null,
            "align_items": null,
            "align_self": null,
            "border": null,
            "bottom": null,
            "display": null,
            "flex": null,
            "flex_flow": null,
            "grid_area": null,
            "grid_auto_columns": null,
            "grid_auto_flow": null,
            "grid_auto_rows": null,
            "grid_column": null,
            "grid_gap": null,
            "grid_row": null,
            "grid_template_areas": null,
            "grid_template_columns": null,
            "grid_template_rows": null,
            "height": null,
            "justify_content": null,
            "justify_items": null,
            "left": null,
            "margin": null,
            "max_height": null,
            "max_width": null,
            "min_height": null,
            "min_width": null,
            "object_fit": null,
            "object_position": null,
            "order": null,
            "overflow": null,
            "overflow_x": null,
            "overflow_y": null,
            "padding": null,
            "right": null,
            "top": null,
            "visibility": null,
            "width": null
          }
        },
        "987a2a546b0b47b4b3a1e2df92b2048a": {
          "model_module": "@jupyter-widgets/controls",
          "model_name": "DescriptionStyleModel",
          "model_module_version": "1.5.0",
          "state": {
            "_model_module": "@jupyter-widgets/controls",
            "_model_module_version": "1.5.0",
            "_model_name": "DescriptionStyleModel",
            "_view_count": null,
            "_view_module": "@jupyter-widgets/base",
            "_view_module_version": "1.2.0",
            "_view_name": "StyleView",
            "description_width": ""
          }
        },
        "3fd75242364643ee973af48395b0ef97": {
          "model_module": "@jupyter-widgets/controls",
          "model_name": "HBoxModel",
          "model_module_version": "1.5.0",
          "state": {
            "_dom_classes": [],
            "_model_module": "@jupyter-widgets/controls",
            "_model_module_version": "1.5.0",
            "_model_name": "HBoxModel",
            "_view_count": null,
            "_view_module": "@jupyter-widgets/controls",
            "_view_module_version": "1.5.0",
            "_view_name": "HBoxView",
            "box_style": "",
            "children": [
              "IPY_MODEL_e1d2a196ce6c47789fbc18a10d0774df",
              "IPY_MODEL_8a7b9f7ed5b446ba86ada79e0df19df2",
              "IPY_MODEL_9f7963aa77254b8ea6824e100fc155a8"
            ],
            "layout": "IPY_MODEL_26276e2415674ba38a55b3735e2b9e1c"
          }
        },
        "e1d2a196ce6c47789fbc18a10d0774df": {
          "model_module": "@jupyter-widgets/controls",
          "model_name": "HTMLModel",
          "model_module_version": "1.5.0",
          "state": {
            "_dom_classes": [],
            "_model_module": "@jupyter-widgets/controls",
            "_model_module_version": "1.5.0",
            "_model_name": "HTMLModel",
            "_view_count": null,
            "_view_module": "@jupyter-widgets/controls",
            "_view_module_version": "1.5.0",
            "_view_name": "HTMLView",
            "description": "",
            "description_tooltip": null,
            "layout": "IPY_MODEL_86881d1ece8c4374a74ed609e6286fa0",
            "placeholder": "​",
            "style": "IPY_MODEL_3033b89ef62047968c6eecbe34755206",
            "value": "100%"
          }
        },
        "8a7b9f7ed5b446ba86ada79e0df19df2": {
          "model_module": "@jupyter-widgets/controls",
          "model_name": "FloatProgressModel",
          "model_module_version": "1.5.0",
          "state": {
            "_dom_classes": [],
            "_model_module": "@jupyter-widgets/controls",
            "_model_module_version": "1.5.0",
            "_model_name": "FloatProgressModel",
            "_view_count": null,
            "_view_module": "@jupyter-widgets/controls",
            "_view_module_version": "1.5.0",
            "_view_name": "ProgressView",
            "bar_style": "success",
            "description": "",
            "description_tooltip": null,
            "layout": "IPY_MODEL_bb38c12859a143ccaf37ba08bfd8e189",
            "max": 7480,
            "min": 0,
            "orientation": "horizontal",
            "style": "IPY_MODEL_69ae2a9b635a40568c844b95d633c7cf",
            "value": 7480
          }
        },
        "9f7963aa77254b8ea6824e100fc155a8": {
          "model_module": "@jupyter-widgets/controls",
          "model_name": "HTMLModel",
          "model_module_version": "1.5.0",
          "state": {
            "_dom_classes": [],
            "_model_module": "@jupyter-widgets/controls",
            "_model_module_version": "1.5.0",
            "_model_name": "HTMLModel",
            "_view_count": null,
            "_view_module": "@jupyter-widgets/controls",
            "_view_module_version": "1.5.0",
            "_view_name": "HTMLView",
            "description": "",
            "description_tooltip": null,
            "layout": "IPY_MODEL_b56782cfc912425baaf6a55413d5e2a9",
            "placeholder": "​",
            "style": "IPY_MODEL_30b1e48c8b3d4dca81b9387adfe3df43",
            "value": " 7480/7480 [00:00&lt;00:00, 38518.38it/s]"
          }
        },
        "26276e2415674ba38a55b3735e2b9e1c": {
          "model_module": "@jupyter-widgets/base",
          "model_name": "LayoutModel",
          "model_module_version": "1.2.0",
          "state": {
            "_model_module": "@jupyter-widgets/base",
            "_model_module_version": "1.2.0",
            "_model_name": "LayoutModel",
            "_view_count": null,
            "_view_module": "@jupyter-widgets/base",
            "_view_module_version": "1.2.0",
            "_view_name": "LayoutView",
            "align_content": null,
            "align_items": null,
            "align_self": null,
            "border": null,
            "bottom": null,
            "display": null,
            "flex": null,
            "flex_flow": null,
            "grid_area": null,
            "grid_auto_columns": null,
            "grid_auto_flow": null,
            "grid_auto_rows": null,
            "grid_column": null,
            "grid_gap": null,
            "grid_row": null,
            "grid_template_areas": null,
            "grid_template_columns": null,
            "grid_template_rows": null,
            "height": null,
            "justify_content": null,
            "justify_items": null,
            "left": null,
            "margin": null,
            "max_height": null,
            "max_width": null,
            "min_height": null,
            "min_width": null,
            "object_fit": null,
            "object_position": null,
            "order": null,
            "overflow": null,
            "overflow_x": null,
            "overflow_y": null,
            "padding": null,
            "right": null,
            "top": null,
            "visibility": null,
            "width": null
          }
        },
        "86881d1ece8c4374a74ed609e6286fa0": {
          "model_module": "@jupyter-widgets/base",
          "model_name": "LayoutModel",
          "model_module_version": "1.2.0",
          "state": {
            "_model_module": "@jupyter-widgets/base",
            "_model_module_version": "1.2.0",
            "_model_name": "LayoutModel",
            "_view_count": null,
            "_view_module": "@jupyter-widgets/base",
            "_view_module_version": "1.2.0",
            "_view_name": "LayoutView",
            "align_content": null,
            "align_items": null,
            "align_self": null,
            "border": null,
            "bottom": null,
            "display": null,
            "flex": null,
            "flex_flow": null,
            "grid_area": null,
            "grid_auto_columns": null,
            "grid_auto_flow": null,
            "grid_auto_rows": null,
            "grid_column": null,
            "grid_gap": null,
            "grid_row": null,
            "grid_template_areas": null,
            "grid_template_columns": null,
            "grid_template_rows": null,
            "height": null,
            "justify_content": null,
            "justify_items": null,
            "left": null,
            "margin": null,
            "max_height": null,
            "max_width": null,
            "min_height": null,
            "min_width": null,
            "object_fit": null,
            "object_position": null,
            "order": null,
            "overflow": null,
            "overflow_x": null,
            "overflow_y": null,
            "padding": null,
            "right": null,
            "top": null,
            "visibility": null,
            "width": null
          }
        },
        "3033b89ef62047968c6eecbe34755206": {
          "model_module": "@jupyter-widgets/controls",
          "model_name": "DescriptionStyleModel",
          "model_module_version": "1.5.0",
          "state": {
            "_model_module": "@jupyter-widgets/controls",
            "_model_module_version": "1.5.0",
            "_model_name": "DescriptionStyleModel",
            "_view_count": null,
            "_view_module": "@jupyter-widgets/base",
            "_view_module_version": "1.2.0",
            "_view_name": "StyleView",
            "description_width": ""
          }
        },
        "bb38c12859a143ccaf37ba08bfd8e189": {
          "model_module": "@jupyter-widgets/base",
          "model_name": "LayoutModel",
          "model_module_version": "1.2.0",
          "state": {
            "_model_module": "@jupyter-widgets/base",
            "_model_module_version": "1.2.0",
            "_model_name": "LayoutModel",
            "_view_count": null,
            "_view_module": "@jupyter-widgets/base",
            "_view_module_version": "1.2.0",
            "_view_name": "LayoutView",
            "align_content": null,
            "align_items": null,
            "align_self": null,
            "border": null,
            "bottom": null,
            "display": null,
            "flex": null,
            "flex_flow": null,
            "grid_area": null,
            "grid_auto_columns": null,
            "grid_auto_flow": null,
            "grid_auto_rows": null,
            "grid_column": null,
            "grid_gap": null,
            "grid_row": null,
            "grid_template_areas": null,
            "grid_template_columns": null,
            "grid_template_rows": null,
            "height": null,
            "justify_content": null,
            "justify_items": null,
            "left": null,
            "margin": null,
            "max_height": null,
            "max_width": null,
            "min_height": null,
            "min_width": null,
            "object_fit": null,
            "object_position": null,
            "order": null,
            "overflow": null,
            "overflow_x": null,
            "overflow_y": null,
            "padding": null,
            "right": null,
            "top": null,
            "visibility": null,
            "width": null
          }
        },
        "69ae2a9b635a40568c844b95d633c7cf": {
          "model_module": "@jupyter-widgets/controls",
          "model_name": "ProgressStyleModel",
          "model_module_version": "1.5.0",
          "state": {
            "_model_module": "@jupyter-widgets/controls",
            "_model_module_version": "1.5.0",
            "_model_name": "ProgressStyleModel",
            "_view_count": null,
            "_view_module": "@jupyter-widgets/base",
            "_view_module_version": "1.2.0",
            "_view_name": "StyleView",
            "bar_color": null,
            "description_width": ""
          }
        },
        "b56782cfc912425baaf6a55413d5e2a9": {
          "model_module": "@jupyter-widgets/base",
          "model_name": "LayoutModel",
          "model_module_version": "1.2.0",
          "state": {
            "_model_module": "@jupyter-widgets/base",
            "_model_module_version": "1.2.0",
            "_model_name": "LayoutModel",
            "_view_count": null,
            "_view_module": "@jupyter-widgets/base",
            "_view_module_version": "1.2.0",
            "_view_name": "LayoutView",
            "align_content": null,
            "align_items": null,
            "align_self": null,
            "border": null,
            "bottom": null,
            "display": null,
            "flex": null,
            "flex_flow": null,
            "grid_area": null,
            "grid_auto_columns": null,
            "grid_auto_flow": null,
            "grid_auto_rows": null,
            "grid_column": null,
            "grid_gap": null,
            "grid_row": null,
            "grid_template_areas": null,
            "grid_template_columns": null,
            "grid_template_rows": null,
            "height": null,
            "justify_content": null,
            "justify_items": null,
            "left": null,
            "margin": null,
            "max_height": null,
            "max_width": null,
            "min_height": null,
            "min_width": null,
            "object_fit": null,
            "object_position": null,
            "order": null,
            "overflow": null,
            "overflow_x": null,
            "overflow_y": null,
            "padding": null,
            "right": null,
            "top": null,
            "visibility": null,
            "width": null
          }
        },
        "30b1e48c8b3d4dca81b9387adfe3df43": {
          "model_module": "@jupyter-widgets/controls",
          "model_name": "DescriptionStyleModel",
          "model_module_version": "1.5.0",
          "state": {
            "_model_module": "@jupyter-widgets/controls",
            "_model_module_version": "1.5.0",
            "_model_name": "DescriptionStyleModel",
            "_view_count": null,
            "_view_module": "@jupyter-widgets/base",
            "_view_module_version": "1.2.0",
            "_view_name": "StyleView",
            "description_width": ""
          }
        },
        "4a7a6acbb0db41b5a074b69735438a66": {
          "model_module": "@jupyter-widgets/controls",
          "model_name": "HBoxModel",
          "model_module_version": "1.5.0",
          "state": {
            "_dom_classes": [],
            "_model_module": "@jupyter-widgets/controls",
            "_model_module_version": "1.5.0",
            "_model_name": "HBoxModel",
            "_view_count": null,
            "_view_module": "@jupyter-widgets/controls",
            "_view_module_version": "1.5.0",
            "_view_name": "HBoxView",
            "box_style": "",
            "children": [
              "IPY_MODEL_e4cc1e88b13b4182b76eb9d1f5c11f66",
              "IPY_MODEL_ae5b7a36524344acbb02c97205a10139",
              "IPY_MODEL_5fae5e0033074657b17add60fdd79f59"
            ],
            "layout": "IPY_MODEL_370a6407dcb9460ba0f28456c2f8b397"
          }
        },
        "e4cc1e88b13b4182b76eb9d1f5c11f66": {
          "model_module": "@jupyter-widgets/controls",
          "model_name": "HTMLModel",
          "model_module_version": "1.5.0",
          "state": {
            "_dom_classes": [],
            "_model_module": "@jupyter-widgets/controls",
            "_model_module_version": "1.5.0",
            "_model_name": "HTMLModel",
            "_view_count": null,
            "_view_module": "@jupyter-widgets/controls",
            "_view_module_version": "1.5.0",
            "_view_name": "HTMLView",
            "description": "",
            "description_tooltip": null,
            "layout": "IPY_MODEL_69e303804c6448fb8c88558bae1d36bb",
            "placeholder": "​",
            "style": "IPY_MODEL_03caa8c39c844415aa1d30bb592aae7d",
            "value": "100%"
          }
        },
        "ae5b7a36524344acbb02c97205a10139": {
          "model_module": "@jupyter-widgets/controls",
          "model_name": "FloatProgressModel",
          "model_module_version": "1.5.0",
          "state": {
            "_dom_classes": [],
            "_model_module": "@jupyter-widgets/controls",
            "_model_module_version": "1.5.0",
            "_model_name": "FloatProgressModel",
            "_view_count": null,
            "_view_module": "@jupyter-widgets/controls",
            "_view_module_version": "1.5.0",
            "_view_name": "ProgressView",
            "bar_style": "success",
            "description": "",
            "description_tooltip": null,
            "layout": "IPY_MODEL_1d3d06f353a8470680d863e96d72e9be",
            "max": 7480,
            "min": 0,
            "orientation": "horizontal",
            "style": "IPY_MODEL_b2dedb2956764cee99242dd7d92fbfac",
            "value": 7480
          }
        },
        "5fae5e0033074657b17add60fdd79f59": {
          "model_module": "@jupyter-widgets/controls",
          "model_name": "HTMLModel",
          "model_module_version": "1.5.0",
          "state": {
            "_dom_classes": [],
            "_model_module": "@jupyter-widgets/controls",
            "_model_module_version": "1.5.0",
            "_model_name": "HTMLModel",
            "_view_count": null,
            "_view_module": "@jupyter-widgets/controls",
            "_view_module_version": "1.5.0",
            "_view_name": "HTMLView",
            "description": "",
            "description_tooltip": null,
            "layout": "IPY_MODEL_967882befc3045138a037e0a609c6223",
            "placeholder": "​",
            "style": "IPY_MODEL_13557981557c43a28457129485acd344",
            "value": " 7480/7480 [00:00&lt;00:00, 75474.14it/s]"
          }
        },
        "370a6407dcb9460ba0f28456c2f8b397": {
          "model_module": "@jupyter-widgets/base",
          "model_name": "LayoutModel",
          "model_module_version": "1.2.0",
          "state": {
            "_model_module": "@jupyter-widgets/base",
            "_model_module_version": "1.2.0",
            "_model_name": "LayoutModel",
            "_view_count": null,
            "_view_module": "@jupyter-widgets/base",
            "_view_module_version": "1.2.0",
            "_view_name": "LayoutView",
            "align_content": null,
            "align_items": null,
            "align_self": null,
            "border": null,
            "bottom": null,
            "display": null,
            "flex": null,
            "flex_flow": null,
            "grid_area": null,
            "grid_auto_columns": null,
            "grid_auto_flow": null,
            "grid_auto_rows": null,
            "grid_column": null,
            "grid_gap": null,
            "grid_row": null,
            "grid_template_areas": null,
            "grid_template_columns": null,
            "grid_template_rows": null,
            "height": null,
            "justify_content": null,
            "justify_items": null,
            "left": null,
            "margin": null,
            "max_height": null,
            "max_width": null,
            "min_height": null,
            "min_width": null,
            "object_fit": null,
            "object_position": null,
            "order": null,
            "overflow": null,
            "overflow_x": null,
            "overflow_y": null,
            "padding": null,
            "right": null,
            "top": null,
            "visibility": null,
            "width": null
          }
        },
        "69e303804c6448fb8c88558bae1d36bb": {
          "model_module": "@jupyter-widgets/base",
          "model_name": "LayoutModel",
          "model_module_version": "1.2.0",
          "state": {
            "_model_module": "@jupyter-widgets/base",
            "_model_module_version": "1.2.0",
            "_model_name": "LayoutModel",
            "_view_count": null,
            "_view_module": "@jupyter-widgets/base",
            "_view_module_version": "1.2.0",
            "_view_name": "LayoutView",
            "align_content": null,
            "align_items": null,
            "align_self": null,
            "border": null,
            "bottom": null,
            "display": null,
            "flex": null,
            "flex_flow": null,
            "grid_area": null,
            "grid_auto_columns": null,
            "grid_auto_flow": null,
            "grid_auto_rows": null,
            "grid_column": null,
            "grid_gap": null,
            "grid_row": null,
            "grid_template_areas": null,
            "grid_template_columns": null,
            "grid_template_rows": null,
            "height": null,
            "justify_content": null,
            "justify_items": null,
            "left": null,
            "margin": null,
            "max_height": null,
            "max_width": null,
            "min_height": null,
            "min_width": null,
            "object_fit": null,
            "object_position": null,
            "order": null,
            "overflow": null,
            "overflow_x": null,
            "overflow_y": null,
            "padding": null,
            "right": null,
            "top": null,
            "visibility": null,
            "width": null
          }
        },
        "03caa8c39c844415aa1d30bb592aae7d": {
          "model_module": "@jupyter-widgets/controls",
          "model_name": "DescriptionStyleModel",
          "model_module_version": "1.5.0",
          "state": {
            "_model_module": "@jupyter-widgets/controls",
            "_model_module_version": "1.5.0",
            "_model_name": "DescriptionStyleModel",
            "_view_count": null,
            "_view_module": "@jupyter-widgets/base",
            "_view_module_version": "1.2.0",
            "_view_name": "StyleView",
            "description_width": ""
          }
        },
        "1d3d06f353a8470680d863e96d72e9be": {
          "model_module": "@jupyter-widgets/base",
          "model_name": "LayoutModel",
          "model_module_version": "1.2.0",
          "state": {
            "_model_module": "@jupyter-widgets/base",
            "_model_module_version": "1.2.0",
            "_model_name": "LayoutModel",
            "_view_count": null,
            "_view_module": "@jupyter-widgets/base",
            "_view_module_version": "1.2.0",
            "_view_name": "LayoutView",
            "align_content": null,
            "align_items": null,
            "align_self": null,
            "border": null,
            "bottom": null,
            "display": null,
            "flex": null,
            "flex_flow": null,
            "grid_area": null,
            "grid_auto_columns": null,
            "grid_auto_flow": null,
            "grid_auto_rows": null,
            "grid_column": null,
            "grid_gap": null,
            "grid_row": null,
            "grid_template_areas": null,
            "grid_template_columns": null,
            "grid_template_rows": null,
            "height": null,
            "justify_content": null,
            "justify_items": null,
            "left": null,
            "margin": null,
            "max_height": null,
            "max_width": null,
            "min_height": null,
            "min_width": null,
            "object_fit": null,
            "object_position": null,
            "order": null,
            "overflow": null,
            "overflow_x": null,
            "overflow_y": null,
            "padding": null,
            "right": null,
            "top": null,
            "visibility": null,
            "width": null
          }
        },
        "b2dedb2956764cee99242dd7d92fbfac": {
          "model_module": "@jupyter-widgets/controls",
          "model_name": "ProgressStyleModel",
          "model_module_version": "1.5.0",
          "state": {
            "_model_module": "@jupyter-widgets/controls",
            "_model_module_version": "1.5.0",
            "_model_name": "ProgressStyleModel",
            "_view_count": null,
            "_view_module": "@jupyter-widgets/base",
            "_view_module_version": "1.2.0",
            "_view_name": "StyleView",
            "bar_color": null,
            "description_width": ""
          }
        },
        "967882befc3045138a037e0a609c6223": {
          "model_module": "@jupyter-widgets/base",
          "model_name": "LayoutModel",
          "model_module_version": "1.2.0",
          "state": {
            "_model_module": "@jupyter-widgets/base",
            "_model_module_version": "1.2.0",
            "_model_name": "LayoutModel",
            "_view_count": null,
            "_view_module": "@jupyter-widgets/base",
            "_view_module_version": "1.2.0",
            "_view_name": "LayoutView",
            "align_content": null,
            "align_items": null,
            "align_self": null,
            "border": null,
            "bottom": null,
            "display": null,
            "flex": null,
            "flex_flow": null,
            "grid_area": null,
            "grid_auto_columns": null,
            "grid_auto_flow": null,
            "grid_auto_rows": null,
            "grid_column": null,
            "grid_gap": null,
            "grid_row": null,
            "grid_template_areas": null,
            "grid_template_columns": null,
            "grid_template_rows": null,
            "height": null,
            "justify_content": null,
            "justify_items": null,
            "left": null,
            "margin": null,
            "max_height": null,
            "max_width": null,
            "min_height": null,
            "min_width": null,
            "object_fit": null,
            "object_position": null,
            "order": null,
            "overflow": null,
            "overflow_x": null,
            "overflow_y": null,
            "padding": null,
            "right": null,
            "top": null,
            "visibility": null,
            "width": null
          }
        },
        "13557981557c43a28457129485acd344": {
          "model_module": "@jupyter-widgets/controls",
          "model_name": "DescriptionStyleModel",
          "model_module_version": "1.5.0",
          "state": {
            "_model_module": "@jupyter-widgets/controls",
            "_model_module_version": "1.5.0",
            "_model_name": "DescriptionStyleModel",
            "_view_count": null,
            "_view_module": "@jupyter-widgets/base",
            "_view_module_version": "1.2.0",
            "_view_name": "StyleView",
            "description_width": ""
          }
        },
        "7a9cf60b8c5d43478207beb122e31d7f": {
          "model_module": "@jupyter-widgets/controls",
          "model_name": "HBoxModel",
          "model_module_version": "1.5.0",
          "state": {
            "_dom_classes": [],
            "_model_module": "@jupyter-widgets/controls",
            "_model_module_version": "1.5.0",
            "_model_name": "HBoxModel",
            "_view_count": null,
            "_view_module": "@jupyter-widgets/controls",
            "_view_module_version": "1.5.0",
            "_view_name": "HBoxView",
            "box_style": "",
            "children": [
              "IPY_MODEL_112fe683b52348e3b46131fc5bc44af5",
              "IPY_MODEL_8cb24269daf745749a22111f22e8ce25",
              "IPY_MODEL_181ede5aed9a48d0b651c904d63d2e8d"
            ],
            "layout": "IPY_MODEL_c66eaee1f427495588e735be5bca8b44"
          }
        },
        "112fe683b52348e3b46131fc5bc44af5": {
          "model_module": "@jupyter-widgets/controls",
          "model_name": "HTMLModel",
          "model_module_version": "1.5.0",
          "state": {
            "_dom_classes": [],
            "_model_module": "@jupyter-widgets/controls",
            "_model_module_version": "1.5.0",
            "_model_name": "HTMLModel",
            "_view_count": null,
            "_view_module": "@jupyter-widgets/controls",
            "_view_module_version": "1.5.0",
            "_view_name": "HTMLView",
            "description": "",
            "description_tooltip": null,
            "layout": "IPY_MODEL_57e01ba2ced148f0a491de624e145d52",
            "placeholder": "​",
            "style": "IPY_MODEL_185c1f0e09c340b7a7eeacee736a678f",
            "value": "Downloading (…)okenizer_config.json: 100%"
          }
        },
        "8cb24269daf745749a22111f22e8ce25": {
          "model_module": "@jupyter-widgets/controls",
          "model_name": "FloatProgressModel",
          "model_module_version": "1.5.0",
          "state": {
            "_dom_classes": [],
            "_model_module": "@jupyter-widgets/controls",
            "_model_module_version": "1.5.0",
            "_model_name": "FloatProgressModel",
            "_view_count": null,
            "_view_module": "@jupyter-widgets/controls",
            "_view_module_version": "1.5.0",
            "_view_name": "ProgressView",
            "bar_style": "success",
            "description": "",
            "description_tooltip": null,
            "layout": "IPY_MODEL_cb7466353bd344fda21cff7110394b8e",
            "max": 29,
            "min": 0,
            "orientation": "horizontal",
            "style": "IPY_MODEL_f3e915cf2cd14d5a82c11c235559834f",
            "value": 29
          }
        },
        "181ede5aed9a48d0b651c904d63d2e8d": {
          "model_module": "@jupyter-widgets/controls",
          "model_name": "HTMLModel",
          "model_module_version": "1.5.0",
          "state": {
            "_dom_classes": [],
            "_model_module": "@jupyter-widgets/controls",
            "_model_module_version": "1.5.0",
            "_model_name": "HTMLModel",
            "_view_count": null,
            "_view_module": "@jupyter-widgets/controls",
            "_view_module_version": "1.5.0",
            "_view_name": "HTMLView",
            "description": "",
            "description_tooltip": null,
            "layout": "IPY_MODEL_b893fa4cdf944e6aba08ee59f705938f",
            "placeholder": "​",
            "style": "IPY_MODEL_2950111668e64391af6667ed1c6aa9f2",
            "value": " 29.0/29.0 [00:00&lt;00:00, 464B/s]"
          }
        },
        "c66eaee1f427495588e735be5bca8b44": {
          "model_module": "@jupyter-widgets/base",
          "model_name": "LayoutModel",
          "model_module_version": "1.2.0",
          "state": {
            "_model_module": "@jupyter-widgets/base",
            "_model_module_version": "1.2.0",
            "_model_name": "LayoutModel",
            "_view_count": null,
            "_view_module": "@jupyter-widgets/base",
            "_view_module_version": "1.2.0",
            "_view_name": "LayoutView",
            "align_content": null,
            "align_items": null,
            "align_self": null,
            "border": null,
            "bottom": null,
            "display": null,
            "flex": null,
            "flex_flow": null,
            "grid_area": null,
            "grid_auto_columns": null,
            "grid_auto_flow": null,
            "grid_auto_rows": null,
            "grid_column": null,
            "grid_gap": null,
            "grid_row": null,
            "grid_template_areas": null,
            "grid_template_columns": null,
            "grid_template_rows": null,
            "height": null,
            "justify_content": null,
            "justify_items": null,
            "left": null,
            "margin": null,
            "max_height": null,
            "max_width": null,
            "min_height": null,
            "min_width": null,
            "object_fit": null,
            "object_position": null,
            "order": null,
            "overflow": null,
            "overflow_x": null,
            "overflow_y": null,
            "padding": null,
            "right": null,
            "top": null,
            "visibility": null,
            "width": null
          }
        },
        "57e01ba2ced148f0a491de624e145d52": {
          "model_module": "@jupyter-widgets/base",
          "model_name": "LayoutModel",
          "model_module_version": "1.2.0",
          "state": {
            "_model_module": "@jupyter-widgets/base",
            "_model_module_version": "1.2.0",
            "_model_name": "LayoutModel",
            "_view_count": null,
            "_view_module": "@jupyter-widgets/base",
            "_view_module_version": "1.2.0",
            "_view_name": "LayoutView",
            "align_content": null,
            "align_items": null,
            "align_self": null,
            "border": null,
            "bottom": null,
            "display": null,
            "flex": null,
            "flex_flow": null,
            "grid_area": null,
            "grid_auto_columns": null,
            "grid_auto_flow": null,
            "grid_auto_rows": null,
            "grid_column": null,
            "grid_gap": null,
            "grid_row": null,
            "grid_template_areas": null,
            "grid_template_columns": null,
            "grid_template_rows": null,
            "height": null,
            "justify_content": null,
            "justify_items": null,
            "left": null,
            "margin": null,
            "max_height": null,
            "max_width": null,
            "min_height": null,
            "min_width": null,
            "object_fit": null,
            "object_position": null,
            "order": null,
            "overflow": null,
            "overflow_x": null,
            "overflow_y": null,
            "padding": null,
            "right": null,
            "top": null,
            "visibility": null,
            "width": null
          }
        },
        "185c1f0e09c340b7a7eeacee736a678f": {
          "model_module": "@jupyter-widgets/controls",
          "model_name": "DescriptionStyleModel",
          "model_module_version": "1.5.0",
          "state": {
            "_model_module": "@jupyter-widgets/controls",
            "_model_module_version": "1.5.0",
            "_model_name": "DescriptionStyleModel",
            "_view_count": null,
            "_view_module": "@jupyter-widgets/base",
            "_view_module_version": "1.2.0",
            "_view_name": "StyleView",
            "description_width": ""
          }
        },
        "cb7466353bd344fda21cff7110394b8e": {
          "model_module": "@jupyter-widgets/base",
          "model_name": "LayoutModel",
          "model_module_version": "1.2.0",
          "state": {
            "_model_module": "@jupyter-widgets/base",
            "_model_module_version": "1.2.0",
            "_model_name": "LayoutModel",
            "_view_count": null,
            "_view_module": "@jupyter-widgets/base",
            "_view_module_version": "1.2.0",
            "_view_name": "LayoutView",
            "align_content": null,
            "align_items": null,
            "align_self": null,
            "border": null,
            "bottom": null,
            "display": null,
            "flex": null,
            "flex_flow": null,
            "grid_area": null,
            "grid_auto_columns": null,
            "grid_auto_flow": null,
            "grid_auto_rows": null,
            "grid_column": null,
            "grid_gap": null,
            "grid_row": null,
            "grid_template_areas": null,
            "grid_template_columns": null,
            "grid_template_rows": null,
            "height": null,
            "justify_content": null,
            "justify_items": null,
            "left": null,
            "margin": null,
            "max_height": null,
            "max_width": null,
            "min_height": null,
            "min_width": null,
            "object_fit": null,
            "object_position": null,
            "order": null,
            "overflow": null,
            "overflow_x": null,
            "overflow_y": null,
            "padding": null,
            "right": null,
            "top": null,
            "visibility": null,
            "width": null
          }
        },
        "f3e915cf2cd14d5a82c11c235559834f": {
          "model_module": "@jupyter-widgets/controls",
          "model_name": "ProgressStyleModel",
          "model_module_version": "1.5.0",
          "state": {
            "_model_module": "@jupyter-widgets/controls",
            "_model_module_version": "1.5.0",
            "_model_name": "ProgressStyleModel",
            "_view_count": null,
            "_view_module": "@jupyter-widgets/base",
            "_view_module_version": "1.2.0",
            "_view_name": "StyleView",
            "bar_color": null,
            "description_width": ""
          }
        },
        "b893fa4cdf944e6aba08ee59f705938f": {
          "model_module": "@jupyter-widgets/base",
          "model_name": "LayoutModel",
          "model_module_version": "1.2.0",
          "state": {
            "_model_module": "@jupyter-widgets/base",
            "_model_module_version": "1.2.0",
            "_model_name": "LayoutModel",
            "_view_count": null,
            "_view_module": "@jupyter-widgets/base",
            "_view_module_version": "1.2.0",
            "_view_name": "LayoutView",
            "align_content": null,
            "align_items": null,
            "align_self": null,
            "border": null,
            "bottom": null,
            "display": null,
            "flex": null,
            "flex_flow": null,
            "grid_area": null,
            "grid_auto_columns": null,
            "grid_auto_flow": null,
            "grid_auto_rows": null,
            "grid_column": null,
            "grid_gap": null,
            "grid_row": null,
            "grid_template_areas": null,
            "grid_template_columns": null,
            "grid_template_rows": null,
            "height": null,
            "justify_content": null,
            "justify_items": null,
            "left": null,
            "margin": null,
            "max_height": null,
            "max_width": null,
            "min_height": null,
            "min_width": null,
            "object_fit": null,
            "object_position": null,
            "order": null,
            "overflow": null,
            "overflow_x": null,
            "overflow_y": null,
            "padding": null,
            "right": null,
            "top": null,
            "visibility": null,
            "width": null
          }
        },
        "2950111668e64391af6667ed1c6aa9f2": {
          "model_module": "@jupyter-widgets/controls",
          "model_name": "DescriptionStyleModel",
          "model_module_version": "1.5.0",
          "state": {
            "_model_module": "@jupyter-widgets/controls",
            "_model_module_version": "1.5.0",
            "_model_name": "DescriptionStyleModel",
            "_view_count": null,
            "_view_module": "@jupyter-widgets/base",
            "_view_module_version": "1.2.0",
            "_view_name": "StyleView",
            "description_width": ""
          }
        },
        "16982dc495bc455b95f14edc90a56beb": {
          "model_module": "@jupyter-widgets/controls",
          "model_name": "HBoxModel",
          "model_module_version": "1.5.0",
          "state": {
            "_dom_classes": [],
            "_model_module": "@jupyter-widgets/controls",
            "_model_module_version": "1.5.0",
            "_model_name": "HBoxModel",
            "_view_count": null,
            "_view_module": "@jupyter-widgets/controls",
            "_view_module_version": "1.5.0",
            "_view_name": "HBoxView",
            "box_style": "",
            "children": [
              "IPY_MODEL_e615325532a34ecda34f4dd3cd7c6d14",
              "IPY_MODEL_40d799ba6f87490391f79064d6a41616",
              "IPY_MODEL_2d39c754848b4fb89d650be71e83cc8f"
            ],
            "layout": "IPY_MODEL_89c6f8ee9746436186685f7f1e80f789"
          }
        },
        "e615325532a34ecda34f4dd3cd7c6d14": {
          "model_module": "@jupyter-widgets/controls",
          "model_name": "HTMLModel",
          "model_module_version": "1.5.0",
          "state": {
            "_dom_classes": [],
            "_model_module": "@jupyter-widgets/controls",
            "_model_module_version": "1.5.0",
            "_model_name": "HTMLModel",
            "_view_count": null,
            "_view_module": "@jupyter-widgets/controls",
            "_view_module_version": "1.5.0",
            "_view_name": "HTMLView",
            "description": "",
            "description_tooltip": null,
            "layout": "IPY_MODEL_ce8e757c7310452cbd1d8b578da82039",
            "placeholder": "​",
            "style": "IPY_MODEL_14ce8249380343d2bdb5ea08450e5b5b",
            "value": "Downloading (…)lve/main/config.json: 100%"
          }
        },
        "40d799ba6f87490391f79064d6a41616": {
          "model_module": "@jupyter-widgets/controls",
          "model_name": "FloatProgressModel",
          "model_module_version": "1.5.0",
          "state": {
            "_dom_classes": [],
            "_model_module": "@jupyter-widgets/controls",
            "_model_module_version": "1.5.0",
            "_model_name": "FloatProgressModel",
            "_view_count": null,
            "_view_module": "@jupyter-widgets/controls",
            "_view_module_version": "1.5.0",
            "_view_name": "ProgressView",
            "bar_style": "success",
            "description": "",
            "description_tooltip": null,
            "layout": "IPY_MODEL_169b707bd6d54c3699f826417a57226a",
            "max": 570,
            "min": 0,
            "orientation": "horizontal",
            "style": "IPY_MODEL_1294338173b24e44856b2147f3f2f5b9",
            "value": 570
          }
        },
        "2d39c754848b4fb89d650be71e83cc8f": {
          "model_module": "@jupyter-widgets/controls",
          "model_name": "HTMLModel",
          "model_module_version": "1.5.0",
          "state": {
            "_dom_classes": [],
            "_model_module": "@jupyter-widgets/controls",
            "_model_module_version": "1.5.0",
            "_model_name": "HTMLModel",
            "_view_count": null,
            "_view_module": "@jupyter-widgets/controls",
            "_view_module_version": "1.5.0",
            "_view_name": "HTMLView",
            "description": "",
            "description_tooltip": null,
            "layout": "IPY_MODEL_8319d6dd2d844d5c8369ccb0ef2460bc",
            "placeholder": "​",
            "style": "IPY_MODEL_610f08939bd647e2ab64a99ecc472f48",
            "value": " 570/570 [00:00&lt;00:00, 8.96kB/s]"
          }
        },
        "89c6f8ee9746436186685f7f1e80f789": {
          "model_module": "@jupyter-widgets/base",
          "model_name": "LayoutModel",
          "model_module_version": "1.2.0",
          "state": {
            "_model_module": "@jupyter-widgets/base",
            "_model_module_version": "1.2.0",
            "_model_name": "LayoutModel",
            "_view_count": null,
            "_view_module": "@jupyter-widgets/base",
            "_view_module_version": "1.2.0",
            "_view_name": "LayoutView",
            "align_content": null,
            "align_items": null,
            "align_self": null,
            "border": null,
            "bottom": null,
            "display": null,
            "flex": null,
            "flex_flow": null,
            "grid_area": null,
            "grid_auto_columns": null,
            "grid_auto_flow": null,
            "grid_auto_rows": null,
            "grid_column": null,
            "grid_gap": null,
            "grid_row": null,
            "grid_template_areas": null,
            "grid_template_columns": null,
            "grid_template_rows": null,
            "height": null,
            "justify_content": null,
            "justify_items": null,
            "left": null,
            "margin": null,
            "max_height": null,
            "max_width": null,
            "min_height": null,
            "min_width": null,
            "object_fit": null,
            "object_position": null,
            "order": null,
            "overflow": null,
            "overflow_x": null,
            "overflow_y": null,
            "padding": null,
            "right": null,
            "top": null,
            "visibility": null,
            "width": null
          }
        },
        "ce8e757c7310452cbd1d8b578da82039": {
          "model_module": "@jupyter-widgets/base",
          "model_name": "LayoutModel",
          "model_module_version": "1.2.0",
          "state": {
            "_model_module": "@jupyter-widgets/base",
            "_model_module_version": "1.2.0",
            "_model_name": "LayoutModel",
            "_view_count": null,
            "_view_module": "@jupyter-widgets/base",
            "_view_module_version": "1.2.0",
            "_view_name": "LayoutView",
            "align_content": null,
            "align_items": null,
            "align_self": null,
            "border": null,
            "bottom": null,
            "display": null,
            "flex": null,
            "flex_flow": null,
            "grid_area": null,
            "grid_auto_columns": null,
            "grid_auto_flow": null,
            "grid_auto_rows": null,
            "grid_column": null,
            "grid_gap": null,
            "grid_row": null,
            "grid_template_areas": null,
            "grid_template_columns": null,
            "grid_template_rows": null,
            "height": null,
            "justify_content": null,
            "justify_items": null,
            "left": null,
            "margin": null,
            "max_height": null,
            "max_width": null,
            "min_height": null,
            "min_width": null,
            "object_fit": null,
            "object_position": null,
            "order": null,
            "overflow": null,
            "overflow_x": null,
            "overflow_y": null,
            "padding": null,
            "right": null,
            "top": null,
            "visibility": null,
            "width": null
          }
        },
        "14ce8249380343d2bdb5ea08450e5b5b": {
          "model_module": "@jupyter-widgets/controls",
          "model_name": "DescriptionStyleModel",
          "model_module_version": "1.5.0",
          "state": {
            "_model_module": "@jupyter-widgets/controls",
            "_model_module_version": "1.5.0",
            "_model_name": "DescriptionStyleModel",
            "_view_count": null,
            "_view_module": "@jupyter-widgets/base",
            "_view_module_version": "1.2.0",
            "_view_name": "StyleView",
            "description_width": ""
          }
        },
        "169b707bd6d54c3699f826417a57226a": {
          "model_module": "@jupyter-widgets/base",
          "model_name": "LayoutModel",
          "model_module_version": "1.2.0",
          "state": {
            "_model_module": "@jupyter-widgets/base",
            "_model_module_version": "1.2.0",
            "_model_name": "LayoutModel",
            "_view_count": null,
            "_view_module": "@jupyter-widgets/base",
            "_view_module_version": "1.2.0",
            "_view_name": "LayoutView",
            "align_content": null,
            "align_items": null,
            "align_self": null,
            "border": null,
            "bottom": null,
            "display": null,
            "flex": null,
            "flex_flow": null,
            "grid_area": null,
            "grid_auto_columns": null,
            "grid_auto_flow": null,
            "grid_auto_rows": null,
            "grid_column": null,
            "grid_gap": null,
            "grid_row": null,
            "grid_template_areas": null,
            "grid_template_columns": null,
            "grid_template_rows": null,
            "height": null,
            "justify_content": null,
            "justify_items": null,
            "left": null,
            "margin": null,
            "max_height": null,
            "max_width": null,
            "min_height": null,
            "min_width": null,
            "object_fit": null,
            "object_position": null,
            "order": null,
            "overflow": null,
            "overflow_x": null,
            "overflow_y": null,
            "padding": null,
            "right": null,
            "top": null,
            "visibility": null,
            "width": null
          }
        },
        "1294338173b24e44856b2147f3f2f5b9": {
          "model_module": "@jupyter-widgets/controls",
          "model_name": "ProgressStyleModel",
          "model_module_version": "1.5.0",
          "state": {
            "_model_module": "@jupyter-widgets/controls",
            "_model_module_version": "1.5.0",
            "_model_name": "ProgressStyleModel",
            "_view_count": null,
            "_view_module": "@jupyter-widgets/base",
            "_view_module_version": "1.2.0",
            "_view_name": "StyleView",
            "bar_color": null,
            "description_width": ""
          }
        },
        "8319d6dd2d844d5c8369ccb0ef2460bc": {
          "model_module": "@jupyter-widgets/base",
          "model_name": "LayoutModel",
          "model_module_version": "1.2.0",
          "state": {
            "_model_module": "@jupyter-widgets/base",
            "_model_module_version": "1.2.0",
            "_model_name": "LayoutModel",
            "_view_count": null,
            "_view_module": "@jupyter-widgets/base",
            "_view_module_version": "1.2.0",
            "_view_name": "LayoutView",
            "align_content": null,
            "align_items": null,
            "align_self": null,
            "border": null,
            "bottom": null,
            "display": null,
            "flex": null,
            "flex_flow": null,
            "grid_area": null,
            "grid_auto_columns": null,
            "grid_auto_flow": null,
            "grid_auto_rows": null,
            "grid_column": null,
            "grid_gap": null,
            "grid_row": null,
            "grid_template_areas": null,
            "grid_template_columns": null,
            "grid_template_rows": null,
            "height": null,
            "justify_content": null,
            "justify_items": null,
            "left": null,
            "margin": null,
            "max_height": null,
            "max_width": null,
            "min_height": null,
            "min_width": null,
            "object_fit": null,
            "object_position": null,
            "order": null,
            "overflow": null,
            "overflow_x": null,
            "overflow_y": null,
            "padding": null,
            "right": null,
            "top": null,
            "visibility": null,
            "width": null
          }
        },
        "610f08939bd647e2ab64a99ecc472f48": {
          "model_module": "@jupyter-widgets/controls",
          "model_name": "DescriptionStyleModel",
          "model_module_version": "1.5.0",
          "state": {
            "_model_module": "@jupyter-widgets/controls",
            "_model_module_version": "1.5.0",
            "_model_name": "DescriptionStyleModel",
            "_view_count": null,
            "_view_module": "@jupyter-widgets/base",
            "_view_module_version": "1.2.0",
            "_view_name": "StyleView",
            "description_width": ""
          }
        },
        "808fe1f575b64846b7280775c0231cf9": {
          "model_module": "@jupyter-widgets/controls",
          "model_name": "HBoxModel",
          "model_module_version": "1.5.0",
          "state": {
            "_dom_classes": [],
            "_model_module": "@jupyter-widgets/controls",
            "_model_module_version": "1.5.0",
            "_model_name": "HBoxModel",
            "_view_count": null,
            "_view_module": "@jupyter-widgets/controls",
            "_view_module_version": "1.5.0",
            "_view_name": "HBoxView",
            "box_style": "",
            "children": [
              "IPY_MODEL_e581e429493541d09d06e94b1f46374a",
              "IPY_MODEL_cedaa6faa37944bbac7d1c6b987bf9ed",
              "IPY_MODEL_462ae2a9446246f694c6354c6ec8ab9a"
            ],
            "layout": "IPY_MODEL_80aab7891c6749b3b202d3c3eee3ea1c"
          }
        },
        "e581e429493541d09d06e94b1f46374a": {
          "model_module": "@jupyter-widgets/controls",
          "model_name": "HTMLModel",
          "model_module_version": "1.5.0",
          "state": {
            "_dom_classes": [],
            "_model_module": "@jupyter-widgets/controls",
            "_model_module_version": "1.5.0",
            "_model_name": "HTMLModel",
            "_view_count": null,
            "_view_module": "@jupyter-widgets/controls",
            "_view_module_version": "1.5.0",
            "_view_name": "HTMLView",
            "description": "",
            "description_tooltip": null,
            "layout": "IPY_MODEL_6a48d7eebd134de49de1efceaf159b43",
            "placeholder": "​",
            "style": "IPY_MODEL_ffcab2df115a4fbebd49d476edb51f36",
            "value": "Downloading (…)solve/main/vocab.txt: 100%"
          }
        },
        "cedaa6faa37944bbac7d1c6b987bf9ed": {
          "model_module": "@jupyter-widgets/controls",
          "model_name": "FloatProgressModel",
          "model_module_version": "1.5.0",
          "state": {
            "_dom_classes": [],
            "_model_module": "@jupyter-widgets/controls",
            "_model_module_version": "1.5.0",
            "_model_name": "FloatProgressModel",
            "_view_count": null,
            "_view_module": "@jupyter-widgets/controls",
            "_view_module_version": "1.5.0",
            "_view_name": "ProgressView",
            "bar_style": "success",
            "description": "",
            "description_tooltip": null,
            "layout": "IPY_MODEL_2f576ed16a26427e8c68ff1bc5914526",
            "max": 213450,
            "min": 0,
            "orientation": "horizontal",
            "style": "IPY_MODEL_79bbf73074d44f9eac2ac7a9ed93d57f",
            "value": 213450
          }
        },
        "462ae2a9446246f694c6354c6ec8ab9a": {
          "model_module": "@jupyter-widgets/controls",
          "model_name": "HTMLModel",
          "model_module_version": "1.5.0",
          "state": {
            "_dom_classes": [],
            "_model_module": "@jupyter-widgets/controls",
            "_model_module_version": "1.5.0",
            "_model_name": "HTMLModel",
            "_view_count": null,
            "_view_module": "@jupyter-widgets/controls",
            "_view_module_version": "1.5.0",
            "_view_name": "HTMLView",
            "description": "",
            "description_tooltip": null,
            "layout": "IPY_MODEL_424d667eb74446b39192444817d223dc",
            "placeholder": "​",
            "style": "IPY_MODEL_0ec3b156d4eb41ea9f7cafb91a4be3c0",
            "value": " 213k/213k [00:00&lt;00:00, 3.10MB/s]"
          }
        },
        "80aab7891c6749b3b202d3c3eee3ea1c": {
          "model_module": "@jupyter-widgets/base",
          "model_name": "LayoutModel",
          "model_module_version": "1.2.0",
          "state": {
            "_model_module": "@jupyter-widgets/base",
            "_model_module_version": "1.2.0",
            "_model_name": "LayoutModel",
            "_view_count": null,
            "_view_module": "@jupyter-widgets/base",
            "_view_module_version": "1.2.0",
            "_view_name": "LayoutView",
            "align_content": null,
            "align_items": null,
            "align_self": null,
            "border": null,
            "bottom": null,
            "display": null,
            "flex": null,
            "flex_flow": null,
            "grid_area": null,
            "grid_auto_columns": null,
            "grid_auto_flow": null,
            "grid_auto_rows": null,
            "grid_column": null,
            "grid_gap": null,
            "grid_row": null,
            "grid_template_areas": null,
            "grid_template_columns": null,
            "grid_template_rows": null,
            "height": null,
            "justify_content": null,
            "justify_items": null,
            "left": null,
            "margin": null,
            "max_height": null,
            "max_width": null,
            "min_height": null,
            "min_width": null,
            "object_fit": null,
            "object_position": null,
            "order": null,
            "overflow": null,
            "overflow_x": null,
            "overflow_y": null,
            "padding": null,
            "right": null,
            "top": null,
            "visibility": null,
            "width": null
          }
        },
        "6a48d7eebd134de49de1efceaf159b43": {
          "model_module": "@jupyter-widgets/base",
          "model_name": "LayoutModel",
          "model_module_version": "1.2.0",
          "state": {
            "_model_module": "@jupyter-widgets/base",
            "_model_module_version": "1.2.0",
            "_model_name": "LayoutModel",
            "_view_count": null,
            "_view_module": "@jupyter-widgets/base",
            "_view_module_version": "1.2.0",
            "_view_name": "LayoutView",
            "align_content": null,
            "align_items": null,
            "align_self": null,
            "border": null,
            "bottom": null,
            "display": null,
            "flex": null,
            "flex_flow": null,
            "grid_area": null,
            "grid_auto_columns": null,
            "grid_auto_flow": null,
            "grid_auto_rows": null,
            "grid_column": null,
            "grid_gap": null,
            "grid_row": null,
            "grid_template_areas": null,
            "grid_template_columns": null,
            "grid_template_rows": null,
            "height": null,
            "justify_content": null,
            "justify_items": null,
            "left": null,
            "margin": null,
            "max_height": null,
            "max_width": null,
            "min_height": null,
            "min_width": null,
            "object_fit": null,
            "object_position": null,
            "order": null,
            "overflow": null,
            "overflow_x": null,
            "overflow_y": null,
            "padding": null,
            "right": null,
            "top": null,
            "visibility": null,
            "width": null
          }
        },
        "ffcab2df115a4fbebd49d476edb51f36": {
          "model_module": "@jupyter-widgets/controls",
          "model_name": "DescriptionStyleModel",
          "model_module_version": "1.5.0",
          "state": {
            "_model_module": "@jupyter-widgets/controls",
            "_model_module_version": "1.5.0",
            "_model_name": "DescriptionStyleModel",
            "_view_count": null,
            "_view_module": "@jupyter-widgets/base",
            "_view_module_version": "1.2.0",
            "_view_name": "StyleView",
            "description_width": ""
          }
        },
        "2f576ed16a26427e8c68ff1bc5914526": {
          "model_module": "@jupyter-widgets/base",
          "model_name": "LayoutModel",
          "model_module_version": "1.2.0",
          "state": {
            "_model_module": "@jupyter-widgets/base",
            "_model_module_version": "1.2.0",
            "_model_name": "LayoutModel",
            "_view_count": null,
            "_view_module": "@jupyter-widgets/base",
            "_view_module_version": "1.2.0",
            "_view_name": "LayoutView",
            "align_content": null,
            "align_items": null,
            "align_self": null,
            "border": null,
            "bottom": null,
            "display": null,
            "flex": null,
            "flex_flow": null,
            "grid_area": null,
            "grid_auto_columns": null,
            "grid_auto_flow": null,
            "grid_auto_rows": null,
            "grid_column": null,
            "grid_gap": null,
            "grid_row": null,
            "grid_template_areas": null,
            "grid_template_columns": null,
            "grid_template_rows": null,
            "height": null,
            "justify_content": null,
            "justify_items": null,
            "left": null,
            "margin": null,
            "max_height": null,
            "max_width": null,
            "min_height": null,
            "min_width": null,
            "object_fit": null,
            "object_position": null,
            "order": null,
            "overflow": null,
            "overflow_x": null,
            "overflow_y": null,
            "padding": null,
            "right": null,
            "top": null,
            "visibility": null,
            "width": null
          }
        },
        "79bbf73074d44f9eac2ac7a9ed93d57f": {
          "model_module": "@jupyter-widgets/controls",
          "model_name": "ProgressStyleModel",
          "model_module_version": "1.5.0",
          "state": {
            "_model_module": "@jupyter-widgets/controls",
            "_model_module_version": "1.5.0",
            "_model_name": "ProgressStyleModel",
            "_view_count": null,
            "_view_module": "@jupyter-widgets/base",
            "_view_module_version": "1.2.0",
            "_view_name": "StyleView",
            "bar_color": null,
            "description_width": ""
          }
        },
        "424d667eb74446b39192444817d223dc": {
          "model_module": "@jupyter-widgets/base",
          "model_name": "LayoutModel",
          "model_module_version": "1.2.0",
          "state": {
            "_model_module": "@jupyter-widgets/base",
            "_model_module_version": "1.2.0",
            "_model_name": "LayoutModel",
            "_view_count": null,
            "_view_module": "@jupyter-widgets/base",
            "_view_module_version": "1.2.0",
            "_view_name": "LayoutView",
            "align_content": null,
            "align_items": null,
            "align_self": null,
            "border": null,
            "bottom": null,
            "display": null,
            "flex": null,
            "flex_flow": null,
            "grid_area": null,
            "grid_auto_columns": null,
            "grid_auto_flow": null,
            "grid_auto_rows": null,
            "grid_column": null,
            "grid_gap": null,
            "grid_row": null,
            "grid_template_areas": null,
            "grid_template_columns": null,
            "grid_template_rows": null,
            "height": null,
            "justify_content": null,
            "justify_items": null,
            "left": null,
            "margin": null,
            "max_height": null,
            "max_width": null,
            "min_height": null,
            "min_width": null,
            "object_fit": null,
            "object_position": null,
            "order": null,
            "overflow": null,
            "overflow_x": null,
            "overflow_y": null,
            "padding": null,
            "right": null,
            "top": null,
            "visibility": null,
            "width": null
          }
        },
        "0ec3b156d4eb41ea9f7cafb91a4be3c0": {
          "model_module": "@jupyter-widgets/controls",
          "model_name": "DescriptionStyleModel",
          "model_module_version": "1.5.0",
          "state": {
            "_model_module": "@jupyter-widgets/controls",
            "_model_module_version": "1.5.0",
            "_model_name": "DescriptionStyleModel",
            "_view_count": null,
            "_view_module": "@jupyter-widgets/base",
            "_view_module_version": "1.2.0",
            "_view_name": "StyleView",
            "description_width": ""
          }
        },
        "1374b72bbcd54774b3b2a5f957274427": {
          "model_module": "@jupyter-widgets/controls",
          "model_name": "HBoxModel",
          "model_module_version": "1.5.0",
          "state": {
            "_dom_classes": [],
            "_model_module": "@jupyter-widgets/controls",
            "_model_module_version": "1.5.0",
            "_model_name": "HBoxModel",
            "_view_count": null,
            "_view_module": "@jupyter-widgets/controls",
            "_view_module_version": "1.5.0",
            "_view_name": "HBoxView",
            "box_style": "",
            "children": [
              "IPY_MODEL_146fdfa72a5c4e75aa8fda769e5ce25a",
              "IPY_MODEL_01af6d1902964cf08bd437ad3b7053c4",
              "IPY_MODEL_ae23cab9ad354a528079d326e71f41a6"
            ],
            "layout": "IPY_MODEL_4d914803303241a094be11136cb0ec01"
          }
        },
        "146fdfa72a5c4e75aa8fda769e5ce25a": {
          "model_module": "@jupyter-widgets/controls",
          "model_name": "HTMLModel",
          "model_module_version": "1.5.0",
          "state": {
            "_dom_classes": [],
            "_model_module": "@jupyter-widgets/controls",
            "_model_module_version": "1.5.0",
            "_model_name": "HTMLModel",
            "_view_count": null,
            "_view_module": "@jupyter-widgets/controls",
            "_view_module_version": "1.5.0",
            "_view_name": "HTMLView",
            "description": "",
            "description_tooltip": null,
            "layout": "IPY_MODEL_ff791ee42bc8421f932e13e845bd83f3",
            "placeholder": "​",
            "style": "IPY_MODEL_d2d18c13fc374128a062d2b23f332b56",
            "value": "Downloading (…)/main/tokenizer.json: 100%"
          }
        },
        "01af6d1902964cf08bd437ad3b7053c4": {
          "model_module": "@jupyter-widgets/controls",
          "model_name": "FloatProgressModel",
          "model_module_version": "1.5.0",
          "state": {
            "_dom_classes": [],
            "_model_module": "@jupyter-widgets/controls",
            "_model_module_version": "1.5.0",
            "_model_name": "FloatProgressModel",
            "_view_count": null,
            "_view_module": "@jupyter-widgets/controls",
            "_view_module_version": "1.5.0",
            "_view_name": "ProgressView",
            "bar_style": "success",
            "description": "",
            "description_tooltip": null,
            "layout": "IPY_MODEL_3b88798d36a84d5aa73f187da6a0f863",
            "max": 435797,
            "min": 0,
            "orientation": "horizontal",
            "style": "IPY_MODEL_72ae0498d0a44c3ab4b5768337a1ccf9",
            "value": 435797
          }
        },
        "ae23cab9ad354a528079d326e71f41a6": {
          "model_module": "@jupyter-widgets/controls",
          "model_name": "HTMLModel",
          "model_module_version": "1.5.0",
          "state": {
            "_dom_classes": [],
            "_model_module": "@jupyter-widgets/controls",
            "_model_module_version": "1.5.0",
            "_model_name": "HTMLModel",
            "_view_count": null,
            "_view_module": "@jupyter-widgets/controls",
            "_view_module_version": "1.5.0",
            "_view_name": "HTMLView",
            "description": "",
            "description_tooltip": null,
            "layout": "IPY_MODEL_aec1cf7c13724ee4b5fd148e1668e399",
            "placeholder": "​",
            "style": "IPY_MODEL_ae4bdabf79534ff48c4ca369673cf445",
            "value": " 436k/436k [00:00&lt;00:00, 5.60MB/s]"
          }
        },
        "4d914803303241a094be11136cb0ec01": {
          "model_module": "@jupyter-widgets/base",
          "model_name": "LayoutModel",
          "model_module_version": "1.2.0",
          "state": {
            "_model_module": "@jupyter-widgets/base",
            "_model_module_version": "1.2.0",
            "_model_name": "LayoutModel",
            "_view_count": null,
            "_view_module": "@jupyter-widgets/base",
            "_view_module_version": "1.2.0",
            "_view_name": "LayoutView",
            "align_content": null,
            "align_items": null,
            "align_self": null,
            "border": null,
            "bottom": null,
            "display": null,
            "flex": null,
            "flex_flow": null,
            "grid_area": null,
            "grid_auto_columns": null,
            "grid_auto_flow": null,
            "grid_auto_rows": null,
            "grid_column": null,
            "grid_gap": null,
            "grid_row": null,
            "grid_template_areas": null,
            "grid_template_columns": null,
            "grid_template_rows": null,
            "height": null,
            "justify_content": null,
            "justify_items": null,
            "left": null,
            "margin": null,
            "max_height": null,
            "max_width": null,
            "min_height": null,
            "min_width": null,
            "object_fit": null,
            "object_position": null,
            "order": null,
            "overflow": null,
            "overflow_x": null,
            "overflow_y": null,
            "padding": null,
            "right": null,
            "top": null,
            "visibility": null,
            "width": null
          }
        },
        "ff791ee42bc8421f932e13e845bd83f3": {
          "model_module": "@jupyter-widgets/base",
          "model_name": "LayoutModel",
          "model_module_version": "1.2.0",
          "state": {
            "_model_module": "@jupyter-widgets/base",
            "_model_module_version": "1.2.0",
            "_model_name": "LayoutModel",
            "_view_count": null,
            "_view_module": "@jupyter-widgets/base",
            "_view_module_version": "1.2.0",
            "_view_name": "LayoutView",
            "align_content": null,
            "align_items": null,
            "align_self": null,
            "border": null,
            "bottom": null,
            "display": null,
            "flex": null,
            "flex_flow": null,
            "grid_area": null,
            "grid_auto_columns": null,
            "grid_auto_flow": null,
            "grid_auto_rows": null,
            "grid_column": null,
            "grid_gap": null,
            "grid_row": null,
            "grid_template_areas": null,
            "grid_template_columns": null,
            "grid_template_rows": null,
            "height": null,
            "justify_content": null,
            "justify_items": null,
            "left": null,
            "margin": null,
            "max_height": null,
            "max_width": null,
            "min_height": null,
            "min_width": null,
            "object_fit": null,
            "object_position": null,
            "order": null,
            "overflow": null,
            "overflow_x": null,
            "overflow_y": null,
            "padding": null,
            "right": null,
            "top": null,
            "visibility": null,
            "width": null
          }
        },
        "d2d18c13fc374128a062d2b23f332b56": {
          "model_module": "@jupyter-widgets/controls",
          "model_name": "DescriptionStyleModel",
          "model_module_version": "1.5.0",
          "state": {
            "_model_module": "@jupyter-widgets/controls",
            "_model_module_version": "1.5.0",
            "_model_name": "DescriptionStyleModel",
            "_view_count": null,
            "_view_module": "@jupyter-widgets/base",
            "_view_module_version": "1.2.0",
            "_view_name": "StyleView",
            "description_width": ""
          }
        },
        "3b88798d36a84d5aa73f187da6a0f863": {
          "model_module": "@jupyter-widgets/base",
          "model_name": "LayoutModel",
          "model_module_version": "1.2.0",
          "state": {
            "_model_module": "@jupyter-widgets/base",
            "_model_module_version": "1.2.0",
            "_model_name": "LayoutModel",
            "_view_count": null,
            "_view_module": "@jupyter-widgets/base",
            "_view_module_version": "1.2.0",
            "_view_name": "LayoutView",
            "align_content": null,
            "align_items": null,
            "align_self": null,
            "border": null,
            "bottom": null,
            "display": null,
            "flex": null,
            "flex_flow": null,
            "grid_area": null,
            "grid_auto_columns": null,
            "grid_auto_flow": null,
            "grid_auto_rows": null,
            "grid_column": null,
            "grid_gap": null,
            "grid_row": null,
            "grid_template_areas": null,
            "grid_template_columns": null,
            "grid_template_rows": null,
            "height": null,
            "justify_content": null,
            "justify_items": null,
            "left": null,
            "margin": null,
            "max_height": null,
            "max_width": null,
            "min_height": null,
            "min_width": null,
            "object_fit": null,
            "object_position": null,
            "order": null,
            "overflow": null,
            "overflow_x": null,
            "overflow_y": null,
            "padding": null,
            "right": null,
            "top": null,
            "visibility": null,
            "width": null
          }
        },
        "72ae0498d0a44c3ab4b5768337a1ccf9": {
          "model_module": "@jupyter-widgets/controls",
          "model_name": "ProgressStyleModel",
          "model_module_version": "1.5.0",
          "state": {
            "_model_module": "@jupyter-widgets/controls",
            "_model_module_version": "1.5.0",
            "_model_name": "ProgressStyleModel",
            "_view_count": null,
            "_view_module": "@jupyter-widgets/base",
            "_view_module_version": "1.2.0",
            "_view_name": "StyleView",
            "bar_color": null,
            "description_width": ""
          }
        },
        "aec1cf7c13724ee4b5fd148e1668e399": {
          "model_module": "@jupyter-widgets/base",
          "model_name": "LayoutModel",
          "model_module_version": "1.2.0",
          "state": {
            "_model_module": "@jupyter-widgets/base",
            "_model_module_version": "1.2.0",
            "_model_name": "LayoutModel",
            "_view_count": null,
            "_view_module": "@jupyter-widgets/base",
            "_view_module_version": "1.2.0",
            "_view_name": "LayoutView",
            "align_content": null,
            "align_items": null,
            "align_self": null,
            "border": null,
            "bottom": null,
            "display": null,
            "flex": null,
            "flex_flow": null,
            "grid_area": null,
            "grid_auto_columns": null,
            "grid_auto_flow": null,
            "grid_auto_rows": null,
            "grid_column": null,
            "grid_gap": null,
            "grid_row": null,
            "grid_template_areas": null,
            "grid_template_columns": null,
            "grid_template_rows": null,
            "height": null,
            "justify_content": null,
            "justify_items": null,
            "left": null,
            "margin": null,
            "max_height": null,
            "max_width": null,
            "min_height": null,
            "min_width": null,
            "object_fit": null,
            "object_position": null,
            "order": null,
            "overflow": null,
            "overflow_x": null,
            "overflow_y": null,
            "padding": null,
            "right": null,
            "top": null,
            "visibility": null,
            "width": null
          }
        },
        "ae4bdabf79534ff48c4ca369673cf445": {
          "model_module": "@jupyter-widgets/controls",
          "model_name": "DescriptionStyleModel",
          "model_module_version": "1.5.0",
          "state": {
            "_model_module": "@jupyter-widgets/controls",
            "_model_module_version": "1.5.0",
            "_model_name": "DescriptionStyleModel",
            "_view_count": null,
            "_view_module": "@jupyter-widgets/base",
            "_view_module_version": "1.2.0",
            "_view_name": "StyleView",
            "description_width": ""
          }
        },
        "6013f30580094cf1b515f305dcc0a462": {
          "model_module": "@jupyter-widgets/controls",
          "model_name": "HBoxModel",
          "model_module_version": "1.5.0",
          "state": {
            "_dom_classes": [],
            "_model_module": "@jupyter-widgets/controls",
            "_model_module_version": "1.5.0",
            "_model_name": "HBoxModel",
            "_view_count": null,
            "_view_module": "@jupyter-widgets/controls",
            "_view_module_version": "1.5.0",
            "_view_name": "HBoxView",
            "box_style": "",
            "children": [
              "IPY_MODEL_283de1f046fa4698845209dfbaa0a068",
              "IPY_MODEL_1d5f94b87eea4f56b118bd4fb5ab513d",
              "IPY_MODEL_d43343e9d83d47ed945f7eed99755e18"
            ],
            "layout": "IPY_MODEL_34c515a680904cbe98c57c7ce07f5d84"
          }
        },
        "283de1f046fa4698845209dfbaa0a068": {
          "model_module": "@jupyter-widgets/controls",
          "model_name": "HTMLModel",
          "model_module_version": "1.5.0",
          "state": {
            "_dom_classes": [],
            "_model_module": "@jupyter-widgets/controls",
            "_model_module_version": "1.5.0",
            "_model_name": "HTMLModel",
            "_view_count": null,
            "_view_module": "@jupyter-widgets/controls",
            "_view_module_version": "1.5.0",
            "_view_name": "HTMLView",
            "description": "",
            "description_tooltip": null,
            "layout": "IPY_MODEL_db64b668711d49ee9d2bd15743995545",
            "placeholder": "​",
            "style": "IPY_MODEL_73007cbeab084998aa4dfd495440afb0",
            "value": "Downloading tf_model.h5: 100%"
          }
        },
        "1d5f94b87eea4f56b118bd4fb5ab513d": {
          "model_module": "@jupyter-widgets/controls",
          "model_name": "FloatProgressModel",
          "model_module_version": "1.5.0",
          "state": {
            "_dom_classes": [],
            "_model_module": "@jupyter-widgets/controls",
            "_model_module_version": "1.5.0",
            "_model_name": "FloatProgressModel",
            "_view_count": null,
            "_view_module": "@jupyter-widgets/controls",
            "_view_module_version": "1.5.0",
            "_view_name": "ProgressView",
            "bar_style": "success",
            "description": "",
            "description_tooltip": null,
            "layout": "IPY_MODEL_9621ada8f5524117b80ffb9bd0e0e467",
            "max": 526681800,
            "min": 0,
            "orientation": "horizontal",
            "style": "IPY_MODEL_59727b05d816443995b7ff4af35b2a73",
            "value": 526681800
          }
        },
        "d43343e9d83d47ed945f7eed99755e18": {
          "model_module": "@jupyter-widgets/controls",
          "model_name": "HTMLModel",
          "model_module_version": "1.5.0",
          "state": {
            "_dom_classes": [],
            "_model_module": "@jupyter-widgets/controls",
            "_model_module_version": "1.5.0",
            "_model_name": "HTMLModel",
            "_view_count": null,
            "_view_module": "@jupyter-widgets/controls",
            "_view_module_version": "1.5.0",
            "_view_name": "HTMLView",
            "description": "",
            "description_tooltip": null,
            "layout": "IPY_MODEL_73de7ae4d0df496a9f53a598c5dcd1d7",
            "placeholder": "​",
            "style": "IPY_MODEL_e597e1c990f84fe5b5543aeae2d9cc20",
            "value": " 527M/527M [00:03&lt;00:00, 148MB/s]"
          }
        },
        "34c515a680904cbe98c57c7ce07f5d84": {
          "model_module": "@jupyter-widgets/base",
          "model_name": "LayoutModel",
          "model_module_version": "1.2.0",
          "state": {
            "_model_module": "@jupyter-widgets/base",
            "_model_module_version": "1.2.0",
            "_model_name": "LayoutModel",
            "_view_count": null,
            "_view_module": "@jupyter-widgets/base",
            "_view_module_version": "1.2.0",
            "_view_name": "LayoutView",
            "align_content": null,
            "align_items": null,
            "align_self": null,
            "border": null,
            "bottom": null,
            "display": null,
            "flex": null,
            "flex_flow": null,
            "grid_area": null,
            "grid_auto_columns": null,
            "grid_auto_flow": null,
            "grid_auto_rows": null,
            "grid_column": null,
            "grid_gap": null,
            "grid_row": null,
            "grid_template_areas": null,
            "grid_template_columns": null,
            "grid_template_rows": null,
            "height": null,
            "justify_content": null,
            "justify_items": null,
            "left": null,
            "margin": null,
            "max_height": null,
            "max_width": null,
            "min_height": null,
            "min_width": null,
            "object_fit": null,
            "object_position": null,
            "order": null,
            "overflow": null,
            "overflow_x": null,
            "overflow_y": null,
            "padding": null,
            "right": null,
            "top": null,
            "visibility": null,
            "width": null
          }
        },
        "db64b668711d49ee9d2bd15743995545": {
          "model_module": "@jupyter-widgets/base",
          "model_name": "LayoutModel",
          "model_module_version": "1.2.0",
          "state": {
            "_model_module": "@jupyter-widgets/base",
            "_model_module_version": "1.2.0",
            "_model_name": "LayoutModel",
            "_view_count": null,
            "_view_module": "@jupyter-widgets/base",
            "_view_module_version": "1.2.0",
            "_view_name": "LayoutView",
            "align_content": null,
            "align_items": null,
            "align_self": null,
            "border": null,
            "bottom": null,
            "display": null,
            "flex": null,
            "flex_flow": null,
            "grid_area": null,
            "grid_auto_columns": null,
            "grid_auto_flow": null,
            "grid_auto_rows": null,
            "grid_column": null,
            "grid_gap": null,
            "grid_row": null,
            "grid_template_areas": null,
            "grid_template_columns": null,
            "grid_template_rows": null,
            "height": null,
            "justify_content": null,
            "justify_items": null,
            "left": null,
            "margin": null,
            "max_height": null,
            "max_width": null,
            "min_height": null,
            "min_width": null,
            "object_fit": null,
            "object_position": null,
            "order": null,
            "overflow": null,
            "overflow_x": null,
            "overflow_y": null,
            "padding": null,
            "right": null,
            "top": null,
            "visibility": null,
            "width": null
          }
        },
        "73007cbeab084998aa4dfd495440afb0": {
          "model_module": "@jupyter-widgets/controls",
          "model_name": "DescriptionStyleModel",
          "model_module_version": "1.5.0",
          "state": {
            "_model_module": "@jupyter-widgets/controls",
            "_model_module_version": "1.5.0",
            "_model_name": "DescriptionStyleModel",
            "_view_count": null,
            "_view_module": "@jupyter-widgets/base",
            "_view_module_version": "1.2.0",
            "_view_name": "StyleView",
            "description_width": ""
          }
        },
        "9621ada8f5524117b80ffb9bd0e0e467": {
          "model_module": "@jupyter-widgets/base",
          "model_name": "LayoutModel",
          "model_module_version": "1.2.0",
          "state": {
            "_model_module": "@jupyter-widgets/base",
            "_model_module_version": "1.2.0",
            "_model_name": "LayoutModel",
            "_view_count": null,
            "_view_module": "@jupyter-widgets/base",
            "_view_module_version": "1.2.0",
            "_view_name": "LayoutView",
            "align_content": null,
            "align_items": null,
            "align_self": null,
            "border": null,
            "bottom": null,
            "display": null,
            "flex": null,
            "flex_flow": null,
            "grid_area": null,
            "grid_auto_columns": null,
            "grid_auto_flow": null,
            "grid_auto_rows": null,
            "grid_column": null,
            "grid_gap": null,
            "grid_row": null,
            "grid_template_areas": null,
            "grid_template_columns": null,
            "grid_template_rows": null,
            "height": null,
            "justify_content": null,
            "justify_items": null,
            "left": null,
            "margin": null,
            "max_height": null,
            "max_width": null,
            "min_height": null,
            "min_width": null,
            "object_fit": null,
            "object_position": null,
            "order": null,
            "overflow": null,
            "overflow_x": null,
            "overflow_y": null,
            "padding": null,
            "right": null,
            "top": null,
            "visibility": null,
            "width": null
          }
        },
        "59727b05d816443995b7ff4af35b2a73": {
          "model_module": "@jupyter-widgets/controls",
          "model_name": "ProgressStyleModel",
          "model_module_version": "1.5.0",
          "state": {
            "_model_module": "@jupyter-widgets/controls",
            "_model_module_version": "1.5.0",
            "_model_name": "ProgressStyleModel",
            "_view_count": null,
            "_view_module": "@jupyter-widgets/base",
            "_view_module_version": "1.2.0",
            "_view_name": "StyleView",
            "bar_color": null,
            "description_width": ""
          }
        },
        "73de7ae4d0df496a9f53a598c5dcd1d7": {
          "model_module": "@jupyter-widgets/base",
          "model_name": "LayoutModel",
          "model_module_version": "1.2.0",
          "state": {
            "_model_module": "@jupyter-widgets/base",
            "_model_module_version": "1.2.0",
            "_model_name": "LayoutModel",
            "_view_count": null,
            "_view_module": "@jupyter-widgets/base",
            "_view_module_version": "1.2.0",
            "_view_name": "LayoutView",
            "align_content": null,
            "align_items": null,
            "align_self": null,
            "border": null,
            "bottom": null,
            "display": null,
            "flex": null,
            "flex_flow": null,
            "grid_area": null,
            "grid_auto_columns": null,
            "grid_auto_flow": null,
            "grid_auto_rows": null,
            "grid_column": null,
            "grid_gap": null,
            "grid_row": null,
            "grid_template_areas": null,
            "grid_template_columns": null,
            "grid_template_rows": null,
            "height": null,
            "justify_content": null,
            "justify_items": null,
            "left": null,
            "margin": null,
            "max_height": null,
            "max_width": null,
            "min_height": null,
            "min_width": null,
            "object_fit": null,
            "object_position": null,
            "order": null,
            "overflow": null,
            "overflow_x": null,
            "overflow_y": null,
            "padding": null,
            "right": null,
            "top": null,
            "visibility": null,
            "width": null
          }
        },
        "e597e1c990f84fe5b5543aeae2d9cc20": {
          "model_module": "@jupyter-widgets/controls",
          "model_name": "DescriptionStyleModel",
          "model_module_version": "1.5.0",
          "state": {
            "_model_module": "@jupyter-widgets/controls",
            "_model_module_version": "1.5.0",
            "_model_name": "DescriptionStyleModel",
            "_view_count": null,
            "_view_module": "@jupyter-widgets/base",
            "_view_module_version": "1.2.0",
            "_view_name": "StyleView",
            "description_width": ""
          }
        }
      }
    }
  },
  "nbformat_minor": 0,
  "nbformat": 4,
  "cells": [
    {
      "cell_type": "markdown",
      "source": [
        "## classification of emotion from text using Bert pre-trained model\n",
        "\n"
      ],
      "metadata": {
        "id": "Jorn8n4eRZNg"
      }
    },
    {
      "cell_type": "markdown",
      "source": [
        "![0_m_kXt3uqZH9e7H4w.png](data:image/png;base64,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)"
      ],
      "metadata": {
        "id": "Brf2QPEh-ybR"
      }
    },
    {
      "cell_type": "markdown",
      "source": [
        "## Problem statement:\n",
        "\n",
        "In the era of a customer-focused industry, companies are coming up with new ways to understand their consumers. Detecting emotions accurately from the reviews, chats, tweets, blogs, posts, etc. is one such method without explicitly asking the customers. With the advent of new algorithms and increasing computing power, Natural Language Processing (NLP) has enabled us to detect emotions from written text & take action accordingly.\n",
        "\n",
        "Here, We have to detect the emotions of customers based on the tweets by using state-of-the-art architectures to solve the probelem and predict accurately."
      ],
      "metadata": {
        "id": "a2A-XL_lRZNi"
      }
    },
    {
      "cell_type": "markdown",
      "source": [
        "   ## Annotations of different emotions:\n",
        "   \n",
        "   ## Joy : 0\n",
        "   ## Fear : 1 \n",
        "   ## Anger : 2 \n",
        "   ## Sadness : 3 \n",
        "   ## Disgust : 4\n",
        "   ## Shame : 5"
      ],
      "metadata": {
        "id": "Qj4biMxoRZNi"
      }
    },
    {
      "cell_type": "markdown",
      "source": [],
      "metadata": {
        "id": "8k1ZgPZwRZNi"
      }
    },
    {
      "cell_type": "markdown",
      "source": [
        "## Table of contents\n",
        " \n",
        "1. ## Importing and installing required libraries\n",
        "2. ## Text preprocessing\n",
        "3. ## Loading the model (bert)\n",
        "4. ## Model fitting and evaluation\n",
        "5. ## Prediction part\n",
        "6. ## Prediction on custom text"
      ],
      "metadata": {
        "id": "KPP-UYocRZNj"
      }
    },
    {
      "cell_type": "markdown",
      "source": [
        "# 1. Importing and Installing required libraries"
      ],
      "metadata": {
        "id": "31-3NzZYRZNj"
      }
    },
    {
      "cell_type": "code",
      "source": [
        "!pip install text_hammer"
      ],
      "metadata": {
        "scrolled": true,
        "execution": {
          "iopub.status.busy": "2023-01-07T08:43:18.602521Z",
          "iopub.execute_input": "2023-01-07T08:43:18.602934Z",
          "iopub.status.idle": "2023-01-07T08:43:30.024890Z",
          "shell.execute_reply.started": "2023-01-07T08:43:18.602902Z",
          "shell.execute_reply": "2023-01-07T08:43:30.023532Z"
        },
        "trusted": true,
        "colab": {
          "base_uri": "https://localhost:8080/"
        },
        "id": "Md_JO5NnRZNj",
        "outputId": "5a11bed1-723d-470f-8442-f85fe4d0ac42"
      },
      "execution_count": 2,
      "outputs": [
        {
          "output_type": "stream",
          "name": "stdout",
          "text": [
            "Looking in indexes: https://pypi.org/simple, https://us-python.pkg.dev/colab-wheels/public/simple/\n",
            "Requirement already satisfied: text_hammer in /usr/local/lib/python3.9/dist-packages (0.1.5)\n",
            "Requirement already satisfied: TextBlob in /usr/local/lib/python3.9/dist-packages (from text_hammer) (0.17.1)\n",
            "Requirement already satisfied: pandas in /usr/local/lib/python3.9/dist-packages (from text_hammer) (1.4.4)\n",
            "Requirement already satisfied: numpy in /usr/local/lib/python3.9/dist-packages (from text_hammer) (1.22.4)\n",
            "Requirement already satisfied: spacy in /usr/local/lib/python3.9/dist-packages (from text_hammer) (3.5.1)\n",
            "Requirement already satisfied: beautifulsoup4==4.9.1 in /usr/local/lib/python3.9/dist-packages (from text_hammer) (4.9.1)\n",
            "Requirement already satisfied: soupsieve>1.2 in /usr/local/lib/python3.9/dist-packages (from beautifulsoup4==4.9.1->text_hammer) (2.4)\n",
            "Requirement already satisfied: python-dateutil>=2.8.1 in /usr/local/lib/python3.9/dist-packages (from pandas->text_hammer) (2.8.2)\n",
            "Requirement already satisfied: pytz>=2020.1 in /usr/local/lib/python3.9/dist-packages (from pandas->text_hammer) (2022.7.1)\n",
            "Requirement already satisfied: cymem<2.1.0,>=2.0.2 in /usr/local/lib/python3.9/dist-packages (from spacy->text_hammer) (2.0.7)\n",
            "Requirement already satisfied: spacy-loggers<2.0.0,>=1.0.0 in /usr/local/lib/python3.9/dist-packages (from spacy->text_hammer) (1.0.4)\n",
            "Requirement already satisfied: wasabi<1.2.0,>=0.9.1 in /usr/local/lib/python3.9/dist-packages (from spacy->text_hammer) (1.1.1)\n",
            "Requirement already satisfied: setuptools in /usr/local/lib/python3.9/dist-packages (from spacy->text_hammer) (67.6.1)\n",
            "Requirement already satisfied: requests<3.0.0,>=2.13.0 in /usr/local/lib/python3.9/dist-packages (from spacy->text_hammer) (2.27.1)\n",
            "Requirement already satisfied: srsly<3.0.0,>=2.4.3 in /usr/local/lib/python3.9/dist-packages (from spacy->text_hammer) (2.4.6)\n",
            "Requirement already satisfied: typer<0.8.0,>=0.3.0 in /usr/local/lib/python3.9/dist-packages (from spacy->text_hammer) (0.7.0)\n",
            "Requirement already satisfied: preshed<3.1.0,>=3.0.2 in /usr/local/lib/python3.9/dist-packages (from spacy->text_hammer) (3.0.8)\n",
            "Requirement already satisfied: pydantic!=1.8,!=1.8.1,<1.11.0,>=1.7.4 in /usr/local/lib/python3.9/dist-packages (from spacy->text_hammer) (1.10.7)\n",
            "Requirement already satisfied: smart-open<7.0.0,>=5.2.1 in /usr/local/lib/python3.9/dist-packages (from spacy->text_hammer) (6.3.0)\n",
            "Requirement already satisfied: thinc<8.2.0,>=8.1.8 in /usr/local/lib/python3.9/dist-packages (from spacy->text_hammer) (8.1.9)\n",
            "Requirement already satisfied: murmurhash<1.1.0,>=0.28.0 in /usr/local/lib/python3.9/dist-packages (from spacy->text_hammer) (1.0.9)\n",
            "Requirement already satisfied: catalogue<2.1.0,>=2.0.6 in /usr/local/lib/python3.9/dist-packages (from spacy->text_hammer) (2.0.8)\n",
            "Requirement already satisfied: pathy>=0.10.0 in /usr/local/lib/python3.9/dist-packages (from spacy->text_hammer) (0.10.1)\n",
            "Requirement already satisfied: spacy-legacy<3.1.0,>=3.0.11 in /usr/local/lib/python3.9/dist-packages (from spacy->text_hammer) (3.0.12)\n",
            "Requirement already satisfied: jinja2 in /usr/local/lib/python3.9/dist-packages (from spacy->text_hammer) (3.1.2)\n",
            "Requirement already satisfied: packaging>=20.0 in /usr/local/lib/python3.9/dist-packages (from spacy->text_hammer) (23.0)\n",
            "Requirement already satisfied: tqdm<5.0.0,>=4.38.0 in /usr/local/lib/python3.9/dist-packages (from spacy->text_hammer) (4.65.0)\n",
            "Requirement already satisfied: langcodes<4.0.0,>=3.2.0 in /usr/local/lib/python3.9/dist-packages (from spacy->text_hammer) (3.3.0)\n",
            "Requirement already satisfied: nltk>=3.1 in /usr/local/lib/python3.9/dist-packages (from TextBlob->text_hammer) (3.8.1)\n",
            "Requirement already satisfied: joblib in /usr/local/lib/python3.9/dist-packages (from nltk>=3.1->TextBlob->text_hammer) (1.1.1)\n",
            "Requirement already satisfied: click in /usr/local/lib/python3.9/dist-packages (from nltk>=3.1->TextBlob->text_hammer) (8.1.3)\n",
            "Requirement already satisfied: regex>=2021.8.3 in /usr/local/lib/python3.9/dist-packages (from nltk>=3.1->TextBlob->text_hammer) (2022.10.31)\n",
            "Requirement already satisfied: typing-extensions>=4.2.0 in /usr/local/lib/python3.9/dist-packages (from pydantic!=1.8,!=1.8.1,<1.11.0,>=1.7.4->spacy->text_hammer) (4.5.0)\n",
            "Requirement already satisfied: six>=1.5 in /usr/local/lib/python3.9/dist-packages (from python-dateutil>=2.8.1->pandas->text_hammer) (1.16.0)\n",
            "Requirement already satisfied: idna<4,>=2.5 in /usr/local/lib/python3.9/dist-packages (from requests<3.0.0,>=2.13.0->spacy->text_hammer) (3.4)\n",
            "Requirement already satisfied: charset-normalizer~=2.0.0 in /usr/local/lib/python3.9/dist-packages (from requests<3.0.0,>=2.13.0->spacy->text_hammer) (2.0.12)\n",
            "Requirement already satisfied: urllib3<1.27,>=1.21.1 in /usr/local/lib/python3.9/dist-packages (from requests<3.0.0,>=2.13.0->spacy->text_hammer) (1.26.15)\n",
            "Requirement already satisfied: certifi>=2017.4.17 in /usr/local/lib/python3.9/dist-packages (from requests<3.0.0,>=2.13.0->spacy->text_hammer) (2022.12.7)\n",
            "Requirement already satisfied: blis<0.8.0,>=0.7.8 in /usr/local/lib/python3.9/dist-packages (from thinc<8.2.0,>=8.1.8->spacy->text_hammer) (0.7.9)\n",
            "Requirement already satisfied: confection<1.0.0,>=0.0.1 in /usr/local/lib/python3.9/dist-packages (from thinc<8.2.0,>=8.1.8->spacy->text_hammer) (0.0.4)\n",
            "Requirement already satisfied: MarkupSafe>=2.0 in /usr/local/lib/python3.9/dist-packages (from jinja2->spacy->text_hammer) (2.1.2)\n"
          ]
        }
      ]
    },
    {
      "cell_type": "code",
      "source": [
        "import pandas as pd\n",
        "import numpy as np\n",
        "import text_hammer as th\n",
        "from tqdm._tqdm_notebook import tqdm_notebook\n",
        "tqdm_notebook.pandas()\n",
        "from sklearn.model_selection import train_test_split\n",
        "# from transformers import AutoTokenizer,TFBertModel\n",
        "# from transformers import BertTokenizer, TFBertModel, BertConfig,TFDistilBertModel,DistilBertTokenizer,DistilBertConfig\n",
        "import shutil\n",
        "import tensorflow as tf\n",
        "from tensorflow.keras.layers import Input, Dense\n",
        "from tensorflow.keras.optimizers import Adam\n",
        "from tensorflow.keras.callbacks import EarlyStopping\n",
        "from tensorflow.keras.initializers import TruncatedNormal\n",
        "from tensorflow.keras.losses import CategoricalCrossentropy\n",
        "from tensorflow.keras.metrics import CategoricalAccuracy\n",
        "from tensorflow.keras.utils import to_categorical\n",
        "from sklearn.metrics import classification_report,confusion_matrix,accuracy_score\n",
        "import matplotlib.pyplot as plt\n",
        "import seaborn as sns\n",
        "import warnings\n",
        "import pickle\n",
        "warnings.filterwarnings('ignore')\n",
        "%config Completer.use_jedi = False # if autocompletion doesnot work in kaggle notebook | hit tab"
      ],
      "metadata": {
        "execution": {
          "iopub.status.busy": "2023-01-07T08:43:30.028078Z",
          "iopub.execute_input": "2023-01-07T08:43:30.028627Z",
          "iopub.status.idle": "2023-01-07T08:43:30.055496Z",
          "shell.execute_reply.started": "2023-01-07T08:43:30.028571Z",
          "shell.execute_reply": "2023-01-07T08:43:30.054201Z"
        },
        "trusted": true,
        "colab": {
          "base_uri": "https://localhost:8080/"
        },
        "id": "OUK1RARRRZNk",
        "outputId": "9a458dae-a774-4dd0-9d56-f347465b1ed2"
      },
      "execution_count": null,
      "outputs": [
        {
          "output_type": "stream",
          "name": "stderr",
          "text": [
            "/usr/local/lib/python3.9/dist-packages/torch/cuda/__init__.py:497: UserWarning: Can't initialize NVML\n",
            "  warnings.warn(\"Can't initialize NVML\")\n"
          ]
        }
      ]
    },
    {
      "cell_type": "code",
      "source": [
        "!pip install transformers"
      ],
      "metadata": {
        "colab": {
          "base_uri": "https://localhost:8080/"
        },
        "id": "Yhq-qDl8UOY8",
        "outputId": "2e53ec79-9f69-471d-9358-bf4d1c830143"
      },
      "execution_count": null,
      "outputs": [
        {
          "output_type": "stream",
          "name": "stdout",
          "text": [
            "Looking in indexes: https://pypi.org/simple, https://us-python.pkg.dev/colab-wheels/public/simple/\n",
            "Collecting transformers\n",
            "  Downloading transformers-4.27.4-py3-none-any.whl (6.8 MB)\n",
            "\u001b[2K     \u001b[90m━━━━━━━━━━━━━━━━━━━━━━━━━━━━━━━━━━━━━━━━\u001b[0m \u001b[32m6.8/6.8 MB\u001b[0m \u001b[31m69.9 MB/s\u001b[0m eta \u001b[36m0:00:00\u001b[0m\n",
            "\u001b[?25hRequirement already satisfied: tqdm>=4.27 in /usr/local/lib/python3.9/dist-packages (from transformers) (4.65.0)\n",
            "Requirement already satisfied: regex!=2019.12.17 in /usr/local/lib/python3.9/dist-packages (from transformers) (2022.10.31)\n",
            "Collecting huggingface-hub<1.0,>=0.11.0\n",
            "  Downloading huggingface_hub-0.13.3-py3-none-any.whl (199 kB)\n",
            "\u001b[2K     \u001b[90m━━━━━━━━━━━━━━━━━━━━━━━━━━━━━━━━━━━━━━\u001b[0m \u001b[32m199.8/199.8 KB\u001b[0m \u001b[31m21.8 MB/s\u001b[0m eta \u001b[36m0:00:00\u001b[0m\n",
            "\u001b[?25hRequirement already satisfied: requests in /usr/local/lib/python3.9/dist-packages (from transformers) (2.27.1)\n",
            "Requirement already satisfied: packaging>=20.0 in /usr/local/lib/python3.9/dist-packages (from transformers) (23.0)\n",
            "Collecting tokenizers!=0.11.3,<0.14,>=0.11.1\n",
            "\u001b[33m  WARNING: Retrying (Retry(total=4, connect=None, read=None, redirect=None, status=None)) after connection broken by 'ProtocolError('Connection aborted.', ConnectionResetError(104, 'Connection reset by peer'))': /packages/55/67/37f8beee4c6be9b2c68e59d515967b748aa97279fd9040405f8ea27814e9/tokenizers-0.13.2-cp39-cp39-manylinux_2_17_x86_64.manylinux2014_x86_64.whl\u001b[0m\u001b[33m\n",
            "\u001b[0m  Downloading tokenizers-0.13.2-cp39-cp39-manylinux_2_17_x86_64.manylinux2014_x86_64.whl (7.6 MB)\n",
            "\u001b[2K     \u001b[90m━━━━━━━━━━━━━━━━━━━━━━━━━━━━━━━━━━━━━━━━\u001b[0m \u001b[32m7.6/7.6 MB\u001b[0m \u001b[31m68.5 MB/s\u001b[0m eta \u001b[36m0:00:00\u001b[0m\n",
            "\u001b[?25hRequirement already satisfied: pyyaml>=5.1 in /usr/local/lib/python3.9/dist-packages (from transformers) (6.0)\n",
            "Requirement already satisfied: filelock in /usr/local/lib/python3.9/dist-packages (from transformers) (3.10.7)\n",
            "Requirement already satisfied: numpy>=1.17 in /usr/local/lib/python3.9/dist-packages (from transformers) (1.22.4)\n",
            "Requirement already satisfied: typing-extensions>=3.7.4.3 in /usr/local/lib/python3.9/dist-packages (from huggingface-hub<1.0,>=0.11.0->transformers) (4.5.0)\n",
            "Requirement already satisfied: certifi>=2017.4.17 in /usr/local/lib/python3.9/dist-packages (from requests->transformers) (2022.12.7)\n",
            "Requirement already satisfied: charset-normalizer~=2.0.0 in /usr/local/lib/python3.9/dist-packages (from requests->transformers) (2.0.12)\n",
            "Requirement already satisfied: urllib3<1.27,>=1.21.1 in /usr/local/lib/python3.9/dist-packages (from requests->transformers) (1.26.15)\n",
            "Requirement already satisfied: idna<4,>=2.5 in /usr/local/lib/python3.9/dist-packages (from requests->transformers) (3.4)\n",
            "Installing collected packages: tokenizers, huggingface-hub, transformers\n",
            "Successfully installed huggingface-hub-0.13.3 tokenizers-0.13.2 transformers-4.27.4\n"
          ]
        }
      ]
    },
    {
      "cell_type": "code",
      "source": [
        "from transformers import AutoTokenizer,TFBertModel\n",
        "from transformers import BertTokenizer, TFBertModel, BertConfig,TFDistilBertModel,DistilBertTokenizer,DistilBertConfig\n"
      ],
      "metadata": {
        "id": "ZoXRgZ4tTiLt"
      },
      "execution_count": null,
      "outputs": []
    },
    {
      "cell_type": "code",
      "source": [
        "!pip install tensorflow"
      ],
      "metadata": {
        "colab": {
          "base_uri": "https://localhost:8080/"
        },
        "id": "i2kVKQHRZp6H",
        "outputId": "88753780-4115-49bb-9dbd-8d6898f545ef"
      },
      "execution_count": null,
      "outputs": [
        {
          "output_type": "stream",
          "name": "stdout",
          "text": [
            "Looking in indexes: https://pypi.org/simple, https://us-python.pkg.dev/colab-wheels/public/simple/\n",
            "Requirement already satisfied: tensorflow in /usr/local/lib/python3.9/dist-packages (2.11.0)\n",
            "Requirement already satisfied: h5py>=2.9.0 in /usr/local/lib/python3.9/dist-packages (from tensorflow) (3.8.0)\n",
            "Requirement already satisfied: packaging in /usr/local/lib/python3.9/dist-packages (from tensorflow) (23.0)\n",
            "Requirement already satisfied: keras<2.12,>=2.11.0 in /usr/local/lib/python3.9/dist-packages (from tensorflow) (2.11.0)\n",
            "Requirement already satisfied: tensorflow-estimator<2.12,>=2.11.0 in /usr/local/lib/python3.9/dist-packages (from tensorflow) (2.11.0)\n",
            "Requirement already satisfied: grpcio<2.0,>=1.24.3 in /usr/local/lib/python3.9/dist-packages (from tensorflow) (1.51.3)\n",
            "Requirement already satisfied: opt-einsum>=2.3.2 in /usr/local/lib/python3.9/dist-packages (from tensorflow) (3.3.0)\n",
            "Requirement already satisfied: protobuf<3.20,>=3.9.2 in /usr/local/lib/python3.9/dist-packages (from tensorflow) (3.19.6)\n",
            "Requirement already satisfied: wrapt>=1.11.0 in /usr/local/lib/python3.9/dist-packages (from tensorflow) (1.15.0)\n",
            "Requirement already satisfied: absl-py>=1.0.0 in /usr/local/lib/python3.9/dist-packages (from tensorflow) (1.4.0)\n",
            "Requirement already satisfied: google-pasta>=0.1.1 in /usr/local/lib/python3.9/dist-packages (from tensorflow) (0.2.0)\n",
            "Requirement already satisfied: termcolor>=1.1.0 in /usr/local/lib/python3.9/dist-packages (from tensorflow) (2.2.0)\n",
            "Requirement already satisfied: gast<=0.4.0,>=0.2.1 in /usr/local/lib/python3.9/dist-packages (from tensorflow) (0.4.0)\n",
            "Requirement already satisfied: tensorboard<2.12,>=2.11 in /usr/local/lib/python3.9/dist-packages (from tensorflow) (2.11.2)\n",
            "Requirement already satisfied: flatbuffers>=2.0 in /usr/local/lib/python3.9/dist-packages (from tensorflow) (23.3.3)\n",
            "Requirement already satisfied: numpy>=1.20 in /usr/local/lib/python3.9/dist-packages (from tensorflow) (1.22.4)\n",
            "Requirement already satisfied: tensorflow-io-gcs-filesystem>=0.23.1 in /usr/local/lib/python3.9/dist-packages (from tensorflow) (0.31.0)\n",
            "Requirement already satisfied: libclang>=13.0.0 in /usr/local/lib/python3.9/dist-packages (from tensorflow) (16.0.0)\n",
            "Requirement already satisfied: six>=1.12.0 in /usr/local/lib/python3.9/dist-packages (from tensorflow) (1.16.0)\n",
            "Requirement already satisfied: astunparse>=1.6.0 in /usr/local/lib/python3.9/dist-packages (from tensorflow) (1.6.3)\n",
            "Requirement already satisfied: setuptools in /usr/local/lib/python3.9/dist-packages (from tensorflow) (67.6.1)\n",
            "Requirement already satisfied: typing-extensions>=3.6.6 in /usr/local/lib/python3.9/dist-packages (from tensorflow) (4.5.0)\n",
            "Requirement already satisfied: wheel<1.0,>=0.23.0 in /usr/local/lib/python3.9/dist-packages (from astunparse>=1.6.0->tensorflow) (0.40.0)\n",
            "Requirement already satisfied: tensorboard-data-server<0.7.0,>=0.6.0 in /usr/local/lib/python3.9/dist-packages (from tensorboard<2.12,>=2.11->tensorflow) (0.6.1)\n",
            "Requirement already satisfied: tensorboard-plugin-wit>=1.6.0 in /usr/local/lib/python3.9/dist-packages (from tensorboard<2.12,>=2.11->tensorflow) (1.8.1)\n",
            "Requirement already satisfied: google-auth<3,>=1.6.3 in /usr/local/lib/python3.9/dist-packages (from tensorboard<2.12,>=2.11->tensorflow) (2.16.3)\n",
            "Requirement already satisfied: markdown>=2.6.8 in /usr/local/lib/python3.9/dist-packages (from tensorboard<2.12,>=2.11->tensorflow) (3.4.3)\n",
            "Requirement already satisfied: requests<3,>=2.21.0 in /usr/local/lib/python3.9/dist-packages (from tensorboard<2.12,>=2.11->tensorflow) (2.27.1)\n",
            "Requirement already satisfied: google-auth-oauthlib<0.5,>=0.4.1 in /usr/local/lib/python3.9/dist-packages (from tensorboard<2.12,>=2.11->tensorflow) (0.4.6)\n",
            "Requirement already satisfied: werkzeug>=1.0.1 in /usr/local/lib/python3.9/dist-packages (from tensorboard<2.12,>=2.11->tensorflow) (2.2.3)\n",
            "Requirement already satisfied: cachetools<6.0,>=2.0.0 in /usr/local/lib/python3.9/dist-packages (from google-auth<3,>=1.6.3->tensorboard<2.12,>=2.11->tensorflow) (5.3.0)\n",
            "Requirement already satisfied: rsa<5,>=3.1.4 in /usr/local/lib/python3.9/dist-packages (from google-auth<3,>=1.6.3->tensorboard<2.12,>=2.11->tensorflow) (4.9)\n",
            "Requirement already satisfied: pyasn1-modules>=0.2.1 in /usr/local/lib/python3.9/dist-packages (from google-auth<3,>=1.6.3->tensorboard<2.12,>=2.11->tensorflow) (0.2.8)\n",
            "Requirement already satisfied: requests-oauthlib>=0.7.0 in /usr/local/lib/python3.9/dist-packages (from google-auth-oauthlib<0.5,>=0.4.1->tensorboard<2.12,>=2.11->tensorflow) (1.3.1)\n",
            "Requirement already satisfied: importlib-metadata>=4.4 in /usr/local/lib/python3.9/dist-packages (from markdown>=2.6.8->tensorboard<2.12,>=2.11->tensorflow) (6.1.0)\n",
            "Requirement already satisfied: charset-normalizer~=2.0.0 in /usr/local/lib/python3.9/dist-packages (from requests<3,>=2.21.0->tensorboard<2.12,>=2.11->tensorflow) (2.0.12)\n",
            "Requirement already satisfied: idna<4,>=2.5 in /usr/local/lib/python3.9/dist-packages (from requests<3,>=2.21.0->tensorboard<2.12,>=2.11->tensorflow) (3.4)\n",
            "Requirement already satisfied: certifi>=2017.4.17 in /usr/local/lib/python3.9/dist-packages (from requests<3,>=2.21.0->tensorboard<2.12,>=2.11->tensorflow) (2022.12.7)\n",
            "Requirement already satisfied: urllib3<1.27,>=1.21.1 in /usr/local/lib/python3.9/dist-packages (from requests<3,>=2.21.0->tensorboard<2.12,>=2.11->tensorflow) (1.26.15)\n",
            "Requirement already satisfied: MarkupSafe>=2.1.1 in /usr/local/lib/python3.9/dist-packages (from werkzeug>=1.0.1->tensorboard<2.12,>=2.11->tensorflow) (2.1.2)\n",
            "Requirement already satisfied: zipp>=0.5 in /usr/local/lib/python3.9/dist-packages (from importlib-metadata>=4.4->markdown>=2.6.8->tensorboard<2.12,>=2.11->tensorflow) (3.15.0)\n",
            "Requirement already satisfied: pyasn1<0.5.0,>=0.4.6 in /usr/local/lib/python3.9/dist-packages (from pyasn1-modules>=0.2.1->google-auth<3,>=1.6.3->tensorboard<2.12,>=2.11->tensorflow) (0.4.8)\n",
            "Requirement already satisfied: oauthlib>=3.0.0 in /usr/local/lib/python3.9/dist-packages (from requests-oauthlib>=0.7.0->google-auth-oauthlib<0.5,>=0.4.1->tensorboard<2.12,>=2.11->tensorflow) (3.2.2)\n"
          ]
        }
      ]
    },
    {
      "cell_type": "code",
      "source": [
        "df_full = pd.read_csv('/content/the_data.csv')\n",
        "df_full"
      ],
      "metadata": {
        "execution": {
          "iopub.status.busy": "2023-01-07T08:43:30.120144Z",
          "iopub.execute_input": "2023-01-07T08:43:30.120970Z",
          "iopub.status.idle": "2023-01-07T08:43:30.139395Z",
          "shell.execute_reply.started": "2023-01-07T08:43:30.120915Z",
          "shell.execute_reply": "2023-01-07T08:43:30.138015Z"
        },
        "trusted": true,
        "colab": {
          "base_uri": "https://localhost:8080/",
          "height": 424
        },
        "id": "DDkow1e7RZNl",
        "outputId": "606ed3bc-7472-4033-f2a3-86ee8e350efb"
      },
      "execution_count": null,
      "outputs": [
        {
          "output_type": "execute_result",
          "data": {
            "text/plain": [
              "                                                   text  label\n",
              "0     During the period of falling in love, each tim...      0\n",
              "1            When I was involved in a traffic accident.      1\n",
              "2     When I was driving home after  several days of...      2\n",
              "3      When I lost the person who meant the most to me.      3\n",
              "4     The time I knocked a deer down - the sight of ...      4\n",
              "...                                                 ...    ...\n",
              "7475  Two years back someone invited me to be the tu...      2\n",
              "7476  I had taken the responsibility to do something...      3\n",
              "7477  I was at home and I heard a loud sound of spit...      4\n",
              "7478  I did not do the homework that the teacher had...      5\n",
              "7479  I had shouted at my younger brother and he was...      5\n",
              "\n",
              "[7480 rows x 2 columns]"
            ],
            "text/html": [
              "\n",
              "  <div id=\"df-66abb364-6a82-46a7-bb26-896275656636\">\n",
              "    <div class=\"colab-df-container\">\n",
              "      <div>\n",
              "<style scoped>\n",
              "    .dataframe tbody tr th:only-of-type {\n",
              "        vertical-align: middle;\n",
              "    }\n",
              "\n",
              "    .dataframe tbody tr th {\n",
              "        vertical-align: top;\n",
              "    }\n",
              "\n",
              "    .dataframe thead th {\n",
              "        text-align: right;\n",
              "    }\n",
              "</style>\n",
              "<table border=\"1\" class=\"dataframe\">\n",
              "  <thead>\n",
              "    <tr style=\"text-align: right;\">\n",
              "      <th></th>\n",
              "      <th>text</th>\n",
              "      <th>label</th>\n",
              "    </tr>\n",
              "  </thead>\n",
              "  <tbody>\n",
              "    <tr>\n",
              "      <th>0</th>\n",
              "      <td>During the period of falling in love, each tim...</td>\n",
              "      <td>0</td>\n",
              "    </tr>\n",
              "    <tr>\n",
              "      <th>1</th>\n",
              "      <td>When I was involved in a traffic accident.</td>\n",
              "      <td>1</td>\n",
              "    </tr>\n",
              "    <tr>\n",
              "      <th>2</th>\n",
              "      <td>When I was driving home after  several days of...</td>\n",
              "      <td>2</td>\n",
              "    </tr>\n",
              "    <tr>\n",
              "      <th>3</th>\n",
              "      <td>When I lost the person who meant the most to me.</td>\n",
              "      <td>3</td>\n",
              "    </tr>\n",
              "    <tr>\n",
              "      <th>4</th>\n",
              "      <td>The time I knocked a deer down - the sight of ...</td>\n",
              "      <td>4</td>\n",
              "    </tr>\n",
              "    <tr>\n",
              "      <th>...</th>\n",
              "      <td>...</td>\n",
              "      <td>...</td>\n",
              "    </tr>\n",
              "    <tr>\n",
              "      <th>7475</th>\n",
              "      <td>Two years back someone invited me to be the tu...</td>\n",
              "      <td>2</td>\n",
              "    </tr>\n",
              "    <tr>\n",
              "      <th>7476</th>\n",
              "      <td>I had taken the responsibility to do something...</td>\n",
              "      <td>3</td>\n",
              "    </tr>\n",
              "    <tr>\n",
              "      <th>7477</th>\n",
              "      <td>I was at home and I heard a loud sound of spit...</td>\n",
              "      <td>4</td>\n",
              "    </tr>\n",
              "    <tr>\n",
              "      <th>7478</th>\n",
              "      <td>I did not do the homework that the teacher had...</td>\n",
              "      <td>5</td>\n",
              "    </tr>\n",
              "    <tr>\n",
              "      <th>7479</th>\n",
              "      <td>I had shouted at my younger brother and he was...</td>\n",
              "      <td>5</td>\n",
              "    </tr>\n",
              "  </tbody>\n",
              "</table>\n",
              "<p>7480 rows × 2 columns</p>\n",
              "</div>\n",
              "      <button class=\"colab-df-convert\" onclick=\"convertToInteractive('df-66abb364-6a82-46a7-bb26-896275656636')\"\n",
              "              title=\"Convert this dataframe to an interactive table.\"\n",
              "              style=\"display:none;\">\n",
              "        \n",
              "  <svg xmlns=\"http://www.w3.org/2000/svg\" height=\"24px\"viewBox=\"0 0 24 24\"\n",
              "       width=\"24px\">\n",
              "    <path d=\"M0 0h24v24H0V0z\" fill=\"none\"/>\n",
              "    <path d=\"M18.56 5.44l.94 2.06.94-2.06 2.06-.94-2.06-.94-.94-2.06-.94 2.06-2.06.94zm-11 1L8.5 8.5l.94-2.06 2.06-.94-2.06-.94L8.5 2.5l-.94 2.06-2.06.94zm10 10l.94 2.06.94-2.06 2.06-.94-2.06-.94-.94-2.06-.94 2.06-2.06.94z\"/><path d=\"M17.41 7.96l-1.37-1.37c-.4-.4-.92-.59-1.43-.59-.52 0-1.04.2-1.43.59L10.3 9.45l-7.72 7.72c-.78.78-.78 2.05 0 2.83L4 21.41c.39.39.9.59 1.41.59.51 0 1.02-.2 1.41-.59l7.78-7.78 2.81-2.81c.8-.78.8-2.07 0-2.86zM5.41 20L4 18.59l7.72-7.72 1.47 1.35L5.41 20z\"/>\n",
              "  </svg>\n",
              "      </button>\n",
              "      \n",
              "  <style>\n",
              "    .colab-df-container {\n",
              "      display:flex;\n",
              "      flex-wrap:wrap;\n",
              "      gap: 12px;\n",
              "    }\n",
              "\n",
              "    .colab-df-convert {\n",
              "      background-color: #E8F0FE;\n",
              "      border: none;\n",
              "      border-radius: 50%;\n",
              "      cursor: pointer;\n",
              "      display: none;\n",
              "      fill: #1967D2;\n",
              "      height: 32px;\n",
              "      padding: 0 0 0 0;\n",
              "      width: 32px;\n",
              "    }\n",
              "\n",
              "    .colab-df-convert:hover {\n",
              "      background-color: #E2EBFA;\n",
              "      box-shadow: 0px 1px 2px rgba(60, 64, 67, 0.3), 0px 1px 3px 1px rgba(60, 64, 67, 0.15);\n",
              "      fill: #174EA6;\n",
              "    }\n",
              "\n",
              "    [theme=dark] .colab-df-convert {\n",
              "      background-color: #3B4455;\n",
              "      fill: #D2E3FC;\n",
              "    }\n",
              "\n",
              "    [theme=dark] .colab-df-convert:hover {\n",
              "      background-color: #434B5C;\n",
              "      box-shadow: 0px 1px 3px 1px rgba(0, 0, 0, 0.15);\n",
              "      filter: drop-shadow(0px 1px 2px rgba(0, 0, 0, 0.3));\n",
              "      fill: #FFFFFF;\n",
              "    }\n",
              "  </style>\n",
              "\n",
              "      <script>\n",
              "        const buttonEl =\n",
              "          document.querySelector('#df-66abb364-6a82-46a7-bb26-896275656636 button.colab-df-convert');\n",
              "        buttonEl.style.display =\n",
              "          google.colab.kernel.accessAllowed ? 'block' : 'none';\n",
              "\n",
              "        async function convertToInteractive(key) {\n",
              "          const element = document.querySelector('#df-66abb364-6a82-46a7-bb26-896275656636');\n",
              "          const dataTable =\n",
              "            await google.colab.kernel.invokeFunction('convertToInteractive',\n",
              "                                                     [key], {});\n",
              "          if (!dataTable) return;\n",
              "\n",
              "          const docLinkHtml = 'Like what you see? Visit the ' +\n",
              "            '<a target=\"_blank\" href=https://colab.research.google.com/notebooks/data_table.ipynb>data table notebook</a>'\n",
              "            + ' to learn more about interactive tables.';\n",
              "          element.innerHTML = '';\n",
              "          dataTable['output_type'] = 'display_data';\n",
              "          await google.colab.output.renderOutput(dataTable, element);\n",
              "          const docLink = document.createElement('div');\n",
              "          docLink.innerHTML = docLinkHtml;\n",
              "          element.appendChild(docLink);\n",
              "        }\n",
              "      </script>\n",
              "    </div>\n",
              "  </div>\n",
              "  "
            ]
          },
          "metadata": {},
          "execution_count": 7
        }
      ]
    },
    {
      "cell_type": "markdown",
      "source": [
        "# 2. Text preprocessing "
      ],
      "metadata": {
        "id": "raCS-i-yRZNl"
      }
    },
    {
      "cell_type": "code",
      "source": [
        "def text_preprocessing(df,col_name):\n",
        "    column = col_name\n",
        "    df[column] = df[column].progress_apply(lambda x:str(x).lower())\n",
        "    df[column] = df[column].progress_apply(lambda x: th.cont_exp(x)) #you're -> you are; i'm -> i am\n",
        "    df[column] = df[column].progress_apply(lambda x: th.remove_emails(x))\n",
        "    df[column] = df[column].progress_apply(lambda x: th.remove_html_tags(x))\n",
        " \n",
        "    df[column] = df[column].progress_apply(lambda x: th.remove_special_chars(x))\n",
        "    df[column] = df[column].progress_apply(lambda x: th.remove_accented_chars(x))\n",
        " \n",
        "    return(df)"
      ],
      "metadata": {
        "execution": {
          "iopub.status.busy": "2023-01-07T08:43:30.140865Z",
          "iopub.execute_input": "2023-01-07T08:43:30.141851Z",
          "iopub.status.idle": "2023-01-07T08:43:30.150806Z",
          "shell.execute_reply.started": "2023-01-07T08:43:30.141804Z",
          "shell.execute_reply": "2023-01-07T08:43:30.149301Z"
        },
        "trusted": true,
        "id": "j_0VJtYLRZNl"
      },
      "execution_count": null,
      "outputs": []
    },
    {
      "cell_type": "code",
      "source": [
        "df_cleaned = text_preprocessing(df_full,'text')"
      ],
      "metadata": {
        "execution": {
          "iopub.status.busy": "2023-01-07T08:43:30.152485Z",
          "iopub.execute_input": "2023-01-07T08:43:30.153518Z",
          "iopub.status.idle": "2023-01-07T08:44:03.996566Z",
          "shell.execute_reply.started": "2023-01-07T08:43:30.153471Z",
          "shell.execute_reply": "2023-01-07T08:44:03.995706Z"
        },
        "trusted": true,
        "colab": {
          "base_uri": "https://localhost:8080/",
          "height": 209,
          "referenced_widgets": [
            "1f2c47dc853e4751a9130eff68641673",
            "9abeb6cb2cbe419fae370df4e4b39c24",
            "c9fd6685e0ef4e32977e2a2941ef654b",
            "046b30dcf74a4832882737344610c13a",
            "b59cf3d5c6024aeaaa0edc92ad41ebdd",
            "8a128a5226774052b265209038ac8716",
            "afcab76e213745ceafd9126c6fb4fad0",
            "55859226d7274243820e624881535401",
            "2643b64c393946feb465cad76e6d2533",
            "6474d01aefcf46e2920efffda7fde609",
            "31c79662acf045ed903637bdfb2fce78",
            "c2c915d176f64e83b5e8dc12dcd87b93",
            "ee445792930c41829496f9a6b61ed9ff",
            "0399d4a944e048658de6257394a7cccd",
            "37917260cbbb4636ac31cf4ec8231f72",
            "b2217b0774404301b5431861dfebb9b0",
            "be9bbf142dea4802a5b8355c8bd8a366",
            "17ad41370b244713b7baa2b76e0fd3fd",
            "a3af610506b848eb9f1658f8c96eb7c8",
            "3e2a21d863ca47d58a1e0616a6d15d36",
            "c89b467f281c47febecc8dd6cb42f105",
            "90fdd70b1b7f46219bf8f6635ddf84dc",
            "09ed6db8b1984b2ead1051c8ded57cd0",
            "16b8eda7744d4d94ad3c1df1322e9411",
            "a92c5d4d56c84bc998830305c6908946",
            "4f1a7d4c673749ccade9cb36f4a23aa6",
            "fadacfaedcf941d0968e3373ae32a6ef",
            "f19b8be93ab14c02bcc1d17aab58d112",
            "f56aa333609f41be8a5ca54bd0ad39c3",
            "dcd1e25e71aa4877b9e4eda5a4f32f62",
            "2ae3b78f7a5a486f80b492b6258d173a",
            "6a0d79d244c043db84db670134bff387",
            "1eeeda345dc046c0a8d00e851f45f6b1",
            "7d9fd4aebeab4e75a71f78cdd40edc58",
            "5edcfe2ce1d54b689582c9b66f05cd44",
            "cbd2e71aa6b4464c98252545da1b86da",
            "61c356d29edd405da9973cac8b22045a",
            "78bb7695b86a4edca83fbc064ef683a6",
            "6a0577dde61c4b4a93f4a2947156855e",
            "b36c8d8484b24a98a9b5db92cdc1deaf",
            "d3f30be0525b4e82925f71dbef8151b3",
            "7670c5e4066f44c58c8d2436a4cf8a1e",
            "cb8b8df124d64935b7eaf95674e09c90",
            "987a2a546b0b47b4b3a1e2df92b2048a",
            "3fd75242364643ee973af48395b0ef97",
            "e1d2a196ce6c47789fbc18a10d0774df",
            "8a7b9f7ed5b446ba86ada79e0df19df2",
            "9f7963aa77254b8ea6824e100fc155a8",
            "26276e2415674ba38a55b3735e2b9e1c",
            "86881d1ece8c4374a74ed609e6286fa0",
            "3033b89ef62047968c6eecbe34755206",
            "bb38c12859a143ccaf37ba08bfd8e189",
            "69ae2a9b635a40568c844b95d633c7cf",
            "b56782cfc912425baaf6a55413d5e2a9",
            "30b1e48c8b3d4dca81b9387adfe3df43",
            "4a7a6acbb0db41b5a074b69735438a66",
            "e4cc1e88b13b4182b76eb9d1f5c11f66",
            "ae5b7a36524344acbb02c97205a10139",
            "5fae5e0033074657b17add60fdd79f59",
            "370a6407dcb9460ba0f28456c2f8b397",
            "69e303804c6448fb8c88558bae1d36bb",
            "03caa8c39c844415aa1d30bb592aae7d",
            "1d3d06f353a8470680d863e96d72e9be",
            "b2dedb2956764cee99242dd7d92fbfac",
            "967882befc3045138a037e0a609c6223",
            "13557981557c43a28457129485acd344"
          ]
        },
        "id": "sp_wKRFIRZNl",
        "outputId": "70399414-9115-46a7-b68f-0bfcbccde6e8"
      },
      "execution_count": null,
      "outputs": [
        {
          "output_type": "display_data",
          "data": {
            "text/plain": [
              "  0%|          | 0/7480 [00:00<?, ?it/s]"
            ],
            "application/vnd.jupyter.widget-view+json": {
              "version_major": 2,
              "version_minor": 0,
              "model_id": "1f2c47dc853e4751a9130eff68641673"
            }
          },
          "metadata": {}
        },
        {
          "output_type": "display_data",
          "data": {
            "text/plain": [
              "  0%|          | 0/7480 [00:00<?, ?it/s]"
            ],
            "application/vnd.jupyter.widget-view+json": {
              "version_major": 2,
              "version_minor": 0,
              "model_id": "c2c915d176f64e83b5e8dc12dcd87b93"
            }
          },
          "metadata": {}
        },
        {
          "output_type": "display_data",
          "data": {
            "text/plain": [
              "  0%|          | 0/7480 [00:00<?, ?it/s]"
            ],
            "application/vnd.jupyter.widget-view+json": {
              "version_major": 2,
              "version_minor": 0,
              "model_id": "09ed6db8b1984b2ead1051c8ded57cd0"
            }
          },
          "metadata": {}
        },
        {
          "output_type": "display_data",
          "data": {
            "text/plain": [
              "  0%|          | 0/7480 [00:00<?, ?it/s]"
            ],
            "application/vnd.jupyter.widget-view+json": {
              "version_major": 2,
              "version_minor": 0,
              "model_id": "7d9fd4aebeab4e75a71f78cdd40edc58"
            }
          },
          "metadata": {}
        },
        {
          "output_type": "display_data",
          "data": {
            "text/plain": [
              "  0%|          | 0/7480 [00:00<?, ?it/s]"
            ],
            "application/vnd.jupyter.widget-view+json": {
              "version_major": 2,
              "version_minor": 0,
              "model_id": "3fd75242364643ee973af48395b0ef97"
            }
          },
          "metadata": {}
        },
        {
          "output_type": "display_data",
          "data": {
            "text/plain": [
              "  0%|          | 0/7480 [00:00<?, ?it/s]"
            ],
            "application/vnd.jupyter.widget-view+json": {
              "version_major": 2,
              "version_minor": 0,
              "model_id": "4a7a6acbb0db41b5a074b69735438a66"
            }
          },
          "metadata": {}
        }
      ]
    },
    {
      "cell_type": "code",
      "source": [
        "df_cleaned = df_cleaned.copy()"
      ],
      "metadata": {
        "execution": {
          "iopub.status.busy": "2023-01-07T08:44:03.997588Z",
          "iopub.execute_input": "2023-01-07T08:44:03.997907Z",
          "iopub.status.idle": "2023-01-07T08:44:04.003460Z",
          "shell.execute_reply.started": "2023-01-07T08:44:03.997876Z",
          "shell.execute_reply": "2023-01-07T08:44:04.002638Z"
        },
        "trusted": true,
        "id": "XDlGNNkVRZNm"
      },
      "execution_count": null,
      "outputs": []
    },
    {
      "cell_type": "code",
      "source": [
        "df_cleaned['num_words'] = df_cleaned['text'].apply(lambda x:len(x.split()))"
      ],
      "metadata": {
        "execution": {
          "iopub.status.busy": "2023-01-07T08:44:04.004460Z",
          "iopub.execute_input": "2023-01-07T08:44:04.004782Z",
          "iopub.status.idle": "2023-01-07T08:44:04.054669Z",
          "shell.execute_reply.started": "2023-01-07T08:44:04.004752Z",
          "shell.execute_reply": "2023-01-07T08:44:04.053321Z"
        },
        "trusted": true,
        "id": "55kVUyV6RZNm"
      },
      "execution_count": null,
      "outputs": []
    },
    {
      "cell_type": "code",
      "source": [
        "# changing the data type to the category to encode into codes \n",
        "df_cleaned['label'] = df_cleaned['label'].astype('category')"
      ],
      "metadata": {
        "execution": {
          "iopub.status.busy": "2023-01-07T08:44:04.056569Z",
          "iopub.execute_input": "2023-01-07T08:44:04.056943Z",
          "iopub.status.idle": "2023-01-07T08:44:04.072733Z",
          "shell.execute_reply.started": "2023-01-07T08:44:04.056909Z",
          "shell.execute_reply": "2023-01-07T08:44:04.071390Z"
        },
        "trusted": true,
        "id": "nnL0j1o2RZNm"
      },
      "execution_count": null,
      "outputs": []
    },
    {
      "cell_type": "code",
      "source": [
        "df_cleaned['label']"
      ],
      "metadata": {
        "execution": {
          "iopub.status.busy": "2023-01-07T08:44:04.077364Z",
          "iopub.execute_input": "2023-01-07T08:44:04.077848Z",
          "iopub.status.idle": "2023-01-07T08:44:04.089652Z",
          "shell.execute_reply.started": "2023-01-07T08:44:04.077814Z",
          "shell.execute_reply": "2023-01-07T08:44:04.088310Z"
        },
        "trusted": true,
        "colab": {
          "base_uri": "https://localhost:8080/"
        },
        "id": "swlcF-SVRZNm",
        "outputId": "ea21c539-df04-4a33-e8c9-0062666d55a3"
      },
      "execution_count": null,
      "outputs": [
        {
          "output_type": "execute_result",
          "data": {
            "text/plain": [
              "0       0\n",
              "1       1\n",
              "2       2\n",
              "3       3\n",
              "4       4\n",
              "       ..\n",
              "7475    2\n",
              "7476    3\n",
              "7477    4\n",
              "7478    5\n",
              "7479    5\n",
              "Name: label, Length: 7480, dtype: category\n",
              "Categories (6, int64): [0, 1, 2, 3, 4, 5]"
            ]
          },
          "metadata": {},
          "execution_count": 13
        }
      ]
    },
    {
      "cell_type": "code",
      "source": [
        "df_cleaned['label'].cat.codes"
      ],
      "metadata": {
        "execution": {
          "iopub.status.busy": "2023-01-07T08:44:04.091166Z",
          "iopub.execute_input": "2023-01-07T08:44:04.091589Z",
          "iopub.status.idle": "2023-01-07T08:44:04.104615Z",
          "shell.execute_reply.started": "2023-01-07T08:44:04.091555Z",
          "shell.execute_reply": "2023-01-07T08:44:04.103145Z"
        },
        "trusted": true,
        "colab": {
          "base_uri": "https://localhost:8080/"
        },
        "id": "B1kpwZXjRZNm",
        "outputId": "d32f1ca9-1ddf-45c3-bed2-abdb231efcf4"
      },
      "execution_count": null,
      "outputs": [
        {
          "output_type": "execute_result",
          "data": {
            "text/plain": [
              "0       0\n",
              "1       1\n",
              "2       2\n",
              "3       3\n",
              "4       4\n",
              "       ..\n",
              "7475    2\n",
              "7476    3\n",
              "7477    4\n",
              "7478    5\n",
              "7479    5\n",
              "Length: 7480, dtype: int8"
            ]
          },
          "metadata": {},
          "execution_count": 14
        }
      ]
    },
    {
      "cell_type": "code",
      "source": [
        "encoded_dict  = {'joy':0,'fear':1, 'anger':2, 'sadness':3, 'disgust':4, 'shame':5}"
      ],
      "metadata": {
        "execution": {
          "iopub.status.busy": "2023-01-07T08:44:04.106337Z",
          "iopub.execute_input": "2023-01-07T08:44:04.106754Z",
          "iopub.status.idle": "2023-01-07T08:44:04.115380Z",
          "shell.execute_reply.started": "2023-01-07T08:44:04.106716Z",
          "shell.execute_reply": "2023-01-07T08:44:04.114312Z"
        },
        "trusted": true,
        "id": "EhF1u7dJRZNn"
      },
      "execution_count": null,
      "outputs": []
    },
    {
      "cell_type": "code",
      "source": [
        "df_cleaned.num_words.max()"
      ],
      "metadata": {
        "execution": {
          "iopub.status.busy": "2023-01-07T08:44:04.117424Z",
          "iopub.execute_input": "2023-01-07T08:44:04.117971Z",
          "iopub.status.idle": "2023-01-07T08:44:04.130317Z",
          "shell.execute_reply.started": "2023-01-07T08:44:04.117888Z",
          "shell.execute_reply": "2023-01-07T08:44:04.129096Z"
        },
        "trusted": true,
        "colab": {
          "base_uri": "https://localhost:8080/"
        },
        "id": "3WAEQcObRZNn",
        "outputId": "de6eb88b-4f03-4613-a35e-a40a85e6a143"
      },
      "execution_count": null,
      "outputs": [
        {
          "output_type": "execute_result",
          "data": {
            "text/plain": [
              "179"
            ]
          },
          "metadata": {},
          "execution_count": 16
        }
      ]
    },
    {
      "cell_type": "code",
      "source": [
        "data_train,data_test = train_test_split(df_cleaned, test_size = 0.3, random_state = 42, stratify = df_cleaned['label'])"
      ],
      "metadata": {
        "execution": {
          "iopub.status.busy": "2023-01-07T08:44:04.131990Z",
          "iopub.execute_input": "2023-01-07T08:44:04.132430Z",
          "iopub.status.idle": "2023-01-07T08:44:04.155746Z",
          "shell.execute_reply.started": "2023-01-07T08:44:04.132388Z",
          "shell.execute_reply": "2023-01-07T08:44:04.154604Z"
        },
        "trusted": true,
        "id": "rHKoroZgRZNn"
      },
      "execution_count": null,
      "outputs": []
    },
    {
      "cell_type": "code",
      "source": [
        "data_train.shape"
      ],
      "metadata": {
        "execution": {
          "iopub.status.busy": "2023-01-07T08:44:04.157121Z",
          "iopub.execute_input": "2023-01-07T08:44:04.157466Z",
          "iopub.status.idle": "2023-01-07T08:44:04.164282Z",
          "shell.execute_reply.started": "2023-01-07T08:44:04.157435Z",
          "shell.execute_reply": "2023-01-07T08:44:04.163202Z"
        },
        "trusted": true,
        "colab": {
          "base_uri": "https://localhost:8080/"
        },
        "id": "bwiAEvmfRZNn",
        "outputId": "5a9af701-2536-42a2-bc39-1b280be6dd29"
      },
      "execution_count": null,
      "outputs": [
        {
          "output_type": "execute_result",
          "data": {
            "text/plain": [
              "(5236, 3)"
            ]
          },
          "metadata": {},
          "execution_count": 18
        }
      ]
    },
    {
      "cell_type": "code",
      "source": [
        "data_test.shape"
      ],
      "metadata": {
        "execution": {
          "iopub.status.busy": "2023-01-07T08:44:04.165925Z",
          "iopub.execute_input": "2023-01-07T08:44:04.166737Z",
          "iopub.status.idle": "2023-01-07T08:44:04.177955Z",
          "shell.execute_reply.started": "2023-01-07T08:44:04.166687Z",
          "shell.execute_reply": "2023-01-07T08:44:04.177050Z"
        },
        "trusted": true,
        "colab": {
          "base_uri": "https://localhost:8080/"
        },
        "id": "_ciWtdCxRZNn",
        "outputId": "eed6df1e-0670-41e5-877b-a55e7c3b8fd4"
      },
      "execution_count": null,
      "outputs": [
        {
          "output_type": "execute_result",
          "data": {
            "text/plain": [
              "(2244, 3)"
            ]
          },
          "metadata": {},
          "execution_count": 19
        }
      ]
    },
    {
      "cell_type": "code",
      "source": [
        "to_categorical(data_train['label'])"
      ],
      "metadata": {
        "execution": {
          "iopub.status.busy": "2023-01-07T08:44:04.179616Z",
          "iopub.execute_input": "2023-01-07T08:44:04.180020Z",
          "iopub.status.idle": "2023-01-07T08:44:04.192522Z",
          "shell.execute_reply.started": "2023-01-07T08:44:04.179971Z",
          "shell.execute_reply": "2023-01-07T08:44:04.191380Z"
        },
        "trusted": true,
        "colab": {
          "base_uri": "https://localhost:8080/"
        },
        "id": "WZrJ_aLbRZNn",
        "outputId": "777f8ba2-426d-46ff-d2b2-50254ea75e03"
      },
      "execution_count": null,
      "outputs": [
        {
          "output_type": "execute_result",
          "data": {
            "text/plain": [
              "array([[0., 0., 0., 0., 0., 1.],\n",
              "       [1., 0., 0., 0., 0., 0.],\n",
              "       [0., 0., 1., 0., 0., 0.],\n",
              "       ...,\n",
              "       [0., 0., 0., 0., 0., 1.],\n",
              "       [1., 0., 0., 0., 0., 0.],\n",
              "       [0., 0., 1., 0., 0., 0.]], dtype=float32)"
            ]
          },
          "metadata": {},
          "execution_count": 20
        }
      ]
    },
    {
      "cell_type": "markdown",
      "source": [
        "# 3. Load the model (bert)"
      ],
      "metadata": {
        "id": "1GDFaEP9RZNo"
      }
    },
    {
      "cell_type": "code",
      "source": [
        "tokenizer = AutoTokenizer.from_pretrained('bert-base-cased')\n",
        "bert = TFBertModel.from_pretrained('bert-base-cased')"
      ],
      "metadata": {
        "execution": {
          "iopub.status.busy": "2023-01-07T08:44:04.194174Z",
          "iopub.execute_input": "2023-01-07T08:44:04.194622Z",
          "iopub.status.idle": "2023-01-07T08:44:37.755107Z",
          "shell.execute_reply.started": "2023-01-07T08:44:04.194572Z",
          "shell.execute_reply": "2023-01-07T08:44:37.753145Z"
        },
        "trusted": true,
        "colab": {
          "base_uri": "https://localhost:8080/",
          "height": 286,
          "referenced_widgets": [
            "7a9cf60b8c5d43478207beb122e31d7f",
            "112fe683b52348e3b46131fc5bc44af5",
            "8cb24269daf745749a22111f22e8ce25",
            "181ede5aed9a48d0b651c904d63d2e8d",
            "c66eaee1f427495588e735be5bca8b44",
            "57e01ba2ced148f0a491de624e145d52",
            "185c1f0e09c340b7a7eeacee736a678f",
            "cb7466353bd344fda21cff7110394b8e",
            "f3e915cf2cd14d5a82c11c235559834f",
            "b893fa4cdf944e6aba08ee59f705938f",
            "2950111668e64391af6667ed1c6aa9f2",
            "16982dc495bc455b95f14edc90a56beb",
            "e615325532a34ecda34f4dd3cd7c6d14",
            "40d799ba6f87490391f79064d6a41616",
            "2d39c754848b4fb89d650be71e83cc8f",
            "89c6f8ee9746436186685f7f1e80f789",
            "ce8e757c7310452cbd1d8b578da82039",
            "14ce8249380343d2bdb5ea08450e5b5b",
            "169b707bd6d54c3699f826417a57226a",
            "1294338173b24e44856b2147f3f2f5b9",
            "8319d6dd2d844d5c8369ccb0ef2460bc",
            "610f08939bd647e2ab64a99ecc472f48",
            "808fe1f575b64846b7280775c0231cf9",
            "e581e429493541d09d06e94b1f46374a",
            "cedaa6faa37944bbac7d1c6b987bf9ed",
            "462ae2a9446246f694c6354c6ec8ab9a",
            "80aab7891c6749b3b202d3c3eee3ea1c",
            "6a48d7eebd134de49de1efceaf159b43",
            "ffcab2df115a4fbebd49d476edb51f36",
            "2f576ed16a26427e8c68ff1bc5914526",
            "79bbf73074d44f9eac2ac7a9ed93d57f",
            "424d667eb74446b39192444817d223dc",
            "0ec3b156d4eb41ea9f7cafb91a4be3c0",
            "1374b72bbcd54774b3b2a5f957274427",
            "146fdfa72a5c4e75aa8fda769e5ce25a",
            "01af6d1902964cf08bd437ad3b7053c4",
            "ae23cab9ad354a528079d326e71f41a6",
            "4d914803303241a094be11136cb0ec01",
            "ff791ee42bc8421f932e13e845bd83f3",
            "d2d18c13fc374128a062d2b23f332b56",
            "3b88798d36a84d5aa73f187da6a0f863",
            "72ae0498d0a44c3ab4b5768337a1ccf9",
            "aec1cf7c13724ee4b5fd148e1668e399",
            "ae4bdabf79534ff48c4ca369673cf445",
            "6013f30580094cf1b515f305dcc0a462",
            "283de1f046fa4698845209dfbaa0a068",
            "1d5f94b87eea4f56b118bd4fb5ab513d",
            "d43343e9d83d47ed945f7eed99755e18",
            "34c515a680904cbe98c57c7ce07f5d84",
            "db64b668711d49ee9d2bd15743995545",
            "73007cbeab084998aa4dfd495440afb0",
            "9621ada8f5524117b80ffb9bd0e0e467",
            "59727b05d816443995b7ff4af35b2a73",
            "73de7ae4d0df496a9f53a598c5dcd1d7",
            "e597e1c990f84fe5b5543aeae2d9cc20"
          ]
        },
        "id": "KIvsvE8DRZNo",
        "outputId": "ba3cd2d4-ac6e-42e5-c222-6f97533b66f5"
      },
      "execution_count": null,
      "outputs": [
        {
          "output_type": "display_data",
          "data": {
            "text/plain": [
              "Downloading (…)okenizer_config.json:   0%|          | 0.00/29.0 [00:00<?, ?B/s]"
            ],
            "application/vnd.jupyter.widget-view+json": {
              "version_major": 2,
              "version_minor": 0,
              "model_id": "7a9cf60b8c5d43478207beb122e31d7f"
            }
          },
          "metadata": {}
        },
        {
          "output_type": "display_data",
          "data": {
            "text/plain": [
              "Downloading (…)lve/main/config.json:   0%|          | 0.00/570 [00:00<?, ?B/s]"
            ],
            "application/vnd.jupyter.widget-view+json": {
              "version_major": 2,
              "version_minor": 0,
              "model_id": "16982dc495bc455b95f14edc90a56beb"
            }
          },
          "metadata": {}
        },
        {
          "output_type": "display_data",
          "data": {
            "text/plain": [
              "Downloading (…)solve/main/vocab.txt:   0%|          | 0.00/213k [00:00<?, ?B/s]"
            ],
            "application/vnd.jupyter.widget-view+json": {
              "version_major": 2,
              "version_minor": 0,
              "model_id": "808fe1f575b64846b7280775c0231cf9"
            }
          },
          "metadata": {}
        },
        {
          "output_type": "display_data",
          "data": {
            "text/plain": [
              "Downloading (…)/main/tokenizer.json:   0%|          | 0.00/436k [00:00<?, ?B/s]"
            ],
            "application/vnd.jupyter.widget-view+json": {
              "version_major": 2,
              "version_minor": 0,
              "model_id": "1374b72bbcd54774b3b2a5f957274427"
            }
          },
          "metadata": {}
        },
        {
          "output_type": "display_data",
          "data": {
            "text/plain": [
              "Downloading tf_model.h5:   0%|          | 0.00/527M [00:00<?, ?B/s]"
            ],
            "application/vnd.jupyter.widget-view+json": {
              "version_major": 2,
              "version_minor": 0,
              "model_id": "6013f30580094cf1b515f305dcc0a462"
            }
          },
          "metadata": {}
        },
        {
          "output_type": "stream",
          "name": "stderr",
          "text": [
            "Some layers from the model checkpoint at bert-base-cased were not used when initializing TFBertModel: ['mlm___cls', 'nsp___cls']\n",
            "- This IS expected if you are initializing TFBertModel from the checkpoint of a model trained on another task or with another architecture (e.g. initializing a BertForSequenceClassification model from a BertForPreTraining model).\n",
            "- This IS NOT expected if you are initializing TFBertModel from the checkpoint of a model that you expect to be exactly identical (initializing a BertForSequenceClassification model from a BertForSequenceClassification model).\n",
            "All the layers of TFBertModel were initialized from the model checkpoint at bert-base-cased.\n",
            "If your task is similar to the task the model of the checkpoint was trained on, you can already use TFBertModel for predictions without further training.\n"
          ]
        }
      ]
    },
    {
      "cell_type": "markdown",
      "source": [
        "# **About bert**\n",
        "* Bert is a model that pre-trained on a large corpus of text, such as Wikipedia or BookCorpus, using an unsupervised learning method called Masked Language Modeling.\n",
        "* On this model we only used the tokenizer form bert\n",
        "  * A normal tokenizer sweech words in to meaningless numbers \n",
        "  * Bert tokenizer sweach words that have the same meaning in to numbers that relatively close to each other\n",
        "  * This gives our model a better chance of predicting the emotions from sentences we haven't yet encountered.\n",
        "\n",
        "https://huggingface.co/bert-base-cased"
      ],
      "metadata": {
        "id": "K7l9m_WV2RMF"
      }
    },
    {
      "cell_type": "code",
      "source": [
        "# for saving model locally and we can load it later on \n",
        "tokenizer.save_pretrained('bert-tokenizer')\n",
        "bert.save_pretrained('bert-model')"
      ],
      "metadata": {
        "execution": {
          "iopub.status.busy": "2023-01-07T08:44:37.756962Z",
          "iopub.execute_input": "2023-01-07T08:44:37.757328Z",
          "iopub.status.idle": "2023-01-07T08:44:38.601456Z",
          "shell.execute_reply.started": "2023-01-07T08:44:37.757296Z",
          "shell.execute_reply": "2023-01-07T08:44:38.600333Z"
        },
        "trusted": true,
        "id": "nDQsj8tBRZNo"
      },
      "execution_count": null,
      "outputs": []
    },
    {
      "cell_type": "code",
      "source": [
        "shutil.make_archive('bert-tokenizer', 'zip', 'bert-tokenizer')\n",
        "shutil.make_archive('bert-model','zip','bert-model')"
      ],
      "metadata": {
        "execution": {
          "iopub.status.busy": "2023-01-07T08:44:38.602930Z",
          "iopub.execute_input": "2023-01-07T08:44:38.603567Z",
          "iopub.status.idle": "2023-01-07T08:45:07.864246Z",
          "shell.execute_reply.started": "2023-01-07T08:44:38.603531Z",
          "shell.execute_reply": "2023-01-07T08:45:07.863062Z"
        },
        "trusted": true,
        "colab": {
          "base_uri": "https://localhost:8080/",
          "height": 35
        },
        "id": "ocWWeQQTRZNo",
        "outputId": "ea45f0e1-9674-4115-dcca-d81fbf50c818"
      },
      "execution_count": null,
      "outputs": [
        {
          "output_type": "execute_result",
          "data": {
            "text/plain": [
              "'/content/bert-model.zip'"
            ],
            "application/vnd.google.colaboratory.intrinsic+json": {
              "type": "string"
            }
          },
          "metadata": {},
          "execution_count": 23
        }
      ]
    },
    {
      "cell_type": "code",
      "source": [
        "tokenizer('I will be kaggle grandmaster')"
      ],
      "metadata": {
        "execution": {
          "iopub.status.busy": "2023-01-07T08:45:07.865880Z",
          "iopub.execute_input": "2023-01-07T08:45:07.866250Z",
          "iopub.status.idle": "2023-01-07T08:45:07.879379Z",
          "shell.execute_reply.started": "2023-01-07T08:45:07.866217Z",
          "shell.execute_reply": "2023-01-07T08:45:07.878168Z"
        },
        "trusted": true,
        "colab": {
          "base_uri": "https://localhost:8080/"
        },
        "id": "dltbuLz-RZNo",
        "outputId": "f178d5fc-92a8-4b6a-c367-8e8d5666a600"
      },
      "execution_count": null,
      "outputs": [
        {
          "output_type": "execute_result",
          "data": {
            "text/plain": [
              "{'input_ids': [101, 146, 1209, 1129, 24181, 25186, 5372, 6532, 102], 'token_type_ids': [0, 0, 0, 0, 0, 0, 0, 0, 0], 'attention_mask': [1, 1, 1, 1, 1, 1, 1, 1, 1]}"
            ]
          },
          "metadata": {},
          "execution_count": 24
        }
      ]
    },
    {
      "cell_type": "code",
      "source": [
        "# Tokenize the input (takes some time) \n",
        "# here tokenizer using from bert-base-cased\n",
        "x_train = tokenizer(\n",
        "    text=data_train['text'].tolist(),\n",
        "    add_special_tokens=True,\n",
        "    max_length=70,\n",
        "    truncation=True,\n",
        "    padding=True, \n",
        "    return_tensors='tf',\n",
        "    return_token_type_ids = False,\n",
        "    return_attention_mask = True,\n",
        "    verbose = True)\n",
        "\n",
        "\n",
        "x_test = tokenizer(\n",
        "    text=data_test['text'].tolist(),\n",
        "    add_special_tokens=True,\n",
        "    max_length=70,\n",
        "    truncation=True,\n",
        "    padding=True, \n",
        "    return_tensors='tf',\n",
        "    return_token_type_ids = False,\n",
        "    return_attention_mask = True,\n",
        "    verbose = True)"
      ],
      "metadata": {
        "execution": {
          "iopub.status.busy": "2023-01-07T08:45:07.881122Z",
          "iopub.execute_input": "2023-01-07T08:45:07.881460Z",
          "iopub.status.idle": "2023-01-07T08:45:09.699382Z",
          "shell.execute_reply.started": "2023-01-07T08:45:07.881430Z",
          "shell.execute_reply": "2023-01-07T08:45:09.698102Z"
        },
        "trusted": true,
        "id": "_PxYFaDdRZNo"
      },
      "execution_count": null,
      "outputs": []
    },
    {
      "cell_type": "code",
      "source": [
        "x_test['input_ids']"
      ],
      "metadata": {
        "execution": {
          "iopub.status.busy": "2023-01-07T08:45:09.701641Z",
          "iopub.execute_input": "2023-01-07T08:45:09.702042Z",
          "iopub.status.idle": "2023-01-07T08:45:09.712532Z",
          "shell.execute_reply.started": "2023-01-07T08:45:09.702007Z",
          "shell.execute_reply": "2023-01-07T08:45:09.711301Z"
        },
        "trusted": true,
        "colab": {
          "base_uri": "https://localhost:8080/"
        },
        "id": "QmuZLFdPRZNo",
        "outputId": "fad00b15-cf55-482d-e1cf-3002e1d1f834"
      },
      "execution_count": null,
      "outputs": [
        {
          "output_type": "execute_result",
          "data": {
            "text/plain": [
              "<tf.Tensor: shape=(2244, 70), dtype=int32, numpy=\n",
              "array([[ 101, 1103, 3945, ...,    0,    0,    0],\n",
              "       [ 101,  170, 1374, ...,    0,    0,    0],\n",
              "       [ 101,  178, 3668, ...,    0,    0,    0],\n",
              "       ...,\n",
              "       [ 101,  170, 2370, ...,    0,    0,    0],\n",
              "       [ 101, 1165, 1800, ...,    0,    0,    0],\n",
              "       [ 101, 1165, 1139, ...,    0,    0,    0]], dtype=int32)>"
            ]
          },
          "metadata": {},
          "execution_count": 26
        }
      ]
    },
    {
      "cell_type": "code",
      "source": [
        "max_len = 70\n",
        " \n",
        "input_ids = Input(shape=(max_len,), dtype=tf.int32, name=\"input_ids\")\n",
        "input_mask = Input(shape=(max_len,), dtype=tf.int32, name=\"attention_mask\")\n",
        "\n",
        "embeddings = bert(input_ids,attention_mask = input_mask)[0] #(0 is the last hidden states,1 means pooler_output)\n",
        "out = tf.keras.layers.GlobalMaxPool1D()(embeddings)\n",
        "out = Dense(128, activation='relu')(out)\n",
        "out = tf.keras.layers.Dropout(0.1)(out)\n",
        "out = Dense(32,activation = 'relu')(out)\n",
        "\n",
        "y = Dense(6,activation = 'sigmoid')(out)\n",
        "    \n",
        "model = tf.keras.Model(inputs=[input_ids, input_mask], outputs=y)\n",
        "model.layers[2].trainable = True"
      ],
      "metadata": {
        "execution": {
          "iopub.status.busy": "2023-01-07T08:45:09.713897Z",
          "iopub.execute_input": "2023-01-07T08:45:09.714330Z",
          "iopub.status.idle": "2023-01-07T08:45:17.378106Z",
          "shell.execute_reply.started": "2023-01-07T08:45:09.714297Z",
          "shell.execute_reply": "2023-01-07T08:45:17.376708Z"
        },
        "trusted": true,
        "id": "snpBCJlzRZNp"
      },
      "execution_count": null,
      "outputs": []
    },
    {
      "cell_type": "code",
      "source": [
        "optimizer = tf.keras.optimizers.legacy.Adam(\n",
        "    learning_rate=5e-05, # this learning rate is for bert model , taken from huggingface website \n",
        "    epsilon=1e-08,\n",
        "    decay=0.01,\n",
        "    clipnorm=1.0)\n",
        "\n",
        "# Set loss and metrics\n",
        "loss =CategoricalCrossentropy(from_logits = True)\n",
        "metric = CategoricalAccuracy('balanced_accuracy'),\n",
        "# Compile the model\n",
        "model.compile(\n",
        "    optimizer = optimizer,\n",
        "    loss = loss, \n",
        "    metrics = metric)"
      ],
      "metadata": {
        "execution": {
          "iopub.status.busy": "2023-01-07T08:45:17.379806Z",
          "iopub.execute_input": "2023-01-07T08:45:17.380525Z",
          "iopub.status.idle": "2023-01-07T08:45:17.733852Z",
          "shell.execute_reply.started": "2023-01-07T08:45:17.380482Z",
          "shell.execute_reply": "2023-01-07T08:45:17.733010Z"
        },
        "trusted": true,
        "id": "zGraIQnLRZNp"
      },
      "execution_count": null,
      "outputs": []
    },
    {
      "cell_type": "code",
      "source": [
        "model.summary()"
      ],
      "metadata": {
        "execution": {
          "iopub.status.busy": "2023-01-07T08:45:17.735636Z",
          "iopub.execute_input": "2023-01-07T08:45:17.736459Z",
          "iopub.status.idle": "2023-01-07T08:45:17.757511Z",
          "shell.execute_reply.started": "2023-01-07T08:45:17.736412Z",
          "shell.execute_reply": "2023-01-07T08:45:17.756115Z"
        },
        "trusted": true,
        "colab": {
          "base_uri": "https://localhost:8080/"
        },
        "id": "AeXYzdfpRZNp",
        "outputId": "7c690204-d7f1-446e-bfee-27fc6a45cca3"
      },
      "execution_count": null,
      "outputs": [
        {
          "output_type": "stream",
          "name": "stdout",
          "text": [
            "Model: \"model\"\n",
            "__________________________________________________________________________________________________\n",
            " Layer (type)                   Output Shape         Param #     Connected to                     \n",
            "==================================================================================================\n",
            " input_ids (InputLayer)         [(None, 70)]         0           []                               \n",
            "                                                                                                  \n",
            " attention_mask (InputLayer)    [(None, 70)]         0           []                               \n",
            "                                                                                                  \n",
            " tf_bert_model (TFBertModel)    TFBaseModelOutputWi  108310272   ['input_ids[0][0]',              \n",
            "                                thPoolingAndCrossAt               'attention_mask[0][0]']         \n",
            "                                tentions(last_hidde                                               \n",
            "                                n_state=(None, 70,                                                \n",
            "                                768),                                                             \n",
            "                                 pooler_output=(Non                                               \n",
            "                                e, 768),                                                          \n",
            "                                 past_key_values=No                                               \n",
            "                                ne, hidden_states=N                                               \n",
            "                                one, attentions=Non                                               \n",
            "                                e, cross_attentions                                               \n",
            "                                =None)                                                            \n",
            "                                                                                                  \n",
            " global_max_pooling1d (GlobalMa  (None, 768)         0           ['tf_bert_model[0][0]']          \n",
            " xPooling1D)                                                                                      \n",
            "                                                                                                  \n",
            " dense (Dense)                  (None, 128)          98432       ['global_max_pooling1d[0][0]']   \n",
            "                                                                                                  \n",
            " dropout_37 (Dropout)           (None, 128)          0           ['dense[0][0]']                  \n",
            "                                                                                                  \n",
            " dense_1 (Dense)                (None, 32)           4128        ['dropout_37[0][0]']             \n",
            "                                                                                                  \n",
            " dense_2 (Dense)                (None, 6)            198         ['dense_1[0][0]']                \n",
            "                                                                                                  \n",
            "==================================================================================================\n",
            "Total params: 108,413,030\n",
            "Trainable params: 108,413,030\n",
            "Non-trainable params: 0\n",
            "__________________________________________________________________________________________________\n"
          ]
        }
      ]
    },
    {
      "cell_type": "code",
      "source": [
        "tf.config.experimental_run_functions_eagerly(True)\n",
        "tf.config.run_functions_eagerly(True)"
      ],
      "metadata": {
        "execution": {
          "iopub.status.busy": "2023-01-07T08:45:17.759351Z",
          "iopub.execute_input": "2023-01-07T08:45:17.759681Z",
          "iopub.status.idle": "2023-01-07T08:45:17.765066Z",
          "shell.execute_reply.started": "2023-01-07T08:45:17.759653Z",
          "shell.execute_reply": "2023-01-07T08:45:17.763742Z"
        },
        "trusted": true,
        "colab": {
          "base_uri": "https://localhost:8080/"
        },
        "id": "L-lJimANRZNp",
        "outputId": "3206736a-bf51-4236-9136-340ced36b9cb"
      },
      "execution_count": null,
      "outputs": [
        {
          "output_type": "stream",
          "name": "stderr",
          "text": [
            "WARNING:tensorflow:From <ipython-input-30-9b7e5e30d1f7>:1: experimental_run_functions_eagerly (from tensorflow.python.eager.polymorphic_function.quarantine) is deprecated and will be removed in a future version.\n",
            "Instructions for updating:\n",
            "Use `tf.config.run_functions_eagerly` instead of the experimental version.\n"
          ]
        }
      ]
    },
    {
      "cell_type": "markdown",
      "source": [
        "# 4. Model fitting and then evaluation"
      ],
      "metadata": {
        "id": "42YU_iqiRZNp"
      }
    },
    {
      "cell_type": "code",
      "source": [
        "train_history = model.fit(\n",
        "    x ={'input_ids':x_train['input_ids'],'attention_mask':x_train['attention_mask']} ,\n",
        "    y = to_categorical(data_train['label']),\n",
        "    validation_data = (\n",
        "    {'input_ids':x_test['input_ids'],'attention_mask':x_test['attention_mask']}, to_categorical(data_test['label'])\n",
        "    ),\n",
        "  epochs=4,\n",
        "    batch_size=36\n",
        ")"
      ],
      "metadata": {
        "execution": {
          "iopub.status.busy": "2023-01-07T08:45:17.770405Z",
          "iopub.execute_input": "2023-01-07T08:45:17.770757Z",
          "iopub.status.idle": "2023-01-07T10:33:47.346207Z",
          "shell.execute_reply.started": "2023-01-07T08:45:17.770725Z",
          "shell.execute_reply": "2023-01-07T10:33:47.344715Z"
        },
        "trusted": true,
        "colab": {
          "base_uri": "https://localhost:8080/"
        },
        "id": "_EVqME9QRZNp",
        "outputId": "7acd1479-7896-42e1-bad9-7a08454356fb"
      },
      "execution_count": null,
      "outputs": [
        {
          "output_type": "stream",
          "name": "stdout",
          "text": [
            "Epoch 1/4\n"
          ]
        },
        {
          "output_type": "stream",
          "name": "stderr",
          "text": [
            "WARNING:tensorflow:Gradients do not exist for variables ['tf_bert_model/bert/pooler/dense/kernel:0', 'tf_bert_model/bert/pooler/dense/bias:0'] when minimizing the loss. If you're using `model.compile()`, did you forget to provide a `loss` argument?\n"
          ]
        },
        {
          "output_type": "stream",
          "name": "stdout",
          "text": [
            "\r  1/146 [..............................] - ETA: 1:57:58 - loss: 1.7881 - balanced_accuracy: 0.1944"
          ]
        },
        {
          "output_type": "stream",
          "name": "stderr",
          "text": [
            "WARNING:tensorflow:Gradients do not exist for variables ['tf_bert_model/bert/pooler/dense/kernel:0', 'tf_bert_model/bert/pooler/dense/bias:0'] when minimizing the loss. If you're using `model.compile()`, did you forget to provide a `loss` argument?\n"
          ]
        },
        {
          "output_type": "stream",
          "name": "stdout",
          "text": [
            "\b\b\b\b\b\b\b\b\b\b\b\b\b\b\b\b\b\b\b\b\b\b\b\b\b\b\b\b\b\b\b\b\b\b\b\b\b\b\b\b\b\b\b\b\b\b\b\b\b\b\b\b\b\b\b\b\b\b\b\b\b\b\b\b\b\b\b\b\b\b\b\b\b\b\b\b\b\b\b\b\b\b\b\b\b\b\b\b\b\b\b\b\b\b\b\b\b\b\r  2/146 [..............................] - ETA: 1:43:24 - loss: 1.8131 - balanced_accuracy: 0.1944"
          ]
        },
        {
          "output_type": "stream",
          "name": "stderr",
          "text": [
            "WARNING:tensorflow:Gradients do not exist for variables ['tf_bert_model/bert/pooler/dense/kernel:0', 'tf_bert_model/bert/pooler/dense/bias:0'] when minimizing the loss. If you're using `model.compile()`, did you forget to provide a `loss` argument?\n"
          ]
        },
        {
          "output_type": "stream",
          "name": "stdout",
          "text": [
            "\b\b\b\b\b\b\b\b\b\b\b\b\b\b\b\b\b\b\b\b\b\b\b\b\b\b\b\b\b\b\b\b\b\b\b\b\b\b\b\b\b\b\b\b\b\b\b\b\b\b\b\b\b\b\b\b\b\b\b\b\b\b\b\b\b\b\b\b\b\b\b\b\b\b\b\b\b\b\b\b\b\b\b\b\b\b\b\b\b\b\b\b\b\b\b\b\b\b\r  3/146 [..............................] - ETA: 1:32:05 - loss: 1.7753 - balanced_accuracy: 0.2037"
          ]
        },
        {
          "output_type": "stream",
          "name": "stderr",
          "text": [
            "WARNING:tensorflow:Gradients do not exist for variables ['tf_bert_model/bert/pooler/dense/kernel:0', 'tf_bert_model/bert/pooler/dense/bias:0'] when minimizing the loss. If you're using `model.compile()`, did you forget to provide a `loss` argument?\n"
          ]
        },
        {
          "output_type": "stream",
          "name": "stdout",
          "text": [
            "\b\b\b\b\b\b\b\b\b\b\b\b\b\b\b\b\b\b\b\b\b\b\b\b\b\b\b\b\b\b\b\b\b\b\b\b\b\b\b\b\b\b\b\b\b\b\b\b\b\b\b\b\b\b\b\b\b\b\b\b\b\b\b\b\b\b\b\b\b\b\b\b\b\b\b\b\b\b\b\b\b\b\b\b\b\b\b\b\b\b\b\b\b\b\b\b\b\b\r  4/146 [..............................] - ETA: 1:28:13 - loss: 1.7592 - balanced_accuracy: 0.2292"
          ]
        },
        {
          "output_type": "stream",
          "name": "stderr",
          "text": [
            "WARNING:tensorflow:Gradients do not exist for variables ['tf_bert_model/bert/pooler/dense/kernel:0', 'tf_bert_model/bert/pooler/dense/bias:0'] when minimizing the loss. If you're using `model.compile()`, did you forget to provide a `loss` argument?\n"
          ]
        },
        {
          "output_type": "stream",
          "name": "stdout",
          "text": [
            "\b\b\b\b\b\b\b\b\b\b\b\b\b\b\b\b\b\b\b\b\b\b\b\b\b\b\b\b\b\b\b\b\b\b\b\b\b\b\b\b\b\b\b\b\b\b\b\b\b\b\b\b\b\b\b\b\b\b\b\b\b\b\b\b\b\b\b\b\b\b\b\b\b\b\b\b\b\b\b\b\b\b\b\b\b\b\b\b\b\b\b\b\b\b\b\b\b\b\r  5/146 [>.............................] - ETA: 1:24:58 - loss: 1.7614 - balanced_accuracy: 0.2278"
          ]
        },
        {
          "output_type": "stream",
          "name": "stderr",
          "text": [
            "WARNING:tensorflow:Gradients do not exist for variables ['tf_bert_model/bert/pooler/dense/kernel:0', 'tf_bert_model/bert/pooler/dense/bias:0'] when minimizing the loss. If you're using `model.compile()`, did you forget to provide a `loss` argument?\n"
          ]
        },
        {
          "output_type": "stream",
          "name": "stdout",
          "text": [
            "\b\b\b\b\b\b\b\b\b\b\b\b\b\b\b\b\b\b\b\b\b\b\b\b\b\b\b\b\b\b\b\b\b\b\b\b\b\b\b\b\b\b\b\b\b\b\b\b\b\b\b\b\b\b\b\b\b\b\b\b\b\b\b\b\b\b\b\b\b\b\b\b\b\b\b\b\b\b\b\b\b\b\b\b\b\b\b\b\b\b\b\b\b\b\b\b\b\b\r  6/146 [>.............................] - ETA: 1:24:23 - loss: 1.7525 - balanced_accuracy: 0.2315"
          ]
        },
        {
          "output_type": "stream",
          "name": "stderr",
          "text": [
            "WARNING:tensorflow:Gradients do not exist for variables ['tf_bert_model/bert/pooler/dense/kernel:0', 'tf_bert_model/bert/pooler/dense/bias:0'] when minimizing the loss. If you're using `model.compile()`, did you forget to provide a `loss` argument?\n"
          ]
        },
        {
          "output_type": "stream",
          "name": "stdout",
          "text": [
            "\b\b\b\b\b\b\b\b\b\b\b\b\b\b\b\b\b\b\b\b\b\b\b\b\b\b\b\b\b\b\b\b\b\b\b\b\b\b\b\b\b\b\b\b\b\b\b\b\b\b\b\b\b\b\b\b\b\b\b\b\b\b\b\b\b\b\b\b\b\b\b\b\b\b\b\b\b\b\b\b\b\b\b\b\b\b\b\b\b\b\b\b\b\b\b\b\b\b\r  7/146 [>.............................] - ETA: 1:22:16 - loss: 1.7448 - balanced_accuracy: 0.2302"
          ]
        },
        {
          "output_type": "stream",
          "name": "stderr",
          "text": [
            "WARNING:tensorflow:Gradients do not exist for variables ['tf_bert_model/bert/pooler/dense/kernel:0', 'tf_bert_model/bert/pooler/dense/bias:0'] when minimizing the loss. If you're using `model.compile()`, did you forget to provide a `loss` argument?\n"
          ]
        },
        {
          "output_type": "stream",
          "name": "stdout",
          "text": [
            "\b\b\b\b\b\b\b\b\b\b\b\b\b\b\b\b\b\b\b\b\b\b\b\b\b\b\b\b\b\b\b\b\b\b\b\b\b\b\b\b\b\b\b\b\b\b\b\b\b\b\b\b\b\b\b\b\b\b\b\b\b\b\b\b\b\b\b\b\b\b\b\b\b\b\b\b\b\b\b\b\b\b\b\b\b\b\b\b\b\b\b\b\b\b\b\b\b\b\r  8/146 [>.............................] - ETA: 1:20:52 - loss: 1.7500 - balanced_accuracy: 0.2257"
          ]
        },
        {
          "output_type": "stream",
          "name": "stderr",
          "text": [
            "WARNING:tensorflow:Gradients do not exist for variables ['tf_bert_model/bert/pooler/dense/kernel:0', 'tf_bert_model/bert/pooler/dense/bias:0'] when minimizing the loss. If you're using `model.compile()`, did you forget to provide a `loss` argument?\n"
          ]
        },
        {
          "output_type": "stream",
          "name": "stdout",
          "text": [
            "\b\b\b\b\b\b\b\b\b\b\b\b\b\b\b\b\b\b\b\b\b\b\b\b\b\b\b\b\b\b\b\b\b\b\b\b\b\b\b\b\b\b\b\b\b\b\b\b\b\b\b\b\b\b\b\b\b\b\b\b\b\b\b\b\b\b\b\b\b\b\b\b\b\b\b\b\b\b\b\b\b\b\b\b\b\b\b\b\b\b\b\b\b\b\b\b\b\b\r  9/146 [>.............................] - ETA: 1:19:52 - loss: 1.7551 - balanced_accuracy: 0.2222"
          ]
        },
        {
          "output_type": "stream",
          "name": "stderr",
          "text": [
            "WARNING:tensorflow:Gradients do not exist for variables ['tf_bert_model/bert/pooler/dense/kernel:0', 'tf_bert_model/bert/pooler/dense/bias:0'] when minimizing the loss. If you're using `model.compile()`, did you forget to provide a `loss` argument?\n"
          ]
        },
        {
          "output_type": "stream",
          "name": "stdout",
          "text": [
            "\b\b\b\b\b\b\b\b\b\b\b\b\b\b\b\b\b\b\b\b\b\b\b\b\b\b\b\b\b\b\b\b\b\b\b\b\b\b\b\b\b\b\b\b\b\b\b\b\b\b\b\b\b\b\b\b\b\b\b\b\b\b\b\b\b\b\b\b\b\b\b\b\b\b\b\b\b\b\b\b\b\b\b\b\b\b\b\b\b\b\b\b\b\b\b\b\b\b\r 10/146 [=>............................] - ETA: 1:18:28 - loss: 1.7475 - balanced_accuracy: 0.2389"
          ]
        },
        {
          "output_type": "stream",
          "name": "stderr",
          "text": [
            "WARNING:tensorflow:Gradients do not exist for variables ['tf_bert_model/bert/pooler/dense/kernel:0', 'tf_bert_model/bert/pooler/dense/bias:0'] when minimizing the loss. If you're using `model.compile()`, did you forget to provide a `loss` argument?\n"
          ]
        },
        {
          "output_type": "stream",
          "name": "stdout",
          "text": [
            "\b\b\b\b\b\b\b\b\b\b\b\b\b\b\b\b\b\b\b\b\b\b\b\b\b\b\b\b\b\b\b\b\b\b\b\b\b\b\b\b\b\b\b\b\b\b\b\b\b\b\b\b\b\b\b\b\b\b\b\b\b\b\b\b\b\b\b\b\b\b\b\b\b\b\b\b\b\b\b\b\b\b\b\b\b\b\b\b\b\b\b\b\b\b\b\b\b\b\r 11/146 [=>............................] - ETA: 1:17:14 - loss: 1.7487 - balanced_accuracy: 0.2374"
          ]
        },
        {
          "output_type": "stream",
          "name": "stderr",
          "text": [
            "WARNING:tensorflow:Gradients do not exist for variables ['tf_bert_model/bert/pooler/dense/kernel:0', 'tf_bert_model/bert/pooler/dense/bias:0'] when minimizing the loss. If you're using `model.compile()`, did you forget to provide a `loss` argument?\n"
          ]
        },
        {
          "output_type": "stream",
          "name": "stdout",
          "text": [
            "\b\b\b\b\b\b\b\b\b\b\b\b\b\b\b\b\b\b\b\b\b\b\b\b\b\b\b\b\b\b\b\b\b\b\b\b\b\b\b\b\b\b\b\b\b\b\b\b\b\b\b\b\b\b\b\b\b\b\b\b\b\b\b\b\b\b\b\b\b\b\b\b\b\b\b\b\b\b\b\b\b\b\b\b\b\b\b\b\b\b\b\b\b\b\b\b\b\b\r 12/146 [=>............................] - ETA: 1:16:29 - loss: 1.7590 - balanced_accuracy: 0.2269"
          ]
        },
        {
          "output_type": "stream",
          "name": "stderr",
          "text": [
            "WARNING:tensorflow:Gradients do not exist for variables ['tf_bert_model/bert/pooler/dense/kernel:0', 'tf_bert_model/bert/pooler/dense/bias:0'] when minimizing the loss. If you're using `model.compile()`, did you forget to provide a `loss` argument?\n"
          ]
        },
        {
          "output_type": "stream",
          "name": "stdout",
          "text": [
            "\b\b\b\b\b\b\b\b\b\b\b\b\b\b\b\b\b\b\b\b\b\b\b\b\b\b\b\b\b\b\b\b\b\b\b\b\b\b\b\b\b\b\b\b\b\b\b\b\b\b\b\b\b\b\b\b\b\b\b\b\b\b\b\b\b\b\b\b\b\b\b\b\b\b\b\b\b\b\b\b\b\b\b\b\b\b\b\b\b\b\b\b\b\b\b\b\b\b\r 13/146 [=>............................] - ETA: 1:16:37 - loss: 1.7583 - balanced_accuracy: 0.2286"
          ]
        },
        {
          "output_type": "stream",
          "name": "stderr",
          "text": [
            "WARNING:tensorflow:Gradients do not exist for variables ['tf_bert_model/bert/pooler/dense/kernel:0', 'tf_bert_model/bert/pooler/dense/bias:0'] when minimizing the loss. If you're using `model.compile()`, did you forget to provide a `loss` argument?\n"
          ]
        },
        {
          "output_type": "stream",
          "name": "stdout",
          "text": [
            "\b\b\b\b\b\b\b\b\b\b\b\b\b\b\b\b\b\b\b\b\b\b\b\b\b\b\b\b\b\b\b\b\b\b\b\b\b\b\b\b\b\b\b\b\b\b\b\b\b\b\b\b\b\b\b\b\b\b\b\b\b\b\b\b\b\b\b\b\b\b\b\b\b\b\b\b\b\b\b\b\b\b\b\b\b\b\b\b\b\b\b\b\b\b\b\b\b\b\r 14/146 [=>............................] - ETA: 1:15:45 - loss: 1.7609 - balanced_accuracy: 0.2262"
          ]
        },
        {
          "output_type": "stream",
          "name": "stderr",
          "text": [
            "WARNING:tensorflow:Gradients do not exist for variables ['tf_bert_model/bert/pooler/dense/kernel:0', 'tf_bert_model/bert/pooler/dense/bias:0'] when minimizing the loss. If you're using `model.compile()`, did you forget to provide a `loss` argument?\n"
          ]
        },
        {
          "output_type": "stream",
          "name": "stdout",
          "text": [
            "\b\b\b\b\b\b\b\b\b\b\b\b\b\b\b\b\b\b\b\b\b\b\b\b\b\b\b\b\b\b\b\b\b\b\b\b\b\b\b\b\b\b\b\b\b\b\b\b\b\b\b\b\b\b\b\b\b\b\b\b\b\b\b\b\b\b\b\b\b\b\b\b\b\b\b\b\b\b\b\b\b\b\b\b\b\b\b\b\b\b\b\b\b\b\b\b\b\b\r 15/146 [==>...........................] - ETA: 1:15:33 - loss: 1.7605 - balanced_accuracy: 0.2278"
          ]
        },
        {
          "output_type": "stream",
          "name": "stderr",
          "text": [
            "WARNING:tensorflow:Gradients do not exist for variables ['tf_bert_model/bert/pooler/dense/kernel:0', 'tf_bert_model/bert/pooler/dense/bias:0'] when minimizing the loss. If you're using `model.compile()`, did you forget to provide a `loss` argument?\n"
          ]
        },
        {
          "output_type": "stream",
          "name": "stdout",
          "text": [
            "\b\b\b\b\b\b\b\b\b\b\b\b\b\b\b\b\b\b\b\b\b\b\b\b\b\b\b\b\b\b\b\b\b\b\b\b\b\b\b\b\b\b\b\b\b\b\b\b\b\b\b\b\b\b\b\b\b\b\b\b\b\b\b\b\b\b\b\b\b\b\b\b\b\b\b\b\b\b\b\b\b\b\b\b\b\b\b\b\b\b\b\b\b\b\b\b\b\b\r 16/146 [==>...........................] - ETA: 1:14:34 - loss: 1.7532 - balanced_accuracy: 0.2344"
          ]
        },
        {
          "output_type": "stream",
          "name": "stderr",
          "text": [
            "WARNING:tensorflow:Gradients do not exist for variables ['tf_bert_model/bert/pooler/dense/kernel:0', 'tf_bert_model/bert/pooler/dense/bias:0'] when minimizing the loss. If you're using `model.compile()`, did you forget to provide a `loss` argument?\n"
          ]
        },
        {
          "output_type": "stream",
          "name": "stdout",
          "text": [
            "\b\b\b\b\b\b\b\b\b\b\b\b\b\b\b\b\b\b\b\b\b\b\b\b\b\b\b\b\b\b\b\b\b\b\b\b\b\b\b\b\b\b\b\b\b\b\b\b\b\b\b\b\b\b\b\b\b\b\b\b\b\b\b\b\b\b\b\b\b\b\b\b\b\b\b\b\b\b\b\b\b\b\b\b\b\b\b\b\b\b\b\b\b\b\b\b\b\b\r 17/146 [==>...........................] - ETA: 1:13:42 - loss: 1.7480 - balanced_accuracy: 0.2353"
          ]
        },
        {
          "output_type": "stream",
          "name": "stderr",
          "text": [
            "WARNING:tensorflow:Gradients do not exist for variables ['tf_bert_model/bert/pooler/dense/kernel:0', 'tf_bert_model/bert/pooler/dense/bias:0'] when minimizing the loss. If you're using `model.compile()`, did you forget to provide a `loss` argument?\n"
          ]
        },
        {
          "output_type": "stream",
          "name": "stdout",
          "text": [
            "\b\b\b\b\b\b\b\b\b\b\b\b\b\b\b\b\b\b\b\b\b\b\b\b\b\b\b\b\b\b\b\b\b\b\b\b\b\b\b\b\b\b\b\b\b\b\b\b\b\b\b\b\b\b\b\b\b\b\b\b\b\b\b\b\b\b\b\b\b\b\b\b\b\b\b\b\b\b\b\b\b\b\b\b\b\b\b\b\b\b\b\b\b\b\b\b\b\b\r 18/146 [==>...........................] - ETA: 1:12:53 - loss: 1.7396 - balanced_accuracy: 0.2407"
          ]
        },
        {
          "output_type": "stream",
          "name": "stderr",
          "text": [
            "WARNING:tensorflow:Gradients do not exist for variables ['tf_bert_model/bert/pooler/dense/kernel:0', 'tf_bert_model/bert/pooler/dense/bias:0'] when minimizing the loss. If you're using `model.compile()`, did you forget to provide a `loss` argument?\n"
          ]
        },
        {
          "output_type": "stream",
          "name": "stdout",
          "text": [
            "\b\b\b\b\b\b\b\b\b\b\b\b\b\b\b\b\b\b\b\b\b\b\b\b\b\b\b\b\b\b\b\b\b\b\b\b\b\b\b\b\b\b\b\b\b\b\b\b\b\b\b\b\b\b\b\b\b\b\b\b\b\b\b\b\b\b\b\b\b\b\b\b\b\b\b\b\b\b\b\b\b\b\b\b\b\b\b\b\b\b\b\b\b\b\b\b\b\b\r 19/146 [==>...........................] - ETA: 1:12:04 - loss: 1.7285 - balanced_accuracy: 0.2529"
          ]
        },
        {
          "output_type": "stream",
          "name": "stderr",
          "text": [
            "WARNING:tensorflow:Gradients do not exist for variables ['tf_bert_model/bert/pooler/dense/kernel:0', 'tf_bert_model/bert/pooler/dense/bias:0'] when minimizing the loss. If you're using `model.compile()`, did you forget to provide a `loss` argument?\n"
          ]
        },
        {
          "output_type": "stream",
          "name": "stdout",
          "text": [
            "\b\b\b\b\b\b\b\b\b\b\b\b\b\b\b\b\b\b\b\b\b\b\b\b\b\b\b\b\b\b\b\b\b\b\b\b\b\b\b\b\b\b\b\b\b\b\b\b\b\b\b\b\b\b\b\b\b\b\b\b\b\b\b\b\b\b\b\b\b\b\b\b\b\b\b\b\b\b\b\b\b\b\b\b\b\b\b\b\b\b\b\b\b\b\b\b\b\b\r 20/146 [===>..........................] - ETA: 1:11:24 - loss: 1.7287 - balanced_accuracy: 0.2528"
          ]
        },
        {
          "output_type": "stream",
          "name": "stderr",
          "text": [
            "WARNING:tensorflow:Gradients do not exist for variables ['tf_bert_model/bert/pooler/dense/kernel:0', 'tf_bert_model/bert/pooler/dense/bias:0'] when minimizing the loss. If you're using `model.compile()`, did you forget to provide a `loss` argument?\n"
          ]
        },
        {
          "output_type": "stream",
          "name": "stdout",
          "text": [
            "\b\b\b\b\b\b\b\b\b\b\b\b\b\b\b\b\b\b\b\b\b\b\b\b\b\b\b\b\b\b\b\b\b\b\b\b\b\b\b\b\b\b\b\b\b\b\b\b\b\b\b\b\b\b\b\b\b\b\b\b\b\b\b\b\b\b\b\b\b\b\b\b\b\b\b\b\b\b\b\b\b\b\b\b\b\b\b\b\b\b\b\b\b\b\b\b\b\b\r 21/146 [===>..........................] - ETA: 1:10:36 - loss: 1.7239 - balanced_accuracy: 0.2566"
          ]
        },
        {
          "output_type": "stream",
          "name": "stderr",
          "text": [
            "WARNING:tensorflow:Gradients do not exist for variables ['tf_bert_model/bert/pooler/dense/kernel:0', 'tf_bert_model/bert/pooler/dense/bias:0'] when minimizing the loss. If you're using `model.compile()`, did you forget to provide a `loss` argument?\n"
          ]
        },
        {
          "output_type": "stream",
          "name": "stdout",
          "text": [
            "\b\b\b\b\b\b\b\b\b\b\b\b\b\b\b\b\b\b\b\b\b\b\b\b\b\b\b\b\b\b\b\b\b\b\b\b\b\b\b\b\b\b\b\b\b\b\b\b\b\b\b\b\b\b\b\b\b\b\b\b\b\b\b\b\b\b\b\b\b\b\b\b\b\b\b\b\b\b\b\b\b\b\b\b\b\b\b\b\b\b\b\b\b\b\b\b\b\b\r 22/146 [===>..........................] - ETA: 1:10:08 - loss: 1.7252 - balanced_accuracy: 0.2588"
          ]
        },
        {
          "output_type": "stream",
          "name": "stderr",
          "text": [
            "WARNING:tensorflow:Gradients do not exist for variables ['tf_bert_model/bert/pooler/dense/kernel:0', 'tf_bert_model/bert/pooler/dense/bias:0'] when minimizing the loss. If you're using `model.compile()`, did you forget to provide a `loss` argument?\n"
          ]
        },
        {
          "output_type": "stream",
          "name": "stdout",
          "text": [
            "\b\b\b\b\b\b\b\b\b\b\b\b\b\b\b\b\b\b\b\b\b\b\b\b\b\b\b\b\b\b\b\b\b\b\b\b\b\b\b\b\b\b\b\b\b\b\b\b\b\b\b\b\b\b\b\b\b\b\b\b\b\b\b\b\b\b\b\b\b\b\b\b\b\b\b\b\b\b\b\b\b\b\b\b\b\b\b\b\b\b\b\b\b\b\b\b\b\b\r 23/146 [===>..........................] - ETA: 1:09:24 - loss: 1.7220 - balanced_accuracy: 0.2609"
          ]
        },
        {
          "output_type": "stream",
          "name": "stderr",
          "text": [
            "WARNING:tensorflow:Gradients do not exist for variables ['tf_bert_model/bert/pooler/dense/kernel:0', 'tf_bert_model/bert/pooler/dense/bias:0'] when minimizing the loss. If you're using `model.compile()`, did you forget to provide a `loss` argument?\n"
          ]
        },
        {
          "output_type": "stream",
          "name": "stdout",
          "text": [
            "\b\b\b\b\b\b\b\b\b\b\b\b\b\b\b\b\b\b\b\b\b\b\b\b\b\b\b\b\b\b\b\b\b\b\b\b\b\b\b\b\b\b\b\b\b\b\b\b\b\b\b\b\b\b\b\b\b\b\b\b\b\b\b\b\b\b\b\b\b\b\b\b\b\b\b\b\b\b\b\b\b\b\b\b\b\b\b\b\b\b\b\b\b\b\b\b\b\b\r 24/146 [===>..........................] - ETA: 1:08:39 - loss: 1.7161 - balanced_accuracy: 0.2674"
          ]
        },
        {
          "output_type": "stream",
          "name": "stderr",
          "text": [
            "WARNING:tensorflow:Gradients do not exist for variables ['tf_bert_model/bert/pooler/dense/kernel:0', 'tf_bert_model/bert/pooler/dense/bias:0'] when minimizing the loss. If you're using `model.compile()`, did you forget to provide a `loss` argument?\n"
          ]
        },
        {
          "output_type": "stream",
          "name": "stdout",
          "text": [
            "\b\b\b\b\b\b\b\b\b\b\b\b\b\b\b\b\b\b\b\b\b\b\b\b\b\b\b\b\b\b\b\b\b\b\b\b\b\b\b\b\b\b\b\b\b\b\b\b\b\b\b\b\b\b\b\b\b\b\b\b\b\b\b\b\b\b\b\b\b\b\b\b\b\b\b\b\b\b\b\b\b\b\b\b\b\b\b\b\b\b\b\b\b\b\b\b\b\b\r 25/146 [====>.........................] - ETA: 1:08:06 - loss: 1.7104 - balanced_accuracy: 0.2700"
          ]
        },
        {
          "output_type": "stream",
          "name": "stderr",
          "text": [
            "WARNING:tensorflow:Gradients do not exist for variables ['tf_bert_model/bert/pooler/dense/kernel:0', 'tf_bert_model/bert/pooler/dense/bias:0'] when minimizing the loss. If you're using `model.compile()`, did you forget to provide a `loss` argument?\n"
          ]
        },
        {
          "output_type": "stream",
          "name": "stdout",
          "text": [
            "\b\b\b\b\b\b\b\b\b\b\b\b\b\b\b\b\b\b\b\b\b\b\b\b\b\b\b\b\b\b\b\b\b\b\b\b\b\b\b\b\b\b\b\b\b\b\b\b\b\b\b\b\b\b\b\b\b\b\b\b\b\b\b\b\b\b\b\b\b\b\b\b\b\b\b\b\b\b\b\b\b\b\b\b\b\b\b\b\b\b\b\b\b\b\b\b\b\b\r 26/146 [====>.........................] - ETA: 1:07:28 - loss: 1.7001 - balanced_accuracy: 0.2756"
          ]
        },
        {
          "output_type": "stream",
          "name": "stderr",
          "text": [
            "WARNING:tensorflow:Gradients do not exist for variables ['tf_bert_model/bert/pooler/dense/kernel:0', 'tf_bert_model/bert/pooler/dense/bias:0'] when minimizing the loss. If you're using `model.compile()`, did you forget to provide a `loss` argument?\n"
          ]
        },
        {
          "output_type": "stream",
          "name": "stdout",
          "text": [
            "\b\b\b\b\b\b\b\b\b\b\b\b\b\b\b\b\b\b\b\b\b\b\b\b\b\b\b\b\b\b\b\b\b\b\b\b\b\b\b\b\b\b\b\b\b\b\b\b\b\b\b\b\b\b\b\b\b\b\b\b\b\b\b\b\b\b\b\b\b\b\b\b\b\b\b\b\b\b\b\b\b\b\b\b\b\b\b\b\b\b\b\b\b\b\b\b\b\b\r 27/146 [====>.........................] - ETA: 1:06:50 - loss: 1.6983 - balanced_accuracy: 0.2757"
          ]
        },
        {
          "output_type": "stream",
          "name": "stderr",
          "text": [
            "WARNING:tensorflow:Gradients do not exist for variables ['tf_bert_model/bert/pooler/dense/kernel:0', 'tf_bert_model/bert/pooler/dense/bias:0'] when minimizing the loss. If you're using `model.compile()`, did you forget to provide a `loss` argument?\n"
          ]
        },
        {
          "output_type": "stream",
          "name": "stdout",
          "text": [
            "\b\b\b\b\b\b\b\b\b\b\b\b\b\b\b\b\b\b\b\b\b\b\b\b\b\b\b\b\b\b\b\b\b\b\b\b\b\b\b\b\b\b\b\b\b\b\b\b\b\b\b\b\b\b\b\b\b\b\b\b\b\b\b\b\b\b\b\b\b\b\b\b\b\b\b\b\b\b\b\b\b\b\b\b\b\b\b\b\b\b\b\b\b\b\b\b\b\b\r 28/146 [====>.........................] - ETA: 1:06:17 - loss: 1.6968 - balanced_accuracy: 0.2778"
          ]
        },
        {
          "output_type": "stream",
          "name": "stderr",
          "text": [
            "WARNING:tensorflow:Gradients do not exist for variables ['tf_bert_model/bert/pooler/dense/kernel:0', 'tf_bert_model/bert/pooler/dense/bias:0'] when minimizing the loss. If you're using `model.compile()`, did you forget to provide a `loss` argument?\n"
          ]
        },
        {
          "output_type": "stream",
          "name": "stdout",
          "text": [
            "\b\b\b\b\b\b\b\b\b\b\b\b\b\b\b\b\b\b\b\b\b\b\b\b\b\b\b\b\b\b\b\b\b\b\b\b\b\b\b\b\b\b\b\b\b\b\b\b\b\b\b\b\b\b\b\b\b\b\b\b\b\b\b\b\b\b\b\b\b\b\b\b\b\b\b\b\b\b\b\b\b\b\b\b\b\b\b\b\b\b\b\b\b\b\b\b\b\b\r 29/146 [====>.........................] - ETA: 1:05:39 - loss: 1.6954 - balanced_accuracy: 0.2797"
          ]
        },
        {
          "output_type": "stream",
          "name": "stderr",
          "text": [
            "WARNING:tensorflow:Gradients do not exist for variables ['tf_bert_model/bert/pooler/dense/kernel:0', 'tf_bert_model/bert/pooler/dense/bias:0'] when minimizing the loss. If you're using `model.compile()`, did you forget to provide a `loss` argument?\n"
          ]
        },
        {
          "output_type": "stream",
          "name": "stdout",
          "text": [
            "\b\b\b\b\b\b\b\b\b\b\b\b\b\b\b\b\b\b\b\b\b\b\b\b\b\b\b\b\b\b\b\b\b\b\b\b\b\b\b\b\b\b\b\b\b\b\b\b\b\b\b\b\b\b\b\b\b\b\b\b\b\b\b\b\b\b\b\b\b\b\b\b\b\b\b\b\b\b\b\b\b\b\b\b\b\b\b\b\b\b\b\b\b\b\b\b\b\b\r 30/146 [=====>........................] - ETA: 1:04:57 - loss: 1.6911 - balanced_accuracy: 0.2787"
          ]
        },
        {
          "output_type": "stream",
          "name": "stderr",
          "text": [
            "WARNING:tensorflow:Gradients do not exist for variables ['tf_bert_model/bert/pooler/dense/kernel:0', 'tf_bert_model/bert/pooler/dense/bias:0'] when minimizing the loss. If you're using `model.compile()`, did you forget to provide a `loss` argument?\n"
          ]
        },
        {
          "output_type": "stream",
          "name": "stdout",
          "text": [
            "\b\b\b\b\b\b\b\b\b\b\b\b\b\b\b\b\b\b\b\b\b\b\b\b\b\b\b\b\b\b\b\b\b\b\b\b\b\b\b\b\b\b\b\b\b\b\b\b\b\b\b\b\b\b\b\b\b\b\b\b\b\b\b\b\b\b\b\b\b\b\b\b\b\b\b\b\b\b\b\b\b\b\b\b\b\b\b\b\b\b\b\b\b\b\b\b\b\b\r 31/146 [=====>........................] - ETA: 1:04:15 - loss: 1.6847 - balanced_accuracy: 0.2849"
          ]
        },
        {
          "output_type": "stream",
          "name": "stderr",
          "text": [
            "WARNING:tensorflow:Gradients do not exist for variables ['tf_bert_model/bert/pooler/dense/kernel:0', 'tf_bert_model/bert/pooler/dense/bias:0'] when minimizing the loss. If you're using `model.compile()`, did you forget to provide a `loss` argument?\n"
          ]
        },
        {
          "output_type": "stream",
          "name": "stdout",
          "text": [
            "\b\b\b\b\b\b\b\b\b\b\b\b\b\b\b\b\b\b\b\b\b\b\b\b\b\b\b\b\b\b\b\b\b\b\b\b\b\b\b\b\b\b\b\b\b\b\b\b\b\b\b\b\b\b\b\b\b\b\b\b\b\b\b\b\b\b\b\b\b\b\b\b\b\b\b\b\b\b\b\b\b\b\b\b\b\b\b\b\b\b\b\b\b\b\b\b\b\b\r 32/146 [=====>........................] - ETA: 1:03:33 - loss: 1.6794 - balanced_accuracy: 0.2899"
          ]
        },
        {
          "output_type": "stream",
          "name": "stderr",
          "text": [
            "WARNING:tensorflow:Gradients do not exist for variables ['tf_bert_model/bert/pooler/dense/kernel:0', 'tf_bert_model/bert/pooler/dense/bias:0'] when minimizing the loss. If you're using `model.compile()`, did you forget to provide a `loss` argument?\n"
          ]
        },
        {
          "output_type": "stream",
          "name": "stdout",
          "text": [
            "\b\b\b\b\b\b\b\b\b\b\b\b\b\b\b\b\b\b\b\b\b\b\b\b\b\b\b\b\b\b\b\b\b\b\b\b\b\b\b\b\b\b\b\b\b\b\b\b\b\b\b\b\b\b\b\b\b\b\b\b\b\b\b\b\b\b\b\b\b\b\b\b\b\b\b\b\b\b\b\b\b\b\b\b\b\b\b\b\b\b\b\b\b\b\b\b\b\b\r 33/146 [=====>........................] - ETA: 1:02:57 - loss: 1.6756 - balanced_accuracy: 0.2946"
          ]
        },
        {
          "output_type": "stream",
          "name": "stderr",
          "text": [
            "WARNING:tensorflow:Gradients do not exist for variables ['tf_bert_model/bert/pooler/dense/kernel:0', 'tf_bert_model/bert/pooler/dense/bias:0'] when minimizing the loss. If you're using `model.compile()`, did you forget to provide a `loss` argument?\n"
          ]
        },
        {
          "output_type": "stream",
          "name": "stdout",
          "text": [
            "\b\b\b\b\b\b\b\b\b\b\b\b\b\b\b\b\b\b\b\b\b\b\b\b\b\b\b\b\b\b\b\b\b\b\b\b\b\b\b\b\b\b\b\b\b\b\b\b\b\b\b\b\b\b\b\b\b\b\b\b\b\b\b\b\b\b\b\b\b\b\b\b\b\b\b\b\b\b\b\b\b\b\b\b\b\b\b\b\b\b\b\b\b\b\b\b\b\b\r 34/146 [=====>........................] - ETA: 1:02:30 - loss: 1.6712 - balanced_accuracy: 0.2958"
          ]
        },
        {
          "output_type": "stream",
          "name": "stderr",
          "text": [
            "WARNING:tensorflow:Gradients do not exist for variables ['tf_bert_model/bert/pooler/dense/kernel:0', 'tf_bert_model/bert/pooler/dense/bias:0'] when minimizing the loss. If you're using `model.compile()`, did you forget to provide a `loss` argument?\n"
          ]
        },
        {
          "output_type": "stream",
          "name": "stdout",
          "text": [
            "\b\b\b\b\b\b\b\b\b\b\b\b\b\b\b\b\b\b\b\b\b\b\b\b\b\b\b\b\b\b\b\b\b\b\b\b\b\b\b\b\b\b\b\b\b\b\b\b\b\b\b\b\b\b\b\b\b\b\b\b\b\b\b\b\b\b\b\b\b\b\b\b\b\b\b\b\b\b\b\b\b\b\b\b\b\b\b\b\b\b\b\b\b\b\b\b\b\b\r 35/146 [======>.......................] - ETA: 1:01:53 - loss: 1.6727 - balanced_accuracy: 0.2968"
          ]
        },
        {
          "output_type": "stream",
          "name": "stderr",
          "text": [
            "WARNING:tensorflow:Gradients do not exist for variables ['tf_bert_model/bert/pooler/dense/kernel:0', 'tf_bert_model/bert/pooler/dense/bias:0'] when minimizing the loss. If you're using `model.compile()`, did you forget to provide a `loss` argument?\n"
          ]
        },
        {
          "output_type": "stream",
          "name": "stdout",
          "text": [
            "\b\b\b\b\b\b\b\b\b\b\b\b\b\b\b\b\b\b\b\b\b\b\b\b\b\b\b\b\b\b\b\b\b\b\b\b\b\b\b\b\b\b\b\b\b\b\b\b\b\b\b\b\b\b\b\b\b\b\b\b\b\b\b\b\b\b\b\b\b\b\b\b\b\b\b\b\b\b\b\b\b\b\b\b\b\b\b\b\b\b\b\b\b\b\b\b\b\b\r 36/146 [======>.......................] - ETA: 1:01:25 - loss: 1.6621 - balanced_accuracy: 0.3040"
          ]
        },
        {
          "output_type": "stream",
          "name": "stderr",
          "text": [
            "WARNING:tensorflow:Gradients do not exist for variables ['tf_bert_model/bert/pooler/dense/kernel:0', 'tf_bert_model/bert/pooler/dense/bias:0'] when minimizing the loss. If you're using `model.compile()`, did you forget to provide a `loss` argument?\n"
          ]
        },
        {
          "output_type": "stream",
          "name": "stdout",
          "text": [
            "\b\b\b\b\b\b\b\b\b\b\b\b\b\b\b\b\b\b\b\b\b\b\b\b\b\b\b\b\b\b\b\b\b\b\b\b\b\b\b\b\b\b\b\b\b\b\b\b\b\b\b\b\b\b\b\b\b\b\b\b\b\b\b\b\b\b\b\b\b\b\b\b\b\b\b\b\b\b\b\b\b\b\b\b\b\b\b\b\b\b\b\b\b\b\b\b\b\b\r 37/146 [======>.......................] - ETA: 1:00:49 - loss: 1.6535 - balanced_accuracy: 0.3078"
          ]
        },
        {
          "output_type": "stream",
          "name": "stderr",
          "text": [
            "WARNING:tensorflow:Gradients do not exist for variables ['tf_bert_model/bert/pooler/dense/kernel:0', 'tf_bert_model/bert/pooler/dense/bias:0'] when minimizing the loss. If you're using `model.compile()`, did you forget to provide a `loss` argument?\n"
          ]
        },
        {
          "output_type": "stream",
          "name": "stdout",
          "text": [
            "\b\b\b\b\b\b\b\b\b\b\b\b\b\b\b\b\b\b\b\b\b\b\b\b\b\b\b\b\b\b\b\b\b\b\b\b\b\b\b\b\b\b\b\b\b\b\b\b\b\b\b\b\b\b\b\b\b\b\b\b\b\b\b\b\b\b\b\b\b\b\b\b\b\b\b\b\b\b\b\b\b\b\b\b\b\b\b\b\b\b\b\b\b\b\b\b\b\b\r 38/146 [======>.......................] - ETA: 1:00:10 - loss: 1.6490 - balanced_accuracy: 0.3107"
          ]
        },
        {
          "output_type": "stream",
          "name": "stderr",
          "text": [
            "WARNING:tensorflow:Gradients do not exist for variables ['tf_bert_model/bert/pooler/dense/kernel:0', 'tf_bert_model/bert/pooler/dense/bias:0'] when minimizing the loss. If you're using `model.compile()`, did you forget to provide a `loss` argument?\n"
          ]
        },
        {
          "output_type": "stream",
          "name": "stdout",
          "text": [
            "\b\b\b\b\b\b\b\b\b\b\b\b\b\b\b\b\b\b\b\b\b\b\b\b\b\b\b\b\b\b\b\b\b\b\b\b\b\b\b\b\b\b\b\b\b\b\b\b\b\b\b\b\b\b\b\b\b\b\b\b\b\b\b\b\b\b\b\b\b\b\b\b\b\b\b\b\b\b\b\b\b\b\b\b\b\b\b\b\b\b\b\b\b\b\b\b\b\b\r 39/146 [=======>......................] - ETA: 59:36 - loss: 1.6411 - balanced_accuracy: 0.3148  "
          ]
        },
        {
          "output_type": "stream",
          "name": "stderr",
          "text": [
            "WARNING:tensorflow:Gradients do not exist for variables ['tf_bert_model/bert/pooler/dense/kernel:0', 'tf_bert_model/bert/pooler/dense/bias:0'] when minimizing the loss. If you're using `model.compile()`, did you forget to provide a `loss` argument?\n"
          ]
        },
        {
          "output_type": "stream",
          "name": "stdout",
          "text": [
            "\b\b\b\b\b\b\b\b\b\b\b\b\b\b\b\b\b\b\b\b\b\b\b\b\b\b\b\b\b\b\b\b\b\b\b\b\b\b\b\b\b\b\b\b\b\b\b\b\b\b\b\b\b\b\b\b\b\b\b\b\b\b\b\b\b\b\b\b\b\b\b\b\b\b\b\b\b\b\b\b\b\b\b\b\b\b\b\b\b\b\b\b\b\b\b\b\r 40/146 [=======>......................] - ETA: 58:59 - loss: 1.6351 - balanced_accuracy: 0.3187"
          ]
        },
        {
          "output_type": "stream",
          "name": "stderr",
          "text": [
            "WARNING:tensorflow:Gradients do not exist for variables ['tf_bert_model/bert/pooler/dense/kernel:0', 'tf_bert_model/bert/pooler/dense/bias:0'] when minimizing the loss. If you're using `model.compile()`, did you forget to provide a `loss` argument?\n"
          ]
        },
        {
          "output_type": "stream",
          "name": "stdout",
          "text": [
            "\b\b\b\b\b\b\b\b\b\b\b\b\b\b\b\b\b\b\b\b\b\b\b\b\b\b\b\b\b\b\b\b\b\b\b\b\b\b\b\b\b\b\b\b\b\b\b\b\b\b\b\b\b\b\b\b\b\b\b\b\b\b\b\b\b\b\b\b\b\b\b\b\b\b\b\b\b\b\b\b\b\b\b\b\b\b\b\b\b\b\b\b\b\b\b\b\r 41/146 [=======>......................] - ETA: 58:21 - loss: 1.6238 - balanced_accuracy: 0.3266"
          ]
        },
        {
          "output_type": "stream",
          "name": "stderr",
          "text": [
            "WARNING:tensorflow:Gradients do not exist for variables ['tf_bert_model/bert/pooler/dense/kernel:0', 'tf_bert_model/bert/pooler/dense/bias:0'] when minimizing the loss. If you're using `model.compile()`, did you forget to provide a `loss` argument?\n"
          ]
        },
        {
          "output_type": "stream",
          "name": "stdout",
          "text": [
            "\b\b\b\b\b\b\b\b\b\b\b\b\b\b\b\b\b\b\b\b\b\b\b\b\b\b\b\b\b\b\b\b\b\b\b\b\b\b\b\b\b\b\b\b\b\b\b\b\b\b\b\b\b\b\b\b\b\b\b\b\b\b\b\b\b\b\b\b\b\b\b\b\b\b\b\b\b\b\b\b\b\b\b\b\b\b\b\b\b\b\b\b\b\b\b\b\r 42/146 [=======>......................] - ETA: 57:45 - loss: 1.6205 - balanced_accuracy: 0.3294"
          ]
        },
        {
          "output_type": "stream",
          "name": "stderr",
          "text": [
            "WARNING:tensorflow:Gradients do not exist for variables ['tf_bert_model/bert/pooler/dense/kernel:0', 'tf_bert_model/bert/pooler/dense/bias:0'] when minimizing the loss. If you're using `model.compile()`, did you forget to provide a `loss` argument?\n"
          ]
        },
        {
          "output_type": "stream",
          "name": "stdout",
          "text": [
            "\b\b\b\b\b\b\b\b\b\b\b\b\b\b\b\b\b\b\b\b\b\b\b\b\b\b\b\b\b\b\b\b\b\b\b\b\b\b\b\b\b\b\b\b\b\b\b\b\b\b\b\b\b\b\b\b\b\b\b\b\b\b\b\b\b\b\b\b\b\b\b\b\b\b\b\b\b\b\b\b\b\b\b\b\b\b\b\b\b\b\b\b\b\b\b\b\r 43/146 [=======>......................] - ETA: 57:14 - loss: 1.6161 - balanced_accuracy: 0.3307"
          ]
        },
        {
          "output_type": "stream",
          "name": "stderr",
          "text": [
            "WARNING:tensorflow:Gradients do not exist for variables ['tf_bert_model/bert/pooler/dense/kernel:0', 'tf_bert_model/bert/pooler/dense/bias:0'] when minimizing the loss. If you're using `model.compile()`, did you forget to provide a `loss` argument?\n"
          ]
        },
        {
          "output_type": "stream",
          "name": "stdout",
          "text": [
            "\b\b\b\b\b\b\b\b\b\b\b\b\b\b\b\b\b\b\b\b\b\b\b\b\b\b\b\b\b\b\b\b\b\b\b\b\b\b\b\b\b\b\b\b\b\b\b\b\b\b\b\b\b\b\b\b\b\b\b\b\b\b\b\b\b\b\b\b\b\b\b\b\b\b\b\b\b\b\b\b\b\b\b\b\b\b\b\b\b\b\b\b\b\b\b\b\r 44/146 [========>.....................] - ETA: 56:41 - loss: 1.6135 - balanced_accuracy: 0.3333"
          ]
        },
        {
          "output_type": "stream",
          "name": "stderr",
          "text": [
            "WARNING:tensorflow:Gradients do not exist for variables ['tf_bert_model/bert/pooler/dense/kernel:0', 'tf_bert_model/bert/pooler/dense/bias:0'] when minimizing the loss. If you're using `model.compile()`, did you forget to provide a `loss` argument?\n"
          ]
        },
        {
          "output_type": "stream",
          "name": "stdout",
          "text": [
            "\b\b\b\b\b\b\b\b\b\b\b\b\b\b\b\b\b\b\b\b\b\b\b\b\b\b\b\b\b\b\b\b\b\b\b\b\b\b\b\b\b\b\b\b\b\b\b\b\b\b\b\b\b\b\b\b\b\b\b\b\b\b\b\b\b\b\b\b\b\b\b\b\b\b\b\b\b\b\b\b\b\b\b\b\b\b\b\b\b\b\b\b\b\b\b\b\r 45/146 [========>.....................] - ETA: 56:03 - loss: 1.6064 - balanced_accuracy: 0.3377"
          ]
        },
        {
          "output_type": "stream",
          "name": "stderr",
          "text": [
            "WARNING:tensorflow:Gradients do not exist for variables ['tf_bert_model/bert/pooler/dense/kernel:0', 'tf_bert_model/bert/pooler/dense/bias:0'] when minimizing the loss. If you're using `model.compile()`, did you forget to provide a `loss` argument?\n"
          ]
        },
        {
          "output_type": "stream",
          "name": "stdout",
          "text": [
            "\b\b\b\b\b\b\b\b\b\b\b\b\b\b\b\b\b\b\b\b\b\b\b\b\b\b\b\b\b\b\b\b\b\b\b\b\b\b\b\b\b\b\b\b\b\b\b\b\b\b\b\b\b\b\b\b\b\b\b\b\b\b\b\b\b\b\b\b\b\b\b\b\b\b\b\b\b\b\b\b\b\b\b\b\b\b\b\b\b\b\b\b\b\b\b\b\r 46/146 [========>.....................] - ETA: 55:29 - loss: 1.6091 - balanced_accuracy: 0.3370"
          ]
        },
        {
          "output_type": "stream",
          "name": "stderr",
          "text": [
            "WARNING:tensorflow:Gradients do not exist for variables ['tf_bert_model/bert/pooler/dense/kernel:0', 'tf_bert_model/bert/pooler/dense/bias:0'] when minimizing the loss. If you're using `model.compile()`, did you forget to provide a `loss` argument?\n"
          ]
        },
        {
          "output_type": "stream",
          "name": "stdout",
          "text": [
            "\b\b\b\b\b\b\b\b\b\b\b\b\b\b\b\b\b\b\b\b\b\b\b\b\b\b\b\b\b\b\b\b\b\b\b\b\b\b\b\b\b\b\b\b\b\b\b\b\b\b\b\b\b\b\b\b\b\b\b\b\b\b\b\b\b\b\b\b\b\b\b\b\b\b\b\b\b\b\b\b\b\b\b\b\b\b\b\b\b\b\b\b\b\b\b\b\r 47/146 [========>.....................] - ETA: 54:52 - loss: 1.6005 - balanced_accuracy: 0.3392"
          ]
        },
        {
          "output_type": "stream",
          "name": "stderr",
          "text": [
            "WARNING:tensorflow:Gradients do not exist for variables ['tf_bert_model/bert/pooler/dense/kernel:0', 'tf_bert_model/bert/pooler/dense/bias:0'] when minimizing the loss. If you're using `model.compile()`, did you forget to provide a `loss` argument?\n"
          ]
        },
        {
          "output_type": "stream",
          "name": "stdout",
          "text": [
            "\b\b\b\b\b\b\b\b\b\b\b\b\b\b\b\b\b\b\b\b\b\b\b\b\b\b\b\b\b\b\b\b\b\b\b\b\b\b\b\b\b\b\b\b\b\b\b\b\b\b\b\b\b\b\b\b\b\b\b\b\b\b\b\b\b\b\b\b\b\b\b\b\b\b\b\b\b\b\b\b\b\b\b\b\b\b\b\b\b\b\b\b\b\b\b\b\r 48/146 [========>.....................] - ETA: 54:15 - loss: 1.5963 - balanced_accuracy: 0.3426"
          ]
        },
        {
          "output_type": "stream",
          "name": "stderr",
          "text": [
            "WARNING:tensorflow:Gradients do not exist for variables ['tf_bert_model/bert/pooler/dense/kernel:0', 'tf_bert_model/bert/pooler/dense/bias:0'] when minimizing the loss. If you're using `model.compile()`, did you forget to provide a `loss` argument?\n"
          ]
        },
        {
          "output_type": "stream",
          "name": "stdout",
          "text": [
            "\b\b\b\b\b\b\b\b\b\b\b\b\b\b\b\b\b\b\b\b\b\b\b\b\b\b\b\b\b\b\b\b\b\b\b\b\b\b\b\b\b\b\b\b\b\b\b\b\b\b\b\b\b\b\b\b\b\b\b\b\b\b\b\b\b\b\b\b\b\b\b\b\b\b\b\b\b\b\b\b\b\b\b\b\b\b\b\b\b\b\b\b\b\b\b\b\r 49/146 [=========>....................] - ETA: 53:39 - loss: 1.5909 - balanced_accuracy: 0.3464"
          ]
        },
        {
          "output_type": "stream",
          "name": "stderr",
          "text": [
            "WARNING:tensorflow:Gradients do not exist for variables ['tf_bert_model/bert/pooler/dense/kernel:0', 'tf_bert_model/bert/pooler/dense/bias:0'] when minimizing the loss. If you're using `model.compile()`, did you forget to provide a `loss` argument?\n"
          ]
        },
        {
          "output_type": "stream",
          "name": "stdout",
          "text": [
            "\b\b\b\b\b\b\b\b\b\b\b\b\b\b\b\b\b\b\b\b\b\b\b\b\b\b\b\b\b\b\b\b\b\b\b\b\b\b\b\b\b\b\b\b\b\b\b\b\b\b\b\b\b\b\b\b\b\b\b\b\b\b\b\b\b\b\b\b\b\b\b\b\b\b\b\b\b\b\b\b\b\b\b\b\b\b\b\b\b\b\b\b\b\b\b\b\r 50/146 [=========>....................] - ETA: 53:04 - loss: 1.5887 - balanced_accuracy: 0.3467"
          ]
        },
        {
          "output_type": "stream",
          "name": "stderr",
          "text": [
            "WARNING:tensorflow:Gradients do not exist for variables ['tf_bert_model/bert/pooler/dense/kernel:0', 'tf_bert_model/bert/pooler/dense/bias:0'] when minimizing the loss. If you're using `model.compile()`, did you forget to provide a `loss` argument?\n"
          ]
        },
        {
          "output_type": "stream",
          "name": "stdout",
          "text": [
            "\b\b\b\b\b\b\b\b\b\b\b\b\b\b\b\b\b\b\b\b\b\b\b\b\b\b\b\b\b\b\b\b\b\b\b\b\b\b\b\b\b\b\b\b\b\b\b\b\b\b\b\b\b\b\b\b\b\b\b\b\b\b\b\b\b\b\b\b\b\b\b\b\b\b\b\b\b\b\b\b\b\b\b\b\b\b\b\b\b\b\b\b\b\b\b\b\r 51/146 [=========>....................] - ETA: 52:29 - loss: 1.5832 - balanced_accuracy: 0.3497"
          ]
        },
        {
          "output_type": "stream",
          "name": "stderr",
          "text": [
            "WARNING:tensorflow:Gradients do not exist for variables ['tf_bert_model/bert/pooler/dense/kernel:0', 'tf_bert_model/bert/pooler/dense/bias:0'] when minimizing the loss. If you're using `model.compile()`, did you forget to provide a `loss` argument?\n"
          ]
        },
        {
          "output_type": "stream",
          "name": "stdout",
          "text": [
            "\b\b\b\b\b\b\b\b\b\b\b\b\b\b\b\b\b\b\b\b\b\b\b\b\b\b\b\b\b\b\b\b\b\b\b\b\b\b\b\b\b\b\b\b\b\b\b\b\b\b\b\b\b\b\b\b\b\b\b\b\b\b\b\b\b\b\b\b\b\b\b\b\b\b\b\b\b\b\b\b\b\b\b\b\b\b\b\b\b\b\b\b\b\b\b\b\r 52/146 [=========>....................] - ETA: 51:54 - loss: 1.5779 - balanced_accuracy: 0.3531"
          ]
        },
        {
          "output_type": "stream",
          "name": "stderr",
          "text": [
            "WARNING:tensorflow:Gradients do not exist for variables ['tf_bert_model/bert/pooler/dense/kernel:0', 'tf_bert_model/bert/pooler/dense/bias:0'] when minimizing the loss. If you're using `model.compile()`, did you forget to provide a `loss` argument?\n"
          ]
        },
        {
          "output_type": "stream",
          "name": "stdout",
          "text": [
            "\b\b\b\b\b\b\b\b\b\b\b\b\b\b\b\b\b\b\b\b\b\b\b\b\b\b\b\b\b\b\b\b\b\b\b\b\b\b\b\b\b\b\b\b\b\b\b\b\b\b\b\b\b\b\b\b\b\b\b\b\b\b\b\b\b\b\b\b\b\b\b\b\b\b\b\b\b\b\b\b\b\b\b\b\b\b\b\b\b\b\b\b\b\b\b\b\r 53/146 [=========>....................] - ETA: 51:22 - loss: 1.5749 - balanced_accuracy: 0.3538"
          ]
        },
        {
          "output_type": "stream",
          "name": "stderr",
          "text": [
            "WARNING:tensorflow:Gradients do not exist for variables ['tf_bert_model/bert/pooler/dense/kernel:0', 'tf_bert_model/bert/pooler/dense/bias:0'] when minimizing the loss. If you're using `model.compile()`, did you forget to provide a `loss` argument?\n"
          ]
        },
        {
          "output_type": "stream",
          "name": "stdout",
          "text": [
            "\b\b\b\b\b\b\b\b\b\b\b\b\b\b\b\b\b\b\b\b\b\b\b\b\b\b\b\b\b\b\b\b\b\b\b\b\b\b\b\b\b\b\b\b\b\b\b\b\b\b\b\b\b\b\b\b\b\b\b\b\b\b\b\b\b\b\b\b\b\b\b\b\b\b\b\b\b\b\b\b\b\b\b\b\b\b\b\b\b\b\b\b\b\b\b\b\r 54/146 [==========>...................] - ETA: 50:47 - loss: 1.5680 - balanced_accuracy: 0.3570"
          ]
        },
        {
          "output_type": "stream",
          "name": "stderr",
          "text": [
            "WARNING:tensorflow:Gradients do not exist for variables ['tf_bert_model/bert/pooler/dense/kernel:0', 'tf_bert_model/bert/pooler/dense/bias:0'] when minimizing the loss. If you're using `model.compile()`, did you forget to provide a `loss` argument?\n"
          ]
        },
        {
          "output_type": "stream",
          "name": "stdout",
          "text": [
            "\b\b\b\b\b\b\b\b\b\b\b\b\b\b\b\b\b\b\b\b\b\b\b\b\b\b\b\b\b\b\b\b\b\b\b\b\b\b\b\b\b\b\b\b\b\b\b\b\b\b\b\b\b\b\b\b\b\b\b\b\b\b\b\b\b\b\b\b\b\b\b\b\b\b\b\b\b\b\b\b\b\b\b\b\b\b\b\b\b\b\b\b\b\b\b\b\r 55/146 [==========>...................] - ETA: 50:14 - loss: 1.5622 - balanced_accuracy: 0.3591"
          ]
        },
        {
          "output_type": "stream",
          "name": "stderr",
          "text": [
            "WARNING:tensorflow:Gradients do not exist for variables ['tf_bert_model/bert/pooler/dense/kernel:0', 'tf_bert_model/bert/pooler/dense/bias:0'] when minimizing the loss. If you're using `model.compile()`, did you forget to provide a `loss` argument?\n"
          ]
        },
        {
          "output_type": "stream",
          "name": "stdout",
          "text": [
            "\b\b\b\b\b\b\b\b\b\b\b\b\b\b\b\b\b\b\b\b\b\b\b\b\b\b\b\b\b\b\b\b\b\b\b\b\b\b\b\b\b\b\b\b\b\b\b\b\b\b\b\b\b\b\b\b\b\b\b\b\b\b\b\b\b\b\b\b\b\b\b\b\b\b\b\b\b\b\b\b\b\b\b\b\b\b\b\b\b\b\b\b\b\b\b\b\r 56/146 [==========>...................] - ETA: 49:38 - loss: 1.5571 - balanced_accuracy: 0.3621"
          ]
        },
        {
          "output_type": "stream",
          "name": "stderr",
          "text": [
            "WARNING:tensorflow:Gradients do not exist for variables ['tf_bert_model/bert/pooler/dense/kernel:0', 'tf_bert_model/bert/pooler/dense/bias:0'] when minimizing the loss. If you're using `model.compile()`, did you forget to provide a `loss` argument?\n"
          ]
        },
        {
          "output_type": "stream",
          "name": "stdout",
          "text": [
            "\b\b\b\b\b\b\b\b\b\b\b\b\b\b\b\b\b\b\b\b\b\b\b\b\b\b\b\b\b\b\b\b\b\b\b\b\b\b\b\b\b\b\b\b\b\b\b\b\b\b\b\b\b\b\b\b\b\b\b\b\b\b\b\b\b\b\b\b\b\b\b\b\b\b\b\b\b\b\b\b\b\b\b\b\b\b\b\b\b\b\b\b\b\b\b\b\r 57/146 [==========>...................] - ETA: 49:04 - loss: 1.5549 - balanced_accuracy: 0.3660"
          ]
        },
        {
          "output_type": "stream",
          "name": "stderr",
          "text": [
            "WARNING:tensorflow:Gradients do not exist for variables ['tf_bert_model/bert/pooler/dense/kernel:0', 'tf_bert_model/bert/pooler/dense/bias:0'] when minimizing the loss. If you're using `model.compile()`, did you forget to provide a `loss` argument?\n"
          ]
        },
        {
          "output_type": "stream",
          "name": "stdout",
          "text": [
            "\b\b\b\b\b\b\b\b\b\b\b\b\b\b\b\b\b\b\b\b\b\b\b\b\b\b\b\b\b\b\b\b\b\b\b\b\b\b\b\b\b\b\b\b\b\b\b\b\b\b\b\b\b\b\b\b\b\b\b\b\b\b\b\b\b\b\b\b\b\b\b\b\b\b\b\b\b\b\b\b\b\b\b\b\b\b\b\b\b\b\b\b\b\b\b\b\r 58/146 [==========>...................] - ETA: 48:31 - loss: 1.5486 - balanced_accuracy: 0.3688"
          ]
        },
        {
          "output_type": "stream",
          "name": "stderr",
          "text": [
            "WARNING:tensorflow:Gradients do not exist for variables ['tf_bert_model/bert/pooler/dense/kernel:0', 'tf_bert_model/bert/pooler/dense/bias:0'] when minimizing the loss. If you're using `model.compile()`, did you forget to provide a `loss` argument?\n"
          ]
        },
        {
          "output_type": "stream",
          "name": "stdout",
          "text": [
            "\b\b\b\b\b\b\b\b\b\b\b\b\b\b\b\b\b\b\b\b\b\b\b\b\b\b\b\b\b\b\b\b\b\b\b\b\b\b\b\b\b\b\b\b\b\b\b\b\b\b\b\b\b\b\b\b\b\b\b\b\b\b\b\b\b\b\b\b\b\b\b\b\b\b\b\b\b\b\b\b\b\b\b\b\b\b\b\b\b\b\b\b\b\b\b\b\r 59/146 [===========>..................] - ETA: 47:57 - loss: 1.5389 - balanced_accuracy: 0.3752"
          ]
        },
        {
          "output_type": "stream",
          "name": "stderr",
          "text": [
            "WARNING:tensorflow:Gradients do not exist for variables ['tf_bert_model/bert/pooler/dense/kernel:0', 'tf_bert_model/bert/pooler/dense/bias:0'] when minimizing the loss. If you're using `model.compile()`, did you forget to provide a `loss` argument?\n"
          ]
        },
        {
          "output_type": "stream",
          "name": "stdout",
          "text": [
            "\b\b\b\b\b\b\b\b\b\b\b\b\b\b\b\b\b\b\b\b\b\b\b\b\b\b\b\b\b\b\b\b\b\b\b\b\b\b\b\b\b\b\b\b\b\b\b\b\b\b\b\b\b\b\b\b\b\b\b\b\b\b\b\b\b\b\b\b\b\b\b\b\b\b\b\b\b\b\b\b\b\b\b\b\b\b\b\b\b\b\b\b\b\b\b\b\r 60/146 [===========>..................] - ETA: 47:22 - loss: 1.5355 - balanced_accuracy: 0.3773"
          ]
        },
        {
          "output_type": "stream",
          "name": "stderr",
          "text": [
            "WARNING:tensorflow:Gradients do not exist for variables ['tf_bert_model/bert/pooler/dense/kernel:0', 'tf_bert_model/bert/pooler/dense/bias:0'] when minimizing the loss. If you're using `model.compile()`, did you forget to provide a `loss` argument?\n"
          ]
        },
        {
          "output_type": "stream",
          "name": "stdout",
          "text": [
            "\b\b\b\b\b\b\b\b\b\b\b\b\b\b\b\b\b\b\b\b\b\b\b\b\b\b\b\b\b\b\b\b\b\b\b\b\b\b\b\b\b\b\b\b\b\b\b\b\b\b\b\b\b\b\b\b\b\b\b\b\b\b\b\b\b\b\b\b\b\b\b\b\b\b\b\b\b\b\b\b\b\b\b\b\b\b\b\b\b\b\b\b\b\b\b\b\r 61/146 [===========>..................] - ETA: 46:49 - loss: 1.5300 - balanced_accuracy: 0.3811"
          ]
        },
        {
          "output_type": "stream",
          "name": "stderr",
          "text": [
            "WARNING:tensorflow:Gradients do not exist for variables ['tf_bert_model/bert/pooler/dense/kernel:0', 'tf_bert_model/bert/pooler/dense/bias:0'] when minimizing the loss. If you're using `model.compile()`, did you forget to provide a `loss` argument?\n"
          ]
        },
        {
          "output_type": "stream",
          "name": "stdout",
          "text": [
            "\b\b\b\b\b\b\b\b\b\b\b\b\b\b\b\b\b\b\b\b\b\b\b\b\b\b\b\b\b\b\b\b\b\b\b\b\b\b\b\b\b\b\b\b\b\b\b\b\b\b\b\b\b\b\b\b\b\b\b\b\b\b\b\b\b\b\b\b\b\b\b\b\b\b\b\b\b\b\b\b\b\b\b\b\b\b\b\b\b\b\b\b\b\b\b\b\r 62/146 [===========>..................] - ETA: 46:15 - loss: 1.5227 - balanced_accuracy: 0.3844"
          ]
        },
        {
          "output_type": "stream",
          "name": "stderr",
          "text": [
            "WARNING:tensorflow:Gradients do not exist for variables ['tf_bert_model/bert/pooler/dense/kernel:0', 'tf_bert_model/bert/pooler/dense/bias:0'] when minimizing the loss. If you're using `model.compile()`, did you forget to provide a `loss` argument?\n"
          ]
        },
        {
          "output_type": "stream",
          "name": "stdout",
          "text": [
            "\b\b\b\b\b\b\b\b\b\b\b\b\b\b\b\b\b\b\b\b\b\b\b\b\b\b\b\b\b\b\b\b\b\b\b\b\b\b\b\b\b\b\b\b\b\b\b\b\b\b\b\b\b\b\b\b\b\b\b\b\b\b\b\b\b\b\b\b\b\b\b\b\b\b\b\b\b\b\b\b\b\b\b\b\b\b\b\b\b\b\b\b\b\b\b\b\r 63/146 [===========>..................] - ETA: 45:40 - loss: 1.5186 - balanced_accuracy: 0.3862"
          ]
        },
        {
          "output_type": "stream",
          "name": "stderr",
          "text": [
            "WARNING:tensorflow:Gradients do not exist for variables ['tf_bert_model/bert/pooler/dense/kernel:0', 'tf_bert_model/bert/pooler/dense/bias:0'] when minimizing the loss. If you're using `model.compile()`, did you forget to provide a `loss` argument?\n"
          ]
        },
        {
          "output_type": "stream",
          "name": "stdout",
          "text": [
            "\b\b\b\b\b\b\b\b\b\b\b\b\b\b\b\b\b\b\b\b\b\b\b\b\b\b\b\b\b\b\b\b\b\b\b\b\b\b\b\b\b\b\b\b\b\b\b\b\b\b\b\b\b\b\b\b\b\b\b\b\b\b\b\b\b\b\b\b\b\b\b\b\b\b\b\b\b\b\b\b\b\b\b\b\b\b\b\b\b\b\b\b\b\b\b\b\r 64/146 [============>.................] - ETA: 45:05 - loss: 1.5121 - balanced_accuracy: 0.3893"
          ]
        },
        {
          "output_type": "stream",
          "name": "stderr",
          "text": [
            "WARNING:tensorflow:Gradients do not exist for variables ['tf_bert_model/bert/pooler/dense/kernel:0', 'tf_bert_model/bert/pooler/dense/bias:0'] when minimizing the loss. If you're using `model.compile()`, did you forget to provide a `loss` argument?\n"
          ]
        },
        {
          "output_type": "stream",
          "name": "stdout",
          "text": [
            "\b\b\b\b\b\b\b\b\b\b\b\b\b\b\b\b\b\b\b\b\b\b\b\b\b\b\b\b\b\b\b\b\b\b\b\b\b\b\b\b\b\b\b\b\b\b\b\b\b\b\b\b\b\b\b\b\b\b\b\b\b\b\b\b\b\b\b\b\b\b\b\b\b\b\b\b\b\b\b\b\b\b\b\b\b\b\b\b\b\b\b\b\b\b\b\b\r 65/146 [============>.................] - ETA: 44:31 - loss: 1.5084 - balanced_accuracy: 0.3923"
          ]
        },
        {
          "output_type": "stream",
          "name": "stderr",
          "text": [
            "WARNING:tensorflow:Gradients do not exist for variables ['tf_bert_model/bert/pooler/dense/kernel:0', 'tf_bert_model/bert/pooler/dense/bias:0'] when minimizing the loss. If you're using `model.compile()`, did you forget to provide a `loss` argument?\n"
          ]
        },
        {
          "output_type": "stream",
          "name": "stdout",
          "text": [
            "\b\b\b\b\b\b\b\b\b\b\b\b\b\b\b\b\b\b\b\b\b\b\b\b\b\b\b\b\b\b\b\b\b\b\b\b\b\b\b\b\b\b\b\b\b\b\b\b\b\b\b\b\b\b\b\b\b\b\b\b\b\b\b\b\b\b\b\b\b\b\b\b\b\b\b\b\b\b\b\b\b\b\b\b\b\b\b\b\b\b\b\b\b\b\b\b\r 66/146 [============>.................] - ETA: 43:57 - loss: 1.5057 - balanced_accuracy: 0.3935"
          ]
        },
        {
          "output_type": "stream",
          "name": "stderr",
          "text": [
            "WARNING:tensorflow:Gradients do not exist for variables ['tf_bert_model/bert/pooler/dense/kernel:0', 'tf_bert_model/bert/pooler/dense/bias:0'] when minimizing the loss. If you're using `model.compile()`, did you forget to provide a `loss` argument?\n"
          ]
        },
        {
          "output_type": "stream",
          "name": "stdout",
          "text": [
            "\b\b\b\b\b\b\b\b\b\b\b\b\b\b\b\b\b\b\b\b\b\b\b\b\b\b\b\b\b\b\b\b\b\b\b\b\b\b\b\b\b\b\b\b\b\b\b\b\b\b\b\b\b\b\b\b\b\b\b\b\b\b\b\b\b\b\b\b\b\b\b\b\b\b\b\b\b\b\b\b\b\b\b\b\b\b\b\b\b\b\b\b\b\b\b\b\r 67/146 [============>.................] - ETA: 43:23 - loss: 1.4966 - balanced_accuracy: 0.3976"
          ]
        },
        {
          "output_type": "stream",
          "name": "stderr",
          "text": [
            "WARNING:tensorflow:Gradients do not exist for variables ['tf_bert_model/bert/pooler/dense/kernel:0', 'tf_bert_model/bert/pooler/dense/bias:0'] when minimizing the loss. If you're using `model.compile()`, did you forget to provide a `loss` argument?\n"
          ]
        },
        {
          "output_type": "stream",
          "name": "stdout",
          "text": [
            "\b\b\b\b\b\b\b\b\b\b\b\b\b\b\b\b\b\b\b\b\b\b\b\b\b\b\b\b\b\b\b\b\b\b\b\b\b\b\b\b\b\b\b\b\b\b\b\b\b\b\b\b\b\b\b\b\b\b\b\b\b\b\b\b\b\b\b\b\b\b\b\b\b\b\b\b\b\b\b\b\b\b\b\b\b\b\b\b\b\b\b\b\b\b\b\b\r 68/146 [============>.................] - ETA: 42:49 - loss: 1.4904 - balanced_accuracy: 0.4011"
          ]
        },
        {
          "output_type": "stream",
          "name": "stderr",
          "text": [
            "WARNING:tensorflow:Gradients do not exist for variables ['tf_bert_model/bert/pooler/dense/kernel:0', 'tf_bert_model/bert/pooler/dense/bias:0'] when minimizing the loss. If you're using `model.compile()`, did you forget to provide a `loss` argument?\n"
          ]
        },
        {
          "output_type": "stream",
          "name": "stdout",
          "text": [
            "\b\b\b\b\b\b\b\b\b\b\b\b\b\b\b\b\b\b\b\b\b\b\b\b\b\b\b\b\b\b\b\b\b\b\b\b\b\b\b\b\b\b\b\b\b\b\b\b\b\b\b\b\b\b\b\b\b\b\b\b\b\b\b\b\b\b\b\b\b\b\b\b\b\b\b\b\b\b\b\b\b\b\b\b\b\b\b\b\b\b\b\b\b\b\b\b\r 69/146 [=============>................] - ETA: 42:15 - loss: 1.4874 - balanced_accuracy: 0.4022"
          ]
        },
        {
          "output_type": "stream",
          "name": "stderr",
          "text": [
            "WARNING:tensorflow:Gradients do not exist for variables ['tf_bert_model/bert/pooler/dense/kernel:0', 'tf_bert_model/bert/pooler/dense/bias:0'] when minimizing the loss. If you're using `model.compile()`, did you forget to provide a `loss` argument?\n"
          ]
        },
        {
          "output_type": "stream",
          "name": "stdout",
          "text": [
            "\b\b\b\b\b\b\b\b\b\b\b\b\b\b\b\b\b\b\b\b\b\b\b\b\b\b\b\b\b\b\b\b\b\b\b\b\b\b\b\b\b\b\b\b\b\b\b\b\b\b\b\b\b\b\b\b\b\b\b\b\b\b\b\b\b\b\b\b\b\b\b\b\b\b\b\b\b\b\b\b\b\b\b\b\b\b\b\b\b\b\b\b\b\b\b\b\r 70/146 [=============>................] - ETA: 41:42 - loss: 1.4821 - balanced_accuracy: 0.4048"
          ]
        },
        {
          "output_type": "stream",
          "name": "stderr",
          "text": [
            "WARNING:tensorflow:Gradients do not exist for variables ['tf_bert_model/bert/pooler/dense/kernel:0', 'tf_bert_model/bert/pooler/dense/bias:0'] when minimizing the loss. If you're using `model.compile()`, did you forget to provide a `loss` argument?\n"
          ]
        },
        {
          "output_type": "stream",
          "name": "stdout",
          "text": [
            "\b\b\b\b\b\b\b\b\b\b\b\b\b\b\b\b\b\b\b\b\b\b\b\b\b\b\b\b\b\b\b\b\b\b\b\b\b\b\b\b\b\b\b\b\b\b\b\b\b\b\b\b\b\b\b\b\b\b\b\b\b\b\b\b\b\b\b\b\b\b\b\b\b\b\b\b\b\b\b\b\b\b\b\b\b\b\b\b\b\b\b\b\b\b\b\b\r 71/146 [=============>................] - ETA: 41:08 - loss: 1.4776 - balanced_accuracy: 0.4069"
          ]
        },
        {
          "output_type": "stream",
          "name": "stderr",
          "text": [
            "WARNING:tensorflow:Gradients do not exist for variables ['tf_bert_model/bert/pooler/dense/kernel:0', 'tf_bert_model/bert/pooler/dense/bias:0'] when minimizing the loss. If you're using `model.compile()`, did you forget to provide a `loss` argument?\n"
          ]
        },
        {
          "output_type": "stream",
          "name": "stdout",
          "text": [
            "\b\b\b\b\b\b\b\b\b\b\b\b\b\b\b\b\b\b\b\b\b\b\b\b\b\b\b\b\b\b\b\b\b\b\b\b\b\b\b\b\b\b\b\b\b\b\b\b\b\b\b\b\b\b\b\b\b\b\b\b\b\b\b\b\b\b\b\b\b\b\b\b\b\b\b\b\b\b\b\b\b\b\b\b\b\b\b\b\b\b\b\b\b\b\b\b\r 72/146 [=============>................] - ETA: 40:35 - loss: 1.4700 - balanced_accuracy: 0.4105"
          ]
        },
        {
          "output_type": "stream",
          "name": "stderr",
          "text": [
            "WARNING:tensorflow:Gradients do not exist for variables ['tf_bert_model/bert/pooler/dense/kernel:0', 'tf_bert_model/bert/pooler/dense/bias:0'] when minimizing the loss. If you're using `model.compile()`, did you forget to provide a `loss` argument?\n"
          ]
        },
        {
          "output_type": "stream",
          "name": "stdout",
          "text": [
            "\b\b\b\b\b\b\b\b\b\b\b\b\b\b\b\b\b\b\b\b\b\b\b\b\b\b\b\b\b\b\b\b\b\b\b\b\b\b\b\b\b\b\b\b\b\b\b\b\b\b\b\b\b\b\b\b\b\b\b\b\b\b\b\b\b\b\b\b\b\b\b\b\b\b\b\b\b\b\b\b\b\b\b\b\b\b\b\b\b\b\b\b\b\b\b\b\r 73/146 [==============>...............] - ETA: 40:02 - loss: 1.4658 - balanced_accuracy: 0.4144"
          ]
        },
        {
          "output_type": "stream",
          "name": "stderr",
          "text": [
            "WARNING:tensorflow:Gradients do not exist for variables ['tf_bert_model/bert/pooler/dense/kernel:0', 'tf_bert_model/bert/pooler/dense/bias:0'] when minimizing the loss. If you're using `model.compile()`, did you forget to provide a `loss` argument?\n"
          ]
        },
        {
          "output_type": "stream",
          "name": "stdout",
          "text": [
            "\b\b\b\b\b\b\b\b\b\b\b\b\b\b\b\b\b\b\b\b\b\b\b\b\b\b\b\b\b\b\b\b\b\b\b\b\b\b\b\b\b\b\b\b\b\b\b\b\b\b\b\b\b\b\b\b\b\b\b\b\b\b\b\b\b\b\b\b\b\b\b\b\b\b\b\b\b\b\b\b\b\b\b\b\b\b\b\b\b\b\b\b\b\b\b\b\r 74/146 [==============>...............] - ETA: 39:28 - loss: 1.4582 - balanced_accuracy: 0.4178"
          ]
        },
        {
          "output_type": "stream",
          "name": "stderr",
          "text": [
            "WARNING:tensorflow:Gradients do not exist for variables ['tf_bert_model/bert/pooler/dense/kernel:0', 'tf_bert_model/bert/pooler/dense/bias:0'] when minimizing the loss. If you're using `model.compile()`, did you forget to provide a `loss` argument?\n"
          ]
        },
        {
          "output_type": "stream",
          "name": "stdout",
          "text": [
            "\b\b\b\b\b\b\b\b\b\b\b\b\b\b\b\b\b\b\b\b\b\b\b\b\b\b\b\b\b\b\b\b\b\b\b\b\b\b\b\b\b\b\b\b\b\b\b\b\b\b\b\b\b\b\b\b\b\b\b\b\b\b\b\b\b\b\b\b\b\b\b\b\b\b\b\b\b\b\b\b\b\b\b\b\b\b\b\b\b\b\b\b\b\b\b\b\r 75/146 [==============>...............] - ETA: 38:54 - loss: 1.4570 - balanced_accuracy: 0.4189"
          ]
        },
        {
          "output_type": "stream",
          "name": "stderr",
          "text": [
            "WARNING:tensorflow:Gradients do not exist for variables ['tf_bert_model/bert/pooler/dense/kernel:0', 'tf_bert_model/bert/pooler/dense/bias:0'] when minimizing the loss. If you're using `model.compile()`, did you forget to provide a `loss` argument?\n"
          ]
        },
        {
          "output_type": "stream",
          "name": "stdout",
          "text": [
            "\b\b\b\b\b\b\b\b\b\b\b\b\b\b\b\b\b\b\b\b\b\b\b\b\b\b\b\b\b\b\b\b\b\b\b\b\b\b\b\b\b\b\b\b\b\b\b\b\b\b\b\b\b\b\b\b\b\b\b\b\b\b\b\b\b\b\b\b\b\b\b\b\b\b\b\b\b\b\b\b\b\b\b\b\b\b\b\b\b\b\b\b\b\b\b\b\r 76/146 [==============>...............] - ETA: 38:21 - loss: 1.4498 - balanced_accuracy: 0.4218"
          ]
        },
        {
          "output_type": "stream",
          "name": "stderr",
          "text": [
            "WARNING:tensorflow:Gradients do not exist for variables ['tf_bert_model/bert/pooler/dense/kernel:0', 'tf_bert_model/bert/pooler/dense/bias:0'] when minimizing the loss. If you're using `model.compile()`, did you forget to provide a `loss` argument?\n"
          ]
        },
        {
          "output_type": "stream",
          "name": "stdout",
          "text": [
            "\b\b\b\b\b\b\b\b\b\b\b\b\b\b\b\b\b\b\b\b\b\b\b\b\b\b\b\b\b\b\b\b\b\b\b\b\b\b\b\b\b\b\b\b\b\b\b\b\b\b\b\b\b\b\b\b\b\b\b\b\b\b\b\b\b\b\b\b\b\b\b\b\b\b\b\b\b\b\b\b\b\b\b\b\b\b\b\b\b\b\b\b\b\b\b\b\r 77/146 [==============>...............] - ETA: 37:49 - loss: 1.4443 - balanced_accuracy: 0.4250"
          ]
        },
        {
          "output_type": "stream",
          "name": "stderr",
          "text": [
            "WARNING:tensorflow:Gradients do not exist for variables ['tf_bert_model/bert/pooler/dense/kernel:0', 'tf_bert_model/bert/pooler/dense/bias:0'] when minimizing the loss. If you're using `model.compile()`, did you forget to provide a `loss` argument?\n"
          ]
        },
        {
          "output_type": "stream",
          "name": "stdout",
          "text": [
            "\b\b\b\b\b\b\b\b\b\b\b\b\b\b\b\b\b\b\b\b\b\b\b\b\b\b\b\b\b\b\b\b\b\b\b\b\b\b\b\b\b\b\b\b\b\b\b\b\b\b\b\b\b\b\b\b\b\b\b\b\b\b\b\b\b\b\b\b\b\b\b\b\b\b\b\b\b\b\b\b\b\b\b\b\b\b\b\b\b\b\b\b\b\b\b\b\r 78/146 [===============>..............] - ETA: 37:16 - loss: 1.4372 - balanced_accuracy: 0.4281"
          ]
        },
        {
          "output_type": "stream",
          "name": "stderr",
          "text": [
            "WARNING:tensorflow:Gradients do not exist for variables ['tf_bert_model/bert/pooler/dense/kernel:0', 'tf_bert_model/bert/pooler/dense/bias:0'] when minimizing the loss. If you're using `model.compile()`, did you forget to provide a `loss` argument?\n"
          ]
        },
        {
          "output_type": "stream",
          "name": "stdout",
          "text": [
            "\b\b\b\b\b\b\b\b\b\b\b\b\b\b\b\b\b\b\b\b\b\b\b\b\b\b\b\b\b\b\b\b\b\b\b\b\b\b\b\b\b\b\b\b\b\b\b\b\b\b\b\b\b\b\b\b\b\b\b\b\b\b\b\b\b\b\b\b\b\b\b\b\b\b\b\b\b\b\b\b\b\b\b\b\b\b\b\b\b\b\b\b\b\b\b\b\r 79/146 [===============>..............] - ETA: 36:42 - loss: 1.4349 - balanced_accuracy: 0.4272"
          ]
        },
        {
          "output_type": "stream",
          "name": "stderr",
          "text": [
            "WARNING:tensorflow:Gradients do not exist for variables ['tf_bert_model/bert/pooler/dense/kernel:0', 'tf_bert_model/bert/pooler/dense/bias:0'] when minimizing the loss. If you're using `model.compile()`, did you forget to provide a `loss` argument?\n"
          ]
        },
        {
          "output_type": "stream",
          "name": "stdout",
          "text": [
            "\b\b\b\b\b\b\b\b\b\b\b\b\b\b\b\b\b\b\b\b\b\b\b\b\b\b\b\b\b\b\b\b\b\b\b\b\b\b\b\b\b\b\b\b\b\b\b\b\b\b\b\b\b\b\b\b\b\b\b\b\b\b\b\b\b\b\b\b\b\b\b\b\b\b\b\b\b\b\b\b\b\b\b\b\b\b\b\b\b\b\b\b\b\b\b\b\r 80/146 [===============>..............] - ETA: 36:10 - loss: 1.4314 - balanced_accuracy: 0.4292"
          ]
        },
        {
          "output_type": "stream",
          "name": "stderr",
          "text": [
            "WARNING:tensorflow:Gradients do not exist for variables ['tf_bert_model/bert/pooler/dense/kernel:0', 'tf_bert_model/bert/pooler/dense/bias:0'] when minimizing the loss. If you're using `model.compile()`, did you forget to provide a `loss` argument?\n"
          ]
        },
        {
          "output_type": "stream",
          "name": "stdout",
          "text": [
            "\b\b\b\b\b\b\b\b\b\b\b\b\b\b\b\b\b\b\b\b\b\b\b\b\b\b\b\b\b\b\b\b\b\b\b\b\b\b\b\b\b\b\b\b\b\b\b\b\b\b\b\b\b\b\b\b\b\b\b\b\b\b\b\b\b\b\b\b\b\b\b\b\b\b\b\b\b\b\b\b\b\b\b\b\b\b\b\b\b\b\b\b\b\b\b\b\r 81/146 [===============>..............] - ETA: 35:36 - loss: 1.4252 - balanced_accuracy: 0.4321"
          ]
        },
        {
          "output_type": "stream",
          "name": "stderr",
          "text": [
            "WARNING:tensorflow:Gradients do not exist for variables ['tf_bert_model/bert/pooler/dense/kernel:0', 'tf_bert_model/bert/pooler/dense/bias:0'] when minimizing the loss. If you're using `model.compile()`, did you forget to provide a `loss` argument?\n"
          ]
        },
        {
          "output_type": "stream",
          "name": "stdout",
          "text": [
            "\b\b\b\b\b\b\b\b\b\b\b\b\b\b\b\b\b\b\b\b\b\b\b\b\b\b\b\b\b\b\b\b\b\b\b\b\b\b\b\b\b\b\b\b\b\b\b\b\b\b\b\b\b\b\b\b\b\b\b\b\b\b\b\b\b\b\b\b\b\b\b\b\b\b\b\b\b\b\b\b\b\b\b\b\b\b\b\b\b\b\b\b\b\b\b\b\r 82/146 [===============>..............] - ETA: 35:02 - loss: 1.4219 - balanced_accuracy: 0.4343"
          ]
        },
        {
          "output_type": "stream",
          "name": "stderr",
          "text": [
            "WARNING:tensorflow:Gradients do not exist for variables ['tf_bert_model/bert/pooler/dense/kernel:0', 'tf_bert_model/bert/pooler/dense/bias:0'] when minimizing the loss. If you're using `model.compile()`, did you forget to provide a `loss` argument?\n"
          ]
        },
        {
          "output_type": "stream",
          "name": "stdout",
          "text": [
            "\b\b\b\b\b\b\b\b\b\b\b\b\b\b\b\b\b\b\b\b\b\b\b\b\b\b\b\b\b\b\b\b\b\b\b\b\b\b\b\b\b\b\b\b\b\b\b\b\b\b\b\b\b\b\b\b\b\b\b\b\b\b\b\b\b\b\b\b\b\b\b\b\b\b\b\b\b\b\b\b\b\b\b\b\b\b\b\b\b\b\b\b\b\b\b\b\r 83/146 [================>.............] - ETA: 34:29 - loss: 1.4181 - balanced_accuracy: 0.4367"
          ]
        },
        {
          "output_type": "stream",
          "name": "stderr",
          "text": [
            "WARNING:tensorflow:Gradients do not exist for variables ['tf_bert_model/bert/pooler/dense/kernel:0', 'tf_bert_model/bert/pooler/dense/bias:0'] when minimizing the loss. If you're using `model.compile()`, did you forget to provide a `loss` argument?\n"
          ]
        },
        {
          "output_type": "stream",
          "name": "stdout",
          "text": [
            "\b\b\b\b\b\b\b\b\b\b\b\b\b\b\b\b\b\b\b\b\b\b\b\b\b\b\b\b\b\b\b\b\b\b\b\b\b\b\b\b\b\b\b\b\b\b\b\b\b\b\b\b\b\b\b\b\b\b\b\b\b\b\b\b\b\b\b\b\b\b\b\b\b\b\b\b\b\b\b\b\b\b\b\b\b\b\b\b\b\b\b\b\b\b\b\b\r 84/146 [================>.............] - ETA: 33:56 - loss: 1.4114 - balanced_accuracy: 0.4405"
          ]
        },
        {
          "output_type": "stream",
          "name": "stderr",
          "text": [
            "WARNING:tensorflow:Gradients do not exist for variables ['tf_bert_model/bert/pooler/dense/kernel:0', 'tf_bert_model/bert/pooler/dense/bias:0'] when minimizing the loss. If you're using `model.compile()`, did you forget to provide a `loss` argument?\n"
          ]
        },
        {
          "output_type": "stream",
          "name": "stdout",
          "text": [
            "\b\b\b\b\b\b\b\b\b\b\b\b\b\b\b\b\b\b\b\b\b\b\b\b\b\b\b\b\b\b\b\b\b\b\b\b\b\b\b\b\b\b\b\b\b\b\b\b\b\b\b\b\b\b\b\b\b\b\b\b\b\b\b\b\b\b\b\b\b\b\b\b\b\b\b\b\b\b\b\b\b\b\b\b\b\b\b\b\b\b\b\b\b\b\b\b\r 85/146 [================>.............] - ETA: 33:22 - loss: 1.4060 - balanced_accuracy: 0.4438"
          ]
        },
        {
          "output_type": "stream",
          "name": "stderr",
          "text": [
            "WARNING:tensorflow:Gradients do not exist for variables ['tf_bert_model/bert/pooler/dense/kernel:0', 'tf_bert_model/bert/pooler/dense/bias:0'] when minimizing the loss. If you're using `model.compile()`, did you forget to provide a `loss` argument?\n"
          ]
        },
        {
          "output_type": "stream",
          "name": "stdout",
          "text": [
            "\b\b\b\b\b\b\b\b\b\b\b\b\b\b\b\b\b\b\b\b\b\b\b\b\b\b\b\b\b\b\b\b\b\b\b\b\b\b\b\b\b\b\b\b\b\b\b\b\b\b\b\b\b\b\b\b\b\b\b\b\b\b\b\b\b\b\b\b\b\b\b\b\b\b\b\b\b\b\b\b\b\b\b\b\b\b\b\b\b\b\b\b\b\b\b\b\r 86/146 [================>.............] - ETA: 32:49 - loss: 1.4043 - balanced_accuracy: 0.4448"
          ]
        },
        {
          "output_type": "stream",
          "name": "stderr",
          "text": [
            "WARNING:tensorflow:Gradients do not exist for variables ['tf_bert_model/bert/pooler/dense/kernel:0', 'tf_bert_model/bert/pooler/dense/bias:0'] when minimizing the loss. If you're using `model.compile()`, did you forget to provide a `loss` argument?\n"
          ]
        },
        {
          "output_type": "stream",
          "name": "stdout",
          "text": [
            "\b\b\b\b\b\b\b\b\b\b\b\b\b\b\b\b\b\b\b\b\b\b\b\b\b\b\b\b\b\b\b\b\b\b\b\b\b\b\b\b\b\b\b\b\b\b\b\b\b\b\b\b\b\b\b\b\b\b\b\b\b\b\b\b\b\b\b\b\b\b\b\b\b\b\b\b\b\b\b\b\b\b\b\b\b\b\b\b\b\b\b\b\b\b\b\b\r 87/146 [================>.............] - ETA: 32:16 - loss: 1.4000 - balanced_accuracy: 0.4476"
          ]
        },
        {
          "output_type": "stream",
          "name": "stderr",
          "text": [
            "WARNING:tensorflow:Gradients do not exist for variables ['tf_bert_model/bert/pooler/dense/kernel:0', 'tf_bert_model/bert/pooler/dense/bias:0'] when minimizing the loss. If you're using `model.compile()`, did you forget to provide a `loss` argument?\n"
          ]
        },
        {
          "output_type": "stream",
          "name": "stdout",
          "text": [
            "\b\b\b\b\b\b\b\b\b\b\b\b\b\b\b\b\b\b\b\b\b\b\b\b\b\b\b\b\b\b\b\b\b\b\b\b\b\b\b\b\b\b\b\b\b\b\b\b\b\b\b\b\b\b\b\b\b\b\b\b\b\b\b\b\b\b\b\b\b\b\b\b\b\b\b\b\b\b\b\b\b\b\b\b\b\b\b\b\b\b\b\b\b\b\b\b\r 88/146 [=================>............] - ETA: 31:43 - loss: 1.3963 - balanced_accuracy: 0.4501"
          ]
        },
        {
          "output_type": "stream",
          "name": "stderr",
          "text": [
            "WARNING:tensorflow:Gradients do not exist for variables ['tf_bert_model/bert/pooler/dense/kernel:0', 'tf_bert_model/bert/pooler/dense/bias:0'] when minimizing the loss. If you're using `model.compile()`, did you forget to provide a `loss` argument?\n"
          ]
        },
        {
          "output_type": "stream",
          "name": "stdout",
          "text": [
            "\b\b\b\b\b\b\b\b\b\b\b\b\b\b\b\b\b\b\b\b\b\b\b\b\b\b\b\b\b\b\b\b\b\b\b\b\b\b\b\b\b\b\b\b\b\b\b\b\b\b\b\b\b\b\b\b\b\b\b\b\b\b\b\b\b\b\b\b\b\b\b\b\b\b\b\b\b\b\b\b\b\b\b\b\b\b\b\b\b\b\b\b\b\b\b\b\r 89/146 [=================>............] - ETA: 31:09 - loss: 1.3943 - balanced_accuracy: 0.4513"
          ]
        },
        {
          "output_type": "stream",
          "name": "stderr",
          "text": [
            "WARNING:tensorflow:Gradients do not exist for variables ['tf_bert_model/bert/pooler/dense/kernel:0', 'tf_bert_model/bert/pooler/dense/bias:0'] when minimizing the loss. If you're using `model.compile()`, did you forget to provide a `loss` argument?\n"
          ]
        },
        {
          "output_type": "stream",
          "name": "stdout",
          "text": [
            "\b\b\b\b\b\b\b\b\b\b\b\b\b\b\b\b\b\b\b\b\b\b\b\b\b\b\b\b\b\b\b\b\b\b\b\b\b\b\b\b\b\b\b\b\b\b\b\b\b\b\b\b\b\b\b\b\b\b\b\b\b\b\b\b\b\b\b\b\b\b\b\b\b\b\b\b\b\b\b\b\b\b\b\b\b\b\b\b\b\b\b\b\b\b\b\b\r 90/146 [=================>............] - ETA: 30:36 - loss: 1.3872 - balanced_accuracy: 0.4537"
          ]
        },
        {
          "output_type": "stream",
          "name": "stderr",
          "text": [
            "WARNING:tensorflow:Gradients do not exist for variables ['tf_bert_model/bert/pooler/dense/kernel:0', 'tf_bert_model/bert/pooler/dense/bias:0'] when minimizing the loss. If you're using `model.compile()`, did you forget to provide a `loss` argument?\n"
          ]
        },
        {
          "output_type": "stream",
          "name": "stdout",
          "text": [
            "\b\b\b\b\b\b\b\b\b\b\b\b\b\b\b\b\b\b\b\b\b\b\b\b\b\b\b\b\b\b\b\b\b\b\b\b\b\b\b\b\b\b\b\b\b\b\b\b\b\b\b\b\b\b\b\b\b\b\b\b\b\b\b\b\b\b\b\b\b\b\b\b\b\b\b\b\b\b\b\b\b\b\b\b\b\b\b\b\b\b\b\b\b\b\b\b\r 91/146 [=================>............] - ETA: 30:03 - loss: 1.3818 - balanced_accuracy: 0.4567"
          ]
        },
        {
          "output_type": "stream",
          "name": "stderr",
          "text": [
            "WARNING:tensorflow:Gradients do not exist for variables ['tf_bert_model/bert/pooler/dense/kernel:0', 'tf_bert_model/bert/pooler/dense/bias:0'] when minimizing the loss. If you're using `model.compile()`, did you forget to provide a `loss` argument?\n"
          ]
        },
        {
          "output_type": "stream",
          "name": "stdout",
          "text": [
            "\b\b\b\b\b\b\b\b\b\b\b\b\b\b\b\b\b\b\b\b\b\b\b\b\b\b\b\b\b\b\b\b\b\b\b\b\b\b\b\b\b\b\b\b\b\b\b\b\b\b\b\b\b\b\b\b\b\b\b\b\b\b\b\b\b\b\b\b\b\b\b\b\b\b\b\b\b\b\b\b\b\b\b\b\b\b\b\b\b\b\b\b\b\b\b\b\r 92/146 [=================>............] - ETA: 29:30 - loss: 1.3759 - balanced_accuracy: 0.4589"
          ]
        },
        {
          "output_type": "stream",
          "name": "stderr",
          "text": [
            "WARNING:tensorflow:Gradients do not exist for variables ['tf_bert_model/bert/pooler/dense/kernel:0', 'tf_bert_model/bert/pooler/dense/bias:0'] when minimizing the loss. If you're using `model.compile()`, did you forget to provide a `loss` argument?\n"
          ]
        },
        {
          "output_type": "stream",
          "name": "stdout",
          "text": [
            "\b\b\b\b\b\b\b\b\b\b\b\b\b\b\b\b\b\b\b\b\b\b\b\b\b\b\b\b\b\b\b\b\b\b\b\b\b\b\b\b\b\b\b\b\b\b\b\b\b\b\b\b\b\b\b\b\b\b\b\b\b\b\b\b\b\b\b\b\b\b\b\b\b\b\b\b\b\b\b\b\b\b\b\b\b\b\b\b\b\b\b\b\b\b\b\b\r 93/146 [==================>...........] - ETA: 28:57 - loss: 1.3708 - balanced_accuracy: 0.4621"
          ]
        },
        {
          "output_type": "stream",
          "name": "stderr",
          "text": [
            "WARNING:tensorflow:Gradients do not exist for variables ['tf_bert_model/bert/pooler/dense/kernel:0', 'tf_bert_model/bert/pooler/dense/bias:0'] when minimizing the loss. If you're using `model.compile()`, did you forget to provide a `loss` argument?\n"
          ]
        },
        {
          "output_type": "stream",
          "name": "stdout",
          "text": [
            "\b\b\b\b\b\b\b\b\b\b\b\b\b\b\b\b\b\b\b\b\b\b\b\b\b\b\b\b\b\b\b\b\b\b\b\b\b\b\b\b\b\b\b\b\b\b\b\b\b\b\b\b\b\b\b\b\b\b\b\b\b\b\b\b\b\b\b\b\b\b\b\b\b\b\b\b\b\b\b\b\b\b\b\b\b\b\b\b\b\b\b\b\b\b\b\b\r 94/146 [==================>...........] - ETA: 28:24 - loss: 1.3649 - balanced_accuracy: 0.4648"
          ]
        },
        {
          "output_type": "stream",
          "name": "stderr",
          "text": [
            "WARNING:tensorflow:Gradients do not exist for variables ['tf_bert_model/bert/pooler/dense/kernel:0', 'tf_bert_model/bert/pooler/dense/bias:0'] when minimizing the loss. If you're using `model.compile()`, did you forget to provide a `loss` argument?\n"
          ]
        },
        {
          "output_type": "stream",
          "name": "stdout",
          "text": [
            "\b\b\b\b\b\b\b\b\b\b\b\b\b\b\b\b\b\b\b\b\b\b\b\b\b\b\b\b\b\b\b\b\b\b\b\b\b\b\b\b\b\b\b\b\b\b\b\b\b\b\b\b\b\b\b\b\b\b\b\b\b\b\b\b\b\b\b\b\b\b\b\b\b\b\b\b\b\b\b\b\b\b\b\b\b\b\b\b\b\b\b\b\b\b\b\b\r 95/146 [==================>...........] - ETA: 27:51 - loss: 1.3605 - balanced_accuracy: 0.4664"
          ]
        },
        {
          "output_type": "stream",
          "name": "stderr",
          "text": [
            "WARNING:tensorflow:Gradients do not exist for variables ['tf_bert_model/bert/pooler/dense/kernel:0', 'tf_bert_model/bert/pooler/dense/bias:0'] when minimizing the loss. If you're using `model.compile()`, did you forget to provide a `loss` argument?\n"
          ]
        },
        {
          "output_type": "stream",
          "name": "stdout",
          "text": [
            "\b\b\b\b\b\b\b\b\b\b\b\b\b\b\b\b\b\b\b\b\b\b\b\b\b\b\b\b\b\b\b\b\b\b\b\b\b\b\b\b\b\b\b\b\b\b\b\b\b\b\b\b\b\b\b\b\b\b\b\b\b\b\b\b\b\b\b\b\b\b\b\b\b\b\b\b\b\b\b\b\b\b\b\b\b\b\b\b\b\b\b\b\b\b\b\b\r 96/146 [==================>...........] - ETA: 27:18 - loss: 1.3577 - balanced_accuracy: 0.4673"
          ]
        },
        {
          "output_type": "stream",
          "name": "stderr",
          "text": [
            "WARNING:tensorflow:Gradients do not exist for variables ['tf_bert_model/bert/pooler/dense/kernel:0', 'tf_bert_model/bert/pooler/dense/bias:0'] when minimizing the loss. If you're using `model.compile()`, did you forget to provide a `loss` argument?\n"
          ]
        },
        {
          "output_type": "stream",
          "name": "stdout",
          "text": [
            "\b\b\b\b\b\b\b\b\b\b\b\b\b\b\b\b\b\b\b\b\b\b\b\b\b\b\b\b\b\b\b\b\b\b\b\b\b\b\b\b\b\b\b\b\b\b\b\b\b\b\b\b\b\b\b\b\b\b\b\b\b\b\b\b\b\b\b\b\b\b\b\b\b\b\b\b\b\b\b\b\b\b\b\b\b\b\b\b\b\b\b\b\b\b\b\b\r 97/146 [==================>...........] - ETA: 26:45 - loss: 1.3541 - balanced_accuracy: 0.4688"
          ]
        },
        {
          "output_type": "stream",
          "name": "stderr",
          "text": [
            "WARNING:tensorflow:Gradients do not exist for variables ['tf_bert_model/bert/pooler/dense/kernel:0', 'tf_bert_model/bert/pooler/dense/bias:0'] when minimizing the loss. If you're using `model.compile()`, did you forget to provide a `loss` argument?\n"
          ]
        },
        {
          "output_type": "stream",
          "name": "stdout",
          "text": [
            "\b\b\b\b\b\b\b\b\b\b\b\b\b\b\b\b\b\b\b\b\b\b\b\b\b\b\b\b\b\b\b\b\b\b\b\b\b\b\b\b\b\b\b\b\b\b\b\b\b\b\b\b\b\b\b\b\b\b\b\b\b\b\b\b\b\b\b\b\b\b\b\b\b\b\b\b\b\b\b\b\b\b\b\b\b\b\b\b\b\b\b\b\b\b\b\b\r 98/146 [===================>..........] - ETA: 26:12 - loss: 1.3491 - balanced_accuracy: 0.4717"
          ]
        },
        {
          "output_type": "stream",
          "name": "stderr",
          "text": [
            "WARNING:tensorflow:Gradients do not exist for variables ['tf_bert_model/bert/pooler/dense/kernel:0', 'tf_bert_model/bert/pooler/dense/bias:0'] when minimizing the loss. If you're using `model.compile()`, did you forget to provide a `loss` argument?\n"
          ]
        },
        {
          "output_type": "stream",
          "name": "stdout",
          "text": [
            "\b\b\b\b\b\b\b\b\b\b\b\b\b\b\b\b\b\b\b\b\b\b\b\b\b\b\b\b\b\b\b\b\b\b\b\b\b\b\b\b\b\b\b\b\b\b\b\b\b\b\b\b\b\b\b\b\b\b\b\b\b\b\b\b\b\b\b\b\b\b\b\b\b\b\b\b\b\b\b\b\b\b\b\b\b\b\b\b\b\b\b\b\b\b\b\b\r 99/146 [===================>..........] - ETA: 25:39 - loss: 1.3435 - balanced_accuracy: 0.4745"
          ]
        },
        {
          "output_type": "stream",
          "name": "stderr",
          "text": [
            "WARNING:tensorflow:Gradients do not exist for variables ['tf_bert_model/bert/pooler/dense/kernel:0', 'tf_bert_model/bert/pooler/dense/bias:0'] when minimizing the loss. If you're using `model.compile()`, did you forget to provide a `loss` argument?\n"
          ]
        },
        {
          "output_type": "stream",
          "name": "stdout",
          "text": [
            "\b\b\b\b\b\b\b\b\b\b\b\b\b\b\b\b\b\b\b\b\b\b\b\b\b\b\b\b\b\b\b\b\b\b\b\b\b\b\b\b\b\b\b\b\b\b\b\b\b\b\b\b\b\b\b\b\b\b\b\b\b\b\b\b\b\b\b\b\b\b\b\b\b\b\b\b\b\b\b\b\b\b\b\b\b\b\b\b\b\b\b\b\b\b\b\b\r100/146 [===================>..........] - ETA: 25:06 - loss: 1.3403 - balanced_accuracy: 0.4761"
          ]
        },
        {
          "output_type": "stream",
          "name": "stderr",
          "text": [
            "WARNING:tensorflow:Gradients do not exist for variables ['tf_bert_model/bert/pooler/dense/kernel:0', 'tf_bert_model/bert/pooler/dense/bias:0'] when minimizing the loss. If you're using `model.compile()`, did you forget to provide a `loss` argument?\n"
          ]
        },
        {
          "output_type": "stream",
          "name": "stdout",
          "text": [
            "\b\b\b\b\b\b\b\b\b\b\b\b\b\b\b\b\b\b\b\b\b\b\b\b\b\b\b\b\b\b\b\b\b\b\b\b\b\b\b\b\b\b\b\b\b\b\b\b\b\b\b\b\b\b\b\b\b\b\b\b\b\b\b\b\b\b\b\b\b\b\b\b\b\b\b\b\b\b\b\b\b\b\b\b\b\b\b\b\b\b\b\b\b\b\b\b\r101/146 [===================>..........] - ETA: 24:33 - loss: 1.3348 - balanced_accuracy: 0.4783"
          ]
        },
        {
          "output_type": "stream",
          "name": "stderr",
          "text": [
            "WARNING:tensorflow:Gradients do not exist for variables ['tf_bert_model/bert/pooler/dense/kernel:0', 'tf_bert_model/bert/pooler/dense/bias:0'] when minimizing the loss. If you're using `model.compile()`, did you forget to provide a `loss` argument?\n"
          ]
        },
        {
          "output_type": "stream",
          "name": "stdout",
          "text": [
            "\b\b\b\b\b\b\b\b\b\b\b\b\b\b\b\b\b\b\b\b\b\b\b\b\b\b\b\b\b\b\b\b\b\b\b\b\b\b\b\b\b\b\b\b\b\b\b\b\b\b\b\b\b\b\b\b\b\b\b\b\b\b\b\b\b\b\b\b\b\b\b\b\b\b\b\b\b\b\b\b\b\b\b\b\b\b\b\b\b\b\b\b\b\b\b\b\r102/146 [===================>..........] - ETA: 24:00 - loss: 1.3341 - balanced_accuracy: 0.4785"
          ]
        },
        {
          "output_type": "stream",
          "name": "stderr",
          "text": [
            "WARNING:tensorflow:Gradients do not exist for variables ['tf_bert_model/bert/pooler/dense/kernel:0', 'tf_bert_model/bert/pooler/dense/bias:0'] when minimizing the loss. If you're using `model.compile()`, did you forget to provide a `loss` argument?\n"
          ]
        },
        {
          "output_type": "stream",
          "name": "stdout",
          "text": [
            "\b\b\b\b\b\b\b\b\b\b\b\b\b\b\b\b\b\b\b\b\b\b\b\b\b\b\b\b\b\b\b\b\b\b\b\b\b\b\b\b\b\b\b\b\b\b\b\b\b\b\b\b\b\b\b\b\b\b\b\b\b\b\b\b\b\b\b\b\b\b\b\b\b\b\b\b\b\b\b\b\b\b\b\b\b\b\b\b\b\b\b\b\b\b\b\b\r103/146 [====================>.........] - ETA: 23:27 - loss: 1.3300 - balanced_accuracy: 0.4806"
          ]
        },
        {
          "output_type": "stream",
          "name": "stderr",
          "text": [
            "WARNING:tensorflow:Gradients do not exist for variables ['tf_bert_model/bert/pooler/dense/kernel:0', 'tf_bert_model/bert/pooler/dense/bias:0'] when minimizing the loss. If you're using `model.compile()`, did you forget to provide a `loss` argument?\n"
          ]
        },
        {
          "output_type": "stream",
          "name": "stdout",
          "text": [
            "\b\b\b\b\b\b\b\b\b\b\b\b\b\b\b\b\b\b\b\b\b\b\b\b\b\b\b\b\b\b\b\b\b\b\b\b\b\b\b\b\b\b\b\b\b\b\b\b\b\b\b\b\b\b\b\b\b\b\b\b\b\b\b\b\b\b\b\b\b\b\b\b\b\b\b\b\b\b\b\b\b\b\b\b\b\b\b\b\b\b\b\b\b\b\b\b\r104/146 [====================>.........] - ETA: 22:55 - loss: 1.3236 - balanced_accuracy: 0.4840"
          ]
        },
        {
          "output_type": "stream",
          "name": "stderr",
          "text": [
            "WARNING:tensorflow:Gradients do not exist for variables ['tf_bert_model/bert/pooler/dense/kernel:0', 'tf_bert_model/bert/pooler/dense/bias:0'] when minimizing the loss. If you're using `model.compile()`, did you forget to provide a `loss` argument?\n"
          ]
        },
        {
          "output_type": "stream",
          "name": "stdout",
          "text": [
            "\b\b\b\b\b\b\b\b\b\b\b\b\b\b\b\b\b\b\b\b\b\b\b\b\b\b\b\b\b\b\b\b\b\b\b\b\b\b\b\b\b\b\b\b\b\b\b\b\b\b\b\b\b\b\b\b\b\b\b\b\b\b\b\b\b\b\b\b\b\b\b\b\b\b\b\b\b\b\b\b\b\b\b\b\b\b\b\b\b\b\b\b\b\b\b\b\r105/146 [====================>.........] - ETA: 22:21 - loss: 1.3216 - balanced_accuracy: 0.4847"
          ]
        },
        {
          "output_type": "stream",
          "name": "stderr",
          "text": [
            "WARNING:tensorflow:Gradients do not exist for variables ['tf_bert_model/bert/pooler/dense/kernel:0', 'tf_bert_model/bert/pooler/dense/bias:0'] when minimizing the loss. If you're using `model.compile()`, did you forget to provide a `loss` argument?\n"
          ]
        },
        {
          "output_type": "stream",
          "name": "stdout",
          "text": [
            "\b\b\b\b\b\b\b\b\b\b\b\b\b\b\b\b\b\b\b\b\b\b\b\b\b\b\b\b\b\b\b\b\b\b\b\b\b\b\b\b\b\b\b\b\b\b\b\b\b\b\b\b\b\b\b\b\b\b\b\b\b\b\b\b\b\b\b\b\b\b\b\b\b\b\b\b\b\b\b\b\b\b\b\b\b\b\b\b\b\b\b\b\b\b\b\b\r106/146 [====================>.........] - ETA: 21:49 - loss: 1.3186 - balanced_accuracy: 0.4866"
          ]
        },
        {
          "output_type": "stream",
          "name": "stderr",
          "text": [
            "WARNING:tensorflow:Gradients do not exist for variables ['tf_bert_model/bert/pooler/dense/kernel:0', 'tf_bert_model/bert/pooler/dense/bias:0'] when minimizing the loss. If you're using `model.compile()`, did you forget to provide a `loss` argument?\n"
          ]
        },
        {
          "output_type": "stream",
          "name": "stdout",
          "text": [
            "\b\b\b\b\b\b\b\b\b\b\b\b\b\b\b\b\b\b\b\b\b\b\b\b\b\b\b\b\b\b\b\b\b\b\b\b\b\b\b\b\b\b\b\b\b\b\b\b\b\b\b\b\b\b\b\b\b\b\b\b\b\b\b\b\b\b\b\b\b\b\b\b\b\b\b\b\b\b\b\b\b\b\b\b\b\b\b\b\b\b\b\b\b\b\b\b\r107/146 [====================>.........] - ETA: 21:16 - loss: 1.3139 - balanced_accuracy: 0.4891"
          ]
        },
        {
          "output_type": "stream",
          "name": "stderr",
          "text": [
            "WARNING:tensorflow:Gradients do not exist for variables ['tf_bert_model/bert/pooler/dense/kernel:0', 'tf_bert_model/bert/pooler/dense/bias:0'] when minimizing the loss. If you're using `model.compile()`, did you forget to provide a `loss` argument?\n"
          ]
        },
        {
          "output_type": "stream",
          "name": "stdout",
          "text": [
            "\b\b\b\b\b\b\b\b\b\b\b\b\b\b\b\b\b\b\b\b\b\b\b\b\b\b\b\b\b\b\b\b\b\b\b\b\b\b\b\b\b\b\b\b\b\b\b\b\b\b\b\b\b\b\b\b\b\b\b\b\b\b\b\b\b\b\b\b\b\b\b\b\b\b\b\b\b\b\b\b\b\b\b\b\b\b\b\b\b\b\b\b\b\b\b\b\r108/146 [=====================>........] - ETA: 20:43 - loss: 1.3104 - balanced_accuracy: 0.4907"
          ]
        },
        {
          "output_type": "stream",
          "name": "stderr",
          "text": [
            "WARNING:tensorflow:Gradients do not exist for variables ['tf_bert_model/bert/pooler/dense/kernel:0', 'tf_bert_model/bert/pooler/dense/bias:0'] when minimizing the loss. If you're using `model.compile()`, did you forget to provide a `loss` argument?\n"
          ]
        },
        {
          "output_type": "stream",
          "name": "stdout",
          "text": [
            "\b\b\b\b\b\b\b\b\b\b\b\b\b\b\b\b\b\b\b\b\b\b\b\b\b\b\b\b\b\b\b\b\b\b\b\b\b\b\b\b\b\b\b\b\b\b\b\b\b\b\b\b\b\b\b\b\b\b\b\b\b\b\b\b\b\b\b\b\b\b\b\b\b\b\b\b\b\b\b\b\b\b\b\b\b\b\b\b\b\b\b\b\b\b\b\b\r109/146 [=====================>........] - ETA: 20:10 - loss: 1.3078 - balanced_accuracy: 0.4918"
          ]
        },
        {
          "output_type": "stream",
          "name": "stderr",
          "text": [
            "WARNING:tensorflow:Gradients do not exist for variables ['tf_bert_model/bert/pooler/dense/kernel:0', 'tf_bert_model/bert/pooler/dense/bias:0'] when minimizing the loss. If you're using `model.compile()`, did you forget to provide a `loss` argument?\n"
          ]
        },
        {
          "output_type": "stream",
          "name": "stdout",
          "text": [
            "\b\b\b\b\b\b\b\b\b\b\b\b\b\b\b\b\b\b\b\b\b\b\b\b\b\b\b\b\b\b\b\b\b\b\b\b\b\b\b\b\b\b\b\b\b\b\b\b\b\b\b\b\b\b\b\b\b\b\b\b\b\b\b\b\b\b\b\b\b\b\b\b\b\b\b\b\b\b\b\b\b\b\b\b\b\b\b\b\b\b\b\b\b\b\b\b\r110/146 [=====================>........] - ETA: 19:38 - loss: 1.3061 - balanced_accuracy: 0.4927"
          ]
        },
        {
          "output_type": "stream",
          "name": "stderr",
          "text": [
            "WARNING:tensorflow:Gradients do not exist for variables ['tf_bert_model/bert/pooler/dense/kernel:0', 'tf_bert_model/bert/pooler/dense/bias:0'] when minimizing the loss. If you're using `model.compile()`, did you forget to provide a `loss` argument?\n"
          ]
        },
        {
          "output_type": "stream",
          "name": "stdout",
          "text": [
            "\b\b\b\b\b\b\b\b\b\b\b\b\b\b\b\b\b\b\b\b\b\b\b\b\b\b\b\b\b\b\b\b\b\b\b\b\b\b\b\b\b\b\b\b\b\b\b\b\b\b\b\b\b\b\b\b\b\b\b\b\b\b\b\b\b\b\b\b\b\b\b\b\b\b\b\b\b\b\b\b\b\b\b\b\b\b\b\b\b\b\b\b\b\b\b\b\r111/146 [=====================>........] - ETA: 19:05 - loss: 1.3055 - balanced_accuracy: 0.4937"
          ]
        },
        {
          "output_type": "stream",
          "name": "stderr",
          "text": [
            "WARNING:tensorflow:Gradients do not exist for variables ['tf_bert_model/bert/pooler/dense/kernel:0', 'tf_bert_model/bert/pooler/dense/bias:0'] when minimizing the loss. If you're using `model.compile()`, did you forget to provide a `loss` argument?\n"
          ]
        },
        {
          "output_type": "stream",
          "name": "stdout",
          "text": [
            "\b\b\b\b\b\b\b\b\b\b\b\b\b\b\b\b\b\b\b\b\b\b\b\b\b\b\b\b\b\b\b\b\b\b\b\b\b\b\b\b\b\b\b\b\b\b\b\b\b\b\b\b\b\b\b\b\b\b\b\b\b\b\b\b\b\b\b\b\b\b\b\b\b\b\b\b\b\b\b\b\b\b\b\b\b\b\b\b\b\b\b\b\b\b\b\b\r112/146 [======================>.......] - ETA: 18:32 - loss: 1.3042 - balanced_accuracy: 0.4950"
          ]
        },
        {
          "output_type": "stream",
          "name": "stderr",
          "text": [
            "WARNING:tensorflow:Gradients do not exist for variables ['tf_bert_model/bert/pooler/dense/kernel:0', 'tf_bert_model/bert/pooler/dense/bias:0'] when minimizing the loss. If you're using `model.compile()`, did you forget to provide a `loss` argument?\n"
          ]
        },
        {
          "output_type": "stream",
          "name": "stdout",
          "text": [
            "\b\b\b\b\b\b\b\b\b\b\b\b\b\b\b\b\b\b\b\b\b\b\b\b\b\b\b\b\b\b\b\b\b\b\b\b\b\b\b\b\b\b\b\b\b\b\b\b\b\b\b\b\b\b\b\b\b\b\b\b\b\b\b\b\b\b\b\b\b\b\b\b\b\b\b\b\b\b\b\b\b\b\b\b\b\b\b\b\b\b\b\b\b\b\b\b\r113/146 [======================>.......] - ETA: 17:59 - loss: 1.3011 - balanced_accuracy: 0.4966"
          ]
        },
        {
          "output_type": "stream",
          "name": "stderr",
          "text": [
            "WARNING:tensorflow:Gradients do not exist for variables ['tf_bert_model/bert/pooler/dense/kernel:0', 'tf_bert_model/bert/pooler/dense/bias:0'] when minimizing the loss. If you're using `model.compile()`, did you forget to provide a `loss` argument?\n"
          ]
        },
        {
          "output_type": "stream",
          "name": "stdout",
          "text": [
            "\b\b\b\b\b\b\b\b\b\b\b\b\b\b\b\b\b\b\b\b\b\b\b\b\b\b\b\b\b\b\b\b\b\b\b\b\b\b\b\b\b\b\b\b\b\b\b\b\b\b\b\b\b\b\b\b\b\b\b\b\b\b\b\b\b\b\b\b\b\b\b\b\b\b\b\b\b\b\b\b\b\b\b\b\b\b\b\b\b\b\b\b\b\b\b\b\r114/146 [======================>.......] - ETA: 17:26 - loss: 1.2963 - balanced_accuracy: 0.4985"
          ]
        },
        {
          "output_type": "stream",
          "name": "stderr",
          "text": [
            "WARNING:tensorflow:Gradients do not exist for variables ['tf_bert_model/bert/pooler/dense/kernel:0', 'tf_bert_model/bert/pooler/dense/bias:0'] when minimizing the loss. If you're using `model.compile()`, did you forget to provide a `loss` argument?\n"
          ]
        },
        {
          "output_type": "stream",
          "name": "stdout",
          "text": [
            "\b\b\b\b\b\b\b\b\b\b\b\b\b\b\b\b\b\b\b\b\b\b\b\b\b\b\b\b\b\b\b\b\b\b\b\b\b\b\b\b\b\b\b\b\b\b\b\b\b\b\b\b\b\b\b\b\b\b\b\b\b\b\b\b\b\b\b\b\b\b\b\b\b\b\b\b\b\b\b\b\b\b\b\b\b\b\b\b\b\b\b\b\b\b\b\b\r115/146 [======================>.......] - ETA: 16:53 - loss: 1.2935 - balanced_accuracy: 0.5000"
          ]
        },
        {
          "output_type": "stream",
          "name": "stderr",
          "text": [
            "WARNING:tensorflow:Gradients do not exist for variables ['tf_bert_model/bert/pooler/dense/kernel:0', 'tf_bert_model/bert/pooler/dense/bias:0'] when minimizing the loss. If you're using `model.compile()`, did you forget to provide a `loss` argument?\n"
          ]
        },
        {
          "output_type": "stream",
          "name": "stdout",
          "text": [
            "\b\b\b\b\b\b\b\b\b\b\b\b\b\b\b\b\b\b\b\b\b\b\b\b\b\b\b\b\b\b\b\b\b\b\b\b\b\b\b\b\b\b\b\b\b\b\b\b\b\b\b\b\b\b\b\b\b\b\b\b\b\b\b\b\b\b\b\b\b\b\b\b\b\b\b\b\b\b\b\b\b\b\b\b\b\b\b\b\b\b\b\b\b\b\b\b\r116/146 [======================>.......] - ETA: 16:20 - loss: 1.2920 - balanced_accuracy: 0.5005"
          ]
        },
        {
          "output_type": "stream",
          "name": "stderr",
          "text": [
            "WARNING:tensorflow:Gradients do not exist for variables ['tf_bert_model/bert/pooler/dense/kernel:0', 'tf_bert_model/bert/pooler/dense/bias:0'] when minimizing the loss. If you're using `model.compile()`, did you forget to provide a `loss` argument?\n"
          ]
        },
        {
          "output_type": "stream",
          "name": "stdout",
          "text": [
            "\b\b\b\b\b\b\b\b\b\b\b\b\b\b\b\b\b\b\b\b\b\b\b\b\b\b\b\b\b\b\b\b\b\b\b\b\b\b\b\b\b\b\b\b\b\b\b\b\b\b\b\b\b\b\b\b\b\b\b\b\b\b\b\b\b\b\b\b\b\b\b\b\b\b\b\b\b\b\b\b\b\b\b\b\b\b\b\b\b\b\b\b\b\b\b\b\r117/146 [=======================>......] - ETA: 15:47 - loss: 1.2887 - balanced_accuracy: 0.5019"
          ]
        },
        {
          "output_type": "stream",
          "name": "stderr",
          "text": [
            "WARNING:tensorflow:Gradients do not exist for variables ['tf_bert_model/bert/pooler/dense/kernel:0', 'tf_bert_model/bert/pooler/dense/bias:0'] when minimizing the loss. If you're using `model.compile()`, did you forget to provide a `loss` argument?\n"
          ]
        },
        {
          "output_type": "stream",
          "name": "stdout",
          "text": [
            "\b\b\b\b\b\b\b\b\b\b\b\b\b\b\b\b\b\b\b\b\b\b\b\b\b\b\b\b\b\b\b\b\b\b\b\b\b\b\b\b\b\b\b\b\b\b\b\b\b\b\b\b\b\b\b\b\b\b\b\b\b\b\b\b\b\b\b\b\b\b\b\b\b\b\b\b\b\b\b\b\b\b\b\b\b\b\b\b\b\b\b\b\b\b\b\b\r118/146 [=======================>......] - ETA: 15:14 - loss: 1.2857 - balanced_accuracy: 0.5040"
          ]
        },
        {
          "output_type": "stream",
          "name": "stderr",
          "text": [
            "WARNING:tensorflow:Gradients do not exist for variables ['tf_bert_model/bert/pooler/dense/kernel:0', 'tf_bert_model/bert/pooler/dense/bias:0'] when minimizing the loss. If you're using `model.compile()`, did you forget to provide a `loss` argument?\n"
          ]
        },
        {
          "output_type": "stream",
          "name": "stdout",
          "text": [
            "\b\b\b\b\b\b\b\b\b\b\b\b\b\b\b\b\b\b\b\b\b\b\b\b\b\b\b\b\b\b\b\b\b\b\b\b\b\b\b\b\b\b\b\b\b\b\b\b\b\b\b\b\b\b\b\b\b\b\b\b\b\b\b\b\b\b\b\b\b\b\b\b\b\b\b\b\b\b\b\b\b\b\b\b\b\b\b\b\b\b\b\b\b\b\b\b\r119/146 [=======================>......] - ETA: 14:41 - loss: 1.2830 - balanced_accuracy: 0.5058"
          ]
        },
        {
          "output_type": "stream",
          "name": "stderr",
          "text": [
            "WARNING:tensorflow:Gradients do not exist for variables ['tf_bert_model/bert/pooler/dense/kernel:0', 'tf_bert_model/bert/pooler/dense/bias:0'] when minimizing the loss. If you're using `model.compile()`, did you forget to provide a `loss` argument?\n"
          ]
        },
        {
          "output_type": "stream",
          "name": "stdout",
          "text": [
            "\b\b\b\b\b\b\b\b\b\b\b\b\b\b\b\b\b\b\b\b\b\b\b\b\b\b\b\b\b\b\b\b\b\b\b\b\b\b\b\b\b\b\b\b\b\b\b\b\b\b\b\b\b\b\b\b\b\b\b\b\b\b\b\b\b\b\b\b\b\b\b\b\b\b\b\b\b\b\b\b\b\b\b\b\b\b\b\b\b\b\b\b\b\b\b\b\r120/146 [=======================>......] - ETA: 14:09 - loss: 1.2782 - balanced_accuracy: 0.5079"
          ]
        },
        {
          "output_type": "stream",
          "name": "stderr",
          "text": [
            "WARNING:tensorflow:Gradients do not exist for variables ['tf_bert_model/bert/pooler/dense/kernel:0', 'tf_bert_model/bert/pooler/dense/bias:0'] when minimizing the loss. If you're using `model.compile()`, did you forget to provide a `loss` argument?\n"
          ]
        },
        {
          "output_type": "stream",
          "name": "stdout",
          "text": [
            "\b\b\b\b\b\b\b\b\b\b\b\b\b\b\b\b\b\b\b\b\b\b\b\b\b\b\b\b\b\b\b\b\b\b\b\b\b\b\b\b\b\b\b\b\b\b\b\b\b\b\b\b\b\b\b\b\b\b\b\b\b\b\b\b\b\b\b\b\b\b\b\b\b\b\b\b\b\b\b\b\b\b\b\b\b\b\b\b\b\b\b\b\b\b\b\b\r121/146 [=======================>......] - ETA: 13:36 - loss: 1.2748 - balanced_accuracy: 0.5096"
          ]
        },
        {
          "output_type": "stream",
          "name": "stderr",
          "text": [
            "WARNING:tensorflow:Gradients do not exist for variables ['tf_bert_model/bert/pooler/dense/kernel:0', 'tf_bert_model/bert/pooler/dense/bias:0'] when minimizing the loss. If you're using `model.compile()`, did you forget to provide a `loss` argument?\n"
          ]
        },
        {
          "output_type": "stream",
          "name": "stdout",
          "text": [
            "\b\b\b\b\b\b\b\b\b\b\b\b\b\b\b\b\b\b\b\b\b\b\b\b\b\b\b\b\b\b\b\b\b\b\b\b\b\b\b\b\b\b\b\b\b\b\b\b\b\b\b\b\b\b\b\b\b\b\b\b\b\b\b\b\b\b\b\b\b\b\b\b\b\b\b\b\b\b\b\b\b\b\b\b\b\b\b\b\b\b\b\b\b\b\b\b\r122/146 [========================>.....] - ETA: 13:03 - loss: 1.2733 - balanced_accuracy: 0.5102"
          ]
        },
        {
          "output_type": "stream",
          "name": "stderr",
          "text": [
            "WARNING:tensorflow:Gradients do not exist for variables ['tf_bert_model/bert/pooler/dense/kernel:0', 'tf_bert_model/bert/pooler/dense/bias:0'] when minimizing the loss. If you're using `model.compile()`, did you forget to provide a `loss` argument?\n"
          ]
        },
        {
          "output_type": "stream",
          "name": "stdout",
          "text": [
            "\b\b\b\b\b\b\b\b\b\b\b\b\b\b\b\b\b\b\b\b\b\b\b\b\b\b\b\b\b\b\b\b\b\b\b\b\b\b\b\b\b\b\b\b\b\b\b\b\b\b\b\b\b\b\b\b\b\b\b\b\b\b\b\b\b\b\b\b\b\b\b\b\b\b\b\b\b\b\b\b\b\b\b\b\b\b\b\b\b\b\b\b\b\b\b\b\r123/146 [========================>.....] - ETA: 12:31 - loss: 1.2712 - balanced_accuracy: 0.5117"
          ]
        },
        {
          "output_type": "stream",
          "name": "stderr",
          "text": [
            "WARNING:tensorflow:Gradients do not exist for variables ['tf_bert_model/bert/pooler/dense/kernel:0', 'tf_bert_model/bert/pooler/dense/bias:0'] when minimizing the loss. If you're using `model.compile()`, did you forget to provide a `loss` argument?\n"
          ]
        },
        {
          "output_type": "stream",
          "name": "stdout",
          "text": [
            "\b\b\b\b\b\b\b\b\b\b\b\b\b\b\b\b\b\b\b\b\b\b\b\b\b\b\b\b\b\b\b\b\b\b\b\b\b\b\b\b\b\b\b\b\b\b\b\b\b\b\b\b\b\b\b\b\b\b\b\b\b\b\b\b\b\b\b\b\b\b\b\b\b\b\b\b\b\b\b\b\b\b\b\b\b\b\b\b\b\b\b\b\b\b\b\b\r124/146 [========================>.....] - ETA: 11:58 - loss: 1.2686 - balanced_accuracy: 0.5137"
          ]
        },
        {
          "output_type": "stream",
          "name": "stderr",
          "text": [
            "WARNING:tensorflow:Gradients do not exist for variables ['tf_bert_model/bert/pooler/dense/kernel:0', 'tf_bert_model/bert/pooler/dense/bias:0'] when minimizing the loss. If you're using `model.compile()`, did you forget to provide a `loss` argument?\n"
          ]
        },
        {
          "output_type": "stream",
          "name": "stdout",
          "text": [
            "\b\b\b\b\b\b\b\b\b\b\b\b\b\b\b\b\b\b\b\b\b\b\b\b\b\b\b\b\b\b\b\b\b\b\b\b\b\b\b\b\b\b\b\b\b\b\b\b\b\b\b\b\b\b\b\b\b\b\b\b\b\b\b\b\b\b\b\b\b\b\b\b\b\b\b\b\b\b\b\b\b\b\b\b\b\b\b\b\b\b\b\b\b\b\b\b\r125/146 [========================>.....] - ETA: 11:25 - loss: 1.2648 - balanced_accuracy: 0.5153"
          ]
        },
        {
          "output_type": "stream",
          "name": "stderr",
          "text": [
            "WARNING:tensorflow:Gradients do not exist for variables ['tf_bert_model/bert/pooler/dense/kernel:0', 'tf_bert_model/bert/pooler/dense/bias:0'] when minimizing the loss. If you're using `model.compile()`, did you forget to provide a `loss` argument?\n"
          ]
        },
        {
          "output_type": "stream",
          "name": "stdout",
          "text": [
            "\b\b\b\b\b\b\b\b\b\b\b\b\b\b\b\b\b\b\b\b\b\b\b\b\b\b\b\b\b\b\b\b\b\b\b\b\b\b\b\b\b\b\b\b\b\b\b\b\b\b\b\b\b\b\b\b\b\b\b\b\b\b\b\b\b\b\b\b\b\b\b\b\b\b\b\b\b\b\b\b\b\b\b\b\b\b\b\b\b\b\b\b\b\b\b\b\r126/146 [========================>.....] - ETA: 10:53 - loss: 1.2610 - balanced_accuracy: 0.5170"
          ]
        },
        {
          "output_type": "stream",
          "name": "stderr",
          "text": [
            "WARNING:tensorflow:Gradients do not exist for variables ['tf_bert_model/bert/pooler/dense/kernel:0', 'tf_bert_model/bert/pooler/dense/bias:0'] when minimizing the loss. If you're using `model.compile()`, did you forget to provide a `loss` argument?\n"
          ]
        },
        {
          "output_type": "stream",
          "name": "stdout",
          "text": [
            "\b\b\b\b\b\b\b\b\b\b\b\b\b\b\b\b\b\b\b\b\b\b\b\b\b\b\b\b\b\b\b\b\b\b\b\b\b\b\b\b\b\b\b\b\b\b\b\b\b\b\b\b\b\b\b\b\b\b\b\b\b\b\b\b\b\b\b\b\b\b\b\b\b\b\b\b\b\b\b\b\b\b\b\b\b\b\b\b\b\b\b\b\b\b\b\b\r127/146 [=========================>....] - ETA: 10:20 - loss: 1.2576 - balanced_accuracy: 0.5182"
          ]
        },
        {
          "output_type": "stream",
          "name": "stderr",
          "text": [
            "WARNING:tensorflow:Gradients do not exist for variables ['tf_bert_model/bert/pooler/dense/kernel:0', 'tf_bert_model/bert/pooler/dense/bias:0'] when minimizing the loss. If you're using `model.compile()`, did you forget to provide a `loss` argument?\n"
          ]
        },
        {
          "output_type": "stream",
          "name": "stdout",
          "text": [
            "\b\b\b\b\b\b\b\b\b\b\b\b\b\b\b\b\b\b\b\b\b\b\b\b\b\b\b\b\b\b\b\b\b\b\b\b\b\b\b\b\b\b\b\b\b\b\b\b\b\b\b\b\b\b\b\b\b\b\b\b\b\b\b\b\b\b\b\b\b\b\b\b\b\b\b\b\b\b\b\b\b\b\b\b\b\b\b\b\b\b\b\b\b\b\b\b\r128/146 [=========================>....] - ETA: 9:48 - loss: 1.2545 - balanced_accuracy: 0.5197 "
          ]
        },
        {
          "output_type": "stream",
          "name": "stderr",
          "text": [
            "WARNING:tensorflow:Gradients do not exist for variables ['tf_bert_model/bert/pooler/dense/kernel:0', 'tf_bert_model/bert/pooler/dense/bias:0'] when minimizing the loss. If you're using `model.compile()`, did you forget to provide a `loss` argument?\n"
          ]
        },
        {
          "output_type": "stream",
          "name": "stdout",
          "text": [
            "\b\b\b\b\b\b\b\b\b\b\b\b\b\b\b\b\b\b\b\b\b\b\b\b\b\b\b\b\b\b\b\b\b\b\b\b\b\b\b\b\b\b\b\b\b\b\b\b\b\b\b\b\b\b\b\b\b\b\b\b\b\b\b\b\b\b\b\b\b\b\b\b\b\b\b\b\b\b\b\b\b\b\b\b\b\b\b\b\b\b\b\b\b\b\b\r129/146 [=========================>....] - ETA: 9:15 - loss: 1.2511 - balanced_accuracy: 0.5215"
          ]
        },
        {
          "output_type": "stream",
          "name": "stderr",
          "text": [
            "WARNING:tensorflow:Gradients do not exist for variables ['tf_bert_model/bert/pooler/dense/kernel:0', 'tf_bert_model/bert/pooler/dense/bias:0'] when minimizing the loss. If you're using `model.compile()`, did you forget to provide a `loss` argument?\n"
          ]
        },
        {
          "output_type": "stream",
          "name": "stdout",
          "text": [
            "\b\b\b\b\b\b\b\b\b\b\b\b\b\b\b\b\b\b\b\b\b\b\b\b\b\b\b\b\b\b\b\b\b\b\b\b\b\b\b\b\b\b\b\b\b\b\b\b\b\b\b\b\b\b\b\b\b\b\b\b\b\b\b\b\b\b\b\b\b\b\b\b\b\b\b\b\b\b\b\b\b\b\b\b\b\b\b\b\b\b\b\b\b\b\b\r130/146 [=========================>....] - ETA: 8:42 - loss: 1.2485 - balanced_accuracy: 0.5229"
          ]
        },
        {
          "output_type": "stream",
          "name": "stderr",
          "text": [
            "WARNING:tensorflow:Gradients do not exist for variables ['tf_bert_model/bert/pooler/dense/kernel:0', 'tf_bert_model/bert/pooler/dense/bias:0'] when minimizing the loss. If you're using `model.compile()`, did you forget to provide a `loss` argument?\n"
          ]
        },
        {
          "output_type": "stream",
          "name": "stdout",
          "text": [
            "\b\b\b\b\b\b\b\b\b\b\b\b\b\b\b\b\b\b\b\b\b\b\b\b\b\b\b\b\b\b\b\b\b\b\b\b\b\b\b\b\b\b\b\b\b\b\b\b\b\b\b\b\b\b\b\b\b\b\b\b\b\b\b\b\b\b\b\b\b\b\b\b\b\b\b\b\b\b\b\b\b\b\b\b\b\b\b\b\b\b\b\b\b\b\b\r131/146 [=========================>....] - ETA: 8:09 - loss: 1.2461 - balanced_accuracy: 0.5242"
          ]
        },
        {
          "output_type": "stream",
          "name": "stderr",
          "text": [
            "WARNING:tensorflow:Gradients do not exist for variables ['tf_bert_model/bert/pooler/dense/kernel:0', 'tf_bert_model/bert/pooler/dense/bias:0'] when minimizing the loss. If you're using `model.compile()`, did you forget to provide a `loss` argument?\n"
          ]
        },
        {
          "output_type": "stream",
          "name": "stdout",
          "text": [
            "\b\b\b\b\b\b\b\b\b\b\b\b\b\b\b\b\b\b\b\b\b\b\b\b\b\b\b\b\b\b\b\b\b\b\b\b\b\b\b\b\b\b\b\b\b\b\b\b\b\b\b\b\b\b\b\b\b\b\b\b\b\b\b\b\b\b\b\b\b\b\b\b\b\b\b\b\b\b\b\b\b\b\b\b\b\b\b\b\b\b\b\b\b\b\b\r132/146 [==========================>...] - ETA: 7:37 - loss: 1.2438 - balanced_accuracy: 0.5250"
          ]
        },
        {
          "output_type": "stream",
          "name": "stderr",
          "text": [
            "WARNING:tensorflow:Gradients do not exist for variables ['tf_bert_model/bert/pooler/dense/kernel:0', 'tf_bert_model/bert/pooler/dense/bias:0'] when minimizing the loss. If you're using `model.compile()`, did you forget to provide a `loss` argument?\n"
          ]
        },
        {
          "output_type": "stream",
          "name": "stdout",
          "text": [
            "\b\b\b\b\b\b\b\b\b\b\b\b\b\b\b\b\b\b\b\b\b\b\b\b\b\b\b\b\b\b\b\b\b\b\b\b\b\b\b\b\b\b\b\b\b\b\b\b\b\b\b\b\b\b\b\b\b\b\b\b\b\b\b\b\b\b\b\b\b\b\b\b\b\b\b\b\b\b\b\b\b\b\b\b\b\b\b\b\b\b\b\b\b\b\b\r133/146 [==========================>...] - ETA: 7:04 - loss: 1.2406 - balanced_accuracy: 0.5267"
          ]
        },
        {
          "output_type": "stream",
          "name": "stderr",
          "text": [
            "WARNING:tensorflow:Gradients do not exist for variables ['tf_bert_model/bert/pooler/dense/kernel:0', 'tf_bert_model/bert/pooler/dense/bias:0'] when minimizing the loss. If you're using `model.compile()`, did you forget to provide a `loss` argument?\n"
          ]
        },
        {
          "output_type": "stream",
          "name": "stdout",
          "text": [
            "\b\b\b\b\b\b\b\b\b\b\b\b\b\b\b\b\b\b\b\b\b\b\b\b\b\b\b\b\b\b\b\b\b\b\b\b\b\b\b\b\b\b\b\b\b\b\b\b\b\b\b\b\b\b\b\b\b\b\b\b\b\b\b\b\b\b\b\b\b\b\b\b\b\b\b\b\b\b\b\b\b\b\b\b\b\b\b\b\b\b\b\b\b\b\b\r134/146 [==========================>...] - ETA: 6:31 - loss: 1.2390 - balanced_accuracy: 0.5282"
          ]
        },
        {
          "output_type": "stream",
          "name": "stderr",
          "text": [
            "WARNING:tensorflow:Gradients do not exist for variables ['tf_bert_model/bert/pooler/dense/kernel:0', 'tf_bert_model/bert/pooler/dense/bias:0'] when minimizing the loss. If you're using `model.compile()`, did you forget to provide a `loss` argument?\n"
          ]
        },
        {
          "output_type": "stream",
          "name": "stdout",
          "text": [
            "\b\b\b\b\b\b\b\b\b\b\b\b\b\b\b\b\b\b\b\b\b\b\b\b\b\b\b\b\b\b\b\b\b\b\b\b\b\b\b\b\b\b\b\b\b\b\b\b\b\b\b\b\b\b\b\b\b\b\b\b\b\b\b\b\b\b\b\b\b\b\b\b\b\b\b\b\b\b\b\b\b\b\b\b\b\b\b\b\b\b\b\b\b\b\b\r135/146 [==========================>...] - ETA: 5:59 - loss: 1.2378 - balanced_accuracy: 0.5284"
          ]
        },
        {
          "output_type": "stream",
          "name": "stderr",
          "text": [
            "WARNING:tensorflow:Gradients do not exist for variables ['tf_bert_model/bert/pooler/dense/kernel:0', 'tf_bert_model/bert/pooler/dense/bias:0'] when minimizing the loss. If you're using `model.compile()`, did you forget to provide a `loss` argument?\n"
          ]
        },
        {
          "output_type": "stream",
          "name": "stdout",
          "text": [
            "\b\b\b\b\b\b\b\b\b\b\b\b\b\b\b\b\b\b\b\b\b\b\b\b\b\b\b\b\b\b\b\b\b\b\b\b\b\b\b\b\b\b\b\b\b\b\b\b\b\b\b\b\b\b\b\b\b\b\b\b\b\b\b\b\b\b\b\b\b\b\b\b\b\b\b\b\b\b\b\b\b\b\b\b\b\b\b\b\b\b\b\b\b\b\b\r136/146 [==========================>...] - ETA: 5:26 - loss: 1.2347 - balanced_accuracy: 0.5294"
          ]
        },
        {
          "output_type": "stream",
          "name": "stderr",
          "text": [
            "WARNING:tensorflow:Gradients do not exist for variables ['tf_bert_model/bert/pooler/dense/kernel:0', 'tf_bert_model/bert/pooler/dense/bias:0'] when minimizing the loss. If you're using `model.compile()`, did you forget to provide a `loss` argument?\n"
          ]
        },
        {
          "output_type": "stream",
          "name": "stdout",
          "text": [
            "\b\b\b\b\b\b\b\b\b\b\b\b\b\b\b\b\b\b\b\b\b\b\b\b\b\b\b\b\b\b\b\b\b\b\b\b\b\b\b\b\b\b\b\b\b\b\b\b\b\b\b\b\b\b\b\b\b\b\b\b\b\b\b\b\b\b\b\b\b\b\b\b\b\b\b\b\b\b\b\b\b\b\b\b\b\b\b\b\b\b\b\b\b\b\b\r137/146 [===========================>..] - ETA: 4:53 - loss: 1.2305 - balanced_accuracy: 0.5314"
          ]
        },
        {
          "output_type": "stream",
          "name": "stderr",
          "text": [
            "WARNING:tensorflow:Gradients do not exist for variables ['tf_bert_model/bert/pooler/dense/kernel:0', 'tf_bert_model/bert/pooler/dense/bias:0'] when minimizing the loss. If you're using `model.compile()`, did you forget to provide a `loss` argument?\n"
          ]
        },
        {
          "output_type": "stream",
          "name": "stdout",
          "text": [
            "\b\b\b\b\b\b\b\b\b\b\b\b\b\b\b\b\b\b\b\b\b\b\b\b\b\b\b\b\b\b\b\b\b\b\b\b\b\b\b\b\b\b\b\b\b\b\b\b\b\b\b\b\b\b\b\b\b\b\b\b\b\b\b\b\b\b\b\b\b\b\b\b\b\b\b\b\b\b\b\b\b\b\b\b\b\b\b\b\b\b\b\b\b\b\b\r138/146 [===========================>..] - ETA: 4:21 - loss: 1.2278 - balanced_accuracy: 0.5322"
          ]
        },
        {
          "output_type": "stream",
          "name": "stderr",
          "text": [
            "WARNING:tensorflow:Gradients do not exist for variables ['tf_bert_model/bert/pooler/dense/kernel:0', 'tf_bert_model/bert/pooler/dense/bias:0'] when minimizing the loss. If you're using `model.compile()`, did you forget to provide a `loss` argument?\n"
          ]
        },
        {
          "output_type": "stream",
          "name": "stdout",
          "text": [
            "\b\b\b\b\b\b\b\b\b\b\b\b\b\b\b\b\b\b\b\b\b\b\b\b\b\b\b\b\b\b\b\b\b\b\b\b\b\b\b\b\b\b\b\b\b\b\b\b\b\b\b\b\b\b\b\b\b\b\b\b\b\b\b\b\b\b\b\b\b\b\b\b\b\b\b\b\b\b\b\b\b\b\b\b\b\b\b\b\b\b\b\b\b\b\b\r139/146 [===========================>..] - ETA: 3:48 - loss: 1.2258 - balanced_accuracy: 0.5330"
          ]
        },
        {
          "output_type": "stream",
          "name": "stderr",
          "text": [
            "WARNING:tensorflow:Gradients do not exist for variables ['tf_bert_model/bert/pooler/dense/kernel:0', 'tf_bert_model/bert/pooler/dense/bias:0'] when minimizing the loss. If you're using `model.compile()`, did you forget to provide a `loss` argument?\n"
          ]
        },
        {
          "output_type": "stream",
          "name": "stdout",
          "text": [
            "\b\b\b\b\b\b\b\b\b\b\b\b\b\b\b\b\b\b\b\b\b\b\b\b\b\b\b\b\b\b\b\b\b\b\b\b\b\b\b\b\b\b\b\b\b\b\b\b\b\b\b\b\b\b\b\b\b\b\b\b\b\b\b\b\b\b\b\b\b\b\b\b\b\b\b\b\b\b\b\b\b\b\b\b\b\b\b\b\b\b\b\b\b\b\b\r140/146 [===========================>..] - ETA: 3:15 - loss: 1.2241 - balanced_accuracy: 0.5341"
          ]
        },
        {
          "output_type": "stream",
          "name": "stderr",
          "text": [
            "WARNING:tensorflow:Gradients do not exist for variables ['tf_bert_model/bert/pooler/dense/kernel:0', 'tf_bert_model/bert/pooler/dense/bias:0'] when minimizing the loss. If you're using `model.compile()`, did you forget to provide a `loss` argument?\n"
          ]
        },
        {
          "output_type": "stream",
          "name": "stdout",
          "text": [
            "\b\b\b\b\b\b\b\b\b\b\b\b\b\b\b\b\b\b\b\b\b\b\b\b\b\b\b\b\b\b\b\b\b\b\b\b\b\b\b\b\b\b\b\b\b\b\b\b\b\b\b\b\b\b\b\b\b\b\b\b\b\b\b\b\b\b\b\b\b\b\b\b\b\b\b\b\b\b\b\b\b\b\b\b\b\b\b\b\b\b\b\b\b\b\b\r141/146 [===========================>..] - ETA: 2:43 - loss: 1.2218 - balanced_accuracy: 0.5351"
          ]
        },
        {
          "output_type": "stream",
          "name": "stderr",
          "text": [
            "WARNING:tensorflow:Gradients do not exist for variables ['tf_bert_model/bert/pooler/dense/kernel:0', 'tf_bert_model/bert/pooler/dense/bias:0'] when minimizing the loss. If you're using `model.compile()`, did you forget to provide a `loss` argument?\n"
          ]
        },
        {
          "output_type": "stream",
          "name": "stdout",
          "text": [
            "\b\b\b\b\b\b\b\b\b\b\b\b\b\b\b\b\b\b\b\b\b\b\b\b\b\b\b\b\b\b\b\b\b\b\b\b\b\b\b\b\b\b\b\b\b\b\b\b\b\b\b\b\b\b\b\b\b\b\b\b\b\b\b\b\b\b\b\b\b\b\b\b\b\b\b\b\b\b\b\b\b\b\b\b\b\b\b\b\b\b\b\b\b\b\b\r142/146 [============================>.] - ETA: 2:10 - loss: 1.2162 - balanced_accuracy: 0.5376"
          ]
        },
        {
          "output_type": "stream",
          "name": "stderr",
          "text": [
            "WARNING:tensorflow:Gradients do not exist for variables ['tf_bert_model/bert/pooler/dense/kernel:0', 'tf_bert_model/bert/pooler/dense/bias:0'] when minimizing the loss. If you're using `model.compile()`, did you forget to provide a `loss` argument?\n"
          ]
        },
        {
          "output_type": "stream",
          "name": "stdout",
          "text": [
            "\b\b\b\b\b\b\b\b\b\b\b\b\b\b\b\b\b\b\b\b\b\b\b\b\b\b\b\b\b\b\b\b\b\b\b\b\b\b\b\b\b\b\b\b\b\b\b\b\b\b\b\b\b\b\b\b\b\b\b\b\b\b\b\b\b\b\b\b\b\b\b\b\b\b\b\b\b\b\b\b\b\b\b\b\b\b\b\b\b\b\b\b\b\b\b\r143/146 [============================>.] - ETA: 1:37 - loss: 1.2120 - balanced_accuracy: 0.5396"
          ]
        },
        {
          "output_type": "stream",
          "name": "stderr",
          "text": [
            "WARNING:tensorflow:Gradients do not exist for variables ['tf_bert_model/bert/pooler/dense/kernel:0', 'tf_bert_model/bert/pooler/dense/bias:0'] when minimizing the loss. If you're using `model.compile()`, did you forget to provide a `loss` argument?\n"
          ]
        },
        {
          "output_type": "stream",
          "name": "stdout",
          "text": [
            "\b\b\b\b\b\b\b\b\b\b\b\b\b\b\b\b\b\b\b\b\b\b\b\b\b\b\b\b\b\b\b\b\b\b\b\b\b\b\b\b\b\b\b\b\b\b\b\b\b\b\b\b\b\b\b\b\b\b\b\b\b\b\b\b\b\b\b\b\b\b\b\b\b\b\b\b\b\b\b\b\b\b\b\b\b\b\b\b\b\b\b\b\b\b\b\r144/146 [============================>.] - ETA: 1:05 - loss: 1.2093 - balanced_accuracy: 0.5407"
          ]
        },
        {
          "output_type": "stream",
          "name": "stderr",
          "text": [
            "WARNING:tensorflow:Gradients do not exist for variables ['tf_bert_model/bert/pooler/dense/kernel:0', 'tf_bert_model/bert/pooler/dense/bias:0'] when minimizing the loss. If you're using `model.compile()`, did you forget to provide a `loss` argument?\n"
          ]
        },
        {
          "output_type": "stream",
          "name": "stdout",
          "text": [
            "\b\b\b\b\b\b\b\b\b\b\b\b\b\b\b\b\b\b\b\b\b\b\b\b\b\b\b\b\b\b\b\b\b\b\b\b\b\b\b\b\b\b\b\b\b\b\b\b\b\b\b\b\b\b\b\b\b\b\b\b\b\b\b\b\b\b\b\b\b\b\b\b\b\b\b\b\b\b\b\b\b\b\b\b\b\b\b\b\b\b\b\b\b\b\b\r145/146 [============================>.] - ETA: 32s - loss: 1.2051 - balanced_accuracy: 0.5425 "
          ]
        },
        {
          "output_type": "stream",
          "name": "stderr",
          "text": [
            "WARNING:tensorflow:Gradients do not exist for variables ['tf_bert_model/bert/pooler/dense/kernel:0', 'tf_bert_model/bert/pooler/dense/bias:0'] when minimizing the loss. If you're using `model.compile()`, did you forget to provide a `loss` argument?\n"
          ]
        },
        {
          "output_type": "stream",
          "name": "stdout",
          "text": [
            "146/146 [==============================] - 5385s 37s/step - loss: 1.2046 - balanced_accuracy: 0.5424 - val_loss: 0.8886 - val_balanced_accuracy: 0.6881\n",
            "Epoch 2/4\n"
          ]
        },
        {
          "output_type": "stream",
          "name": "stderr",
          "text": [
            "WARNING:tensorflow:Gradients do not exist for variables ['tf_bert_model/bert/pooler/dense/kernel:0', 'tf_bert_model/bert/pooler/dense/bias:0'] when minimizing the loss. If you're using `model.compile()`, did you forget to provide a `loss` argument?\n"
          ]
        },
        {
          "output_type": "stream",
          "name": "stdout",
          "text": [
            "\r  1/146 [..............................] - ETA: 1:24:26 - loss: 0.8760 - balanced_accuracy: 0.6667"
          ]
        },
        {
          "output_type": "stream",
          "name": "stderr",
          "text": [
            "WARNING:tensorflow:Gradients do not exist for variables ['tf_bert_model/bert/pooler/dense/kernel:0', 'tf_bert_model/bert/pooler/dense/bias:0'] when minimizing the loss. If you're using `model.compile()`, did you forget to provide a `loss` argument?\n"
          ]
        },
        {
          "output_type": "stream",
          "name": "stdout",
          "text": [
            "\b\b\b\b\b\b\b\b\b\b\b\b\b\b\b\b\b\b\b\b\b\b\b\b\b\b\b\b\b\b\b\b\b\b\b\b\b\b\b\b\b\b\b\b\b\b\b\b\b\b\b\b\b\b\b\b\b\b\b\b\b\b\b\b\b\b\b\b\b\b\b\b\b\b\b\b\b\b\b\b\b\b\b\b\b\b\b\b\b\b\b\b\b\b\b\b\b\b\r  2/146 [..............................] - ETA: 1:18:12 - loss: 0.8688 - balanced_accuracy: 0.6806"
          ]
        },
        {
          "output_type": "stream",
          "name": "stderr",
          "text": [
            "WARNING:tensorflow:Gradients do not exist for variables ['tf_bert_model/bert/pooler/dense/kernel:0', 'tf_bert_model/bert/pooler/dense/bias:0'] when minimizing the loss. If you're using `model.compile()`, did you forget to provide a `loss` argument?\n"
          ]
        },
        {
          "output_type": "stream",
          "name": "stdout",
          "text": [
            "\b\b\b\b\b\b\b\b\b\b\b\b\b\b\b\b\b\b\b\b\b\b\b\b\b\b\b\b\b\b\b\b\b\b\b\b\b\b\b\b\b\b\b\b\b\b\b\b\b\b\b\b\b\b\b\b\b\b\b\b\b\b\b\b\b\b\b\b\b\b\b\b\b\b\b\b\b\b\b\b\b\b\b\b\b\b\b\b\b\b\b\b\b\b\b\b\b\b\r  3/146 [..............................] - ETA: 1:16:30 - loss: 0.7690 - balanced_accuracy: 0.7315"
          ]
        },
        {
          "output_type": "stream",
          "name": "stderr",
          "text": [
            "WARNING:tensorflow:Gradients do not exist for variables ['tf_bert_model/bert/pooler/dense/kernel:0', 'tf_bert_model/bert/pooler/dense/bias:0'] when minimizing the loss. If you're using `model.compile()`, did you forget to provide a `loss` argument?\n"
          ]
        },
        {
          "output_type": "stream",
          "name": "stdout",
          "text": [
            "\b\b\b\b\b\b\b\b\b\b\b\b\b\b\b\b\b\b\b\b\b\b\b\b\b\b\b\b\b\b\b\b\b\b\b\b\b\b\b\b\b\b\b\b\b\b\b\b\b\b\b\b\b\b\b\b\b\b\b\b\b\b\b\b\b\b\b\b\b\b\b\b\b\b\b\b\b\b\b\b\b\b\b\b\b\b\b\b\b\b\b\b\b\b\b\b\b\b\r  4/146 [..............................] - ETA: 1:14:53 - loss: 0.7332 - balanced_accuracy: 0.7222"
          ]
        },
        {
          "output_type": "stream",
          "name": "stderr",
          "text": [
            "WARNING:tensorflow:Gradients do not exist for variables ['tf_bert_model/bert/pooler/dense/kernel:0', 'tf_bert_model/bert/pooler/dense/bias:0'] when minimizing the loss. If you're using `model.compile()`, did you forget to provide a `loss` argument?\n"
          ]
        },
        {
          "output_type": "stream",
          "name": "stdout",
          "text": [
            "\b\b\b\b\b\b\b\b\b\b\b\b\b\b\b\b\b\b\b\b\b\b\b\b\b\b\b\b\b\b\b\b\b\b\b\b\b\b\b\b\b\b\b\b\b\b\b\b\b\b\b\b\b\b\b\b\b\b\b\b\b\b\b\b\b\b\b\b\b\b\b\b\b\b\b\b\b\b\b\b\b\b\b\b\b\b\b\b\b\b\b\b\b\b\b\b\b\b\r  5/146 [>.............................] - ETA: 1:14:13 - loss: 0.7014 - balanced_accuracy: 0.7389"
          ]
        },
        {
          "output_type": "stream",
          "name": "stderr",
          "text": [
            "WARNING:tensorflow:Gradients do not exist for variables ['tf_bert_model/bert/pooler/dense/kernel:0', 'tf_bert_model/bert/pooler/dense/bias:0'] when minimizing the loss. If you're using `model.compile()`, did you forget to provide a `loss` argument?\n"
          ]
        },
        {
          "output_type": "stream",
          "name": "stdout",
          "text": [
            "\b\b\b\b\b\b\b\b\b\b\b\b\b\b\b\b\b\b\b\b\b\b\b\b\b\b\b\b\b\b\b\b\b\b\b\b\b\b\b\b\b\b\b\b\b\b\b\b\b\b\b\b\b\b\b\b\b\b\b\b\b\b\b\b\b\b\b\b\b\b\b\b\b\b\b\b\b\b\b\b\b\b\b\b\b\b\b\b\b\b\b\b\b\b\b\b\b\b\r  6/146 [>.............................] - ETA: 1:13:54 - loss: 0.6930 - balanced_accuracy: 0.7500"
          ]
        },
        {
          "output_type": "stream",
          "name": "stderr",
          "text": [
            "WARNING:tensorflow:Gradients do not exist for variables ['tf_bert_model/bert/pooler/dense/kernel:0', 'tf_bert_model/bert/pooler/dense/bias:0'] when minimizing the loss. If you're using `model.compile()`, did you forget to provide a `loss` argument?\n"
          ]
        },
        {
          "output_type": "stream",
          "name": "stdout",
          "text": [
            "\b\b\b\b\b\b\b\b\b\b\b\b\b\b\b\b\b\b\b\b\b\b\b\b\b\b\b\b\b\b\b\b\b\b\b\b\b\b\b\b\b\b\b\b\b\b\b\b\b\b\b\b\b\b\b\b\b\b\b\b\b\b\b\b\b\b\b\b\b\b\b\b\b\b\b\b\b\b\b\b\b\b\b\b\b\b\b\b\b\b\b\b\b\b\b\b\b\b\r  7/146 [>.............................] - ETA: 1:13:52 - loss: 0.7075 - balanced_accuracy: 0.7460"
          ]
        },
        {
          "output_type": "stream",
          "name": "stderr",
          "text": [
            "WARNING:tensorflow:Gradients do not exist for variables ['tf_bert_model/bert/pooler/dense/kernel:0', 'tf_bert_model/bert/pooler/dense/bias:0'] when minimizing the loss. If you're using `model.compile()`, did you forget to provide a `loss` argument?\n"
          ]
        },
        {
          "output_type": "stream",
          "name": "stdout",
          "text": [
            "\b\b\b\b\b\b\b\b\b\b\b\b\b\b\b\b\b\b\b\b\b\b\b\b\b\b\b\b\b\b\b\b\b\b\b\b\b\b\b\b\b\b\b\b\b\b\b\b\b\b\b\b\b\b\b\b\b\b\b\b\b\b\b\b\b\b\b\b\b\b\b\b\b\b\b\b\b\b\b\b\b\b\b\b\b\b\b\b\b\b\b\b\b\b\b\b\b\b\r  8/146 [>.............................] - ETA: 1:13:13 - loss: 0.7217 - balanced_accuracy: 0.7396"
          ]
        },
        {
          "output_type": "stream",
          "name": "stderr",
          "text": [
            "WARNING:tensorflow:Gradients do not exist for variables ['tf_bert_model/bert/pooler/dense/kernel:0', 'tf_bert_model/bert/pooler/dense/bias:0'] when minimizing the loss. If you're using `model.compile()`, did you forget to provide a `loss` argument?\n"
          ]
        },
        {
          "output_type": "stream",
          "name": "stdout",
          "text": [
            "\b\b\b\b\b\b\b\b\b\b\b\b\b\b\b\b\b\b\b\b\b\b\b\b\b\b\b\b\b\b\b\b\b\b\b\b\b\b\b\b\b\b\b\b\b\b\b\b\b\b\b\b\b\b\b\b\b\b\b\b\b\b\b\b\b\b\b\b\b\b\b\b\b\b\b\b\b\b\b\b\b\b\b\b\b\b\b\b\b\b\b\b\b\b\b\b\b\b\r  9/146 [>.............................] - ETA: 1:12:31 - loss: 0.7095 - balanced_accuracy: 0.7438"
          ]
        },
        {
          "output_type": "stream",
          "name": "stderr",
          "text": [
            "WARNING:tensorflow:Gradients do not exist for variables ['tf_bert_model/bert/pooler/dense/kernel:0', 'tf_bert_model/bert/pooler/dense/bias:0'] when minimizing the loss. If you're using `model.compile()`, did you forget to provide a `loss` argument?\n"
          ]
        },
        {
          "output_type": "stream",
          "name": "stdout",
          "text": [
            "\b\b\b\b\b\b\b\b\b\b\b\b\b\b\b\b\b\b\b\b\b\b\b\b\b\b\b\b\b\b\b\b\b\b\b\b\b\b\b\b\b\b\b\b\b\b\b\b\b\b\b\b\b\b\b\b\b\b\b\b\b\b\b\b\b\b\b\b\b\b\b\b\b\b\b\b\b\b\b\b\b\b\b\b\b\b\b\b\b\b\b\b\b\b\b\b\b\b\r 10/146 [=>............................] - ETA: 1:11:49 - loss: 0.7018 - balanced_accuracy: 0.7444"
          ]
        },
        {
          "output_type": "stream",
          "name": "stderr",
          "text": [
            "WARNING:tensorflow:Gradients do not exist for variables ['tf_bert_model/bert/pooler/dense/kernel:0', 'tf_bert_model/bert/pooler/dense/bias:0'] when minimizing the loss. If you're using `model.compile()`, did you forget to provide a `loss` argument?\n"
          ]
        },
        {
          "output_type": "stream",
          "name": "stdout",
          "text": [
            "\b\b\b\b\b\b\b\b\b\b\b\b\b\b\b\b\b\b\b\b\b\b\b\b\b\b\b\b\b\b\b\b\b\b\b\b\b\b\b\b\b\b\b\b\b\b\b\b\b\b\b\b\b\b\b\b\b\b\b\b\b\b\b\b\b\b\b\b\b\b\b\b\b\b\b\b\b\b\b\b\b\b\b\b\b\b\b\b\b\b\b\b\b\b\b\b\b\b\r 11/146 [=>............................] - ETA: 1:11:13 - loss: 0.6866 - balanced_accuracy: 0.7500"
          ]
        },
        {
          "output_type": "stream",
          "name": "stderr",
          "text": [
            "WARNING:tensorflow:Gradients do not exist for variables ['tf_bert_model/bert/pooler/dense/kernel:0', 'tf_bert_model/bert/pooler/dense/bias:0'] when minimizing the loss. If you're using `model.compile()`, did you forget to provide a `loss` argument?\n"
          ]
        },
        {
          "output_type": "stream",
          "name": "stdout",
          "text": [
            "\b\b\b\b\b\b\b\b\b\b\b\b\b\b\b\b\b\b\b\b\b\b\b\b\b\b\b\b\b\b\b\b\b\b\b\b\b\b\b\b\b\b\b\b\b\b\b\b\b\b\b\b\b\b\b\b\b\b\b\b\b\b\b\b\b\b\b\b\b\b\b\b\b\b\b\b\b\b\b\b\b\b\b\b\b\b\b\b\b\b\b\b\b\b\b\b\b\b\r 12/146 [=>............................] - ETA: 1:10:45 - loss: 0.6911 - balanced_accuracy: 0.7477"
          ]
        },
        {
          "output_type": "stream",
          "name": "stderr",
          "text": [
            "WARNING:tensorflow:Gradients do not exist for variables ['tf_bert_model/bert/pooler/dense/kernel:0', 'tf_bert_model/bert/pooler/dense/bias:0'] when minimizing the loss. If you're using `model.compile()`, did you forget to provide a `loss` argument?\n"
          ]
        },
        {
          "output_type": "stream",
          "name": "stdout",
          "text": [
            "\b\b\b\b\b\b\b\b\b\b\b\b\b\b\b\b\b\b\b\b\b\b\b\b\b\b\b\b\b\b\b\b\b\b\b\b\b\b\b\b\b\b\b\b\b\b\b\b\b\b\b\b\b\b\b\b\b\b\b\b\b\b\b\b\b\b\b\b\b\b\b\b\b\b\b\b\b\b\b\b\b\b\b\b\b\b\b\b\b\b\b\b\b\b\b\b\b\b\r 13/146 [=>............................] - ETA: 1:10:01 - loss: 0.6856 - balanced_accuracy: 0.7521"
          ]
        },
        {
          "output_type": "stream",
          "name": "stderr",
          "text": [
            "WARNING:tensorflow:Gradients do not exist for variables ['tf_bert_model/bert/pooler/dense/kernel:0', 'tf_bert_model/bert/pooler/dense/bias:0'] when minimizing the loss. If you're using `model.compile()`, did you forget to provide a `loss` argument?\n"
          ]
        },
        {
          "output_type": "stream",
          "name": "stdout",
          "text": [
            "\b\b\b\b\b\b\b\b\b\b\b\b\b\b\b\b\b\b\b\b\b\b\b\b\b\b\b\b\b\b\b\b\b\b\b\b\b\b\b\b\b\b\b\b\b\b\b\b\b\b\b\b\b\b\b\b\b\b\b\b\b\b\b\b\b\b\b\b\b\b\b\b\b\b\b\b\b\b\b\b\b\b\b\b\b\b\b\b\b\b\b\b\b\b\b\b\b\b\r 14/146 [=>............................] - ETA: 1:09:38 - loss: 0.6814 - balanced_accuracy: 0.7480"
          ]
        },
        {
          "output_type": "stream",
          "name": "stderr",
          "text": [
            "WARNING:tensorflow:Gradients do not exist for variables ['tf_bert_model/bert/pooler/dense/kernel:0', 'tf_bert_model/bert/pooler/dense/bias:0'] when minimizing the loss. If you're using `model.compile()`, did you forget to provide a `loss` argument?\n"
          ]
        },
        {
          "output_type": "stream",
          "name": "stdout",
          "text": [
            "\b\b\b\b\b\b\b\b\b\b\b\b\b\b\b\b\b\b\b\b\b\b\b\b\b\b\b\b\b\b\b\b\b\b\b\b\b\b\b\b\b\b\b\b\b\b\b\b\b\b\b\b\b\b\b\b\b\b\b\b\b\b\b\b\b\b\b\b\b\b\b\b\b\b\b\b\b\b\b\b\b\b\b\b\b\b\b\b\b\b\b\b\b\b\b\b\b\b\r 15/146 [==>...........................] - ETA: 1:09:05 - loss: 0.6772 - balanced_accuracy: 0.7463"
          ]
        },
        {
          "output_type": "stream",
          "name": "stderr",
          "text": [
            "WARNING:tensorflow:Gradients do not exist for variables ['tf_bert_model/bert/pooler/dense/kernel:0', 'tf_bert_model/bert/pooler/dense/bias:0'] when minimizing the loss. If you're using `model.compile()`, did you forget to provide a `loss` argument?\n"
          ]
        },
        {
          "output_type": "stream",
          "name": "stdout",
          "text": [
            "\b\b\b\b\b\b\b\b\b\b\b\b\b\b\b\b\b\b\b\b\b\b\b\b\b\b\b\b\b\b\b\b\b\b\b\b\b\b\b\b\b\b\b\b\b\b\b\b\b\b\b\b\b\b\b\b\b\b\b\b\b\b\b\b\b\b\b\b\b\b\b\b\b\b\b\b\b\b\b\b\b\b\b\b\b\b\b\b\b\b\b\b\b\b\b\b\b\b\r 16/146 [==>...........................] - ETA: 1:08:36 - loss: 0.6753 - balanced_accuracy: 0.7500"
          ]
        },
        {
          "output_type": "stream",
          "name": "stderr",
          "text": [
            "WARNING:tensorflow:Gradients do not exist for variables ['tf_bert_model/bert/pooler/dense/kernel:0', 'tf_bert_model/bert/pooler/dense/bias:0'] when minimizing the loss. If you're using `model.compile()`, did you forget to provide a `loss` argument?\n"
          ]
        },
        {
          "output_type": "stream",
          "name": "stdout",
          "text": [
            "\b\b\b\b\b\b\b\b\b\b\b\b\b\b\b\b\b\b\b\b\b\b\b\b\b\b\b\b\b\b\b\b\b\b\b\b\b\b\b\b\b\b\b\b\b\b\b\b\b\b\b\b\b\b\b\b\b\b\b\b\b\b\b\b\b\b\b\b\b\b\b\b\b\b\b\b\b\b\b\b\b\b\b\b\b\b\b\b\b\b\b\b\b\b\b\b\b\b\r 17/146 [==>...........................] - ETA: 1:08:03 - loss: 0.6794 - balanced_accuracy: 0.7533"
          ]
        },
        {
          "output_type": "stream",
          "name": "stderr",
          "text": [
            "WARNING:tensorflow:Gradients do not exist for variables ['tf_bert_model/bert/pooler/dense/kernel:0', 'tf_bert_model/bert/pooler/dense/bias:0'] when minimizing the loss. If you're using `model.compile()`, did you forget to provide a `loss` argument?\n"
          ]
        },
        {
          "output_type": "stream",
          "name": "stdout",
          "text": [
            "\b\b\b\b\b\b\b\b\b\b\b\b\b\b\b\b\b\b\b\b\b\b\b\b\b\b\b\b\b\b\b\b\b\b\b\b\b\b\b\b\b\b\b\b\b\b\b\b\b\b\b\b\b\b\b\b\b\b\b\b\b\b\b\b\b\b\b\b\b\b\b\b\b\b\b\b\b\b\b\b\b\b\b\b\b\b\b\b\b\b\b\b\b\b\b\b\b\b\r 18/146 [==>...........................] - ETA: 1:07:30 - loss: 0.6877 - balanced_accuracy: 0.7469"
          ]
        },
        {
          "output_type": "stream",
          "name": "stderr",
          "text": [
            "WARNING:tensorflow:Gradients do not exist for variables ['tf_bert_model/bert/pooler/dense/kernel:0', 'tf_bert_model/bert/pooler/dense/bias:0'] when minimizing the loss. If you're using `model.compile()`, did you forget to provide a `loss` argument?\n"
          ]
        },
        {
          "output_type": "stream",
          "name": "stdout",
          "text": [
            "\b\b\b\b\b\b\b\b\b\b\b\b\b\b\b\b\b\b\b\b\b\b\b\b\b\b\b\b\b\b\b\b\b\b\b\b\b\b\b\b\b\b\b\b\b\b\b\b\b\b\b\b\b\b\b\b\b\b\b\b\b\b\b\b\b\b\b\b\b\b\b\b\b\b\b\b\b\b\b\b\b\b\b\b\b\b\b\b\b\b\b\b\b\b\b\b\b\b\r 19/146 [==>...........................] - ETA: 1:06:56 - loss: 0.6932 - balanced_accuracy: 0.7456"
          ]
        },
        {
          "output_type": "stream",
          "name": "stderr",
          "text": [
            "WARNING:tensorflow:Gradients do not exist for variables ['tf_bert_model/bert/pooler/dense/kernel:0', 'tf_bert_model/bert/pooler/dense/bias:0'] when minimizing the loss. If you're using `model.compile()`, did you forget to provide a `loss` argument?\n"
          ]
        },
        {
          "output_type": "stream",
          "name": "stdout",
          "text": [
            "\b\b\b\b\b\b\b\b\b\b\b\b\b\b\b\b\b\b\b\b\b\b\b\b\b\b\b\b\b\b\b\b\b\b\b\b\b\b\b\b\b\b\b\b\b\b\b\b\b\b\b\b\b\b\b\b\b\b\b\b\b\b\b\b\b\b\b\b\b\b\b\b\b\b\b\b\b\b\b\b\b\b\b\b\b\b\b\b\b\b\b\b\b\b\b\b\b\b\r 20/146 [===>..........................] - ETA: 1:06:31 - loss: 0.6878 - balanced_accuracy: 0.7486"
          ]
        },
        {
          "output_type": "stream",
          "name": "stderr",
          "text": [
            "WARNING:tensorflow:Gradients do not exist for variables ['tf_bert_model/bert/pooler/dense/kernel:0', 'tf_bert_model/bert/pooler/dense/bias:0'] when minimizing the loss. If you're using `model.compile()`, did you forget to provide a `loss` argument?\n"
          ]
        },
        {
          "output_type": "stream",
          "name": "stdout",
          "text": [
            "\b\b\b\b\b\b\b\b\b\b\b\b\b\b\b\b\b\b\b\b\b\b\b\b\b\b\b\b\b\b\b\b\b\b\b\b\b\b\b\b\b\b\b\b\b\b\b\b\b\b\b\b\b\b\b\b\b\b\b\b\b\b\b\b\b\b\b\b\b\b\b\b\b\b\b\b\b\b\b\b\b\b\b\b\b\b\b\b\b\b\b\b\b\b\b\b\b\b\r 21/146 [===>..........................] - ETA: 1:06:01 - loss: 0.6801 - balanced_accuracy: 0.7526"
          ]
        },
        {
          "output_type": "stream",
          "name": "stderr",
          "text": [
            "WARNING:tensorflow:Gradients do not exist for variables ['tf_bert_model/bert/pooler/dense/kernel:0', 'tf_bert_model/bert/pooler/dense/bias:0'] when minimizing the loss. If you're using `model.compile()`, did you forget to provide a `loss` argument?\n"
          ]
        },
        {
          "output_type": "stream",
          "name": "stdout",
          "text": [
            "\b\b\b\b\b\b\b\b\b\b\b\b\b\b\b\b\b\b\b\b\b\b\b\b\b\b\b\b\b\b\b\b\b\b\b\b\b\b\b\b\b\b\b\b\b\b\b\b\b\b\b\b\b\b\b\b\b\b\b\b\b\b\b\b\b\b\b\b\b\b\b\b\b\b\b\b\b\b\b\b\b\b\b\b\b\b\b\b\b\b\b\b\b\b\b\b\b\b\r 22/146 [===>..........................] - ETA: 1:05:25 - loss: 0.6786 - balanced_accuracy: 0.7500"
          ]
        },
        {
          "output_type": "stream",
          "name": "stderr",
          "text": [
            "WARNING:tensorflow:Gradients do not exist for variables ['tf_bert_model/bert/pooler/dense/kernel:0', 'tf_bert_model/bert/pooler/dense/bias:0'] when minimizing the loss. If you're using `model.compile()`, did you forget to provide a `loss` argument?\n"
          ]
        },
        {
          "output_type": "stream",
          "name": "stdout",
          "text": [
            "\b\b\b\b\b\b\b\b\b\b\b\b\b\b\b\b\b\b\b\b\b\b\b\b\b\b\b\b\b\b\b\b\b\b\b\b\b\b\b\b\b\b\b\b\b\b\b\b\b\b\b\b\b\b\b\b\b\b\b\b\b\b\b\b\b\b\b\b\b\b\b\b\b\b\b\b\b\b\b\b\b\b\b\b\b\b\b\b\b\b\b\b\b\b\b\b\b\b\r 23/146 [===>..........................] - ETA: 1:04:54 - loss: 0.6744 - balanced_accuracy: 0.7512"
          ]
        },
        {
          "output_type": "stream",
          "name": "stderr",
          "text": [
            "WARNING:tensorflow:Gradients do not exist for variables ['tf_bert_model/bert/pooler/dense/kernel:0', 'tf_bert_model/bert/pooler/dense/bias:0'] when minimizing the loss. If you're using `model.compile()`, did you forget to provide a `loss` argument?\n"
          ]
        },
        {
          "output_type": "stream",
          "name": "stdout",
          "text": [
            "\b\b\b\b\b\b\b\b\b\b\b\b\b\b\b\b\b\b\b\b\b\b\b\b\b\b\b\b\b\b\b\b\b\b\b\b\b\b\b\b\b\b\b\b\b\b\b\b\b\b\b\b\b\b\b\b\b\b\b\b\b\b\b\b\b\b\b\b\b\b\b\b\b\b\b\b\b\b\b\b\b\b\b\b\b\b\b\b\b\b\b\b\b\b\b\b\b\b\r 24/146 [===>..........................] - ETA: 1:04:20 - loss: 0.6721 - balanced_accuracy: 0.7535"
          ]
        },
        {
          "output_type": "stream",
          "name": "stderr",
          "text": [
            "WARNING:tensorflow:Gradients do not exist for variables ['tf_bert_model/bert/pooler/dense/kernel:0', 'tf_bert_model/bert/pooler/dense/bias:0'] when minimizing the loss. If you're using `model.compile()`, did you forget to provide a `loss` argument?\n"
          ]
        },
        {
          "output_type": "stream",
          "name": "stdout",
          "text": [
            "\b\b\b\b\b\b\b\b\b\b\b\b\b\b\b\b\b\b\b\b\b\b\b\b\b\b\b\b\b\b\b\b\b\b\b\b\b\b\b\b\b\b\b\b\b\b\b\b\b\b\b\b\b\b\b\b\b\b\b\b\b\b\b\b\b\b\b\b\b\b\b\b\b\b\b\b\b\b\b\b\b\b\b\b\b\b\b\b\b\b\b\b\b\b\b\b\b\b\r 25/146 [====>.........................] - ETA: 1:03:56 - loss: 0.6716 - balanced_accuracy: 0.7544"
          ]
        },
        {
          "output_type": "stream",
          "name": "stderr",
          "text": [
            "WARNING:tensorflow:Gradients do not exist for variables ['tf_bert_model/bert/pooler/dense/kernel:0', 'tf_bert_model/bert/pooler/dense/bias:0'] when minimizing the loss. If you're using `model.compile()`, did you forget to provide a `loss` argument?\n"
          ]
        },
        {
          "output_type": "stream",
          "name": "stdout",
          "text": [
            "\b\b\b\b\b\b\b\b\b\b\b\b\b\b\b\b\b\b\b\b\b\b\b\b\b\b\b\b\b\b\b\b\b\b\b\b\b\b\b\b\b\b\b\b\b\b\b\b\b\b\b\b\b\b\b\b\b\b\b\b\b\b\b\b\b\b\b\b\b\b\b\b\b\b\b\b\b\b\b\b\b\b\b\b\b\b\b\b\b\b\b\b\b\b\b\b\b\b\r 26/146 [====>.........................] - ETA: 1:03:24 - loss: 0.6639 - balanced_accuracy: 0.7564"
          ]
        },
        {
          "output_type": "stream",
          "name": "stderr",
          "text": [
            "WARNING:tensorflow:Gradients do not exist for variables ['tf_bert_model/bert/pooler/dense/kernel:0', 'tf_bert_model/bert/pooler/dense/bias:0'] when minimizing the loss. If you're using `model.compile()`, did you forget to provide a `loss` argument?\n"
          ]
        },
        {
          "output_type": "stream",
          "name": "stdout",
          "text": [
            "\b\b\b\b\b\b\b\b\b\b\b\b\b\b\b\b\b\b\b\b\b\b\b\b\b\b\b\b\b\b\b\b\b\b\b\b\b\b\b\b\b\b\b\b\b\b\b\b\b\b\b\b\b\b\b\b\b\b\b\b\b\b\b\b\b\b\b\b\b\b\b\b\b\b\b\b\b\b\b\b\b\b\b\b\b\b\b\b\b\b\b\b\b\b\b\b\b\b\r 27/146 [====>.........................] - ETA: 1:02:55 - loss: 0.6674 - balanced_accuracy: 0.7562"
          ]
        },
        {
          "output_type": "stream",
          "name": "stderr",
          "text": [
            "WARNING:tensorflow:Gradients do not exist for variables ['tf_bert_model/bert/pooler/dense/kernel:0', 'tf_bert_model/bert/pooler/dense/bias:0'] when minimizing the loss. If you're using `model.compile()`, did you forget to provide a `loss` argument?\n"
          ]
        },
        {
          "output_type": "stream",
          "name": "stdout",
          "text": [
            "\b\b\b\b\b\b\b\b\b\b\b\b\b\b\b\b\b\b\b\b\b\b\b\b\b\b\b\b\b\b\b\b\b\b\b\b\b\b\b\b\b\b\b\b\b\b\b\b\b\b\b\b\b\b\b\b\b\b\b\b\b\b\b\b\b\b\b\b\b\b\b\b\b\b\b\b\b\b\b\b\b\b\b\b\b\b\b\b\b\b\b\b\b\b\b\b\b\b\r 28/146 [====>.........................] - ETA: 1:02:25 - loss: 0.6586 - balanced_accuracy: 0.7609"
          ]
        },
        {
          "output_type": "stream",
          "name": "stderr",
          "text": [
            "WARNING:tensorflow:Gradients do not exist for variables ['tf_bert_model/bert/pooler/dense/kernel:0', 'tf_bert_model/bert/pooler/dense/bias:0'] when minimizing the loss. If you're using `model.compile()`, did you forget to provide a `loss` argument?\n"
          ]
        },
        {
          "output_type": "stream",
          "name": "stdout",
          "text": [
            "\b\b\b\b\b\b\b\b\b\b\b\b\b\b\b\b\b\b\b\b\b\b\b\b\b\b\b\b\b\b\b\b\b\b\b\b\b\b\b\b\b\b\b\b\b\b\b\b\b\b\b\b\b\b\b\b\b\b\b\b\b\b\b\b\b\b\b\b\b\b\b\b\b\b\b\b\b\b\b\b\b\b\b\b\b\b\b\b\b\b\b\b\b\b\b\b\b\b\r 29/146 [====>.........................] - ETA: 1:01:58 - loss: 0.6645 - balanced_accuracy: 0.7586"
          ]
        },
        {
          "output_type": "stream",
          "name": "stderr",
          "text": [
            "WARNING:tensorflow:Gradients do not exist for variables ['tf_bert_model/bert/pooler/dense/kernel:0', 'tf_bert_model/bert/pooler/dense/bias:0'] when minimizing the loss. If you're using `model.compile()`, did you forget to provide a `loss` argument?\n"
          ]
        },
        {
          "output_type": "stream",
          "name": "stdout",
          "text": [
            "\b\b\b\b\b\b\b\b\b\b\b\b\b\b\b\b\b\b\b\b\b\b\b\b\b\b\b\b\b\b\b\b\b\b\b\b\b\b\b\b\b\b\b\b\b\b\b\b\b\b\b\b\b\b\b\b\b\b\b\b\b\b\b\b\b\b\b\b\b\b\b\b\b\b\b\b\b\b\b\b\b\b\b\b\b\b\b\b\b\b\b\b\b\b\b\b\b\b\r 30/146 [=====>........................] - ETA: 1:01:23 - loss: 0.6577 - balanced_accuracy: 0.7620"
          ]
        },
        {
          "output_type": "stream",
          "name": "stderr",
          "text": [
            "WARNING:tensorflow:Gradients do not exist for variables ['tf_bert_model/bert/pooler/dense/kernel:0', 'tf_bert_model/bert/pooler/dense/bias:0'] when minimizing the loss. If you're using `model.compile()`, did you forget to provide a `loss` argument?\n"
          ]
        },
        {
          "output_type": "stream",
          "name": "stdout",
          "text": [
            "\b\b\b\b\b\b\b\b\b\b\b\b\b\b\b\b\b\b\b\b\b\b\b\b\b\b\b\b\b\b\b\b\b\b\b\b\b\b\b\b\b\b\b\b\b\b\b\b\b\b\b\b\b\b\b\b\b\b\b\b\b\b\b\b\b\b\b\b\b\b\b\b\b\b\b\b\b\b\b\b\b\b\b\b\b\b\b\b\b\b\b\b\b\b\b\b\b\b\r 31/146 [=====>........................] - ETA: 1:00:50 - loss: 0.6550 - balanced_accuracy: 0.7643"
          ]
        },
        {
          "output_type": "stream",
          "name": "stderr",
          "text": [
            "WARNING:tensorflow:Gradients do not exist for variables ['tf_bert_model/bert/pooler/dense/kernel:0', 'tf_bert_model/bert/pooler/dense/bias:0'] when minimizing the loss. If you're using `model.compile()`, did you forget to provide a `loss` argument?\n"
          ]
        },
        {
          "output_type": "stream",
          "name": "stdout",
          "text": [
            "\b\b\b\b\b\b\b\b\b\b\b\b\b\b\b\b\b\b\b\b\b\b\b\b\b\b\b\b\b\b\b\b\b\b\b\b\b\b\b\b\b\b\b\b\b\b\b\b\b\b\b\b\b\b\b\b\b\b\b\b\b\b\b\b\b\b\b\b\b\b\b\b\b\b\b\b\b\b\b\b\b\b\b\b\b\b\b\b\b\b\b\b\b\b\b\b\b\b\r 32/146 [=====>........................] - ETA: 1:00:17 - loss: 0.6602 - balanced_accuracy: 0.7630"
          ]
        },
        {
          "output_type": "stream",
          "name": "stderr",
          "text": [
            "WARNING:tensorflow:Gradients do not exist for variables ['tf_bert_model/bert/pooler/dense/kernel:0', 'tf_bert_model/bert/pooler/dense/bias:0'] when minimizing the loss. If you're using `model.compile()`, did you forget to provide a `loss` argument?\n"
          ]
        },
        {
          "output_type": "stream",
          "name": "stdout",
          "text": [
            "\b\b\b\b\b\b\b\b\b\b\b\b\b\b\b\b\b\b\b\b\b\b\b\b\b\b\b\b\b\b\b\b\b\b\b\b\b\b\b\b\b\b\b\b\b\b\b\b\b\b\b\b\b\b\b\b\b\b\b\b\b\b\b\b\b\b\b\b\b\b\b\b\b\b\b\b\b\b\b\b\b\b\b\b\b\b\b\b\b\b\b\b\b\b\b\b\b\b\r 33/146 [=====>........................] - ETA: 59:52 - loss: 0.6629 - balanced_accuracy: 0.7635  "
          ]
        },
        {
          "output_type": "stream",
          "name": "stderr",
          "text": [
            "WARNING:tensorflow:Gradients do not exist for variables ['tf_bert_model/bert/pooler/dense/kernel:0', 'tf_bert_model/bert/pooler/dense/bias:0'] when minimizing the loss. If you're using `model.compile()`, did you forget to provide a `loss` argument?\n"
          ]
        },
        {
          "output_type": "stream",
          "name": "stdout",
          "text": [
            "\b\b\b\b\b\b\b\b\b\b\b\b\b\b\b\b\b\b\b\b\b\b\b\b\b\b\b\b\b\b\b\b\b\b\b\b\b\b\b\b\b\b\b\b\b\b\b\b\b\b\b\b\b\b\b\b\b\b\b\b\b\b\b\b\b\b\b\b\b\b\b\b\b\b\b\b\b\b\b\b\b\b\b\b\b\b\b\b\b\b\b\b\b\b\b\b\r 34/146 [=====>........................] - ETA: 59:21 - loss: 0.6571 - balanced_accuracy: 0.7663"
          ]
        },
        {
          "output_type": "stream",
          "name": "stderr",
          "text": [
            "WARNING:tensorflow:Gradients do not exist for variables ['tf_bert_model/bert/pooler/dense/kernel:0', 'tf_bert_model/bert/pooler/dense/bias:0'] when minimizing the loss. If you're using `model.compile()`, did you forget to provide a `loss` argument?\n"
          ]
        },
        {
          "output_type": "stream",
          "name": "stdout",
          "text": [
            "\b\b\b\b\b\b\b\b\b\b\b\b\b\b\b\b\b\b\b\b\b\b\b\b\b\b\b\b\b\b\b\b\b\b\b\b\b\b\b\b\b\b\b\b\b\b\b\b\b\b\b\b\b\b\b\b\b\b\b\b\b\b\b\b\b\b\b\b\b\b\b\b\b\b\b\b\b\b\b\b\b\b\b\b\b\b\b\b\b\b\b\b\b\b\b\b\r 35/146 [======>.......................] - ETA: 58:50 - loss: 0.6559 - balanced_accuracy: 0.7659"
          ]
        },
        {
          "output_type": "stream",
          "name": "stderr",
          "text": [
            "WARNING:tensorflow:Gradients do not exist for variables ['tf_bert_model/bert/pooler/dense/kernel:0', 'tf_bert_model/bert/pooler/dense/bias:0'] when minimizing the loss. If you're using `model.compile()`, did you forget to provide a `loss` argument?\n"
          ]
        },
        {
          "output_type": "stream",
          "name": "stdout",
          "text": [
            "\b\b\b\b\b\b\b\b\b\b\b\b\b\b\b\b\b\b\b\b\b\b\b\b\b\b\b\b\b\b\b\b\b\b\b\b\b\b\b\b\b\b\b\b\b\b\b\b\b\b\b\b\b\b\b\b\b\b\b\b\b\b\b\b\b\b\b\b\b\b\b\b\b\b\b\b\b\b\b\b\b\b\b\b\b\b\b\b\b\b\b\b\b\b\b\b\r 36/146 [======>.......................] - ETA: 58:18 - loss: 0.6458 - balanced_accuracy: 0.7716"
          ]
        },
        {
          "output_type": "stream",
          "name": "stderr",
          "text": [
            "WARNING:tensorflow:Gradients do not exist for variables ['tf_bert_model/bert/pooler/dense/kernel:0', 'tf_bert_model/bert/pooler/dense/bias:0'] when minimizing the loss. If you're using `model.compile()`, did you forget to provide a `loss` argument?\n"
          ]
        },
        {
          "output_type": "stream",
          "name": "stdout",
          "text": [
            "\b\b\b\b\b\b\b\b\b\b\b\b\b\b\b\b\b\b\b\b\b\b\b\b\b\b\b\b\b\b\b\b\b\b\b\b\b\b\b\b\b\b\b\b\b\b\b\b\b\b\b\b\b\b\b\b\b\b\b\b\b\b\b\b\b\b\b\b\b\b\b\b\b\b\b\b\b\b\b\b\b\b\b\b\b\b\b\b\b\b\b\b\b\b\b\b\r 37/146 [======>.......................] - ETA: 57:47 - loss: 0.6526 - balanced_accuracy: 0.7703"
          ]
        },
        {
          "output_type": "stream",
          "name": "stderr",
          "text": [
            "WARNING:tensorflow:Gradients do not exist for variables ['tf_bert_model/bert/pooler/dense/kernel:0', 'tf_bert_model/bert/pooler/dense/bias:0'] when minimizing the loss. If you're using `model.compile()`, did you forget to provide a `loss` argument?\n"
          ]
        },
        {
          "output_type": "stream",
          "name": "stdout",
          "text": [
            "\b\b\b\b\b\b\b\b\b\b\b\b\b\b\b\b\b\b\b\b\b\b\b\b\b\b\b\b\b\b\b\b\b\b\b\b\b\b\b\b\b\b\b\b\b\b\b\b\b\b\b\b\b\b\b\b\b\b\b\b\b\b\b\b\b\b\b\b\b\b\b\b\b\b\b\b\b\b\b\b\b\b\b\b\b\b\b\b\b\b\b\b\b\b\b\b\r 38/146 [======>.......................] - ETA: 57:19 - loss: 0.6498 - balanced_accuracy: 0.7719"
          ]
        },
        {
          "output_type": "stream",
          "name": "stderr",
          "text": [
            "WARNING:tensorflow:Gradients do not exist for variables ['tf_bert_model/bert/pooler/dense/kernel:0', 'tf_bert_model/bert/pooler/dense/bias:0'] when minimizing the loss. If you're using `model.compile()`, did you forget to provide a `loss` argument?\n"
          ]
        },
        {
          "output_type": "stream",
          "name": "stdout",
          "text": [
            "\b\b\b\b\b\b\b\b\b\b\b\b\b\b\b\b\b\b\b\b\b\b\b\b\b\b\b\b\b\b\b\b\b\b\b\b\b\b\b\b\b\b\b\b\b\b\b\b\b\b\b\b\b\b\b\b\b\b\b\b\b\b\b\b\b\b\b\b\b\b\b\b\b\b\b\b\b\b\b\b\b\b\b\b\b\b\b\b\b\b\b\b\b\b\b\b\r 39/146 [=======>......................] - ETA: 56:45 - loss: 0.6434 - balanced_accuracy: 0.7756"
          ]
        },
        {
          "output_type": "stream",
          "name": "stderr",
          "text": [
            "WARNING:tensorflow:Gradients do not exist for variables ['tf_bert_model/bert/pooler/dense/kernel:0', 'tf_bert_model/bert/pooler/dense/bias:0'] when minimizing the loss. If you're using `model.compile()`, did you forget to provide a `loss` argument?\n"
          ]
        },
        {
          "output_type": "stream",
          "name": "stdout",
          "text": [
            "\b\b\b\b\b\b\b\b\b\b\b\b\b\b\b\b\b\b\b\b\b\b\b\b\b\b\b\b\b\b\b\b\b\b\b\b\b\b\b\b\b\b\b\b\b\b\b\b\b\b\b\b\b\b\b\b\b\b\b\b\b\b\b\b\b\b\b\b\b\b\b\b\b\b\b\b\b\b\b\b\b\b\b\b\b\b\b\b\b\b\b\b\b\b\b\b\r 40/146 [=======>......................] - ETA: 56:11 - loss: 0.6455 - balanced_accuracy: 0.7750"
          ]
        },
        {
          "output_type": "stream",
          "name": "stderr",
          "text": [
            "WARNING:tensorflow:Gradients do not exist for variables ['tf_bert_model/bert/pooler/dense/kernel:0', 'tf_bert_model/bert/pooler/dense/bias:0'] when minimizing the loss. If you're using `model.compile()`, did you forget to provide a `loss` argument?\n"
          ]
        },
        {
          "output_type": "stream",
          "name": "stdout",
          "text": [
            "\b\b\b\b\b\b\b\b\b\b\b\b\b\b\b\b\b\b\b\b\b\b\b\b\b\b\b\b\b\b\b\b\b\b\b\b\b\b\b\b\b\b\b\b\b\b\b\b\b\b\b\b\b\b\b\b\b\b\b\b\b\b\b\b\b\b\b\b\b\b\b\b\b\b\b\b\b\b\b\b\b\b\b\b\b\b\b\b\b\b\b\b\b\b\b\b\r 41/146 [=======>......................] - ETA: 55:39 - loss: 0.6494 - balanced_accuracy: 0.7730"
          ]
        },
        {
          "output_type": "stream",
          "name": "stderr",
          "text": [
            "WARNING:tensorflow:Gradients do not exist for variables ['tf_bert_model/bert/pooler/dense/kernel:0', 'tf_bert_model/bert/pooler/dense/bias:0'] when minimizing the loss. If you're using `model.compile()`, did you forget to provide a `loss` argument?\n"
          ]
        },
        {
          "output_type": "stream",
          "name": "stdout",
          "text": [
            "\b\b\b\b\b\b\b\b\b\b\b\b\b\b\b\b\b\b\b\b\b\b\b\b\b\b\b\b\b\b\b\b\b\b\b\b\b\b\b\b\b\b\b\b\b\b\b\b\b\b\b\b\b\b\b\b\b\b\b\b\b\b\b\b\b\b\b\b\b\b\b\b\b\b\b\b\b\b\b\b\b\b\b\b\b\b\b\b\b\b\b\b\b\b\b\b\r 42/146 [=======>......................] - ETA: 55:07 - loss: 0.6542 - balanced_accuracy: 0.7725"
          ]
        },
        {
          "output_type": "stream",
          "name": "stderr",
          "text": [
            "WARNING:tensorflow:Gradients do not exist for variables ['tf_bert_model/bert/pooler/dense/kernel:0', 'tf_bert_model/bert/pooler/dense/bias:0'] when minimizing the loss. If you're using `model.compile()`, did you forget to provide a `loss` argument?\n"
          ]
        },
        {
          "output_type": "stream",
          "name": "stdout",
          "text": [
            "\b\b\b\b\b\b\b\b\b\b\b\b\b\b\b\b\b\b\b\b\b\b\b\b\b\b\b\b\b\b\b\b\b\b\b\b\b\b\b\b\b\b\b\b\b\b\b\b\b\b\b\b\b\b\b\b\b\b\b\b\b\b\b\b\b\b\b\b\b\b\b\b\b\b\b\b\b\b\b\b\b\b\b\b\b\b\b\b\b\b\b\b\b\b\b\b\r 43/146 [=======>......................] - ETA: 54:34 - loss: 0.6643 - balanced_accuracy: 0.7674"
          ]
        },
        {
          "output_type": "stream",
          "name": "stderr",
          "text": [
            "WARNING:tensorflow:Gradients do not exist for variables ['tf_bert_model/bert/pooler/dense/kernel:0', 'tf_bert_model/bert/pooler/dense/bias:0'] when minimizing the loss. If you're using `model.compile()`, did you forget to provide a `loss` argument?\n"
          ]
        },
        {
          "output_type": "stream",
          "name": "stdout",
          "text": [
            "\b\b\b\b\b\b\b\b\b\b\b\b\b\b\b\b\b\b\b\b\b\b\b\b\b\b\b\b\b\b\b\b\b\b\b\b\b\b\b\b\b\b\b\b\b\b\b\b\b\b\b\b\b\b\b\b\b\b\b\b\b\b\b\b\b\b\b\b\b\b\b\b\b\b\b\b\b\b\b\b\b\b\b\b\b\b\b\b\b\b\b\b\b\b\b\b\r 44/146 [========>.....................] - ETA: 54:01 - loss: 0.6607 - balanced_accuracy: 0.7689"
          ]
        },
        {
          "output_type": "stream",
          "name": "stderr",
          "text": [
            "WARNING:tensorflow:Gradients do not exist for variables ['tf_bert_model/bert/pooler/dense/kernel:0', 'tf_bert_model/bert/pooler/dense/bias:0'] when minimizing the loss. If you're using `model.compile()`, did you forget to provide a `loss` argument?\n"
          ]
        },
        {
          "output_type": "stream",
          "name": "stdout",
          "text": [
            "\b\b\b\b\b\b\b\b\b\b\b\b\b\b\b\b\b\b\b\b\b\b\b\b\b\b\b\b\b\b\b\b\b\b\b\b\b\b\b\b\b\b\b\b\b\b\b\b\b\b\b\b\b\b\b\b\b\b\b\b\b\b\b\b\b\b\b\b\b\b\b\b\b\b\b\b\b\b\b\b\b\b\b\b\b\b\b\b\b\b\b\b\b\b\b\b\r 45/146 [========>.....................] - ETA: 53:29 - loss: 0.6561 - balanced_accuracy: 0.7704"
          ]
        },
        {
          "output_type": "stream",
          "name": "stderr",
          "text": [
            "WARNING:tensorflow:Gradients do not exist for variables ['tf_bert_model/bert/pooler/dense/kernel:0', 'tf_bert_model/bert/pooler/dense/bias:0'] when minimizing the loss. If you're using `model.compile()`, did you forget to provide a `loss` argument?\n"
          ]
        },
        {
          "output_type": "stream",
          "name": "stdout",
          "text": [
            "\b\b\b\b\b\b\b\b\b\b\b\b\b\b\b\b\b\b\b\b\b\b\b\b\b\b\b\b\b\b\b\b\b\b\b\b\b\b\b\b\b\b\b\b\b\b\b\b\b\b\b\b\b\b\b\b\b\b\b\b\b\b\b\b\b\b\b\b\b\b\b\b\b\b\b\b\b\b\b\b\b\b\b\b\b\b\b\b\b\b\b\b\b\b\b\b\r 46/146 [========>.....................] - ETA: 53:00 - loss: 0.6601 - balanced_accuracy: 0.7669"
          ]
        },
        {
          "output_type": "stream",
          "name": "stderr",
          "text": [
            "WARNING:tensorflow:Gradients do not exist for variables ['tf_bert_model/bert/pooler/dense/kernel:0', 'tf_bert_model/bert/pooler/dense/bias:0'] when minimizing the loss. If you're using `model.compile()`, did you forget to provide a `loss` argument?\n"
          ]
        },
        {
          "output_type": "stream",
          "name": "stdout",
          "text": [
            "\b\b\b\b\b\b\b\b\b\b\b\b\b\b\b\b\b\b\b\b\b\b\b\b\b\b\b\b\b\b\b\b\b\b\b\b\b\b\b\b\b\b\b\b\b\b\b\b\b\b\b\b\b\b\b\b\b\b\b\b\b\b\b\b\b\b\b\b\b\b\b\b\b\b\b\b\b\b\b\b\b\b\b\b\b\b\b\b\b\b\b\b\b\b\b\b\r 47/146 [========>.....................] - ETA: 52:26 - loss: 0.6590 - balanced_accuracy: 0.7671"
          ]
        },
        {
          "output_type": "stream",
          "name": "stderr",
          "text": [
            "WARNING:tensorflow:Gradients do not exist for variables ['tf_bert_model/bert/pooler/dense/kernel:0', 'tf_bert_model/bert/pooler/dense/bias:0'] when minimizing the loss. If you're using `model.compile()`, did you forget to provide a `loss` argument?\n"
          ]
        },
        {
          "output_type": "stream",
          "name": "stdout",
          "text": [
            "\b\b\b\b\b\b\b\b\b\b\b\b\b\b\b\b\b\b\b\b\b\b\b\b\b\b\b\b\b\b\b\b\b\b\b\b\b\b\b\b\b\b\b\b\b\b\b\b\b\b\b\b\b\b\b\b\b\b\b\b\b\b\b\b\b\b\b\b\b\b\b\b\b\b\b\b\b\b\b\b\b\b\b\b\b\b\b\b\b\b\b\b\b\b\b\b\r 48/146 [========>.....................] - ETA: 51:54 - loss: 0.6579 - balanced_accuracy: 0.7691"
          ]
        },
        {
          "output_type": "stream",
          "name": "stderr",
          "text": [
            "WARNING:tensorflow:Gradients do not exist for variables ['tf_bert_model/bert/pooler/dense/kernel:0', 'tf_bert_model/bert/pooler/dense/bias:0'] when minimizing the loss. If you're using `model.compile()`, did you forget to provide a `loss` argument?\n"
          ]
        },
        {
          "output_type": "stream",
          "name": "stdout",
          "text": [
            "\b\b\b\b\b\b\b\b\b\b\b\b\b\b\b\b\b\b\b\b\b\b\b\b\b\b\b\b\b\b\b\b\b\b\b\b\b\b\b\b\b\b\b\b\b\b\b\b\b\b\b\b\b\b\b\b\b\b\b\b\b\b\b\b\b\b\b\b\b\b\b\b\b\b\b\b\b\b\b\b\b\b\b\b\b\b\b\b\b\b\b\b\b\b\b\b\r 49/146 [=========>....................] - ETA: 51:24 - loss: 0.6595 - balanced_accuracy: 0.7676"
          ]
        },
        {
          "output_type": "stream",
          "name": "stderr",
          "text": [
            "WARNING:tensorflow:Gradients do not exist for variables ['tf_bert_model/bert/pooler/dense/kernel:0', 'tf_bert_model/bert/pooler/dense/bias:0'] when minimizing the loss. If you're using `model.compile()`, did you forget to provide a `loss` argument?\n"
          ]
        },
        {
          "output_type": "stream",
          "name": "stdout",
          "text": [
            "\b\b\b\b\b\b\b\b\b\b\b\b\b\b\b\b\b\b\b\b\b\b\b\b\b\b\b\b\b\b\b\b\b\b\b\b\b\b\b\b\b\b\b\b\b\b\b\b\b\b\b\b\b\b\b\b\b\b\b\b\b\b\b\b\b\b\b\b\b\b\b\b\b\b\b\b\b\b\b\b\b\b\b\b\b\b\b\b\b\b\b\b\b\b\b\b\r 50/146 [=========>....................] - ETA: 50:55 - loss: 0.6627 - balanced_accuracy: 0.7650"
          ]
        },
        {
          "output_type": "stream",
          "name": "stderr",
          "text": [
            "WARNING:tensorflow:Gradients do not exist for variables ['tf_bert_model/bert/pooler/dense/kernel:0', 'tf_bert_model/bert/pooler/dense/bias:0'] when minimizing the loss. If you're using `model.compile()`, did you forget to provide a `loss` argument?\n"
          ]
        },
        {
          "output_type": "stream",
          "name": "stdout",
          "text": [
            "\b\b\b\b\b\b\b\b\b\b\b\b\b\b\b\b\b\b\b\b\b\b\b\b\b\b\b\b\b\b\b\b\b\b\b\b\b\b\b\b\b\b\b\b\b\b\b\b\b\b\b\b\b\b\b\b\b\b\b\b\b\b\b\b\b\b\b\b\b\b\b\b\b\b\b\b\b\b\b\b\b\b\b\b\b\b\b\b\b\b\b\b\b\b\b\b\r 51/146 [=========>....................] - ETA: 50:23 - loss: 0.6650 - balanced_accuracy: 0.7636"
          ]
        },
        {
          "output_type": "stream",
          "name": "stderr",
          "text": [
            "WARNING:tensorflow:Gradients do not exist for variables ['tf_bert_model/bert/pooler/dense/kernel:0', 'tf_bert_model/bert/pooler/dense/bias:0'] when minimizing the loss. If you're using `model.compile()`, did you forget to provide a `loss` argument?\n"
          ]
        },
        {
          "output_type": "stream",
          "name": "stdout",
          "text": [
            "\b\b\b\b\b\b\b\b\b\b\b\b\b\b\b\b\b\b\b\b\b\b\b\b\b\b\b\b\b\b\b\b\b\b\b\b\b\b\b\b\b\b\b\b\b\b\b\b\b\b\b\b\b\b\b\b\b\b\b\b\b\b\b\b\b\b\b\b\b\b\b\b\b\b\b\b\b\b\b\b\b\b\b\b\b\b\b\b\b\b\b\b\b\b\b\b\r 52/146 [=========>....................] - ETA: 49:52 - loss: 0.6648 - balanced_accuracy: 0.7634"
          ]
        },
        {
          "output_type": "stream",
          "name": "stderr",
          "text": [
            "WARNING:tensorflow:Gradients do not exist for variables ['tf_bert_model/bert/pooler/dense/kernel:0', 'tf_bert_model/bert/pooler/dense/bias:0'] when minimizing the loss. If you're using `model.compile()`, did you forget to provide a `loss` argument?\n"
          ]
        },
        {
          "output_type": "stream",
          "name": "stdout",
          "text": [
            "\b\b\b\b\b\b\b\b\b\b\b\b\b\b\b\b\b\b\b\b\b\b\b\b\b\b\b\b\b\b\b\b\b\b\b\b\b\b\b\b\b\b\b\b\b\b\b\b\b\b\b\b\b\b\b\b\b\b\b\b\b\b\b\b\b\b\b\b\b\b\b\b\b\b\b\b\b\b\b\b\b\b\b\b\b\b\b\b\b\b\b\b\b\b\b\b\r 53/146 [=========>....................] - ETA: 49:20 - loss: 0.6610 - balanced_accuracy: 0.7647"
          ]
        },
        {
          "output_type": "stream",
          "name": "stderr",
          "text": [
            "WARNING:tensorflow:Gradients do not exist for variables ['tf_bert_model/bert/pooler/dense/kernel:0', 'tf_bert_model/bert/pooler/dense/bias:0'] when minimizing the loss. If you're using `model.compile()`, did you forget to provide a `loss` argument?\n"
          ]
        },
        {
          "output_type": "stream",
          "name": "stdout",
          "text": [
            "\b\b\b\b\b\b\b\b\b\b\b\b\b\b\b\b\b\b\b\b\b\b\b\b\b\b\b\b\b\b\b\b\b\b\b\b\b\b\b\b\b\b\b\b\b\b\b\b\b\b\b\b\b\b\b\b\b\b\b\b\b\b\b\b\b\b\b\b\b\b\b\b\b\b\b\b\b\b\b\b\b\b\b\b\b\b\b\b\b\b\b\b\b\b\b\b\r 54/146 [==========>...................] - ETA: 48:50 - loss: 0.6621 - balanced_accuracy: 0.7649"
          ]
        },
        {
          "output_type": "stream",
          "name": "stderr",
          "text": [
            "WARNING:tensorflow:Gradients do not exist for variables ['tf_bert_model/bert/pooler/dense/kernel:0', 'tf_bert_model/bert/pooler/dense/bias:0'] when minimizing the loss. If you're using `model.compile()`, did you forget to provide a `loss` argument?\n"
          ]
        },
        {
          "output_type": "stream",
          "name": "stdout",
          "text": [
            "\b\b\b\b\b\b\b\b\b\b\b\b\b\b\b\b\b\b\b\b\b\b\b\b\b\b\b\b\b\b\b\b\b\b\b\b\b\b\b\b\b\b\b\b\b\b\b\b\b\b\b\b\b\b\b\b\b\b\b\b\b\b\b\b\b\b\b\b\b\b\b\b\b\b\b\b\b\b\b\b\b\b\b\b\b\b\b\b\b\b\b\b\b\b\b\b\r 55/146 [==========>...................] - ETA: 48:17 - loss: 0.6605 - balanced_accuracy: 0.7662"
          ]
        },
        {
          "output_type": "stream",
          "name": "stderr",
          "text": [
            "WARNING:tensorflow:Gradients do not exist for variables ['tf_bert_model/bert/pooler/dense/kernel:0', 'tf_bert_model/bert/pooler/dense/bias:0'] when minimizing the loss. If you're using `model.compile()`, did you forget to provide a `loss` argument?\n"
          ]
        },
        {
          "output_type": "stream",
          "name": "stdout",
          "text": [
            "\b\b\b\b\b\b\b\b\b\b\b\b\b\b\b\b\b\b\b\b\b\b\b\b\b\b\b\b\b\b\b\b\b\b\b\b\b\b\b\b\b\b\b\b\b\b\b\b\b\b\b\b\b\b\b\b\b\b\b\b\b\b\b\b\b\b\b\b\b\b\b\b\b\b\b\b\b\b\b\b\b\b\b\b\b\b\b\b\b\b\b\b\b\b\b\b\r 56/146 [==========>...................] - ETA: 47:46 - loss: 0.6641 - balanced_accuracy: 0.7669"
          ]
        },
        {
          "output_type": "stream",
          "name": "stderr",
          "text": [
            "WARNING:tensorflow:Gradients do not exist for variables ['tf_bert_model/bert/pooler/dense/kernel:0', 'tf_bert_model/bert/pooler/dense/bias:0'] when minimizing the loss. If you're using `model.compile()`, did you forget to provide a `loss` argument?\n"
          ]
        },
        {
          "output_type": "stream",
          "name": "stdout",
          "text": [
            "\b\b\b\b\b\b\b\b\b\b\b\b\b\b\b\b\b\b\b\b\b\b\b\b\b\b\b\b\b\b\b\b\b\b\b\b\b\b\b\b\b\b\b\b\b\b\b\b\b\b\b\b\b\b\b\b\b\b\b\b\b\b\b\b\b\b\b\b\b\b\b\b\b\b\b\b\b\b\b\b\b\b\b\b\b\b\b\b\b\b\b\b\b\b\b\b\r 57/146 [==========>...................] - ETA: 47:16 - loss: 0.6641 - balanced_accuracy: 0.7666"
          ]
        },
        {
          "output_type": "stream",
          "name": "stderr",
          "text": [
            "WARNING:tensorflow:Gradients do not exist for variables ['tf_bert_model/bert/pooler/dense/kernel:0', 'tf_bert_model/bert/pooler/dense/bias:0'] when minimizing the loss. If you're using `model.compile()`, did you forget to provide a `loss` argument?\n"
          ]
        },
        {
          "output_type": "stream",
          "name": "stdout",
          "text": [
            "\b\b\b\b\b\b\b\b\b\b\b\b\b\b\b\b\b\b\b\b\b\b\b\b\b\b\b\b\b\b\b\b\b\b\b\b\b\b\b\b\b\b\b\b\b\b\b\b\b\b\b\b\b\b\b\b\b\b\b\b\b\b\b\b\b\b\b\b\b\b\b\b\b\b\b\b\b\b\b\b\b\b\b\b\b\b\b\b\b\b\b\b\b\b\b\b\r 58/146 [==========>...................] - ETA: 46:45 - loss: 0.6612 - balanced_accuracy: 0.7672"
          ]
        },
        {
          "output_type": "stream",
          "name": "stderr",
          "text": [
            "WARNING:tensorflow:Gradients do not exist for variables ['tf_bert_model/bert/pooler/dense/kernel:0', 'tf_bert_model/bert/pooler/dense/bias:0'] when minimizing the loss. If you're using `model.compile()`, did you forget to provide a `loss` argument?\n"
          ]
        },
        {
          "output_type": "stream",
          "name": "stdout",
          "text": [
            "\b\b\b\b\b\b\b\b\b\b\b\b\b\b\b\b\b\b\b\b\b\b\b\b\b\b\b\b\b\b\b\b\b\b\b\b\b\b\b\b\b\b\b\b\b\b\b\b\b\b\b\b\b\b\b\b\b\b\b\b\b\b\b\b\b\b\b\b\b\b\b\b\b\b\b\b\b\b\b\b\b\b\b\b\b\b\b\b\b\b\b\b\b\b\b\b\r 59/146 [===========>..................] - ETA: 46:13 - loss: 0.6578 - balanced_accuracy: 0.7693"
          ]
        },
        {
          "output_type": "stream",
          "name": "stderr",
          "text": [
            "WARNING:tensorflow:Gradients do not exist for variables ['tf_bert_model/bert/pooler/dense/kernel:0', 'tf_bert_model/bert/pooler/dense/bias:0'] when minimizing the loss. If you're using `model.compile()`, did you forget to provide a `loss` argument?\n"
          ]
        },
        {
          "output_type": "stream",
          "name": "stdout",
          "text": [
            "\b\b\b\b\b\b\b\b\b\b\b\b\b\b\b\b\b\b\b\b\b\b\b\b\b\b\b\b\b\b\b\b\b\b\b\b\b\b\b\b\b\b\b\b\b\b\b\b\b\b\b\b\b\b\b\b\b\b\b\b\b\b\b\b\b\b\b\b\b\b\b\b\b\b\b\b\b\b\b\b\b\b\b\b\b\b\b\b\b\b\b\b\b\b\b\b\r 60/146 [===========>..................] - ETA: 45:41 - loss: 0.6582 - balanced_accuracy: 0.7685"
          ]
        },
        {
          "output_type": "stream",
          "name": "stderr",
          "text": [
            "WARNING:tensorflow:Gradients do not exist for variables ['tf_bert_model/bert/pooler/dense/kernel:0', 'tf_bert_model/bert/pooler/dense/bias:0'] when minimizing the loss. If you're using `model.compile()`, did you forget to provide a `loss` argument?\n"
          ]
        },
        {
          "output_type": "stream",
          "name": "stdout",
          "text": [
            "\b\b\b\b\b\b\b\b\b\b\b\b\b\b\b\b\b\b\b\b\b\b\b\b\b\b\b\b\b\b\b\b\b\b\b\b\b\b\b\b\b\b\b\b\b\b\b\b\b\b\b\b\b\b\b\b\b\b\b\b\b\b\b\b\b\b\b\b\b\b\b\b\b\b\b\b\b\b\b\b\b\b\b\b\b\b\b\b\b\b\b\b\b\b\b\b\r 61/146 [===========>..................] - ETA: 45:08 - loss: 0.6551 - balanced_accuracy: 0.7700"
          ]
        },
        {
          "output_type": "stream",
          "name": "stderr",
          "text": [
            "WARNING:tensorflow:Gradients do not exist for variables ['tf_bert_model/bert/pooler/dense/kernel:0', 'tf_bert_model/bert/pooler/dense/bias:0'] when minimizing the loss. If you're using `model.compile()`, did you forget to provide a `loss` argument?\n"
          ]
        },
        {
          "output_type": "stream",
          "name": "stdout",
          "text": [
            "\b\b\b\b\b\b\b\b\b\b\b\b\b\b\b\b\b\b\b\b\b\b\b\b\b\b\b\b\b\b\b\b\b\b\b\b\b\b\b\b\b\b\b\b\b\b\b\b\b\b\b\b\b\b\b\b\b\b\b\b\b\b\b\b\b\b\b\b\b\b\b\b\b\b\b\b\b\b\b\b\b\b\b\b\b\b\b\b\b\b\b\b\b\b\b\b\r 62/146 [===========>..................] - ETA: 44:37 - loss: 0.6561 - balanced_accuracy: 0.7697"
          ]
        },
        {
          "output_type": "stream",
          "name": "stderr",
          "text": [
            "WARNING:tensorflow:Gradients do not exist for variables ['tf_bert_model/bert/pooler/dense/kernel:0', 'tf_bert_model/bert/pooler/dense/bias:0'] when minimizing the loss. If you're using `model.compile()`, did you forget to provide a `loss` argument?\n"
          ]
        },
        {
          "output_type": "stream",
          "name": "stdout",
          "text": [
            "\b\b\b\b\b\b\b\b\b\b\b\b\b\b\b\b\b\b\b\b\b\b\b\b\b\b\b\b\b\b\b\b\b\b\b\b\b\b\b\b\b\b\b\b\b\b\b\b\b\b\b\b\b\b\b\b\b\b\b\b\b\b\b\b\b\b\b\b\b\b\b\b\b\b\b\b\b\b\b\b\b\b\b\b\b\b\b\b\b\b\b\b\b\b\b\b\r 63/146 [===========>..................] - ETA: 44:04 - loss: 0.6554 - balanced_accuracy: 0.7694"
          ]
        },
        {
          "output_type": "stream",
          "name": "stderr",
          "text": [
            "WARNING:tensorflow:Gradients do not exist for variables ['tf_bert_model/bert/pooler/dense/kernel:0', 'tf_bert_model/bert/pooler/dense/bias:0'] when minimizing the loss. If you're using `model.compile()`, did you forget to provide a `loss` argument?\n"
          ]
        },
        {
          "output_type": "stream",
          "name": "stdout",
          "text": [
            "\b\b\b\b\b\b\b\b\b\b\b\b\b\b\b\b\b\b\b\b\b\b\b\b\b\b\b\b\b\b\b\b\b\b\b\b\b\b\b\b\b\b\b\b\b\b\b\b\b\b\b\b\b\b\b\b\b\b\b\b\b\b\b\b\b\b\b\b\b\b\b\b\b\b\b\b\b\b\b\b\b\b\b\b\b\b\b\b\b\b\b\b\b\b\b\b\r 64/146 [============>.................] - ETA: 43:32 - loss: 0.6536 - balanced_accuracy: 0.7695"
          ]
        },
        {
          "output_type": "stream",
          "name": "stderr",
          "text": [
            "WARNING:tensorflow:Gradients do not exist for variables ['tf_bert_model/bert/pooler/dense/kernel:0', 'tf_bert_model/bert/pooler/dense/bias:0'] when minimizing the loss. If you're using `model.compile()`, did you forget to provide a `loss` argument?\n"
          ]
        },
        {
          "output_type": "stream",
          "name": "stdout",
          "text": [
            "\b\b\b\b\b\b\b\b\b\b\b\b\b\b\b\b\b\b\b\b\b\b\b\b\b\b\b\b\b\b\b\b\b\b\b\b\b\b\b\b\b\b\b\b\b\b\b\b\b\b\b\b\b\b\b\b\b\b\b\b\b\b\b\b\b\b\b\b\b\b\b\b\b\b\b\b\b\b\b\b\b\b\b\b\b\b\b\b\b\b\b\b\b\b\b\b\r 65/146 [============>.................] - ETA: 43:00 - loss: 0.6526 - balanced_accuracy: 0.7705"
          ]
        },
        {
          "output_type": "stream",
          "name": "stderr",
          "text": [
            "WARNING:tensorflow:Gradients do not exist for variables ['tf_bert_model/bert/pooler/dense/kernel:0', 'tf_bert_model/bert/pooler/dense/bias:0'] when minimizing the loss. If you're using `model.compile()`, did you forget to provide a `loss` argument?\n"
          ]
        },
        {
          "output_type": "stream",
          "name": "stdout",
          "text": [
            "\b\b\b\b\b\b\b\b\b\b\b\b\b\b\b\b\b\b\b\b\b\b\b\b\b\b\b\b\b\b\b\b\b\b\b\b\b\b\b\b\b\b\b\b\b\b\b\b\b\b\b\b\b\b\b\b\b\b\b\b\b\b\b\b\b\b\b\b\b\b\b\b\b\b\b\b\b\b\b\b\b\b\b\b\b\b\b\b\b\b\b\b\b\b\b\b\r 66/146 [============>.................] - ETA: 42:30 - loss: 0.6546 - balanced_accuracy: 0.7694"
          ]
        },
        {
          "output_type": "stream",
          "name": "stderr",
          "text": [
            "WARNING:tensorflow:Gradients do not exist for variables ['tf_bert_model/bert/pooler/dense/kernel:0', 'tf_bert_model/bert/pooler/dense/bias:0'] when minimizing the loss. If you're using `model.compile()`, did you forget to provide a `loss` argument?\n"
          ]
        },
        {
          "output_type": "stream",
          "name": "stdout",
          "text": [
            "\b\b\b\b\b\b\b\b\b\b\b\b\b\b\b\b\b\b\b\b\b\b\b\b\b\b\b\b\b\b\b\b\b\b\b\b\b\b\b\b\b\b\b\b\b\b\b\b\b\b\b\b\b\b\b\b\b\b\b\b\b\b\b\b\b\b\b\b\b\b\b\b\b\b\b\b\b\b\b\b\b\b\b\b\b\b\b\b\b\b\b\b\b\b\b\b\r 67/146 [============>.................] - ETA: 41:57 - loss: 0.6554 - balanced_accuracy: 0.7695"
          ]
        },
        {
          "output_type": "stream",
          "name": "stderr",
          "text": [
            "WARNING:tensorflow:Gradients do not exist for variables ['tf_bert_model/bert/pooler/dense/kernel:0', 'tf_bert_model/bert/pooler/dense/bias:0'] when minimizing the loss. If you're using `model.compile()`, did you forget to provide a `loss` argument?\n"
          ]
        },
        {
          "output_type": "stream",
          "name": "stdout",
          "text": [
            "\b\b\b\b\b\b\b\b\b\b\b\b\b\b\b\b\b\b\b\b\b\b\b\b\b\b\b\b\b\b\b\b\b\b\b\b\b\b\b\b\b\b\b\b\b\b\b\b\b\b\b\b\b\b\b\b\b\b\b\b\b\b\b\b\b\b\b\b\b\b\b\b\b\b\b\b\b\b\b\b\b\b\b\b\b\b\b\b\b\b\b\b\b\b\b\b\r 68/146 [============>.................] - ETA: 41:25 - loss: 0.6583 - balanced_accuracy: 0.7684"
          ]
        },
        {
          "output_type": "stream",
          "name": "stderr",
          "text": [
            "WARNING:tensorflow:Gradients do not exist for variables ['tf_bert_model/bert/pooler/dense/kernel:0', 'tf_bert_model/bert/pooler/dense/bias:0'] when minimizing the loss. If you're using `model.compile()`, did you forget to provide a `loss` argument?\n"
          ]
        },
        {
          "output_type": "stream",
          "name": "stdout",
          "text": [
            "\b\b\b\b\b\b\b\b\b\b\b\b\b\b\b\b\b\b\b\b\b\b\b\b\b\b\b\b\b\b\b\b\b\b\b\b\b\b\b\b\b\b\b\b\b\b\b\b\b\b\b\b\b\b\b\b\b\b\b\b\b\b\b\b\b\b\b\b\b\b\b\b\b\b\b\b\b\b\b\b\b\b\b\b\b\b\b\b\b\b\b\b\b\b\b\b\r 69/146 [=============>................] - ETA: 40:53 - loss: 0.6604 - balanced_accuracy: 0.7665"
          ]
        },
        {
          "output_type": "stream",
          "name": "stderr",
          "text": [
            "WARNING:tensorflow:Gradients do not exist for variables ['tf_bert_model/bert/pooler/dense/kernel:0', 'tf_bert_model/bert/pooler/dense/bias:0'] when minimizing the loss. If you're using `model.compile()`, did you forget to provide a `loss` argument?\n"
          ]
        },
        {
          "output_type": "stream",
          "name": "stdout",
          "text": [
            "\b\b\b\b\b\b\b\b\b\b\b\b\b\b\b\b\b\b\b\b\b\b\b\b\b\b\b\b\b\b\b\b\b\b\b\b\b\b\b\b\b\b\b\b\b\b\b\b\b\b\b\b\b\b\b\b\b\b\b\b\b\b\b\b\b\b\b\b\b\b\b\b\b\b\b\b\b\b\b\b\b\b\b\b\b\b\b\b\b\b\b\b\b\b\b\b\r 70/146 [=============>................] - ETA: 40:21 - loss: 0.6585 - balanced_accuracy: 0.7675"
          ]
        },
        {
          "output_type": "stream",
          "name": "stderr",
          "text": [
            "WARNING:tensorflow:Gradients do not exist for variables ['tf_bert_model/bert/pooler/dense/kernel:0', 'tf_bert_model/bert/pooler/dense/bias:0'] when minimizing the loss. If you're using `model.compile()`, did you forget to provide a `loss` argument?\n"
          ]
        },
        {
          "output_type": "stream",
          "name": "stdout",
          "text": [
            "\b\b\b\b\b\b\b\b\b\b\b\b\b\b\b\b\b\b\b\b\b\b\b\b\b\b\b\b\b\b\b\b\b\b\b\b\b\b\b\b\b\b\b\b\b\b\b\b\b\b\b\b\b\b\b\b\b\b\b\b\b\b\b\b\b\b\b\b\b\b\b\b\b\b\b\b\b\b\b\b\b\b\b\b\b\b\b\b\b\b\b\b\b\b\b\b\r 71/146 [=============>................] - ETA: 39:50 - loss: 0.6554 - balanced_accuracy: 0.7688"
          ]
        },
        {
          "output_type": "stream",
          "name": "stderr",
          "text": [
            "WARNING:tensorflow:Gradients do not exist for variables ['tf_bert_model/bert/pooler/dense/kernel:0', 'tf_bert_model/bert/pooler/dense/bias:0'] when minimizing the loss. If you're using `model.compile()`, did you forget to provide a `loss` argument?\n"
          ]
        },
        {
          "output_type": "stream",
          "name": "stdout",
          "text": [
            "\b\b\b\b\b\b\b\b\b\b\b\b\b\b\b\b\b\b\b\b\b\b\b\b\b\b\b\b\b\b\b\b\b\b\b\b\b\b\b\b\b\b\b\b\b\b\b\b\b\b\b\b\b\b\b\b\b\b\b\b\b\b\b\b\b\b\b\b\b\b\b\b\b\b\b\b\b\b\b\b\b\b\b\b\b\b\b\b\b\b\b\b\b\b\b\b\r 72/146 [=============>................] - ETA: 39:18 - loss: 0.6538 - balanced_accuracy: 0.7697"
          ]
        },
        {
          "output_type": "stream",
          "name": "stderr",
          "text": [
            "WARNING:tensorflow:Gradients do not exist for variables ['tf_bert_model/bert/pooler/dense/kernel:0', 'tf_bert_model/bert/pooler/dense/bias:0'] when minimizing the loss. If you're using `model.compile()`, did you forget to provide a `loss` argument?\n"
          ]
        },
        {
          "output_type": "stream",
          "name": "stdout",
          "text": [
            "\b\b\b\b\b\b\b\b\b\b\b\b\b\b\b\b\b\b\b\b\b\b\b\b\b\b\b\b\b\b\b\b\b\b\b\b\b\b\b\b\b\b\b\b\b\b\b\b\b\b\b\b\b\b\b\b\b\b\b\b\b\b\b\b\b\b\b\b\b\b\b\b\b\b\b\b\b\b\b\b\b\b\b\b\b\b\b\b\b\b\b\b\b\b\b\b\r 73/146 [==============>...............] - ETA: 38:46 - loss: 0.6527 - balanced_accuracy: 0.7705"
          ]
        },
        {
          "output_type": "stream",
          "name": "stderr",
          "text": [
            "WARNING:tensorflow:Gradients do not exist for variables ['tf_bert_model/bert/pooler/dense/kernel:0', 'tf_bert_model/bert/pooler/dense/bias:0'] when minimizing the loss. If you're using `model.compile()`, did you forget to provide a `loss` argument?\n"
          ]
        },
        {
          "output_type": "stream",
          "name": "stdout",
          "text": [
            "\b\b\b\b\b\b\b\b\b\b\b\b\b\b\b\b\b\b\b\b\b\b\b\b\b\b\b\b\b\b\b\b\b\b\b\b\b\b\b\b\b\b\b\b\b\b\b\b\b\b\b\b\b\b\b\b\b\b\b\b\b\b\b\b\b\b\b\b\b\b\b\b\b\b\b\b\b\b\b\b\b\b\b\b\b\b\b\b\b\b\b\b\b\b\b\b\r 74/146 [==============>...............] - ETA: 38:13 - loss: 0.6526 - balanced_accuracy: 0.7710"
          ]
        },
        {
          "output_type": "stream",
          "name": "stderr",
          "text": [
            "WARNING:tensorflow:Gradients do not exist for variables ['tf_bert_model/bert/pooler/dense/kernel:0', 'tf_bert_model/bert/pooler/dense/bias:0'] when minimizing the loss. If you're using `model.compile()`, did you forget to provide a `loss` argument?\n"
          ]
        },
        {
          "output_type": "stream",
          "name": "stdout",
          "text": [
            "\b\b\b\b\b\b\b\b\b\b\b\b\b\b\b\b\b\b\b\b\b\b\b\b\b\b\b\b\b\b\b\b\b\b\b\b\b\b\b\b\b\b\b\b\b\b\b\b\b\b\b\b\b\b\b\b\b\b\b\b\b\b\b\b\b\b\b\b\b\b\b\b\b\b\b\b\b\b\b\b\b\b\b\b\b\b\b\b\b\b\b\b\b\b\b\b\r 75/146 [==============>...............] - ETA: 37:43 - loss: 0.6560 - balanced_accuracy: 0.7689"
          ]
        },
        {
          "output_type": "stream",
          "name": "stderr",
          "text": [
            "WARNING:tensorflow:Gradients do not exist for variables ['tf_bert_model/bert/pooler/dense/kernel:0', 'tf_bert_model/bert/pooler/dense/bias:0'] when minimizing the loss. If you're using `model.compile()`, did you forget to provide a `loss` argument?\n"
          ]
        },
        {
          "output_type": "stream",
          "name": "stdout",
          "text": [
            "\b\b\b\b\b\b\b\b\b\b\b\b\b\b\b\b\b\b\b\b\b\b\b\b\b\b\b\b\b\b\b\b\b\b\b\b\b\b\b\b\b\b\b\b\b\b\b\b\b\b\b\b\b\b\b\b\b\b\b\b\b\b\b\b\b\b\b\b\b\b\b\b\b\b\b\b\b\b\b\b\b\b\b\b\b\b\b\b\b\b\b\b\b\b\b\b\r 76/146 [==============>...............] - ETA: 37:10 - loss: 0.6558 - balanced_accuracy: 0.7697"
          ]
        },
        {
          "output_type": "stream",
          "name": "stderr",
          "text": [
            "WARNING:tensorflow:Gradients do not exist for variables ['tf_bert_model/bert/pooler/dense/kernel:0', 'tf_bert_model/bert/pooler/dense/bias:0'] when minimizing the loss. If you're using `model.compile()`, did you forget to provide a `loss` argument?\n"
          ]
        },
        {
          "output_type": "stream",
          "name": "stdout",
          "text": [
            "\b\b\b\b\b\b\b\b\b\b\b\b\b\b\b\b\b\b\b\b\b\b\b\b\b\b\b\b\b\b\b\b\b\b\b\b\b\b\b\b\b\b\b\b\b\b\b\b\b\b\b\b\b\b\b\b\b\b\b\b\b\b\b\b\b\b\b\b\b\b\b\b\b\b\b\b\b\b\b\b\b\b\b\b\b\b\b\b\b\b\b\b\b\b\b\b\r 77/146 [==============>...............] - ETA: 36:41 - loss: 0.6548 - balanced_accuracy: 0.7695"
          ]
        },
        {
          "output_type": "stream",
          "name": "stderr",
          "text": [
            "WARNING:tensorflow:Gradients do not exist for variables ['tf_bert_model/bert/pooler/dense/kernel:0', 'tf_bert_model/bert/pooler/dense/bias:0'] when minimizing the loss. If you're using `model.compile()`, did you forget to provide a `loss` argument?\n"
          ]
        },
        {
          "output_type": "stream",
          "name": "stdout",
          "text": [
            "\b\b\b\b\b\b\b\b\b\b\b\b\b\b\b\b\b\b\b\b\b\b\b\b\b\b\b\b\b\b\b\b\b\b\b\b\b\b\b\b\b\b\b\b\b\b\b\b\b\b\b\b\b\b\b\b\b\b\b\b\b\b\b\b\b\b\b\b\b\b\b\b\b\b\b\b\b\b\b\b\b\b\b\b\b\b\b\b\b\b\b\b\b\b\b\b\r 78/146 [===============>..............] - ETA: 36:14 - loss: 0.6536 - balanced_accuracy: 0.7699"
          ]
        },
        {
          "output_type": "stream",
          "name": "stderr",
          "text": [
            "WARNING:tensorflow:Gradients do not exist for variables ['tf_bert_model/bert/pooler/dense/kernel:0', 'tf_bert_model/bert/pooler/dense/bias:0'] when minimizing the loss. If you're using `model.compile()`, did you forget to provide a `loss` argument?\n"
          ]
        },
        {
          "output_type": "stream",
          "name": "stdout",
          "text": [
            "\b\b\b\b\b\b\b\b\b\b\b\b\b\b\b\b\b\b\b\b\b\b\b\b\b\b\b\b\b\b\b\b\b\b\b\b\b\b\b\b\b\b\b\b\b\b\b\b\b\b\b\b\b\b\b\b\b\b\b\b\b\b\b\b\b\b\b\b\b\b\b\b\b\b\b\b\b\b\b\b\b\b\b\b\b\b\b\b\b\b\b\b\b\b\b\b\r 79/146 [===============>..............] - ETA: 35:41 - loss: 0.6511 - balanced_accuracy: 0.7711"
          ]
        },
        {
          "output_type": "stream",
          "name": "stderr",
          "text": [
            "WARNING:tensorflow:Gradients do not exist for variables ['tf_bert_model/bert/pooler/dense/kernel:0', 'tf_bert_model/bert/pooler/dense/bias:0'] when minimizing the loss. If you're using `model.compile()`, did you forget to provide a `loss` argument?\n"
          ]
        },
        {
          "output_type": "stream",
          "name": "stdout",
          "text": [
            "\b\b\b\b\b\b\b\b\b\b\b\b\b\b\b\b\b\b\b\b\b\b\b\b\b\b\b\b\b\b\b\b\b\b\b\b\b\b\b\b\b\b\b\b\b\b\b\b\b\b\b\b\b\b\b\b\b\b\b\b\b\b\b\b\b\b\b\b\b\b\b\b\b\b\b\b\b\b\b\b\b\b\b\b\b\b\b\b\b\b\b\b\b\b\b\b\r 80/146 [===============>..............] - ETA: 35:09 - loss: 0.6535 - balanced_accuracy: 0.7712"
          ]
        },
        {
          "output_type": "stream",
          "name": "stderr",
          "text": [
            "WARNING:tensorflow:Gradients do not exist for variables ['tf_bert_model/bert/pooler/dense/kernel:0', 'tf_bert_model/bert/pooler/dense/bias:0'] when minimizing the loss. If you're using `model.compile()`, did you forget to provide a `loss` argument?\n"
          ]
        },
        {
          "output_type": "stream",
          "name": "stdout",
          "text": [
            "\b\b\b\b\b\b\b\b\b\b\b\b\b\b\b\b\b\b\b\b\b\b\b\b\b\b\b\b\b\b\b\b\b\b\b\b\b\b\b\b\b\b\b\b\b\b\b\b\b\b\b\b\b\b\b\b\b\b\b\b\b\b\b\b\b\b\b\b\b\b\b\b\b\b\b\b\b\b\b\b\b\b\b\b\b\b\b\b\b\b\b\b\b\b\b\b\r 81/146 [===============>..............] - ETA: 34:38 - loss: 0.6525 - balanced_accuracy: 0.7713"
          ]
        },
        {
          "output_type": "stream",
          "name": "stderr",
          "text": [
            "WARNING:tensorflow:Gradients do not exist for variables ['tf_bert_model/bert/pooler/dense/kernel:0', 'tf_bert_model/bert/pooler/dense/bias:0'] when minimizing the loss. If you're using `model.compile()`, did you forget to provide a `loss` argument?\n"
          ]
        },
        {
          "output_type": "stream",
          "name": "stdout",
          "text": [
            "\b\b\b\b\b\b\b\b\b\b\b\b\b\b\b\b\b\b\b\b\b\b\b\b\b\b\b\b\b\b\b\b\b\b\b\b\b\b\b\b\b\b\b\b\b\b\b\b\b\b\b\b\b\b\b\b\b\b\b\b\b\b\b\b\b\b\b\b\b\b\b\b\b\b\b\b\b\b\b\b\b\b\b\b\b\b\b\b\b\b\b\b\b\b\b\b\r 82/146 [===============>..............] - ETA: 34:06 - loss: 0.6515 - balanced_accuracy: 0.7720"
          ]
        },
        {
          "output_type": "stream",
          "name": "stderr",
          "text": [
            "WARNING:tensorflow:Gradients do not exist for variables ['tf_bert_model/bert/pooler/dense/kernel:0', 'tf_bert_model/bert/pooler/dense/bias:0'] when minimizing the loss. If you're using `model.compile()`, did you forget to provide a `loss` argument?\n"
          ]
        },
        {
          "output_type": "stream",
          "name": "stdout",
          "text": [
            "\b\b\b\b\b\b\b\b\b\b\b\b\b\b\b\b\b\b\b\b\b\b\b\b\b\b\b\b\b\b\b\b\b\b\b\b\b\b\b\b\b\b\b\b\b\b\b\b\b\b\b\b\b\b\b\b\b\b\b\b\b\b\b\b\b\b\b\b\b\b\b\b\b\b\b\b\b\b\b\b\b\b\b\b\b\b\b\b\b\b\b\b\b\b\b\b\r 83/146 [================>.............] - ETA: 33:33 - loss: 0.6528 - balanced_accuracy: 0.7721"
          ]
        },
        {
          "output_type": "stream",
          "name": "stderr",
          "text": [
            "WARNING:tensorflow:Gradients do not exist for variables ['tf_bert_model/bert/pooler/dense/kernel:0', 'tf_bert_model/bert/pooler/dense/bias:0'] when minimizing the loss. If you're using `model.compile()`, did you forget to provide a `loss` argument?\n"
          ]
        },
        {
          "output_type": "stream",
          "name": "stdout",
          "text": [
            "\b\b\b\b\b\b\b\b\b\b\b\b\b\b\b\b\b\b\b\b\b\b\b\b\b\b\b\b\b\b\b\b\b\b\b\b\b\b\b\b\b\b\b\b\b\b\b\b\b\b\b\b\b\b\b\b\b\b\b\b\b\b\b\b\b\b\b\b\b\b\b\b\b\b\b\b\b\b\b\b\b\b\b\b\b\b\b\b\b\b\b\b\b\b\b\b\r 84/146 [================>.............] - ETA: 33:01 - loss: 0.6531 - balanced_accuracy: 0.7718"
          ]
        },
        {
          "output_type": "stream",
          "name": "stderr",
          "text": [
            "WARNING:tensorflow:Gradients do not exist for variables ['tf_bert_model/bert/pooler/dense/kernel:0', 'tf_bert_model/bert/pooler/dense/bias:0'] when minimizing the loss. If you're using `model.compile()`, did you forget to provide a `loss` argument?\n"
          ]
        },
        {
          "output_type": "stream",
          "name": "stdout",
          "text": [
            "\b\b\b\b\b\b\b\b\b\b\b\b\b\b\b\b\b\b\b\b\b\b\b\b\b\b\b\b\b\b\b\b\b\b\b\b\b\b\b\b\b\b\b\b\b\b\b\b\b\b\b\b\b\b\b\b\b\b\b\b\b\b\b\b\b\b\b\b\b\b\b\b\b\b\b\b\b\b\b\b\b\b\b\b\b\b\b\b\b\b\b\b\b\b\b\b\r 85/146 [================>.............] - ETA: 32:29 - loss: 0.6514 - balanced_accuracy: 0.7729"
          ]
        },
        {
          "output_type": "stream",
          "name": "stderr",
          "text": [
            "WARNING:tensorflow:Gradients do not exist for variables ['tf_bert_model/bert/pooler/dense/kernel:0', 'tf_bert_model/bert/pooler/dense/bias:0'] when minimizing the loss. If you're using `model.compile()`, did you forget to provide a `loss` argument?\n"
          ]
        },
        {
          "output_type": "stream",
          "name": "stdout",
          "text": [
            "\b\b\b\b\b\b\b\b\b\b\b\b\b\b\b\b\b\b\b\b\b\b\b\b\b\b\b\b\b\b\b\b\b\b\b\b\b\b\b\b\b\b\b\b\b\b\b\b\b\b\b\b\b\b\b\b\b\b\b\b\b\b\b\b\b\b\b\b\b\b\b\b\b\b\b\b\b\b\b\b\b\b\b\b\b\b\b\b\b\b\b\b\b\b\b\b\r 86/146 [================>.............] - ETA: 31:58 - loss: 0.6526 - balanced_accuracy: 0.7723"
          ]
        },
        {
          "output_type": "stream",
          "name": "stderr",
          "text": [
            "WARNING:tensorflow:Gradients do not exist for variables ['tf_bert_model/bert/pooler/dense/kernel:0', 'tf_bert_model/bert/pooler/dense/bias:0'] when minimizing the loss. If you're using `model.compile()`, did you forget to provide a `loss` argument?\n"
          ]
        },
        {
          "output_type": "stream",
          "name": "stdout",
          "text": [
            "\b\b\b\b\b\b\b\b\b\b\b\b\b\b\b\b\b\b\b\b\b\b\b\b\b\b\b\b\b\b\b\b\b\b\b\b\b\b\b\b\b\b\b\b\b\b\b\b\b\b\b\b\b\b\b\b\b\b\b\b\b\b\b\b\b\b\b\b\b\b\b\b\b\b\b\b\b\b\b\b\b\b\b\b\b\b\b\b\b\b\b\b\b\b\b\b\r 87/146 [================>.............] - ETA: 31:26 - loss: 0.6525 - balanced_accuracy: 0.7720"
          ]
        },
        {
          "output_type": "stream",
          "name": "stderr",
          "text": [
            "WARNING:tensorflow:Gradients do not exist for variables ['tf_bert_model/bert/pooler/dense/kernel:0', 'tf_bert_model/bert/pooler/dense/bias:0'] when minimizing the loss. If you're using `model.compile()`, did you forget to provide a `loss` argument?\n"
          ]
        },
        {
          "output_type": "stream",
          "name": "stdout",
          "text": [
            "\b\b\b\b\b\b\b\b\b\b\b\b\b\b\b\b\b\b\b\b\b\b\b\b\b\b\b\b\b\b\b\b\b\b\b\b\b\b\b\b\b\b\b\b\b\b\b\b\b\b\b\b\b\b\b\b\b\b\b\b\b\b\b\b\b\b\b\b\b\b\b\b\b\b\b\b\b\b\b\b\b\b\b\b\b\b\b\b\b\b\b\b\b\b\b\b\r 88/146 [=================>............] - ETA: 30:54 - loss: 0.6550 - balanced_accuracy: 0.7702"
          ]
        },
        {
          "output_type": "stream",
          "name": "stderr",
          "text": [
            "WARNING:tensorflow:Gradients do not exist for variables ['tf_bert_model/bert/pooler/dense/kernel:0', 'tf_bert_model/bert/pooler/dense/bias:0'] when minimizing the loss. If you're using `model.compile()`, did you forget to provide a `loss` argument?\n"
          ]
        },
        {
          "output_type": "stream",
          "name": "stdout",
          "text": [
            "\b\b\b\b\b\b\b\b\b\b\b\b\b\b\b\b\b\b\b\b\b\b\b\b\b\b\b\b\b\b\b\b\b\b\b\b\b\b\b\b\b\b\b\b\b\b\b\b\b\b\b\b\b\b\b\b\b\b\b\b\b\b\b\b\b\b\b\b\b\b\b\b\b\b\b\b\b\b\b\b\b\b\b\b\b\b\b\b\b\b\b\b\b\b\b\b\r 89/146 [=================>............] - ETA: 30:23 - loss: 0.6556 - balanced_accuracy: 0.7703"
          ]
        },
        {
          "output_type": "stream",
          "name": "stderr",
          "text": [
            "WARNING:tensorflow:Gradients do not exist for variables ['tf_bert_model/bert/pooler/dense/kernel:0', 'tf_bert_model/bert/pooler/dense/bias:0'] when minimizing the loss. If you're using `model.compile()`, did you forget to provide a `loss` argument?\n"
          ]
        },
        {
          "output_type": "stream",
          "name": "stdout",
          "text": [
            "\b\b\b\b\b\b\b\b\b\b\b\b\b\b\b\b\b\b\b\b\b\b\b\b\b\b\b\b\b\b\b\b\b\b\b\b\b\b\b\b\b\b\b\b\b\b\b\b\b\b\b\b\b\b\b\b\b\b\b\b\b\b\b\b\b\b\b\b\b\b\b\b\b\b\b\b\b\b\b\b\b\b\b\b\b\b\b\b\b\b\b\b\b\b\b\b\r 90/146 [=================>............] - ETA: 29:51 - loss: 0.6568 - balanced_accuracy: 0.7701"
          ]
        },
        {
          "output_type": "stream",
          "name": "stderr",
          "text": [
            "WARNING:tensorflow:Gradients do not exist for variables ['tf_bert_model/bert/pooler/dense/kernel:0', 'tf_bert_model/bert/pooler/dense/bias:0'] when minimizing the loss. If you're using `model.compile()`, did you forget to provide a `loss` argument?\n"
          ]
        },
        {
          "output_type": "stream",
          "name": "stdout",
          "text": [
            "\b\b\b\b\b\b\b\b\b\b\b\b\b\b\b\b\b\b\b\b\b\b\b\b\b\b\b\b\b\b\b\b\b\b\b\b\b\b\b\b\b\b\b\b\b\b\b\b\b\b\b\b\b\b\b\b\b\b\b\b\b\b\b\b\b\b\b\b\b\b\b\b\b\b\b\b\b\b\b\b\b\b\b\b\b\b\b\b\b\b\b\b\b\b\b\b\r 91/146 [=================>............] - ETA: 29:19 - loss: 0.6590 - balanced_accuracy: 0.7692"
          ]
        },
        {
          "output_type": "stream",
          "name": "stderr",
          "text": [
            "WARNING:tensorflow:Gradients do not exist for variables ['tf_bert_model/bert/pooler/dense/kernel:0', 'tf_bert_model/bert/pooler/dense/bias:0'] when minimizing the loss. If you're using `model.compile()`, did you forget to provide a `loss` argument?\n"
          ]
        },
        {
          "output_type": "stream",
          "name": "stdout",
          "text": [
            "\b\b\b\b\b\b\b\b\b\b\b\b\b\b\b\b\b\b\b\b\b\b\b\b\b\b\b\b\b\b\b\b\b\b\b\b\b\b\b\b\b\b\b\b\b\b\b\b\b\b\b\b\b\b\b\b\b\b\b\b\b\b\b\b\b\b\b\b\b\b\b\b\b\b\b\b\b\b\b\b\b\b\b\b\b\b\b\b\b\b\b\b\b\b\b\b\r 92/146 [=================>............] - ETA: 28:47 - loss: 0.6595 - balanced_accuracy: 0.7687"
          ]
        },
        {
          "output_type": "stream",
          "name": "stderr",
          "text": [
            "WARNING:tensorflow:Gradients do not exist for variables ['tf_bert_model/bert/pooler/dense/kernel:0', 'tf_bert_model/bert/pooler/dense/bias:0'] when minimizing the loss. If you're using `model.compile()`, did you forget to provide a `loss` argument?\n"
          ]
        },
        {
          "output_type": "stream",
          "name": "stdout",
          "text": [
            "\b\b\b\b\b\b\b\b\b\b\b\b\b\b\b\b\b\b\b\b\b\b\b\b\b\b\b\b\b\b\b\b\b\b\b\b\b\b\b\b\b\b\b\b\b\b\b\b\b\b\b\b\b\b\b\b\b\b\b\b\b\b\b\b\b\b\b\b\b\b\b\b\b\b\b\b\b\b\b\b\b\b\b\b\b\b\b\b\b\b\b\b\b\b\b\b\r 93/146 [==================>...........] - ETA: 28:14 - loss: 0.6616 - balanced_accuracy: 0.7682"
          ]
        },
        {
          "output_type": "stream",
          "name": "stderr",
          "text": [
            "WARNING:tensorflow:Gradients do not exist for variables ['tf_bert_model/bert/pooler/dense/kernel:0', 'tf_bert_model/bert/pooler/dense/bias:0'] when minimizing the loss. If you're using `model.compile()`, did you forget to provide a `loss` argument?\n"
          ]
        },
        {
          "output_type": "stream",
          "name": "stdout",
          "text": [
            "\b\b\b\b\b\b\b\b\b\b\b\b\b\b\b\b\b\b\b\b\b\b\b\b\b\b\b\b\b\b\b\b\b\b\b\b\b\b\b\b\b\b\b\b\b\b\b\b\b\b\b\b\b\b\b\b\b\b\b\b\b\b\b\b\b\b\b\b\b\b\b\b\b\b\b\b\b\b\b\b\b\b\b\b\b\b\b\b\b\b\b\b\b\b\b\b\r 94/146 [==================>...........] - ETA: 27:42 - loss: 0.6640 - balanced_accuracy: 0.7671"
          ]
        },
        {
          "output_type": "stream",
          "name": "stderr",
          "text": [
            "WARNING:tensorflow:Gradients do not exist for variables ['tf_bert_model/bert/pooler/dense/kernel:0', 'tf_bert_model/bert/pooler/dense/bias:0'] when minimizing the loss. If you're using `model.compile()`, did you forget to provide a `loss` argument?\n"
          ]
        },
        {
          "output_type": "stream",
          "name": "stdout",
          "text": [
            "\b\b\b\b\b\b\b\b\b\b\b\b\b\b\b\b\b\b\b\b\b\b\b\b\b\b\b\b\b\b\b\b\b\b\b\b\b\b\b\b\b\b\b\b\b\b\b\b\b\b\b\b\b\b\b\b\b\b\b\b\b\b\b\b\b\b\b\b\b\b\b\b\b\b\b\b\b\b\b\b\b\b\b\b\b\b\b\b\b\b\b\b\b\b\b\b\r 95/146 [==================>...........] - ETA: 27:10 - loss: 0.6617 - balanced_accuracy: 0.7681"
          ]
        },
        {
          "output_type": "stream",
          "name": "stderr",
          "text": [
            "WARNING:tensorflow:Gradients do not exist for variables ['tf_bert_model/bert/pooler/dense/kernel:0', 'tf_bert_model/bert/pooler/dense/bias:0'] when minimizing the loss. If you're using `model.compile()`, did you forget to provide a `loss` argument?\n"
          ]
        },
        {
          "output_type": "stream",
          "name": "stdout",
          "text": [
            "\b\b\b\b\b\b\b\b\b\b\b\b\b\b\b\b\b\b\b\b\b\b\b\b\b\b\b\b\b\b\b\b\b\b\b\b\b\b\b\b\b\b\b\b\b\b\b\b\b\b\b\b\b\b\b\b\b\b\b\b\b\b\b\b\b\b\b\b\b\b\b\b\b\b\b\b\b\b\b\b\b\b\b\b\b\b\b\b\b\b\b\b\b\b\b\b\r 96/146 [==================>...........] - ETA: 26:38 - loss: 0.6623 - balanced_accuracy: 0.7682"
          ]
        },
        {
          "output_type": "stream",
          "name": "stderr",
          "text": [
            "WARNING:tensorflow:Gradients do not exist for variables ['tf_bert_model/bert/pooler/dense/kernel:0', 'tf_bert_model/bert/pooler/dense/bias:0'] when minimizing the loss. If you're using `model.compile()`, did you forget to provide a `loss` argument?\n"
          ]
        },
        {
          "output_type": "stream",
          "name": "stdout",
          "text": [
            "\b\b\b\b\b\b\b\b\b\b\b\b\b\b\b\b\b\b\b\b\b\b\b\b\b\b\b\b\b\b\b\b\b\b\b\b\b\b\b\b\b\b\b\b\b\b\b\b\b\b\b\b\b\b\b\b\b\b\b\b\b\b\b\b\b\b\b\b\b\b\b\b\b\b\b\b\b\b\b\b\b\b\b\b\b\b\b\b\b\b\b\b\b\b\b\b\r 97/146 [==================>...........] - ETA: 26:06 - loss: 0.6624 - balanced_accuracy: 0.7680"
          ]
        },
        {
          "output_type": "stream",
          "name": "stderr",
          "text": [
            "WARNING:tensorflow:Gradients do not exist for variables ['tf_bert_model/bert/pooler/dense/kernel:0', 'tf_bert_model/bert/pooler/dense/bias:0'] when minimizing the loss. If you're using `model.compile()`, did you forget to provide a `loss` argument?\n"
          ]
        },
        {
          "output_type": "stream",
          "name": "stdout",
          "text": [
            "\b\b\b\b\b\b\b\b\b\b\b\b\b\b\b\b\b\b\b\b\b\b\b\b\b\b\b\b\b\b\b\b\b\b\b\b\b\b\b\b\b\b\b\b\b\b\b\b\b\b\b\b\b\b\b\b\b\b\b\b\b\b\b\b\b\b\b\b\b\b\b\b\b\b\b\b\b\b\b\b\b\b\b\b\b\b\b\b\b\b\b\b\b\b\b\b\r 98/146 [===================>..........] - ETA: 25:34 - loss: 0.6602 - balanced_accuracy: 0.7687"
          ]
        },
        {
          "output_type": "stream",
          "name": "stderr",
          "text": [
            "WARNING:tensorflow:Gradients do not exist for variables ['tf_bert_model/bert/pooler/dense/kernel:0', 'tf_bert_model/bert/pooler/dense/bias:0'] when minimizing the loss. If you're using `model.compile()`, did you forget to provide a `loss` argument?\n"
          ]
        },
        {
          "output_type": "stream",
          "name": "stdout",
          "text": [
            "\b\b\b\b\b\b\b\b\b\b\b\b\b\b\b\b\b\b\b\b\b\b\b\b\b\b\b\b\b\b\b\b\b\b\b\b\b\b\b\b\b\b\b\b\b\b\b\b\b\b\b\b\b\b\b\b\b\b\b\b\b\b\b\b\b\b\b\b\b\b\b\b\b\b\b\b\b\b\b\b\b\b\b\b\b\b\b\b\b\b\b\b\b\b\b\b\r 99/146 [===================>..........] - ETA: 25:02 - loss: 0.6599 - balanced_accuracy: 0.7688"
          ]
        },
        {
          "output_type": "stream",
          "name": "stderr",
          "text": [
            "WARNING:tensorflow:Gradients do not exist for variables ['tf_bert_model/bert/pooler/dense/kernel:0', 'tf_bert_model/bert/pooler/dense/bias:0'] when minimizing the loss. If you're using `model.compile()`, did you forget to provide a `loss` argument?\n"
          ]
        },
        {
          "output_type": "stream",
          "name": "stdout",
          "text": [
            "\b\b\b\b\b\b\b\b\b\b\b\b\b\b\b\b\b\b\b\b\b\b\b\b\b\b\b\b\b\b\b\b\b\b\b\b\b\b\b\b\b\b\b\b\b\b\b\b\b\b\b\b\b\b\b\b\b\b\b\b\b\b\b\b\b\b\b\b\b\b\b\b\b\b\b\b\b\b\b\b\b\b\b\b\b\b\b\b\b\b\b\b\b\b\b\b\r100/146 [===================>..........] - ETA: 24:30 - loss: 0.6615 - balanced_accuracy: 0.7678"
          ]
        },
        {
          "output_type": "stream",
          "name": "stderr",
          "text": [
            "WARNING:tensorflow:Gradients do not exist for variables ['tf_bert_model/bert/pooler/dense/kernel:0', 'tf_bert_model/bert/pooler/dense/bias:0'] when minimizing the loss. If you're using `model.compile()`, did you forget to provide a `loss` argument?\n"
          ]
        },
        {
          "output_type": "stream",
          "name": "stdout",
          "text": [
            "\b\b\b\b\b\b\b\b\b\b\b\b\b\b\b\b\b\b\b\b\b\b\b\b\b\b\b\b\b\b\b\b\b\b\b\b\b\b\b\b\b\b\b\b\b\b\b\b\b\b\b\b\b\b\b\b\b\b\b\b\b\b\b\b\b\b\b\b\b\b\b\b\b\b\b\b\b\b\b\b\b\b\b\b\b\b\b\b\b\b\b\b\b\b\b\b\r101/146 [===================>..........] - ETA: 23:58 - loss: 0.6660 - balanced_accuracy: 0.7660"
          ]
        },
        {
          "output_type": "stream",
          "name": "stderr",
          "text": [
            "WARNING:tensorflow:Gradients do not exist for variables ['tf_bert_model/bert/pooler/dense/kernel:0', 'tf_bert_model/bert/pooler/dense/bias:0'] when minimizing the loss. If you're using `model.compile()`, did you forget to provide a `loss` argument?\n"
          ]
        },
        {
          "output_type": "stream",
          "name": "stdout",
          "text": [
            "\b\b\b\b\b\b\b\b\b\b\b\b\b\b\b\b\b\b\b\b\b\b\b\b\b\b\b\b\b\b\b\b\b\b\b\b\b\b\b\b\b\b\b\b\b\b\b\b\b\b\b\b\b\b\b\b\b\b\b\b\b\b\b\b\b\b\b\b\b\b\b\b\b\b\b\b\b\b\b\b\b\b\b\b\b\b\b\b\b\b\b\b\b\b\b\b\r102/146 [===================>..........] - ETA: 23:26 - loss: 0.6661 - balanced_accuracy: 0.7661"
          ]
        },
        {
          "output_type": "stream",
          "name": "stderr",
          "text": [
            "WARNING:tensorflow:Gradients do not exist for variables ['tf_bert_model/bert/pooler/dense/kernel:0', 'tf_bert_model/bert/pooler/dense/bias:0'] when minimizing the loss. If you're using `model.compile()`, did you forget to provide a `loss` argument?\n"
          ]
        },
        {
          "output_type": "stream",
          "name": "stdout",
          "text": [
            "\b\b\b\b\b\b\b\b\b\b\b\b\b\b\b\b\b\b\b\b\b\b\b\b\b\b\b\b\b\b\b\b\b\b\b\b\b\b\b\b\b\b\b\b\b\b\b\b\b\b\b\b\b\b\b\b\b\b\b\b\b\b\b\b\b\b\b\b\b\b\b\b\b\b\b\b\b\b\b\b\b\b\b\b\b\b\b\b\b\b\b\b\b\b\b\b\r103/146 [====================>.........] - ETA: 22:54 - loss: 0.6648 - balanced_accuracy: 0.7670"
          ]
        },
        {
          "output_type": "stream",
          "name": "stderr",
          "text": [
            "WARNING:tensorflow:Gradients do not exist for variables ['tf_bert_model/bert/pooler/dense/kernel:0', 'tf_bert_model/bert/pooler/dense/bias:0'] when minimizing the loss. If you're using `model.compile()`, did you forget to provide a `loss` argument?\n"
          ]
        },
        {
          "output_type": "stream",
          "name": "stdout",
          "text": [
            "\b\b\b\b\b\b\b\b\b\b\b\b\b\b\b\b\b\b\b\b\b\b\b\b\b\b\b\b\b\b\b\b\b\b\b\b\b\b\b\b\b\b\b\b\b\b\b\b\b\b\b\b\b\b\b\b\b\b\b\b\b\b\b\b\b\b\b\b\b\b\b\b\b\b\b\b\b\b\b\b\b\b\b\b\b\b\b\b\b\b\b\b\b\b\b\b\r104/146 [====================>.........] - ETA: 22:22 - loss: 0.6630 - balanced_accuracy: 0.7674"
          ]
        },
        {
          "output_type": "stream",
          "name": "stderr",
          "text": [
            "WARNING:tensorflow:Gradients do not exist for variables ['tf_bert_model/bert/pooler/dense/kernel:0', 'tf_bert_model/bert/pooler/dense/bias:0'] when minimizing the loss. If you're using `model.compile()`, did you forget to provide a `loss` argument?\n"
          ]
        },
        {
          "output_type": "stream",
          "name": "stdout",
          "text": [
            "\b\b\b\b\b\b\b\b\b\b\b\b\b\b\b\b\b\b\b\b\b\b\b\b\b\b\b\b\b\b\b\b\b\b\b\b\b\b\b\b\b\b\b\b\b\b\b\b\b\b\b\b\b\b\b\b\b\b\b\b\b\b\b\b\b\b\b\b\b\b\b\b\b\b\b\b\b\b\b\b\b\b\b\b\b\b\b\b\b\b\b\b\b\b\b\b\r105/146 [====================>.........] - ETA: 21:50 - loss: 0.6639 - balanced_accuracy: 0.7669"
          ]
        },
        {
          "output_type": "stream",
          "name": "stderr",
          "text": [
            "WARNING:tensorflow:Gradients do not exist for variables ['tf_bert_model/bert/pooler/dense/kernel:0', 'tf_bert_model/bert/pooler/dense/bias:0'] when minimizing the loss. If you're using `model.compile()`, did you forget to provide a `loss` argument?\n"
          ]
        },
        {
          "output_type": "stream",
          "name": "stdout",
          "text": [
            "\b\b\b\b\b\b\b\b\b\b\b\b\b\b\b\b\b\b\b\b\b\b\b\b\b\b\b\b\b\b\b\b\b\b\b\b\b\b\b\b\b\b\b\b\b\b\b\b\b\b\b\b\b\b\b\b\b\b\b\b\b\b\b\b\b\b\b\b\b\b\b\b\b\b\b\b\b\b\b\b\b\b\b\b\b\b\b\b\b\b\b\b\b\b\b\b\r106/146 [====================>.........] - ETA: 21:18 - loss: 0.6622 - balanced_accuracy: 0.7676"
          ]
        },
        {
          "output_type": "stream",
          "name": "stderr",
          "text": [
            "WARNING:tensorflow:Gradients do not exist for variables ['tf_bert_model/bert/pooler/dense/kernel:0', 'tf_bert_model/bert/pooler/dense/bias:0'] when minimizing the loss. If you're using `model.compile()`, did you forget to provide a `loss` argument?\n"
          ]
        },
        {
          "output_type": "stream",
          "name": "stdout",
          "text": [
            "\b\b\b\b\b\b\b\b\b\b\b\b\b\b\b\b\b\b\b\b\b\b\b\b\b\b\b\b\b\b\b\b\b\b\b\b\b\b\b\b\b\b\b\b\b\b\b\b\b\b\b\b\b\b\b\b\b\b\b\b\b\b\b\b\b\b\b\b\b\b\b\b\b\b\b\b\b\b\b\b\b\b\b\b\b\b\b\b\b\b\b\b\b\b\b\b\r107/146 [====================>.........] - ETA: 20:46 - loss: 0.6627 - balanced_accuracy: 0.7669"
          ]
        },
        {
          "output_type": "stream",
          "name": "stderr",
          "text": [
            "WARNING:tensorflow:Gradients do not exist for variables ['tf_bert_model/bert/pooler/dense/kernel:0', 'tf_bert_model/bert/pooler/dense/bias:0'] when minimizing the loss. If you're using `model.compile()`, did you forget to provide a `loss` argument?\n"
          ]
        },
        {
          "output_type": "stream",
          "name": "stdout",
          "text": [
            "\b\b\b\b\b\b\b\b\b\b\b\b\b\b\b\b\b\b\b\b\b\b\b\b\b\b\b\b\b\b\b\b\b\b\b\b\b\b\b\b\b\b\b\b\b\b\b\b\b\b\b\b\b\b\b\b\b\b\b\b\b\b\b\b\b\b\b\b\b\b\b\b\b\b\b\b\b\b\b\b\b\b\b\b\b\b\b\b\b\b\b\b\b\b\b\b\r108/146 [=====================>........] - ETA: 20:13 - loss: 0.6618 - balanced_accuracy: 0.7677"
          ]
        },
        {
          "output_type": "stream",
          "name": "stderr",
          "text": [
            "WARNING:tensorflow:Gradients do not exist for variables ['tf_bert_model/bert/pooler/dense/kernel:0', 'tf_bert_model/bert/pooler/dense/bias:0'] when minimizing the loss. If you're using `model.compile()`, did you forget to provide a `loss` argument?\n"
          ]
        },
        {
          "output_type": "stream",
          "name": "stdout",
          "text": [
            "\b\b\b\b\b\b\b\b\b\b\b\b\b\b\b\b\b\b\b\b\b\b\b\b\b\b\b\b\b\b\b\b\b\b\b\b\b\b\b\b\b\b\b\b\b\b\b\b\b\b\b\b\b\b\b\b\b\b\b\b\b\b\b\b\b\b\b\b\b\b\b\b\b\b\b\b\b\b\b\b\b\b\b\b\b\b\b\b\b\b\b\b\b\b\b\b\r109/146 [=====================>........] - ETA: 19:41 - loss: 0.6619 - balanced_accuracy: 0.7678"
          ]
        },
        {
          "output_type": "stream",
          "name": "stderr",
          "text": [
            "WARNING:tensorflow:Gradients do not exist for variables ['tf_bert_model/bert/pooler/dense/kernel:0', 'tf_bert_model/bert/pooler/dense/bias:0'] when minimizing the loss. If you're using `model.compile()`, did you forget to provide a `loss` argument?\n"
          ]
        },
        {
          "output_type": "stream",
          "name": "stdout",
          "text": [
            "\b\b\b\b\b\b\b\b\b\b\b\b\b\b\b\b\b\b\b\b\b\b\b\b\b\b\b\b\b\b\b\b\b\b\b\b\b\b\b\b\b\b\b\b\b\b\b\b\b\b\b\b\b\b\b\b\b\b\b\b\b\b\b\b\b\b\b\b\b\b\b\b\b\b\b\b\b\b\b\b\b\b\b\b\b\b\b\b\b\b\b\b\b\b\b\b\r110/146 [=====================>........] - ETA: 19:09 - loss: 0.6611 - balanced_accuracy: 0.7684"
          ]
        },
        {
          "output_type": "stream",
          "name": "stderr",
          "text": [
            "WARNING:tensorflow:Gradients do not exist for variables ['tf_bert_model/bert/pooler/dense/kernel:0', 'tf_bert_model/bert/pooler/dense/bias:0'] when minimizing the loss. If you're using `model.compile()`, did you forget to provide a `loss` argument?\n"
          ]
        },
        {
          "output_type": "stream",
          "name": "stdout",
          "text": [
            "\b\b\b\b\b\b\b\b\b\b\b\b\b\b\b\b\b\b\b\b\b\b\b\b\b\b\b\b\b\b\b\b\b\b\b\b\b\b\b\b\b\b\b\b\b\b\b\b\b\b\b\b\b\b\b\b\b\b\b\b\b\b\b\b\b\b\b\b\b\b\b\b\b\b\b\b\b\b\b\b\b\b\b\b\b\b\b\b\b\b\b\b\b\b\b\b\r111/146 [=====================>........] - ETA: 18:37 - loss: 0.6603 - balanced_accuracy: 0.7685"
          ]
        },
        {
          "output_type": "stream",
          "name": "stderr",
          "text": [
            "WARNING:tensorflow:Gradients do not exist for variables ['tf_bert_model/bert/pooler/dense/kernel:0', 'tf_bert_model/bert/pooler/dense/bias:0'] when minimizing the loss. If you're using `model.compile()`, did you forget to provide a `loss` argument?\n"
          ]
        },
        {
          "output_type": "stream",
          "name": "stdout",
          "text": [
            "\b\b\b\b\b\b\b\b\b\b\b\b\b\b\b\b\b\b\b\b\b\b\b\b\b\b\b\b\b\b\b\b\b\b\b\b\b\b\b\b\b\b\b\b\b\b\b\b\b\b\b\b\b\b\b\b\b\b\b\b\b\b\b\b\b\b\b\b\b\b\b\b\b\b\b\b\b\b\b\b\b\b\b\b\b\b\b\b\b\b\b\b\b\b\b\b\r112/146 [======================>.......] - ETA: 18:05 - loss: 0.6612 - balanced_accuracy: 0.7686"
          ]
        },
        {
          "output_type": "stream",
          "name": "stderr",
          "text": [
            "WARNING:tensorflow:Gradients do not exist for variables ['tf_bert_model/bert/pooler/dense/kernel:0', 'tf_bert_model/bert/pooler/dense/bias:0'] when minimizing the loss. If you're using `model.compile()`, did you forget to provide a `loss` argument?\n"
          ]
        },
        {
          "output_type": "stream",
          "name": "stdout",
          "text": [
            "\b\b\b\b\b\b\b\b\b\b\b\b\b\b\b\b\b\b\b\b\b\b\b\b\b\b\b\b\b\b\b\b\b\b\b\b\b\b\b\b\b\b\b\b\b\b\b\b\b\b\b\b\b\b\b\b\b\b\b\b\b\b\b\b\b\b\b\b\b\b\b\b\b\b\b\b\b\b\b\b\b\b\b\b\b\b\b\b\b\b\b\b\b\b\b\b\r113/146 [======================>.......] - ETA: 17:33 - loss: 0.6610 - balanced_accuracy: 0.7689"
          ]
        },
        {
          "output_type": "stream",
          "name": "stderr",
          "text": [
            "WARNING:tensorflow:Gradients do not exist for variables ['tf_bert_model/bert/pooler/dense/kernel:0', 'tf_bert_model/bert/pooler/dense/bias:0'] when minimizing the loss. If you're using `model.compile()`, did you forget to provide a `loss` argument?\n"
          ]
        },
        {
          "output_type": "stream",
          "name": "stdout",
          "text": [
            "\b\b\b\b\b\b\b\b\b\b\b\b\b\b\b\b\b\b\b\b\b\b\b\b\b\b\b\b\b\b\b\b\b\b\b\b\b\b\b\b\b\b\b\b\b\b\b\b\b\b\b\b\b\b\b\b\b\b\b\b\b\b\b\b\b\b\b\b\b\b\b\b\b\b\b\b\b\b\b\b\b\b\b\b\b\b\b\b\b\b\b\b\b\b\b\b\r114/146 [======================>.......] - ETA: 17:01 - loss: 0.6622 - balanced_accuracy: 0.7678"
          ]
        },
        {
          "output_type": "stream",
          "name": "stderr",
          "text": [
            "WARNING:tensorflow:Gradients do not exist for variables ['tf_bert_model/bert/pooler/dense/kernel:0', 'tf_bert_model/bert/pooler/dense/bias:0'] when minimizing the loss. If you're using `model.compile()`, did you forget to provide a `loss` argument?\n"
          ]
        },
        {
          "output_type": "stream",
          "name": "stdout",
          "text": [
            "\b\b\b\b\b\b\b\b\b\b\b\b\b\b\b\b\b\b\b\b\b\b\b\b\b\b\b\b\b\b\b\b\b\b\b\b\b\b\b\b\b\b\b\b\b\b\b\b\b\b\b\b\b\b\b\b\b\b\b\b\b\b\b\b\b\b\b\b\b\b\b\b\b\b\b\b\b\b\b\b\b\b\b\b\b\b\b\b\b\b\b\b\b\b\b\b\r115/146 [======================>.......] - ETA: 16:29 - loss: 0.6630 - balanced_accuracy: 0.7684"
          ]
        },
        {
          "output_type": "stream",
          "name": "stderr",
          "text": [
            "WARNING:tensorflow:Gradients do not exist for variables ['tf_bert_model/bert/pooler/dense/kernel:0', 'tf_bert_model/bert/pooler/dense/bias:0'] when minimizing the loss. If you're using `model.compile()`, did you forget to provide a `loss` argument?\n"
          ]
        },
        {
          "output_type": "stream",
          "name": "stdout",
          "text": [
            "\b\b\b\b\b\b\b\b\b\b\b\b\b\b\b\b\b\b\b\b\b\b\b\b\b\b\b\b\b\b\b\b\b\b\b\b\b\b\b\b\b\b\b\b\b\b\b\b\b\b\b\b\b\b\b\b\b\b\b\b\b\b\b\b\b\b\b\b\b\b\b\b\b\b\b\b\b\b\b\b\b\b\b\b\b\b\b\b\b\b\b\b\b\b\b\b\r116/146 [======================>.......] - ETA: 15:57 - loss: 0.6643 - balanced_accuracy: 0.7675"
          ]
        },
        {
          "output_type": "stream",
          "name": "stderr",
          "text": [
            "WARNING:tensorflow:Gradients do not exist for variables ['tf_bert_model/bert/pooler/dense/kernel:0', 'tf_bert_model/bert/pooler/dense/bias:0'] when minimizing the loss. If you're using `model.compile()`, did you forget to provide a `loss` argument?\n"
          ]
        },
        {
          "output_type": "stream",
          "name": "stdout",
          "text": [
            "\b\b\b\b\b\b\b\b\b\b\b\b\b\b\b\b\b\b\b\b\b\b\b\b\b\b\b\b\b\b\b\b\b\b\b\b\b\b\b\b\b\b\b\b\b\b\b\b\b\b\b\b\b\b\b\b\b\b\b\b\b\b\b\b\b\b\b\b\b\b\b\b\b\b\b\b\b\b\b\b\b\b\b\b\b\b\b\b\b\b\b\b\b\b\b\b\r117/146 [=======================>......] - ETA: 15:25 - loss: 0.6642 - balanced_accuracy: 0.7680"
          ]
        },
        {
          "output_type": "stream",
          "name": "stderr",
          "text": [
            "WARNING:tensorflow:Gradients do not exist for variables ['tf_bert_model/bert/pooler/dense/kernel:0', 'tf_bert_model/bert/pooler/dense/bias:0'] when minimizing the loss. If you're using `model.compile()`, did you forget to provide a `loss` argument?\n"
          ]
        },
        {
          "output_type": "stream",
          "name": "stdout",
          "text": [
            "\b\b\b\b\b\b\b\b\b\b\b\b\b\b\b\b\b\b\b\b\b\b\b\b\b\b\b\b\b\b\b\b\b\b\b\b\b\b\b\b\b\b\b\b\b\b\b\b\b\b\b\b\b\b\b\b\b\b\b\b\b\b\b\b\b\b\b\b\b\b\b\b\b\b\b\b\b\b\b\b\b\b\b\b\b\b\b\b\b\b\b\b\b\b\b\b\r118/146 [=======================>......] - ETA: 14:53 - loss: 0.6659 - balanced_accuracy: 0.7674"
          ]
        },
        {
          "output_type": "stream",
          "name": "stderr",
          "text": [
            "WARNING:tensorflow:Gradients do not exist for variables ['tf_bert_model/bert/pooler/dense/kernel:0', 'tf_bert_model/bert/pooler/dense/bias:0'] when minimizing the loss. If you're using `model.compile()`, did you forget to provide a `loss` argument?\n"
          ]
        },
        {
          "output_type": "stream",
          "name": "stdout",
          "text": [
            "\b\b\b\b\b\b\b\b\b\b\b\b\b\b\b\b\b\b\b\b\b\b\b\b\b\b\b\b\b\b\b\b\b\b\b\b\b\b\b\b\b\b\b\b\b\b\b\b\b\b\b\b\b\b\b\b\b\b\b\b\b\b\b\b\b\b\b\b\b\b\b\b\b\b\b\b\b\b\b\b\b\b\b\b\b\b\b\b\b\b\b\b\b\b\b\b\r119/146 [=======================>......] - ETA: 14:21 - loss: 0.6656 - balanced_accuracy: 0.7673"
          ]
        },
        {
          "output_type": "stream",
          "name": "stderr",
          "text": [
            "WARNING:tensorflow:Gradients do not exist for variables ['tf_bert_model/bert/pooler/dense/kernel:0', 'tf_bert_model/bert/pooler/dense/bias:0'] when minimizing the loss. If you're using `model.compile()`, did you forget to provide a `loss` argument?\n"
          ]
        },
        {
          "output_type": "stream",
          "name": "stdout",
          "text": [
            "\b\b\b\b\b\b\b\b\b\b\b\b\b\b\b\b\b\b\b\b\b\b\b\b\b\b\b\b\b\b\b\b\b\b\b\b\b\b\b\b\b\b\b\b\b\b\b\b\b\b\b\b\b\b\b\b\b\b\b\b\b\b\b\b\b\b\b\b\b\b\b\b\b\b\b\b\b\b\b\b\b\b\b\b\b\b\b\b\b\b\b\b\b\b\b\b\r120/146 [=======================>......] - ETA: 13:51 - loss: 0.6650 - balanced_accuracy: 0.7676"
          ]
        },
        {
          "output_type": "stream",
          "name": "stderr",
          "text": [
            "WARNING:tensorflow:Gradients do not exist for variables ['tf_bert_model/bert/pooler/dense/kernel:0', 'tf_bert_model/bert/pooler/dense/bias:0'] when minimizing the loss. If you're using `model.compile()`, did you forget to provide a `loss` argument?\n"
          ]
        },
        {
          "output_type": "stream",
          "name": "stdout",
          "text": [
            "\b\b\b\b\b\b\b\b\b\b\b\b\b\b\b\b\b\b\b\b\b\b\b\b\b\b\b\b\b\b\b\b\b\b\b\b\b\b\b\b\b\b\b\b\b\b\b\b\b\b\b\b\b\b\b\b\b\b\b\b\b\b\b\b\b\b\b\b\b\b\b\b\b\b\b\b\b\b\b\b\b\b\b\b\b\b\b\b\b\b\b\b\b\b\b\b\r121/146 [=======================>......] - ETA: 13:18 - loss: 0.6666 - balanced_accuracy: 0.7670"
          ]
        },
        {
          "output_type": "stream",
          "name": "stderr",
          "text": [
            "WARNING:tensorflow:Gradients do not exist for variables ['tf_bert_model/bert/pooler/dense/kernel:0', 'tf_bert_model/bert/pooler/dense/bias:0'] when minimizing the loss. If you're using `model.compile()`, did you forget to provide a `loss` argument?\n"
          ]
        },
        {
          "output_type": "stream",
          "name": "stdout",
          "text": [
            "\b\b\b\b\b\b\b\b\b\b\b\b\b\b\b\b\b\b\b\b\b\b\b\b\b\b\b\b\b\b\b\b\b\b\b\b\b\b\b\b\b\b\b\b\b\b\b\b\b\b\b\b\b\b\b\b\b\b\b\b\b\b\b\b\b\b\b\b\b\b\b\b\b\b\b\b\b\b\b\b\b\b\b\b\b\b\b\b\b\b\b\b\b\b\b\b\r122/146 [========================>.....] - ETA: 12:46 - loss: 0.6648 - balanced_accuracy: 0.7678"
          ]
        },
        {
          "output_type": "stream",
          "name": "stderr",
          "text": [
            "WARNING:tensorflow:Gradients do not exist for variables ['tf_bert_model/bert/pooler/dense/kernel:0', 'tf_bert_model/bert/pooler/dense/bias:0'] when minimizing the loss. If you're using `model.compile()`, did you forget to provide a `loss` argument?\n"
          ]
        },
        {
          "output_type": "stream",
          "name": "stdout",
          "text": [
            "\b\b\b\b\b\b\b\b\b\b\b\b\b\b\b\b\b\b\b\b\b\b\b\b\b\b\b\b\b\b\b\b\b\b\b\b\b\b\b\b\b\b\b\b\b\b\b\b\b\b\b\b\b\b\b\b\b\b\b\b\b\b\b\b\b\b\b\b\b\b\b\b\b\b\b\b\b\b\b\b\b\b\b\b\b\b\b\b\b\b\b\b\b\b\b\b\r123/146 [========================>.....] - ETA: 12:14 - loss: 0.6636 - balanced_accuracy: 0.7685"
          ]
        },
        {
          "output_type": "stream",
          "name": "stderr",
          "text": [
            "WARNING:tensorflow:Gradients do not exist for variables ['tf_bert_model/bert/pooler/dense/kernel:0', 'tf_bert_model/bert/pooler/dense/bias:0'] when minimizing the loss. If you're using `model.compile()`, did you forget to provide a `loss` argument?\n"
          ]
        },
        {
          "output_type": "stream",
          "name": "stdout",
          "text": [
            "\b\b\b\b\b\b\b\b\b\b\b\b\b\b\b\b\b\b\b\b\b\b\b\b\b\b\b\b\b\b\b\b\b\b\b\b\b\b\b\b\b\b\b\b\b\b\b\b\b\b\b\b\b\b\b\b\b\b\b\b\b\b\b\b\b\b\b\b\b\b\b\b\b\b\b\b\b\b\b\b\b\b\b\b\b\b\b\b\b\b\b\b\b\b\b\b\r124/146 [========================>.....] - ETA: 11:42 - loss: 0.6625 - balanced_accuracy: 0.7688"
          ]
        },
        {
          "output_type": "stream",
          "name": "stderr",
          "text": [
            "WARNING:tensorflow:Gradients do not exist for variables ['tf_bert_model/bert/pooler/dense/kernel:0', 'tf_bert_model/bert/pooler/dense/bias:0'] when minimizing the loss. If you're using `model.compile()`, did you forget to provide a `loss` argument?\n"
          ]
        },
        {
          "output_type": "stream",
          "name": "stdout",
          "text": [
            "\b\b\b\b\b\b\b\b\b\b\b\b\b\b\b\b\b\b\b\b\b\b\b\b\b\b\b\b\b\b\b\b\b\b\b\b\b\b\b\b\b\b\b\b\b\b\b\b\b\b\b\b\b\b\b\b\b\b\b\b\b\b\b\b\b\b\b\b\b\b\b\b\b\b\b\b\b\b\b\b\b\b\b\b\b\b\b\b\b\b\b\b\b\b\b\b\r125/146 [========================>.....] - ETA: 11:10 - loss: 0.6617 - balanced_accuracy: 0.7696"
          ]
        },
        {
          "output_type": "stream",
          "name": "stderr",
          "text": [
            "WARNING:tensorflow:Gradients do not exist for variables ['tf_bert_model/bert/pooler/dense/kernel:0', 'tf_bert_model/bert/pooler/dense/bias:0'] when minimizing the loss. If you're using `model.compile()`, did you forget to provide a `loss` argument?\n"
          ]
        },
        {
          "output_type": "stream",
          "name": "stdout",
          "text": [
            "\b\b\b\b\b\b\b\b\b\b\b\b\b\b\b\b\b\b\b\b\b\b\b\b\b\b\b\b\b\b\b\b\b\b\b\b\b\b\b\b\b\b\b\b\b\b\b\b\b\b\b\b\b\b\b\b\b\b\b\b\b\b\b\b\b\b\b\b\b\b\b\b\b\b\b\b\b\b\b\b\b\b\b\b\b\b\b\b\b\b\b\b\b\b\b\b\r126/146 [========================>.....] - ETA: 10:38 - loss: 0.6601 - balanced_accuracy: 0.7698"
          ]
        },
        {
          "output_type": "stream",
          "name": "stderr",
          "text": [
            "WARNING:tensorflow:Gradients do not exist for variables ['tf_bert_model/bert/pooler/dense/kernel:0', 'tf_bert_model/bert/pooler/dense/bias:0'] when minimizing the loss. If you're using `model.compile()`, did you forget to provide a `loss` argument?\n"
          ]
        },
        {
          "output_type": "stream",
          "name": "stdout",
          "text": [
            "\b\b\b\b\b\b\b\b\b\b\b\b\b\b\b\b\b\b\b\b\b\b\b\b\b\b\b\b\b\b\b\b\b\b\b\b\b\b\b\b\b\b\b\b\b\b\b\b\b\b\b\b\b\b\b\b\b\b\b\b\b\b\b\b\b\b\b\b\b\b\b\b\b\b\b\b\b\b\b\b\b\b\b\b\b\b\b\b\b\b\b\b\b\b\b\b\r127/146 [=========================>....] - ETA: 10:06 - loss: 0.6604 - balanced_accuracy: 0.7701"
          ]
        },
        {
          "output_type": "stream",
          "name": "stderr",
          "text": [
            "WARNING:tensorflow:Gradients do not exist for variables ['tf_bert_model/bert/pooler/dense/kernel:0', 'tf_bert_model/bert/pooler/dense/bias:0'] when minimizing the loss. If you're using `model.compile()`, did you forget to provide a `loss` argument?\n"
          ]
        },
        {
          "output_type": "stream",
          "name": "stdout",
          "text": [
            "\b\b\b\b\b\b\b\b\b\b\b\b\b\b\b\b\b\b\b\b\b\b\b\b\b\b\b\b\b\b\b\b\b\b\b\b\b\b\b\b\b\b\b\b\b\b\b\b\b\b\b\b\b\b\b\b\b\b\b\b\b\b\b\b\b\b\b\b\b\b\b\b\b\b\b\b\b\b\b\b\b\b\b\b\b\b\b\b\b\b\b\b\b\b\b\b\r128/146 [=========================>....] - ETA: 9:35 - loss: 0.6608 - balanced_accuracy: 0.7704 "
          ]
        },
        {
          "output_type": "stream",
          "name": "stderr",
          "text": [
            "WARNING:tensorflow:Gradients do not exist for variables ['tf_bert_model/bert/pooler/dense/kernel:0', 'tf_bert_model/bert/pooler/dense/bias:0'] when minimizing the loss. If you're using `model.compile()`, did you forget to provide a `loss` argument?\n"
          ]
        },
        {
          "output_type": "stream",
          "name": "stdout",
          "text": [
            "\b\b\b\b\b\b\b\b\b\b\b\b\b\b\b\b\b\b\b\b\b\b\b\b\b\b\b\b\b\b\b\b\b\b\b\b\b\b\b\b\b\b\b\b\b\b\b\b\b\b\b\b\b\b\b\b\b\b\b\b\b\b\b\b\b\b\b\b\b\b\b\b\b\b\b\b\b\b\b\b\b\b\b\b\b\b\b\b\b\b\b\b\b\b\b\r129/146 [=========================>....] - ETA: 9:03 - loss: 0.6624 - balanced_accuracy: 0.7698"
          ]
        },
        {
          "output_type": "stream",
          "name": "stderr",
          "text": [
            "WARNING:tensorflow:Gradients do not exist for variables ['tf_bert_model/bert/pooler/dense/kernel:0', 'tf_bert_model/bert/pooler/dense/bias:0'] when minimizing the loss. If you're using `model.compile()`, did you forget to provide a `loss` argument?\n"
          ]
        },
        {
          "output_type": "stream",
          "name": "stdout",
          "text": [
            "\b\b\b\b\b\b\b\b\b\b\b\b\b\b\b\b\b\b\b\b\b\b\b\b\b\b\b\b\b\b\b\b\b\b\b\b\b\b\b\b\b\b\b\b\b\b\b\b\b\b\b\b\b\b\b\b\b\b\b\b\b\b\b\b\b\b\b\b\b\b\b\b\b\b\b\b\b\b\b\b\b\b\b\b\b\b\b\b\b\b\b\b\b\b\b\r130/146 [=========================>....] - ETA: 8:31 - loss: 0.6631 - balanced_accuracy: 0.7699"
          ]
        },
        {
          "output_type": "stream",
          "name": "stderr",
          "text": [
            "WARNING:tensorflow:Gradients do not exist for variables ['tf_bert_model/bert/pooler/dense/kernel:0', 'tf_bert_model/bert/pooler/dense/bias:0'] when minimizing the loss. If you're using `model.compile()`, did you forget to provide a `loss` argument?\n"
          ]
        },
        {
          "output_type": "stream",
          "name": "stdout",
          "text": [
            "\b\b\b\b\b\b\b\b\b\b\b\b\b\b\b\b\b\b\b\b\b\b\b\b\b\b\b\b\b\b\b\b\b\b\b\b\b\b\b\b\b\b\b\b\b\b\b\b\b\b\b\b\b\b\b\b\b\b\b\b\b\b\b\b\b\b\b\b\b\b\b\b\b\b\b\b\b\b\b\b\b\b\b\b\b\b\b\b\b\b\b\b\b\b\b\r131/146 [=========================>....] - ETA: 7:59 - loss: 0.6653 - balanced_accuracy: 0.7691"
          ]
        },
        {
          "output_type": "stream",
          "name": "stderr",
          "text": [
            "WARNING:tensorflow:Gradients do not exist for variables ['tf_bert_model/bert/pooler/dense/kernel:0', 'tf_bert_model/bert/pooler/dense/bias:0'] when minimizing the loss. If you're using `model.compile()`, did you forget to provide a `loss` argument?\n"
          ]
        },
        {
          "output_type": "stream",
          "name": "stdout",
          "text": [
            "\b\b\b\b\b\b\b\b\b\b\b\b\b\b\b\b\b\b\b\b\b\b\b\b\b\b\b\b\b\b\b\b\b\b\b\b\b\b\b\b\b\b\b\b\b\b\b\b\b\b\b\b\b\b\b\b\b\b\b\b\b\b\b\b\b\b\b\b\b\b\b\b\b\b\b\b\b\b\b\b\b\b\b\b\b\b\b\b\b\b\b\b\b\b\b\r132/146 [==========================>...] - ETA: 7:27 - loss: 0.6658 - balanced_accuracy: 0.7687"
          ]
        },
        {
          "output_type": "stream",
          "name": "stderr",
          "text": [
            "WARNING:tensorflow:Gradients do not exist for variables ['tf_bert_model/bert/pooler/dense/kernel:0', 'tf_bert_model/bert/pooler/dense/bias:0'] when minimizing the loss. If you're using `model.compile()`, did you forget to provide a `loss` argument?\n"
          ]
        },
        {
          "output_type": "stream",
          "name": "stdout",
          "text": [
            "\b\b\b\b\b\b\b\b\b\b\b\b\b\b\b\b\b\b\b\b\b\b\b\b\b\b\b\b\b\b\b\b\b\b\b\b\b\b\b\b\b\b\b\b\b\b\b\b\b\b\b\b\b\b\b\b\b\b\b\b\b\b\b\b\b\b\b\b\b\b\b\b\b\b\b\b\b\b\b\b\b\b\b\b\b\b\b\b\b\b\b\b\b\b\b\r133/146 [==========================>...] - ETA: 6:55 - loss: 0.6653 - balanced_accuracy: 0.7690"
          ]
        },
        {
          "output_type": "stream",
          "name": "stderr",
          "text": [
            "WARNING:tensorflow:Gradients do not exist for variables ['tf_bert_model/bert/pooler/dense/kernel:0', 'tf_bert_model/bert/pooler/dense/bias:0'] when minimizing the loss. If you're using `model.compile()`, did you forget to provide a `loss` argument?\n"
          ]
        },
        {
          "output_type": "stream",
          "name": "stdout",
          "text": [
            "\b\b\b\b\b\b\b\b\b\b\b\b\b\b\b\b\b\b\b\b\b\b\b\b\b\b\b\b\b\b\b\b\b\b\b\b\b\b\b\b\b\b\b\b\b\b\b\b\b\b\b\b\b\b\b\b\b\b\b\b\b\b\b\b\b\b\b\b\b\b\b\b\b\b\b\b\b\b\b\b\b\b\b\b\b\b\b\b\b\b\b\b\b\b\b\r134/146 [==========================>...] - ETA: 6:23 - loss: 0.6654 - balanced_accuracy: 0.7693"
          ]
        },
        {
          "output_type": "stream",
          "name": "stderr",
          "text": [
            "WARNING:tensorflow:Gradients do not exist for variables ['tf_bert_model/bert/pooler/dense/kernel:0', 'tf_bert_model/bert/pooler/dense/bias:0'] when minimizing the loss. If you're using `model.compile()`, did you forget to provide a `loss` argument?\n"
          ]
        },
        {
          "output_type": "stream",
          "name": "stdout",
          "text": [
            "\b\b\b\b\b\b\b\b\b\b\b\b\b\b\b\b\b\b\b\b\b\b\b\b\b\b\b\b\b\b\b\b\b\b\b\b\b\b\b\b\b\b\b\b\b\b\b\b\b\b\b\b\b\b\b\b\b\b\b\b\b\b\b\b\b\b\b\b\b\b\b\b\b\b\b\b\b\b\b\b\b\b\b\b\b\b\b\b\b\b\b\b\b\b\b\r135/146 [==========================>...] - ETA: 5:51 - loss: 0.6658 - balanced_accuracy: 0.7691"
          ]
        },
        {
          "output_type": "stream",
          "name": "stderr",
          "text": [
            "WARNING:tensorflow:Gradients do not exist for variables ['tf_bert_model/bert/pooler/dense/kernel:0', 'tf_bert_model/bert/pooler/dense/bias:0'] when minimizing the loss. If you're using `model.compile()`, did you forget to provide a `loss` argument?\n"
          ]
        },
        {
          "output_type": "stream",
          "name": "stdout",
          "text": [
            "\b\b\b\b\b\b\b\b\b\b\b\b\b\b\b\b\b\b\b\b\b\b\b\b\b\b\b\b\b\b\b\b\b\b\b\b\b\b\b\b\b\b\b\b\b\b\b\b\b\b\b\b\b\b\b\b\b\b\b\b\b\b\b\b\b\b\b\b\b\b\b\b\b\b\b\b\b\b\b\b\b\b\b\b\b\b\b\b\b\b\b\b\b\b\b\r136/146 [==========================>...] - ETA: 5:19 - loss: 0.6646 - balanced_accuracy: 0.7694"
          ]
        },
        {
          "output_type": "stream",
          "name": "stderr",
          "text": [
            "WARNING:tensorflow:Gradients do not exist for variables ['tf_bert_model/bert/pooler/dense/kernel:0', 'tf_bert_model/bert/pooler/dense/bias:0'] when minimizing the loss. If you're using `model.compile()`, did you forget to provide a `loss` argument?\n"
          ]
        },
        {
          "output_type": "stream",
          "name": "stdout",
          "text": [
            "\b\b\b\b\b\b\b\b\b\b\b\b\b\b\b\b\b\b\b\b\b\b\b\b\b\b\b\b\b\b\b\b\b\b\b\b\b\b\b\b\b\b\b\b\b\b\b\b\b\b\b\b\b\b\b\b\b\b\b\b\b\b\b\b\b\b\b\b\b\b\b\b\b\b\b\b\b\b\b\b\b\b\b\b\b\b\b\b\b\b\b\b\b\b\b\r137/146 [===========================>..] - ETA: 4:47 - loss: 0.6659 - balanced_accuracy: 0.7687"
          ]
        },
        {
          "output_type": "stream",
          "name": "stderr",
          "text": [
            "WARNING:tensorflow:Gradients do not exist for variables ['tf_bert_model/bert/pooler/dense/kernel:0', 'tf_bert_model/bert/pooler/dense/bias:0'] when minimizing the loss. If you're using `model.compile()`, did you forget to provide a `loss` argument?\n"
          ]
        },
        {
          "output_type": "stream",
          "name": "stdout",
          "text": [
            "\b\b\b\b\b\b\b\b\b\b\b\b\b\b\b\b\b\b\b\b\b\b\b\b\b\b\b\b\b\b\b\b\b\b\b\b\b\b\b\b\b\b\b\b\b\b\b\b\b\b\b\b\b\b\b\b\b\b\b\b\b\b\b\b\b\b\b\b\b\b\b\b\b\b\b\b\b\b\b\b\b\b\b\b\b\b\b\b\b\b\b\b\b\b\b\r138/146 [===========================>..] - ETA: 4:15 - loss: 0.6644 - balanced_accuracy: 0.7689"
          ]
        },
        {
          "output_type": "stream",
          "name": "stderr",
          "text": [
            "WARNING:tensorflow:Gradients do not exist for variables ['tf_bert_model/bert/pooler/dense/kernel:0', 'tf_bert_model/bert/pooler/dense/bias:0'] when minimizing the loss. If you're using `model.compile()`, did you forget to provide a `loss` argument?\n"
          ]
        },
        {
          "output_type": "stream",
          "name": "stdout",
          "text": [
            "\b\b\b\b\b\b\b\b\b\b\b\b\b\b\b\b\b\b\b\b\b\b\b\b\b\b\b\b\b\b\b\b\b\b\b\b\b\b\b\b\b\b\b\b\b\b\b\b\b\b\b\b\b\b\b\b\b\b\b\b\b\b\b\b\b\b\b\b\b\b\b\b\b\b\b\b\b\b\b\b\b\b\b\b\b\b\b\b\b\b\b\b\b\b\b\r139/146 [===========================>..] - ETA: 3:43 - loss: 0.6663 - balanced_accuracy: 0.7682"
          ]
        },
        {
          "output_type": "stream",
          "name": "stderr",
          "text": [
            "WARNING:tensorflow:Gradients do not exist for variables ['tf_bert_model/bert/pooler/dense/kernel:0', 'tf_bert_model/bert/pooler/dense/bias:0'] when minimizing the loss. If you're using `model.compile()`, did you forget to provide a `loss` argument?\n"
          ]
        },
        {
          "output_type": "stream",
          "name": "stdout",
          "text": [
            "\b\b\b\b\b\b\b\b\b\b\b\b\b\b\b\b\b\b\b\b\b\b\b\b\b\b\b\b\b\b\b\b\b\b\b\b\b\b\b\b\b\b\b\b\b\b\b\b\b\b\b\b\b\b\b\b\b\b\b\b\b\b\b\b\b\b\b\b\b\b\b\b\b\b\b\b\b\b\b\b\b\b\b\b\b\b\b\b\b\b\b\b\b\b\b\r140/146 [===========================>..] - ETA: 3:11 - loss: 0.6676 - balanced_accuracy: 0.7675"
          ]
        },
        {
          "output_type": "stream",
          "name": "stderr",
          "text": [
            "WARNING:tensorflow:Gradients do not exist for variables ['tf_bert_model/bert/pooler/dense/kernel:0', 'tf_bert_model/bert/pooler/dense/bias:0'] when minimizing the loss. If you're using `model.compile()`, did you forget to provide a `loss` argument?\n"
          ]
        },
        {
          "output_type": "stream",
          "name": "stdout",
          "text": [
            "\b\b\b\b\b\b\b\b\b\b\b\b\b\b\b\b\b\b\b\b\b\b\b\b\b\b\b\b\b\b\b\b\b\b\b\b\b\b\b\b\b\b\b\b\b\b\b\b\b\b\b\b\b\b\b\b\b\b\b\b\b\b\b\b\b\b\b\b\b\b\b\b\b\b\b\b\b\b\b\b\b\b\b\b\b\b\b\b\b\b\b\b\b\b\b\r141/146 [===========================>..] - ETA: 2:39 - loss: 0.6689 - balanced_accuracy: 0.7667"
          ]
        },
        {
          "output_type": "stream",
          "name": "stderr",
          "text": [
            "WARNING:tensorflow:Gradients do not exist for variables ['tf_bert_model/bert/pooler/dense/kernel:0', 'tf_bert_model/bert/pooler/dense/bias:0'] when minimizing the loss. If you're using `model.compile()`, did you forget to provide a `loss` argument?\n"
          ]
        },
        {
          "output_type": "stream",
          "name": "stdout",
          "text": [
            "\b\b\b\b\b\b\b\b\b\b\b\b\b\b\b\b\b\b\b\b\b\b\b\b\b\b\b\b\b\b\b\b\b\b\b\b\b\b\b\b\b\b\b\b\b\b\b\b\b\b\b\b\b\b\b\b\b\b\b\b\b\b\b\b\b\b\b\b\b\b\b\b\b\b\b\b\b\b\b\b\b\b\b\b\b\b\b\b\b\b\b\b\b\b\b\r142/146 [============================>.] - ETA: 2:07 - loss: 0.6683 - balanced_accuracy: 0.7668"
          ]
        },
        {
          "output_type": "stream",
          "name": "stderr",
          "text": [
            "WARNING:tensorflow:Gradients do not exist for variables ['tf_bert_model/bert/pooler/dense/kernel:0', 'tf_bert_model/bert/pooler/dense/bias:0'] when minimizing the loss. If you're using `model.compile()`, did you forget to provide a `loss` argument?\n"
          ]
        },
        {
          "output_type": "stream",
          "name": "stdout",
          "text": [
            "\b\b\b\b\b\b\b\b\b\b\b\b\b\b\b\b\b\b\b\b\b\b\b\b\b\b\b\b\b\b\b\b\b\b\b\b\b\b\b\b\b\b\b\b\b\b\b\b\b\b\b\b\b\b\b\b\b\b\b\b\b\b\b\b\b\b\b\b\b\b\b\b\b\b\b\b\b\b\b\b\b\b\b\b\b\b\b\b\b\b\b\b\b\b\b\r143/146 [============================>.] - ETA: 1:35 - loss: 0.6692 - balanced_accuracy: 0.7659"
          ]
        },
        {
          "output_type": "stream",
          "name": "stderr",
          "text": [
            "WARNING:tensorflow:Gradients do not exist for variables ['tf_bert_model/bert/pooler/dense/kernel:0', 'tf_bert_model/bert/pooler/dense/bias:0'] when minimizing the loss. If you're using `model.compile()`, did you forget to provide a `loss` argument?\n"
          ]
        },
        {
          "output_type": "stream",
          "name": "stdout",
          "text": [
            "\b\b\b\b\b\b\b\b\b\b\b\b\b\b\b\b\b\b\b\b\b\b\b\b\b\b\b\b\b\b\b\b\b\b\b\b\b\b\b\b\b\b\b\b\b\b\b\b\b\b\b\b\b\b\b\b\b\b\b\b\b\b\b\b\b\b\b\b\b\b\b\b\b\b\b\b\b\b\b\b\b\b\b\b\b\b\b\b\b\b\b\b\b\b\b\r144/146 [============================>.] - ETA: 1:03 - loss: 0.6697 - balanced_accuracy: 0.7660"
          ]
        },
        {
          "output_type": "stream",
          "name": "stderr",
          "text": [
            "WARNING:tensorflow:Gradients do not exist for variables ['tf_bert_model/bert/pooler/dense/kernel:0', 'tf_bert_model/bert/pooler/dense/bias:0'] when minimizing the loss. If you're using `model.compile()`, did you forget to provide a `loss` argument?\n"
          ]
        },
        {
          "output_type": "stream",
          "name": "stdout",
          "text": [
            "\b\b\b\b\b\b\b\b\b\b\b\b\b\b\b\b\b\b\b\b\b\b\b\b\b\b\b\b\b\b\b\b\b\b\b\b\b\b\b\b\b\b\b\b\b\b\b\b\b\b\b\b\b\b\b\b\b\b\b\b\b\b\b\b\b\b\b\b\b\b\b\b\b\b\b\b\b\b\b\b\b\b\b\b\b\b\b\b\b\b\b\b\b\b\b\r145/146 [============================>.] - ETA: 31s - loss: 0.6708 - balanced_accuracy: 0.7657 "
          ]
        },
        {
          "output_type": "stream",
          "name": "stderr",
          "text": [
            "WARNING:tensorflow:Gradients do not exist for variables ['tf_bert_model/bert/pooler/dense/kernel:0', 'tf_bert_model/bert/pooler/dense/bias:0'] when minimizing the loss. If you're using `model.compile()`, did you forget to provide a `loss` argument?\n"
          ]
        },
        {
          "output_type": "stream",
          "name": "stdout",
          "text": [
            "146/146 [==============================] - 5277s 36s/step - loss: 0.6698 - balanced_accuracy: 0.7662 - val_loss: 0.8081 - val_balanced_accuracy: 0.7175\n",
            "Epoch 3/4\n"
          ]
        },
        {
          "output_type": "stream",
          "name": "stderr",
          "text": [
            "WARNING:tensorflow:Gradients do not exist for variables ['tf_bert_model/bert/pooler/dense/kernel:0', 'tf_bert_model/bert/pooler/dense/bias:0'] when minimizing the loss. If you're using `model.compile()`, did you forget to provide a `loss` argument?\n"
          ]
        },
        {
          "output_type": "stream",
          "name": "stdout",
          "text": [
            "\r  1/146 [..............................] - ETA: 1:25:42 - loss: 0.2944 - balanced_accuracy: 0.9444"
          ]
        },
        {
          "output_type": "stream",
          "name": "stderr",
          "text": [
            "WARNING:tensorflow:Gradients do not exist for variables ['tf_bert_model/bert/pooler/dense/kernel:0', 'tf_bert_model/bert/pooler/dense/bias:0'] when minimizing the loss. If you're using `model.compile()`, did you forget to provide a `loss` argument?\n"
          ]
        },
        {
          "output_type": "stream",
          "name": "stdout",
          "text": [
            "\b\b\b\b\b\b\b\b\b\b\b\b\b\b\b\b\b\b\b\b\b\b\b\b\b\b\b\b\b\b\b\b\b\b\b\b\b\b\b\b\b\b\b\b\b\b\b\b\b\b\b\b\b\b\b\b\b\b\b\b\b\b\b\b\b\b\b\b\b\b\b\b\b\b\b\b\b\b\b\b\b\b\b\b\b\b\b\b\b\b\b\b\b\b\b\b\b\b\r  2/146 [..............................] - ETA: 1:17:05 - loss: 0.6054 - balanced_accuracy: 0.8194"
          ]
        },
        {
          "output_type": "stream",
          "name": "stderr",
          "text": [
            "WARNING:tensorflow:Gradients do not exist for variables ['tf_bert_model/bert/pooler/dense/kernel:0', 'tf_bert_model/bert/pooler/dense/bias:0'] when minimizing the loss. If you're using `model.compile()`, did you forget to provide a `loss` argument?\n"
          ]
        },
        {
          "output_type": "stream",
          "name": "stdout",
          "text": [
            "\b\b\b\b\b\b\b\b\b\b\b\b\b\b\b\b\b\b\b\b\b\b\b\b\b\b\b\b\b\b\b\b\b\b\b\b\b\b\b\b\b\b\b\b\b\b\b\b\b\b\b\b\b\b\b\b\b\b\b\b\b\b\b\b\b\b\b\b\b\b\b\b\b\b\b\b\b\b\b\b\b\b\b\b\b\b\b\b\b\b\b\b\b\b\b\b\b\b\r  3/146 [..............................] - ETA: 1:17:15 - loss: 0.6016 - balanced_accuracy: 0.8241"
          ]
        },
        {
          "output_type": "stream",
          "name": "stderr",
          "text": [
            "WARNING:tensorflow:Gradients do not exist for variables ['tf_bert_model/bert/pooler/dense/kernel:0', 'tf_bert_model/bert/pooler/dense/bias:0'] when minimizing the loss. If you're using `model.compile()`, did you forget to provide a `loss` argument?\n"
          ]
        },
        {
          "output_type": "stream",
          "name": "stdout",
          "text": [
            "\b\b\b\b\b\b\b\b\b\b\b\b\b\b\b\b\b\b\b\b\b\b\b\b\b\b\b\b\b\b\b\b\b\b\b\b\b\b\b\b\b\b\b\b\b\b\b\b\b\b\b\b\b\b\b\b\b\b\b\b\b\b\b\b\b\b\b\b\b\b\b\b\b\b\b\b\b\b\b\b\b\b\b\b\b\b\b\b\b\b\b\b\b\b\b\b\b\b\r  4/146 [..............................] - ETA: 1:17:37 - loss: 0.5591 - balanced_accuracy: 0.8403"
          ]
        },
        {
          "output_type": "stream",
          "name": "stderr",
          "text": [
            "WARNING:tensorflow:Gradients do not exist for variables ['tf_bert_model/bert/pooler/dense/kernel:0', 'tf_bert_model/bert/pooler/dense/bias:0'] when minimizing the loss. If you're using `model.compile()`, did you forget to provide a `loss` argument?\n"
          ]
        },
        {
          "output_type": "stream",
          "name": "stdout",
          "text": [
            "\b\b\b\b\b\b\b\b\b\b\b\b\b\b\b\b\b\b\b\b\b\b\b\b\b\b\b\b\b\b\b\b\b\b\b\b\b\b\b\b\b\b\b\b\b\b\b\b\b\b\b\b\b\b\b\b\b\b\b\b\b\b\b\b\b\b\b\b\b\b\b\b\b\b\b\b\b\b\b\b\b\b\b\b\b\b\b\b\b\b\b\b\b\b\b\b\b\b\r  5/146 [>.............................] - ETA: 1:16:30 - loss: 0.5534 - balanced_accuracy: 0.8444"
          ]
        },
        {
          "output_type": "stream",
          "name": "stderr",
          "text": [
            "WARNING:tensorflow:Gradients do not exist for variables ['tf_bert_model/bert/pooler/dense/kernel:0', 'tf_bert_model/bert/pooler/dense/bias:0'] when minimizing the loss. If you're using `model.compile()`, did you forget to provide a `loss` argument?\n"
          ]
        },
        {
          "output_type": "stream",
          "name": "stdout",
          "text": [
            "\b\b\b\b\b\b\b\b\b\b\b\b\b\b\b\b\b\b\b\b\b\b\b\b\b\b\b\b\b\b\b\b\b\b\b\b\b\b\b\b\b\b\b\b\b\b\b\b\b\b\b\b\b\b\b\b\b\b\b\b\b\b\b\b\b\b\b\b\b\b\b\b\b\b\b\b\b\b\b\b\b\b\b\b\b\b\b\b\b\b\b\b\b\b\b\b\b\b\r  6/146 [>.............................] - ETA: 1:15:40 - loss: 0.5047 - balanced_accuracy: 0.8611"
          ]
        },
        {
          "output_type": "stream",
          "name": "stderr",
          "text": [
            "WARNING:tensorflow:Gradients do not exist for variables ['tf_bert_model/bert/pooler/dense/kernel:0', 'tf_bert_model/bert/pooler/dense/bias:0'] when minimizing the loss. If you're using `model.compile()`, did you forget to provide a `loss` argument?\n"
          ]
        },
        {
          "output_type": "stream",
          "name": "stdout",
          "text": [
            "\b\b\b\b\b\b\b\b\b\b\b\b\b\b\b\b\b\b\b\b\b\b\b\b\b\b\b\b\b\b\b\b\b\b\b\b\b\b\b\b\b\b\b\b\b\b\b\b\b\b\b\b\b\b\b\b\b\b\b\b\b\b\b\b\b\b\b\b\b\b\b\b\b\b\b\b\b\b\b\b\b\b\b\b\b\b\b\b\b\b\b\b\b\b\b\b\b\b\r  7/146 [>.............................] - ETA: 1:15:23 - loss: 0.5024 - balanced_accuracy: 0.8611"
          ]
        },
        {
          "output_type": "stream",
          "name": "stderr",
          "text": [
            "WARNING:tensorflow:Gradients do not exist for variables ['tf_bert_model/bert/pooler/dense/kernel:0', 'tf_bert_model/bert/pooler/dense/bias:0'] when minimizing the loss. If you're using `model.compile()`, did you forget to provide a `loss` argument?\n"
          ]
        },
        {
          "output_type": "stream",
          "name": "stdout",
          "text": [
            "\b\b\b\b\b\b\b\b\b\b\b\b\b\b\b\b\b\b\b\b\b\b\b\b\b\b\b\b\b\b\b\b\b\b\b\b\b\b\b\b\b\b\b\b\b\b\b\b\b\b\b\b\b\b\b\b\b\b\b\b\b\b\b\b\b\b\b\b\b\b\b\b\b\b\b\b\b\b\b\b\b\b\b\b\b\b\b\b\b\b\b\b\b\b\b\b\b\b\r  8/146 [>.............................] - ETA: 1:14:44 - loss: 0.5065 - balanced_accuracy: 0.8611"
          ]
        },
        {
          "output_type": "stream",
          "name": "stderr",
          "text": [
            "WARNING:tensorflow:Gradients do not exist for variables ['tf_bert_model/bert/pooler/dense/kernel:0', 'tf_bert_model/bert/pooler/dense/bias:0'] when minimizing the loss. If you're using `model.compile()`, did you forget to provide a `loss` argument?\n"
          ]
        },
        {
          "output_type": "stream",
          "name": "stdout",
          "text": [
            "\b\b\b\b\b\b\b\b\b\b\b\b\b\b\b\b\b\b\b\b\b\b\b\b\b\b\b\b\b\b\b\b\b\b\b\b\b\b\b\b\b\b\b\b\b\b\b\b\b\b\b\b\b\b\b\b\b\b\b\b\b\b\b\b\b\b\b\b\b\b\b\b\b\b\b\b\b\b\b\b\b\b\b\b\b\b\b\b\b\b\b\b\b\b\b\b\b\b\r  9/146 [>.............................] - ETA: 1:13:55 - loss: 0.5073 - balanced_accuracy: 0.8580"
          ]
        },
        {
          "output_type": "stream",
          "name": "stderr",
          "text": [
            "WARNING:tensorflow:Gradients do not exist for variables ['tf_bert_model/bert/pooler/dense/kernel:0', 'tf_bert_model/bert/pooler/dense/bias:0'] when minimizing the loss. If you're using `model.compile()`, did you forget to provide a `loss` argument?\n"
          ]
        },
        {
          "output_type": "stream",
          "name": "stdout",
          "text": [
            "\b\b\b\b\b\b\b\b\b\b\b\b\b\b\b\b\b\b\b\b\b\b\b\b\b\b\b\b\b\b\b\b\b\b\b\b\b\b\b\b\b\b\b\b\b\b\b\b\b\b\b\b\b\b\b\b\b\b\b\b\b\b\b\b\b\b\b\b\b\b\b\b\b\b\b\b\b\b\b\b\b\b\b\b\b\b\b\b\b\b\b\b\b\b\b\b\b\b\r 10/146 [=>............................] - ETA: 1:13:16 - loss: 0.5214 - balanced_accuracy: 0.8500"
          ]
        },
        {
          "output_type": "stream",
          "name": "stderr",
          "text": [
            "WARNING:tensorflow:Gradients do not exist for variables ['tf_bert_model/bert/pooler/dense/kernel:0', 'tf_bert_model/bert/pooler/dense/bias:0'] when minimizing the loss. If you're using `model.compile()`, did you forget to provide a `loss` argument?\n"
          ]
        },
        {
          "output_type": "stream",
          "name": "stdout",
          "text": [
            "\b\b\b\b\b\b\b\b\b\b\b\b\b\b\b\b\b\b\b\b\b\b\b\b\b\b\b\b\b\b\b\b\b\b\b\b\b\b\b\b\b\b\b\b\b\b\b\b\b\b\b\b\b\b\b\b\b\b\b\b\b\b\b\b\b\b\b\b\b\b\b\b\b\b\b\b\b\b\b\b\b\b\b\b\b\b\b\b\b\b\b\b\b\b\b\b\b\b\r 11/146 [=>............................] - ETA: 1:13:06 - loss: 0.5340 - balanced_accuracy: 0.8510"
          ]
        },
        {
          "output_type": "stream",
          "name": "stderr",
          "text": [
            "WARNING:tensorflow:Gradients do not exist for variables ['tf_bert_model/bert/pooler/dense/kernel:0', 'tf_bert_model/bert/pooler/dense/bias:0'] when minimizing the loss. If you're using `model.compile()`, did you forget to provide a `loss` argument?\n"
          ]
        },
        {
          "output_type": "stream",
          "name": "stdout",
          "text": [
            "\b\b\b\b\b\b\b\b\b\b\b\b\b\b\b\b\b\b\b\b\b\b\b\b\b\b\b\b\b\b\b\b\b\b\b\b\b\b\b\b\b\b\b\b\b\b\b\b\b\b\b\b\b\b\b\b\b\b\b\b\b\b\b\b\b\b\b\b\b\b\b\b\b\b\b\b\b\b\b\b\b\b\b\b\b\b\b\b\b\b\b\b\b\b\b\b\b\b\r 12/146 [=>............................] - ETA: 1:12:25 - loss: 0.5372 - balanced_accuracy: 0.8519"
          ]
        },
        {
          "output_type": "stream",
          "name": "stderr",
          "text": [
            "WARNING:tensorflow:Gradients do not exist for variables ['tf_bert_model/bert/pooler/dense/kernel:0', 'tf_bert_model/bert/pooler/dense/bias:0'] when minimizing the loss. If you're using `model.compile()`, did you forget to provide a `loss` argument?\n"
          ]
        },
        {
          "output_type": "stream",
          "name": "stdout",
          "text": [
            "\b\b\b\b\b\b\b\b\b\b\b\b\b\b\b\b\b\b\b\b\b\b\b\b\b\b\b\b\b\b\b\b\b\b\b\b\b\b\b\b\b\b\b\b\b\b\b\b\b\b\b\b\b\b\b\b\b\b\b\b\b\b\b\b\b\b\b\b\b\b\b\b\b\b\b\b\b\b\b\b\b\b\b\b\b\b\b\b\b\b\b\b\b\b\b\b\b\b\r 13/146 [=>............................] - ETA: 1:12:02 - loss: 0.5172 - balanced_accuracy: 0.8568"
          ]
        },
        {
          "output_type": "stream",
          "name": "stderr",
          "text": [
            "WARNING:tensorflow:Gradients do not exist for variables ['tf_bert_model/bert/pooler/dense/kernel:0', 'tf_bert_model/bert/pooler/dense/bias:0'] when minimizing the loss. If you're using `model.compile()`, did you forget to provide a `loss` argument?\n"
          ]
        },
        {
          "output_type": "stream",
          "name": "stdout",
          "text": [
            "\b\b\b\b\b\b\b\b\b\b\b\b\b\b\b\b\b\b\b\b\b\b\b\b\b\b\b\b\b\b\b\b\b\b\b\b\b\b\b\b\b\b\b\b\b\b\b\b\b\b\b\b\b\b\b\b\b\b\b\b\b\b\b\b\b\b\b\b\b\b\b\b\b\b\b\b\b\b\b\b\b\b\b\b\b\b\b\b\b\b\b\b\b\b\b\b\b\b\r 14/146 [=>............................] - ETA: 1:11:28 - loss: 0.5187 - balanced_accuracy: 0.8552"
          ]
        },
        {
          "output_type": "stream",
          "name": "stderr",
          "text": [
            "WARNING:tensorflow:Gradients do not exist for variables ['tf_bert_model/bert/pooler/dense/kernel:0', 'tf_bert_model/bert/pooler/dense/bias:0'] when minimizing the loss. If you're using `model.compile()`, did you forget to provide a `loss` argument?\n"
          ]
        },
        {
          "output_type": "stream",
          "name": "stdout",
          "text": [
            "\b\b\b\b\b\b\b\b\b\b\b\b\b\b\b\b\b\b\b\b\b\b\b\b\b\b\b\b\b\b\b\b\b\b\b\b\b\b\b\b\b\b\b\b\b\b\b\b\b\b\b\b\b\b\b\b\b\b\b\b\b\b\b\b\b\b\b\b\b\b\b\b\b\b\b\b\b\b\b\b\b\b\b\b\b\b\b\b\b\b\b\b\b\b\b\b\b\b\r 15/146 [==>...........................] - ETA: 1:11:05 - loss: 0.5140 - balanced_accuracy: 0.8519"
          ]
        },
        {
          "output_type": "stream",
          "name": "stderr",
          "text": [
            "WARNING:tensorflow:Gradients do not exist for variables ['tf_bert_model/bert/pooler/dense/kernel:0', 'tf_bert_model/bert/pooler/dense/bias:0'] when minimizing the loss. If you're using `model.compile()`, did you forget to provide a `loss` argument?\n"
          ]
        },
        {
          "output_type": "stream",
          "name": "stdout",
          "text": [
            "\b\b\b\b\b\b\b\b\b\b\b\b\b\b\b\b\b\b\b\b\b\b\b\b\b\b\b\b\b\b\b\b\b\b\b\b\b\b\b\b\b\b\b\b\b\b\b\b\b\b\b\b\b\b\b\b\b\b\b\b\b\b\b\b\b\b\b\b\b\b\b\b\b\b\b\b\b\b\b\b\b\b\b\b\b\b\b\b\b\b\b\b\b\b\b\b\b\b\r 16/146 [==>...........................] - ETA: 1:10:20 - loss: 0.5148 - balanced_accuracy: 0.8490"
          ]
        },
        {
          "output_type": "stream",
          "name": "stderr",
          "text": [
            "WARNING:tensorflow:Gradients do not exist for variables ['tf_bert_model/bert/pooler/dense/kernel:0', 'tf_bert_model/bert/pooler/dense/bias:0'] when minimizing the loss. If you're using `model.compile()`, did you forget to provide a `loss` argument?\n"
          ]
        },
        {
          "output_type": "stream",
          "name": "stdout",
          "text": [
            "\b\b\b\b\b\b\b\b\b\b\b\b\b\b\b\b\b\b\b\b\b\b\b\b\b\b\b\b\b\b\b\b\b\b\b\b\b\b\b\b\b\b\b\b\b\b\b\b\b\b\b\b\b\b\b\b\b\b\b\b\b\b\b\b\b\b\b\b\b\b\b\b\b\b\b\b\b\b\b\b\b\b\b\b\b\b\b\b\b\b\b\b\b\b\b\b\b\b\r 17/146 [==>...........................] - ETA: 1:09:46 - loss: 0.5074 - balanced_accuracy: 0.8497"
          ]
        },
        {
          "output_type": "stream",
          "name": "stderr",
          "text": [
            "WARNING:tensorflow:Gradients do not exist for variables ['tf_bert_model/bert/pooler/dense/kernel:0', 'tf_bert_model/bert/pooler/dense/bias:0'] when minimizing the loss. If you're using `model.compile()`, did you forget to provide a `loss` argument?\n"
          ]
        },
        {
          "output_type": "stream",
          "name": "stdout",
          "text": [
            "\b\b\b\b\b\b\b\b\b\b\b\b\b\b\b\b\b\b\b\b\b\b\b\b\b\b\b\b\b\b\b\b\b\b\b\b\b\b\b\b\b\b\b\b\b\b\b\b\b\b\b\b\b\b\b\b\b\b\b\b\b\b\b\b\b\b\b\b\b\b\b\b\b\b\b\b\b\b\b\b\b\b\b\b\b\b\b\b\b\b\b\b\b\b\b\b\b\b\r 18/146 [==>...........................] - ETA: 1:09:12 - loss: 0.5015 - balanced_accuracy: 0.8503"
          ]
        },
        {
          "output_type": "stream",
          "name": "stderr",
          "text": [
            "WARNING:tensorflow:Gradients do not exist for variables ['tf_bert_model/bert/pooler/dense/kernel:0', 'tf_bert_model/bert/pooler/dense/bias:0'] when minimizing the loss. If you're using `model.compile()`, did you forget to provide a `loss` argument?\n"
          ]
        },
        {
          "output_type": "stream",
          "name": "stdout",
          "text": [
            "\b\b\b\b\b\b\b\b\b\b\b\b\b\b\b\b\b\b\b\b\b\b\b\b\b\b\b\b\b\b\b\b\b\b\b\b\b\b\b\b\b\b\b\b\b\b\b\b\b\b\b\b\b\b\b\b\b\b\b\b\b\b\b\b\b\b\b\b\b\b\b\b\b\b\b\b\b\b\b\b\b\b\b\b\b\b\b\b\b\b\b\b\b\b\b\b\b\b\r 19/146 [==>...........................] - ETA: 1:08:45 - loss: 0.4963 - balanced_accuracy: 0.8523"
          ]
        },
        {
          "output_type": "stream",
          "name": "stderr",
          "text": [
            "WARNING:tensorflow:Gradients do not exist for variables ['tf_bert_model/bert/pooler/dense/kernel:0', 'tf_bert_model/bert/pooler/dense/bias:0'] when minimizing the loss. If you're using `model.compile()`, did you forget to provide a `loss` argument?\n"
          ]
        },
        {
          "output_type": "stream",
          "name": "stdout",
          "text": [
            "\b\b\b\b\b\b\b\b\b\b\b\b\b\b\b\b\b\b\b\b\b\b\b\b\b\b\b\b\b\b\b\b\b\b\b\b\b\b\b\b\b\b\b\b\b\b\b\b\b\b\b\b\b\b\b\b\b\b\b\b\b\b\b\b\b\b\b\b\b\b\b\b\b\b\b\b\b\b\b\b\b\b\b\b\b\b\b\b\b\b\b\b\b\b\b\b\b\b\r 20/146 [===>..........................] - ETA: 1:08:12 - loss: 0.4967 - balanced_accuracy: 0.8486"
          ]
        },
        {
          "output_type": "stream",
          "name": "stderr",
          "text": [
            "WARNING:tensorflow:Gradients do not exist for variables ['tf_bert_model/bert/pooler/dense/kernel:0', 'tf_bert_model/bert/pooler/dense/bias:0'] when minimizing the loss. If you're using `model.compile()`, did you forget to provide a `loss` argument?\n"
          ]
        },
        {
          "output_type": "stream",
          "name": "stdout",
          "text": [
            "\b\b\b\b\b\b\b\b\b\b\b\b\b\b\b\b\b\b\b\b\b\b\b\b\b\b\b\b\b\b\b\b\b\b\b\b\b\b\b\b\b\b\b\b\b\b\b\b\b\b\b\b\b\b\b\b\b\b\b\b\b\b\b\b\b\b\b\b\b\b\b\b\b\b\b\b\b\b\b\b\b\b\b\b\b\b\b\b\b\b\b\b\b\b\b\b\b\b\r 21/146 [===>..........................] - ETA: 1:07:36 - loss: 0.4836 - balanced_accuracy: 0.8532"
          ]
        },
        {
          "output_type": "stream",
          "name": "stderr",
          "text": [
            "WARNING:tensorflow:Gradients do not exist for variables ['tf_bert_model/bert/pooler/dense/kernel:0', 'tf_bert_model/bert/pooler/dense/bias:0'] when minimizing the loss. If you're using `model.compile()`, did you forget to provide a `loss` argument?\n"
          ]
        },
        {
          "output_type": "stream",
          "name": "stdout",
          "text": [
            "\b\b\b\b\b\b\b\b\b\b\b\b\b\b\b\b\b\b\b\b\b\b\b\b\b\b\b\b\b\b\b\b\b\b\b\b\b\b\b\b\b\b\b\b\b\b\b\b\b\b\b\b\b\b\b\b\b\b\b\b\b\b\b\b\b\b\b\b\b\b\b\b\b\b\b\b\b\b\b\b\b\b\b\b\b\b\b\b\b\b\b\b\b\b\b\b\b\b\r 22/146 [===>..........................] - ETA: 1:07:09 - loss: 0.4811 - balanced_accuracy: 0.8523"
          ]
        },
        {
          "output_type": "stream",
          "name": "stderr",
          "text": [
            "WARNING:tensorflow:Gradients do not exist for variables ['tf_bert_model/bert/pooler/dense/kernel:0', 'tf_bert_model/bert/pooler/dense/bias:0'] when minimizing the loss. If you're using `model.compile()`, did you forget to provide a `loss` argument?\n"
          ]
        },
        {
          "output_type": "stream",
          "name": "stdout",
          "text": [
            "\b\b\b\b\b\b\b\b\b\b\b\b\b\b\b\b\b\b\b\b\b\b\b\b\b\b\b\b\b\b\b\b\b\b\b\b\b\b\b\b\b\b\b\b\b\b\b\b\b\b\b\b\b\b\b\b\b\b\b\b\b\b\b\b\b\b\b\b\b\b\b\b\b\b\b\b\b\b\b\b\b\b\b\b\b\b\b\b\b\b\b\b\b\b\b\b\b\b\r 23/146 [===>..........................] - ETA: 1:06:36 - loss: 0.4735 - balanced_accuracy: 0.8563"
          ]
        },
        {
          "output_type": "stream",
          "name": "stderr",
          "text": [
            "WARNING:tensorflow:Gradients do not exist for variables ['tf_bert_model/bert/pooler/dense/kernel:0', 'tf_bert_model/bert/pooler/dense/bias:0'] when minimizing the loss. If you're using `model.compile()`, did you forget to provide a `loss` argument?\n"
          ]
        },
        {
          "output_type": "stream",
          "name": "stdout",
          "text": [
            "\b\b\b\b\b\b\b\b\b\b\b\b\b\b\b\b\b\b\b\b\b\b\b\b\b\b\b\b\b\b\b\b\b\b\b\b\b\b\b\b\b\b\b\b\b\b\b\b\b\b\b\b\b\b\b\b\b\b\b\b\b\b\b\b\b\b\b\b\b\b\b\b\b\b\b\b\b\b\b\b\b\b\b\b\b\b\b\b\b\b\b\b\b\b\b\b\b\b\r 24/146 [===>..........................] - ETA: 1:06:03 - loss: 0.4831 - balanced_accuracy: 0.8553"
          ]
        },
        {
          "output_type": "stream",
          "name": "stderr",
          "text": [
            "WARNING:tensorflow:Gradients do not exist for variables ['tf_bert_model/bert/pooler/dense/kernel:0', 'tf_bert_model/bert/pooler/dense/bias:0'] when minimizing the loss. If you're using `model.compile()`, did you forget to provide a `loss` argument?\n"
          ]
        },
        {
          "output_type": "stream",
          "name": "stdout",
          "text": [
            "\b\b\b\b\b\b\b\b\b\b\b\b\b\b\b\b\b\b\b\b\b\b\b\b\b\b\b\b\b\b\b\b\b\b\b\b\b\b\b\b\b\b\b\b\b\b\b\b\b\b\b\b\b\b\b\b\b\b\b\b\b\b\b\b\b\b\b\b\b\b\b\b\b\b\b\b\b\b\b\b\b\b\b\b\b\b\b\b\b\b\b\b\b\b\b\b\b\b\r 25/146 [====>.........................] - ETA: 1:05:30 - loss: 0.4876 - balanced_accuracy: 0.8533"
          ]
        },
        {
          "output_type": "stream",
          "name": "stderr",
          "text": [
            "WARNING:tensorflow:Gradients do not exist for variables ['tf_bert_model/bert/pooler/dense/kernel:0', 'tf_bert_model/bert/pooler/dense/bias:0'] when minimizing the loss. If you're using `model.compile()`, did you forget to provide a `loss` argument?\n"
          ]
        },
        {
          "output_type": "stream",
          "name": "stdout",
          "text": [
            "\b\b\b\b\b\b\b\b\b\b\b\b\b\b\b\b\b\b\b\b\b\b\b\b\b\b\b\b\b\b\b\b\b\b\b\b\b\b\b\b\b\b\b\b\b\b\b\b\b\b\b\b\b\b\b\b\b\b\b\b\b\b\b\b\b\b\b\b\b\b\b\b\b\b\b\b\b\b\b\b\b\b\b\b\b\b\b\b\b\b\b\b\b\b\b\b\b\b\r 26/146 [====>.........................] - ETA: 1:05:05 - loss: 0.4848 - balanced_accuracy: 0.8558"
          ]
        },
        {
          "output_type": "stream",
          "name": "stderr",
          "text": [
            "WARNING:tensorflow:Gradients do not exist for variables ['tf_bert_model/bert/pooler/dense/kernel:0', 'tf_bert_model/bert/pooler/dense/bias:0'] when minimizing the loss. If you're using `model.compile()`, did you forget to provide a `loss` argument?\n"
          ]
        },
        {
          "output_type": "stream",
          "name": "stdout",
          "text": [
            "\b\b\b\b\b\b\b\b\b\b\b\b\b\b\b\b\b\b\b\b\b\b\b\b\b\b\b\b\b\b\b\b\b\b\b\b\b\b\b\b\b\b\b\b\b\b\b\b\b\b\b\b\b\b\b\b\b\b\b\b\b\b\b\b\b\b\b\b\b\b\b\b\b\b\b\b\b\b\b\b\b\b\b\b\b\b\b\b\b\b\b\b\b\b\b\b\b\b\r 27/146 [====>.........................] - ETA: 1:04:32 - loss: 0.4869 - balanced_accuracy: 0.8539"
          ]
        },
        {
          "output_type": "stream",
          "name": "stderr",
          "text": [
            "WARNING:tensorflow:Gradients do not exist for variables ['tf_bert_model/bert/pooler/dense/kernel:0', 'tf_bert_model/bert/pooler/dense/bias:0'] when minimizing the loss. If you're using `model.compile()`, did you forget to provide a `loss` argument?\n"
          ]
        },
        {
          "output_type": "stream",
          "name": "stdout",
          "text": [
            "\b\b\b\b\b\b\b\b\b\b\b\b\b\b\b\b\b\b\b\b\b\b\b\b\b\b\b\b\b\b\b\b\b\b\b\b\b\b\b\b\b\b\b\b\b\b\b\b\b\b\b\b\b\b\b\b\b\b\b\b\b\b\b\b\b\b\b\b\b\b\b\b\b\b\b\b\b\b\b\b\b\b\b\b\b\b\b\b\b\b\b\b\b\b\b\b\b\b\r 28/146 [====>.........................] - ETA: 1:03:59 - loss: 0.4841 - balanced_accuracy: 0.8562"
          ]
        },
        {
          "output_type": "stream",
          "name": "stderr",
          "text": [
            "WARNING:tensorflow:Gradients do not exist for variables ['tf_bert_model/bert/pooler/dense/kernel:0', 'tf_bert_model/bert/pooler/dense/bias:0'] when minimizing the loss. If you're using `model.compile()`, did you forget to provide a `loss` argument?\n"
          ]
        },
        {
          "output_type": "stream",
          "name": "stdout",
          "text": [
            "\b\b\b\b\b\b\b\b\b\b\b\b\b\b\b\b\b\b\b\b\b\b\b\b\b\b\b\b\b\b\b\b\b\b\b\b\b\b\b\b\b\b\b\b\b\b\b\b\b\b\b\b\b\b\b\b\b\b\b\b\b\b\b\b\b\b\b\b\b\b\b\b\b\b\b\b\b\b\b\b\b\b\b\b\b\b\b\b\b\b\b\b\b\b\b\b\b\b\r 29/146 [====>.........................] - ETA: 1:03:28 - loss: 0.4814 - balanced_accuracy: 0.8582"
          ]
        },
        {
          "output_type": "stream",
          "name": "stderr",
          "text": [
            "WARNING:tensorflow:Gradients do not exist for variables ['tf_bert_model/bert/pooler/dense/kernel:0', 'tf_bert_model/bert/pooler/dense/bias:0'] when minimizing the loss. If you're using `model.compile()`, did you forget to provide a `loss` argument?\n"
          ]
        },
        {
          "output_type": "stream",
          "name": "stdout",
          "text": [
            "\b\b\b\b\b\b\b\b\b\b\b\b\b\b\b\b\b\b\b\b\b\b\b\b\b\b\b\b\b\b\b\b\b\b\b\b\b\b\b\b\b\b\b\b\b\b\b\b\b\b\b\b\b\b\b\b\b\b\b\b\b\b\b\b\b\b\b\b\b\b\b\b\b\b\b\b\b\b\b\b\b\b\b\b\b\b\b\b\b\b\b\b\b\b\b\b\b\b\r 30/146 [=====>........................] - ETA: 1:02:50 - loss: 0.4736 - balanced_accuracy: 0.8611"
          ]
        },
        {
          "output_type": "stream",
          "name": "stderr",
          "text": [
            "WARNING:tensorflow:Gradients do not exist for variables ['tf_bert_model/bert/pooler/dense/kernel:0', 'tf_bert_model/bert/pooler/dense/bias:0'] when minimizing the loss. If you're using `model.compile()`, did you forget to provide a `loss` argument?\n"
          ]
        },
        {
          "output_type": "stream",
          "name": "stdout",
          "text": [
            "\b\b\b\b\b\b\b\b\b\b\b\b\b\b\b\b\b\b\b\b\b\b\b\b\b\b\b\b\b\b\b\b\b\b\b\b\b\b\b\b\b\b\b\b\b\b\b\b\b\b\b\b\b\b\b\b\b\b\b\b\b\b\b\b\b\b\b\b\b\b\b\b\b\b\b\b\b\b\b\b\b\b\b\b\b\b\b\b\b\b\b\b\b\b\b\b\b\b\r 31/146 [=====>........................] - ETA: 1:02:16 - loss: 0.4724 - balanced_accuracy: 0.8611"
          ]
        },
        {
          "output_type": "stream",
          "name": "stderr",
          "text": [
            "WARNING:tensorflow:Gradients do not exist for variables ['tf_bert_model/bert/pooler/dense/kernel:0', 'tf_bert_model/bert/pooler/dense/bias:0'] when minimizing the loss. If you're using `model.compile()`, did you forget to provide a `loss` argument?\n"
          ]
        },
        {
          "output_type": "stream",
          "name": "stdout",
          "text": [
            "\b\b\b\b\b\b\b\b\b\b\b\b\b\b\b\b\b\b\b\b\b\b\b\b\b\b\b\b\b\b\b\b\b\b\b\b\b\b\b\b\b\b\b\b\b\b\b\b\b\b\b\b\b\b\b\b\b\b\b\b\b\b\b\b\b\b\b\b\b\b\b\b\b\b\b\b\b\b\b\b\b\b\b\b\b\b\b\b\b\b\b\b\b\b\b\b\b\b\r 32/146 [=====>........................] - ETA: 1:01:41 - loss: 0.4690 - balanced_accuracy: 0.8620"
          ]
        },
        {
          "output_type": "stream",
          "name": "stderr",
          "text": [
            "WARNING:tensorflow:Gradients do not exist for variables ['tf_bert_model/bert/pooler/dense/kernel:0', 'tf_bert_model/bert/pooler/dense/bias:0'] when minimizing the loss. If you're using `model.compile()`, did you forget to provide a `loss` argument?\n"
          ]
        },
        {
          "output_type": "stream",
          "name": "stdout",
          "text": [
            "\b\b\b\b\b\b\b\b\b\b\b\b\b\b\b\b\b\b\b\b\b\b\b\b\b\b\b\b\b\b\b\b\b\b\b\b\b\b\b\b\b\b\b\b\b\b\b\b\b\b\b\b\b\b\b\b\b\b\b\b\b\b\b\b\b\b\b\b\b\b\b\b\b\b\b\b\b\b\b\b\b\b\b\b\b\b\b\b\b\b\b\b\b\b\b\b\b\b\r 33/146 [=====>........................] - ETA: 1:01:10 - loss: 0.4642 - balanced_accuracy: 0.8611"
          ]
        },
        {
          "output_type": "stream",
          "name": "stderr",
          "text": [
            "WARNING:tensorflow:Gradients do not exist for variables ['tf_bert_model/bert/pooler/dense/kernel:0', 'tf_bert_model/bert/pooler/dense/bias:0'] when minimizing the loss. If you're using `model.compile()`, did you forget to provide a `loss` argument?\n"
          ]
        },
        {
          "output_type": "stream",
          "name": "stdout",
          "text": [
            "\b\b\b\b\b\b\b\b\b\b\b\b\b\b\b\b\b\b\b\b\b\b\b\b\b\b\b\b\b\b\b\b\b\b\b\b\b\b\b\b\b\b\b\b\b\b\b\b\b\b\b\b\b\b\b\b\b\b\b\b\b\b\b\b\b\b\b\b\b\b\b\b\b\b\b\b\b\b\b\b\b\b\b\b\b\b\b\b\b\b\b\b\b\b\b\b\b\b\r 34/146 [=====>........................] - ETA: 1:00:34 - loss: 0.4648 - balanced_accuracy: 0.8603"
          ]
        },
        {
          "output_type": "stream",
          "name": "stderr",
          "text": [
            "WARNING:tensorflow:Gradients do not exist for variables ['tf_bert_model/bert/pooler/dense/kernel:0', 'tf_bert_model/bert/pooler/dense/bias:0'] when minimizing the loss. If you're using `model.compile()`, did you forget to provide a `loss` argument?\n"
          ]
        },
        {
          "output_type": "stream",
          "name": "stdout",
          "text": [
            "\b\b\b\b\b\b\b\b\b\b\b\b\b\b\b\b\b\b\b\b\b\b\b\b\b\b\b\b\b\b\b\b\b\b\b\b\b\b\b\b\b\b\b\b\b\b\b\b\b\b\b\b\b\b\b\b\b\b\b\b\b\b\b\b\b\b\b\b\b\b\b\b\b\b\b\b\b\b\b\b\b\b\b\b\b\b\b\b\b\b\b\b\b\b\b\b\b\b\r 35/146 [======>.......................] - ETA: 59:59 - loss: 0.4609 - balanced_accuracy: 0.8619  "
          ]
        },
        {
          "output_type": "stream",
          "name": "stderr",
          "text": [
            "WARNING:tensorflow:Gradients do not exist for variables ['tf_bert_model/bert/pooler/dense/kernel:0', 'tf_bert_model/bert/pooler/dense/bias:0'] when minimizing the loss. If you're using `model.compile()`, did you forget to provide a `loss` argument?\n"
          ]
        },
        {
          "output_type": "stream",
          "name": "stdout",
          "text": [
            "\b\b\b\b\b\b\b\b\b\b\b\b\b\b\b\b\b\b\b\b\b\b\b\b\b\b\b\b\b\b\b\b\b\b\b\b\b\b\b\b\b\b\b\b\b\b\b\b\b\b\b\b\b\b\b\b\b\b\b\b\b\b\b\b\b\b\b\b\b\b\b\b\b\b\b\b\b\b\b\b\b\b\b\b\b\b\b\b\b\b\b\b\b\b\b\b\r 36/146 [======>.......................] - ETA: 59:23 - loss: 0.4571 - balanced_accuracy: 0.8634"
          ]
        },
        {
          "output_type": "stream",
          "name": "stderr",
          "text": [
            "WARNING:tensorflow:Gradients do not exist for variables ['tf_bert_model/bert/pooler/dense/kernel:0', 'tf_bert_model/bert/pooler/dense/bias:0'] when minimizing the loss. If you're using `model.compile()`, did you forget to provide a `loss` argument?\n"
          ]
        },
        {
          "output_type": "stream",
          "name": "stdout",
          "text": [
            "\b\b\b\b\b\b\b\b\b\b\b\b\b\b\b\b\b\b\b\b\b\b\b\b\b\b\b\b\b\b\b\b\b\b\b\b\b\b\b\b\b\b\b\b\b\b\b\b\b\b\b\b\b\b\b\b\b\b\b\b\b\b\b\b\b\b\b\b\b\b\b\b\b\b\b\b\b\b\b\b\b\b\b\b\b\b\b\b\b\b\b\b\b\b\b\b\r 37/146 [======>.......................] - ETA: 58:51 - loss: 0.4581 - balanced_accuracy: 0.8641"
          ]
        },
        {
          "output_type": "stream",
          "name": "stderr",
          "text": [
            "WARNING:tensorflow:Gradients do not exist for variables ['tf_bert_model/bert/pooler/dense/kernel:0', 'tf_bert_model/bert/pooler/dense/bias:0'] when minimizing the loss. If you're using `model.compile()`, did you forget to provide a `loss` argument?\n"
          ]
        },
        {
          "output_type": "stream",
          "name": "stdout",
          "text": [
            "\b\b\b\b\b\b\b\b\b\b\b\b\b\b\b\b\b\b\b\b\b\b\b\b\b\b\b\b\b\b\b\b\b\b\b\b\b\b\b\b\b\b\b\b\b\b\b\b\b\b\b\b\b\b\b\b\b\b\b\b\b\b\b\b\b\b\b\b\b\b\b\b\b\b\b\b\b\b\b\b\b\b\b\b\b\b\b\b\b\b\b\b\b\b\b\b\r 38/146 [======>.......................] - ETA: 58:20 - loss: 0.4559 - balanced_accuracy: 0.8648"
          ]
        },
        {
          "output_type": "stream",
          "name": "stderr",
          "text": [
            "WARNING:tensorflow:Gradients do not exist for variables ['tf_bert_model/bert/pooler/dense/kernel:0', 'tf_bert_model/bert/pooler/dense/bias:0'] when minimizing the loss. If you're using `model.compile()`, did you forget to provide a `loss` argument?\n"
          ]
        },
        {
          "output_type": "stream",
          "name": "stdout",
          "text": [
            "\b\b\b\b\b\b\b\b\b\b\b\b\b\b\b\b\b\b\b\b\b\b\b\b\b\b\b\b\b\b\b\b\b\b\b\b\b\b\b\b\b\b\b\b\b\b\b\b\b\b\b\b\b\b\b\b\b\b\b\b\b\b\b\b\b\b\b\b\b\b\b\b\b\b\b\b\b\b\b\b\b\b\b\b\b\b\b\b\b\b\b\b\b\b\b\b\r 39/146 [=======>......................] - ETA: 57:45 - loss: 0.4515 - balanced_accuracy: 0.8668"
          ]
        },
        {
          "output_type": "stream",
          "name": "stderr",
          "text": [
            "WARNING:tensorflow:Gradients do not exist for variables ['tf_bert_model/bert/pooler/dense/kernel:0', 'tf_bert_model/bert/pooler/dense/bias:0'] when minimizing the loss. If you're using `model.compile()`, did you forget to provide a `loss` argument?\n"
          ]
        },
        {
          "output_type": "stream",
          "name": "stdout",
          "text": [
            "\b\b\b\b\b\b\b\b\b\b\b\b\b\b\b\b\b\b\b\b\b\b\b\b\b\b\b\b\b\b\b\b\b\b\b\b\b\b\b\b\b\b\b\b\b\b\b\b\b\b\b\b\b\b\b\b\b\b\b\b\b\b\b\b\b\b\b\b\b\b\b\b\b\b\b\b\b\b\b\b\b\b\b\b\b\b\b\b\b\b\b\b\b\b\b\b\r 40/146 [=======>......................] - ETA: 57:10 - loss: 0.4519 - balanced_accuracy: 0.8667"
          ]
        },
        {
          "output_type": "stream",
          "name": "stderr",
          "text": [
            "WARNING:tensorflow:Gradients do not exist for variables ['tf_bert_model/bert/pooler/dense/kernel:0', 'tf_bert_model/bert/pooler/dense/bias:0'] when minimizing the loss. If you're using `model.compile()`, did you forget to provide a `loss` argument?\n"
          ]
        },
        {
          "output_type": "stream",
          "name": "stdout",
          "text": [
            "\b\b\b\b\b\b\b\b\b\b\b\b\b\b\b\b\b\b\b\b\b\b\b\b\b\b\b\b\b\b\b\b\b\b\b\b\b\b\b\b\b\b\b\b\b\b\b\b\b\b\b\b\b\b\b\b\b\b\b\b\b\b\b\b\b\b\b\b\b\b\b\b\b\b\b\b\b\b\b\b\b\b\b\b\b\b\b\b\b\b\b\b\b\b\b\b\r 41/146 [=======>......................] - ETA: 56:36 - loss: 0.4487 - balanced_accuracy: 0.8665"
          ]
        },
        {
          "output_type": "stream",
          "name": "stderr",
          "text": [
            "WARNING:tensorflow:Gradients do not exist for variables ['tf_bert_model/bert/pooler/dense/kernel:0', 'tf_bert_model/bert/pooler/dense/bias:0'] when minimizing the loss. If you're using `model.compile()`, did you forget to provide a `loss` argument?\n"
          ]
        },
        {
          "output_type": "stream",
          "name": "stdout",
          "text": [
            "\b\b\b\b\b\b\b\b\b\b\b\b\b\b\b\b\b\b\b\b\b\b\b\b\b\b\b\b\b\b\b\b\b\b\b\b\b\b\b\b\b\b\b\b\b\b\b\b\b\b\b\b\b\b\b\b\b\b\b\b\b\b\b\b\b\b\b\b\b\b\b\b\b\b\b\b\b\b\b\b\b\b\b\b\b\b\b\b\b\b\b\b\b\b\b\b\r 42/146 [=======>......................] - ETA: 56:07 - loss: 0.4440 - balanced_accuracy: 0.8677"
          ]
        },
        {
          "output_type": "stream",
          "name": "stderr",
          "text": [
            "WARNING:tensorflow:Gradients do not exist for variables ['tf_bert_model/bert/pooler/dense/kernel:0', 'tf_bert_model/bert/pooler/dense/bias:0'] when minimizing the loss. If you're using `model.compile()`, did you forget to provide a `loss` argument?\n"
          ]
        },
        {
          "output_type": "stream",
          "name": "stdout",
          "text": [
            "\b\b\b\b\b\b\b\b\b\b\b\b\b\b\b\b\b\b\b\b\b\b\b\b\b\b\b\b\b\b\b\b\b\b\b\b\b\b\b\b\b\b\b\b\b\b\b\b\b\b\b\b\b\b\b\b\b\b\b\b\b\b\b\b\b\b\b\b\b\b\b\b\b\b\b\b\b\b\b\b\b\b\b\b\b\b\b\b\b\b\b\b\b\b\b\b\r 43/146 [=======>......................] - ETA: 55:34 - loss: 0.4387 - balanced_accuracy: 0.8695"
          ]
        },
        {
          "output_type": "stream",
          "name": "stderr",
          "text": [
            "WARNING:tensorflow:Gradients do not exist for variables ['tf_bert_model/bert/pooler/dense/kernel:0', 'tf_bert_model/bert/pooler/dense/bias:0'] when minimizing the loss. If you're using `model.compile()`, did you forget to provide a `loss` argument?\n"
          ]
        },
        {
          "output_type": "stream",
          "name": "stdout",
          "text": [
            "\b\b\b\b\b\b\b\b\b\b\b\b\b\b\b\b\b\b\b\b\b\b\b\b\b\b\b\b\b\b\b\b\b\b\b\b\b\b\b\b\b\b\b\b\b\b\b\b\b\b\b\b\b\b\b\b\b\b\b\b\b\b\b\b\b\b\b\b\b\b\b\b\b\b\b\b\b\b\b\b\b\b\b\b\b\b\b\b\b\b\b\b\b\b\b\b\r 44/146 [========>.....................] - ETA: 55:00 - loss: 0.4453 - balanced_accuracy: 0.8662"
          ]
        },
        {
          "output_type": "stream",
          "name": "stderr",
          "text": [
            "WARNING:tensorflow:Gradients do not exist for variables ['tf_bert_model/bert/pooler/dense/kernel:0', 'tf_bert_model/bert/pooler/dense/bias:0'] when minimizing the loss. If you're using `model.compile()`, did you forget to provide a `loss` argument?\n"
          ]
        },
        {
          "output_type": "stream",
          "name": "stdout",
          "text": [
            "\b\b\b\b\b\b\b\b\b\b\b\b\b\b\b\b\b\b\b\b\b\b\b\b\b\b\b\b\b\b\b\b\b\b\b\b\b\b\b\b\b\b\b\b\b\b\b\b\b\b\b\b\b\b\b\b\b\b\b\b\b\b\b\b\b\b\b\b\b\b\b\b\b\b\b\b\b\b\b\b\b\b\b\b\b\b\b\b\b\b\b\b\b\b\b\b\r 45/146 [========>.....................] - ETA: 54:28 - loss: 0.4445 - balanced_accuracy: 0.8660"
          ]
        },
        {
          "output_type": "stream",
          "name": "stderr",
          "text": [
            "WARNING:tensorflow:Gradients do not exist for variables ['tf_bert_model/bert/pooler/dense/kernel:0', 'tf_bert_model/bert/pooler/dense/bias:0'] when minimizing the loss. If you're using `model.compile()`, did you forget to provide a `loss` argument?\n"
          ]
        },
        {
          "output_type": "stream",
          "name": "stdout",
          "text": [
            "\b\b\b\b\b\b\b\b\b\b\b\b\b\b\b\b\b\b\b\b\b\b\b\b\b\b\b\b\b\b\b\b\b\b\b\b\b\b\b\b\b\b\b\b\b\b\b\b\b\b\b\b\b\b\b\b\b\b\b\b\b\b\b\b\b\b\b\b\b\b\b\b\b\b\b\b\b\b\b\b\b\b\b\b\b\b\b\b\b\b\b\b\b\b\b\b\r 46/146 [========>.....................] - ETA: 53:56 - loss: 0.4493 - balanced_accuracy: 0.8641"
          ]
        },
        {
          "output_type": "stream",
          "name": "stderr",
          "text": [
            "WARNING:tensorflow:Gradients do not exist for variables ['tf_bert_model/bert/pooler/dense/kernel:0', 'tf_bert_model/bert/pooler/dense/bias:0'] when minimizing the loss. If you're using `model.compile()`, did you forget to provide a `loss` argument?\n"
          ]
        },
        {
          "output_type": "stream",
          "name": "stdout",
          "text": [
            "\b\b\b\b\b\b\b\b\b\b\b\b\b\b\b\b\b\b\b\b\b\b\b\b\b\b\b\b\b\b\b\b\b\b\b\b\b\b\b\b\b\b\b\b\b\b\b\b\b\b\b\b\b\b\b\b\b\b\b\b\b\b\b\b\b\b\b\b\b\b\b\b\b\b\b\b\b\b\b\b\b\b\b\b\b\b\b\b\b\b\b\b\b\b\b\b\r 47/146 [========>.....................] - ETA: 53:23 - loss: 0.4488 - balanced_accuracy: 0.8635"
          ]
        },
        {
          "output_type": "stream",
          "name": "stderr",
          "text": [
            "WARNING:tensorflow:Gradients do not exist for variables ['tf_bert_model/bert/pooler/dense/kernel:0', 'tf_bert_model/bert/pooler/dense/bias:0'] when minimizing the loss. If you're using `model.compile()`, did you forget to provide a `loss` argument?\n"
          ]
        },
        {
          "output_type": "stream",
          "name": "stdout",
          "text": [
            "\b\b\b\b\b\b\b\b\b\b\b\b\b\b\b\b\b\b\b\b\b\b\b\b\b\b\b\b\b\b\b\b\b\b\b\b\b\b\b\b\b\b\b\b\b\b\b\b\b\b\b\b\b\b\b\b\b\b\b\b\b\b\b\b\b\b\b\b\b\b\b\b\b\b\b\b\b\b\b\b\b\b\b\b\b\b\b\b\b\b\b\b\b\b\b\b\r 48/146 [========>.....................] - ETA: 52:49 - loss: 0.4519 - balanced_accuracy: 0.8617"
          ]
        },
        {
          "output_type": "stream",
          "name": "stderr",
          "text": [
            "WARNING:tensorflow:Gradients do not exist for variables ['tf_bert_model/bert/pooler/dense/kernel:0', 'tf_bert_model/bert/pooler/dense/bias:0'] when minimizing the loss. If you're using `model.compile()`, did you forget to provide a `loss` argument?\n"
          ]
        },
        {
          "output_type": "stream",
          "name": "stdout",
          "text": [
            "\b\b\b\b\b\b\b\b\b\b\b\b\b\b\b\b\b\b\b\b\b\b\b\b\b\b\b\b\b\b\b\b\b\b\b\b\b\b\b\b\b\b\b\b\b\b\b\b\b\b\b\b\b\b\b\b\b\b\b\b\b\b\b\b\b\b\b\b\b\b\b\b\b\b\b\b\b\b\b\b\b\b\b\b\b\b\b\b\b\b\b\b\b\b\b\b\r 49/146 [=========>....................] - ETA: 52:16 - loss: 0.4498 - balanced_accuracy: 0.8622"
          ]
        },
        {
          "output_type": "stream",
          "name": "stderr",
          "text": [
            "WARNING:tensorflow:Gradients do not exist for variables ['tf_bert_model/bert/pooler/dense/kernel:0', 'tf_bert_model/bert/pooler/dense/bias:0'] when minimizing the loss. If you're using `model.compile()`, did you forget to provide a `loss` argument?\n"
          ]
        },
        {
          "output_type": "stream",
          "name": "stdout",
          "text": [
            "\b\b\b\b\b\b\b\b\b\b\b\b\b\b\b\b\b\b\b\b\b\b\b\b\b\b\b\b\b\b\b\b\b\b\b\b\b\b\b\b\b\b\b\b\b\b\b\b\b\b\b\b\b\b\b\b\b\b\b\b\b\b\b\b\b\b\b\b\b\b\b\b\b\b\b\b\b\b\b\b\b\b\b\b\b\b\b\b\b\b\b\b\b\b\b\b\r 50/146 [=========>....................] - ETA: 51:43 - loss: 0.4508 - balanced_accuracy: 0.8622"
          ]
        },
        {
          "output_type": "stream",
          "name": "stderr",
          "text": [
            "WARNING:tensorflow:Gradients do not exist for variables ['tf_bert_model/bert/pooler/dense/kernel:0', 'tf_bert_model/bert/pooler/dense/bias:0'] when minimizing the loss. If you're using `model.compile()`, did you forget to provide a `loss` argument?\n"
          ]
        },
        {
          "output_type": "stream",
          "name": "stdout",
          "text": [
            "\b\b\b\b\b\b\b\b\b\b\b\b\b\b\b\b\b\b\b\b\b\b\b\b\b\b\b\b\b\b\b\b\b\b\b\b\b\b\b\b\b\b\b\b\b\b\b\b\b\b\b\b\b\b\b\b\b\b\b\b\b\b\b\b\b\b\b\b\b\b\b\b\b\b\b\b\b\b\b\b\b\b\b\b\b\b\b\b\b\b\b\b\b\b\b\b\r 51/146 [=========>....................] - ETA: 51:09 - loss: 0.4503 - balanced_accuracy: 0.8622"
          ]
        },
        {
          "output_type": "stream",
          "name": "stderr",
          "text": [
            "WARNING:tensorflow:Gradients do not exist for variables ['tf_bert_model/bert/pooler/dense/kernel:0', 'tf_bert_model/bert/pooler/dense/bias:0'] when minimizing the loss. If you're using `model.compile()`, did you forget to provide a `loss` argument?\n"
          ]
        },
        {
          "output_type": "stream",
          "name": "stdout",
          "text": [
            "\b\b\b\b\b\b\b\b\b\b\b\b\b\b\b\b\b\b\b\b\b\b\b\b\b\b\b\b\b\b\b\b\b\b\b\b\b\b\b\b\b\b\b\b\b\b\b\b\b\b\b\b\b\b\b\b\b\b\b\b\b\b\b\b\b\b\b\b\b\b\b\b\b\b\b\b\b\b\b\b\b\b\b\b\b\b\b\b\b\b\b\b\b\b\b\b\r 52/146 [=========>....................] - ETA: 50:35 - loss: 0.4487 - balanced_accuracy: 0.8622"
          ]
        },
        {
          "output_type": "stream",
          "name": "stderr",
          "text": [
            "WARNING:tensorflow:Gradients do not exist for variables ['tf_bert_model/bert/pooler/dense/kernel:0', 'tf_bert_model/bert/pooler/dense/bias:0'] when minimizing the loss. If you're using `model.compile()`, did you forget to provide a `loss` argument?\n"
          ]
        },
        {
          "output_type": "stream",
          "name": "stdout",
          "text": [
            "\b\b\b\b\b\b\b\b\b\b\b\b\b\b\b\b\b\b\b\b\b\b\b\b\b\b\b\b\b\b\b\b\b\b\b\b\b\b\b\b\b\b\b\b\b\b\b\b\b\b\b\b\b\b\b\b\b\b\b\b\b\b\b\b\b\b\b\b\b\b\b\b\b\b\b\b\b\b\b\b\b\b\b\b\b\b\b\b\b\b\b\b\b\b\b\b\r 53/146 [=========>....................] - ETA: 50:01 - loss: 0.4445 - balanced_accuracy: 0.8632"
          ]
        },
        {
          "output_type": "stream",
          "name": "stderr",
          "text": [
            "WARNING:tensorflow:Gradients do not exist for variables ['tf_bert_model/bert/pooler/dense/kernel:0', 'tf_bert_model/bert/pooler/dense/bias:0'] when minimizing the loss. If you're using `model.compile()`, did you forget to provide a `loss` argument?\n"
          ]
        },
        {
          "output_type": "stream",
          "name": "stdout",
          "text": [
            "\b\b\b\b\b\b\b\b\b\b\b\b\b\b\b\b\b\b\b\b\b\b\b\b\b\b\b\b\b\b\b\b\b\b\b\b\b\b\b\b\b\b\b\b\b\b\b\b\b\b\b\b\b\b\b\b\b\b\b\b\b\b\b\b\b\b\b\b\b\b\b\b\b\b\b\b\b\b\b\b\b\b\b\b\b\b\b\b\b\b\b\b\b\b\b\b\r 54/146 [==========>...................] - ETA: 49:30 - loss: 0.4431 - balanced_accuracy: 0.8632"
          ]
        },
        {
          "output_type": "stream",
          "name": "stderr",
          "text": [
            "WARNING:tensorflow:Gradients do not exist for variables ['tf_bert_model/bert/pooler/dense/kernel:0', 'tf_bert_model/bert/pooler/dense/bias:0'] when minimizing the loss. If you're using `model.compile()`, did you forget to provide a `loss` argument?\n"
          ]
        },
        {
          "output_type": "stream",
          "name": "stdout",
          "text": [
            "\b\b\b\b\b\b\b\b\b\b\b\b\b\b\b\b\b\b\b\b\b\b\b\b\b\b\b\b\b\b\b\b\b\b\b\b\b\b\b\b\b\b\b\b\b\b\b\b\b\b\b\b\b\b\b\b\b\b\b\b\b\b\b\b\b\b\b\b\b\b\b\b\b\b\b\b\b\b\b\b\b\b\b\b\b\b\b\b\b\b\b\b\b\b\b\b\r 55/146 [==========>...................] - ETA: 48:56 - loss: 0.4434 - balanced_accuracy: 0.8631"
          ]
        },
        {
          "output_type": "stream",
          "name": "stderr",
          "text": [
            "WARNING:tensorflow:Gradients do not exist for variables ['tf_bert_model/bert/pooler/dense/kernel:0', 'tf_bert_model/bert/pooler/dense/bias:0'] when minimizing the loss. If you're using `model.compile()`, did you forget to provide a `loss` argument?\n"
          ]
        },
        {
          "output_type": "stream",
          "name": "stdout",
          "text": [
            "\b\b\b\b\b\b\b\b\b\b\b\b\b\b\b\b\b\b\b\b\b\b\b\b\b\b\b\b\b\b\b\b\b\b\b\b\b\b\b\b\b\b\b\b\b\b\b\b\b\b\b\b\b\b\b\b\b\b\b\b\b\b\b\b\b\b\b\b\b\b\b\b\b\b\b\b\b\b\b\b\b\b\b\b\b\b\b\b\b\b\b\b\b\b\b\b\r 56/146 [==========>...................] - ETA: 48:25 - loss: 0.4494 - balanced_accuracy: 0.8616"
          ]
        },
        {
          "output_type": "stream",
          "name": "stderr",
          "text": [
            "WARNING:tensorflow:Gradients do not exist for variables ['tf_bert_model/bert/pooler/dense/kernel:0', 'tf_bert_model/bert/pooler/dense/bias:0'] when minimizing the loss. If you're using `model.compile()`, did you forget to provide a `loss` argument?\n"
          ]
        },
        {
          "output_type": "stream",
          "name": "stdout",
          "text": [
            "\b\b\b\b\b\b\b\b\b\b\b\b\b\b\b\b\b\b\b\b\b\b\b\b\b\b\b\b\b\b\b\b\b\b\b\b\b\b\b\b\b\b\b\b\b\b\b\b\b\b\b\b\b\b\b\b\b\b\b\b\b\b\b\b\b\b\b\b\b\b\b\b\b\b\b\b\b\b\b\b\b\b\b\b\b\b\b\b\b\b\b\b\b\b\b\b\r 57/146 [==========>...................] - ETA: 47:54 - loss: 0.4472 - balanced_accuracy: 0.8616"
          ]
        },
        {
          "output_type": "stream",
          "name": "stderr",
          "text": [
            "WARNING:tensorflow:Gradients do not exist for variables ['tf_bert_model/bert/pooler/dense/kernel:0', 'tf_bert_model/bert/pooler/dense/bias:0'] when minimizing the loss. If you're using `model.compile()`, did you forget to provide a `loss` argument?\n"
          ]
        },
        {
          "output_type": "stream",
          "name": "stdout",
          "text": [
            "\b\b\b\b\b\b\b\b\b\b\b\b\b\b\b\b\b\b\b\b\b\b\b\b\b\b\b\b\b\b\b\b\b\b\b\b\b\b\b\b\b\b\b\b\b\b\b\b\b\b\b\b\b\b\b\b\b\b\b\b\b\b\b\b\b\b\b\b\b\b\b\b\b\b\b\b\b\b\b\b\b\b\b\b\b\b\b\b\b\b\b\b\b\b\b\b\r 58/146 [==========>...................] - ETA: 47:21 - loss: 0.4441 - balanced_accuracy: 0.8625"
          ]
        },
        {
          "output_type": "stream",
          "name": "stderr",
          "text": [
            "WARNING:tensorflow:Gradients do not exist for variables ['tf_bert_model/bert/pooler/dense/kernel:0', 'tf_bert_model/bert/pooler/dense/bias:0'] when minimizing the loss. If you're using `model.compile()`, did you forget to provide a `loss` argument?\n"
          ]
        },
        {
          "output_type": "stream",
          "name": "stdout",
          "text": [
            "\b\b\b\b\b\b\b\b\b\b\b\b\b\b\b\b\b\b\b\b\b\b\b\b\b\b\b\b\b\b\b\b\b\b\b\b\b\b\b\b\b\b\b\b\b\b\b\b\b\b\b\b\b\b\b\b\b\b\b\b\b\b\b\b\b\b\b\b\b\b\b\b\b\b\b\b\b\b\b\b\b\b\b\b\b\b\b\b\b\b\b\b\b\b\b\b\r 59/146 [===========>..................] - ETA: 46:47 - loss: 0.4428 - balanced_accuracy: 0.8630"
          ]
        },
        {
          "output_type": "stream",
          "name": "stderr",
          "text": [
            "WARNING:tensorflow:Gradients do not exist for variables ['tf_bert_model/bert/pooler/dense/kernel:0', 'tf_bert_model/bert/pooler/dense/bias:0'] when minimizing the loss. If you're using `model.compile()`, did you forget to provide a `loss` argument?\n"
          ]
        },
        {
          "output_type": "stream",
          "name": "stdout",
          "text": [
            "\b\b\b\b\b\b\b\b\b\b\b\b\b\b\b\b\b\b\b\b\b\b\b\b\b\b\b\b\b\b\b\b\b\b\b\b\b\b\b\b\b\b\b\b\b\b\b\b\b\b\b\b\b\b\b\b\b\b\b\b\b\b\b\b\b\b\b\b\b\b\b\b\b\b\b\b\b\b\b\b\b\b\b\b\b\b\b\b\b\b\b\b\b\b\b\b\r 60/146 [===========>..................] - ETA: 46:25 - loss: 0.4426 - balanced_accuracy: 0.8639"
          ]
        },
        {
          "output_type": "stream",
          "name": "stderr",
          "text": [
            "WARNING:tensorflow:Gradients do not exist for variables ['tf_bert_model/bert/pooler/dense/kernel:0', 'tf_bert_model/bert/pooler/dense/bias:0'] when minimizing the loss. If you're using `model.compile()`, did you forget to provide a `loss` argument?\n"
          ]
        },
        {
          "output_type": "stream",
          "name": "stdout",
          "text": [
            "\b\b\b\b\b\b\b\b\b\b\b\b\b\b\b\b\b\b\b\b\b\b\b\b\b\b\b\b\b\b\b\b\b\b\b\b\b\b\b\b\b\b\b\b\b\b\b\b\b\b\b\b\b\b\b\b\b\b\b\b\b\b\b\b\b\b\b\b\b\b\b\b\b\b\b\b\b\b\b\b\b\b\b\b\b\b\b\b\b\b\b\b\b\b\b\b\r 61/146 [===========>..................] - ETA: 45:52 - loss: 0.4443 - balanced_accuracy: 0.8634"
          ]
        },
        {
          "output_type": "stream",
          "name": "stderr",
          "text": [
            "WARNING:tensorflow:Gradients do not exist for variables ['tf_bert_model/bert/pooler/dense/kernel:0', 'tf_bert_model/bert/pooler/dense/bias:0'] when minimizing the loss. If you're using `model.compile()`, did you forget to provide a `loss` argument?\n"
          ]
        },
        {
          "output_type": "stream",
          "name": "stdout",
          "text": [
            "\b\b\b\b\b\b\b\b\b\b\b\b\b\b\b\b\b\b\b\b\b\b\b\b\b\b\b\b\b\b\b\b\b\b\b\b\b\b\b\b\b\b\b\b\b\b\b\b\b\b\b\b\b\b\b\b\b\b\b\b\b\b\b\b\b\b\b\b\b\b\b\b\b\b\b\b\b\b\b\b\b\b\b\b\b\b\b\b\b\b\b\b\b\b\b\b\r 62/146 [===========>..................] - ETA: 45:18 - loss: 0.4435 - balanced_accuracy: 0.8638"
          ]
        },
        {
          "output_type": "stream",
          "name": "stderr",
          "text": [
            "WARNING:tensorflow:Gradients do not exist for variables ['tf_bert_model/bert/pooler/dense/kernel:0', 'tf_bert_model/bert/pooler/dense/bias:0'] when minimizing the loss. If you're using `model.compile()`, did you forget to provide a `loss` argument?\n"
          ]
        },
        {
          "output_type": "stream",
          "name": "stdout",
          "text": [
            "\b\b\b\b\b\b\b\b\b\b\b\b\b\b\b\b\b\b\b\b\b\b\b\b\b\b\b\b\b\b\b\b\b\b\b\b\b\b\b\b\b\b\b\b\b\b\b\b\b\b\b\b\b\b\b\b\b\b\b\b\b\b\b\b\b\b\b\b\b\b\b\b\b\b\b\b\b\b\b\b\b\b\b\b\b\b\b\b\b\b\b\b\b\b\b\b\r 63/146 [===========>..................] - ETA: 44:45 - loss: 0.4460 - balanced_accuracy: 0.8624"
          ]
        },
        {
          "output_type": "stream",
          "name": "stderr",
          "text": [
            "WARNING:tensorflow:Gradients do not exist for variables ['tf_bert_model/bert/pooler/dense/kernel:0', 'tf_bert_model/bert/pooler/dense/bias:0'] when minimizing the loss. If you're using `model.compile()`, did you forget to provide a `loss` argument?\n"
          ]
        },
        {
          "output_type": "stream",
          "name": "stdout",
          "text": [
            "\b\b\b\b\b\b\b\b\b\b\b\b\b\b\b\b\b\b\b\b\b\b\b\b\b\b\b\b\b\b\b\b\b\b\b\b\b\b\b\b\b\b\b\b\b\b\b\b\b\b\b\b\b\b\b\b\b\b\b\b\b\b\b\b\b\b\b\b\b\b\b\b\b\b\b\b\b\b\b\b\b\b\b\b\b\b\b\b\b\b\b\b\b\b\b\b\r 64/146 [============>.................] - ETA: 44:14 - loss: 0.4465 - balanced_accuracy: 0.8628"
          ]
        },
        {
          "output_type": "stream",
          "name": "stderr",
          "text": [
            "WARNING:tensorflow:Gradients do not exist for variables ['tf_bert_model/bert/pooler/dense/kernel:0', 'tf_bert_model/bert/pooler/dense/bias:0'] when minimizing the loss. If you're using `model.compile()`, did you forget to provide a `loss` argument?\n"
          ]
        },
        {
          "output_type": "stream",
          "name": "stdout",
          "text": [
            "\b\b\b\b\b\b\b\b\b\b\b\b\b\b\b\b\b\b\b\b\b\b\b\b\b\b\b\b\b\b\b\b\b\b\b\b\b\b\b\b\b\b\b\b\b\b\b\b\b\b\b\b\b\b\b\b\b\b\b\b\b\b\b\b\b\b\b\b\b\b\b\b\b\b\b\b\b\b\b\b\b\b\b\b\b\b\b\b\b\b\b\b\b\b\b\b\r 65/146 [============>.................] - ETA: 43:42 - loss: 0.4454 - balanced_accuracy: 0.8624"
          ]
        },
        {
          "output_type": "stream",
          "name": "stderr",
          "text": [
            "WARNING:tensorflow:Gradients do not exist for variables ['tf_bert_model/bert/pooler/dense/kernel:0', 'tf_bert_model/bert/pooler/dense/bias:0'] when minimizing the loss. If you're using `model.compile()`, did you forget to provide a `loss` argument?\n"
          ]
        },
        {
          "output_type": "stream",
          "name": "stdout",
          "text": [
            "\b\b\b\b\b\b\b\b\b\b\b\b\b\b\b\b\b\b\b\b\b\b\b\b\b\b\b\b\b\b\b\b\b\b\b\b\b\b\b\b\b\b\b\b\b\b\b\b\b\b\b\b\b\b\b\b\b\b\b\b\b\b\b\b\b\b\b\b\b\b\b\b\b\b\b\b\b\b\b\b\b\b\b\b\b\b\b\b\b\b\b\b\b\b\b\b\r 66/146 [============>.................] - ETA: 43:09 - loss: 0.4437 - balanced_accuracy: 0.8628"
          ]
        },
        {
          "output_type": "stream",
          "name": "stderr",
          "text": [
            "WARNING:tensorflow:Gradients do not exist for variables ['tf_bert_model/bert/pooler/dense/kernel:0', 'tf_bert_model/bert/pooler/dense/bias:0'] when minimizing the loss. If you're using `model.compile()`, did you forget to provide a `loss` argument?\n"
          ]
        },
        {
          "output_type": "stream",
          "name": "stdout",
          "text": [
            "\b\b\b\b\b\b\b\b\b\b\b\b\b\b\b\b\b\b\b\b\b\b\b\b\b\b\b\b\b\b\b\b\b\b\b\b\b\b\b\b\b\b\b\b\b\b\b\b\b\b\b\b\b\b\b\b\b\b\b\b\b\b\b\b\b\b\b\b\b\b\b\b\b\b\b\b\b\b\b\b\b\b\b\b\b\b\b\b\b\b\b\b\b\b\b\b\r 67/146 [============>.................] - ETA: 42:36 - loss: 0.4431 - balanced_accuracy: 0.8624"
          ]
        },
        {
          "output_type": "stream",
          "name": "stderr",
          "text": [
            "WARNING:tensorflow:Gradients do not exist for variables ['tf_bert_model/bert/pooler/dense/kernel:0', 'tf_bert_model/bert/pooler/dense/bias:0'] when minimizing the loss. If you're using `model.compile()`, did you forget to provide a `loss` argument?\n"
          ]
        },
        {
          "output_type": "stream",
          "name": "stdout",
          "text": [
            "\b\b\b\b\b\b\b\b\b\b\b\b\b\b\b\b\b\b\b\b\b\b\b\b\b\b\b\b\b\b\b\b\b\b\b\b\b\b\b\b\b\b\b\b\b\b\b\b\b\b\b\b\b\b\b\b\b\b\b\b\b\b\b\b\b\b\b\b\b\b\b\b\b\b\b\b\b\b\b\b\b\b\b\b\b\b\b\b\b\b\b\b\b\b\b\b\r 68/146 [============>.................] - ETA: 42:05 - loss: 0.4439 - balanced_accuracy: 0.8619"
          ]
        },
        {
          "output_type": "stream",
          "name": "stderr",
          "text": [
            "WARNING:tensorflow:Gradients do not exist for variables ['tf_bert_model/bert/pooler/dense/kernel:0', 'tf_bert_model/bert/pooler/dense/bias:0'] when minimizing the loss. If you're using `model.compile()`, did you forget to provide a `loss` argument?\n"
          ]
        },
        {
          "output_type": "stream",
          "name": "stdout",
          "text": [
            "\b\b\b\b\b\b\b\b\b\b\b\b\b\b\b\b\b\b\b\b\b\b\b\b\b\b\b\b\b\b\b\b\b\b\b\b\b\b\b\b\b\b\b\b\b\b\b\b\b\b\b\b\b\b\b\b\b\b\b\b\b\b\b\b\b\b\b\b\b\b\b\b\b\b\b\b\b\b\b\b\b\b\b\b\b\b\b\b\b\b\b\b\b\b\b\b\r 69/146 [=============>................] - ETA: 41:32 - loss: 0.4465 - balanced_accuracy: 0.8603"
          ]
        },
        {
          "output_type": "stream",
          "name": "stderr",
          "text": [
            "WARNING:tensorflow:Gradients do not exist for variables ['tf_bert_model/bert/pooler/dense/kernel:0', 'tf_bert_model/bert/pooler/dense/bias:0'] when minimizing the loss. If you're using `model.compile()`, did you forget to provide a `loss` argument?\n"
          ]
        },
        {
          "output_type": "stream",
          "name": "stdout",
          "text": [
            "\b\b\b\b\b\b\b\b\b\b\b\b\b\b\b\b\b\b\b\b\b\b\b\b\b\b\b\b\b\b\b\b\b\b\b\b\b\b\b\b\b\b\b\b\b\b\b\b\b\b\b\b\b\b\b\b\b\b\b\b\b\b\b\b\b\b\b\b\b\b\b\b\b\b\b\b\b\b\b\b\b\b\b\b\b\b\b\b\b\b\b\b\b\b\b\b\r 70/146 [=============>................] - ETA: 40:59 - loss: 0.4498 - balanced_accuracy: 0.8595"
          ]
        },
        {
          "output_type": "stream",
          "name": "stderr",
          "text": [
            "WARNING:tensorflow:Gradients do not exist for variables ['tf_bert_model/bert/pooler/dense/kernel:0', 'tf_bert_model/bert/pooler/dense/bias:0'] when minimizing the loss. If you're using `model.compile()`, did you forget to provide a `loss` argument?\n"
          ]
        },
        {
          "output_type": "stream",
          "name": "stdout",
          "text": [
            "\b\b\b\b\b\b\b\b\b\b\b\b\b\b\b\b\b\b\b\b\b\b\b\b\b\b\b\b\b\b\b\b\b\b\b\b\b\b\b\b\b\b\b\b\b\b\b\b\b\b\b\b\b\b\b\b\b\b\b\b\b\b\b\b\b\b\b\b\b\b\b\b\b\b\b\b\b\b\b\b\b\b\b\b\b\b\b\b\b\b\b\b\b\b\b\b\r 71/146 [=============>................] - ETA: 40:26 - loss: 0.4517 - balanced_accuracy: 0.8584"
          ]
        },
        {
          "output_type": "stream",
          "name": "stderr",
          "text": [
            "WARNING:tensorflow:Gradients do not exist for variables ['tf_bert_model/bert/pooler/dense/kernel:0', 'tf_bert_model/bert/pooler/dense/bias:0'] when minimizing the loss. If you're using `model.compile()`, did you forget to provide a `loss` argument?\n"
          ]
        },
        {
          "output_type": "stream",
          "name": "stdout",
          "text": [
            "\b\b\b\b\b\b\b\b\b\b\b\b\b\b\b\b\b\b\b\b\b\b\b\b\b\b\b\b\b\b\b\b\b\b\b\b\b\b\b\b\b\b\b\b\b\b\b\b\b\b\b\b\b\b\b\b\b\b\b\b\b\b\b\b\b\b\b\b\b\b\b\b\b\b\b\b\b\b\b\b\b\b\b\b\b\b\b\b\b\b\b\b\b\b\b\b\r 72/146 [=============>................] - ETA: 39:54 - loss: 0.4563 - balanced_accuracy: 0.8553"
          ]
        },
        {
          "output_type": "stream",
          "name": "stderr",
          "text": [
            "WARNING:tensorflow:Gradients do not exist for variables ['tf_bert_model/bert/pooler/dense/kernel:0', 'tf_bert_model/bert/pooler/dense/bias:0'] when minimizing the loss. If you're using `model.compile()`, did you forget to provide a `loss` argument?\n"
          ]
        },
        {
          "output_type": "stream",
          "name": "stdout",
          "text": [
            "\b\b\b\b\b\b\b\b\b\b\b\b\b\b\b\b\b\b\b\b\b\b\b\b\b\b\b\b\b\b\b\b\b\b\b\b\b\b\b\b\b\b\b\b\b\b\b\b\b\b\b\b\b\b\b\b\b\b\b\b\b\b\b\b\b\b\b\b\b\b\b\b\b\b\b\b\b\b\b\b\b\b\b\b\b\b\b\b\b\b\b\b\b\b\b\b\r 73/146 [==============>...............] - ETA: 39:20 - loss: 0.4541 - balanced_accuracy: 0.8565"
          ]
        },
        {
          "output_type": "stream",
          "name": "stderr",
          "text": [
            "WARNING:tensorflow:Gradients do not exist for variables ['tf_bert_model/bert/pooler/dense/kernel:0', 'tf_bert_model/bert/pooler/dense/bias:0'] when minimizing the loss. If you're using `model.compile()`, did you forget to provide a `loss` argument?\n"
          ]
        },
        {
          "output_type": "stream",
          "name": "stdout",
          "text": [
            "\b\b\b\b\b\b\b\b\b\b\b\b\b\b\b\b\b\b\b\b\b\b\b\b\b\b\b\b\b\b\b\b\b\b\b\b\b\b\b\b\b\b\b\b\b\b\b\b\b\b\b\b\b\b\b\b\b\b\b\b\b\b\b\b\b\b\b\b\b\b\b\b\b\b\b\b\b\b\b\b\b\b\b\b\b\b\b\b\b\b\b\b\b\b\b\b\r 74/146 [==============>...............] - ETA: 38:48 - loss: 0.4579 - balanced_accuracy: 0.8544"
          ]
        },
        {
          "output_type": "stream",
          "name": "stderr",
          "text": [
            "WARNING:tensorflow:Gradients do not exist for variables ['tf_bert_model/bert/pooler/dense/kernel:0', 'tf_bert_model/bert/pooler/dense/bias:0'] when minimizing the loss. If you're using `model.compile()`, did you forget to provide a `loss` argument?\n"
          ]
        },
        {
          "output_type": "stream",
          "name": "stdout",
          "text": [
            "\b\b\b\b\b\b\b\b\b\b\b\b\b\b\b\b\b\b\b\b\b\b\b\b\b\b\b\b\b\b\b\b\b\b\b\b\b\b\b\b\b\b\b\b\b\b\b\b\b\b\b\b\b\b\b\b\b\b\b\b\b\b\b\b\b\b\b\b\b\b\b\b\b\b\b\b\b\b\b\b\b\b\b\b\b\b\b\b\b\b\b\b\b\b\b\b\r 75/146 [==============>...............] - ETA: 38:16 - loss: 0.4560 - balanced_accuracy: 0.8552"
          ]
        },
        {
          "output_type": "stream",
          "name": "stderr",
          "text": [
            "WARNING:tensorflow:Gradients do not exist for variables ['tf_bert_model/bert/pooler/dense/kernel:0', 'tf_bert_model/bert/pooler/dense/bias:0'] when minimizing the loss. If you're using `model.compile()`, did you forget to provide a `loss` argument?\n"
          ]
        },
        {
          "output_type": "stream",
          "name": "stdout",
          "text": [
            "\b\b\b\b\b\b\b\b\b\b\b\b\b\b\b\b\b\b\b\b\b\b\b\b\b\b\b\b\b\b\b\b\b\b\b\b\b\b\b\b\b\b\b\b\b\b\b\b\b\b\b\b\b\b\b\b\b\b\b\b\b\b\b\b\b\b\b\b\b\b\b\b\b\b\b\b\b\b\b\b\b\b\b\b\b\b\b\b\b\b\b\b\b\b\b\b\r 76/146 [==============>...............] - ETA: 37:44 - loss: 0.4587 - balanced_accuracy: 0.8545"
          ]
        },
        {
          "output_type": "stream",
          "name": "stderr",
          "text": [
            "WARNING:tensorflow:Gradients do not exist for variables ['tf_bert_model/bert/pooler/dense/kernel:0', 'tf_bert_model/bert/pooler/dense/bias:0'] when minimizing the loss. If you're using `model.compile()`, did you forget to provide a `loss` argument?\n"
          ]
        },
        {
          "output_type": "stream",
          "name": "stdout",
          "text": [
            "\b\b\b\b\b\b\b\b\b\b\b\b\b\b\b\b\b\b\b\b\b\b\b\b\b\b\b\b\b\b\b\b\b\b\b\b\b\b\b\b\b\b\b\b\b\b\b\b\b\b\b\b\b\b\b\b\b\b\b\b\b\b\b\b\b\b\b\b\b\b\b\b\b\b\b\b\b\b\b\b\b\b\b\b\b\b\b\b\b\b\b\b\b\b\b\b\r 77/146 [==============>...............] - ETA: 37:12 - loss: 0.4591 - balanced_accuracy: 0.8543"
          ]
        },
        {
          "output_type": "stream",
          "name": "stderr",
          "text": [
            "WARNING:tensorflow:Gradients do not exist for variables ['tf_bert_model/bert/pooler/dense/kernel:0', 'tf_bert_model/bert/pooler/dense/bias:0'] when minimizing the loss. If you're using `model.compile()`, did you forget to provide a `loss` argument?\n"
          ]
        },
        {
          "output_type": "stream",
          "name": "stdout",
          "text": [
            "\b\b\b\b\b\b\b\b\b\b\b\b\b\b\b\b\b\b\b\b\b\b\b\b\b\b\b\b\b\b\b\b\b\b\b\b\b\b\b\b\b\b\b\b\b\b\b\b\b\b\b\b\b\b\b\b\b\b\b\b\b\b\b\b\b\b\b\b\b\b\b\b\b\b\b\b\b\b\b\b\b\b\b\b\b\b\b\b\b\b\b\b\b\b\b\b\r 78/146 [===============>..............] - ETA: 36:40 - loss: 0.4583 - balanced_accuracy: 0.8543"
          ]
        },
        {
          "output_type": "stream",
          "name": "stderr",
          "text": [
            "WARNING:tensorflow:Gradients do not exist for variables ['tf_bert_model/bert/pooler/dense/kernel:0', 'tf_bert_model/bert/pooler/dense/bias:0'] when minimizing the loss. If you're using `model.compile()`, did you forget to provide a `loss` argument?\n"
          ]
        },
        {
          "output_type": "stream",
          "name": "stdout",
          "text": [
            "\b\b\b\b\b\b\b\b\b\b\b\b\b\b\b\b\b\b\b\b\b\b\b\b\b\b\b\b\b\b\b\b\b\b\b\b\b\b\b\b\b\b\b\b\b\b\b\b\b\b\b\b\b\b\b\b\b\b\b\b\b\b\b\b\b\b\b\b\b\b\b\b\b\b\b\b\b\b\b\b\b\b\b\b\b\b\b\b\b\b\b\b\b\b\b\b\r 79/146 [===============>..............] - ETA: 36:09 - loss: 0.4604 - balanced_accuracy: 0.8544"
          ]
        },
        {
          "output_type": "stream",
          "name": "stderr",
          "text": [
            "WARNING:tensorflow:Gradients do not exist for variables ['tf_bert_model/bert/pooler/dense/kernel:0', 'tf_bert_model/bert/pooler/dense/bias:0'] when minimizing the loss. If you're using `model.compile()`, did you forget to provide a `loss` argument?\n"
          ]
        },
        {
          "output_type": "stream",
          "name": "stdout",
          "text": [
            "\b\b\b\b\b\b\b\b\b\b\b\b\b\b\b\b\b\b\b\b\b\b\b\b\b\b\b\b\b\b\b\b\b\b\b\b\b\b\b\b\b\b\b\b\b\b\b\b\b\b\b\b\b\b\b\b\b\b\b\b\b\b\b\b\b\b\b\b\b\b\b\b\b\b\b\b\b\b\b\b\b\b\b\b\b\b\b\b\b\b\b\b\b\b\b\b\r 80/146 [===============>..............] - ETA: 35:37 - loss: 0.4601 - balanced_accuracy: 0.8538"
          ]
        },
        {
          "output_type": "stream",
          "name": "stderr",
          "text": [
            "WARNING:tensorflow:Gradients do not exist for variables ['tf_bert_model/bert/pooler/dense/kernel:0', 'tf_bert_model/bert/pooler/dense/bias:0'] when minimizing the loss. If you're using `model.compile()`, did you forget to provide a `loss` argument?\n"
          ]
        },
        {
          "output_type": "stream",
          "name": "stdout",
          "text": [
            "\b\b\b\b\b\b\b\b\b\b\b\b\b\b\b\b\b\b\b\b\b\b\b\b\b\b\b\b\b\b\b\b\b\b\b\b\b\b\b\b\b\b\b\b\b\b\b\b\b\b\b\b\b\b\b\b\b\b\b\b\b\b\b\b\b\b\b\b\b\b\b\b\b\b\b\b\b\b\b\b\b\b\b\b\b\b\b\b\b\b\b\b\b\b\b\b\r 81/146 [===============>..............] - ETA: 35:04 - loss: 0.4595 - balanced_accuracy: 0.8539"
          ]
        },
        {
          "output_type": "stream",
          "name": "stderr",
          "text": [
            "WARNING:tensorflow:Gradients do not exist for variables ['tf_bert_model/bert/pooler/dense/kernel:0', 'tf_bert_model/bert/pooler/dense/bias:0'] when minimizing the loss. If you're using `model.compile()`, did you forget to provide a `loss` argument?\n"
          ]
        },
        {
          "output_type": "stream",
          "name": "stdout",
          "text": [
            "\b\b\b\b\b\b\b\b\b\b\b\b\b\b\b\b\b\b\b\b\b\b\b\b\b\b\b\b\b\b\b\b\b\b\b\b\b\b\b\b\b\b\b\b\b\b\b\b\b\b\b\b\b\b\b\b\b\b\b\b\b\b\b\b\b\b\b\b\b\b\b\b\b\b\b\b\b\b\b\b\b\b\b\b\b\b\b\b\b\b\b\b\b\b\b\b\r 82/146 [===============>..............] - ETA: 34:31 - loss: 0.4584 - balanced_accuracy: 0.8543"
          ]
        },
        {
          "output_type": "stream",
          "name": "stderr",
          "text": [
            "WARNING:tensorflow:Gradients do not exist for variables ['tf_bert_model/bert/pooler/dense/kernel:0', 'tf_bert_model/bert/pooler/dense/bias:0'] when minimizing the loss. If you're using `model.compile()`, did you forget to provide a `loss` argument?\n"
          ]
        },
        {
          "output_type": "stream",
          "name": "stdout",
          "text": [
            "\b\b\b\b\b\b\b\b\b\b\b\b\b\b\b\b\b\b\b\b\b\b\b\b\b\b\b\b\b\b\b\b\b\b\b\b\b\b\b\b\b\b\b\b\b\b\b\b\b\b\b\b\b\b\b\b\b\b\b\b\b\b\b\b\b\b\b\b\b\b\b\b\b\b\b\b\b\b\b\b\b\b\b\b\b\b\b\b\b\b\b\b\b\b\b\b\r 83/146 [================>.............] - ETA: 33:59 - loss: 0.4573 - balanced_accuracy: 0.8548"
          ]
        },
        {
          "output_type": "stream",
          "name": "stderr",
          "text": [
            "WARNING:tensorflow:Gradients do not exist for variables ['tf_bert_model/bert/pooler/dense/kernel:0', 'tf_bert_model/bert/pooler/dense/bias:0'] when minimizing the loss. If you're using `model.compile()`, did you forget to provide a `loss` argument?\n"
          ]
        },
        {
          "output_type": "stream",
          "name": "stdout",
          "text": [
            "\b\b\b\b\b\b\b\b\b\b\b\b\b\b\b\b\b\b\b\b\b\b\b\b\b\b\b\b\b\b\b\b\b\b\b\b\b\b\b\b\b\b\b\b\b\b\b\b\b\b\b\b\b\b\b\b\b\b\b\b\b\b\b\b\b\b\b\b\b\b\b\b\b\b\b\b\b\b\b\b\b\b\b\b\b\b\b\b\b\b\b\b\b\b\b\b\r 84/146 [================>.............] - ETA: 33:26 - loss: 0.4579 - balanced_accuracy: 0.8545"
          ]
        },
        {
          "output_type": "stream",
          "name": "stderr",
          "text": [
            "WARNING:tensorflow:Gradients do not exist for variables ['tf_bert_model/bert/pooler/dense/kernel:0', 'tf_bert_model/bert/pooler/dense/bias:0'] when minimizing the loss. If you're using `model.compile()`, did you forget to provide a `loss` argument?\n"
          ]
        },
        {
          "output_type": "stream",
          "name": "stdout",
          "text": [
            "\b\b\b\b\b\b\b\b\b\b\b\b\b\b\b\b\b\b\b\b\b\b\b\b\b\b\b\b\b\b\b\b\b\b\b\b\b\b\b\b\b\b\b\b\b\b\b\b\b\b\b\b\b\b\b\b\b\b\b\b\b\b\b\b\b\b\b\b\b\b\b\b\b\b\b\b\b\b\b\b\b\b\b\b\b\b\b\b\b\b\b\b\b\b\b\b\r 85/146 [================>.............] - ETA: 32:54 - loss: 0.4577 - balanced_accuracy: 0.8546"
          ]
        },
        {
          "output_type": "stream",
          "name": "stderr",
          "text": [
            "WARNING:tensorflow:Gradients do not exist for variables ['tf_bert_model/bert/pooler/dense/kernel:0', 'tf_bert_model/bert/pooler/dense/bias:0'] when minimizing the loss. If you're using `model.compile()`, did you forget to provide a `loss` argument?\n"
          ]
        },
        {
          "output_type": "stream",
          "name": "stdout",
          "text": [
            "\b\b\b\b\b\b\b\b\b\b\b\b\b\b\b\b\b\b\b\b\b\b\b\b\b\b\b\b\b\b\b\b\b\b\b\b\b\b\b\b\b\b\b\b\b\b\b\b\b\b\b\b\b\b\b\b\b\b\b\b\b\b\b\b\b\b\b\b\b\b\b\b\b\b\b\b\b\b\b\b\b\b\b\b\b\b\b\b\b\b\b\b\b\b\b\b\r 86/146 [================>.............] - ETA: 32:22 - loss: 0.4584 - balanced_accuracy: 0.8534"
          ]
        },
        {
          "output_type": "stream",
          "name": "stderr",
          "text": [
            "WARNING:tensorflow:Gradients do not exist for variables ['tf_bert_model/bert/pooler/dense/kernel:0', 'tf_bert_model/bert/pooler/dense/bias:0'] when minimizing the loss. If you're using `model.compile()`, did you forget to provide a `loss` argument?\n"
          ]
        },
        {
          "output_type": "stream",
          "name": "stdout",
          "text": [
            "\b\b\b\b\b\b\b\b\b\b\b\b\b\b\b\b\b\b\b\b\b\b\b\b\b\b\b\b\b\b\b\b\b\b\b\b\b\b\b\b\b\b\b\b\b\b\b\b\b\b\b\b\b\b\b\b\b\b\b\b\b\b\b\b\b\b\b\b\b\b\b\b\b\b\b\b\b\b\b\b\b\b\b\b\b\b\b\b\b\b\b\b\b\b\b\b\r 87/146 [================>.............] - ETA: 31:51 - loss: 0.4592 - balanced_accuracy: 0.8531"
          ]
        },
        {
          "output_type": "stream",
          "name": "stderr",
          "text": [
            "WARNING:tensorflow:Gradients do not exist for variables ['tf_bert_model/bert/pooler/dense/kernel:0', 'tf_bert_model/bert/pooler/dense/bias:0'] when minimizing the loss. If you're using `model.compile()`, did you forget to provide a `loss` argument?\n"
          ]
        },
        {
          "output_type": "stream",
          "name": "stdout",
          "text": [
            "\b\b\b\b\b\b\b\b\b\b\b\b\b\b\b\b\b\b\b\b\b\b\b\b\b\b\b\b\b\b\b\b\b\b\b\b\b\b\b\b\b\b\b\b\b\b\b\b\b\b\b\b\b\b\b\b\b\b\b\b\b\b\b\b\b\b\b\b\b\b\b\b\b\b\b\b\b\b\b\b\b\b\b\b\b\b\b\b\b\b\b\b\b\b\b\b\r 88/146 [=================>............] - ETA: 31:18 - loss: 0.4604 - balanced_accuracy: 0.8520"
          ]
        },
        {
          "output_type": "stream",
          "name": "stderr",
          "text": [
            "WARNING:tensorflow:Gradients do not exist for variables ['tf_bert_model/bert/pooler/dense/kernel:0', 'tf_bert_model/bert/pooler/dense/bias:0'] when minimizing the loss. If you're using `model.compile()`, did you forget to provide a `loss` argument?\n"
          ]
        },
        {
          "output_type": "stream",
          "name": "stdout",
          "text": [
            "\b\b\b\b\b\b\b\b\b\b\b\b\b\b\b\b\b\b\b\b\b\b\b\b\b\b\b\b\b\b\b\b\b\b\b\b\b\b\b\b\b\b\b\b\b\b\b\b\b\b\b\b\b\b\b\b\b\b\b\b\b\b\b\b\b\b\b\b\b\b\b\b\b\b\b\b\b\b\b\b\b\b\b\b\b\b\b\b\b\b\b\b\b\b\b\b\r 89/146 [=================>............] - ETA: 30:46 - loss: 0.4594 - balanced_accuracy: 0.8521"
          ]
        },
        {
          "output_type": "stream",
          "name": "stderr",
          "text": [
            "WARNING:tensorflow:Gradients do not exist for variables ['tf_bert_model/bert/pooler/dense/kernel:0', 'tf_bert_model/bert/pooler/dense/bias:0'] when minimizing the loss. If you're using `model.compile()`, did you forget to provide a `loss` argument?\n"
          ]
        },
        {
          "output_type": "stream",
          "name": "stdout",
          "text": [
            "\b\b\b\b\b\b\b\b\b\b\b\b\b\b\b\b\b\b\b\b\b\b\b\b\b\b\b\b\b\b\b\b\b\b\b\b\b\b\b\b\b\b\b\b\b\b\b\b\b\b\b\b\b\b\b\b\b\b\b\b\b\b\b\b\b\b\b\b\b\b\b\b\b\b\b\b\b\b\b\b\b\b\b\b\b\b\b\b\b\b\b\b\b\b\b\b\r 90/146 [=================>............] - ETA: 30:14 - loss: 0.4592 - balanced_accuracy: 0.8522"
          ]
        },
        {
          "output_type": "stream",
          "name": "stderr",
          "text": [
            "WARNING:tensorflow:Gradients do not exist for variables ['tf_bert_model/bert/pooler/dense/kernel:0', 'tf_bert_model/bert/pooler/dense/bias:0'] when minimizing the loss. If you're using `model.compile()`, did you forget to provide a `loss` argument?\n"
          ]
        },
        {
          "output_type": "stream",
          "name": "stdout",
          "text": [
            "\b\b\b\b\b\b\b\b\b\b\b\b\b\b\b\b\b\b\b\b\b\b\b\b\b\b\b\b\b\b\b\b\b\b\b\b\b\b\b\b\b\b\b\b\b\b\b\b\b\b\b\b\b\b\b\b\b\b\b\b\b\b\b\b\b\b\b\b\b\b\b\b\b\b\b\b\b\b\b\b\b\b\b\b\b\b\b\b\b\b\b\b\b\b\b\b\r 91/146 [=================>............] - ETA: 29:42 - loss: 0.4627 - balanced_accuracy: 0.8504"
          ]
        },
        {
          "output_type": "stream",
          "name": "stderr",
          "text": [
            "WARNING:tensorflow:Gradients do not exist for variables ['tf_bert_model/bert/pooler/dense/kernel:0', 'tf_bert_model/bert/pooler/dense/bias:0'] when minimizing the loss. If you're using `model.compile()`, did you forget to provide a `loss` argument?\n"
          ]
        },
        {
          "output_type": "stream",
          "name": "stdout",
          "text": [
            "\b\b\b\b\b\b\b\b\b\b\b\b\b\b\b\b\b\b\b\b\b\b\b\b\b\b\b\b\b\b\b\b\b\b\b\b\b\b\b\b\b\b\b\b\b\b\b\b\b\b\b\b\b\b\b\b\b\b\b\b\b\b\b\b\b\b\b\b\b\b\b\b\b\b\b\b\b\b\b\b\b\b\b\b\b\b\b\b\b\b\b\b\b\b\b\b\r 92/146 [=================>............] - ETA: 29:09 - loss: 0.4634 - balanced_accuracy: 0.8496"
          ]
        },
        {
          "output_type": "stream",
          "name": "stderr",
          "text": [
            "WARNING:tensorflow:Gradients do not exist for variables ['tf_bert_model/bert/pooler/dense/kernel:0', 'tf_bert_model/bert/pooler/dense/bias:0'] when minimizing the loss. If you're using `model.compile()`, did you forget to provide a `loss` argument?\n"
          ]
        },
        {
          "output_type": "stream",
          "name": "stdout",
          "text": [
            "\b\b\b\b\b\b\b\b\b\b\b\b\b\b\b\b\b\b\b\b\b\b\b\b\b\b\b\b\b\b\b\b\b\b\b\b\b\b\b\b\b\b\b\b\b\b\b\b\b\b\b\b\b\b\b\b\b\b\b\b\b\b\b\b\b\b\b\b\b\b\b\b\b\b\b\b\b\b\b\b\b\b\b\b\b\b\b\b\b\b\b\b\b\b\b\b\r 93/146 [==================>...........] - ETA: 28:36 - loss: 0.4629 - balanced_accuracy: 0.8495"
          ]
        },
        {
          "output_type": "stream",
          "name": "stderr",
          "text": [
            "WARNING:tensorflow:Gradients do not exist for variables ['tf_bert_model/bert/pooler/dense/kernel:0', 'tf_bert_model/bert/pooler/dense/bias:0'] when minimizing the loss. If you're using `model.compile()`, did you forget to provide a `loss` argument?\n"
          ]
        },
        {
          "output_type": "stream",
          "name": "stdout",
          "text": [
            "\b\b\b\b\b\b\b\b\b\b\b\b\b\b\b\b\b\b\b\b\b\b\b\b\b\b\b\b\b\b\b\b\b\b\b\b\b\b\b\b\b\b\b\b\b\b\b\b\b\b\b\b\b\b\b\b\b\b\b\b\b\b\b\b\b\b\b\b\b\b\b\b\b\b\b\b\b\b\b\b\b\b\b\b\b\b\b\b\b\b\b\b\b\b\b\b\r 94/146 [==================>...........] - ETA: 28:04 - loss: 0.4642 - balanced_accuracy: 0.8493"
          ]
        },
        {
          "output_type": "stream",
          "name": "stderr",
          "text": [
            "WARNING:tensorflow:Gradients do not exist for variables ['tf_bert_model/bert/pooler/dense/kernel:0', 'tf_bert_model/bert/pooler/dense/bias:0'] when minimizing the loss. If you're using `model.compile()`, did you forget to provide a `loss` argument?\n"
          ]
        },
        {
          "output_type": "stream",
          "name": "stdout",
          "text": [
            "\b\b\b\b\b\b\b\b\b\b\b\b\b\b\b\b\b\b\b\b\b\b\b\b\b\b\b\b\b\b\b\b\b\b\b\b\b\b\b\b\b\b\b\b\b\b\b\b\b\b\b\b\b\b\b\b\b\b\b\b\b\b\b\b\b\b\b\b\b\b\b\b\b\b\b\b\b\b\b\b\b\b\b\b\b\b\b\b\b\b\b\b\b\b\b\b\r 95/146 [==================>...........] - ETA: 27:32 - loss: 0.4642 - balanced_accuracy: 0.8494"
          ]
        },
        {
          "output_type": "stream",
          "name": "stderr",
          "text": [
            "WARNING:tensorflow:Gradients do not exist for variables ['tf_bert_model/bert/pooler/dense/kernel:0', 'tf_bert_model/bert/pooler/dense/bias:0'] when minimizing the loss. If you're using `model.compile()`, did you forget to provide a `loss` argument?\n"
          ]
        },
        {
          "output_type": "stream",
          "name": "stdout",
          "text": [
            "\b\b\b\b\b\b\b\b\b\b\b\b\b\b\b\b\b\b\b\b\b\b\b\b\b\b\b\b\b\b\b\b\b\b\b\b\b\b\b\b\b\b\b\b\b\b\b\b\b\b\b\b\b\b\b\b\b\b\b\b\b\b\b\b\b\b\b\b\b\b\b\b\b\b\b\b\b\b\b\b\b\b\b\b\b\b\b\b\b\b\b\b\b\b\b\b\r 96/146 [==================>...........] - ETA: 26:59 - loss: 0.4671 - balanced_accuracy: 0.8487"
          ]
        },
        {
          "output_type": "stream",
          "name": "stderr",
          "text": [
            "WARNING:tensorflow:Gradients do not exist for variables ['tf_bert_model/bert/pooler/dense/kernel:0', 'tf_bert_model/bert/pooler/dense/bias:0'] when minimizing the loss. If you're using `model.compile()`, did you forget to provide a `loss` argument?\n"
          ]
        },
        {
          "output_type": "stream",
          "name": "stdout",
          "text": [
            "\b\b\b\b\b\b\b\b\b\b\b\b\b\b\b\b\b\b\b\b\b\b\b\b\b\b\b\b\b\b\b\b\b\b\b\b\b\b\b\b\b\b\b\b\b\b\b\b\b\b\b\b\b\b\b\b\b\b\b\b\b\b\b\b\b\b\b\b\b\b\b\b\b\b\b\b\b\b\b\b\b\b\b\b\b\b\b\b\b\b\b\b\b\b\b\b\r 97/146 [==================>...........] - ETA: 26:26 - loss: 0.4687 - balanced_accuracy: 0.8474"
          ]
        },
        {
          "output_type": "stream",
          "name": "stderr",
          "text": [
            "WARNING:tensorflow:Gradients do not exist for variables ['tf_bert_model/bert/pooler/dense/kernel:0', 'tf_bert_model/bert/pooler/dense/bias:0'] when minimizing the loss. If you're using `model.compile()`, did you forget to provide a `loss` argument?\n"
          ]
        },
        {
          "output_type": "stream",
          "name": "stdout",
          "text": [
            "\b\b\b\b\b\b\b\b\b\b\b\b\b\b\b\b\b\b\b\b\b\b\b\b\b\b\b\b\b\b\b\b\b\b\b\b\b\b\b\b\b\b\b\b\b\b\b\b\b\b\b\b\b\b\b\b\b\b\b\b\b\b\b\b\b\b\b\b\b\b\b\b\b\b\b\b\b\b\b\b\b\b\b\b\b\b\b\b\b\b\b\b\b\b\b\b\r 98/146 [===================>..........] - ETA: 25:54 - loss: 0.4684 - balanced_accuracy: 0.8472"
          ]
        },
        {
          "output_type": "stream",
          "name": "stderr",
          "text": [
            "WARNING:tensorflow:Gradients do not exist for variables ['tf_bert_model/bert/pooler/dense/kernel:0', 'tf_bert_model/bert/pooler/dense/bias:0'] when minimizing the loss. If you're using `model.compile()`, did you forget to provide a `loss` argument?\n"
          ]
        },
        {
          "output_type": "stream",
          "name": "stdout",
          "text": [
            "\b\b\b\b\b\b\b\b\b\b\b\b\b\b\b\b\b\b\b\b\b\b\b\b\b\b\b\b\b\b\b\b\b\b\b\b\b\b\b\b\b\b\b\b\b\b\b\b\b\b\b\b\b\b\b\b\b\b\b\b\b\b\b\b\b\b\b\b\b\b\b\b\b\b\b\b\b\b\b\b\b\b\b\b\b\b\b\b\b\b\b\b\b\b\b\b\r 99/146 [===================>..........] - ETA: 25:21 - loss: 0.4692 - balanced_accuracy: 0.8471"
          ]
        },
        {
          "output_type": "stream",
          "name": "stderr",
          "text": [
            "WARNING:tensorflow:Gradients do not exist for variables ['tf_bert_model/bert/pooler/dense/kernel:0', 'tf_bert_model/bert/pooler/dense/bias:0'] when minimizing the loss. If you're using `model.compile()`, did you forget to provide a `loss` argument?\n"
          ]
        },
        {
          "output_type": "stream",
          "name": "stdout",
          "text": [
            "\b\b\b\b\b\b\b\b\b\b\b\b\b\b\b\b\b\b\b\b\b\b\b\b\b\b\b\b\b\b\b\b\b\b\b\b\b\b\b\b\b\b\b\b\b\b\b\b\b\b\b\b\b\b\b\b\b\b\b\b\b\b\b\b\b\b\b\b\b\b\b\b\b\b\b\b\b\b\b\b\b\b\b\b\b\b\b\b\b\b\b\b\b\b\b\b\r100/146 [===================>..........] - ETA: 24:49 - loss: 0.4681 - balanced_accuracy: 0.8475"
          ]
        },
        {
          "output_type": "stream",
          "name": "stderr",
          "text": [
            "WARNING:tensorflow:Gradients do not exist for variables ['tf_bert_model/bert/pooler/dense/kernel:0', 'tf_bert_model/bert/pooler/dense/bias:0'] when minimizing the loss. If you're using `model.compile()`, did you forget to provide a `loss` argument?\n"
          ]
        },
        {
          "output_type": "stream",
          "name": "stdout",
          "text": [
            "\b\b\b\b\b\b\b\b\b\b\b\b\b\b\b\b\b\b\b\b\b\b\b\b\b\b\b\b\b\b\b\b\b\b\b\b\b\b\b\b\b\b\b\b\b\b\b\b\b\b\b\b\b\b\b\b\b\b\b\b\b\b\b\b\b\b\b\b\b\b\b\b\b\b\b\b\b\b\b\b\b\b\b\b\b\b\b\b\b\b\b\b\b\b\b\b\r101/146 [===================>..........] - ETA: 24:16 - loss: 0.4676 - balanced_accuracy: 0.8476"
          ]
        },
        {
          "output_type": "stream",
          "name": "stderr",
          "text": [
            "WARNING:tensorflow:Gradients do not exist for variables ['tf_bert_model/bert/pooler/dense/kernel:0', 'tf_bert_model/bert/pooler/dense/bias:0'] when minimizing the loss. If you're using `model.compile()`, did you forget to provide a `loss` argument?\n"
          ]
        },
        {
          "output_type": "stream",
          "name": "stdout",
          "text": [
            "\b\b\b\b\b\b\b\b\b\b\b\b\b\b\b\b\b\b\b\b\b\b\b\b\b\b\b\b\b\b\b\b\b\b\b\b\b\b\b\b\b\b\b\b\b\b\b\b\b\b\b\b\b\b\b\b\b\b\b\b\b\b\b\b\b\b\b\b\b\b\b\b\b\b\b\b\b\b\b\b\b\b\b\b\b\b\b\b\b\b\b\b\b\b\b\b\r102/146 [===================>..........] - ETA: 23:44 - loss: 0.4675 - balanced_accuracy: 0.8475"
          ]
        },
        {
          "output_type": "stream",
          "name": "stderr",
          "text": [
            "WARNING:tensorflow:Gradients do not exist for variables ['tf_bert_model/bert/pooler/dense/kernel:0', 'tf_bert_model/bert/pooler/dense/bias:0'] when minimizing the loss. If you're using `model.compile()`, did you forget to provide a `loss` argument?\n"
          ]
        },
        {
          "output_type": "stream",
          "name": "stdout",
          "text": [
            "\b\b\b\b\b\b\b\b\b\b\b\b\b\b\b\b\b\b\b\b\b\b\b\b\b\b\b\b\b\b\b\b\b\b\b\b\b\b\b\b\b\b\b\b\b\b\b\b\b\b\b\b\b\b\b\b\b\b\b\b\b\b\b\b\b\b\b\b\b\b\b\b\b\b\b\b\b\b\b\b\b\b\b\b\b\b\b\b\b\b\b\b\b\b\b\b\r103/146 [====================>.........] - ETA: 23:11 - loss: 0.4677 - balanced_accuracy: 0.8474"
          ]
        },
        {
          "output_type": "stream",
          "name": "stderr",
          "text": [
            "WARNING:tensorflow:Gradients do not exist for variables ['tf_bert_model/bert/pooler/dense/kernel:0', 'tf_bert_model/bert/pooler/dense/bias:0'] when minimizing the loss. If you're using `model.compile()`, did you forget to provide a `loss` argument?\n"
          ]
        },
        {
          "output_type": "stream",
          "name": "stdout",
          "text": [
            "\b\b\b\b\b\b\b\b\b\b\b\b\b\b\b\b\b\b\b\b\b\b\b\b\b\b\b\b\b\b\b\b\b\b\b\b\b\b\b\b\b\b\b\b\b\b\b\b\b\b\b\b\b\b\b\b\b\b\b\b\b\b\b\b\b\b\b\b\b\b\b\b\b\b\b\b\b\b\b\b\b\b\b\b\b\b\b\b\b\b\b\b\b\b\b\b\r104/146 [====================>.........] - ETA: 22:39 - loss: 0.4667 - balanced_accuracy: 0.8478"
          ]
        },
        {
          "output_type": "stream",
          "name": "stderr",
          "text": [
            "WARNING:tensorflow:Gradients do not exist for variables ['tf_bert_model/bert/pooler/dense/kernel:0', 'tf_bert_model/bert/pooler/dense/bias:0'] when minimizing the loss. If you're using `model.compile()`, did you forget to provide a `loss` argument?\n"
          ]
        },
        {
          "output_type": "stream",
          "name": "stdout",
          "text": [
            "\b\b\b\b\b\b\b\b\b\b\b\b\b\b\b\b\b\b\b\b\b\b\b\b\b\b\b\b\b\b\b\b\b\b\b\b\b\b\b\b\b\b\b\b\b\b\b\b\b\b\b\b\b\b\b\b\b\b\b\b\b\b\b\b\b\b\b\b\b\b\b\b\b\b\b\b\b\b\b\b\b\b\b\b\b\b\b\b\b\b\b\b\b\b\b\b\r105/146 [====================>.........] - ETA: 22:06 - loss: 0.4669 - balanced_accuracy: 0.8481"
          ]
        },
        {
          "output_type": "stream",
          "name": "stderr",
          "text": [
            "WARNING:tensorflow:Gradients do not exist for variables ['tf_bert_model/bert/pooler/dense/kernel:0', 'tf_bert_model/bert/pooler/dense/bias:0'] when minimizing the loss. If you're using `model.compile()`, did you forget to provide a `loss` argument?\n"
          ]
        },
        {
          "output_type": "stream",
          "name": "stdout",
          "text": [
            "\b\b\b\b\b\b\b\b\b\b\b\b\b\b\b\b\b\b\b\b\b\b\b\b\b\b\b\b\b\b\b\b\b\b\b\b\b\b\b\b\b\b\b\b\b\b\b\b\b\b\b\b\b\b\b\b\b\b\b\b\b\b\b\b\b\b\b\b\b\b\b\b\b\b\b\b\b\b\b\b\b\b\b\b\b\b\b\b\b\b\b\b\b\b\b\b\r106/146 [====================>.........] - ETA: 21:34 - loss: 0.4650 - balanced_accuracy: 0.8488"
          ]
        },
        {
          "output_type": "stream",
          "name": "stderr",
          "text": [
            "WARNING:tensorflow:Gradients do not exist for variables ['tf_bert_model/bert/pooler/dense/kernel:0', 'tf_bert_model/bert/pooler/dense/bias:0'] when minimizing the loss. If you're using `model.compile()`, did you forget to provide a `loss` argument?\n"
          ]
        },
        {
          "output_type": "stream",
          "name": "stdout",
          "text": [
            "\b\b\b\b\b\b\b\b\b\b\b\b\b\b\b\b\b\b\b\b\b\b\b\b\b\b\b\b\b\b\b\b\b\b\b\b\b\b\b\b\b\b\b\b\b\b\b\b\b\b\b\b\b\b\b\b\b\b\b\b\b\b\b\b\b\b\b\b\b\b\b\b\b\b\b\b\b\b\b\b\b\b\b\b\b\b\b\b\b\b\b\b\b\b\b\b\r107/146 [====================>.........] - ETA: 21:02 - loss: 0.4632 - balanced_accuracy: 0.8494"
          ]
        },
        {
          "output_type": "stream",
          "name": "stderr",
          "text": [
            "WARNING:tensorflow:Gradients do not exist for variables ['tf_bert_model/bert/pooler/dense/kernel:0', 'tf_bert_model/bert/pooler/dense/bias:0'] when minimizing the loss. If you're using `model.compile()`, did you forget to provide a `loss` argument?\n"
          ]
        },
        {
          "output_type": "stream",
          "name": "stdout",
          "text": [
            "\b\b\b\b\b\b\b\b\b\b\b\b\b\b\b\b\b\b\b\b\b\b\b\b\b\b\b\b\b\b\b\b\b\b\b\b\b\b\b\b\b\b\b\b\b\b\b\b\b\b\b\b\b\b\b\b\b\b\b\b\b\b\b\b\b\b\b\b\b\b\b\b\b\b\b\b\b\b\b\b\b\b\b\b\b\b\b\b\b\b\b\b\b\b\b\b\r108/146 [=====================>........] - ETA: 20:30 - loss: 0.4627 - balanced_accuracy: 0.8498"
          ]
        },
        {
          "output_type": "stream",
          "name": "stderr",
          "text": [
            "WARNING:tensorflow:Gradients do not exist for variables ['tf_bert_model/bert/pooler/dense/kernel:0', 'tf_bert_model/bert/pooler/dense/bias:0'] when minimizing the loss. If you're using `model.compile()`, did you forget to provide a `loss` argument?\n"
          ]
        },
        {
          "output_type": "stream",
          "name": "stdout",
          "text": [
            "\b\b\b\b\b\b\b\b\b\b\b\b\b\b\b\b\b\b\b\b\b\b\b\b\b\b\b\b\b\b\b\b\b\b\b\b\b\b\b\b\b\b\b\b\b\b\b\b\b\b\b\b\b\b\b\b\b\b\b\b\b\b\b\b\b\b\b\b\b\b\b\b\b\b\b\b\b\b\b\b\b\b\b\b\b\b\b\b\b\b\b\b\b\b\b\b\r109/146 [=====================>........] - ETA: 19:58 - loss: 0.4627 - balanced_accuracy: 0.8499"
          ]
        },
        {
          "output_type": "stream",
          "name": "stderr",
          "text": [
            "WARNING:tensorflow:Gradients do not exist for variables ['tf_bert_model/bert/pooler/dense/kernel:0', 'tf_bert_model/bert/pooler/dense/bias:0'] when minimizing the loss. If you're using `model.compile()`, did you forget to provide a `loss` argument?\n"
          ]
        },
        {
          "output_type": "stream",
          "name": "stdout",
          "text": [
            "\b\b\b\b\b\b\b\b\b\b\b\b\b\b\b\b\b\b\b\b\b\b\b\b\b\b\b\b\b\b\b\b\b\b\b\b\b\b\b\b\b\b\b\b\b\b\b\b\b\b\b\b\b\b\b\b\b\b\b\b\b\b\b\b\b\b\b\b\b\b\b\b\b\b\b\b\b\b\b\b\b\b\b\b\b\b\b\b\b\b\b\b\b\b\b\b\r110/146 [=====================>........] - ETA: 19:25 - loss: 0.4633 - balanced_accuracy: 0.8497"
          ]
        },
        {
          "output_type": "stream",
          "name": "stderr",
          "text": [
            "WARNING:tensorflow:Gradients do not exist for variables ['tf_bert_model/bert/pooler/dense/kernel:0', 'tf_bert_model/bert/pooler/dense/bias:0'] when minimizing the loss. If you're using `model.compile()`, did you forget to provide a `loss` argument?\n"
          ]
        },
        {
          "output_type": "stream",
          "name": "stdout",
          "text": [
            "\b\b\b\b\b\b\b\b\b\b\b\b\b\b\b\b\b\b\b\b\b\b\b\b\b\b\b\b\b\b\b\b\b\b\b\b\b\b\b\b\b\b\b\b\b\b\b\b\b\b\b\b\b\b\b\b\b\b\b\b\b\b\b\b\b\b\b\b\b\b\b\b\b\b\b\b\b\b\b\b\b\b\b\b\b\b\b\b\b\b\b\b\b\b\b\b\r111/146 [=====================>........] - ETA: 18:53 - loss: 0.4622 - balanced_accuracy: 0.8498"
          ]
        },
        {
          "output_type": "stream",
          "name": "stderr",
          "text": [
            "WARNING:tensorflow:Gradients do not exist for variables ['tf_bert_model/bert/pooler/dense/kernel:0', 'tf_bert_model/bert/pooler/dense/bias:0'] when minimizing the loss. If you're using `model.compile()`, did you forget to provide a `loss` argument?\n"
          ]
        },
        {
          "output_type": "stream",
          "name": "stdout",
          "text": [
            "\b\b\b\b\b\b\b\b\b\b\b\b\b\b\b\b\b\b\b\b\b\b\b\b\b\b\b\b\b\b\b\b\b\b\b\b\b\b\b\b\b\b\b\b\b\b\b\b\b\b\b\b\b\b\b\b\b\b\b\b\b\b\b\b\b\b\b\b\b\b\b\b\b\b\b\b\b\b\b\b\b\b\b\b\b\b\b\b\b\b\b\b\b\b\b\b\r112/146 [======================>.......] - ETA: 18:20 - loss: 0.4637 - balanced_accuracy: 0.8492"
          ]
        },
        {
          "output_type": "stream",
          "name": "stderr",
          "text": [
            "WARNING:tensorflow:Gradients do not exist for variables ['tf_bert_model/bert/pooler/dense/kernel:0', 'tf_bert_model/bert/pooler/dense/bias:0'] when minimizing the loss. If you're using `model.compile()`, did you forget to provide a `loss` argument?\n"
          ]
        },
        {
          "output_type": "stream",
          "name": "stdout",
          "text": [
            "\b\b\b\b\b\b\b\b\b\b\b\b\b\b\b\b\b\b\b\b\b\b\b\b\b\b\b\b\b\b\b\b\b\b\b\b\b\b\b\b\b\b\b\b\b\b\b\b\b\b\b\b\b\b\b\b\b\b\b\b\b\b\b\b\b\b\b\b\b\b\b\b\b\b\b\b\b\b\b\b\b\b\b\b\b\b\b\b\b\b\b\b\b\b\b\b\r113/146 [======================>.......] - ETA: 17:48 - loss: 0.4649 - balanced_accuracy: 0.8488"
          ]
        },
        {
          "output_type": "stream",
          "name": "stderr",
          "text": [
            "WARNING:tensorflow:Gradients do not exist for variables ['tf_bert_model/bert/pooler/dense/kernel:0', 'tf_bert_model/bert/pooler/dense/bias:0'] when minimizing the loss. If you're using `model.compile()`, did you forget to provide a `loss` argument?\n"
          ]
        },
        {
          "output_type": "stream",
          "name": "stdout",
          "text": [
            "\b\b\b\b\b\b\b\b\b\b\b\b\b\b\b\b\b\b\b\b\b\b\b\b\b\b\b\b\b\b\b\b\b\b\b\b\b\b\b\b\b\b\b\b\b\b\b\b\b\b\b\b\b\b\b\b\b\b\b\b\b\b\b\b\b\b\b\b\b\b\b\b\b\b\b\b\b\b\b\b\b\b\b\b\b\b\b\b\b\b\b\b\b\b\b\b\r114/146 [======================>.......] - ETA: 17:15 - loss: 0.4654 - balanced_accuracy: 0.8487"
          ]
        },
        {
          "output_type": "stream",
          "name": "stderr",
          "text": [
            "WARNING:tensorflow:Gradients do not exist for variables ['tf_bert_model/bert/pooler/dense/kernel:0', 'tf_bert_model/bert/pooler/dense/bias:0'] when minimizing the loss. If you're using `model.compile()`, did you forget to provide a `loss` argument?\n"
          ]
        },
        {
          "output_type": "stream",
          "name": "stdout",
          "text": [
            "\b\b\b\b\b\b\b\b\b\b\b\b\b\b\b\b\b\b\b\b\b\b\b\b\b\b\b\b\b\b\b\b\b\b\b\b\b\b\b\b\b\b\b\b\b\b\b\b\b\b\b\b\b\b\b\b\b\b\b\b\b\b\b\b\b\b\b\b\b\b\b\b\b\b\b\b\b\b\b\b\b\b\b\b\b\b\b\b\b\b\b\b\b\b\b\b\r115/146 [======================>.......] - ETA: 16:43 - loss: 0.4644 - balanced_accuracy: 0.8488"
          ]
        },
        {
          "output_type": "stream",
          "name": "stderr",
          "text": [
            "WARNING:tensorflow:Gradients do not exist for variables ['tf_bert_model/bert/pooler/dense/kernel:0', 'tf_bert_model/bert/pooler/dense/bias:0'] when minimizing the loss. If you're using `model.compile()`, did you forget to provide a `loss` argument?\n"
          ]
        },
        {
          "output_type": "stream",
          "name": "stdout",
          "text": [
            "\b\b\b\b\b\b\b\b\b\b\b\b\b\b\b\b\b\b\b\b\b\b\b\b\b\b\b\b\b\b\b\b\b\b\b\b\b\b\b\b\b\b\b\b\b\b\b\b\b\b\b\b\b\b\b\b\b\b\b\b\b\b\b\b\b\b\b\b\b\b\b\b\b\b\b\b\b\b\b\b\b\b\b\b\b\b\b\b\b\b\b\b\b\b\b\b\r116/146 [======================>.......] - ETA: 16:11 - loss: 0.4633 - balanced_accuracy: 0.8494"
          ]
        },
        {
          "output_type": "stream",
          "name": "stderr",
          "text": [
            "WARNING:tensorflow:Gradients do not exist for variables ['tf_bert_model/bert/pooler/dense/kernel:0', 'tf_bert_model/bert/pooler/dense/bias:0'] when minimizing the loss. If you're using `model.compile()`, did you forget to provide a `loss` argument?\n"
          ]
        },
        {
          "output_type": "stream",
          "name": "stdout",
          "text": [
            "\b\b\b\b\b\b\b\b\b\b\b\b\b\b\b\b\b\b\b\b\b\b\b\b\b\b\b\b\b\b\b\b\b\b\b\b\b\b\b\b\b\b\b\b\b\b\b\b\b\b\b\b\b\b\b\b\b\b\b\b\b\b\b\b\b\b\b\b\b\b\b\b\b\b\b\b\b\b\b\b\b\b\b\b\b\b\b\b\b\b\b\b\b\b\b\b\r117/146 [=======================>......] - ETA: 15:38 - loss: 0.4638 - balanced_accuracy: 0.8492"
          ]
        },
        {
          "output_type": "stream",
          "name": "stderr",
          "text": [
            "WARNING:tensorflow:Gradients do not exist for variables ['tf_bert_model/bert/pooler/dense/kernel:0', 'tf_bert_model/bert/pooler/dense/bias:0'] when minimizing the loss. If you're using `model.compile()`, did you forget to provide a `loss` argument?\n"
          ]
        },
        {
          "output_type": "stream",
          "name": "stdout",
          "text": [
            "\b\b\b\b\b\b\b\b\b\b\b\b\b\b\b\b\b\b\b\b\b\b\b\b\b\b\b\b\b\b\b\b\b\b\b\b\b\b\b\b\b\b\b\b\b\b\b\b\b\b\b\b\b\b\b\b\b\b\b\b\b\b\b\b\b\b\b\b\b\b\b\b\b\b\b\b\b\b\b\b\b\b\b\b\b\b\b\b\b\b\b\b\b\b\b\b\r118/146 [=======================>......] - ETA: 15:06 - loss: 0.4625 - balanced_accuracy: 0.8493"
          ]
        },
        {
          "output_type": "stream",
          "name": "stderr",
          "text": [
            "WARNING:tensorflow:Gradients do not exist for variables ['tf_bert_model/bert/pooler/dense/kernel:0', 'tf_bert_model/bert/pooler/dense/bias:0'] when minimizing the loss. If you're using `model.compile()`, did you forget to provide a `loss` argument?\n"
          ]
        },
        {
          "output_type": "stream",
          "name": "stdout",
          "text": [
            "\b\b\b\b\b\b\b\b\b\b\b\b\b\b\b\b\b\b\b\b\b\b\b\b\b\b\b\b\b\b\b\b\b\b\b\b\b\b\b\b\b\b\b\b\b\b\b\b\b\b\b\b\b\b\b\b\b\b\b\b\b\b\b\b\b\b\b\b\b\b\b\b\b\b\b\b\b\b\b\b\b\b\b\b\b\b\b\b\b\b\b\b\b\b\b\b\r119/146 [=======================>......] - ETA: 14:33 - loss: 0.4634 - balanced_accuracy: 0.8494"
          ]
        },
        {
          "output_type": "stream",
          "name": "stderr",
          "text": [
            "WARNING:tensorflow:Gradients do not exist for variables ['tf_bert_model/bert/pooler/dense/kernel:0', 'tf_bert_model/bert/pooler/dense/bias:0'] when minimizing the loss. If you're using `model.compile()`, did you forget to provide a `loss` argument?\n"
          ]
        },
        {
          "output_type": "stream",
          "name": "stdout",
          "text": [
            "\b\b\b\b\b\b\b\b\b\b\b\b\b\b\b\b\b\b\b\b\b\b\b\b\b\b\b\b\b\b\b\b\b\b\b\b\b\b\b\b\b\b\b\b\b\b\b\b\b\b\b\b\b\b\b\b\b\b\b\b\b\b\b\b\b\b\b\b\b\b\b\b\b\b\b\b\b\b\b\b\b\b\b\b\b\b\b\b\b\b\b\b\b\b\b\b\r120/146 [=======================>......] - ETA: 14:01 - loss: 0.4637 - balanced_accuracy: 0.8498"
          ]
        },
        {
          "output_type": "stream",
          "name": "stderr",
          "text": [
            "WARNING:tensorflow:Gradients do not exist for variables ['tf_bert_model/bert/pooler/dense/kernel:0', 'tf_bert_model/bert/pooler/dense/bias:0'] when minimizing the loss. If you're using `model.compile()`, did you forget to provide a `loss` argument?\n"
          ]
        },
        {
          "output_type": "stream",
          "name": "stdout",
          "text": [
            "\b\b\b\b\b\b\b\b\b\b\b\b\b\b\b\b\b\b\b\b\b\b\b\b\b\b\b\b\b\b\b\b\b\b\b\b\b\b\b\b\b\b\b\b\b\b\b\b\b\b\b\b\b\b\b\b\b\b\b\b\b\b\b\b\b\b\b\b\b\b\b\b\b\b\b\b\b\b\b\b\b\b\b\b\b\b\b\b\b\b\b\b\b\b\b\b\r121/146 [=======================>......] - ETA: 13:29 - loss: 0.4654 - balanced_accuracy: 0.8485"
          ]
        },
        {
          "output_type": "stream",
          "name": "stderr",
          "text": [
            "WARNING:tensorflow:Gradients do not exist for variables ['tf_bert_model/bert/pooler/dense/kernel:0', 'tf_bert_model/bert/pooler/dense/bias:0'] when minimizing the loss. If you're using `model.compile()`, did you forget to provide a `loss` argument?\n"
          ]
        },
        {
          "output_type": "stream",
          "name": "stdout",
          "text": [
            "\b\b\b\b\b\b\b\b\b\b\b\b\b\b\b\b\b\b\b\b\b\b\b\b\b\b\b\b\b\b\b\b\b\b\b\b\b\b\b\b\b\b\b\b\b\b\b\b\b\b\b\b\b\b\b\b\b\b\b\b\b\b\b\b\b\b\b\b\b\b\b\b\b\b\b\b\b\b\b\b\b\b\b\b\b\b\b\b\b\b\b\b\b\b\b\b\r122/146 [========================>.....] - ETA: 12:56 - loss: 0.4639 - balanced_accuracy: 0.8490"
          ]
        },
        {
          "output_type": "stream",
          "name": "stderr",
          "text": [
            "WARNING:tensorflow:Gradients do not exist for variables ['tf_bert_model/bert/pooler/dense/kernel:0', 'tf_bert_model/bert/pooler/dense/bias:0'] when minimizing the loss. If you're using `model.compile()`, did you forget to provide a `loss` argument?\n"
          ]
        },
        {
          "output_type": "stream",
          "name": "stdout",
          "text": [
            "\b\b\b\b\b\b\b\b\b\b\b\b\b\b\b\b\b\b\b\b\b\b\b\b\b\b\b\b\b\b\b\b\b\b\b\b\b\b\b\b\b\b\b\b\b\b\b\b\b\b\b\b\b\b\b\b\b\b\b\b\b\b\b\b\b\b\b\b\b\b\b\b\b\b\b\b\b\b\b\b\b\b\b\b\b\b\b\b\b\b\b\b\b\b\b\b\r123/146 [========================>.....] - ETA: 12:24 - loss: 0.4631 - balanced_accuracy: 0.8491"
          ]
        },
        {
          "output_type": "stream",
          "name": "stderr",
          "text": [
            "WARNING:tensorflow:Gradients do not exist for variables ['tf_bert_model/bert/pooler/dense/kernel:0', 'tf_bert_model/bert/pooler/dense/bias:0'] when minimizing the loss. If you're using `model.compile()`, did you forget to provide a `loss` argument?\n"
          ]
        },
        {
          "output_type": "stream",
          "name": "stdout",
          "text": [
            "\b\b\b\b\b\b\b\b\b\b\b\b\b\b\b\b\b\b\b\b\b\b\b\b\b\b\b\b\b\b\b\b\b\b\b\b\b\b\b\b\b\b\b\b\b\b\b\b\b\b\b\b\b\b\b\b\b\b\b\b\b\b\b\b\b\b\b\b\b\b\b\b\b\b\b\b\b\b\b\b\b\b\b\b\b\b\b\b\b\b\b\b\b\b\b\b\r124/146 [========================>.....] - ETA: 11:51 - loss: 0.4632 - balanced_accuracy: 0.8492"
          ]
        },
        {
          "output_type": "stream",
          "name": "stderr",
          "text": [
            "WARNING:tensorflow:Gradients do not exist for variables ['tf_bert_model/bert/pooler/dense/kernel:0', 'tf_bert_model/bert/pooler/dense/bias:0'] when minimizing the loss. If you're using `model.compile()`, did you forget to provide a `loss` argument?\n"
          ]
        },
        {
          "output_type": "stream",
          "name": "stdout",
          "text": [
            "\b\b\b\b\b\b\b\b\b\b\b\b\b\b\b\b\b\b\b\b\b\b\b\b\b\b\b\b\b\b\b\b\b\b\b\b\b\b\b\b\b\b\b\b\b\b\b\b\b\b\b\b\b\b\b\b\b\b\b\b\b\b\b\b\b\b\b\b\b\b\b\b\b\b\b\b\b\b\b\b\b\b\b\b\b\b\b\b\b\b\b\b\b\b\b\b\r125/146 [========================>.....] - ETA: 11:19 - loss: 0.4634 - balanced_accuracy: 0.8493"
          ]
        },
        {
          "output_type": "stream",
          "name": "stderr",
          "text": [
            "WARNING:tensorflow:Gradients do not exist for variables ['tf_bert_model/bert/pooler/dense/kernel:0', 'tf_bert_model/bert/pooler/dense/bias:0'] when minimizing the loss. If you're using `model.compile()`, did you forget to provide a `loss` argument?\n"
          ]
        },
        {
          "output_type": "stream",
          "name": "stdout",
          "text": [
            "\b\b\b\b\b\b\b\b\b\b\b\b\b\b\b\b\b\b\b\b\b\b\b\b\b\b\b\b\b\b\b\b\b\b\b\b\b\b\b\b\b\b\b\b\b\b\b\b\b\b\b\b\b\b\b\b\b\b\b\b\b\b\b\b\b\b\b\b\b\b\b\b\b\b\b\b\b\b\b\b\b\b\b\b\b\b\b\b\b\b\b\b\b\b\b\b\r126/146 [========================>.....] - ETA: 10:47 - loss: 0.4627 - balanced_accuracy: 0.8496"
          ]
        },
        {
          "output_type": "stream",
          "name": "stderr",
          "text": [
            "WARNING:tensorflow:Gradients do not exist for variables ['tf_bert_model/bert/pooler/dense/kernel:0', 'tf_bert_model/bert/pooler/dense/bias:0'] when minimizing the loss. If you're using `model.compile()`, did you forget to provide a `loss` argument?\n"
          ]
        },
        {
          "output_type": "stream",
          "name": "stdout",
          "text": [
            "\b\b\b\b\b\b\b\b\b\b\b\b\b\b\b\b\b\b\b\b\b\b\b\b\b\b\b\b\b\b\b\b\b\b\b\b\b\b\b\b\b\b\b\b\b\b\b\b\b\b\b\b\b\b\b\b\b\b\b\b\b\b\b\b\b\b\b\b\b\b\b\b\b\b\b\b\b\b\b\b\b\b\b\b\b\b\b\b\b\b\b\b\b\b\b\b\r127/146 [=========================>....] - ETA: 10:14 - loss: 0.4639 - balanced_accuracy: 0.8489"
          ]
        },
        {
          "output_type": "stream",
          "name": "stderr",
          "text": [
            "WARNING:tensorflow:Gradients do not exist for variables ['tf_bert_model/bert/pooler/dense/kernel:0', 'tf_bert_model/bert/pooler/dense/bias:0'] when minimizing the loss. If you're using `model.compile()`, did you forget to provide a `loss` argument?\n"
          ]
        },
        {
          "output_type": "stream",
          "name": "stdout",
          "text": [
            "\b\b\b\b\b\b\b\b\b\b\b\b\b\b\b\b\b\b\b\b\b\b\b\b\b\b\b\b\b\b\b\b\b\b\b\b\b\b\b\b\b\b\b\b\b\b\b\b\b\b\b\b\b\b\b\b\b\b\b\b\b\b\b\b\b\b\b\b\b\b\b\b\b\b\b\b\b\b\b\b\b\b\b\b\b\b\b\b\b\b\b\b\b\b\b\b\r128/146 [=========================>....] - ETA: 9:42 - loss: 0.4639 - balanced_accuracy: 0.8483 "
          ]
        },
        {
          "output_type": "stream",
          "name": "stderr",
          "text": [
            "WARNING:tensorflow:Gradients do not exist for variables ['tf_bert_model/bert/pooler/dense/kernel:0', 'tf_bert_model/bert/pooler/dense/bias:0'] when minimizing the loss. If you're using `model.compile()`, did you forget to provide a `loss` argument?\n"
          ]
        },
        {
          "output_type": "stream",
          "name": "stdout",
          "text": [
            "\b\b\b\b\b\b\b\b\b\b\b\b\b\b\b\b\b\b\b\b\b\b\b\b\b\b\b\b\b\b\b\b\b\b\b\b\b\b\b\b\b\b\b\b\b\b\b\b\b\b\b\b\b\b\b\b\b\b\b\b\b\b\b\b\b\b\b\b\b\b\b\b\b\b\b\b\b\b\b\b\b\b\b\b\b\b\b\b\b\b\b\b\b\b\b\r129/146 [=========================>....] - ETA: 9:10 - loss: 0.4638 - balanced_accuracy: 0.8482"
          ]
        },
        {
          "output_type": "stream",
          "name": "stderr",
          "text": [
            "WARNING:tensorflow:Gradients do not exist for variables ['tf_bert_model/bert/pooler/dense/kernel:0', 'tf_bert_model/bert/pooler/dense/bias:0'] when minimizing the loss. If you're using `model.compile()`, did you forget to provide a `loss` argument?\n"
          ]
        },
        {
          "output_type": "stream",
          "name": "stdout",
          "text": [
            "\b\b\b\b\b\b\b\b\b\b\b\b\b\b\b\b\b\b\b\b\b\b\b\b\b\b\b\b\b\b\b\b\b\b\b\b\b\b\b\b\b\b\b\b\b\b\b\b\b\b\b\b\b\b\b\b\b\b\b\b\b\b\b\b\b\b\b\b\b\b\b\b\b\b\b\b\b\b\b\b\b\b\b\b\b\b\b\b\b\b\b\b\b\b\b\r130/146 [=========================>....] - ETA: 8:37 - loss: 0.4643 - balanced_accuracy: 0.8481"
          ]
        },
        {
          "output_type": "stream",
          "name": "stderr",
          "text": [
            "WARNING:tensorflow:Gradients do not exist for variables ['tf_bert_model/bert/pooler/dense/kernel:0', 'tf_bert_model/bert/pooler/dense/bias:0'] when minimizing the loss. If you're using `model.compile()`, did you forget to provide a `loss` argument?\n"
          ]
        },
        {
          "output_type": "stream",
          "name": "stdout",
          "text": [
            "\b\b\b\b\b\b\b\b\b\b\b\b\b\b\b\b\b\b\b\b\b\b\b\b\b\b\b\b\b\b\b\b\b\b\b\b\b\b\b\b\b\b\b\b\b\b\b\b\b\b\b\b\b\b\b\b\b\b\b\b\b\b\b\b\b\b\b\b\b\b\b\b\b\b\b\b\b\b\b\b\b\b\b\b\b\b\b\b\b\b\b\b\b\b\b\r131/146 [=========================>....] - ETA: 8:05 - loss: 0.4641 - balanced_accuracy: 0.8484"
          ]
        },
        {
          "output_type": "stream",
          "name": "stderr",
          "text": [
            "WARNING:tensorflow:Gradients do not exist for variables ['tf_bert_model/bert/pooler/dense/kernel:0', 'tf_bert_model/bert/pooler/dense/bias:0'] when minimizing the loss. If you're using `model.compile()`, did you forget to provide a `loss` argument?\n"
          ]
        },
        {
          "output_type": "stream",
          "name": "stdout",
          "text": [
            "\b\b\b\b\b\b\b\b\b\b\b\b\b\b\b\b\b\b\b\b\b\b\b\b\b\b\b\b\b\b\b\b\b\b\b\b\b\b\b\b\b\b\b\b\b\b\b\b\b\b\b\b\b\b\b\b\b\b\b\b\b\b\b\b\b\b\b\b\b\b\b\b\b\b\b\b\b\b\b\b\b\b\b\b\b\b\b\b\b\b\b\b\b\b\b\r132/146 [==========================>...] - ETA: 7:33 - loss: 0.4637 - balanced_accuracy: 0.8483"
          ]
        },
        {
          "output_type": "stream",
          "name": "stderr",
          "text": [
            "WARNING:tensorflow:Gradients do not exist for variables ['tf_bert_model/bert/pooler/dense/kernel:0', 'tf_bert_model/bert/pooler/dense/bias:0'] when minimizing the loss. If you're using `model.compile()`, did you forget to provide a `loss` argument?\n"
          ]
        },
        {
          "output_type": "stream",
          "name": "stdout",
          "text": [
            "\b\b\b\b\b\b\b\b\b\b\b\b\b\b\b\b\b\b\b\b\b\b\b\b\b\b\b\b\b\b\b\b\b\b\b\b\b\b\b\b\b\b\b\b\b\b\b\b\b\b\b\b\b\b\b\b\b\b\b\b\b\b\b\b\b\b\b\b\b\b\b\b\b\b\b\b\b\b\b\b\b\b\b\b\b\b\b\b\b\b\b\b\b\b\b\r133/146 [==========================>...] - ETA: 7:00 - loss: 0.4626 - balanced_accuracy: 0.8488"
          ]
        },
        {
          "output_type": "stream",
          "name": "stderr",
          "text": [
            "WARNING:tensorflow:Gradients do not exist for variables ['tf_bert_model/bert/pooler/dense/kernel:0', 'tf_bert_model/bert/pooler/dense/bias:0'] when minimizing the loss. If you're using `model.compile()`, did you forget to provide a `loss` argument?\n"
          ]
        },
        {
          "output_type": "stream",
          "name": "stdout",
          "text": [
            "\b\b\b\b\b\b\b\b\b\b\b\b\b\b\b\b\b\b\b\b\b\b\b\b\b\b\b\b\b\b\b\b\b\b\b\b\b\b\b\b\b\b\b\b\b\b\b\b\b\b\b\b\b\b\b\b\b\b\b\b\b\b\b\b\b\b\b\b\b\b\b\b\b\b\b\b\b\b\b\b\b\b\b\b\b\b\b\b\b\b\b\b\b\b\b\r134/146 [==========================>...] - ETA: 6:28 - loss: 0.4630 - balanced_accuracy: 0.8485"
          ]
        },
        {
          "output_type": "stream",
          "name": "stderr",
          "text": [
            "WARNING:tensorflow:Gradients do not exist for variables ['tf_bert_model/bert/pooler/dense/kernel:0', 'tf_bert_model/bert/pooler/dense/bias:0'] when minimizing the loss. If you're using `model.compile()`, did you forget to provide a `loss` argument?\n"
          ]
        },
        {
          "output_type": "stream",
          "name": "stdout",
          "text": [
            "\b\b\b\b\b\b\b\b\b\b\b\b\b\b\b\b\b\b\b\b\b\b\b\b\b\b\b\b\b\b\b\b\b\b\b\b\b\b\b\b\b\b\b\b\b\b\b\b\b\b\b\b\b\b\b\b\b\b\b\b\b\b\b\b\b\b\b\b\b\b\b\b\b\b\b\b\b\b\b\b\b\b\b\b\b\b\b\b\b\b\b\b\b\b\b\r135/146 [==========================>...] - ETA: 5:55 - loss: 0.4636 - balanced_accuracy: 0.8484"
          ]
        },
        {
          "output_type": "stream",
          "name": "stderr",
          "text": [
            "WARNING:tensorflow:Gradients do not exist for variables ['tf_bert_model/bert/pooler/dense/kernel:0', 'tf_bert_model/bert/pooler/dense/bias:0'] when minimizing the loss. If you're using `model.compile()`, did you forget to provide a `loss` argument?\n"
          ]
        },
        {
          "output_type": "stream",
          "name": "stdout",
          "text": [
            "\b\b\b\b\b\b\b\b\b\b\b\b\b\b\b\b\b\b\b\b\b\b\b\b\b\b\b\b\b\b\b\b\b\b\b\b\b\b\b\b\b\b\b\b\b\b\b\b\b\b\b\b\b\b\b\b\b\b\b\b\b\b\b\b\b\b\b\b\b\b\b\b\b\b\b\b\b\b\b\b\b\b\b\b\b\b\b\b\b\b\b\b\b\b\b\r136/146 [==========================>...] - ETA: 5:23 - loss: 0.4655 - balanced_accuracy: 0.8476"
          ]
        },
        {
          "output_type": "stream",
          "name": "stderr",
          "text": [
            "WARNING:tensorflow:Gradients do not exist for variables ['tf_bert_model/bert/pooler/dense/kernel:0', 'tf_bert_model/bert/pooler/dense/bias:0'] when minimizing the loss. If you're using `model.compile()`, did you forget to provide a `loss` argument?\n"
          ]
        },
        {
          "output_type": "stream",
          "name": "stdout",
          "text": [
            "\b\b\b\b\b\b\b\b\b\b\b\b\b\b\b\b\b\b\b\b\b\b\b\b\b\b\b\b\b\b\b\b\b\b\b\b\b\b\b\b\b\b\b\b\b\b\b\b\b\b\b\b\b\b\b\b\b\b\b\b\b\b\b\b\b\b\b\b\b\b\b\b\b\b\b\b\b\b\b\b\b\b\b\b\b\b\b\b\b\b\b\b\b\b\b\r137/146 [===========================>..] - ETA: 4:51 - loss: 0.4678 - balanced_accuracy: 0.8471"
          ]
        },
        {
          "output_type": "stream",
          "name": "stderr",
          "text": [
            "WARNING:tensorflow:Gradients do not exist for variables ['tf_bert_model/bert/pooler/dense/kernel:0', 'tf_bert_model/bert/pooler/dense/bias:0'] when minimizing the loss. If you're using `model.compile()`, did you forget to provide a `loss` argument?\n"
          ]
        },
        {
          "output_type": "stream",
          "name": "stdout",
          "text": [
            "\b\b\b\b\b\b\b\b\b\b\b\b\b\b\b\b\b\b\b\b\b\b\b\b\b\b\b\b\b\b\b\b\b\b\b\b\b\b\b\b\b\b\b\b\b\b\b\b\b\b\b\b\b\b\b\b\b\b\b\b\b\b\b\b\b\b\b\b\b\b\b\b\b\b\b\b\b\b\b\b\b\b\b\b\b\b\b\b\b\b\b\b\b\b\b\r138/146 [===========================>..] - ETA: 4:18 - loss: 0.4686 - balanced_accuracy: 0.8466"
          ]
        },
        {
          "output_type": "stream",
          "name": "stderr",
          "text": [
            "WARNING:tensorflow:Gradients do not exist for variables ['tf_bert_model/bert/pooler/dense/kernel:0', 'tf_bert_model/bert/pooler/dense/bias:0'] when minimizing the loss. If you're using `model.compile()`, did you forget to provide a `loss` argument?\n"
          ]
        },
        {
          "output_type": "stream",
          "name": "stdout",
          "text": [
            "\b\b\b\b\b\b\b\b\b\b\b\b\b\b\b\b\b\b\b\b\b\b\b\b\b\b\b\b\b\b\b\b\b\b\b\b\b\b\b\b\b\b\b\b\b\b\b\b\b\b\b\b\b\b\b\b\b\b\b\b\b\b\b\b\b\b\b\b\b\b\b\b\b\b\b\b\b\b\b\b\b\b\b\b\b\b\b\b\b\b\b\b\b\b\b\r139/146 [===========================>..] - ETA: 3:46 - loss: 0.4677 - balanced_accuracy: 0.8465"
          ]
        },
        {
          "output_type": "stream",
          "name": "stderr",
          "text": [
            "WARNING:tensorflow:Gradients do not exist for variables ['tf_bert_model/bert/pooler/dense/kernel:0', 'tf_bert_model/bert/pooler/dense/bias:0'] when minimizing the loss. If you're using `model.compile()`, did you forget to provide a `loss` argument?\n"
          ]
        },
        {
          "output_type": "stream",
          "name": "stdout",
          "text": [
            "\b\b\b\b\b\b\b\b\b\b\b\b\b\b\b\b\b\b\b\b\b\b\b\b\b\b\b\b\b\b\b\b\b\b\b\b\b\b\b\b\b\b\b\b\b\b\b\b\b\b\b\b\b\b\b\b\b\b\b\b\b\b\b\b\b\b\b\b\b\b\b\b\b\b\b\b\b\b\b\b\b\b\b\b\b\b\b\b\b\b\b\b\b\b\b\r140/146 [===========================>..] - ETA: 3:14 - loss: 0.4673 - balanced_accuracy: 0.8464"
          ]
        },
        {
          "output_type": "stream",
          "name": "stderr",
          "text": [
            "WARNING:tensorflow:Gradients do not exist for variables ['tf_bert_model/bert/pooler/dense/kernel:0', 'tf_bert_model/bert/pooler/dense/bias:0'] when minimizing the loss. If you're using `model.compile()`, did you forget to provide a `loss` argument?\n"
          ]
        },
        {
          "output_type": "stream",
          "name": "stdout",
          "text": [
            "\b\b\b\b\b\b\b\b\b\b\b\b\b\b\b\b\b\b\b\b\b\b\b\b\b\b\b\b\b\b\b\b\b\b\b\b\b\b\b\b\b\b\b\b\b\b\b\b\b\b\b\b\b\b\b\b\b\b\b\b\b\b\b\b\b\b\b\b\b\b\b\b\b\b\b\b\b\b\b\b\b\b\b\b\b\b\b\b\b\b\b\b\b\b\b\r141/146 [===========================>..] - ETA: 2:41 - loss: 0.4658 - balanced_accuracy: 0.8471"
          ]
        },
        {
          "output_type": "stream",
          "name": "stderr",
          "text": [
            "WARNING:tensorflow:Gradients do not exist for variables ['tf_bert_model/bert/pooler/dense/kernel:0', 'tf_bert_model/bert/pooler/dense/bias:0'] when minimizing the loss. If you're using `model.compile()`, did you forget to provide a `loss` argument?\n"
          ]
        },
        {
          "output_type": "stream",
          "name": "stdout",
          "text": [
            "\b\b\b\b\b\b\b\b\b\b\b\b\b\b\b\b\b\b\b\b\b\b\b\b\b\b\b\b\b\b\b\b\b\b\b\b\b\b\b\b\b\b\b\b\b\b\b\b\b\b\b\b\b\b\b\b\b\b\b\b\b\b\b\b\b\b\b\b\b\b\b\b\b\b\b\b\b\b\b\b\b\b\b\b\b\b\b\b\b\b\b\b\b\b\b\r142/146 [============================>.] - ETA: 2:09 - loss: 0.4646 - balanced_accuracy: 0.8476"
          ]
        },
        {
          "output_type": "stream",
          "name": "stderr",
          "text": [
            "WARNING:tensorflow:Gradients do not exist for variables ['tf_bert_model/bert/pooler/dense/kernel:0', 'tf_bert_model/bert/pooler/dense/bias:0'] when minimizing the loss. If you're using `model.compile()`, did you forget to provide a `loss` argument?\n"
          ]
        },
        {
          "output_type": "stream",
          "name": "stdout",
          "text": [
            "\b\b\b\b\b\b\b\b\b\b\b\b\b\b\b\b\b\b\b\b\b\b\b\b\b\b\b\b\b\b\b\b\b\b\b\b\b\b\b\b\b\b\b\b\b\b\b\b\b\b\b\b\b\b\b\b\b\b\b\b\b\b\b\b\b\b\b\b\b\b\b\b\b\b\b\b\b\b\b\b\b\b\b\b\b\b\b\b\b\b\b\b\b\b\b\r143/146 [============================>.] - ETA: 1:37 - loss: 0.4645 - balanced_accuracy: 0.8475"
          ]
        },
        {
          "output_type": "stream",
          "name": "stderr",
          "text": [
            "WARNING:tensorflow:Gradients do not exist for variables ['tf_bert_model/bert/pooler/dense/kernel:0', 'tf_bert_model/bert/pooler/dense/bias:0'] when minimizing the loss. If you're using `model.compile()`, did you forget to provide a `loss` argument?\n"
          ]
        },
        {
          "output_type": "stream",
          "name": "stdout",
          "text": [
            "\b\b\b\b\b\b\b\b\b\b\b\b\b\b\b\b\b\b\b\b\b\b\b\b\b\b\b\b\b\b\b\b\b\b\b\b\b\b\b\b\b\b\b\b\b\b\b\b\b\b\b\b\b\b\b\b\b\b\b\b\b\b\b\b\b\b\b\b\b\b\b\b\b\b\b\b\b\b\b\b\b\b\b\b\b\b\b\b\b\b\b\b\b\b\b\r144/146 [============================>.] - ETA: 1:04 - loss: 0.4638 - balanced_accuracy: 0.8478"
          ]
        },
        {
          "output_type": "stream",
          "name": "stderr",
          "text": [
            "WARNING:tensorflow:Gradients do not exist for variables ['tf_bert_model/bert/pooler/dense/kernel:0', 'tf_bert_model/bert/pooler/dense/bias:0'] when minimizing the loss. If you're using `model.compile()`, did you forget to provide a `loss` argument?\n"
          ]
        },
        {
          "output_type": "stream",
          "name": "stdout",
          "text": [
            "\b\b\b\b\b\b\b\b\b\b\b\b\b\b\b\b\b\b\b\b\b\b\b\b\b\b\b\b\b\b\b\b\b\b\b\b\b\b\b\b\b\b\b\b\b\b\b\b\b\b\b\b\b\b\b\b\b\b\b\b\b\b\b\b\b\b\b\b\b\b\b\b\b\b\b\b\b\b\b\b\b\b\b\b\b\b\b\b\b\b\b\b\b\b\b\r145/146 [============================>.] - ETA: 32s - loss: 0.4645 - balanced_accuracy: 0.8477 "
          ]
        },
        {
          "output_type": "stream",
          "name": "stderr",
          "text": [
            "WARNING:tensorflow:Gradients do not exist for variables ['tf_bert_model/bert/pooler/dense/kernel:0', 'tf_bert_model/bert/pooler/dense/bias:0'] when minimizing the loss. If you're using `model.compile()`, did you forget to provide a `loss` argument?\n"
          ]
        },
        {
          "output_type": "stream",
          "name": "stdout",
          "text": [
            "146/146 [==============================] - 5330s 37s/step - loss: 0.4658 - balanced_accuracy: 0.8470 - val_loss: 0.7616 - val_balanced_accuracy: 0.7406\n",
            "Epoch 4/4\n"
          ]
        },
        {
          "output_type": "stream",
          "name": "stderr",
          "text": [
            "WARNING:tensorflow:Gradients do not exist for variables ['tf_bert_model/bert/pooler/dense/kernel:0', 'tf_bert_model/bert/pooler/dense/bias:0'] when minimizing the loss. If you're using `model.compile()`, did you forget to provide a `loss` argument?\n"
          ]
        },
        {
          "output_type": "stream",
          "name": "stdout",
          "text": [
            "\r  1/146 [..............................] - ETA: 1:23:08 - loss: 0.4581 - balanced_accuracy: 0.8333"
          ]
        },
        {
          "output_type": "stream",
          "name": "stderr",
          "text": [
            "WARNING:tensorflow:Gradients do not exist for variables ['tf_bert_model/bert/pooler/dense/kernel:0', 'tf_bert_model/bert/pooler/dense/bias:0'] when minimizing the loss. If you're using `model.compile()`, did you forget to provide a `loss` argument?\n"
          ]
        },
        {
          "output_type": "stream",
          "name": "stdout",
          "text": [
            "\b\b\b\b\b\b\b\b\b\b\b\b\b\b\b\b\b\b\b\b\b\b\b\b\b\b\b\b\b\b\b\b\b\b\b\b\b\b\b\b\b\b\b\b\b\b\b\b\b\b\b\b\b\b\b\b\b\b\b\b\b\b\b\b\b\b\b\b\b\b\b\b\b\b\b\b\b\b\b\b\b\b\b\b\b\b\b\b\b\b\b\b\b\b\b\b\b\b\r  2/146 [..............................] - ETA: 1:15:01 - loss: 0.4199 - balanced_accuracy: 0.8472"
          ]
        },
        {
          "output_type": "stream",
          "name": "stderr",
          "text": [
            "WARNING:tensorflow:Gradients do not exist for variables ['tf_bert_model/bert/pooler/dense/kernel:0', 'tf_bert_model/bert/pooler/dense/bias:0'] when minimizing the loss. If you're using `model.compile()`, did you forget to provide a `loss` argument?\n"
          ]
        },
        {
          "output_type": "stream",
          "name": "stdout",
          "text": [
            "\b\b\b\b\b\b\b\b\b\b\b\b\b\b\b\b\b\b\b\b\b\b\b\b\b\b\b\b\b\b\b\b\b\b\b\b\b\b\b\b\b\b\b\b\b\b\b\b\b\b\b\b\b\b\b\b\b\b\b\b\b\b\b\b\b\b\b\b\b\b\b\b\b\b\b\b\b\b\b\b\b\b\b\b\b\b\b\b\b\b\b\b\b\b\b\b\b\b\r  3/146 [..............................] - ETA: 1:16:51 - loss: 0.3798 - balanced_accuracy: 0.8611"
          ]
        },
        {
          "output_type": "stream",
          "name": "stderr",
          "text": [
            "WARNING:tensorflow:Gradients do not exist for variables ['tf_bert_model/bert/pooler/dense/kernel:0', 'tf_bert_model/bert/pooler/dense/bias:0'] when minimizing the loss. If you're using `model.compile()`, did you forget to provide a `loss` argument?\n"
          ]
        },
        {
          "output_type": "stream",
          "name": "stdout",
          "text": [
            "\b\b\b\b\b\b\b\b\b\b\b\b\b\b\b\b\b\b\b\b\b\b\b\b\b\b\b\b\b\b\b\b\b\b\b\b\b\b\b\b\b\b\b\b\b\b\b\b\b\b\b\b\b\b\b\b\b\b\b\b\b\b\b\b\b\b\b\b\b\b\b\b\b\b\b\b\b\b\b\b\b\b\b\b\b\b\b\b\b\b\b\b\b\b\b\b\b\b\r  4/146 [..............................] - ETA: 1:16:31 - loss: 0.4062 - balanced_accuracy: 0.8542"
          ]
        },
        {
          "output_type": "stream",
          "name": "stderr",
          "text": [
            "WARNING:tensorflow:Gradients do not exist for variables ['tf_bert_model/bert/pooler/dense/kernel:0', 'tf_bert_model/bert/pooler/dense/bias:0'] when minimizing the loss. If you're using `model.compile()`, did you forget to provide a `loss` argument?\n"
          ]
        },
        {
          "output_type": "stream",
          "name": "stdout",
          "text": [
            "\b\b\b\b\b\b\b\b\b\b\b\b\b\b\b\b\b\b\b\b\b\b\b\b\b\b\b\b\b\b\b\b\b\b\b\b\b\b\b\b\b\b\b\b\b\b\b\b\b\b\b\b\b\b\b\b\b\b\b\b\b\b\b\b\b\b\b\b\b\b\b\b\b\b\b\b\b\b\b\b\b\b\b\b\b\b\b\b\b\b\b\b\b\b\b\b\b\b\r  5/146 [>.............................] - ETA: 1:15:48 - loss: 0.3766 - balanced_accuracy: 0.8667"
          ]
        },
        {
          "output_type": "stream",
          "name": "stderr",
          "text": [
            "WARNING:tensorflow:Gradients do not exist for variables ['tf_bert_model/bert/pooler/dense/kernel:0', 'tf_bert_model/bert/pooler/dense/bias:0'] when minimizing the loss. If you're using `model.compile()`, did you forget to provide a `loss` argument?\n"
          ]
        },
        {
          "output_type": "stream",
          "name": "stdout",
          "text": [
            "\b\b\b\b\b\b\b\b\b\b\b\b\b\b\b\b\b\b\b\b\b\b\b\b\b\b\b\b\b\b\b\b\b\b\b\b\b\b\b\b\b\b\b\b\b\b\b\b\b\b\b\b\b\b\b\b\b\b\b\b\b\b\b\b\b\b\b\b\b\b\b\b\b\b\b\b\b\b\b\b\b\b\b\b\b\b\b\b\b\b\b\b\b\b\b\b\b\b\r  6/146 [>.............................] - ETA: 1:14:49 - loss: 0.3538 - balanced_accuracy: 0.8796"
          ]
        },
        {
          "output_type": "stream",
          "name": "stderr",
          "text": [
            "WARNING:tensorflow:Gradients do not exist for variables ['tf_bert_model/bert/pooler/dense/kernel:0', 'tf_bert_model/bert/pooler/dense/bias:0'] when minimizing the loss. If you're using `model.compile()`, did you forget to provide a `loss` argument?\n"
          ]
        },
        {
          "output_type": "stream",
          "name": "stdout",
          "text": [
            "\b\b\b\b\b\b\b\b\b\b\b\b\b\b\b\b\b\b\b\b\b\b\b\b\b\b\b\b\b\b\b\b\b\b\b\b\b\b\b\b\b\b\b\b\b\b\b\b\b\b\b\b\b\b\b\b\b\b\b\b\b\b\b\b\b\b\b\b\b\b\b\b\b\b\b\b\b\b\b\b\b\b\b\b\b\b\b\b\b\b\b\b\b\b\b\b\b\b\r  7/146 [>.............................] - ETA: 1:14:19 - loss: 0.3409 - balanced_accuracy: 0.8849"
          ]
        },
        {
          "output_type": "stream",
          "name": "stderr",
          "text": [
            "WARNING:tensorflow:Gradients do not exist for variables ['tf_bert_model/bert/pooler/dense/kernel:0', 'tf_bert_model/bert/pooler/dense/bias:0'] when minimizing the loss. If you're using `model.compile()`, did you forget to provide a `loss` argument?\n"
          ]
        },
        {
          "output_type": "stream",
          "name": "stdout",
          "text": [
            "\b\b\b\b\b\b\b\b\b\b\b\b\b\b\b\b\b\b\b\b\b\b\b\b\b\b\b\b\b\b\b\b\b\b\b\b\b\b\b\b\b\b\b\b\b\b\b\b\b\b\b\b\b\b\b\b\b\b\b\b\b\b\b\b\b\b\b\b\b\b\b\b\b\b\b\b\b\b\b\b\b\b\b\b\b\b\b\b\b\b\b\b\b\b\b\b\b\b\r  8/146 [>.............................] - ETA: 1:14:03 - loss: 0.3533 - balanced_accuracy: 0.8785"
          ]
        },
        {
          "output_type": "stream",
          "name": "stderr",
          "text": [
            "WARNING:tensorflow:Gradients do not exist for variables ['tf_bert_model/bert/pooler/dense/kernel:0', 'tf_bert_model/bert/pooler/dense/bias:0'] when minimizing the loss. If you're using `model.compile()`, did you forget to provide a `loss` argument?\n"
          ]
        },
        {
          "output_type": "stream",
          "name": "stdout",
          "text": [
            "\b\b\b\b\b\b\b\b\b\b\b\b\b\b\b\b\b\b\b\b\b\b\b\b\b\b\b\b\b\b\b\b\b\b\b\b\b\b\b\b\b\b\b\b\b\b\b\b\b\b\b\b\b\b\b\b\b\b\b\b\b\b\b\b\b\b\b\b\b\b\b\b\b\b\b\b\b\b\b\b\b\b\b\b\b\b\b\b\b\b\b\b\b\b\b\b\b\b\r  9/146 [>.............................] - ETA: 1:13:25 - loss: 0.3512 - balanced_accuracy: 0.8796"
          ]
        },
        {
          "output_type": "stream",
          "name": "stderr",
          "text": [
            "WARNING:tensorflow:Gradients do not exist for variables ['tf_bert_model/bert/pooler/dense/kernel:0', 'tf_bert_model/bert/pooler/dense/bias:0'] when minimizing the loss. If you're using `model.compile()`, did you forget to provide a `loss` argument?\n"
          ]
        },
        {
          "output_type": "stream",
          "name": "stdout",
          "text": [
            "\b\b\b\b\b\b\b\b\b\b\b\b\b\b\b\b\b\b\b\b\b\b\b\b\b\b\b\b\b\b\b\b\b\b\b\b\b\b\b\b\b\b\b\b\b\b\b\b\b\b\b\b\b\b\b\b\b\b\b\b\b\b\b\b\b\b\b\b\b\b\b\b\b\b\b\b\b\b\b\b\b\b\b\b\b\b\b\b\b\b\b\b\b\b\b\b\b\b\r 10/146 [=>............................] - ETA: 1:12:44 - loss: 0.3592 - balanced_accuracy: 0.8833"
          ]
        },
        {
          "output_type": "stream",
          "name": "stderr",
          "text": [
            "WARNING:tensorflow:Gradients do not exist for variables ['tf_bert_model/bert/pooler/dense/kernel:0', 'tf_bert_model/bert/pooler/dense/bias:0'] when minimizing the loss. If you're using `model.compile()`, did you forget to provide a `loss` argument?\n"
          ]
        },
        {
          "output_type": "stream",
          "name": "stdout",
          "text": [
            "\b\b\b\b\b\b\b\b\b\b\b\b\b\b\b\b\b\b\b\b\b\b\b\b\b\b\b\b\b\b\b\b\b\b\b\b\b\b\b\b\b\b\b\b\b\b\b\b\b\b\b\b\b\b\b\b\b\b\b\b\b\b\b\b\b\b\b\b\b\b\b\b\b\b\b\b\b\b\b\b\b\b\b\b\b\b\b\b\b\b\b\b\b\b\b\b\b\b\r 11/146 [=>............................] - ETA: 1:12:25 - loss: 0.3560 - balanced_accuracy: 0.8838"
          ]
        },
        {
          "output_type": "stream",
          "name": "stderr",
          "text": [
            "WARNING:tensorflow:Gradients do not exist for variables ['tf_bert_model/bert/pooler/dense/kernel:0', 'tf_bert_model/bert/pooler/dense/bias:0'] when minimizing the loss. If you're using `model.compile()`, did you forget to provide a `loss` argument?\n"
          ]
        },
        {
          "output_type": "stream",
          "name": "stdout",
          "text": [
            "\b\b\b\b\b\b\b\b\b\b\b\b\b\b\b\b\b\b\b\b\b\b\b\b\b\b\b\b\b\b\b\b\b\b\b\b\b\b\b\b\b\b\b\b\b\b\b\b\b\b\b\b\b\b\b\b\b\b\b\b\b\b\b\b\b\b\b\b\b\b\b\b\b\b\b\b\b\b\b\b\b\b\b\b\b\b\b\b\b\b\b\b\b\b\b\b\b\b\r 12/146 [=>............................] - ETA: 1:11:55 - loss: 0.3538 - balanced_accuracy: 0.8819"
          ]
        },
        {
          "output_type": "stream",
          "name": "stderr",
          "text": [
            "WARNING:tensorflow:Gradients do not exist for variables ['tf_bert_model/bert/pooler/dense/kernel:0', 'tf_bert_model/bert/pooler/dense/bias:0'] when minimizing the loss. If you're using `model.compile()`, did you forget to provide a `loss` argument?\n"
          ]
        },
        {
          "output_type": "stream",
          "name": "stdout",
          "text": [
            "\b\b\b\b\b\b\b\b\b\b\b\b\b\b\b\b\b\b\b\b\b\b\b\b\b\b\b\b\b\b\b\b\b\b\b\b\b\b\b\b\b\b\b\b\b\b\b\b\b\b\b\b\b\b\b\b\b\b\b\b\b\b\b\b\b\b\b\b\b\b\b\b\b\b\b\b\b\b\b\b\b\b\b\b\b\b\b\b\b\b\b\b\b\b\b\b\b\b\r 13/146 [=>............................] - ETA: 1:11:21 - loss: 0.3501 - balanced_accuracy: 0.8825"
          ]
        },
        {
          "output_type": "stream",
          "name": "stderr",
          "text": [
            "WARNING:tensorflow:Gradients do not exist for variables ['tf_bert_model/bert/pooler/dense/kernel:0', 'tf_bert_model/bert/pooler/dense/bias:0'] when minimizing the loss. If you're using `model.compile()`, did you forget to provide a `loss` argument?\n"
          ]
        },
        {
          "output_type": "stream",
          "name": "stdout",
          "text": [
            "\b\b\b\b\b\b\b\b\b\b\b\b\b\b\b\b\b\b\b\b\b\b\b\b\b\b\b\b\b\b\b\b\b\b\b\b\b\b\b\b\b\b\b\b\b\b\b\b\b\b\b\b\b\b\b\b\b\b\b\b\b\b\b\b\b\b\b\b\b\b\b\b\b\b\b\b\b\b\b\b\b\b\b\b\b\b\b\b\b\b\b\b\b\b\b\b\b\b\r 14/146 [=>............................] - ETA: 1:10:45 - loss: 0.3481 - balanced_accuracy: 0.8829"
          ]
        },
        {
          "output_type": "stream",
          "name": "stderr",
          "text": [
            "WARNING:tensorflow:Gradients do not exist for variables ['tf_bert_model/bert/pooler/dense/kernel:0', 'tf_bert_model/bert/pooler/dense/bias:0'] when minimizing the loss. If you're using `model.compile()`, did you forget to provide a `loss` argument?\n"
          ]
        },
        {
          "output_type": "stream",
          "name": "stdout",
          "text": [
            "\b\b\b\b\b\b\b\b\b\b\b\b\b\b\b\b\b\b\b\b\b\b\b\b\b\b\b\b\b\b\b\b\b\b\b\b\b\b\b\b\b\b\b\b\b\b\b\b\b\b\b\b\b\b\b\b\b\b\b\b\b\b\b\b\b\b\b\b\b\b\b\b\b\b\b\b\b\b\b\b\b\b\b\b\b\b\b\b\b\b\b\b\b\b\b\b\b\b\r 15/146 [==>...........................] - ETA: 1:10:12 - loss: 0.3472 - balanced_accuracy: 0.8815"
          ]
        },
        {
          "output_type": "stream",
          "name": "stderr",
          "text": [
            "WARNING:tensorflow:Gradients do not exist for variables ['tf_bert_model/bert/pooler/dense/kernel:0', 'tf_bert_model/bert/pooler/dense/bias:0'] when minimizing the loss. If you're using `model.compile()`, did you forget to provide a `loss` argument?\n"
          ]
        },
        {
          "output_type": "stream",
          "name": "stdout",
          "text": [
            "\b\b\b\b\b\b\b\b\b\b\b\b\b\b\b\b\b\b\b\b\b\b\b\b\b\b\b\b\b\b\b\b\b\b\b\b\b\b\b\b\b\b\b\b\b\b\b\b\b\b\b\b\b\b\b\b\b\b\b\b\b\b\b\b\b\b\b\b\b\b\b\b\b\b\b\b\b\b\b\b\b\b\b\b\b\b\b\b\b\b\b\b\b\b\b\b\b\b\r 16/146 [==>...........................] - ETA: 1:09:44 - loss: 0.3396 - balanced_accuracy: 0.8819"
          ]
        },
        {
          "output_type": "stream",
          "name": "stderr",
          "text": [
            "WARNING:tensorflow:Gradients do not exist for variables ['tf_bert_model/bert/pooler/dense/kernel:0', 'tf_bert_model/bert/pooler/dense/bias:0'] when minimizing the loss. If you're using `model.compile()`, did you forget to provide a `loss` argument?\n"
          ]
        },
        {
          "output_type": "stream",
          "name": "stdout",
          "text": [
            "\b\b\b\b\b\b\b\b\b\b\b\b\b\b\b\b\b\b\b\b\b\b\b\b\b\b\b\b\b\b\b\b\b\b\b\b\b\b\b\b\b\b\b\b\b\b\b\b\b\b\b\b\b\b\b\b\b\b\b\b\b\b\b\b\b\b\b\b\b\b\b\b\b\b\b\b\b\b\b\b\b\b\b\b\b\b\b\b\b\b\b\b\b\b\b\b\b\b\r 17/146 [==>...........................] - ETA: 1:09:12 - loss: 0.3318 - balanced_accuracy: 0.8856"
          ]
        },
        {
          "output_type": "stream",
          "name": "stderr",
          "text": [
            "WARNING:tensorflow:Gradients do not exist for variables ['tf_bert_model/bert/pooler/dense/kernel:0', 'tf_bert_model/bert/pooler/dense/bias:0'] when minimizing the loss. If you're using `model.compile()`, did you forget to provide a `loss` argument?\n"
          ]
        },
        {
          "output_type": "stream",
          "name": "stdout",
          "text": [
            "\b\b\b\b\b\b\b\b\b\b\b\b\b\b\b\b\b\b\b\b\b\b\b\b\b\b\b\b\b\b\b\b\b\b\b\b\b\b\b\b\b\b\b\b\b\b\b\b\b\b\b\b\b\b\b\b\b\b\b\b\b\b\b\b\b\b\b\b\b\b\b\b\b\b\b\b\b\b\b\b\b\b\b\b\b\b\b\b\b\b\b\b\b\b\b\b\b\b\r 18/146 [==>...........................] - ETA: 1:08:35 - loss: 0.3375 - balanced_accuracy: 0.8858"
          ]
        },
        {
          "output_type": "stream",
          "name": "stderr",
          "text": [
            "WARNING:tensorflow:Gradients do not exist for variables ['tf_bert_model/bert/pooler/dense/kernel:0', 'tf_bert_model/bert/pooler/dense/bias:0'] when minimizing the loss. If you're using `model.compile()`, did you forget to provide a `loss` argument?\n"
          ]
        },
        {
          "output_type": "stream",
          "name": "stdout",
          "text": [
            "\b\b\b\b\b\b\b\b\b\b\b\b\b\b\b\b\b\b\b\b\b\b\b\b\b\b\b\b\b\b\b\b\b\b\b\b\b\b\b\b\b\b\b\b\b\b\b\b\b\b\b\b\b\b\b\b\b\b\b\b\b\b\b\b\b\b\b\b\b\b\b\b\b\b\b\b\b\b\b\b\b\b\b\b\b\b\b\b\b\b\b\b\b\b\b\b\b\b\r 19/146 [==>...........................] - ETA: 1:08:05 - loss: 0.3258 - balanced_accuracy: 0.8918"
          ]
        },
        {
          "output_type": "stream",
          "name": "stderr",
          "text": [
            "WARNING:tensorflow:Gradients do not exist for variables ['tf_bert_model/bert/pooler/dense/kernel:0', 'tf_bert_model/bert/pooler/dense/bias:0'] when minimizing the loss. If you're using `model.compile()`, did you forget to provide a `loss` argument?\n"
          ]
        },
        {
          "output_type": "stream",
          "name": "stdout",
          "text": [
            "\b\b\b\b\b\b\b\b\b\b\b\b\b\b\b\b\b\b\b\b\b\b\b\b\b\b\b\b\b\b\b\b\b\b\b\b\b\b\b\b\b\b\b\b\b\b\b\b\b\b\b\b\b\b\b\b\b\b\b\b\b\b\b\b\b\b\b\b\b\b\b\b\b\b\b\b\b\b\b\b\b\b\b\b\b\b\b\b\b\b\b\b\b\b\b\b\b\b\r 20/146 [===>..........................] - ETA: 1:07:43 - loss: 0.3285 - balanced_accuracy: 0.8903"
          ]
        },
        {
          "output_type": "stream",
          "name": "stderr",
          "text": [
            "WARNING:tensorflow:Gradients do not exist for variables ['tf_bert_model/bert/pooler/dense/kernel:0', 'tf_bert_model/bert/pooler/dense/bias:0'] when minimizing the loss. If you're using `model.compile()`, did you forget to provide a `loss` argument?\n"
          ]
        },
        {
          "output_type": "stream",
          "name": "stdout",
          "text": [
            "\b\b\b\b\b\b\b\b\b\b\b\b\b\b\b\b\b\b\b\b\b\b\b\b\b\b\b\b\b\b\b\b\b\b\b\b\b\b\b\b\b\b\b\b\b\b\b\b\b\b\b\b\b\b\b\b\b\b\b\b\b\b\b\b\b\b\b\b\b\b\b\b\b\b\b\b\b\b\b\b\b\b\b\b\b\b\b\b\b\b\b\b\b\b\b\b\b\b\r 21/146 [===>..........................] - ETA: 1:07:15 - loss: 0.3235 - balanced_accuracy: 0.8915"
          ]
        },
        {
          "output_type": "stream",
          "name": "stderr",
          "text": [
            "WARNING:tensorflow:Gradients do not exist for variables ['tf_bert_model/bert/pooler/dense/kernel:0', 'tf_bert_model/bert/pooler/dense/bias:0'] when minimizing the loss. If you're using `model.compile()`, did you forget to provide a `loss` argument?\n"
          ]
        },
        {
          "output_type": "stream",
          "name": "stdout",
          "text": [
            "\b\b\b\b\b\b\b\b\b\b\b\b\b\b\b\b\b\b\b\b\b\b\b\b\b\b\b\b\b\b\b\b\b\b\b\b\b\b\b\b\b\b\b\b\b\b\b\b\b\b\b\b\b\b\b\b\b\b\b\b\b\b\b\b\b\b\b\b\b\b\b\b\b\b\b\b\b\b\b\b\b\b\b\b\b\b\b\b\b\b\b\b\b\b\b\b\b\b\r 22/146 [===>..........................] - ETA: 1:06:49 - loss: 0.3137 - balanced_accuracy: 0.8965"
          ]
        },
        {
          "output_type": "stream",
          "name": "stderr",
          "text": [
            "WARNING:tensorflow:Gradients do not exist for variables ['tf_bert_model/bert/pooler/dense/kernel:0', 'tf_bert_model/bert/pooler/dense/bias:0'] when minimizing the loss. If you're using `model.compile()`, did you forget to provide a `loss` argument?\n"
          ]
        },
        {
          "output_type": "stream",
          "name": "stdout",
          "text": [
            "\b\b\b\b\b\b\b\b\b\b\b\b\b\b\b\b\b\b\b\b\b\b\b\b\b\b\b\b\b\b\b\b\b\b\b\b\b\b\b\b\b\b\b\b\b\b\b\b\b\b\b\b\b\b\b\b\b\b\b\b\b\b\b\b\b\b\b\b\b\b\b\b\b\b\b\b\b\b\b\b\b\b\b\b\b\b\b\b\b\b\b\b\b\b\b\b\b\b\r 23/146 [===>..........................] - ETA: 1:06:21 - loss: 0.3076 - balanced_accuracy: 0.8998"
          ]
        },
        {
          "output_type": "stream",
          "name": "stderr",
          "text": [
            "WARNING:tensorflow:Gradients do not exist for variables ['tf_bert_model/bert/pooler/dense/kernel:0', 'tf_bert_model/bert/pooler/dense/bias:0'] when minimizing the loss. If you're using `model.compile()`, did you forget to provide a `loss` argument?\n"
          ]
        },
        {
          "output_type": "stream",
          "name": "stdout",
          "text": [
            "\b\b\b\b\b\b\b\b\b\b\b\b\b\b\b\b\b\b\b\b\b\b\b\b\b\b\b\b\b\b\b\b\b\b\b\b\b\b\b\b\b\b\b\b\b\b\b\b\b\b\b\b\b\b\b\b\b\b\b\b\b\b\b\b\b\b\b\b\b\b\b\b\b\b\b\b\b\b\b\b\b\b\b\b\b\b\b\b\b\b\b\b\b\b\b\b\b\b\r 24/146 [===>..........................] - ETA: 1:05:47 - loss: 0.3078 - balanced_accuracy: 0.9005"
          ]
        },
        {
          "output_type": "stream",
          "name": "stderr",
          "text": [
            "WARNING:tensorflow:Gradients do not exist for variables ['tf_bert_model/bert/pooler/dense/kernel:0', 'tf_bert_model/bert/pooler/dense/bias:0'] when minimizing the loss. If you're using `model.compile()`, did you forget to provide a `loss` argument?\n"
          ]
        },
        {
          "output_type": "stream",
          "name": "stdout",
          "text": [
            "\b\b\b\b\b\b\b\b\b\b\b\b\b\b\b\b\b\b\b\b\b\b\b\b\b\b\b\b\b\b\b\b\b\b\b\b\b\b\b\b\b\b\b\b\b\b\b\b\b\b\b\b\b\b\b\b\b\b\b\b\b\b\b\b\b\b\b\b\b\b\b\b\b\b\b\b\b\b\b\b\b\b\b\b\b\b\b\b\b\b\b\b\b\b\b\b\b\b\r 25/146 [====>.........................] - ETA: 1:05:08 - loss: 0.3033 - balanced_accuracy: 0.9033"
          ]
        },
        {
          "output_type": "stream",
          "name": "stderr",
          "text": [
            "WARNING:tensorflow:Gradients do not exist for variables ['tf_bert_model/bert/pooler/dense/kernel:0', 'tf_bert_model/bert/pooler/dense/bias:0'] when minimizing the loss. If you're using `model.compile()`, did you forget to provide a `loss` argument?\n"
          ]
        },
        {
          "output_type": "stream",
          "name": "stdout",
          "text": [
            "\b\b\b\b\b\b\b\b\b\b\b\b\b\b\b\b\b\b\b\b\b\b\b\b\b\b\b\b\b\b\b\b\b\b\b\b\b\b\b\b\b\b\b\b\b\b\b\b\b\b\b\b\b\b\b\b\b\b\b\b\b\b\b\b\b\b\b\b\b\b\b\b\b\b\b\b\b\b\b\b\b\b\b\b\b\b\b\b\b\b\b\b\b\b\b\b\b\b\r 26/146 [====>.........................] - ETA: 1:04:35 - loss: 0.3037 - balanced_accuracy: 0.9017"
          ]
        },
        {
          "output_type": "stream",
          "name": "stderr",
          "text": [
            "WARNING:tensorflow:Gradients do not exist for variables ['tf_bert_model/bert/pooler/dense/kernel:0', 'tf_bert_model/bert/pooler/dense/bias:0'] when minimizing the loss. If you're using `model.compile()`, did you forget to provide a `loss` argument?\n"
          ]
        },
        {
          "output_type": "stream",
          "name": "stdout",
          "text": [
            "\b\b\b\b\b\b\b\b\b\b\b\b\b\b\b\b\b\b\b\b\b\b\b\b\b\b\b\b\b\b\b\b\b\b\b\b\b\b\b\b\b\b\b\b\b\b\b\b\b\b\b\b\b\b\b\b\b\b\b\b\b\b\b\b\b\b\b\b\b\b\b\b\b\b\b\b\b\b\b\b\b\b\b\b\b\b\b\b\b\b\b\b\b\b\b\b\b\b\r 27/146 [====>.........................] - ETA: 1:04:07 - loss: 0.3041 - balanced_accuracy: 0.9012"
          ]
        },
        {
          "output_type": "stream",
          "name": "stderr",
          "text": [
            "WARNING:tensorflow:Gradients do not exist for variables ['tf_bert_model/bert/pooler/dense/kernel:0', 'tf_bert_model/bert/pooler/dense/bias:0'] when minimizing the loss. If you're using `model.compile()`, did you forget to provide a `loss` argument?\n"
          ]
        },
        {
          "output_type": "stream",
          "name": "stdout",
          "text": [
            "\b\b\b\b\b\b\b\b\b\b\b\b\b\b\b\b\b\b\b\b\b\b\b\b\b\b\b\b\b\b\b\b\b\b\b\b\b\b\b\b\b\b\b\b\b\b\b\b\b\b\b\b\b\b\b\b\b\b\b\b\b\b\b\b\b\b\b\b\b\b\b\b\b\b\b\b\b\b\b\b\b\b\b\b\b\b\b\b\b\b\b\b\b\b\b\b\b\b\r 28/146 [====>.........................] - ETA: 1:03:34 - loss: 0.3055 - balanced_accuracy: 0.8988"
          ]
        },
        {
          "output_type": "stream",
          "name": "stderr",
          "text": [
            "WARNING:tensorflow:Gradients do not exist for variables ['tf_bert_model/bert/pooler/dense/kernel:0', 'tf_bert_model/bert/pooler/dense/bias:0'] when minimizing the loss. If you're using `model.compile()`, did you forget to provide a `loss` argument?\n"
          ]
        },
        {
          "output_type": "stream",
          "name": "stdout",
          "text": [
            "\b\b\b\b\b\b\b\b\b\b\b\b\b\b\b\b\b\b\b\b\b\b\b\b\b\b\b\b\b\b\b\b\b\b\b\b\b\b\b\b\b\b\b\b\b\b\b\b\b\b\b\b\b\b\b\b\b\b\b\b\b\b\b\b\b\b\b\b\b\b\b\b\b\b\b\b\b\b\b\b\b\b\b\b\b\b\b\b\b\b\b\b\b\b\b\b\b\b\r 29/146 [====>.........................] - ETA: 1:03:01 - loss: 0.3016 - balanced_accuracy: 0.9004"
          ]
        },
        {
          "output_type": "stream",
          "name": "stderr",
          "text": [
            "WARNING:tensorflow:Gradients do not exist for variables ['tf_bert_model/bert/pooler/dense/kernel:0', 'tf_bert_model/bert/pooler/dense/bias:0'] when minimizing the loss. If you're using `model.compile()`, did you forget to provide a `loss` argument?\n"
          ]
        },
        {
          "output_type": "stream",
          "name": "stdout",
          "text": [
            "\b\b\b\b\b\b\b\b\b\b\b\b\b\b\b\b\b\b\b\b\b\b\b\b\b\b\b\b\b\b\b\b\b\b\b\b\b\b\b\b\b\b\b\b\b\b\b\b\b\b\b\b\b\b\b\b\b\b\b\b\b\b\b\b\b\b\b\b\b\b\b\b\b\b\b\b\b\b\b\b\b\b\b\b\b\b\b\b\b\b\b\b\b\b\b\b\b\b\r 30/146 [=====>........................] - ETA: 1:02:27 - loss: 0.3042 - balanced_accuracy: 0.9009"
          ]
        },
        {
          "output_type": "stream",
          "name": "stderr",
          "text": [
            "WARNING:tensorflow:Gradients do not exist for variables ['tf_bert_model/bert/pooler/dense/kernel:0', 'tf_bert_model/bert/pooler/dense/bias:0'] when minimizing the loss. If you're using `model.compile()`, did you forget to provide a `loss` argument?\n"
          ]
        },
        {
          "output_type": "stream",
          "name": "stdout",
          "text": [
            "\b\b\b\b\b\b\b\b\b\b\b\b\b\b\b\b\b\b\b\b\b\b\b\b\b\b\b\b\b\b\b\b\b\b\b\b\b\b\b\b\b\b\b\b\b\b\b\b\b\b\b\b\b\b\b\b\b\b\b\b\b\b\b\b\b\b\b\b\b\b\b\b\b\b\b\b\b\b\b\b\b\b\b\b\b\b\b\b\b\b\b\b\b\b\b\b\b\b\r 31/146 [=====>........................] - ETA: 1:01:54 - loss: 0.3007 - balanced_accuracy: 0.9023"
          ]
        },
        {
          "output_type": "stream",
          "name": "stderr",
          "text": [
            "WARNING:tensorflow:Gradients do not exist for variables ['tf_bert_model/bert/pooler/dense/kernel:0', 'tf_bert_model/bert/pooler/dense/bias:0'] when minimizing the loss. If you're using `model.compile()`, did you forget to provide a `loss` argument?\n"
          ]
        },
        {
          "output_type": "stream",
          "name": "stdout",
          "text": [
            "\b\b\b\b\b\b\b\b\b\b\b\b\b\b\b\b\b\b\b\b\b\b\b\b\b\b\b\b\b\b\b\b\b\b\b\b\b\b\b\b\b\b\b\b\b\b\b\b\b\b\b\b\b\b\b\b\b\b\b\b\b\b\b\b\b\b\b\b\b\b\b\b\b\b\b\b\b\b\b\b\b\b\b\b\b\b\b\b\b\b\b\b\b\b\b\b\b\b\r 32/146 [=====>........................] - ETA: 1:01:21 - loss: 0.3023 - balanced_accuracy: 0.9019"
          ]
        },
        {
          "output_type": "stream",
          "name": "stderr",
          "text": [
            "WARNING:tensorflow:Gradients do not exist for variables ['tf_bert_model/bert/pooler/dense/kernel:0', 'tf_bert_model/bert/pooler/dense/bias:0'] when minimizing the loss. If you're using `model.compile()`, did you forget to provide a `loss` argument?\n"
          ]
        },
        {
          "output_type": "stream",
          "name": "stdout",
          "text": [
            "\b\b\b\b\b\b\b\b\b\b\b\b\b\b\b\b\b\b\b\b\b\b\b\b\b\b\b\b\b\b\b\b\b\b\b\b\b\b\b\b\b\b\b\b\b\b\b\b\b\b\b\b\b\b\b\b\b\b\b\b\b\b\b\b\b\b\b\b\b\b\b\b\b\b\b\b\b\b\b\b\b\b\b\b\b\b\b\b\b\b\b\b\b\b\b\b\b\b\r 33/146 [=====>........................] - ETA: 1:00:47 - loss: 0.3003 - balanced_accuracy: 0.9015"
          ]
        },
        {
          "output_type": "stream",
          "name": "stderr",
          "text": [
            "WARNING:tensorflow:Gradients do not exist for variables ['tf_bert_model/bert/pooler/dense/kernel:0', 'tf_bert_model/bert/pooler/dense/bias:0'] when minimizing the loss. If you're using `model.compile()`, did you forget to provide a `loss` argument?\n"
          ]
        },
        {
          "output_type": "stream",
          "name": "stdout",
          "text": [
            "\b\b\b\b\b\b\b\b\b\b\b\b\b\b\b\b\b\b\b\b\b\b\b\b\b\b\b\b\b\b\b\b\b\b\b\b\b\b\b\b\b\b\b\b\b\b\b\b\b\b\b\b\b\b\b\b\b\b\b\b\b\b\b\b\b\b\b\b\b\b\b\b\b\b\b\b\b\b\b\b\b\b\b\b\b\b\b\b\b\b\b\b\b\b\b\b\b\b\r 34/146 [=====>........................] - ETA: 1:00:14 - loss: 0.3046 - balanced_accuracy: 0.9011"
          ]
        },
        {
          "output_type": "stream",
          "name": "stderr",
          "text": [
            "WARNING:tensorflow:Gradients do not exist for variables ['tf_bert_model/bert/pooler/dense/kernel:0', 'tf_bert_model/bert/pooler/dense/bias:0'] when minimizing the loss. If you're using `model.compile()`, did you forget to provide a `loss` argument?\n"
          ]
        },
        {
          "output_type": "stream",
          "name": "stdout",
          "text": [
            "\b\b\b\b\b\b\b\b\b\b\b\b\b\b\b\b\b\b\b\b\b\b\b\b\b\b\b\b\b\b\b\b\b\b\b\b\b\b\b\b\b\b\b\b\b\b\b\b\b\b\b\b\b\b\b\b\b\b\b\b\b\b\b\b\b\b\b\b\b\b\b\b\b\b\b\b\b\b\b\b\b\b\b\b\b\b\b\b\b\b\b\b\b\b\b\b\b\b\r 35/146 [======>.......................] - ETA: 59:43 - loss: 0.2989 - balanced_accuracy: 0.9040  "
          ]
        },
        {
          "output_type": "stream",
          "name": "stderr",
          "text": [
            "WARNING:tensorflow:Gradients do not exist for variables ['tf_bert_model/bert/pooler/dense/kernel:0', 'tf_bert_model/bert/pooler/dense/bias:0'] when minimizing the loss. If you're using `model.compile()`, did you forget to provide a `loss` argument?\n"
          ]
        },
        {
          "output_type": "stream",
          "name": "stdout",
          "text": [
            "\b\b\b\b\b\b\b\b\b\b\b\b\b\b\b\b\b\b\b\b\b\b\b\b\b\b\b\b\b\b\b\b\b\b\b\b\b\b\b\b\b\b\b\b\b\b\b\b\b\b\b\b\b\b\b\b\b\b\b\b\b\b\b\b\b\b\b\b\b\b\b\b\b\b\b\b\b\b\b\b\b\b\b\b\b\b\b\b\b\b\b\b\b\b\b\b\r 36/146 [======>.......................] - ETA: 59:06 - loss: 0.3017 - balanced_accuracy: 0.9012"
          ]
        },
        {
          "output_type": "stream",
          "name": "stderr",
          "text": [
            "WARNING:tensorflow:Gradients do not exist for variables ['tf_bert_model/bert/pooler/dense/kernel:0', 'tf_bert_model/bert/pooler/dense/bias:0'] when minimizing the loss. If you're using `model.compile()`, did you forget to provide a `loss` argument?\n"
          ]
        },
        {
          "output_type": "stream",
          "name": "stdout",
          "text": [
            "\b\b\b\b\b\b\b\b\b\b\b\b\b\b\b\b\b\b\b\b\b\b\b\b\b\b\b\b\b\b\b\b\b\b\b\b\b\b\b\b\b\b\b\b\b\b\b\b\b\b\b\b\b\b\b\b\b\b\b\b\b\b\b\b\b\b\b\b\b\b\b\b\b\b\b\b\b\b\b\b\b\b\b\b\b\b\b\b\b\b\b\b\b\b\b\b\r 37/146 [======>.......................] - ETA: 58:31 - loss: 0.3027 - balanced_accuracy: 0.9002"
          ]
        },
        {
          "output_type": "stream",
          "name": "stderr",
          "text": [
            "WARNING:tensorflow:Gradients do not exist for variables ['tf_bert_model/bert/pooler/dense/kernel:0', 'tf_bert_model/bert/pooler/dense/bias:0'] when minimizing the loss. If you're using `model.compile()`, did you forget to provide a `loss` argument?\n"
          ]
        },
        {
          "output_type": "stream",
          "name": "stdout",
          "text": [
            "\b\b\b\b\b\b\b\b\b\b\b\b\b\b\b\b\b\b\b\b\b\b\b\b\b\b\b\b\b\b\b\b\b\b\b\b\b\b\b\b\b\b\b\b\b\b\b\b\b\b\b\b\b\b\b\b\b\b\b\b\b\b\b\b\b\b\b\b\b\b\b\b\b\b\b\b\b\b\b\b\b\b\b\b\b\b\b\b\b\b\b\b\b\b\b\b\r 38/146 [======>.......................] - ETA: 57:58 - loss: 0.2974 - balanced_accuracy: 0.9020"
          ]
        },
        {
          "output_type": "stream",
          "name": "stderr",
          "text": [
            "WARNING:tensorflow:Gradients do not exist for variables ['tf_bert_model/bert/pooler/dense/kernel:0', 'tf_bert_model/bert/pooler/dense/bias:0'] when minimizing the loss. If you're using `model.compile()`, did you forget to provide a `loss` argument?\n"
          ]
        },
        {
          "output_type": "stream",
          "name": "stdout",
          "text": [
            "\b\b\b\b\b\b\b\b\b\b\b\b\b\b\b\b\b\b\b\b\b\b\b\b\b\b\b\b\b\b\b\b\b\b\b\b\b\b\b\b\b\b\b\b\b\b\b\b\b\b\b\b\b\b\b\b\b\b\b\b\b\b\b\b\b\b\b\b\b\b\b\b\b\b\b\b\b\b\b\b\b\b\b\b\b\b\b\b\b\b\b\b\b\b\b\b\r 39/146 [=======>......................] - ETA: 57:27 - loss: 0.2929 - balanced_accuracy: 0.9038"
          ]
        },
        {
          "output_type": "stream",
          "name": "stderr",
          "text": [
            "WARNING:tensorflow:Gradients do not exist for variables ['tf_bert_model/bert/pooler/dense/kernel:0', 'tf_bert_model/bert/pooler/dense/bias:0'] when minimizing the loss. If you're using `model.compile()`, did you forget to provide a `loss` argument?\n"
          ]
        },
        {
          "output_type": "stream",
          "name": "stdout",
          "text": [
            "\b\b\b\b\b\b\b\b\b\b\b\b\b\b\b\b\b\b\b\b\b\b\b\b\b\b\b\b\b\b\b\b\b\b\b\b\b\b\b\b\b\b\b\b\b\b\b\b\b\b\b\b\b\b\b\b\b\b\b\b\b\b\b\b\b\b\b\b\b\b\b\b\b\b\b\b\b\b\b\b\b\b\b\b\b\b\b\b\b\b\b\b\b\b\b\b\r 40/146 [=======>......................] - ETA: 56:53 - loss: 0.2950 - balanced_accuracy: 0.9028"
          ]
        },
        {
          "output_type": "stream",
          "name": "stderr",
          "text": [
            "WARNING:tensorflow:Gradients do not exist for variables ['tf_bert_model/bert/pooler/dense/kernel:0', 'tf_bert_model/bert/pooler/dense/bias:0'] when minimizing the loss. If you're using `model.compile()`, did you forget to provide a `loss` argument?\n"
          ]
        },
        {
          "output_type": "stream",
          "name": "stdout",
          "text": [
            "\b\b\b\b\b\b\b\b\b\b\b\b\b\b\b\b\b\b\b\b\b\b\b\b\b\b\b\b\b\b\b\b\b\b\b\b\b\b\b\b\b\b\b\b\b\b\b\b\b\b\b\b\b\b\b\b\b\b\b\b\b\b\b\b\b\b\b\b\b\b\b\b\b\b\b\b\b\b\b\b\b\b\b\b\b\b\b\b\b\b\b\b\b\b\b\b\r 41/146 [=======>......................] - ETA: 56:19 - loss: 0.2940 - balanced_accuracy: 0.9031"
          ]
        },
        {
          "output_type": "stream",
          "name": "stderr",
          "text": [
            "WARNING:tensorflow:Gradients do not exist for variables ['tf_bert_model/bert/pooler/dense/kernel:0', 'tf_bert_model/bert/pooler/dense/bias:0'] when minimizing the loss. If you're using `model.compile()`, did you forget to provide a `loss` argument?\n"
          ]
        },
        {
          "output_type": "stream",
          "name": "stdout",
          "text": [
            "\b\b\b\b\b\b\b\b\b\b\b\b\b\b\b\b\b\b\b\b\b\b\b\b\b\b\b\b\b\b\b\b\b\b\b\b\b\b\b\b\b\b\b\b\b\b\b\b\b\b\b\b\b\b\b\b\b\b\b\b\b\b\b\b\b\b\b\b\b\b\b\b\b\b\b\b\b\b\b\b\b\b\b\b\b\b\b\b\b\b\b\b\b\b\b\b\r 42/146 [=======>......................] - ETA: 55:45 - loss: 0.2980 - balanced_accuracy: 0.9015"
          ]
        },
        {
          "output_type": "stream",
          "name": "stderr",
          "text": [
            "WARNING:tensorflow:Gradients do not exist for variables ['tf_bert_model/bert/pooler/dense/kernel:0', 'tf_bert_model/bert/pooler/dense/bias:0'] when minimizing the loss. If you're using `model.compile()`, did you forget to provide a `loss` argument?\n"
          ]
        },
        {
          "output_type": "stream",
          "name": "stdout",
          "text": [
            "\b\b\b\b\b\b\b\b\b\b\b\b\b\b\b\b\b\b\b\b\b\b\b\b\b\b\b\b\b\b\b\b\b\b\b\b\b\b\b\b\b\b\b\b\b\b\b\b\b\b\b\b\b\b\b\b\b\b\b\b\b\b\b\b\b\b\b\b\b\b\b\b\b\b\b\b\b\b\b\b\b\b\b\b\b\b\b\b\b\b\b\b\b\b\b\b\r 43/146 [=======>......................] - ETA: 55:14 - loss: 0.2977 - balanced_accuracy: 0.9018"
          ]
        },
        {
          "output_type": "stream",
          "name": "stderr",
          "text": [
            "WARNING:tensorflow:Gradients do not exist for variables ['tf_bert_model/bert/pooler/dense/kernel:0', 'tf_bert_model/bert/pooler/dense/bias:0'] when minimizing the loss. If you're using `model.compile()`, did you forget to provide a `loss` argument?\n"
          ]
        },
        {
          "output_type": "stream",
          "name": "stdout",
          "text": [
            "\b\b\b\b\b\b\b\b\b\b\b\b\b\b\b\b\b\b\b\b\b\b\b\b\b\b\b\b\b\b\b\b\b\b\b\b\b\b\b\b\b\b\b\b\b\b\b\b\b\b\b\b\b\b\b\b\b\b\b\b\b\b\b\b\b\b\b\b\b\b\b\b\b\b\b\b\b\b\b\b\b\b\b\b\b\b\b\b\b\b\b\b\b\b\b\b\r 44/146 [========>.....................] - ETA: 54:41 - loss: 0.2953 - balanced_accuracy: 0.9034"
          ]
        },
        {
          "output_type": "stream",
          "name": "stderr",
          "text": [
            "WARNING:tensorflow:Gradients do not exist for variables ['tf_bert_model/bert/pooler/dense/kernel:0', 'tf_bert_model/bert/pooler/dense/bias:0'] when minimizing the loss. If you're using `model.compile()`, did you forget to provide a `loss` argument?\n"
          ]
        },
        {
          "output_type": "stream",
          "name": "stdout",
          "text": [
            "\b\b\b\b\b\b\b\b\b\b\b\b\b\b\b\b\b\b\b\b\b\b\b\b\b\b\b\b\b\b\b\b\b\b\b\b\b\b\b\b\b\b\b\b\b\b\b\b\b\b\b\b\b\b\b\b\b\b\b\b\b\b\b\b\b\b\b\b\b\b\b\b\b\b\b\b\b\b\b\b\b\b\b\b\b\b\b\b\b\b\b\b\b\b\b\b\r 45/146 [========>.....................] - ETA: 54:06 - loss: 0.2952 - balanced_accuracy: 0.9037"
          ]
        },
        {
          "output_type": "stream",
          "name": "stderr",
          "text": [
            "WARNING:tensorflow:Gradients do not exist for variables ['tf_bert_model/bert/pooler/dense/kernel:0', 'tf_bert_model/bert/pooler/dense/bias:0'] when minimizing the loss. If you're using `model.compile()`, did you forget to provide a `loss` argument?\n"
          ]
        },
        {
          "output_type": "stream",
          "name": "stdout",
          "text": [
            "\b\b\b\b\b\b\b\b\b\b\b\b\b\b\b\b\b\b\b\b\b\b\b\b\b\b\b\b\b\b\b\b\b\b\b\b\b\b\b\b\b\b\b\b\b\b\b\b\b\b\b\b\b\b\b\b\b\b\b\b\b\b\b\b\b\b\b\b\b\b\b\b\b\b\b\b\b\b\b\b\b\b\b\b\b\b\b\b\b\b\b\b\b\b\b\b\r 46/146 [========>.....................] - ETA: 53:33 - loss: 0.2979 - balanced_accuracy: 0.9022"
          ]
        },
        {
          "output_type": "stream",
          "name": "stderr",
          "text": [
            "WARNING:tensorflow:Gradients do not exist for variables ['tf_bert_model/bert/pooler/dense/kernel:0', 'tf_bert_model/bert/pooler/dense/bias:0'] when minimizing the loss. If you're using `model.compile()`, did you forget to provide a `loss` argument?\n"
          ]
        },
        {
          "output_type": "stream",
          "name": "stdout",
          "text": [
            "\b\b\b\b\b\b\b\b\b\b\b\b\b\b\b\b\b\b\b\b\b\b\b\b\b\b\b\b\b\b\b\b\b\b\b\b\b\b\b\b\b\b\b\b\b\b\b\b\b\b\b\b\b\b\b\b\b\b\b\b\b\b\b\b\b\b\b\b\b\b\b\b\b\b\b\b\b\b\b\b\b\b\b\b\b\b\b\b\b\b\b\b\b\b\b\b\r 47/146 [========>.....................] - ETA: 53:00 - loss: 0.2939 - balanced_accuracy: 0.9037"
          ]
        },
        {
          "output_type": "stream",
          "name": "stderr",
          "text": [
            "WARNING:tensorflow:Gradients do not exist for variables ['tf_bert_model/bert/pooler/dense/kernel:0', 'tf_bert_model/bert/pooler/dense/bias:0'] when minimizing the loss. If you're using `model.compile()`, did you forget to provide a `loss` argument?\n"
          ]
        },
        {
          "output_type": "stream",
          "name": "stdout",
          "text": [
            "\b\b\b\b\b\b\b\b\b\b\b\b\b\b\b\b\b\b\b\b\b\b\b\b\b\b\b\b\b\b\b\b\b\b\b\b\b\b\b\b\b\b\b\b\b\b\b\b\b\b\b\b\b\b\b\b\b\b\b\b\b\b\b\b\b\b\b\b\b\b\b\b\b\b\b\b\b\b\b\b\b\b\b\b\b\b\b\b\b\b\b\b\b\b\b\b\r 48/146 [========>.....................] - ETA: 52:28 - loss: 0.2961 - balanced_accuracy: 0.9028"
          ]
        },
        {
          "output_type": "stream",
          "name": "stderr",
          "text": [
            "WARNING:tensorflow:Gradients do not exist for variables ['tf_bert_model/bert/pooler/dense/kernel:0', 'tf_bert_model/bert/pooler/dense/bias:0'] when minimizing the loss. If you're using `model.compile()`, did you forget to provide a `loss` argument?\n"
          ]
        },
        {
          "output_type": "stream",
          "name": "stdout",
          "text": [
            "\b\b\b\b\b\b\b\b\b\b\b\b\b\b\b\b\b\b\b\b\b\b\b\b\b\b\b\b\b\b\b\b\b\b\b\b\b\b\b\b\b\b\b\b\b\b\b\b\b\b\b\b\b\b\b\b\b\b\b\b\b\b\b\b\b\b\b\b\b\b\b\b\b\b\b\b\b\b\b\b\b\b\b\b\b\b\b\b\b\b\b\b\b\b\b\b\r 49/146 [=========>....................] - ETA: 51:56 - loss: 0.2941 - balanced_accuracy: 0.9036"
          ]
        },
        {
          "output_type": "stream",
          "name": "stderr",
          "text": [
            "WARNING:tensorflow:Gradients do not exist for variables ['tf_bert_model/bert/pooler/dense/kernel:0', 'tf_bert_model/bert/pooler/dense/bias:0'] when minimizing the loss. If you're using `model.compile()`, did you forget to provide a `loss` argument?\n"
          ]
        },
        {
          "output_type": "stream",
          "name": "stdout",
          "text": [
            "\b\b\b\b\b\b\b\b\b\b\b\b\b\b\b\b\b\b\b\b\b\b\b\b\b\b\b\b\b\b\b\b\b\b\b\b\b\b\b\b\b\b\b\b\b\b\b\b\b\b\b\b\b\b\b\b\b\b\b\b\b\b\b\b\b\b\b\b\b\b\b\b\b\b\b\b\b\b\b\b\b\b\b\b\b\b\b\b\b\b\b\b\b\b\b\b\r 50/146 [=========>....................] - ETA: 51:25 - loss: 0.2974 - balanced_accuracy: 0.9017"
          ]
        },
        {
          "output_type": "stream",
          "name": "stderr",
          "text": [
            "WARNING:tensorflow:Gradients do not exist for variables ['tf_bert_model/bert/pooler/dense/kernel:0', 'tf_bert_model/bert/pooler/dense/bias:0'] when minimizing the loss. If you're using `model.compile()`, did you forget to provide a `loss` argument?\n"
          ]
        },
        {
          "output_type": "stream",
          "name": "stdout",
          "text": [
            "\b\b\b\b\b\b\b\b\b\b\b\b\b\b\b\b\b\b\b\b\b\b\b\b\b\b\b\b\b\b\b\b\b\b\b\b\b\b\b\b\b\b\b\b\b\b\b\b\b\b\b\b\b\b\b\b\b\b\b\b\b\b\b\b\b\b\b\b\b\b\b\b\b\b\b\b\b\b\b\b\b\b\b\b\b\b\b\b\b\b\b\b\b\b\b\b\r 51/146 [=========>....................] - ETA: 50:56 - loss: 0.3026 - balanced_accuracy: 0.8992"
          ]
        },
        {
          "output_type": "stream",
          "name": "stderr",
          "text": [
            "WARNING:tensorflow:Gradients do not exist for variables ['tf_bert_model/bert/pooler/dense/kernel:0', 'tf_bert_model/bert/pooler/dense/bias:0'] when minimizing the loss. If you're using `model.compile()`, did you forget to provide a `loss` argument?\n"
          ]
        },
        {
          "output_type": "stream",
          "name": "stdout",
          "text": [
            "\b\b\b\b\b\b\b\b\b\b\b\b\b\b\b\b\b\b\b\b\b\b\b\b\b\b\b\b\b\b\b\b\b\b\b\b\b\b\b\b\b\b\b\b\b\b\b\b\b\b\b\b\b\b\b\b\b\b\b\b\b\b\b\b\b\b\b\b\b\b\b\b\b\b\b\b\b\b\b\b\b\b\b\b\b\b\b\b\b\b\b\b\b\b\b\b\r 52/146 [=========>....................] - ETA: 50:22 - loss: 0.3113 - balanced_accuracy: 0.8964"
          ]
        },
        {
          "output_type": "stream",
          "name": "stderr",
          "text": [
            "WARNING:tensorflow:Gradients do not exist for variables ['tf_bert_model/bert/pooler/dense/kernel:0', 'tf_bert_model/bert/pooler/dense/bias:0'] when minimizing the loss. If you're using `model.compile()`, did you forget to provide a `loss` argument?\n"
          ]
        },
        {
          "output_type": "stream",
          "name": "stdout",
          "text": [
            "\b\b\b\b\b\b\b\b\b\b\b\b\b\b\b\b\b\b\b\b\b\b\b\b\b\b\b\b\b\b\b\b\b\b\b\b\b\b\b\b\b\b\b\b\b\b\b\b\b\b\b\b\b\b\b\b\b\b\b\b\b\b\b\b\b\b\b\b\b\b\b\b\b\b\b\b\b\b\b\b\b\b\b\b\b\b\b\b\b\b\b\b\b\b\b\b\r 53/146 [=========>....................] - ETA: 49:50 - loss: 0.3127 - balanced_accuracy: 0.8962"
          ]
        },
        {
          "output_type": "stream",
          "name": "stderr",
          "text": [
            "WARNING:tensorflow:Gradients do not exist for variables ['tf_bert_model/bert/pooler/dense/kernel:0', 'tf_bert_model/bert/pooler/dense/bias:0'] when minimizing the loss. If you're using `model.compile()`, did you forget to provide a `loss` argument?\n"
          ]
        },
        {
          "output_type": "stream",
          "name": "stdout",
          "text": [
            "\b\b\b\b\b\b\b\b\b\b\b\b\b\b\b\b\b\b\b\b\b\b\b\b\b\b\b\b\b\b\b\b\b\b\b\b\b\b\b\b\b\b\b\b\b\b\b\b\b\b\b\b\b\b\b\b\b\b\b\b\b\b\b\b\b\b\b\b\b\b\b\b\b\b\b\b\b\b\b\b\b\b\b\b\b\b\b\b\b\b\b\b\b\b\b\b\r 54/146 [==========>...................] - ETA: 49:20 - loss: 0.3159 - balanced_accuracy: 0.8956"
          ]
        },
        {
          "output_type": "stream",
          "name": "stderr",
          "text": [
            "WARNING:tensorflow:Gradients do not exist for variables ['tf_bert_model/bert/pooler/dense/kernel:0', 'tf_bert_model/bert/pooler/dense/bias:0'] when minimizing the loss. If you're using `model.compile()`, did you forget to provide a `loss` argument?\n"
          ]
        },
        {
          "output_type": "stream",
          "name": "stdout",
          "text": [
            "\b\b\b\b\b\b\b\b\b\b\b\b\b\b\b\b\b\b\b\b\b\b\b\b\b\b\b\b\b\b\b\b\b\b\b\b\b\b\b\b\b\b\b\b\b\b\b\b\b\b\b\b\b\b\b\b\b\b\b\b\b\b\b\b\b\b\b\b\b\b\b\b\b\b\b\b\b\b\b\b\b\b\b\b\b\b\b\b\b\b\b\b\b\b\b\b\r 55/146 [==========>...................] - ETA: 48:50 - loss: 0.3169 - balanced_accuracy: 0.8955"
          ]
        },
        {
          "output_type": "stream",
          "name": "stderr",
          "text": [
            "WARNING:tensorflow:Gradients do not exist for variables ['tf_bert_model/bert/pooler/dense/kernel:0', 'tf_bert_model/bert/pooler/dense/bias:0'] when minimizing the loss. If you're using `model.compile()`, did you forget to provide a `loss` argument?\n"
          ]
        },
        {
          "output_type": "stream",
          "name": "stdout",
          "text": [
            "\b\b\b\b\b\b\b\b\b\b\b\b\b\b\b\b\b\b\b\b\b\b\b\b\b\b\b\b\b\b\b\b\b\b\b\b\b\b\b\b\b\b\b\b\b\b\b\b\b\b\b\b\b\b\b\b\b\b\b\b\b\b\b\b\b\b\b\b\b\b\b\b\b\b\b\b\b\b\b\b\b\b\b\b\b\b\b\b\b\b\b\b\b\b\b\b\r 56/146 [==========>...................] - ETA: 48:16 - loss: 0.3157 - balanced_accuracy: 0.8963"
          ]
        },
        {
          "output_type": "stream",
          "name": "stderr",
          "text": [
            "WARNING:tensorflow:Gradients do not exist for variables ['tf_bert_model/bert/pooler/dense/kernel:0', 'tf_bert_model/bert/pooler/dense/bias:0'] when minimizing the loss. If you're using `model.compile()`, did you forget to provide a `loss` argument?\n"
          ]
        },
        {
          "output_type": "stream",
          "name": "stdout",
          "text": [
            "\b\b\b\b\b\b\b\b\b\b\b\b\b\b\b\b\b\b\b\b\b\b\b\b\b\b\b\b\b\b\b\b\b\b\b\b\b\b\b\b\b\b\b\b\b\b\b\b\b\b\b\b\b\b\b\b\b\b\b\b\b\b\b\b\b\b\b\b\b\b\b\b\b\b\b\b\b\b\b\b\b\b\b\b\b\b\b\b\b\b\b\b\b\b\b\b\r 57/146 [==========>...................] - ETA: 47:43 - loss: 0.3180 - balanced_accuracy: 0.8952"
          ]
        },
        {
          "output_type": "stream",
          "name": "stderr",
          "text": [
            "WARNING:tensorflow:Gradients do not exist for variables ['tf_bert_model/bert/pooler/dense/kernel:0', 'tf_bert_model/bert/pooler/dense/bias:0'] when minimizing the loss. If you're using `model.compile()`, did you forget to provide a `loss` argument?\n"
          ]
        },
        {
          "output_type": "stream",
          "name": "stdout",
          "text": [
            "\b\b\b\b\b\b\b\b\b\b\b\b\b\b\b\b\b\b\b\b\b\b\b\b\b\b\b\b\b\b\b\b\b\b\b\b\b\b\b\b\b\b\b\b\b\b\b\b\b\b\b\b\b\b\b\b\b\b\b\b\b\b\b\b\b\b\b\b\b\b\b\b\b\b\b\b\b\b\b\b\b\b\b\b\b\b\b\b\b\b\b\b\b\b\b\b\r 58/146 [==========>...................] - ETA: 47:10 - loss: 0.3177 - balanced_accuracy: 0.8946"
          ]
        },
        {
          "output_type": "stream",
          "name": "stderr",
          "text": [
            "WARNING:tensorflow:Gradients do not exist for variables ['tf_bert_model/bert/pooler/dense/kernel:0', 'tf_bert_model/bert/pooler/dense/bias:0'] when minimizing the loss. If you're using `model.compile()`, did you forget to provide a `loss` argument?\n"
          ]
        },
        {
          "output_type": "stream",
          "name": "stdout",
          "text": [
            "\b\b\b\b\b\b\b\b\b\b\b\b\b\b\b\b\b\b\b\b\b\b\b\b\b\b\b\b\b\b\b\b\b\b\b\b\b\b\b\b\b\b\b\b\b\b\b\b\b\b\b\b\b\b\b\b\b\b\b\b\b\b\b\b\b\b\b\b\b\b\b\b\b\b\b\b\b\b\b\b\b\b\b\b\b\b\b\b\b\b\b\b\b\b\b\b\r 59/146 [===========>..................] - ETA: 46:39 - loss: 0.3173 - balanced_accuracy: 0.8950"
          ]
        },
        {
          "output_type": "stream",
          "name": "stderr",
          "text": [
            "WARNING:tensorflow:Gradients do not exist for variables ['tf_bert_model/bert/pooler/dense/kernel:0', 'tf_bert_model/bert/pooler/dense/bias:0'] when minimizing the loss. If you're using `model.compile()`, did you forget to provide a `loss` argument?\n"
          ]
        },
        {
          "output_type": "stream",
          "name": "stdout",
          "text": [
            "\b\b\b\b\b\b\b\b\b\b\b\b\b\b\b\b\b\b\b\b\b\b\b\b\b\b\b\b\b\b\b\b\b\b\b\b\b\b\b\b\b\b\b\b\b\b\b\b\b\b\b\b\b\b\b\b\b\b\b\b\b\b\b\b\b\b\b\b\b\b\b\b\b\b\b\b\b\b\b\b\b\b\b\b\b\b\b\b\b\b\b\b\b\b\b\b\r 60/146 [===========>..................] - ETA: 46:07 - loss: 0.3198 - balanced_accuracy: 0.8940"
          ]
        },
        {
          "output_type": "stream",
          "name": "stderr",
          "text": [
            "WARNING:tensorflow:Gradients do not exist for variables ['tf_bert_model/bert/pooler/dense/kernel:0', 'tf_bert_model/bert/pooler/dense/bias:0'] when minimizing the loss. If you're using `model.compile()`, did you forget to provide a `loss` argument?\n"
          ]
        },
        {
          "output_type": "stream",
          "name": "stdout",
          "text": [
            "\b\b\b\b\b\b\b\b\b\b\b\b\b\b\b\b\b\b\b\b\b\b\b\b\b\b\b\b\b\b\b\b\b\b\b\b\b\b\b\b\b\b\b\b\b\b\b\b\b\b\b\b\b\b\b\b\b\b\b\b\b\b\b\b\b\b\b\b\b\b\b\b\b\b\b\b\b\b\b\b\b\b\b\b\b\b\b\b\b\b\b\b\b\b\b\b\r 61/146 [===========>..................] - ETA: 45:35 - loss: 0.3223 - balanced_accuracy: 0.8934"
          ]
        },
        {
          "output_type": "stream",
          "name": "stderr",
          "text": [
            "WARNING:tensorflow:Gradients do not exist for variables ['tf_bert_model/bert/pooler/dense/kernel:0', 'tf_bert_model/bert/pooler/dense/bias:0'] when minimizing the loss. If you're using `model.compile()`, did you forget to provide a `loss` argument?\n"
          ]
        },
        {
          "output_type": "stream",
          "name": "stdout",
          "text": [
            "\b\b\b\b\b\b\b\b\b\b\b\b\b\b\b\b\b\b\b\b\b\b\b\b\b\b\b\b\b\b\b\b\b\b\b\b\b\b\b\b\b\b\b\b\b\b\b\b\b\b\b\b\b\b\b\b\b\b\b\b\b\b\b\b\b\b\b\b\b\b\b\b\b\b\b\b\b\b\b\b\b\b\b\b\b\b\b\b\b\b\b\b\b\b\b\b\r 62/146 [===========>..................] - ETA: 45:04 - loss: 0.3244 - balanced_accuracy: 0.8929"
          ]
        },
        {
          "output_type": "stream",
          "name": "stderr",
          "text": [
            "WARNING:tensorflow:Gradients do not exist for variables ['tf_bert_model/bert/pooler/dense/kernel:0', 'tf_bert_model/bert/pooler/dense/bias:0'] when minimizing the loss. If you're using `model.compile()`, did you forget to provide a `loss` argument?\n"
          ]
        },
        {
          "output_type": "stream",
          "name": "stdout",
          "text": [
            "\b\b\b\b\b\b\b\b\b\b\b\b\b\b\b\b\b\b\b\b\b\b\b\b\b\b\b\b\b\b\b\b\b\b\b\b\b\b\b\b\b\b\b\b\b\b\b\b\b\b\b\b\b\b\b\b\b\b\b\b\b\b\b\b\b\b\b\b\b\b\b\b\b\b\b\b\b\b\b\b\b\b\b\b\b\b\b\b\b\b\b\b\b\b\b\b\r 63/146 [===========>..................] - ETA: 44:33 - loss: 0.3262 - balanced_accuracy: 0.8924"
          ]
        },
        {
          "output_type": "stream",
          "name": "stderr",
          "text": [
            "WARNING:tensorflow:Gradients do not exist for variables ['tf_bert_model/bert/pooler/dense/kernel:0', 'tf_bert_model/bert/pooler/dense/bias:0'] when minimizing the loss. If you're using `model.compile()`, did you forget to provide a `loss` argument?\n"
          ]
        },
        {
          "output_type": "stream",
          "name": "stdout",
          "text": [
            "\b\b\b\b\b\b\b\b\b\b\b\b\b\b\b\b\b\b\b\b\b\b\b\b\b\b\b\b\b\b\b\b\b\b\b\b\b\b\b\b\b\b\b\b\b\b\b\b\b\b\b\b\b\b\b\b\b\b\b\b\b\b\b\b\b\b\b\b\b\b\b\b\b\b\b\b\b\b\b\b\b\b\b\b\b\b\b\b\b\b\b\b\b\b\b\b\r 64/146 [============>.................] - ETA: 44:00 - loss: 0.3268 - balanced_accuracy: 0.8924"
          ]
        },
        {
          "output_type": "stream",
          "name": "stderr",
          "text": [
            "WARNING:tensorflow:Gradients do not exist for variables ['tf_bert_model/bert/pooler/dense/kernel:0', 'tf_bert_model/bert/pooler/dense/bias:0'] when minimizing the loss. If you're using `model.compile()`, did you forget to provide a `loss` argument?\n"
          ]
        },
        {
          "output_type": "stream",
          "name": "stdout",
          "text": [
            "\b\b\b\b\b\b\b\b\b\b\b\b\b\b\b\b\b\b\b\b\b\b\b\b\b\b\b\b\b\b\b\b\b\b\b\b\b\b\b\b\b\b\b\b\b\b\b\b\b\b\b\b\b\b\b\b\b\b\b\b\b\b\b\b\b\b\b\b\b\b\b\b\b\b\b\b\b\b\b\b\b\b\b\b\b\b\b\b\b\b\b\b\b\b\b\b\r 65/146 [============>.................] - ETA: 43:27 - loss: 0.3288 - balanced_accuracy: 0.8915"
          ]
        },
        {
          "output_type": "stream",
          "name": "stderr",
          "text": [
            "WARNING:tensorflow:Gradients do not exist for variables ['tf_bert_model/bert/pooler/dense/kernel:0', 'tf_bert_model/bert/pooler/dense/bias:0'] when minimizing the loss. If you're using `model.compile()`, did you forget to provide a `loss` argument?\n"
          ]
        },
        {
          "output_type": "stream",
          "name": "stdout",
          "text": [
            "\b\b\b\b\b\b\b\b\b\b\b\b\b\b\b\b\b\b\b\b\b\b\b\b\b\b\b\b\b\b\b\b\b\b\b\b\b\b\b\b\b\b\b\b\b\b\b\b\b\b\b\b\b\b\b\b\b\b\b\b\b\b\b\b\b\b\b\b\b\b\b\b\b\b\b\b\b\b\b\b\b\b\b\b\b\b\b\b\b\b\b\b\b\b\b\b\r 66/146 [============>.................] - ETA: 42:54 - loss: 0.3277 - balanced_accuracy: 0.8914"
          ]
        },
        {
          "output_type": "stream",
          "name": "stderr",
          "text": [
            "WARNING:tensorflow:Gradients do not exist for variables ['tf_bert_model/bert/pooler/dense/kernel:0', 'tf_bert_model/bert/pooler/dense/bias:0'] when minimizing the loss. If you're using `model.compile()`, did you forget to provide a `loss` argument?\n"
          ]
        },
        {
          "output_type": "stream",
          "name": "stdout",
          "text": [
            "\b\b\b\b\b\b\b\b\b\b\b\b\b\b\b\b\b\b\b\b\b\b\b\b\b\b\b\b\b\b\b\b\b\b\b\b\b\b\b\b\b\b\b\b\b\b\b\b\b\b\b\b\b\b\b\b\b\b\b\b\b\b\b\b\b\b\b\b\b\b\b\b\b\b\b\b\b\b\b\b\b\b\b\b\b\b\b\b\b\b\b\b\b\b\b\b\r 67/146 [============>.................] - ETA: 42:23 - loss: 0.3291 - balanced_accuracy: 0.8910"
          ]
        },
        {
          "output_type": "stream",
          "name": "stderr",
          "text": [
            "WARNING:tensorflow:Gradients do not exist for variables ['tf_bert_model/bert/pooler/dense/kernel:0', 'tf_bert_model/bert/pooler/dense/bias:0'] when minimizing the loss. If you're using `model.compile()`, did you forget to provide a `loss` argument?\n"
          ]
        },
        {
          "output_type": "stream",
          "name": "stdout",
          "text": [
            "\b\b\b\b\b\b\b\b\b\b\b\b\b\b\b\b\b\b\b\b\b\b\b\b\b\b\b\b\b\b\b\b\b\b\b\b\b\b\b\b\b\b\b\b\b\b\b\b\b\b\b\b\b\b\b\b\b\b\b\b\b\b\b\b\b\b\b\b\b\b\b\b\b\b\b\b\b\b\b\b\b\b\b\b\b\b\b\b\b\b\b\b\b\b\b\b\r 68/146 [============>.................] - ETA: 41:51 - loss: 0.3300 - balanced_accuracy: 0.8901"
          ]
        },
        {
          "output_type": "stream",
          "name": "stderr",
          "text": [
            "WARNING:tensorflow:Gradients do not exist for variables ['tf_bert_model/bert/pooler/dense/kernel:0', 'tf_bert_model/bert/pooler/dense/bias:0'] when minimizing the loss. If you're using `model.compile()`, did you forget to provide a `loss` argument?\n"
          ]
        },
        {
          "output_type": "stream",
          "name": "stdout",
          "text": [
            "\b\b\b\b\b\b\b\b\b\b\b\b\b\b\b\b\b\b\b\b\b\b\b\b\b\b\b\b\b\b\b\b\b\b\b\b\b\b\b\b\b\b\b\b\b\b\b\b\b\b\b\b\b\b\b\b\b\b\b\b\b\b\b\b\b\b\b\b\b\b\b\b\b\b\b\b\b\b\b\b\b\b\b\b\b\b\b\b\b\b\b\b\b\b\b\b\r 69/146 [=============>................] - ETA: 41:17 - loss: 0.3290 - balanced_accuracy: 0.8909"
          ]
        },
        {
          "output_type": "stream",
          "name": "stderr",
          "text": [
            "WARNING:tensorflow:Gradients do not exist for variables ['tf_bert_model/bert/pooler/dense/kernel:0', 'tf_bert_model/bert/pooler/dense/bias:0'] when minimizing the loss. If you're using `model.compile()`, did you forget to provide a `loss` argument?\n"
          ]
        },
        {
          "output_type": "stream",
          "name": "stdout",
          "text": [
            "\b\b\b\b\b\b\b\b\b\b\b\b\b\b\b\b\b\b\b\b\b\b\b\b\b\b\b\b\b\b\b\b\b\b\b\b\b\b\b\b\b\b\b\b\b\b\b\b\b\b\b\b\b\b\b\b\b\b\b\b\b\b\b\b\b\b\b\b\b\b\b\b\b\b\b\b\b\b\b\b\b\b\b\b\b\b\b\b\b\b\b\b\b\b\b\b\r 70/146 [=============>................] - ETA: 40:44 - loss: 0.3272 - balanced_accuracy: 0.8917"
          ]
        },
        {
          "output_type": "stream",
          "name": "stderr",
          "text": [
            "WARNING:tensorflow:Gradients do not exist for variables ['tf_bert_model/bert/pooler/dense/kernel:0', 'tf_bert_model/bert/pooler/dense/bias:0'] when minimizing the loss. If you're using `model.compile()`, did you forget to provide a `loss` argument?\n"
          ]
        },
        {
          "output_type": "stream",
          "name": "stdout",
          "text": [
            "\b\b\b\b\b\b\b\b\b\b\b\b\b\b\b\b\b\b\b\b\b\b\b\b\b\b\b\b\b\b\b\b\b\b\b\b\b\b\b\b\b\b\b\b\b\b\b\b\b\b\b\b\b\b\b\b\b\b\b\b\b\b\b\b\b\b\b\b\b\b\b\b\b\b\b\b\b\b\b\b\b\b\b\b\b\b\b\b\b\b\b\b\b\b\b\b\r 71/146 [=============>................] - ETA: 40:12 - loss: 0.3291 - balanced_accuracy: 0.8901"
          ]
        },
        {
          "output_type": "stream",
          "name": "stderr",
          "text": [
            "WARNING:tensorflow:Gradients do not exist for variables ['tf_bert_model/bert/pooler/dense/kernel:0', 'tf_bert_model/bert/pooler/dense/bias:0'] when minimizing the loss. If you're using `model.compile()`, did you forget to provide a `loss` argument?\n"
          ]
        },
        {
          "output_type": "stream",
          "name": "stdout",
          "text": [
            "\b\b\b\b\b\b\b\b\b\b\b\b\b\b\b\b\b\b\b\b\b\b\b\b\b\b\b\b\b\b\b\b\b\b\b\b\b\b\b\b\b\b\b\b\b\b\b\b\b\b\b\b\b\b\b\b\b\b\b\b\b\b\b\b\b\b\b\b\b\b\b\b\b\b\b\b\b\b\b\b\b\b\b\b\b\b\b\b\b\b\b\b\b\b\b\b\r 72/146 [=============>................] - ETA: 39:40 - loss: 0.3302 - balanced_accuracy: 0.8904"
          ]
        },
        {
          "output_type": "stream",
          "name": "stderr",
          "text": [
            "WARNING:tensorflow:Gradients do not exist for variables ['tf_bert_model/bert/pooler/dense/kernel:0', 'tf_bert_model/bert/pooler/dense/bias:0'] when minimizing the loss. If you're using `model.compile()`, did you forget to provide a `loss` argument?\n"
          ]
        },
        {
          "output_type": "stream",
          "name": "stdout",
          "text": [
            "\b\b\b\b\b\b\b\b\b\b\b\b\b\b\b\b\b\b\b\b\b\b\b\b\b\b\b\b\b\b\b\b\b\b\b\b\b\b\b\b\b\b\b\b\b\b\b\b\b\b\b\b\b\b\b\b\b\b\b\b\b\b\b\b\b\b\b\b\b\b\b\b\b\b\b\b\b\b\b\b\b\b\b\b\b\b\b\b\b\b\b\b\b\b\b\b\r 73/146 [==============>...............] - ETA: 39:07 - loss: 0.3301 - balanced_accuracy: 0.8904"
          ]
        },
        {
          "output_type": "stream",
          "name": "stderr",
          "text": [
            "WARNING:tensorflow:Gradients do not exist for variables ['tf_bert_model/bert/pooler/dense/kernel:0', 'tf_bert_model/bert/pooler/dense/bias:0'] when minimizing the loss. If you're using `model.compile()`, did you forget to provide a `loss` argument?\n"
          ]
        },
        {
          "output_type": "stream",
          "name": "stdout",
          "text": [
            "\b\b\b\b\b\b\b\b\b\b\b\b\b\b\b\b\b\b\b\b\b\b\b\b\b\b\b\b\b\b\b\b\b\b\b\b\b\b\b\b\b\b\b\b\b\b\b\b\b\b\b\b\b\b\b\b\b\b\b\b\b\b\b\b\b\b\b\b\b\b\b\b\b\b\b\b\b\b\b\b\b\b\b\b\b\b\b\b\b\b\b\b\b\b\b\b\r 74/146 [==============>...............] - ETA: 38:34 - loss: 0.3298 - balanced_accuracy: 0.8908"
          ]
        },
        {
          "output_type": "stream",
          "name": "stderr",
          "text": [
            "WARNING:tensorflow:Gradients do not exist for variables ['tf_bert_model/bert/pooler/dense/kernel:0', 'tf_bert_model/bert/pooler/dense/bias:0'] when minimizing the loss. If you're using `model.compile()`, did you forget to provide a `loss` argument?\n"
          ]
        },
        {
          "output_type": "stream",
          "name": "stdout",
          "text": [
            "\b\b\b\b\b\b\b\b\b\b\b\b\b\b\b\b\b\b\b\b\b\b\b\b\b\b\b\b\b\b\b\b\b\b\b\b\b\b\b\b\b\b\b\b\b\b\b\b\b\b\b\b\b\b\b\b\b\b\b\b\b\b\b\b\b\b\b\b\b\b\b\b\b\b\b\b\b\b\b\b\b\b\b\b\b\b\b\b\b\b\b\b\b\b\b\b\r 75/146 [==============>...............] - ETA: 38:03 - loss: 0.3308 - balanced_accuracy: 0.8900"
          ]
        },
        {
          "output_type": "stream",
          "name": "stderr",
          "text": [
            "WARNING:tensorflow:Gradients do not exist for variables ['tf_bert_model/bert/pooler/dense/kernel:0', 'tf_bert_model/bert/pooler/dense/bias:0'] when minimizing the loss. If you're using `model.compile()`, did you forget to provide a `loss` argument?\n"
          ]
        },
        {
          "output_type": "stream",
          "name": "stdout",
          "text": [
            "\b\b\b\b\b\b\b\b\b\b\b\b\b\b\b\b\b\b\b\b\b\b\b\b\b\b\b\b\b\b\b\b\b\b\b\b\b\b\b\b\b\b\b\b\b\b\b\b\b\b\b\b\b\b\b\b\b\b\b\b\b\b\b\b\b\b\b\b\b\b\b\b\b\b\b\b\b\b\b\b\b\b\b\b\b\b\b\b\b\b\b\b\b\b\b\b\r 76/146 [==============>...............] - ETA: 37:31 - loss: 0.3302 - balanced_accuracy: 0.8904"
          ]
        },
        {
          "output_type": "stream",
          "name": "stderr",
          "text": [
            "WARNING:tensorflow:Gradients do not exist for variables ['tf_bert_model/bert/pooler/dense/kernel:0', 'tf_bert_model/bert/pooler/dense/bias:0'] when minimizing the loss. If you're using `model.compile()`, did you forget to provide a `loss` argument?\n"
          ]
        },
        {
          "output_type": "stream",
          "name": "stdout",
          "text": [
            "\b\b\b\b\b\b\b\b\b\b\b\b\b\b\b\b\b\b\b\b\b\b\b\b\b\b\b\b\b\b\b\b\b\b\b\b\b\b\b\b\b\b\b\b\b\b\b\b\b\b\b\b\b\b\b\b\b\b\b\b\b\b\b\b\b\b\b\b\b\b\b\b\b\b\b\b\b\b\b\b\b\b\b\b\b\b\b\b\b\b\b\b\b\b\b\b\r 77/146 [==============>...............] - ETA: 36:58 - loss: 0.3311 - balanced_accuracy: 0.8903"
          ]
        },
        {
          "output_type": "stream",
          "name": "stderr",
          "text": [
            "WARNING:tensorflow:Gradients do not exist for variables ['tf_bert_model/bert/pooler/dense/kernel:0', 'tf_bert_model/bert/pooler/dense/bias:0'] when minimizing the loss. If you're using `model.compile()`, did you forget to provide a `loss` argument?\n"
          ]
        },
        {
          "output_type": "stream",
          "name": "stdout",
          "text": [
            "\b\b\b\b\b\b\b\b\b\b\b\b\b\b\b\b\b\b\b\b\b\b\b\b\b\b\b\b\b\b\b\b\b\b\b\b\b\b\b\b\b\b\b\b\b\b\b\b\b\b\b\b\b\b\b\b\b\b\b\b\b\b\b\b\b\b\b\b\b\b\b\b\b\b\b\b\b\b\b\b\b\b\b\b\b\b\b\b\b\b\b\b\b\b\b\b\r 78/146 [===============>..............] - ETA: 36:27 - loss: 0.3296 - balanced_accuracy: 0.8910"
          ]
        },
        {
          "output_type": "stream",
          "name": "stderr",
          "text": [
            "WARNING:tensorflow:Gradients do not exist for variables ['tf_bert_model/bert/pooler/dense/kernel:0', 'tf_bert_model/bert/pooler/dense/bias:0'] when minimizing the loss. If you're using `model.compile()`, did you forget to provide a `loss` argument?\n"
          ]
        },
        {
          "output_type": "stream",
          "name": "stdout",
          "text": [
            "\b\b\b\b\b\b\b\b\b\b\b\b\b\b\b\b\b\b\b\b\b\b\b\b\b\b\b\b\b\b\b\b\b\b\b\b\b\b\b\b\b\b\b\b\b\b\b\b\b\b\b\b\b\b\b\b\b\b\b\b\b\b\b\b\b\b\b\b\b\b\b\b\b\b\b\b\b\b\b\b\b\b\b\b\b\b\b\b\b\b\b\b\b\b\b\b\r 79/146 [===============>..............] - ETA: 35:56 - loss: 0.3280 - balanced_accuracy: 0.8917"
          ]
        },
        {
          "output_type": "stream",
          "name": "stderr",
          "text": [
            "WARNING:tensorflow:Gradients do not exist for variables ['tf_bert_model/bert/pooler/dense/kernel:0', 'tf_bert_model/bert/pooler/dense/bias:0'] when minimizing the loss. If you're using `model.compile()`, did you forget to provide a `loss` argument?\n"
          ]
        },
        {
          "output_type": "stream",
          "name": "stdout",
          "text": [
            "\b\b\b\b\b\b\b\b\b\b\b\b\b\b\b\b\b\b\b\b\b\b\b\b\b\b\b\b\b\b\b\b\b\b\b\b\b\b\b\b\b\b\b\b\b\b\b\b\b\b\b\b\b\b\b\b\b\b\b\b\b\b\b\b\b\b\b\b\b\b\b\b\b\b\b\b\b\b\b\b\b\b\b\b\b\b\b\b\b\b\b\b\b\b\b\b\r 80/146 [===============>..............] - ETA: 35:25 - loss: 0.3300 - balanced_accuracy: 0.8917"
          ]
        },
        {
          "output_type": "stream",
          "name": "stderr",
          "text": [
            "WARNING:tensorflow:Gradients do not exist for variables ['tf_bert_model/bert/pooler/dense/kernel:0', 'tf_bert_model/bert/pooler/dense/bias:0'] when minimizing the loss. If you're using `model.compile()`, did you forget to provide a `loss` argument?\n"
          ]
        },
        {
          "output_type": "stream",
          "name": "stdout",
          "text": [
            "\b\b\b\b\b\b\b\b\b\b\b\b\b\b\b\b\b\b\b\b\b\b\b\b\b\b\b\b\b\b\b\b\b\b\b\b\b\b\b\b\b\b\b\b\b\b\b\b\b\b\b\b\b\b\b\b\b\b\b\b\b\b\b\b\b\b\b\b\b\b\b\b\b\b\b\b\b\b\b\b\b\b\b\b\b\b\b\b\b\b\b\b\b\b\b\b\r 81/146 [===============>..............] - ETA: 34:53 - loss: 0.3288 - balanced_accuracy: 0.8916"
          ]
        },
        {
          "output_type": "stream",
          "name": "stderr",
          "text": [
            "WARNING:tensorflow:Gradients do not exist for variables ['tf_bert_model/bert/pooler/dense/kernel:0', 'tf_bert_model/bert/pooler/dense/bias:0'] when minimizing the loss. If you're using `model.compile()`, did you forget to provide a `loss` argument?\n"
          ]
        },
        {
          "output_type": "stream",
          "name": "stdout",
          "text": [
            "\b\b\b\b\b\b\b\b\b\b\b\b\b\b\b\b\b\b\b\b\b\b\b\b\b\b\b\b\b\b\b\b\b\b\b\b\b\b\b\b\b\b\b\b\b\b\b\b\b\b\b\b\b\b\b\b\b\b\b\b\b\b\b\b\b\b\b\b\b\b\b\b\b\b\b\b\b\b\b\b\b\b\b\b\b\b\b\b\b\b\b\b\b\b\b\b\r 82/146 [===============>..............] - ETA: 34:22 - loss: 0.3281 - balanced_accuracy: 0.8916"
          ]
        },
        {
          "output_type": "stream",
          "name": "stderr",
          "text": [
            "WARNING:tensorflow:Gradients do not exist for variables ['tf_bert_model/bert/pooler/dense/kernel:0', 'tf_bert_model/bert/pooler/dense/bias:0'] when minimizing the loss. If you're using `model.compile()`, did you forget to provide a `loss` argument?\n"
          ]
        },
        {
          "output_type": "stream",
          "name": "stdout",
          "text": [
            "\b\b\b\b\b\b\b\b\b\b\b\b\b\b\b\b\b\b\b\b\b\b\b\b\b\b\b\b\b\b\b\b\b\b\b\b\b\b\b\b\b\b\b\b\b\b\b\b\b\b\b\b\b\b\b\b\b\b\b\b\b\b\b\b\b\b\b\b\b\b\b\b\b\b\b\b\b\b\b\b\b\b\b\b\b\b\b\b\b\b\b\b\b\b\b\b\r 83/146 [================>.............] - ETA: 33:51 - loss: 0.3275 - balanced_accuracy: 0.8919"
          ]
        },
        {
          "output_type": "stream",
          "name": "stderr",
          "text": [
            "WARNING:tensorflow:Gradients do not exist for variables ['tf_bert_model/bert/pooler/dense/kernel:0', 'tf_bert_model/bert/pooler/dense/bias:0'] when minimizing the loss. If you're using `model.compile()`, did you forget to provide a `loss` argument?\n"
          ]
        },
        {
          "output_type": "stream",
          "name": "stdout",
          "text": [
            "\b\b\b\b\b\b\b\b\b\b\b\b\b\b\b\b\b\b\b\b\b\b\b\b\b\b\b\b\b\b\b\b\b\b\b\b\b\b\b\b\b\b\b\b\b\b\b\b\b\b\b\b\b\b\b\b\b\b\b\b\b\b\b\b\b\b\b\b\b\b\b\b\b\b\b\b\b\b\b\b\b\b\b\b\b\b\b\b\b\b\b\b\b\b\b\b\r 84/146 [================>.............] - ETA: 33:19 - loss: 0.3263 - balanced_accuracy: 0.8925"
          ]
        },
        {
          "output_type": "stream",
          "name": "stderr",
          "text": [
            "WARNING:tensorflow:Gradients do not exist for variables ['tf_bert_model/bert/pooler/dense/kernel:0', 'tf_bert_model/bert/pooler/dense/bias:0'] when minimizing the loss. If you're using `model.compile()`, did you forget to provide a `loss` argument?\n"
          ]
        },
        {
          "output_type": "stream",
          "name": "stdout",
          "text": [
            "\b\b\b\b\b\b\b\b\b\b\b\b\b\b\b\b\b\b\b\b\b\b\b\b\b\b\b\b\b\b\b\b\b\b\b\b\b\b\b\b\b\b\b\b\b\b\b\b\b\b\b\b\b\b\b\b\b\b\b\b\b\b\b\b\b\b\b\b\b\b\b\b\b\b\b\b\b\b\b\b\b\b\b\b\b\b\b\b\b\b\b\b\b\b\b\b\r 85/146 [================>.............] - ETA: 32:48 - loss: 0.3265 - balanced_accuracy: 0.8928"
          ]
        },
        {
          "output_type": "stream",
          "name": "stderr",
          "text": [
            "WARNING:tensorflow:Gradients do not exist for variables ['tf_bert_model/bert/pooler/dense/kernel:0', 'tf_bert_model/bert/pooler/dense/bias:0'] when minimizing the loss. If you're using `model.compile()`, did you forget to provide a `loss` argument?\n"
          ]
        },
        {
          "output_type": "stream",
          "name": "stdout",
          "text": [
            "\b\b\b\b\b\b\b\b\b\b\b\b\b\b\b\b\b\b\b\b\b\b\b\b\b\b\b\b\b\b\b\b\b\b\b\b\b\b\b\b\b\b\b\b\b\b\b\b\b\b\b\b\b\b\b\b\b\b\b\b\b\b\b\b\b\b\b\b\b\b\b\b\b\b\b\b\b\b\b\b\b\b\b\b\b\b\b\b\b\b\b\b\b\b\b\b\r 86/146 [================>.............] - ETA: 32:17 - loss: 0.3264 - balanced_accuracy: 0.8934"
          ]
        },
        {
          "output_type": "stream",
          "name": "stderr",
          "text": [
            "WARNING:tensorflow:Gradients do not exist for variables ['tf_bert_model/bert/pooler/dense/kernel:0', 'tf_bert_model/bert/pooler/dense/bias:0'] when minimizing the loss. If you're using `model.compile()`, did you forget to provide a `loss` argument?\n"
          ]
        },
        {
          "output_type": "stream",
          "name": "stdout",
          "text": [
            "\b\b\b\b\b\b\b\b\b\b\b\b\b\b\b\b\b\b\b\b\b\b\b\b\b\b\b\b\b\b\b\b\b\b\b\b\b\b\b\b\b\b\b\b\b\b\b\b\b\b\b\b\b\b\b\b\b\b\b\b\b\b\b\b\b\b\b\b\b\b\b\b\b\b\b\b\b\b\b\b\b\b\b\b\b\b\b\b\b\b\b\b\b\b\b\b\r 87/146 [================>.............] - ETA: 31:44 - loss: 0.3273 - balanced_accuracy: 0.8930"
          ]
        },
        {
          "output_type": "stream",
          "name": "stderr",
          "text": [
            "WARNING:tensorflow:Gradients do not exist for variables ['tf_bert_model/bert/pooler/dense/kernel:0', 'tf_bert_model/bert/pooler/dense/bias:0'] when minimizing the loss. If you're using `model.compile()`, did you forget to provide a `loss` argument?\n"
          ]
        },
        {
          "output_type": "stream",
          "name": "stdout",
          "text": [
            "\b\b\b\b\b\b\b\b\b\b\b\b\b\b\b\b\b\b\b\b\b\b\b\b\b\b\b\b\b\b\b\b\b\b\b\b\b\b\b\b\b\b\b\b\b\b\b\b\b\b\b\b\b\b\b\b\b\b\b\b\b\b\b\b\b\b\b\b\b\b\b\b\b\b\b\b\b\b\b\b\b\b\b\b\b\b\b\b\b\b\b\b\b\b\b\b\r 88/146 [=================>............] - ETA: 31:13 - loss: 0.3267 - balanced_accuracy: 0.8930"
          ]
        },
        {
          "output_type": "stream",
          "name": "stderr",
          "text": [
            "WARNING:tensorflow:Gradients do not exist for variables ['tf_bert_model/bert/pooler/dense/kernel:0', 'tf_bert_model/bert/pooler/dense/bias:0'] when minimizing the loss. If you're using `model.compile()`, did you forget to provide a `loss` argument?\n"
          ]
        },
        {
          "output_type": "stream",
          "name": "stdout",
          "text": [
            "\b\b\b\b\b\b\b\b\b\b\b\b\b\b\b\b\b\b\b\b\b\b\b\b\b\b\b\b\b\b\b\b\b\b\b\b\b\b\b\b\b\b\b\b\b\b\b\b\b\b\b\b\b\b\b\b\b\b\b\b\b\b\b\b\b\b\b\b\b\b\b\b\b\b\b\b\b\b\b\b\b\b\b\b\b\b\b\b\b\b\b\b\b\b\b\b\r 89/146 [=================>............] - ETA: 30:41 - loss: 0.3271 - balanced_accuracy: 0.8923"
          ]
        },
        {
          "output_type": "stream",
          "name": "stderr",
          "text": [
            "WARNING:tensorflow:Gradients do not exist for variables ['tf_bert_model/bert/pooler/dense/kernel:0', 'tf_bert_model/bert/pooler/dense/bias:0'] when minimizing the loss. If you're using `model.compile()`, did you forget to provide a `loss` argument?\n"
          ]
        },
        {
          "output_type": "stream",
          "name": "stdout",
          "text": [
            "\b\b\b\b\b\b\b\b\b\b\b\b\b\b\b\b\b\b\b\b\b\b\b\b\b\b\b\b\b\b\b\b\b\b\b\b\b\b\b\b\b\b\b\b\b\b\b\b\b\b\b\b\b\b\b\b\b\b\b\b\b\b\b\b\b\b\b\b\b\b\b\b\b\b\b\b\b\b\b\b\b\b\b\b\b\b\b\b\b\b\b\b\b\b\b\b\r 90/146 [=================>............] - ETA: 30:10 - loss: 0.3284 - balanced_accuracy: 0.8920"
          ]
        },
        {
          "output_type": "stream",
          "name": "stderr",
          "text": [
            "WARNING:tensorflow:Gradients do not exist for variables ['tf_bert_model/bert/pooler/dense/kernel:0', 'tf_bert_model/bert/pooler/dense/bias:0'] when minimizing the loss. If you're using `model.compile()`, did you forget to provide a `loss` argument?\n"
          ]
        },
        {
          "output_type": "stream",
          "name": "stdout",
          "text": [
            "\b\b\b\b\b\b\b\b\b\b\b\b\b\b\b\b\b\b\b\b\b\b\b\b\b\b\b\b\b\b\b\b\b\b\b\b\b\b\b\b\b\b\b\b\b\b\b\b\b\b\b\b\b\b\b\b\b\b\b\b\b\b\b\b\b\b\b\b\b\b\b\b\b\b\b\b\b\b\b\b\b\b\b\b\b\b\b\b\b\b\b\b\b\b\b\b\r 91/146 [=================>............] - ETA: 29:37 - loss: 0.3289 - balanced_accuracy: 0.8916"
          ]
        },
        {
          "output_type": "stream",
          "name": "stderr",
          "text": [
            "WARNING:tensorflow:Gradients do not exist for variables ['tf_bert_model/bert/pooler/dense/kernel:0', 'tf_bert_model/bert/pooler/dense/bias:0'] when minimizing the loss. If you're using `model.compile()`, did you forget to provide a `loss` argument?\n"
          ]
        },
        {
          "output_type": "stream",
          "name": "stdout",
          "text": [
            "\b\b\b\b\b\b\b\b\b\b\b\b\b\b\b\b\b\b\b\b\b\b\b\b\b\b\b\b\b\b\b\b\b\b\b\b\b\b\b\b\b\b\b\b\b\b\b\b\b\b\b\b\b\b\b\b\b\b\b\b\b\b\b\b\b\b\b\b\b\b\b\b\b\b\b\b\b\b\b\b\b\b\b\b\b\b\b\b\b\b\b\b\b\b\b\b\r 92/146 [=================>............] - ETA: 29:06 - loss: 0.3294 - balanced_accuracy: 0.8916"
          ]
        },
        {
          "output_type": "stream",
          "name": "stderr",
          "text": [
            "WARNING:tensorflow:Gradients do not exist for variables ['tf_bert_model/bert/pooler/dense/kernel:0', 'tf_bert_model/bert/pooler/dense/bias:0'] when minimizing the loss. If you're using `model.compile()`, did you forget to provide a `loss` argument?\n"
          ]
        },
        {
          "output_type": "stream",
          "name": "stdout",
          "text": [
            "\b\b\b\b\b\b\b\b\b\b\b\b\b\b\b\b\b\b\b\b\b\b\b\b\b\b\b\b\b\b\b\b\b\b\b\b\b\b\b\b\b\b\b\b\b\b\b\b\b\b\b\b\b\b\b\b\b\b\b\b\b\b\b\b\b\b\b\b\b\b\b\b\b\b\b\b\b\b\b\b\b\b\b\b\b\b\b\b\b\b\b\b\b\b\b\b\r 93/146 [==================>...........] - ETA: 28:33 - loss: 0.3337 - balanced_accuracy: 0.8904"
          ]
        },
        {
          "output_type": "stream",
          "name": "stderr",
          "text": [
            "WARNING:tensorflow:Gradients do not exist for variables ['tf_bert_model/bert/pooler/dense/kernel:0', 'tf_bert_model/bert/pooler/dense/bias:0'] when minimizing the loss. If you're using `model.compile()`, did you forget to provide a `loss` argument?\n"
          ]
        },
        {
          "output_type": "stream",
          "name": "stdout",
          "text": [
            "\b\b\b\b\b\b\b\b\b\b\b\b\b\b\b\b\b\b\b\b\b\b\b\b\b\b\b\b\b\b\b\b\b\b\b\b\b\b\b\b\b\b\b\b\b\b\b\b\b\b\b\b\b\b\b\b\b\b\b\b\b\b\b\b\b\b\b\b\b\b\b\b\b\b\b\b\b\b\b\b\b\b\b\b\b\b\b\b\b\b\b\b\b\b\b\b\r 94/146 [==================>...........] - ETA: 28:02 - loss: 0.3339 - balanced_accuracy: 0.8907"
          ]
        },
        {
          "output_type": "stream",
          "name": "stderr",
          "text": [
            "WARNING:tensorflow:Gradients do not exist for variables ['tf_bert_model/bert/pooler/dense/kernel:0', 'tf_bert_model/bert/pooler/dense/bias:0'] when minimizing the loss. If you're using `model.compile()`, did you forget to provide a `loss` argument?\n"
          ]
        },
        {
          "output_type": "stream",
          "name": "stdout",
          "text": [
            "\b\b\b\b\b\b\b\b\b\b\b\b\b\b\b\b\b\b\b\b\b\b\b\b\b\b\b\b\b\b\b\b\b\b\b\b\b\b\b\b\b\b\b\b\b\b\b\b\b\b\b\b\b\b\b\b\b\b\b\b\b\b\b\b\b\b\b\b\b\b\b\b\b\b\b\b\b\b\b\b\b\b\b\b\b\b\b\b\b\b\b\b\b\b\b\b\r 95/146 [==================>...........] - ETA: 27:31 - loss: 0.3337 - balanced_accuracy: 0.8909"
          ]
        },
        {
          "output_type": "stream",
          "name": "stderr",
          "text": [
            "WARNING:tensorflow:Gradients do not exist for variables ['tf_bert_model/bert/pooler/dense/kernel:0', 'tf_bert_model/bert/pooler/dense/bias:0'] when minimizing the loss. If you're using `model.compile()`, did you forget to provide a `loss` argument?\n"
          ]
        },
        {
          "output_type": "stream",
          "name": "stdout",
          "text": [
            "\b\b\b\b\b\b\b\b\b\b\b\b\b\b\b\b\b\b\b\b\b\b\b\b\b\b\b\b\b\b\b\b\b\b\b\b\b\b\b\b\b\b\b\b\b\b\b\b\b\b\b\b\b\b\b\b\b\b\b\b\b\b\b\b\b\b\b\b\b\b\b\b\b\b\b\b\b\b\b\b\b\b\b\b\b\b\b\b\b\b\b\b\b\b\b\b\r 96/146 [==================>...........] - ETA: 26:59 - loss: 0.3345 - balanced_accuracy: 0.8903"
          ]
        },
        {
          "output_type": "stream",
          "name": "stderr",
          "text": [
            "WARNING:tensorflow:Gradients do not exist for variables ['tf_bert_model/bert/pooler/dense/kernel:0', 'tf_bert_model/bert/pooler/dense/bias:0'] when minimizing the loss. If you're using `model.compile()`, did you forget to provide a `loss` argument?\n"
          ]
        },
        {
          "output_type": "stream",
          "name": "stdout",
          "text": [
            "\b\b\b\b\b\b\b\b\b\b\b\b\b\b\b\b\b\b\b\b\b\b\b\b\b\b\b\b\b\b\b\b\b\b\b\b\b\b\b\b\b\b\b\b\b\b\b\b\b\b\b\b\b\b\b\b\b\b\b\b\b\b\b\b\b\b\b\b\b\b\b\b\b\b\b\b\b\b\b\b\b\b\b\b\b\b\b\b\b\b\b\b\b\b\b\b\r 97/146 [==================>...........] - ETA: 26:27 - loss: 0.3330 - balanced_accuracy: 0.8909"
          ]
        },
        {
          "output_type": "stream",
          "name": "stderr",
          "text": [
            "WARNING:tensorflow:Gradients do not exist for variables ['tf_bert_model/bert/pooler/dense/kernel:0', 'tf_bert_model/bert/pooler/dense/bias:0'] when minimizing the loss. If you're using `model.compile()`, did you forget to provide a `loss` argument?\n"
          ]
        },
        {
          "output_type": "stream",
          "name": "stdout",
          "text": [
            "\b\b\b\b\b\b\b\b\b\b\b\b\b\b\b\b\b\b\b\b\b\b\b\b\b\b\b\b\b\b\b\b\b\b\b\b\b\b\b\b\b\b\b\b\b\b\b\b\b\b\b\b\b\b\b\b\b\b\b\b\b\b\b\b\b\b\b\b\b\b\b\b\b\b\b\b\b\b\b\b\b\b\b\b\b\b\b\b\b\b\b\b\b\b\b\b\r 98/146 [===================>..........] - ETA: 25:56 - loss: 0.3333 - balanced_accuracy: 0.8903"
          ]
        },
        {
          "output_type": "stream",
          "name": "stderr",
          "text": [
            "WARNING:tensorflow:Gradients do not exist for variables ['tf_bert_model/bert/pooler/dense/kernel:0', 'tf_bert_model/bert/pooler/dense/bias:0'] when minimizing the loss. If you're using `model.compile()`, did you forget to provide a `loss` argument?\n"
          ]
        },
        {
          "output_type": "stream",
          "name": "stdout",
          "text": [
            "\b\b\b\b\b\b\b\b\b\b\b\b\b\b\b\b\b\b\b\b\b\b\b\b\b\b\b\b\b\b\b\b\b\b\b\b\b\b\b\b\b\b\b\b\b\b\b\b\b\b\b\b\b\b\b\b\b\b\b\b\b\b\b\b\b\b\b\b\b\b\b\b\b\b\b\b\b\b\b\b\b\b\b\b\b\b\b\b\b\b\b\b\b\b\b\b\r 99/146 [===================>..........] - ETA: 25:23 - loss: 0.3325 - balanced_accuracy: 0.8903"
          ]
        },
        {
          "output_type": "stream",
          "name": "stderr",
          "text": [
            "WARNING:tensorflow:Gradients do not exist for variables ['tf_bert_model/bert/pooler/dense/kernel:0', 'tf_bert_model/bert/pooler/dense/bias:0'] when minimizing the loss. If you're using `model.compile()`, did you forget to provide a `loss` argument?\n"
          ]
        },
        {
          "output_type": "stream",
          "name": "stdout",
          "text": [
            "\b\b\b\b\b\b\b\b\b\b\b\b\b\b\b\b\b\b\b\b\b\b\b\b\b\b\b\b\b\b\b\b\b\b\b\b\b\b\b\b\b\b\b\b\b\b\b\b\b\b\b\b\b\b\b\b\b\b\b\b\b\b\b\b\b\b\b\b\b\b\b\b\b\b\b\b\b\b\b\b\b\b\b\b\b\b\b\b\b\b\b\b\b\b\b\b\r100/146 [===================>..........] - ETA: 24:51 - loss: 0.3337 - balanced_accuracy: 0.8894"
          ]
        },
        {
          "output_type": "stream",
          "name": "stderr",
          "text": [
            "WARNING:tensorflow:Gradients do not exist for variables ['tf_bert_model/bert/pooler/dense/kernel:0', 'tf_bert_model/bert/pooler/dense/bias:0'] when minimizing the loss. If you're using `model.compile()`, did you forget to provide a `loss` argument?\n"
          ]
        },
        {
          "output_type": "stream",
          "name": "stdout",
          "text": [
            "\b\b\b\b\b\b\b\b\b\b\b\b\b\b\b\b\b\b\b\b\b\b\b\b\b\b\b\b\b\b\b\b\b\b\b\b\b\b\b\b\b\b\b\b\b\b\b\b\b\b\b\b\b\b\b\b\b\b\b\b\b\b\b\b\b\b\b\b\b\b\b\b\b\b\b\b\b\b\b\b\b\b\b\b\b\b\b\b\b\b\b\b\b\b\b\b\r101/146 [===================>..........] - ETA: 24:19 - loss: 0.3345 - balanced_accuracy: 0.8894"
          ]
        },
        {
          "output_type": "stream",
          "name": "stderr",
          "text": [
            "WARNING:tensorflow:Gradients do not exist for variables ['tf_bert_model/bert/pooler/dense/kernel:0', 'tf_bert_model/bert/pooler/dense/bias:0'] when minimizing the loss. If you're using `model.compile()`, did you forget to provide a `loss` argument?\n"
          ]
        },
        {
          "output_type": "stream",
          "name": "stdout",
          "text": [
            "\b\b\b\b\b\b\b\b\b\b\b\b\b\b\b\b\b\b\b\b\b\b\b\b\b\b\b\b\b\b\b\b\b\b\b\b\b\b\b\b\b\b\b\b\b\b\b\b\b\b\b\b\b\b\b\b\b\b\b\b\b\b\b\b\b\b\b\b\b\b\b\b\b\b\b\b\b\b\b\b\b\b\b\b\b\b\b\b\b\b\b\b\b\b\b\b\r102/146 [===================>..........] - ETA: 23:47 - loss: 0.3340 - balanced_accuracy: 0.8894"
          ]
        },
        {
          "output_type": "stream",
          "name": "stderr",
          "text": [
            "WARNING:tensorflow:Gradients do not exist for variables ['tf_bert_model/bert/pooler/dense/kernel:0', 'tf_bert_model/bert/pooler/dense/bias:0'] when minimizing the loss. If you're using `model.compile()`, did you forget to provide a `loss` argument?\n"
          ]
        },
        {
          "output_type": "stream",
          "name": "stdout",
          "text": [
            "\b\b\b\b\b\b\b\b\b\b\b\b\b\b\b\b\b\b\b\b\b\b\b\b\b\b\b\b\b\b\b\b\b\b\b\b\b\b\b\b\b\b\b\b\b\b\b\b\b\b\b\b\b\b\b\b\b\b\b\b\b\b\b\b\b\b\b\b\b\b\b\b\b\b\b\b\b\b\b\b\b\b\b\b\b\b\b\b\b\b\b\b\b\b\b\b\r103/146 [====================>.........] - ETA: 23:14 - loss: 0.3326 - balanced_accuracy: 0.8897"
          ]
        },
        {
          "output_type": "stream",
          "name": "stderr",
          "text": [
            "WARNING:tensorflow:Gradients do not exist for variables ['tf_bert_model/bert/pooler/dense/kernel:0', 'tf_bert_model/bert/pooler/dense/bias:0'] when minimizing the loss. If you're using `model.compile()`, did you forget to provide a `loss` argument?\n"
          ]
        },
        {
          "output_type": "stream",
          "name": "stdout",
          "text": [
            "\b\b\b\b\b\b\b\b\b\b\b\b\b\b\b\b\b\b\b\b\b\b\b\b\b\b\b\b\b\b\b\b\b\b\b\b\b\b\b\b\b\b\b\b\b\b\b\b\b\b\b\b\b\b\b\b\b\b\b\b\b\b\b\b\b\b\b\b\b\b\b\b\b\b\b\b\b\b\b\b\b\b\b\b\b\b\b\b\b\b\b\b\b\b\b\b\r104/146 [====================>.........] - ETA: 22:41 - loss: 0.3311 - balanced_accuracy: 0.8905"
          ]
        },
        {
          "output_type": "stream",
          "name": "stderr",
          "text": [
            "WARNING:tensorflow:Gradients do not exist for variables ['tf_bert_model/bert/pooler/dense/kernel:0', 'tf_bert_model/bert/pooler/dense/bias:0'] when minimizing the loss. If you're using `model.compile()`, did you forget to provide a `loss` argument?\n"
          ]
        },
        {
          "output_type": "stream",
          "name": "stdout",
          "text": [
            "\b\b\b\b\b\b\b\b\b\b\b\b\b\b\b\b\b\b\b\b\b\b\b\b\b\b\b\b\b\b\b\b\b\b\b\b\b\b\b\b\b\b\b\b\b\b\b\b\b\b\b\b\b\b\b\b\b\b\b\b\b\b\b\b\b\b\b\b\b\b\b\b\b\b\b\b\b\b\b\b\b\b\b\b\b\b\b\b\b\b\b\b\b\b\b\b\r105/146 [====================>.........] - ETA: 22:10 - loss: 0.3319 - balanced_accuracy: 0.8907"
          ]
        },
        {
          "output_type": "stream",
          "name": "stderr",
          "text": [
            "WARNING:tensorflow:Gradients do not exist for variables ['tf_bert_model/bert/pooler/dense/kernel:0', 'tf_bert_model/bert/pooler/dense/bias:0'] when minimizing the loss. If you're using `model.compile()`, did you forget to provide a `loss` argument?\n"
          ]
        },
        {
          "output_type": "stream",
          "name": "stdout",
          "text": [
            "\b\b\b\b\b\b\b\b\b\b\b\b\b\b\b\b\b\b\b\b\b\b\b\b\b\b\b\b\b\b\b\b\b\b\b\b\b\b\b\b\b\b\b\b\b\b\b\b\b\b\b\b\b\b\b\b\b\b\b\b\b\b\b\b\b\b\b\b\b\b\b\b\b\b\b\b\b\b\b\b\b\b\b\b\b\b\b\b\b\b\b\b\b\b\b\b\r106/146 [====================>.........] - ETA: 21:37 - loss: 0.3306 - balanced_accuracy: 0.8910"
          ]
        },
        {
          "output_type": "stream",
          "name": "stderr",
          "text": [
            "WARNING:tensorflow:Gradients do not exist for variables ['tf_bert_model/bert/pooler/dense/kernel:0', 'tf_bert_model/bert/pooler/dense/bias:0'] when minimizing the loss. If you're using `model.compile()`, did you forget to provide a `loss` argument?\n"
          ]
        },
        {
          "output_type": "stream",
          "name": "stdout",
          "text": [
            "\b\b\b\b\b\b\b\b\b\b\b\b\b\b\b\b\b\b\b\b\b\b\b\b\b\b\b\b\b\b\b\b\b\b\b\b\b\b\b\b\b\b\b\b\b\b\b\b\b\b\b\b\b\b\b\b\b\b\b\b\b\b\b\b\b\b\b\b\b\b\b\b\b\b\b\b\b\b\b\b\b\b\b\b\b\b\b\b\b\b\b\b\b\b\b\b\r107/146 [====================>.........] - ETA: 21:04 - loss: 0.3299 - balanced_accuracy: 0.8910"
          ]
        },
        {
          "output_type": "stream",
          "name": "stderr",
          "text": [
            "WARNING:tensorflow:Gradients do not exist for variables ['tf_bert_model/bert/pooler/dense/kernel:0', 'tf_bert_model/bert/pooler/dense/bias:0'] when minimizing the loss. If you're using `model.compile()`, did you forget to provide a `loss` argument?\n"
          ]
        },
        {
          "output_type": "stream",
          "name": "stdout",
          "text": [
            "\b\b\b\b\b\b\b\b\b\b\b\b\b\b\b\b\b\b\b\b\b\b\b\b\b\b\b\b\b\b\b\b\b\b\b\b\b\b\b\b\b\b\b\b\b\b\b\b\b\b\b\b\b\b\b\b\b\b\b\b\b\b\b\b\b\b\b\b\b\b\b\b\b\b\b\b\b\b\b\b\b\b\b\b\b\b\b\b\b\b\b\b\b\b\b\b\r108/146 [=====================>........] - ETA: 20:31 - loss: 0.3297 - balanced_accuracy: 0.8909"
          ]
        },
        {
          "output_type": "stream",
          "name": "stderr",
          "text": [
            "WARNING:tensorflow:Gradients do not exist for variables ['tf_bert_model/bert/pooler/dense/kernel:0', 'tf_bert_model/bert/pooler/dense/bias:0'] when minimizing the loss. If you're using `model.compile()`, did you forget to provide a `loss` argument?\n"
          ]
        },
        {
          "output_type": "stream",
          "name": "stdout",
          "text": [
            "\b\b\b\b\b\b\b\b\b\b\b\b\b\b\b\b\b\b\b\b\b\b\b\b\b\b\b\b\b\b\b\b\b\b\b\b\b\b\b\b\b\b\b\b\b\b\b\b\b\b\b\b\b\b\b\b\b\b\b\b\b\b\b\b\b\b\b\b\b\b\b\b\b\b\b\b\b\b\b\b\b\b\b\b\b\b\b\b\b\b\b\b\b\b\b\b\r109/146 [=====================>........] - ETA: 19:59 - loss: 0.3301 - balanced_accuracy: 0.8907"
          ]
        },
        {
          "output_type": "stream",
          "name": "stderr",
          "text": [
            "WARNING:tensorflow:Gradients do not exist for variables ['tf_bert_model/bert/pooler/dense/kernel:0', 'tf_bert_model/bert/pooler/dense/bias:0'] when minimizing the loss. If you're using `model.compile()`, did you forget to provide a `loss` argument?\n"
          ]
        },
        {
          "output_type": "stream",
          "name": "stdout",
          "text": [
            "\b\b\b\b\b\b\b\b\b\b\b\b\b\b\b\b\b\b\b\b\b\b\b\b\b\b\b\b\b\b\b\b\b\b\b\b\b\b\b\b\b\b\b\b\b\b\b\b\b\b\b\b\b\b\b\b\b\b\b\b\b\b\b\b\b\b\b\b\b\b\b\b\b\b\b\b\b\b\b\b\b\b\b\b\b\b\b\b\b\b\b\b\b\b\b\b\r110/146 [=====================>........] - ETA: 19:26 - loss: 0.3291 - balanced_accuracy: 0.8912"
          ]
        },
        {
          "output_type": "stream",
          "name": "stderr",
          "text": [
            "WARNING:tensorflow:Gradients do not exist for variables ['tf_bert_model/bert/pooler/dense/kernel:0', 'tf_bert_model/bert/pooler/dense/bias:0'] when minimizing the loss. If you're using `model.compile()`, did you forget to provide a `loss` argument?\n"
          ]
        },
        {
          "output_type": "stream",
          "name": "stdout",
          "text": [
            "\b\b\b\b\b\b\b\b\b\b\b\b\b\b\b\b\b\b\b\b\b\b\b\b\b\b\b\b\b\b\b\b\b\b\b\b\b\b\b\b\b\b\b\b\b\b\b\b\b\b\b\b\b\b\b\b\b\b\b\b\b\b\b\b\b\b\b\b\b\b\b\b\b\b\b\b\b\b\b\b\b\b\b\b\b\b\b\b\b\b\b\b\b\b\b\b\r111/146 [=====================>........] - ETA: 18:54 - loss: 0.3300 - balanced_accuracy: 0.8914"
          ]
        },
        {
          "output_type": "stream",
          "name": "stderr",
          "text": [
            "WARNING:tensorflow:Gradients do not exist for variables ['tf_bert_model/bert/pooler/dense/kernel:0', 'tf_bert_model/bert/pooler/dense/bias:0'] when minimizing the loss. If you're using `model.compile()`, did you forget to provide a `loss` argument?\n"
          ]
        },
        {
          "output_type": "stream",
          "name": "stdout",
          "text": [
            "\b\b\b\b\b\b\b\b\b\b\b\b\b\b\b\b\b\b\b\b\b\b\b\b\b\b\b\b\b\b\b\b\b\b\b\b\b\b\b\b\b\b\b\b\b\b\b\b\b\b\b\b\b\b\b\b\b\b\b\b\b\b\b\b\b\b\b\b\b\b\b\b\b\b\b\b\b\b\b\b\b\b\b\b\b\b\b\b\b\b\b\b\b\b\b\b\r112/146 [======================>.......] - ETA: 18:21 - loss: 0.3299 - balanced_accuracy: 0.8916"
          ]
        },
        {
          "output_type": "stream",
          "name": "stderr",
          "text": [
            "WARNING:tensorflow:Gradients do not exist for variables ['tf_bert_model/bert/pooler/dense/kernel:0', 'tf_bert_model/bert/pooler/dense/bias:0'] when minimizing the loss. If you're using `model.compile()`, did you forget to provide a `loss` argument?\n"
          ]
        },
        {
          "output_type": "stream",
          "name": "stdout",
          "text": [
            "\b\b\b\b\b\b\b\b\b\b\b\b\b\b\b\b\b\b\b\b\b\b\b\b\b\b\b\b\b\b\b\b\b\b\b\b\b\b\b\b\b\b\b\b\b\b\b\b\b\b\b\b\b\b\b\b\b\b\b\b\b\b\b\b\b\b\b\b\b\b\b\b\b\b\b\b\b\b\b\b\b\b\b\b\b\b\b\b\b\b\b\b\b\b\b\b\r113/146 [======================>.......] - ETA: 17:49 - loss: 0.3299 - balanced_accuracy: 0.8918"
          ]
        },
        {
          "output_type": "stream",
          "name": "stderr",
          "text": [
            "WARNING:tensorflow:Gradients do not exist for variables ['tf_bert_model/bert/pooler/dense/kernel:0', 'tf_bert_model/bert/pooler/dense/bias:0'] when minimizing the loss. If you're using `model.compile()`, did you forget to provide a `loss` argument?\n"
          ]
        },
        {
          "output_type": "stream",
          "name": "stdout",
          "text": [
            "\b\b\b\b\b\b\b\b\b\b\b\b\b\b\b\b\b\b\b\b\b\b\b\b\b\b\b\b\b\b\b\b\b\b\b\b\b\b\b\b\b\b\b\b\b\b\b\b\b\b\b\b\b\b\b\b\b\b\b\b\b\b\b\b\b\b\b\b\b\b\b\b\b\b\b\b\b\b\b\b\b\b\b\b\b\b\b\b\b\b\b\b\b\b\b\b\r114/146 [======================>.......] - ETA: 17:17 - loss: 0.3304 - balanced_accuracy: 0.8916"
          ]
        },
        {
          "output_type": "stream",
          "name": "stderr",
          "text": [
            "WARNING:tensorflow:Gradients do not exist for variables ['tf_bert_model/bert/pooler/dense/kernel:0', 'tf_bert_model/bert/pooler/dense/bias:0'] when minimizing the loss. If you're using `model.compile()`, did you forget to provide a `loss` argument?\n"
          ]
        },
        {
          "output_type": "stream",
          "name": "stdout",
          "text": [
            "\b\b\b\b\b\b\b\b\b\b\b\b\b\b\b\b\b\b\b\b\b\b\b\b\b\b\b\b\b\b\b\b\b\b\b\b\b\b\b\b\b\b\b\b\b\b\b\b\b\b\b\b\b\b\b\b\b\b\b\b\b\b\b\b\b\b\b\b\b\b\b\b\b\b\b\b\b\b\b\b\b\b\b\b\b\b\b\b\b\b\b\b\b\b\b\b\r115/146 [======================>.......] - ETA: 16:44 - loss: 0.3291 - balanced_accuracy: 0.8920"
          ]
        },
        {
          "output_type": "stream",
          "name": "stderr",
          "text": [
            "WARNING:tensorflow:Gradients do not exist for variables ['tf_bert_model/bert/pooler/dense/kernel:0', 'tf_bert_model/bert/pooler/dense/bias:0'] when minimizing the loss. If you're using `model.compile()`, did you forget to provide a `loss` argument?\n"
          ]
        },
        {
          "output_type": "stream",
          "name": "stdout",
          "text": [
            "\b\b\b\b\b\b\b\b\b\b\b\b\b\b\b\b\b\b\b\b\b\b\b\b\b\b\b\b\b\b\b\b\b\b\b\b\b\b\b\b\b\b\b\b\b\b\b\b\b\b\b\b\b\b\b\b\b\b\b\b\b\b\b\b\b\b\b\b\b\b\b\b\b\b\b\b\b\b\b\b\b\b\b\b\b\b\b\b\b\b\b\b\b\b\b\b\r116/146 [======================>.......] - ETA: 16:11 - loss: 0.3300 - balanced_accuracy: 0.8918"
          ]
        },
        {
          "output_type": "stream",
          "name": "stderr",
          "text": [
            "WARNING:tensorflow:Gradients do not exist for variables ['tf_bert_model/bert/pooler/dense/kernel:0', 'tf_bert_model/bert/pooler/dense/bias:0'] when minimizing the loss. If you're using `model.compile()`, did you forget to provide a `loss` argument?\n"
          ]
        },
        {
          "output_type": "stream",
          "name": "stdout",
          "text": [
            "\b\b\b\b\b\b\b\b\b\b\b\b\b\b\b\b\b\b\b\b\b\b\b\b\b\b\b\b\b\b\b\b\b\b\b\b\b\b\b\b\b\b\b\b\b\b\b\b\b\b\b\b\b\b\b\b\b\b\b\b\b\b\b\b\b\b\b\b\b\b\b\b\b\b\b\b\b\b\b\b\b\b\b\b\b\b\b\b\b\b\b\b\b\b\b\b\r117/146 [=======================>......] - ETA: 15:39 - loss: 0.3289 - balanced_accuracy: 0.8922"
          ]
        },
        {
          "output_type": "stream",
          "name": "stderr",
          "text": [
            "WARNING:tensorflow:Gradients do not exist for variables ['tf_bert_model/bert/pooler/dense/kernel:0', 'tf_bert_model/bert/pooler/dense/bias:0'] when minimizing the loss. If you're using `model.compile()`, did you forget to provide a `loss` argument?\n"
          ]
        },
        {
          "output_type": "stream",
          "name": "stdout",
          "text": [
            "\b\b\b\b\b\b\b\b\b\b\b\b\b\b\b\b\b\b\b\b\b\b\b\b\b\b\b\b\b\b\b\b\b\b\b\b\b\b\b\b\b\b\b\b\b\b\b\b\b\b\b\b\b\b\b\b\b\b\b\b\b\b\b\b\b\b\b\b\b\b\b\b\b\b\b\b\b\b\b\b\b\b\b\b\b\b\b\b\b\b\b\b\b\b\b\b\r118/146 [=======================>......] - ETA: 15:07 - loss: 0.3284 - balanced_accuracy: 0.8919"
          ]
        },
        {
          "output_type": "stream",
          "name": "stderr",
          "text": [
            "WARNING:tensorflow:Gradients do not exist for variables ['tf_bert_model/bert/pooler/dense/kernel:0', 'tf_bert_model/bert/pooler/dense/bias:0'] when minimizing the loss. If you're using `model.compile()`, did you forget to provide a `loss` argument?\n"
          ]
        },
        {
          "output_type": "stream",
          "name": "stdout",
          "text": [
            "\b\b\b\b\b\b\b\b\b\b\b\b\b\b\b\b\b\b\b\b\b\b\b\b\b\b\b\b\b\b\b\b\b\b\b\b\b\b\b\b\b\b\b\b\b\b\b\b\b\b\b\b\b\b\b\b\b\b\b\b\b\b\b\b\b\b\b\b\b\b\b\b\b\b\b\b\b\b\b\b\b\b\b\b\b\b\b\b\b\b\b\b\b\b\b\b\r119/146 [=======================>......] - ETA: 14:34 - loss: 0.3273 - balanced_accuracy: 0.8924"
          ]
        },
        {
          "output_type": "stream",
          "name": "stderr",
          "text": [
            "WARNING:tensorflow:Gradients do not exist for variables ['tf_bert_model/bert/pooler/dense/kernel:0', 'tf_bert_model/bert/pooler/dense/bias:0'] when minimizing the loss. If you're using `model.compile()`, did you forget to provide a `loss` argument?\n"
          ]
        },
        {
          "output_type": "stream",
          "name": "stdout",
          "text": [
            "\b\b\b\b\b\b\b\b\b\b\b\b\b\b\b\b\b\b\b\b\b\b\b\b\b\b\b\b\b\b\b\b\b\b\b\b\b\b\b\b\b\b\b\b\b\b\b\b\b\b\b\b\b\b\b\b\b\b\b\b\b\b\b\b\b\b\b\b\b\b\b\b\b\b\b\b\b\b\b\b\b\b\b\b\b\b\b\b\b\b\b\b\b\b\b\b\r120/146 [=======================>......] - ETA: 14:02 - loss: 0.3254 - balanced_accuracy: 0.8931"
          ]
        },
        {
          "output_type": "stream",
          "name": "stderr",
          "text": [
            "WARNING:tensorflow:Gradients do not exist for variables ['tf_bert_model/bert/pooler/dense/kernel:0', 'tf_bert_model/bert/pooler/dense/bias:0'] when minimizing the loss. If you're using `model.compile()`, did you forget to provide a `loss` argument?\n"
          ]
        },
        {
          "output_type": "stream",
          "name": "stdout",
          "text": [
            "\b\b\b\b\b\b\b\b\b\b\b\b\b\b\b\b\b\b\b\b\b\b\b\b\b\b\b\b\b\b\b\b\b\b\b\b\b\b\b\b\b\b\b\b\b\b\b\b\b\b\b\b\b\b\b\b\b\b\b\b\b\b\b\b\b\b\b\b\b\b\b\b\b\b\b\b\b\b\b\b\b\b\b\b\b\b\b\b\b\b\b\b\b\b\b\b\r121/146 [=======================>......] - ETA: 13:29 - loss: 0.3254 - balanced_accuracy: 0.8930"
          ]
        },
        {
          "output_type": "stream",
          "name": "stderr",
          "text": [
            "WARNING:tensorflow:Gradients do not exist for variables ['tf_bert_model/bert/pooler/dense/kernel:0', 'tf_bert_model/bert/pooler/dense/bias:0'] when minimizing the loss. If you're using `model.compile()`, did you forget to provide a `loss` argument?\n"
          ]
        },
        {
          "output_type": "stream",
          "name": "stdout",
          "text": [
            "\b\b\b\b\b\b\b\b\b\b\b\b\b\b\b\b\b\b\b\b\b\b\b\b\b\b\b\b\b\b\b\b\b\b\b\b\b\b\b\b\b\b\b\b\b\b\b\b\b\b\b\b\b\b\b\b\b\b\b\b\b\b\b\b\b\b\b\b\b\b\b\b\b\b\b\b\b\b\b\b\b\b\b\b\b\b\b\b\b\b\b\b\b\b\b\b\r122/146 [========================>.....] - ETA: 12:57 - loss: 0.3247 - balanced_accuracy: 0.8934"
          ]
        },
        {
          "output_type": "stream",
          "name": "stderr",
          "text": [
            "WARNING:tensorflow:Gradients do not exist for variables ['tf_bert_model/bert/pooler/dense/kernel:0', 'tf_bert_model/bert/pooler/dense/bias:0'] when minimizing the loss. If you're using `model.compile()`, did you forget to provide a `loss` argument?\n"
          ]
        },
        {
          "output_type": "stream",
          "name": "stdout",
          "text": [
            "\b\b\b\b\b\b\b\b\b\b\b\b\b\b\b\b\b\b\b\b\b\b\b\b\b\b\b\b\b\b\b\b\b\b\b\b\b\b\b\b\b\b\b\b\b\b\b\b\b\b\b\b\b\b\b\b\b\b\b\b\b\b\b\b\b\b\b\b\b\b\b\b\b\b\b\b\b\b\b\b\b\b\b\b\b\b\b\b\b\b\b\b\b\b\b\b\r123/146 [========================>.....] - ETA: 12:25 - loss: 0.3255 - balanced_accuracy: 0.8930"
          ]
        },
        {
          "output_type": "stream",
          "name": "stderr",
          "text": [
            "WARNING:tensorflow:Gradients do not exist for variables ['tf_bert_model/bert/pooler/dense/kernel:0', 'tf_bert_model/bert/pooler/dense/bias:0'] when minimizing the loss. If you're using `model.compile()`, did you forget to provide a `loss` argument?\n"
          ]
        },
        {
          "output_type": "stream",
          "name": "stdout",
          "text": [
            "\b\b\b\b\b\b\b\b\b\b\b\b\b\b\b\b\b\b\b\b\b\b\b\b\b\b\b\b\b\b\b\b\b\b\b\b\b\b\b\b\b\b\b\b\b\b\b\b\b\b\b\b\b\b\b\b\b\b\b\b\b\b\b\b\b\b\b\b\b\b\b\b\b\b\b\b\b\b\b\b\b\b\b\b\b\b\b\b\b\b\b\b\b\b\b\b\r124/146 [========================>.....] - ETA: 11:52 - loss: 0.3280 - balanced_accuracy: 0.8916"
          ]
        },
        {
          "output_type": "stream",
          "name": "stderr",
          "text": [
            "WARNING:tensorflow:Gradients do not exist for variables ['tf_bert_model/bert/pooler/dense/kernel:0', 'tf_bert_model/bert/pooler/dense/bias:0'] when minimizing the loss. If you're using `model.compile()`, did you forget to provide a `loss` argument?\n"
          ]
        },
        {
          "output_type": "stream",
          "name": "stdout",
          "text": [
            "\b\b\b\b\b\b\b\b\b\b\b\b\b\b\b\b\b\b\b\b\b\b\b\b\b\b\b\b\b\b\b\b\b\b\b\b\b\b\b\b\b\b\b\b\b\b\b\b\b\b\b\b\b\b\b\b\b\b\b\b\b\b\b\b\b\b\b\b\b\b\b\b\b\b\b\b\b\b\b\b\b\b\b\b\b\b\b\b\b\b\b\b\b\b\b\b\r125/146 [========================>.....] - ETA: 11:20 - loss: 0.3275 - balanced_accuracy: 0.8913"
          ]
        },
        {
          "output_type": "stream",
          "name": "stderr",
          "text": [
            "WARNING:tensorflow:Gradients do not exist for variables ['tf_bert_model/bert/pooler/dense/kernel:0', 'tf_bert_model/bert/pooler/dense/bias:0'] when minimizing the loss. If you're using `model.compile()`, did you forget to provide a `loss` argument?\n"
          ]
        },
        {
          "output_type": "stream",
          "name": "stdout",
          "text": [
            "\b\b\b\b\b\b\b\b\b\b\b\b\b\b\b\b\b\b\b\b\b\b\b\b\b\b\b\b\b\b\b\b\b\b\b\b\b\b\b\b\b\b\b\b\b\b\b\b\b\b\b\b\b\b\b\b\b\b\b\b\b\b\b\b\b\b\b\b\b\b\b\b\b\b\b\b\b\b\b\b\b\b\b\b\b\b\b\b\b\b\b\b\b\b\b\b\r126/146 [========================>.....] - ETA: 10:47 - loss: 0.3271 - balanced_accuracy: 0.8913"
          ]
        },
        {
          "output_type": "stream",
          "name": "stderr",
          "text": [
            "WARNING:tensorflow:Gradients do not exist for variables ['tf_bert_model/bert/pooler/dense/kernel:0', 'tf_bert_model/bert/pooler/dense/bias:0'] when minimizing the loss. If you're using `model.compile()`, did you forget to provide a `loss` argument?\n"
          ]
        },
        {
          "output_type": "stream",
          "name": "stdout",
          "text": [
            "\b\b\b\b\b\b\b\b\b\b\b\b\b\b\b\b\b\b\b\b\b\b\b\b\b\b\b\b\b\b\b\b\b\b\b\b\b\b\b\b\b\b\b\b\b\b\b\b\b\b\b\b\b\b\b\b\b\b\b\b\b\b\b\b\b\b\b\b\b\b\b\b\b\b\b\b\b\b\b\b\b\b\b\b\b\b\b\b\b\b\b\b\b\b\b\b\r127/146 [=========================>....] - ETA: 10:15 - loss: 0.3253 - balanced_accuracy: 0.8922"
          ]
        },
        {
          "output_type": "stream",
          "name": "stderr",
          "text": [
            "WARNING:tensorflow:Gradients do not exist for variables ['tf_bert_model/bert/pooler/dense/kernel:0', 'tf_bert_model/bert/pooler/dense/bias:0'] when minimizing the loss. If you're using `model.compile()`, did you forget to provide a `loss` argument?\n"
          ]
        },
        {
          "output_type": "stream",
          "name": "stdout",
          "text": [
            "\b\b\b\b\b\b\b\b\b\b\b\b\b\b\b\b\b\b\b\b\b\b\b\b\b\b\b\b\b\b\b\b\b\b\b\b\b\b\b\b\b\b\b\b\b\b\b\b\b\b\b\b\b\b\b\b\b\b\b\b\b\b\b\b\b\b\b\b\b\b\b\b\b\b\b\b\b\b\b\b\b\b\b\b\b\b\b\b\b\b\b\b\b\b\b\b\r128/146 [=========================>....] - ETA: 9:43 - loss: 0.3250 - balanced_accuracy: 0.8926 "
          ]
        },
        {
          "output_type": "stream",
          "name": "stderr",
          "text": [
            "WARNING:tensorflow:Gradients do not exist for variables ['tf_bert_model/bert/pooler/dense/kernel:0', 'tf_bert_model/bert/pooler/dense/bias:0'] when minimizing the loss. If you're using `model.compile()`, did you forget to provide a `loss` argument?\n"
          ]
        },
        {
          "output_type": "stream",
          "name": "stdout",
          "text": [
            "\b\b\b\b\b\b\b\b\b\b\b\b\b\b\b\b\b\b\b\b\b\b\b\b\b\b\b\b\b\b\b\b\b\b\b\b\b\b\b\b\b\b\b\b\b\b\b\b\b\b\b\b\b\b\b\b\b\b\b\b\b\b\b\b\b\b\b\b\b\b\b\b\b\b\b\b\b\b\b\b\b\b\b\b\b\b\b\b\b\b\b\b\b\b\b\r129/146 [=========================>....] - ETA: 9:10 - loss: 0.3265 - balanced_accuracy: 0.8923"
          ]
        },
        {
          "output_type": "stream",
          "name": "stderr",
          "text": [
            "WARNING:tensorflow:Gradients do not exist for variables ['tf_bert_model/bert/pooler/dense/kernel:0', 'tf_bert_model/bert/pooler/dense/bias:0'] when minimizing the loss. If you're using `model.compile()`, did you forget to provide a `loss` argument?\n"
          ]
        },
        {
          "output_type": "stream",
          "name": "stdout",
          "text": [
            "\b\b\b\b\b\b\b\b\b\b\b\b\b\b\b\b\b\b\b\b\b\b\b\b\b\b\b\b\b\b\b\b\b\b\b\b\b\b\b\b\b\b\b\b\b\b\b\b\b\b\b\b\b\b\b\b\b\b\b\b\b\b\b\b\b\b\b\b\b\b\b\b\b\b\b\b\b\b\b\b\b\b\b\b\b\b\b\b\b\b\b\b\b\b\b\r130/146 [=========================>....] - ETA: 8:38 - loss: 0.3262 - balanced_accuracy: 0.8925"
          ]
        },
        {
          "output_type": "stream",
          "name": "stderr",
          "text": [
            "WARNING:tensorflow:Gradients do not exist for variables ['tf_bert_model/bert/pooler/dense/kernel:0', 'tf_bert_model/bert/pooler/dense/bias:0'] when minimizing the loss. If you're using `model.compile()`, did you forget to provide a `loss` argument?\n"
          ]
        },
        {
          "output_type": "stream",
          "name": "stdout",
          "text": [
            "\b\b\b\b\b\b\b\b\b\b\b\b\b\b\b\b\b\b\b\b\b\b\b\b\b\b\b\b\b\b\b\b\b\b\b\b\b\b\b\b\b\b\b\b\b\b\b\b\b\b\b\b\b\b\b\b\b\b\b\b\b\b\b\b\b\b\b\b\b\b\b\b\b\b\b\b\b\b\b\b\b\b\b\b\b\b\b\b\b\b\b\b\b\b\b\r131/146 [=========================>....] - ETA: 8:05 - loss: 0.3259 - balanced_accuracy: 0.8927"
          ]
        },
        {
          "output_type": "stream",
          "name": "stderr",
          "text": [
            "WARNING:tensorflow:Gradients do not exist for variables ['tf_bert_model/bert/pooler/dense/kernel:0', 'tf_bert_model/bert/pooler/dense/bias:0'] when minimizing the loss. If you're using `model.compile()`, did you forget to provide a `loss` argument?\n"
          ]
        },
        {
          "output_type": "stream",
          "name": "stdout",
          "text": [
            "\b\b\b\b\b\b\b\b\b\b\b\b\b\b\b\b\b\b\b\b\b\b\b\b\b\b\b\b\b\b\b\b\b\b\b\b\b\b\b\b\b\b\b\b\b\b\b\b\b\b\b\b\b\b\b\b\b\b\b\b\b\b\b\b\b\b\b\b\b\b\b\b\b\b\b\b\b\b\b\b\b\b\b\b\b\b\b\b\b\b\b\b\b\b\b\r132/146 [==========================>...] - ETA: 7:33 - loss: 0.3265 - balanced_accuracy: 0.8925"
          ]
        },
        {
          "output_type": "stream",
          "name": "stderr",
          "text": [
            "WARNING:tensorflow:Gradients do not exist for variables ['tf_bert_model/bert/pooler/dense/kernel:0', 'tf_bert_model/bert/pooler/dense/bias:0'] when minimizing the loss. If you're using `model.compile()`, did you forget to provide a `loss` argument?\n"
          ]
        },
        {
          "output_type": "stream",
          "name": "stdout",
          "text": [
            "\b\b\b\b\b\b\b\b\b\b\b\b\b\b\b\b\b\b\b\b\b\b\b\b\b\b\b\b\b\b\b\b\b\b\b\b\b\b\b\b\b\b\b\b\b\b\b\b\b\b\b\b\b\b\b\b\b\b\b\b\b\b\b\b\b\b\b\b\b\b\b\b\b\b\b\b\b\b\b\b\b\b\b\b\b\b\b\b\b\b\b\b\b\b\b\r133/146 [==========================>...] - ETA: 7:01 - loss: 0.3278 - balanced_accuracy: 0.8920"
          ]
        },
        {
          "output_type": "stream",
          "name": "stderr",
          "text": [
            "WARNING:tensorflow:Gradients do not exist for variables ['tf_bert_model/bert/pooler/dense/kernel:0', 'tf_bert_model/bert/pooler/dense/bias:0'] when minimizing the loss. If you're using `model.compile()`, did you forget to provide a `loss` argument?\n"
          ]
        },
        {
          "output_type": "stream",
          "name": "stdout",
          "text": [
            "\b\b\b\b\b\b\b\b\b\b\b\b\b\b\b\b\b\b\b\b\b\b\b\b\b\b\b\b\b\b\b\b\b\b\b\b\b\b\b\b\b\b\b\b\b\b\b\b\b\b\b\b\b\b\b\b\b\b\b\b\b\b\b\b\b\b\b\b\b\b\b\b\b\b\b\b\b\b\b\b\b\b\b\b\b\b\b\b\b\b\b\b\b\b\b\r134/146 [==========================>...] - ETA: 6:28 - loss: 0.3273 - balanced_accuracy: 0.8920"
          ]
        },
        {
          "output_type": "stream",
          "name": "stderr",
          "text": [
            "WARNING:tensorflow:Gradients do not exist for variables ['tf_bert_model/bert/pooler/dense/kernel:0', 'tf_bert_model/bert/pooler/dense/bias:0'] when minimizing the loss. If you're using `model.compile()`, did you forget to provide a `loss` argument?\n"
          ]
        },
        {
          "output_type": "stream",
          "name": "stdout",
          "text": [
            "\b\b\b\b\b\b\b\b\b\b\b\b\b\b\b\b\b\b\b\b\b\b\b\b\b\b\b\b\b\b\b\b\b\b\b\b\b\b\b\b\b\b\b\b\b\b\b\b\b\b\b\b\b\b\b\b\b\b\b\b\b\b\b\b\b\b\b\b\b\b\b\b\b\b\b\b\b\b\b\b\b\b\b\b\b\b\b\b\b\b\b\b\b\b\b\r135/146 [==========================>...] - ETA: 5:56 - loss: 0.3270 - balanced_accuracy: 0.8926"
          ]
        },
        {
          "output_type": "stream",
          "name": "stderr",
          "text": [
            "WARNING:tensorflow:Gradients do not exist for variables ['tf_bert_model/bert/pooler/dense/kernel:0', 'tf_bert_model/bert/pooler/dense/bias:0'] when minimizing the loss. If you're using `model.compile()`, did you forget to provide a `loss` argument?\n"
          ]
        },
        {
          "output_type": "stream",
          "name": "stdout",
          "text": [
            "\b\b\b\b\b\b\b\b\b\b\b\b\b\b\b\b\b\b\b\b\b\b\b\b\b\b\b\b\b\b\b\b\b\b\b\b\b\b\b\b\b\b\b\b\b\b\b\b\b\b\b\b\b\b\b\b\b\b\b\b\b\b\b\b\b\b\b\b\b\b\b\b\b\b\b\b\b\b\b\b\b\b\b\b\b\b\b\b\b\b\b\b\b\b\b\r136/146 [==========================>...] - ETA: 5:23 - loss: 0.3263 - balanced_accuracy: 0.8928"
          ]
        },
        {
          "output_type": "stream",
          "name": "stderr",
          "text": [
            "WARNING:tensorflow:Gradients do not exist for variables ['tf_bert_model/bert/pooler/dense/kernel:0', 'tf_bert_model/bert/pooler/dense/bias:0'] when minimizing the loss. If you're using `model.compile()`, did you forget to provide a `loss` argument?\n"
          ]
        },
        {
          "output_type": "stream",
          "name": "stdout",
          "text": [
            "\b\b\b\b\b\b\b\b\b\b\b\b\b\b\b\b\b\b\b\b\b\b\b\b\b\b\b\b\b\b\b\b\b\b\b\b\b\b\b\b\b\b\b\b\b\b\b\b\b\b\b\b\b\b\b\b\b\b\b\b\b\b\b\b\b\b\b\b\b\b\b\b\b\b\b\b\b\b\b\b\b\b\b\b\b\b\b\b\b\b\b\b\b\b\b\r137/146 [===========================>..] - ETA: 4:51 - loss: 0.3269 - balanced_accuracy: 0.8925"
          ]
        },
        {
          "output_type": "stream",
          "name": "stderr",
          "text": [
            "WARNING:tensorflow:Gradients do not exist for variables ['tf_bert_model/bert/pooler/dense/kernel:0', 'tf_bert_model/bert/pooler/dense/bias:0'] when minimizing the loss. If you're using `model.compile()`, did you forget to provide a `loss` argument?\n"
          ]
        },
        {
          "output_type": "stream",
          "name": "stdout",
          "text": [
            "\b\b\b\b\b\b\b\b\b\b\b\b\b\b\b\b\b\b\b\b\b\b\b\b\b\b\b\b\b\b\b\b\b\b\b\b\b\b\b\b\b\b\b\b\b\b\b\b\b\b\b\b\b\b\b\b\b\b\b\b\b\b\b\b\b\b\b\b\b\b\b\b\b\b\b\b\b\b\b\b\b\b\b\b\b\b\b\b\b\b\b\b\b\b\b\r138/146 [===========================>..] - ETA: 4:18 - loss: 0.3263 - balanced_accuracy: 0.8927"
          ]
        },
        {
          "output_type": "stream",
          "name": "stderr",
          "text": [
            "WARNING:tensorflow:Gradients do not exist for variables ['tf_bert_model/bert/pooler/dense/kernel:0', 'tf_bert_model/bert/pooler/dense/bias:0'] when minimizing the loss. If you're using `model.compile()`, did you forget to provide a `loss` argument?\n"
          ]
        },
        {
          "output_type": "stream",
          "name": "stdout",
          "text": [
            "\b\b\b\b\b\b\b\b\b\b\b\b\b\b\b\b\b\b\b\b\b\b\b\b\b\b\b\b\b\b\b\b\b\b\b\b\b\b\b\b\b\b\b\b\b\b\b\b\b\b\b\b\b\b\b\b\b\b\b\b\b\b\b\b\b\b\b\b\b\b\b\b\b\b\b\b\b\b\b\b\b\b\b\b\b\b\b\b\b\b\b\b\b\b\b\r139/146 [===========================>..] - ETA: 3:46 - loss: 0.3255 - balanced_accuracy: 0.8929"
          ]
        },
        {
          "output_type": "stream",
          "name": "stderr",
          "text": [
            "WARNING:tensorflow:Gradients do not exist for variables ['tf_bert_model/bert/pooler/dense/kernel:0', 'tf_bert_model/bert/pooler/dense/bias:0'] when minimizing the loss. If you're using `model.compile()`, did you forget to provide a `loss` argument?\n"
          ]
        },
        {
          "output_type": "stream",
          "name": "stdout",
          "text": [
            "\b\b\b\b\b\b\b\b\b\b\b\b\b\b\b\b\b\b\b\b\b\b\b\b\b\b\b\b\b\b\b\b\b\b\b\b\b\b\b\b\b\b\b\b\b\b\b\b\b\b\b\b\b\b\b\b\b\b\b\b\b\b\b\b\b\b\b\b\b\b\b\b\b\b\b\b\b\b\b\b\b\b\b\b\b\b\b\b\b\b\b\b\b\b\b\r140/146 [===========================>..] - ETA: 3:13 - loss: 0.3259 - balanced_accuracy: 0.8929"
          ]
        },
        {
          "output_type": "stream",
          "name": "stderr",
          "text": [
            "WARNING:tensorflow:Gradients do not exist for variables ['tf_bert_model/bert/pooler/dense/kernel:0', 'tf_bert_model/bert/pooler/dense/bias:0'] when minimizing the loss. If you're using `model.compile()`, did you forget to provide a `loss` argument?\n"
          ]
        },
        {
          "output_type": "stream",
          "name": "stdout",
          "text": [
            "\b\b\b\b\b\b\b\b\b\b\b\b\b\b\b\b\b\b\b\b\b\b\b\b\b\b\b\b\b\b\b\b\b\b\b\b\b\b\b\b\b\b\b\b\b\b\b\b\b\b\b\b\b\b\b\b\b\b\b\b\b\b\b\b\b\b\b\b\b\b\b\b\b\b\b\b\b\b\b\b\b\b\b\b\b\b\b\b\b\b\b\b\b\b\b\r141/146 [===========================>..] - ETA: 2:41 - loss: 0.3262 - balanced_accuracy: 0.8928"
          ]
        },
        {
          "output_type": "stream",
          "name": "stderr",
          "text": [
            "WARNING:tensorflow:Gradients do not exist for variables ['tf_bert_model/bert/pooler/dense/kernel:0', 'tf_bert_model/bert/pooler/dense/bias:0'] when minimizing the loss. If you're using `model.compile()`, did you forget to provide a `loss` argument?\n"
          ]
        },
        {
          "output_type": "stream",
          "name": "stdout",
          "text": [
            "\b\b\b\b\b\b\b\b\b\b\b\b\b\b\b\b\b\b\b\b\b\b\b\b\b\b\b\b\b\b\b\b\b\b\b\b\b\b\b\b\b\b\b\b\b\b\b\b\b\b\b\b\b\b\b\b\b\b\b\b\b\b\b\b\b\b\b\b\b\b\b\b\b\b\b\b\b\b\b\b\b\b\b\b\b\b\b\b\b\b\b\b\b\b\b\r142/146 [============================>.] - ETA: 2:09 - loss: 0.3253 - balanced_accuracy: 0.8928"
          ]
        },
        {
          "output_type": "stream",
          "name": "stderr",
          "text": [
            "WARNING:tensorflow:Gradients do not exist for variables ['tf_bert_model/bert/pooler/dense/kernel:0', 'tf_bert_model/bert/pooler/dense/bias:0'] when minimizing the loss. If you're using `model.compile()`, did you forget to provide a `loss` argument?\n"
          ]
        },
        {
          "output_type": "stream",
          "name": "stdout",
          "text": [
            "\b\b\b\b\b\b\b\b\b\b\b\b\b\b\b\b\b\b\b\b\b\b\b\b\b\b\b\b\b\b\b\b\b\b\b\b\b\b\b\b\b\b\b\b\b\b\b\b\b\b\b\b\b\b\b\b\b\b\b\b\b\b\b\b\b\b\b\b\b\b\b\b\b\b\b\b\b\b\b\b\b\b\b\b\b\b\b\b\b\b\b\b\b\b\b\r143/146 [============================>.] - ETA: 1:36 - loss: 0.3253 - balanced_accuracy: 0.8930"
          ]
        },
        {
          "output_type": "stream",
          "name": "stderr",
          "text": [
            "WARNING:tensorflow:Gradients do not exist for variables ['tf_bert_model/bert/pooler/dense/kernel:0', 'tf_bert_model/bert/pooler/dense/bias:0'] when minimizing the loss. If you're using `model.compile()`, did you forget to provide a `loss` argument?\n"
          ]
        },
        {
          "output_type": "stream",
          "name": "stdout",
          "text": [
            "\b\b\b\b\b\b\b\b\b\b\b\b\b\b\b\b\b\b\b\b\b\b\b\b\b\b\b\b\b\b\b\b\b\b\b\b\b\b\b\b\b\b\b\b\b\b\b\b\b\b\b\b\b\b\b\b\b\b\b\b\b\b\b\b\b\b\b\b\b\b\b\b\b\b\b\b\b\b\b\b\b\b\b\b\b\b\b\b\b\b\b\b\b\b\b\r144/146 [============================>.] - ETA: 1:04 - loss: 0.3248 - balanced_accuracy: 0.8931"
          ]
        },
        {
          "output_type": "stream",
          "name": "stderr",
          "text": [
            "WARNING:tensorflow:Gradients do not exist for variables ['tf_bert_model/bert/pooler/dense/kernel:0', 'tf_bert_model/bert/pooler/dense/bias:0'] when minimizing the loss. If you're using `model.compile()`, did you forget to provide a `loss` argument?\n"
          ]
        },
        {
          "output_type": "stream",
          "name": "stdout",
          "text": [
            "\b\b\b\b\b\b\b\b\b\b\b\b\b\b\b\b\b\b\b\b\b\b\b\b\b\b\b\b\b\b\b\b\b\b\b\b\b\b\b\b\b\b\b\b\b\b\b\b\b\b\b\b\b\b\b\b\b\b\b\b\b\b\b\b\b\b\b\b\b\b\b\b\b\b\b\b\b\b\b\b\b\b\b\b\b\b\b\b\b\b\b\b\b\b\b\r145/146 [============================>.] - ETA: 32s - loss: 0.3247 - balanced_accuracy: 0.8931 "
          ]
        },
        {
          "output_type": "stream",
          "name": "stderr",
          "text": [
            "WARNING:tensorflow:Gradients do not exist for variables ['tf_bert_model/bert/pooler/dense/kernel:0', 'tf_bert_model/bert/pooler/dense/bias:0'] when minimizing the loss. If you're using `model.compile()`, did you forget to provide a `loss` argument?\n"
          ]
        },
        {
          "output_type": "stream",
          "name": "stdout",
          "text": [
            "146/146 [==============================] - 5266s 36s/step - loss: 0.3241 - balanced_accuracy: 0.8934 - val_loss: 0.7988 - val_balanced_accuracy: 0.7371\n"
          ]
        }
      ]
    },
    {
      "cell_type": "code",
      "source": [
        "## saving the model to the files (with keras)\n",
        "# model.save(\"/content/deeplearning_model.h5\")\n",
        "\n",
        "## loading the model using keras\n",
        "# import transformers\n",
        "# loaded_model = tf.keras.models.load_model('/content/my_model.h5', custom_objects={\"TFBertModel\": transformers.TFBertModel})\n"
      ],
      "metadata": {
        "id": "-NXEoWUOVany"
      },
      "execution_count": null,
      "outputs": []
    },
    {
      "cell_type": "markdown",
      "source": [
        "# 5.Prediction Part"
      ],
      "metadata": {
        "id": "w0cJTSaRRZNp"
      }
    },
    {
      "cell_type": "code",
      "source": [
        "predicted_raw = model.predict({'input_ids':x_test['input_ids'],'attention_mask':x_test['attention_mask']})"
      ],
      "metadata": {
        "execution": {
          "iopub.status.busy": "2023-01-07T10:33:47.348521Z",
          "iopub.execute_input": "2023-01-07T10:33:47.349408Z",
          "iopub.status.idle": "2023-01-07T10:47:09.323929Z",
          "shell.execute_reply.started": "2023-01-07T10:33:47.349349Z",
          "shell.execute_reply": "2023-01-07T10:47:09.322786Z"
        },
        "trusted": true,
        "colab": {
          "base_uri": "https://localhost:8080/"
        },
        "id": "MgE1e839RZNp",
        "outputId": "56fd209e-0bf5-483b-8a17-5479363d5f0e"
      },
      "execution_count": null,
      "outputs": [
        {
          "output_type": "stream",
          "name": "stdout",
          "text": [
            "71/71 [==============================] - 570s 8s/step\n"
          ]
        }
      ]
    },
    {
      "cell_type": "code",
      "source": [
        "predicted_raw[0]"
      ],
      "metadata": {
        "execution": {
          "iopub.status.busy": "2023-01-07T11:04:15.997363Z",
          "iopub.execute_input": "2023-01-07T11:04:15.997809Z",
          "iopub.status.idle": "2023-01-07T11:04:16.005601Z",
          "shell.execute_reply.started": "2023-01-07T11:04:15.997774Z",
          "shell.execute_reply": "2023-01-07T11:04:16.004327Z"
        },
        "trusted": true,
        "colab": {
          "base_uri": "https://localhost:8080/"
        },
        "id": "Pl5CTVQ3RZNq",
        "outputId": "f48ec7aa-1b47-4b47-fb89-dedf4f0c8fe1"
      },
      "execution_count": null,
      "outputs": [
        {
          "output_type": "execute_result",
          "data": {
            "text/plain": [
              "array([0.47959033, 0.34068188, 0.89819926, 0.46756893, 0.54180896,\n",
              "       0.8597983 ], dtype=float32)"
            ]
          },
          "metadata": {},
          "execution_count": 36
        }
      ]
    },
    {
      "cell_type": "code",
      "source": [
        "y_predicted = np.argmax(predicted_raw, axis = 1)\n",
        "y_predicted"
      ],
      "metadata": {
        "execution": {
          "iopub.status.busy": "2023-01-07T10:47:09.336029Z",
          "iopub.execute_input": "2023-01-07T10:47:09.336479Z",
          "iopub.status.idle": "2023-01-07T10:47:09.350461Z",
          "shell.execute_reply.started": "2023-01-07T10:47:09.336436Z",
          "shell.execute_reply": "2023-01-07T10:47:09.349144Z"
        },
        "trusted": true,
        "colab": {
          "base_uri": "https://localhost:8080/"
        },
        "id": "nPHJ4vv2RZNq",
        "outputId": "0cb2e22f-0b5e-4c4c-8161-4a63884b8c4a"
      },
      "execution_count": null,
      "outputs": [
        {
          "output_type": "execute_result",
          "data": {
            "text/plain": [
              "array([2, 1, 5, ..., 0, 1, 3])"
            ]
          },
          "metadata": {},
          "execution_count": 37
        }
      ]
    },
    {
      "cell_type": "code",
      "source": [
        "data_test['label']"
      ],
      "metadata": {
        "execution": {
          "iopub.status.busy": "2023-01-07T10:47:09.351835Z",
          "iopub.execute_input": "2023-01-07T10:47:09.352501Z",
          "iopub.status.idle": "2023-01-07T10:47:09.365452Z",
          "shell.execute_reply.started": "2023-01-07T10:47:09.352444Z",
          "shell.execute_reply": "2023-01-07T10:47:09.364044Z"
        },
        "trusted": true,
        "colab": {
          "base_uri": "https://localhost:8080/"
        },
        "id": "qM3qf4wQRZNq",
        "outputId": "d954c04a-89fd-4673-d771-57f2deea911a"
      },
      "execution_count": null,
      "outputs": [
        {
          "output_type": "execute_result",
          "data": {
            "text/plain": [
              "1792    4\n",
              "5758    1\n",
              "244     5\n",
              "1178    1\n",
              "335     5\n",
              "       ..\n",
              "4759    5\n",
              "5800    5\n",
              "5531    2\n",
              "5447    2\n",
              "708     3\n",
              "Name: label, Length: 2244, dtype: category\n",
              "Categories (6, int64): [0, 1, 2, 3, 4, 5]"
            ]
          },
          "metadata": {},
          "execution_count": 38
        }
      ]
    },
    {
      "cell_type": "code",
      "source": [
        "accuracy_score(data_test['label'],y_predicted)"
      ],
      "metadata": {
        "execution": {
          "iopub.status.busy": "2023-01-07T10:47:09.367088Z",
          "iopub.execute_input": "2023-01-07T10:47:09.367460Z",
          "iopub.status.idle": "2023-01-07T10:47:09.378501Z",
          "shell.execute_reply.started": "2023-01-07T10:47:09.367430Z",
          "shell.execute_reply": "2023-01-07T10:47:09.377384Z"
        },
        "trusted": true,
        "colab": {
          "base_uri": "https://localhost:8080/"
        },
        "id": "2bSImPXsRZNq",
        "outputId": "56dadc38-bc58-449d-852a-b0848f28646e"
      },
      "execution_count": null,
      "outputs": [
        {
          "output_type": "execute_result",
          "data": {
            "text/plain": [
              "0.7370766488413547"
            ]
          },
          "metadata": {},
          "execution_count": 40
        }
      ]
    },
    {
      "cell_type": "code",
      "source": [
        "print(classification_report(data_test['label'], y_predicted))"
      ],
      "metadata": {
        "execution": {
          "iopub.status.busy": "2023-01-07T10:47:09.380341Z",
          "iopub.execute_input": "2023-01-07T10:47:09.380796Z",
          "iopub.status.idle": "2023-01-07T10:47:09.406713Z",
          "shell.execute_reply.started": "2023-01-07T10:47:09.380752Z",
          "shell.execute_reply": "2023-01-07T10:47:09.405576Z"
        },
        "trusted": true,
        "colab": {
          "base_uri": "https://localhost:8080/"
        },
        "id": "EuT0ApuvRZNq",
        "outputId": "0b053f78-7d5a-45fc-f20c-bb9adee362a9"
      },
      "execution_count": null,
      "outputs": [
        {
          "output_type": "stream",
          "name": "stdout",
          "text": [
            "              precision    recall  f1-score   support\n",
            "\n",
            "           0       0.84      0.90      0.87       325\n",
            "           1       0.82      0.75      0.79       323\n",
            "           2       0.57      0.65      0.61       324\n",
            "           3       0.77      0.67      0.72       324\n",
            "           4       0.73      0.57      0.64       317\n",
            "           5       0.72      0.79      0.75       631\n",
            "\n",
            "    accuracy                           0.73      2244\n",
            "   macro avg       0.74      0.72      0.73      2244\n",
            "weighted avg       0.74      0.73      0.73      2244\n",
            "\n"
          ]
        }
      ]
    },
    {
      "cell_type": "markdown",
      "source": [
        "# **Results**\n",
        "* from both the fitting of the model and from the testing the results are the same\n",
        "  * 74% of predicting the emotional from untrained sentence\n",
        "  * the **confusion matrix** tell us that its hard to predict **anger** emotion\n",
        "  but easy to predict **joy and fear.**"
      ],
      "metadata": {
        "id": "80dE7j0J8QdM"
      }
    },
    {
      "cell_type": "code",
      "source": [
        "plt.figure(figsize=(10,7))\n",
        "sns.heatmap(confusion_matrix(data_test['label'],y_predicted),annot=True,cmap='viridis')\n",
        "plt.show()"
      ],
      "metadata": {
        "execution": {
          "iopub.status.busy": "2023-01-07T10:47:09.408257Z",
          "iopub.execute_input": "2023-01-07T10:47:09.408567Z",
          "iopub.status.idle": "2023-01-07T10:47:09.871388Z",
          "shell.execute_reply.started": "2023-01-07T10:47:09.408538Z",
          "shell.execute_reply": "2023-01-07T10:47:09.870087Z"
        },
        "trusted": true,
        "colab": {
          "base_uri": "https://localhost:8080/",
          "height": 432
        },
        "id": "g4uaoIE_RZNq",
        "outputId": "64621e66-7dbe-4944-d043-727020502082"
      },
      "execution_count": null,
      "outputs": [
        {
          "output_type": "display_data",
          "data": {
            "text/plain": [
              "<Figure size 720x504 with 2 Axes>"
            ],
            "image/png": "[encoded data removed]"
          },
          "metadata": {
            "needs_background": "light"
          }
        }
      ]
    },
    {
      "cell_type": "markdown",
      "source": [
        "# 5. Prediction on custom text"
      ],
      "metadata": {
        "id": "b8_aWbQdRZNq"
      }
    },
    {
      "cell_type": "code",
      "source": [
        "texts = input(str('input the text'))\n",
        "\n",
        "x_val = tokenizer(\n",
        "    text=texts,\n",
        "    add_special_tokens=True,\n",
        "    max_length=70,\n",
        "    truncation=True,\n",
        "    padding='max_length', \n",
        "    return_tensors='tf',\n",
        "    return_token_type_ids = False,\n",
        "    return_attention_mask = True,\n",
        "    verbose = True) \n",
        "validation = model.predict({'input_ids':x_val['input_ids'],'attention_mask':x_val['attention_mask']})*100\n",
        "validation"
      ],
      "metadata": {
        "execution": {
          "iopub.status.busy": "2023-01-07T11:42:32.955382Z",
          "iopub.execute_input": "2023-01-07T11:42:32.956286Z"
        },
        "trusted": true,
        "colab": {
          "base_uri": "https://localhost:8080/"
        },
        "id": "WJrutRdFRZNq",
        "outputId": "adcd93f2-ad72-4731-972f-69324109922a"
      },
      "execution_count": null,
      "outputs": [
        {
          "output_type": "stream",
          "name": "stdout",
          "text": [
            "input the textThe time I knocked a deer down - the sight of the animal's injuries and helplessness.  The realization that the animal was so badly hurt that it had to be put down, and when the animal screamed at the moment of death.\n",
            "1/1 [==============================] - 1s 607ms/step\n"
          ]
        },
        {
          "output_type": "execute_result",
          "data": {
            "text/plain": [
              "array([[ 6.3110642, 54.65519  , 58.01241  , 86.62576  , 95.07942  ,\n",
              "        80.78279  ]], dtype=float32)"
            ]
          },
          "metadata": {},
          "execution_count": 34
        }
      ]
    },
    {
      "cell_type": "code",
      "source": [
        "for key , value in zip(encoded_dict.keys(),validation[0]):\n",
        "    print(key,value)"
      ],
      "metadata": {
        "execution": {
          "iopub.status.busy": "2023-01-07T11:42:27.957183Z",
          "iopub.execute_input": "2023-01-07T11:42:27.957611Z",
          "iopub.status.idle": "2023-01-07T11:42:27.964290Z",
          "shell.execute_reply.started": "2023-01-07T11:42:27.957579Z",
          "shell.execute_reply": "2023-01-07T11:42:27.962898Z"
        },
        "trusted": true,
        "colab": {
          "base_uri": "https://localhost:8080/"
        },
        "id": "5TLNHfzBRZNr",
        "outputId": "4eccb1d0-2496-445e-b203-dce61fc87de1"
      },
      "execution_count": null,
      "outputs": [
        {
          "output_type": "stream",
          "name": "stdout",
          "text": [
            "anger 21.19654\n",
            "fear 97.27436\n",
            "joy 35.059303\n",
            "love 30.612383\n",
            "sadness 11.483111\n",
            "surprise 58.521206\n"
          ]
        }
      ]
    },
    {
      "cell_type": "markdown",
      "source": [
        "# Thanking you"
      ],
      "metadata": {
        "id": "opbGu3csRZNr"
      }
    }
  ]
}